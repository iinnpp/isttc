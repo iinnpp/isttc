{
 "cells": [
  {
   "cell_type": "markdown",
   "id": "3cf22309-3217-4aa3-abad-42b40ea8a35e",
   "metadata": {},
   "source": [
    "Load dataframes with acf and calculate tau"
   ]
  },
  {
   "cell_type": "code",
   "execution_count": 1,
   "id": "16c30cfa-24a1-44c4-ace1-267751e47a0d",
   "metadata": {},
   "outputs": [],
   "source": [
    "import pandas as pd\n",
    "import numpy as np\n",
    "import sys\n",
    "from scipy.optimize import curve_fit, OptimizeWarning\n",
    "from sklearn.metrics import r2_score\n",
    "from scipy import stats\n",
    "import matplotlib.pyplot as plt\n",
    "import seaborn as sns\n",
    "\n",
    "import warnings"
   ]
  },
  {
   "cell_type": "markdown",
   "id": "133ecf33-82c2-4e58-afd5-cfcc36ab0136",
   "metadata": {},
   "source": [
    "### Get the data"
   ]
  },
  {
   "cell_type": "code",
   "execution_count": 2,
   "id": "a5661121-bdd2-4573-80b1-860113259760",
   "metadata": {},
   "outputs": [],
   "source": [
    "results_folder = 'D:\\\\projects_q_30_10_2024\\\\isttc\\\\results\\\\monkey\\\\fixation_period_1000ms\\\\'\n",
    "save_folder = 'D:\\\\projects_q_30_10_2024\\\\isttc\\\\results\\\\monkey\\\\fixation_period_1000ms\\\\'"
   ]
  },
  {
   "cell_type": "code",
   "execution_count": 3,
   "id": "af1768d2-1e29-48f2-ac7d-ef340456a376",
   "metadata": {},
   "outputs": [],
   "source": [
    "def get_tau_df(file_name_):\n",
    "    n_lags = 20\n",
    "    acf_cols = ['acf_' + str(i) for i in range(n_lags)]\n",
    "    \n",
    "    acf_df = pd.read_pickle(results_folder + file_name_)\n",
    "    \n",
    "    n_rows_with_nans = acf_df[acf_cols[:-1]].isnull().any(axis=1).sum()\n",
    "    n_rows_with_nans_perc = n_rows_with_nans / len(acf_df) * 100\n",
    "    acf_df.dropna(inplace=True)\n",
    "    \n",
    "    tau_df = calc_tau(acf_df, acf_cols[:-1])\n",
    "    n_rows_with_nans_tau = tau_df['tau_ms'].isnull().sum()\n",
    "    n_rows_with_nans_tau_perc = n_rows_with_nans_tau / len(tau_df) * 100\n",
    "    tau_df.dropna(inplace=True)\n",
    "    \n",
    "    print('acf n_rows_with_nans_perc {}, tau n_rows_with_nans_tau_perc {}'.format(n_rows_with_nans_perc, n_rows_with_nans_tau_perc))\n",
    "\n",
    "    return tau_df, n_rows_with_nans_perc, n_rows_with_nans_tau_perc"
   ]
  },
  {
   "cell_type": "code",
   "execution_count": 11,
   "id": "034f5b3b-6c5d-4dd6-83ff-28096dd176f7",
   "metadata": {},
   "outputs": [
    {
     "name": "stdout",
     "output_type": "stream",
     "text": [
      "Calculating taus for (540, 19)\n",
      "RuntimeError: Optimal parameters not found: Number of calls to function has reached maxfev = 5000.\n",
      "OptimizeWarning: Covariance of the parameters could not be estimated\n",
      "RuntimeError: Optimal parameters not found: Number of calls to function has reached maxfev = 5000.\n",
      "OptimizeWarning: Covariance of the parameters could not be estimated\n",
      "RuntimeError: Optimal parameters not found: Number of calls to function has reached maxfev = 5000.\n",
      "RuntimeError: Optimal parameters not found: Number of calls to function has reached maxfev = 5000.\n",
      "RuntimeError: Optimal parameters not found: Number of calls to function has reached maxfev = 5000.\n",
      "RuntimeError: Optimal parameters not found: Number of calls to function has reached maxfev = 5000.\n",
      "OptimizeWarning: Covariance of the parameters could not be estimated\n",
      "RuntimeError: Optimal parameters not found: Number of calls to function has reached maxfev = 5000.\n",
      "RuntimeError: Optimal parameters not found: Number of calls to function has reached maxfev = 5000.\n",
      "RuntimeError: Optimal parameters not found: Number of calls to function has reached maxfev = 5000.\n",
      "RuntimeError: Optimal parameters not found: Number of calls to function has reached maxfev = 5000.\n",
      "RuntimeError: Optimal parameters not found: Number of calls to function has reached maxfev = 5000.\n",
      "OptimizeWarning: Covariance of the parameters could not be estimated\n",
      "RuntimeError: Optimal parameters not found: Number of calls to function has reached maxfev = 5000.\n",
      "RuntimeError: Optimal parameters not found: Number of calls to function has reached maxfev = 5000.\n",
      "OptimizeWarning: Covariance of the parameters could not be estimated\n",
      "RuntimeError: Optimal parameters not found: Number of calls to function has reached maxfev = 5000.\n",
      "RuntimeError: Optimal parameters not found: Number of calls to function has reached maxfev = 5000.\n",
      "RuntimeError: Optimal parameters not found: Number of calls to function has reached maxfev = 5000.\n",
      "RuntimeError: Optimal parameters not found: Number of calls to function has reached maxfev = 5000.\n",
      "RuntimeError: Optimal parameters not found: Number of calls to function has reached maxfev = 5000.\n",
      "RuntimeError: Optimal parameters not found: Number of calls to function has reached maxfev = 5000.\n",
      "RuntimeError: Optimal parameters not found: Number of calls to function has reached maxfev = 5000.\n",
      "RuntimeError: Optimal parameters not found: Number of calls to function has reached maxfev = 5000.\n",
      "RuntimeError: Optimal parameters not found: Number of calls to function has reached maxfev = 5000.\n",
      "RuntimeError: Optimal parameters not found: Number of calls to function has reached maxfev = 5000.\n",
      "RuntimeError: Optimal parameters not found: Number of calls to function has reached maxfev = 5000.\n",
      "OptimizeWarning: Covariance of the parameters could not be estimated\n",
      "OptimizeWarning: Covariance of the parameters could not be estimated\n",
      "RuntimeError: Optimal parameters not found: Number of calls to function has reached maxfev = 5000.\n",
      "RuntimeError: Optimal parameters not found: Number of calls to function has reached maxfev = 5000.\n",
      "RuntimeError: Optimal parameters not found: Number of calls to function has reached maxfev = 5000.\n",
      "RuntimeError: Optimal parameters not found: Number of calls to function has reached maxfev = 5000.\n",
      "OptimizeWarning: Covariance of the parameters could not be estimated\n",
      "RuntimeError: Optimal parameters not found: Number of calls to function has reached maxfev = 5000.\n",
      "RuntimeError: Optimal parameters not found: Number of calls to function has reached maxfev = 5000.\n",
      "RuntimeError: Optimal parameters not found: Number of calls to function has reached maxfev = 5000.\n",
      "acf n_rows_with_nans_perc 0.0, tau n_rows_with_nans_tau_perc 7.222222222222221\n"
     ]
    }
   ],
   "source": [
    "# old_stdout = sys.stdout\n",
    "# sys.stdout = open(results_folder + 'pfdl_acf_trial_tau_cal_log.txt', 'w')\n",
    "\n",
    "file_name_pfdl_isttc = '\\\\non_binned\\\\pfp\\\\acf\\\\acf_trial_isttc_concat_df_50ms_20lags_df.pkl'\n",
    "tau_df_proper_isttc, n_rows_with_nans_perc_isttc, n_rows_with_nans_tau_perc_isttc = get_tau_df(file_name_pfdl_isttc)\n",
    "\n",
    "# sys.stdout = old_stdout"
   ]
  },
  {
   "cell_type": "code",
   "execution_count": 12,
   "id": "219fa444-e55f-43d8-a76f-f93bfe182abc",
   "metadata": {},
   "outputs": [
    {
     "name": "stdout",
     "output_type": "stream",
     "text": [
      "acf n_rows_with_nans_perc_isttc 0.0, tau n_rows_with_nans_tau_perc_isttc 7.222222222222221\n"
     ]
    }
   ],
   "source": [
    "print('acf n_rows_with_nans_perc_isttc {}, tau n_rows_with_nans_tau_perc_isttc {}'.format(n_rows_with_nans_perc_isttc, \n",
    "                                                                                          n_rows_with_nans_tau_perc_isttc))"
   ]
  },
  {
   "cell_type": "code",
   "execution_count": 13,
   "id": "a6c7f9c6-ad9f-43ca-8a8a-a6cdd1cf05e2",
   "metadata": {},
   "outputs": [],
   "source": [
    "acf_nans_perc = [n_rows_with_nans_perc_isttc]\n",
    "tau_nans_perc = [ n_rows_with_nans_tau_perc_isttc]\n",
    "metric_l = ['iSTTC']\n",
    "\n",
    "nan_df = pd.DataFrame(np.vstack((acf_nans_perc, tau_nans_perc, metric_l)).T, columns=['acf_nan_perc', 'tau_nan_perc', 'metric'])\n",
    "nan_df['area'] = 'pfdl'\n",
    "nan_df['acf_nan_perc'] = nan_df['acf_nan_perc'].astype(float)\n",
    "nan_df['tau_nan_perc'] = nan_df['tau_nan_perc'].astype(float)\n",
    "nan_df\n",
    "nan_df.to_pickle(results_folder + 'pfp_tau_acf_trial_concat_nan_df_50ms_20lags_df.pkl')"
   ]
  },
  {
   "cell_type": "code",
   "execution_count": 14,
   "id": "d935d488-041a-4ec0-90db-2118edfd8873",
   "metadata": {},
   "outputs": [],
   "source": [
    "# save tau dfs\n",
    "tau_df_proper_isttc['unit_id'] = tau_df_proper_isttc['unit_id'].astype(int)\n",
    "tau_df_proper_isttc.to_pickle(results_folder + '\\\\non_binned\\\\pfp\\\\taus\\\\tau_acf_trial_isttc_concat_df_50ms_20lags_df.pkl')"
   ]
  },
  {
   "cell_type": "code",
   "execution_count": null,
   "id": "5182424b-1f98-42dc-aefd-c89ea16dfb77",
   "metadata": {},
   "outputs": [],
   "source": [
    "tau_df_proper_merged = tau_df_proper.merge(tau_df_proper_isttc, on=['unit_id','trial_id'], how='inner', \n",
    "                                           suffixes=('_proper', '_isttc'))\n",
    "tau_df_proper_merged"
   ]
  },
  {
   "cell_type": "markdown",
   "id": "c2f1494b-0434-480e-977a-458b4ac9c5bd",
   "metadata": {},
   "source": [
    "### Calculate tau"
   ]
  },
  {
   "cell_type": "code",
   "execution_count": 4,
   "id": "86afb9a8-adaf-4211-865a-3ae4f1aa7487",
   "metadata": {},
   "outputs": [],
   "source": [
    "def func_single_exp(x, a, b, c):\n",
    "    \"\"\"\n",
    "    Exponential function to fit the data.\n",
    "    :param x: 1d array, independent variable\n",
    "    :param a: float, parameter to fit\n",
    "    :param b: float, parameter to fit\n",
    "    :param c: float, parameter to fit\n",
    "    :return: callable\n",
    "    \"\"\"\n",
    "    #return a * np.exp(-b * x) + c\n",
    "    return a * (np.exp(-b * x) + c) # as in the paper\n",
    "\n",
    "\n",
    "def fit_single_exp(ydata_to_fit_, start_idx_=1):\n",
    "    \"\"\"\n",
    "    Fit function func_exp to data using non-linear least square.\n",
    "\n",
    "    todo check that - important point: Fit is done from the first ACF value (acf[0] is skipped, it is done like this\n",
    "    in the papers, still not sure)\n",
    "\n",
    "    :param ydata_to_fit_: 1d array, the dependant data to fit\n",
    "    :param start_idx_: int, index to start fitting from\n",
    "    :return: fit_popt, fit_pcov, tau, fit_r_squared\n",
    "    \"\"\"\n",
    "    t = np.linspace(0, len(ydata_to_fit_)-1, len(ydata_to_fit_)).astype(int)\n",
    "\n",
    "    with warnings.catch_warnings():\n",
    "        warnings.filterwarnings('error')\n",
    "        try:\n",
    "            popt, pcov = curve_fit(func_single_exp, t[start_idx_:], ydata_to_fit_[start_idx_:], maxfev=5000) # I used 5000, 1000000000 it is like in Siegle\n",
    "            fit_popt = popt\n",
    "            fit_pcov = pcov\n",
    "            tau = 1 / fit_popt[1]\n",
    "            # fit r-squared\n",
    "            y_pred = func_single_exp(t[start_idx_:], *popt)\n",
    "            fit_r_squared = r2_score(ydata_to_fit_[start_idx_:], y_pred)\n",
    "        except RuntimeError as e:\n",
    "            print('RuntimeError: {}'. format(e))\n",
    "            fit_popt, fit_pcov, tau, fit_r_squared = np.nan, np.nan, np.nan, np.nan\n",
    "        except OptimizeWarning as o:\n",
    "            print('OptimizeWarning: {}'. format(o))\n",
    "            fit_popt, fit_pcov, tau, fit_r_squared = np.nan, np.nan, np.nan, np.nan\n",
    "        except RuntimeWarning as re:\n",
    "            print('RuntimeWarning: {}'. format(re))\n",
    "            fit_popt, fit_pcov, tau, fit_r_squared = np.nan, np.nan, np.nan, np.nan\n",
    "        except ValueError as ve:\n",
    "            print('ValueError: {}'. format(ve))\n",
    "            print('Possible reason: acf contains NaNs, low spike count')\n",
    "            fit_popt, fit_pcov, tau, fit_r_squared = np.nan, np.nan, np.nan, np.nan\n",
    "\n",
    "    return fit_popt, fit_pcov, tau, fit_r_squared"
   ]
  },
  {
   "cell_type": "code",
   "execution_count": 5,
   "id": "f824a74c-0158-404b-a864-b4d3cab41bb0",
   "metadata": {},
   "outputs": [],
   "source": [
    "def calc_tau(acf_df_, acf_cols_):\n",
    "    acf_2d = acf_df_[acf_cols_].values\n",
    "    acf_2d = acf_2d.astype(np.float64) # RuntimeWarning: overflow encountered in matmul sttc start_idx 2\n",
    "    n_units = acf_2d.shape[0]\n",
    "    print('Calculating taus for {}'.format(acf_2d.shape))\n",
    "    \n",
    "    fit_popt_a_l, fit_popt_b_l, fit_popt_c_l = [],[],[]\n",
    "    fit_tau_l = []\n",
    "    fit_r_squared_l = []\n",
    "    \n",
    "    for i in range(n_units):\n",
    "        fit_popt, fit_pcov, tau, fit_r_squared = fit_single_exp(acf_2d[i,:], start_idx_=1)\n",
    "        if  type(fit_popt) == np.ndarray:\n",
    "            fit_popt_a_l.append(fit_popt[0])\n",
    "            fit_popt_b_l.append(fit_popt[1])\n",
    "            fit_popt_c_l.append(fit_popt[2])\n",
    "        else:\n",
    "            fit_popt_a_l.append(np.nan)\n",
    "            fit_popt_b_l.append(np.nan)\n",
    "            fit_popt_c_l.append(np.nan)\n",
    "        fit_tau_l.append(tau)\n",
    "        fit_r_squared_l.append(fit_r_squared)\n",
    "    \n",
    "    data_df = np.vstack((fit_popt_a_l, fit_popt_b_l, fit_popt_c_l, fit_tau_l, fit_r_squared_l)).T\n",
    "    tau_df = pd.DataFrame(data_df, columns=['fit_a', 'fit_b', 'fit_c','tau', 'r_squared'])\n",
    "    tau_df.insert(0, 'unit_id', acf_df_['unit_id'].values)\n",
    "    #tau_df.insert(1, 'trial_id', acf_df_['trial_id'].values)\n",
    "    tau_df['tau_ms'] = tau_df['tau'] * 50\n",
    "\n",
    "    return tau_df"
   ]
  },
  {
   "cell_type": "markdown",
   "id": "5546e323-9f93-4895-8e68-a7f93540f303",
   "metadata": {},
   "source": [
    "#### Plots"
   ]
  },
  {
   "cell_type": "code",
   "execution_count": null,
   "id": "a8cc5db6-89a3-4634-8266-9a753371e78d",
   "metadata": {},
   "outputs": [],
   "source": [
    "# percentage of nans in ACF and in tau - bar plots\n",
    "fig, axes = plt.subplots(1,2, figsize=(6,3), gridspec_kw={'width_ratios': [2, 2]})\n",
    "plt.subplots_adjust(hspace=0.4, wspace=0.4)\n",
    "\n",
    "sns.barplot(ax=axes[0], x='metric', y='acf_nan_perc', data=nan_df, palette=['black', 'darkgrey','steelblue'], legend=False)\n",
    "sns.barplot(ax=axes[1], x='metric', y='tau_nan_perc', data=nan_df, palette=['black', 'darkgrey','steelblue'], legend=False)\n",
    "\n",
    "sns.despine()\n",
    "\n",
    "# if save_fig:\n",
    "#     fig.savefig(fig_folder + 'sttc_vs_pearson_constrained_dataset_with_empty_0_1000_51padding_full_dataset.png' , bbox_inches='tight')\n",
    "#     fig.savefig(fig_folder + 'sttc_vs_pearson_constrained_dataset_with_empty_0_1000_51padding_full_dataset.svg' , bbox_inches='tight')"
   ]
  },
  {
   "cell_type": "code",
   "execution_count": null,
   "id": "4bd2bee0-d881-4425-bf47-b022b5191a3c",
   "metadata": {},
   "outputs": [],
   "source": [
    "tau_df_proper_merged['diff'] = tau_df_proper_merged['r_squared_isttc'] - tau_df_proper_merged['r_squared_proper']"
   ]
  },
  {
   "cell_type": "code",
   "execution_count": null,
   "id": "a7c630cb-1d47-4c17-8041-c89901fb2acc",
   "metadata": {},
   "outputs": [],
   "source": [
    "# r-squared of sttc and proper acf\n",
    "\n",
    "fig, axes = plt.subplots(1,3, figsize=(10,3), gridspec_kw={'width_ratios': [2, 2,2]})\n",
    "plt.subplots_adjust(hspace=0.4, wspace=0.4)\n",
    "\n",
    "# sns.violinplot(ax=axes[0], x='area', y='tau_ms_log10', hue='metric', data=tau_df_proper_merged.query('tau_ms >= 0'), \n",
    "#                cut=0, density_norm='width', palette=['darkgrey','steelblue'])\n",
    "# axes[0].legend(frameon=False, loc='upper center')\n",
    "# axes[0].set_xlabel('Brain area')\n",
    "# axes[0].set_ylabel('Timescale log10')\n",
    "\n",
    "\n",
    "sns.scatterplot(ax=axes[1], x=tau_df_proper_merged['r_squared_proper'], y=tau_df_proper_merged['r_squared_isttc'], s=2, color='slategray')\n",
    "axes[1].plot([0, 1], [0, 1], c='k', transform=axes[1].transAxes)\n",
    "axes[1].set_aspect('equal', adjustable='box')\n",
    "axes[1].set_xlabel('Pearson R-squared')\n",
    "axes[1].set_ylabel('STTC R-squared')\n",
    "\n",
    "sns.histplot(ax=axes[2], x=tau_df_proper_merged['diff'].values, stat='probability', bins=100, kde=False, color='steelblue')\n",
    "axes[2].axvline(x=0, lw=1, c='k')\n",
    "axes[2].set_xlabel('STTC R-squared - \\nPearson R-squared')\n",
    "#axes[2].set_title('{}% STTC fits \\nhave higher R-squared'.format(np.round(n_sttc_better_perc,2)))\n",
    "\n",
    "\n",
    "# fig.suptitle('Unit tau STTC vs Pearson, N Pearson: {} units, N STTC: {} units'.format(len(tau_average_trial_subset_df.query('metric == \"pearson\"')), \n",
    "#                                                                               len(tau_average_trial_subset_df.query('metric == \"sttc\"'))), y=1.05)\n",
    "\n",
    "sns.despine()\n",
    "\n",
    "# if save_fig:\n",
    "#     fig.savefig(fig_folder + 'sttc_vs_pearson_constrained_dataset_with_empty_0_1000_51padding_full_dataset.png' , bbox_inches='tight')\n",
    "#     fig.savefig(fig_folder + 'sttc_vs_pearson_constrained_dataset_with_empty_0_1000_51padding_full_dataset.svg' , bbox_inches='tight')"
   ]
  }
 ],
 "metadata": {
  "kernelspec": {
   "display_name": "Python 3 (ipykernel)",
   "language": "python",
   "name": "python3"
  },
  "language_info": {
   "codemirror_mode": {
    "name": "ipython",
    "version": 3
   },
   "file_extension": ".py",
   "mimetype": "text/x-python",
   "name": "python",
   "nbconvert_exporter": "python",
   "pygments_lexer": "ipython3",
   "version": "3.12.3"
  }
 },
 "nbformat": 4,
 "nbformat_minor": 5
}
