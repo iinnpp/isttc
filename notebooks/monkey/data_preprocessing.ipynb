{
 "cells": [
  {
   "cell_type": "code",
   "execution_count": 1,
   "id": "c533d015-1d3c-4ede-83e2-11fe96f07022",
   "metadata": {},
   "outputs": [],
   "source": [
    "import pickle\n",
    "import csv\n",
    "import numpy as np\n",
    "import pandas as pd\n",
    "import matplotlib.pyplot as plt\n",
    "import seaborn as sns"
   ]
  },
  {
   "cell_type": "code",
   "execution_count": 2,
   "id": "b5570889-37a0-4cd0-8b61-d7d01c845259",
   "metadata": {},
   "outputs": [],
   "source": [
    "results_folder = 'Q:\\\\Personal\\\\Irina\\\\projects\\\\isttc\\\\results\\\\monkey\\\\'"
   ]
  },
  {
   "cell_type": "markdown",
   "id": "ad6938e0-03aa-4043-899c-2268ee2b2073",
   "metadata": {},
   "source": [
    "### Load data"
   ]
  },
  {
   "cell_type": "code",
   "execution_count": 3,
   "id": "3df20e7b-ae3f-4ac7-86a5-46e77776a71a",
   "metadata": {},
   "outputs": [
    {
     "name": "stdout",
     "output_type": "stream",
     "text": [
      "N spike_trains in PFdl fixON 47339\n"
     ]
    }
   ],
   "source": [
    "csv_data_file_pfdl = results_folder + 'data_pfdl_fixon.csv'\n",
    "with open(csv_data_file_pfdl, newline='') as f:\n",
    "    reader = csv.reader(f)\n",
    "    sua_list_pfdl = list(reader)\n",
    "    \n",
    "n_spike_trains_pfdl = len(sua_list_pfdl)\n",
    "print('N spike_trains in PFdl fixON {}'.format(n_spike_trains_pfdl))"
   ]
  },
  {
   "cell_type": "code",
   "execution_count": 4,
   "id": "b4f7cf73-d61f-477e-bd70-684b32f83c65",
   "metadata": {},
   "outputs": [
    {
     "name": "stdout",
     "output_type": "stream",
     "text": [
      "N spike_trains in PFp fixON 43677\n"
     ]
    }
   ],
   "source": [
    "csv_data_file_pfp = results_folder + 'data_pfp_fixon.csv'\n",
    "with open(csv_data_file_pfp, newline='') as f:\n",
    "    reader = csv.reader(f)\n",
    "    sua_list_pfp = list(reader)\n",
    "\n",
    "n_spike_trains_pfp = len(sua_list_pfp)\n",
    "print('N spike_trains in PFp fixON {}'.format(n_spike_trains_pfp))"
   ]
  },
  {
   "cell_type": "markdown",
   "id": "1b1bc4b8-9231-48d8-830c-7d9a061cd966",
   "metadata": {},
   "source": [
    "### Preprocess"
   ]
  },
  {
   "cell_type": "code",
   "execution_count": 5,
   "id": "4847307e-322d-4417-af68-ce707fe73fd5",
   "metadata": {},
   "outputs": [],
   "source": [
    "def get_spikes_per_interval(sua_list, area_name, interval=None, verbose=False):\n",
    "    unit_id_l, trial_id_l, condition_id_l, spike_trains_l = [], [], [], []\n",
    "    for trial in sua_list:\n",
    "        if interval is None:\n",
    "            unit_id_l.append(trial[0])\n",
    "            trial_id_l.append(trial[1])\n",
    "            condition_id_l.append(trial[2])\n",
    "            spike_trains_l.append(trial[3:])\n",
    "        else:\n",
    "            spike_train = trial[3:]\n",
    "            spike_train_interval = [spike for spike in spike_train if int(spike) >=interval[0] and int(spike) <= interval[1]]\n",
    "            if len(spike_train_interval) >= 1:\n",
    "                unit_id_l.append(trial[0])\n",
    "                trial_id_l.append(trial[1])\n",
    "                condition_id_l.append(trial[2])\n",
    "                spike_trains_l.append(spike_train_interval)\n",
    "            else:\n",
    "                if verbose:\n",
    "                    print('Unit {}, trial {}: NO spikes in this interval'.format(trial[0], trial[1]))\n",
    "    \n",
    "    summary_df = pd.DataFrame(np.vstack((unit_id_l, trial_id_l, condition_id_l)).T, \n",
    "                                             columns=['unit_id', 'trial_id', 'condition_id'])\n",
    "    summary_df['area'] = area_name\n",
    "    return summary_df, spike_trains_l, unit_id_l, trial_id_l, condition_id_l"
   ]
  },
  {
   "cell_type": "code",
   "execution_count": 6,
   "id": "6c3e4b18-063b-41b1-9cd4-c901d50c36af",
   "metadata": {},
   "outputs": [],
   "source": [
    "pfdl_summary_df, spike_trains_pfdl_l, _, _, _ = get_spikes_per_interval(sua_list_pfdl, 'pfdl', interval=None)\n",
    "pfp_summary_df, spike_trains_pfp_l, _, _, _ = get_spikes_per_interval(sua_list_pfp, 'pfp', interval=None)"
   ]
  },
  {
   "cell_type": "code",
   "execution_count": 7,
   "id": "e4796255-dd8f-4e29-8811-23556e97b211",
   "metadata": {},
   "outputs": [],
   "source": [
    "pfdl_summary_fix_df, spike_trains_pfdl_fix_l, unit_id_pfdl_fix_l, trial_id_pfdl_fix_l, condition_id_pfdl_fix_l = get_spikes_per_interval(sua_list_pfdl, \n",
    "                                                                                                                             'pfdl', \n",
    "                                                                                                                             interval=[0,1500])\n",
    "pfp_summary_fix_df, spike_trains_pfp_fix_l, unit_id_pfp_fix_l, trial_id_pfp_fix_l, condition_id_pfp_fix_l = get_spikes_per_interval(sua_list_pfp, \n",
    "                                                                                                                        'pfp', \n",
    "                                                                                                                        interval=[0,1500])"
   ]
  },
  {
   "cell_type": "code",
   "execution_count": 8,
   "id": "ab39cb3f-a887-4a58-9171-2c48d35568f3",
   "metadata": {},
   "outputs": [
    {
     "data": {
      "text/html": [
       "<div>\n",
       "<style scoped>\n",
       "    .dataframe tbody tr th:only-of-type {\n",
       "        vertical-align: middle;\n",
       "    }\n",
       "\n",
       "    .dataframe tbody tr th {\n",
       "        vertical-align: top;\n",
       "    }\n",
       "\n",
       "    .dataframe thead th {\n",
       "        text-align: right;\n",
       "    }\n",
       "</style>\n",
       "<table border=\"1\" class=\"dataframe\">\n",
       "  <thead>\n",
       "    <tr style=\"text-align: right;\">\n",
       "      <th></th>\n",
       "      <th>unit_id</th>\n",
       "      <th>area</th>\n",
       "      <th>n_trials_all_rec</th>\n",
       "      <th>n_trials_fix</th>\n",
       "    </tr>\n",
       "  </thead>\n",
       "  <tbody>\n",
       "    <tr>\n",
       "      <th>0</th>\n",
       "      <td>0</td>\n",
       "      <td>pfdl</td>\n",
       "      <td>92</td>\n",
       "      <td>92.0</td>\n",
       "    </tr>\n",
       "    <tr>\n",
       "      <th>1</th>\n",
       "      <td>1</td>\n",
       "      <td>pfdl</td>\n",
       "      <td>92</td>\n",
       "      <td>41.0</td>\n",
       "    </tr>\n",
       "    <tr>\n",
       "      <th>2</th>\n",
       "      <td>10</td>\n",
       "      <td>pfdl</td>\n",
       "      <td>81</td>\n",
       "      <td>81.0</td>\n",
       "    </tr>\n",
       "    <tr>\n",
       "      <th>3</th>\n",
       "      <td>100</td>\n",
       "      <td>pfdl</td>\n",
       "      <td>69</td>\n",
       "      <td>68.0</td>\n",
       "    </tr>\n",
       "    <tr>\n",
       "      <th>4</th>\n",
       "      <td>101</td>\n",
       "      <td>pfdl</td>\n",
       "      <td>102</td>\n",
       "      <td>94.0</td>\n",
       "    </tr>\n",
       "    <tr>\n",
       "      <th>...</th>\n",
       "      <td>...</td>\n",
       "      <td>...</td>\n",
       "      <td>...</td>\n",
       "      <td>...</td>\n",
       "    </tr>\n",
       "    <tr>\n",
       "      <th>539</th>\n",
       "      <td>95</td>\n",
       "      <td>pfdl</td>\n",
       "      <td>85</td>\n",
       "      <td>54.0</td>\n",
       "    </tr>\n",
       "    <tr>\n",
       "      <th>540</th>\n",
       "      <td>96</td>\n",
       "      <td>pfdl</td>\n",
       "      <td>106</td>\n",
       "      <td>106.0</td>\n",
       "    </tr>\n",
       "    <tr>\n",
       "      <th>541</th>\n",
       "      <td>97</td>\n",
       "      <td>pfdl</td>\n",
       "      <td>93</td>\n",
       "      <td>80.0</td>\n",
       "    </tr>\n",
       "    <tr>\n",
       "      <th>542</th>\n",
       "      <td>98</td>\n",
       "      <td>pfdl</td>\n",
       "      <td>77</td>\n",
       "      <td>64.0</td>\n",
       "    </tr>\n",
       "    <tr>\n",
       "      <th>543</th>\n",
       "      <td>99</td>\n",
       "      <td>pfdl</td>\n",
       "      <td>41</td>\n",
       "      <td>33.0</td>\n",
       "    </tr>\n",
       "  </tbody>\n",
       "</table>\n",
       "<p>544 rows × 4 columns</p>\n",
       "</div>"
      ],
      "text/plain": [
       "    unit_id  area  n_trials_all_rec  n_trials_fix\n",
       "0         0  pfdl                92          92.0\n",
       "1         1  pfdl                92          41.0\n",
       "2        10  pfdl                81          81.0\n",
       "3       100  pfdl                69          68.0\n",
       "4       101  pfdl               102          94.0\n",
       "..      ...   ...               ...           ...\n",
       "539      95  pfdl                85          54.0\n",
       "540      96  pfdl               106         106.0\n",
       "541      97  pfdl                93          80.0\n",
       "542      98  pfdl                77          64.0\n",
       "543      99  pfdl                41          33.0\n",
       "\n",
       "[544 rows x 4 columns]"
      ]
     },
     "execution_count": 8,
     "metadata": {},
     "output_type": "execute_result"
    }
   ],
   "source": [
    "pfdl_n_trials_per_unit = pfdl_summary_df.groupby(by=['unit_id','area'], as_index=False)['trial_id'].count()\n",
    "pfdl_n_trials_per_unit.rename(columns={'trial_id': 'n_trials_all_rec'}, inplace=True)\n",
    "\n",
    "pfdl_n_trials_per_unit_fix = pfdl_summary_fix_df.groupby(by=['unit_id','area'], as_index=False)['trial_id'].count()\n",
    "pfdl_n_trials_per_unit_fix.rename(columns={'trial_id': 'n_trials_fix'}, inplace=True)\n",
    "\n",
    "pfdl_n_trials_per_unit_merged = pfdl_n_trials_per_unit.merge(pfdl_n_trials_per_unit_fix, on=['unit_id', 'area'], how='left')\n",
    "pfdl_n_trials_per_unit_merged"
   ]
  },
  {
   "cell_type": "code",
   "execution_count": 9,
   "id": "9df9c946-d59a-455e-b5ae-afd224b12e43",
   "metadata": {},
   "outputs": [
    {
     "data": {
      "text/html": [
       "<div>\n",
       "<style scoped>\n",
       "    .dataframe tbody tr th:only-of-type {\n",
       "        vertical-align: middle;\n",
       "    }\n",
       "\n",
       "    .dataframe tbody tr th {\n",
       "        vertical-align: top;\n",
       "    }\n",
       "\n",
       "    .dataframe thead th {\n",
       "        text-align: right;\n",
       "    }\n",
       "</style>\n",
       "<table border=\"1\" class=\"dataframe\">\n",
       "  <thead>\n",
       "    <tr style=\"text-align: right;\">\n",
       "      <th></th>\n",
       "      <th>unit_id</th>\n",
       "      <th>area</th>\n",
       "      <th>n_trials_all_rec</th>\n",
       "      <th>n_trials_fix</th>\n",
       "    </tr>\n",
       "  </thead>\n",
       "  <tbody>\n",
       "    <tr>\n",
       "      <th>0</th>\n",
       "      <td>0</td>\n",
       "      <td>pfp</td>\n",
       "      <td>97</td>\n",
       "      <td>85</td>\n",
       "    </tr>\n",
       "    <tr>\n",
       "      <th>1</th>\n",
       "      <td>1</td>\n",
       "      <td>pfp</td>\n",
       "      <td>38</td>\n",
       "      <td>17</td>\n",
       "    </tr>\n",
       "    <tr>\n",
       "      <th>2</th>\n",
       "      <td>10</td>\n",
       "      <td>pfp</td>\n",
       "      <td>88</td>\n",
       "      <td>22</td>\n",
       "    </tr>\n",
       "    <tr>\n",
       "      <th>3</th>\n",
       "      <td>100</td>\n",
       "      <td>pfp</td>\n",
       "      <td>67</td>\n",
       "      <td>67</td>\n",
       "    </tr>\n",
       "    <tr>\n",
       "      <th>4</th>\n",
       "      <td>101</td>\n",
       "      <td>pfp</td>\n",
       "      <td>32</td>\n",
       "      <td>30</td>\n",
       "    </tr>\n",
       "    <tr>\n",
       "      <th>...</th>\n",
       "      <td>...</td>\n",
       "      <td>...</td>\n",
       "      <td>...</td>\n",
       "      <td>...</td>\n",
       "    </tr>\n",
       "    <tr>\n",
       "      <th>538</th>\n",
       "      <td>95</td>\n",
       "      <td>pfp</td>\n",
       "      <td>119</td>\n",
       "      <td>54</td>\n",
       "    </tr>\n",
       "    <tr>\n",
       "      <th>539</th>\n",
       "      <td>96</td>\n",
       "      <td>pfp</td>\n",
       "      <td>118</td>\n",
       "      <td>22</td>\n",
       "    </tr>\n",
       "    <tr>\n",
       "      <th>540</th>\n",
       "      <td>97</td>\n",
       "      <td>pfp</td>\n",
       "      <td>95</td>\n",
       "      <td>94</td>\n",
       "    </tr>\n",
       "    <tr>\n",
       "      <th>541</th>\n",
       "      <td>98</td>\n",
       "      <td>pfp</td>\n",
       "      <td>37</td>\n",
       "      <td>18</td>\n",
       "    </tr>\n",
       "    <tr>\n",
       "      <th>542</th>\n",
       "      <td>99</td>\n",
       "      <td>pfp</td>\n",
       "      <td>66</td>\n",
       "      <td>34</td>\n",
       "    </tr>\n",
       "  </tbody>\n",
       "</table>\n",
       "<p>543 rows × 4 columns</p>\n",
       "</div>"
      ],
      "text/plain": [
       "    unit_id area  n_trials_all_rec  n_trials_fix\n",
       "0         0  pfp                97            85\n",
       "1         1  pfp                38            17\n",
       "2        10  pfp                88            22\n",
       "3       100  pfp                67            67\n",
       "4       101  pfp                32            30\n",
       "..      ...  ...               ...           ...\n",
       "538      95  pfp               119            54\n",
       "539      96  pfp               118            22\n",
       "540      97  pfp                95            94\n",
       "541      98  pfp                37            18\n",
       "542      99  pfp                66            34\n",
       "\n",
       "[543 rows x 4 columns]"
      ]
     },
     "execution_count": 9,
     "metadata": {},
     "output_type": "execute_result"
    }
   ],
   "source": [
    "pfp_n_trials_per_unit = pfp_summary_df.groupby(by=['unit_id','area'], as_index=False)['trial_id'].count()\n",
    "pfp_n_trials_per_unit.rename(columns={'trial_id': 'n_trials_all_rec'}, inplace=True)\n",
    "\n",
    "pfp_n_trials_per_unit_fix = pfp_summary_fix_df.groupby(by=['unit_id','area'], as_index=False)['trial_id'].count()\n",
    "pfp_n_trials_per_unit_fix.rename(columns={'trial_id': 'n_trials_fix'}, inplace=True)\n",
    "\n",
    "pfp_n_trials_per_unit_merged = pfp_n_trials_per_unit.merge(pfp_n_trials_per_unit_fix, on=['unit_id', 'area'], how='left')\n",
    "pfp_n_trials_per_unit_merged"
   ]
  },
  {
   "cell_type": "code",
   "execution_count": 10,
   "id": "8cfc3b46-0c0f-43a7-8fdd-e80667f4044c",
   "metadata": {},
   "outputs": [],
   "source": [
    "pfdl_n_trials_per_unit_merged.to_pickle(results_folder + 'pfdl_n_trials_per_unit_merged_fixon.pkl')\n",
    "pfp_n_trials_per_unit_merged.to_pickle(results_folder + 'pfp_n_trials_per_unit_merged_fixon.pkl')"
   ]
  },
  {
   "cell_type": "code",
   "execution_count": 15,
   "id": "73133afd-cbdb-4ed5-b679-65fbf296ef42",
   "metadata": {},
   "outputs": [
    {
     "data": {
      "image/png": "[encoded data removed]",
      "text/plain": [
       "<Figure size 800x300 with 2 Axes>"
      ]
     },
     "metadata": {},
     "output_type": "display_data"
    }
   ],
   "source": [
    "# plot\n",
    "fig, axes = plt.subplots(1, 2, figsize=(8,3))\n",
    "\n",
    "sns.histplot(ax=axes[0], x=pfdl_n_trials_per_unit_merged['n_trials_all_rec'].values, \n",
    "             bins=50, stat='count')\n",
    "sns.histplot(ax=axes[1], x=pfp_n_trials_per_unit_merged['n_trials_all_rec'].values, \n",
    "             bins=50, stat='count')\n",
    "\n",
    "axes[0].set_title('N trials per unit, PFdl')\n",
    "axes[1].set_title('N trials per unit, PFp')\n",
    "\n",
    "axes[0].axvline(x=np.nanmedian(pfdl_n_trials_per_unit_merged['n_trials_all_rec'].values), lw=1, color='red')\n",
    "axes[1].axvline(x=np.nanmedian(pfp_n_trials_per_unit_merged['n_trials_all_rec'].values), lw=1, color='red')\n",
    "\n",
    "sns.despine()"
   ]
  },
  {
   "cell_type": "code",
   "execution_count": 14,
   "id": "c6bd6106-bb50-4b48-aa5d-7f1b888a0e83",
   "metadata": {},
   "outputs": [
    {
     "data": {
      "image/png": "[encoded data removed]",
      "text/plain": [
       "<Figure size 800x300 with 2 Axes>"
      ]
     },
     "metadata": {},
     "output_type": "display_data"
    }
   ],
   "source": [
    "# plot\n",
    "fig, axes = plt.subplots(1, 2, figsize=(8,3))\n",
    "\n",
    "sns.histplot(ax=axes[0], x=pfdl_n_trials_per_unit_merged['n_trials_fix'].values, \n",
    "             bins=50, stat='count')\n",
    "sns.histplot(ax=axes[1], x=pfp_n_trials_per_unit_merged['n_trials_fix'].values, \n",
    "             bins=50, stat='count')\n",
    "\n",
    "axes[0].set_title('N trials per unit (fixation period), PFdl')\n",
    "axes[1].set_title('N trials per unit (fixation period), PFp')\n",
    "\n",
    "axes[0].axvline(x=np.nanmedian(pfdl_n_trials_per_unit_merged['n_trials_fix'].values), lw=1, color='red')\n",
    "axes[1].axvline(x=np.nanmedian(pfp_n_trials_per_unit_merged['n_trials_fix'].values), lw=1, color='red')\n",
    "\n",
    "sns.despine()"
   ]
  },
  {
   "cell_type": "markdown",
   "id": "df82aab3-9a1d-4efc-95cc-25630a4ea9e5",
   "metadata": {},
   "source": [
    "### Write filtered spikes to csv"
   ]
  },
  {
   "cell_type": "code",
   "execution_count": 16,
   "id": "bc7dbdb7-ee8d-4a52-91e1-86b9449ec278",
   "metadata": {},
   "outputs": [],
   "source": [
    "def write_csv(output_filename, unit_id_l, trial_id_l, condition_id_l, spike_trains_l, verbose=True):\n",
    "    with open(output_filename, 'a', newline='') as f:\n",
    "        writer = csv.writer(f)\n",
    "        for unit_row_n, spike_train in enumerate(spike_trains_l):\n",
    "            if verbose:\n",
    "                print('Writing unit {}'.format(unit_id_l[unit_row_n]))\n",
    "                # print(spike_train)\n",
    "            #spikes_l = spike_train.tolist()\n",
    "            row = [unit_id_l[unit_row_n]] + [trial_id_l[unit_row_n]] + [condition_id_l[unit_row_n]] + spike_train\n",
    "            writer.writerow(row)"
   ]
  },
  {
   "cell_type": "code",
   "execution_count": 17,
   "id": "fd3d3efc-ce3c-4439-94c1-d1f15f13f886",
   "metadata": {},
   "outputs": [],
   "source": [
    "output_filename_pfdl = results_folder + 'data_pfdl_fixon_1500ms_fixation.csv'\n",
    "write_csv(output_filename_pfdl, unit_id_pfdl_fix_l, trial_id_pfdl_fix_l, condition_id_pfdl_fix_l, spike_trains_pfdl_fix_l, verbose=False)"
   ]
  },
  {
   "cell_type": "code",
   "execution_count": 18,
   "id": "7e5f04dc-545c-430d-93b0-7962634ded55",
   "metadata": {},
   "outputs": [],
   "source": [
    "output_filename_pfp = results_folder + 'data_pfp_fixon_1500ms_fixation.csv'\n",
    "write_csv(output_filename_pfp, unit_id_pfp_fix_l, trial_id_pfp_fix_l, condition_id_pfp_fix_l, spike_trains_pfp_fix_l, verbose=False)"
   ]
  }
 ],
 "metadata": {
  "kernelspec": {
   "display_name": "Python 3 (ipykernel)",
   "language": "python",
   "name": "python3"
  },
  "language_info": {
   "codemirror_mode": {
    "name": "ipython",
    "version": 3
   },
   "file_extension": ".py",
   "mimetype": "text/x-python",
   "name": "python",
   "nbconvert_exporter": "python",
   "pygments_lexer": "ipython3",
   "version": "3.12.3"
  }
 },
 "nbformat": 4,
 "nbformat_minor": 5
}
