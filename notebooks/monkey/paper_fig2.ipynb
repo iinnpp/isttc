{
 "cells": [
  {
   "cell_type": "markdown",
   "id": "3cf22309-3217-4aa3-abad-42b40ea8a35e",
   "metadata": {},
   "source": [
    "Reproduce Fig2 \n",
    "\n",
    "Here I have number of units that are close to the paper (I think because I did a mistake first in calculating constraints - using whole baseline instead of only 1500 ms?)"
   ]
  },
  {
   "cell_type": "code",
   "execution_count": 1,
   "id": "16c30cfa-24a1-44c4-ace1-267751e47a0d",
   "metadata": {},
   "outputs": [],
   "source": [
    "import pandas as pd\n",
    "import numpy as np\n",
    "from scipy.optimize import curve_fit, OptimizeWarning\n",
    "from sklearn.metrics import r2_score\n",
    "from scipy import stats\n",
    "import matplotlib.pyplot as plt\n",
    "import seaborn as sns\n",
    "\n",
    "import warnings\n",
    "\n",
    "# import from scripts\n",
    "import os\n",
    "current_wd = os.getcwd()\n",
    "os.chdir(os.path.abspath(\"..\\\\..\\\\..\\\\isttc\\\\scripts\"))\n",
    "from cfg_global import project_folder_path\n",
    "from calculate_tau import fit_single_exp, func_single_exp_monkey\n",
    "os.chdir(current_wd)"
   ]
  },
  {
   "cell_type": "markdown",
   "id": "133ecf33-82c2-4e58-afd5-cfcc36ab0136",
   "metadata": {},
   "source": [
    "### Get the data"
   ]
  },
  {
   "cell_type": "code",
   "execution_count": 2,
   "id": "9d8b7757-2762-41db-8eb4-4584aa5685f9",
   "metadata": {},
   "outputs": [
    {
     "name": "stdout",
     "output_type": "stream",
     "text": [
      "N neurons in PFdl 367 \n",
      "N neurons in PFp 318\n",
      "NaNs in PFdl acf False\n",
      "NaNs in PFp acf False\n"
     ]
    }
   ],
   "source": [
    "results_folder = project_folder_path + 'results\\\\monkey\\\\lab_meeting_snapshot\\\\fixation_period_1000ms\\\\'\n",
    "\n",
    "pfdl_acf_average_trial_pearsonr_df = pd.read_pickle(results_folder + 'binned\\\\pfdl\\\\acf\\\\z\\\\' + 'acf_average_trial_pearsonr_constrained_input_50ms_20lags_df.pkl')\n",
    "pfp_acf_average_trial_pearsonr_df = pd.read_pickle(results_folder + 'binned\\\\pfp\\\\acf\\\\z\\\\' + 'acf_average_trial_pearsonr_constrained_input_50ms_20lags_df.pkl')\n",
    "\n",
    "print('N neurons in PFdl {} \\nN neurons in PFp {}'.format(len(pfdl_acf_average_trial_pearsonr_df), len(pfp_acf_average_trial_pearsonr_df)))\n",
    "\n",
    "print('NaNs in PFdl acf {}'.format(pfdl_acf_average_trial_pearsonr_df.isnull().any().any()))\n",
    "print('NaNs in PFp acf {}'.format(pfp_acf_average_trial_pearsonr_df.isnull().any().any()))"
   ]
  },
  {
   "cell_type": "code",
   "execution_count": 3,
   "id": "a1eec947-b179-4733-918a-2067500d9292",
   "metadata": {},
   "outputs": [
    {
     "data": {
      "text/html": [
       "<div>\n",
       "<style scoped>\n",
       "    .dataframe tbody tr th:only-of-type {\n",
       "        vertical-align: middle;\n",
       "    }\n",
       "\n",
       "    .dataframe tbody tr th {\n",
       "        vertical-align: top;\n",
       "    }\n",
       "\n",
       "    .dataframe thead th {\n",
       "        text-align: right;\n",
       "    }\n",
       "</style>\n",
       "<table border=\"1\" class=\"dataframe\">\n",
       "  <thead>\n",
       "    <tr style=\"text-align: right;\">\n",
       "      <th></th>\n",
       "      <th>unit_id</th>\n",
       "      <th>acf_0</th>\n",
       "      <th>acf_1</th>\n",
       "      <th>acf_2</th>\n",
       "      <th>acf_3</th>\n",
       "      <th>acf_4</th>\n",
       "      <th>acf_5</th>\n",
       "      <th>acf_6</th>\n",
       "      <th>acf_7</th>\n",
       "      <th>acf_8</th>\n",
       "      <th>...</th>\n",
       "      <th>acf_10</th>\n",
       "      <th>acf_11</th>\n",
       "      <th>acf_12</th>\n",
       "      <th>acf_13</th>\n",
       "      <th>acf_14</th>\n",
       "      <th>acf_15</th>\n",
       "      <th>acf_16</th>\n",
       "      <th>acf_17</th>\n",
       "      <th>acf_18</th>\n",
       "      <th>acf_19</th>\n",
       "    </tr>\n",
       "  </thead>\n",
       "  <tbody>\n",
       "    <tr>\n",
       "      <th>0</th>\n",
       "      <td>0</td>\n",
       "      <td>1.0</td>\n",
       "      <td>0.443787</td>\n",
       "      <td>0.429808</td>\n",
       "      <td>0.374760</td>\n",
       "      <td>0.333984</td>\n",
       "      <td>0.287734</td>\n",
       "      <td>0.240484</td>\n",
       "      <td>0.189922</td>\n",
       "      <td>0.194006</td>\n",
       "      <td>...</td>\n",
       "      <td>0.192847</td>\n",
       "      <td>0.148964</td>\n",
       "      <td>0.216269</td>\n",
       "      <td>0.151006</td>\n",
       "      <td>0.159405</td>\n",
       "      <td>0.112679</td>\n",
       "      <td>0.020760</td>\n",
       "      <td>0.038556</td>\n",
       "      <td>0.046108</td>\n",
       "      <td>-0.052432</td>\n",
       "    </tr>\n",
       "    <tr>\n",
       "      <th>1</th>\n",
       "      <td>3</td>\n",
       "      <td>1.0</td>\n",
       "      <td>0.436855</td>\n",
       "      <td>0.391458</td>\n",
       "      <td>0.371095</td>\n",
       "      <td>0.311763</td>\n",
       "      <td>0.294205</td>\n",
       "      <td>0.312247</td>\n",
       "      <td>0.282377</td>\n",
       "      <td>0.260343</td>\n",
       "      <td>...</td>\n",
       "      <td>0.266865</td>\n",
       "      <td>0.243661</td>\n",
       "      <td>0.274786</td>\n",
       "      <td>0.217886</td>\n",
       "      <td>0.234229</td>\n",
       "      <td>0.208189</td>\n",
       "      <td>0.152333</td>\n",
       "      <td>0.194667</td>\n",
       "      <td>0.227410</td>\n",
       "      <td>0.222422</td>\n",
       "    </tr>\n",
       "  </tbody>\n",
       "</table>\n",
       "<p>2 rows × 21 columns</p>\n",
       "</div>"
      ],
      "text/plain": [
       "   unit_id  acf_0     acf_1     acf_2     acf_3     acf_4     acf_5     acf_6  \\\n",
       "0        0    1.0  0.443787  0.429808  0.374760  0.333984  0.287734  0.240484   \n",
       "1        3    1.0  0.436855  0.391458  0.371095  0.311763  0.294205  0.312247   \n",
       "\n",
       "      acf_7     acf_8  ...    acf_10    acf_11    acf_12    acf_13    acf_14  \\\n",
       "0  0.189922  0.194006  ...  0.192847  0.148964  0.216269  0.151006  0.159405   \n",
       "1  0.282377  0.260343  ...  0.266865  0.243661  0.274786  0.217886  0.234229   \n",
       "\n",
       "     acf_15    acf_16    acf_17    acf_18    acf_19  \n",
       "0  0.112679  0.020760  0.038556  0.046108 -0.052432  \n",
       "1  0.208189  0.152333  0.194667  0.227410  0.222422  \n",
       "\n",
       "[2 rows x 21 columns]"
      ]
     },
     "execution_count": 3,
     "metadata": {},
     "output_type": "execute_result"
    }
   ],
   "source": [
    "pfdl_acf_average_trial_pearsonr_df.head(2)"
   ]
  },
  {
   "cell_type": "code",
   "execution_count": 4,
   "id": "45af4ace-5c84-42b2-b708-5edd80c3ca6c",
   "metadata": {},
   "outputs": [],
   "source": [
    "n_lags = 20\n",
    "acf_cols = ['acf_' + str(i) for i in range(n_lags)]\n",
    "\n",
    "pfdl_acf_2d = pfdl_acf_average_trial_pearsonr_df[acf_cols].values\n",
    "pfp_acf_2d = pfp_acf_average_trial_pearsonr_df[acf_cols].values\n",
    "\n",
    "pfdl_acf_mean = np.nanmean(pfdl_acf_2d, axis=0)\n",
    "pfdl_acf_sem = stats.sem(pfdl_acf_2d, axis=0)\n",
    "pfp_acf_mean = np.nanmean(pfp_acf_2d, axis=0)\n",
    "pfp_acf_sem = stats.sem(pfp_acf_2d, axis=0)"
   ]
  },
  {
   "cell_type": "markdown",
   "id": "c2f1494b-0434-480e-977a-458b4ac9c5bd",
   "metadata": {},
   "source": [
    "### Calculate tau"
   ]
  },
  {
   "cell_type": "code",
   "execution_count": 5,
   "id": "0fd337ad-857e-41ff-b389-5023284ff4bd",
   "metadata": {},
   "outputs": [
    {
     "name": "stdout",
     "output_type": "stream",
     "text": [
      "pfdl_tau 235.90304847805464, pfdl_popt [0.24190483 0.21195148 0.08946648], pfdl_fit_r_squared 0.9975039860068926\n"
     ]
    }
   ],
   "source": [
    "pfdl_popt, _, pfdl_tau, pfdl_fit_r_squared, _ = fit_single_exp(pfdl_acf_mean, start_idx_=2, exp_fun_=func_single_exp_monkey)\n",
    "pfdl_tau_ms = pfdl_tau*50\n",
    "print('pfdl_tau {}, pfdl_popt {}, pfdl_fit_r_squared {}'.format(pfdl_tau_ms, pfdl_popt, pfdl_fit_r_squared))"
   ]
  },
  {
   "cell_type": "code",
   "execution_count": 6,
   "id": "e7b0b129-1e80-4c10-9b1b-f28397249baa",
   "metadata": {},
   "outputs": [
    {
     "name": "stdout",
     "output_type": "stream",
     "text": [
      "pfp_tau 229.3335430571914, pfp_popt [0.19424553 0.21802306 0.10490578], pfp_fit_r_squared 0.9950033078805028\n"
     ]
    }
   ],
   "source": [
    "pfp_popt, _, pfp_tau, pfp_fit_r_squared, _ = fit_single_exp(pfp_acf_mean, start_idx_=2, exp_fun_=func_single_exp_monkey)\n",
    "pfp_tau_ms = pfp_tau*50\n",
    "print('pfp_tau {}, pfp_popt {}, pfp_fit_r_squared {}'.format(pfp_tau_ms, pfp_popt, pfp_fit_r_squared))"
   ]
  },
  {
   "cell_type": "markdown",
   "id": "458eeedb-0cfe-4fce-99a1-89e74a9f2b61",
   "metadata": {},
   "source": [
    "### Plot"
   ]
  },
  {
   "cell_type": "code",
   "execution_count": 7,
   "id": "b2fbbecf-1952-4575-be24-75d4fc4814be",
   "metadata": {},
   "outputs": [],
   "source": [
    "save_fig = False\n",
    "fig_folder = 'E:\\\\projects_q_30_10_2024\\\\isttc\\\\results\\\\monkey\\\\fig_drafts\\\\'"
   ]
  },
  {
   "cell_type": "code",
   "execution_count": 8,
   "id": "317036d7-fc15-460a-a86c-35992b796548",
   "metadata": {},
   "outputs": [
    {
     "data": {
      "image/png": "[encoded data removed]",
      "text/plain": [
       "<Figure size 600x400 with 1 Axes>"
      ]
     },
     "metadata": {},
     "output_type": "display_data"
    }
   ],
   "source": [
    "fig, axes = plt.subplots(1,1, figsize=(6,4))\n",
    "\n",
    "t = np.linspace(1, n_lags-1, n_lags-1).astype(int)\n",
    "t_labels = np.linspace(50, 950, n_lags-1).astype(int)\n",
    "\n",
    "pfp_label = 'PFp: ' + str(int(pfp_tau_ms)) + ' ms (n=' + str(len(pfp_acf_average_trial_pearsonr_df)) + ')'\n",
    "axes.errorbar(t, pfp_acf_mean[1:], pfp_acf_sem[1:], linestyle='None', marker='.', capsize=5, color='#b8549b', label=pfp_label)\n",
    "axes.plot(t, func_single_exp_monkey(t, pfp_popt[0], pfp_popt[1], pfp_popt[2]), color='#b8549b')\n",
    "\n",
    "pfdl_label = 'PFdl: ' + str(int(pfdl_tau_ms)) + ' ms (n=' + str(len(pfdl_acf_average_trial_pearsonr_df)) + ')'\n",
    "axes.errorbar(t, pfdl_acf_mean[1:], pfdl_acf_sem[1:], linestyle='None', marker='.', capsize=5, color='#dd7f28', label=pfdl_label)\n",
    "axes.plot(t, func_single_exp_monkey(t, pfdl_popt[0], pfdl_popt[1], pfdl_popt[2]), color='#dd7f28', )\n",
    "\n",
    "axes.set_ylim([0, 0.25])\n",
    "\n",
    "axes.set_xticks(t)\n",
    "axes.set_xticklabels(t_labels, rotation=90)\n",
    "axes.set_xlabel('Time lag (ms)')\n",
    "axes.set_ylabel('Autocorrelation (a.u.)')  \n",
    "\n",
    "axes.legend(frameon=False)\n",
    "\n",
    "sns.despine()\n",
    "\n",
    "if save_fig:\n",
    "    fig.savefig(fig_folder + 'fig2_repr.png', bbox_inches='tight')\n",
    "    fig.savefig(fig_folder + 'fig2_repr.svg', bbox_inches='tight')"
   ]
  }
 ],
 "metadata": {
  "kernelspec": {
   "display_name": "Python 3 (ipykernel)",
   "language": "python",
   "name": "python3"
  },
  "language_info": {
   "codemirror_mode": {
    "name": "ipython",
    "version": 3
   },
   "file_extension": ".py",
   "mimetype": "text/x-python",
   "name": "python",
   "nbconvert_exporter": "python",
   "pygments_lexer": "ipython3",
   "version": "3.12.3"
  }
 },
 "nbformat": 4,
 "nbformat_minor": 5
}
