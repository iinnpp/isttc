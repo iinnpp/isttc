{
 "cells": [
  {
   "cell_type": "code",
   "execution_count": 1,
   "id": "134c4b9e-75fa-48ee-be02-1b44238a2200",
   "metadata": {},
   "outputs": [],
   "source": [
    "import pickle\n",
    "import numpy as np\n",
    "import matplotlib as plt\n",
    "import seaborn as sns"
   ]
  },
  {
   "cell_type": "code",
   "execution_count": 2,
   "id": "36fb4ad1-5133-42a4-9c90-d34c53719247",
   "metadata": {},
   "outputs": [],
   "source": [
    "data_folder = 'Q:\\\\Personal\\\\Irina\\\\projects\\\\isttc\\\\monkey_dataset\\\\Irina_data\\\\'"
   ]
  },
  {
   "cell_type": "markdown",
   "id": "07c8cffb-f5ba-4cf3-8a99-506e6be8fcf0",
   "metadata": {},
   "source": [
    "### Tests"
   ]
  },
  {
   "cell_type": "markdown",
   "id": "61d50fdb-7760-4f60-b4e8-ecc9467aede3",
   "metadata": {},
   "source": [
    "#### Load everything"
   ]
  },
  {
   "cell_type": "code",
   "execution_count": 4,
   "id": "60ecdb16-433f-4a03-ad5d-ea87dad88fbd",
   "metadata": {},
   "outputs": [
    {
     "name": "stdout",
     "output_type": "stream",
     "text": [
      "N neurons in PFdl fixON 544\n",
      "N neurons in PFdl cueON 544\n",
      "N neurons in PFdl delayON 544\n",
      "N neurons in PFdl rewardON 544\n"
     ]
    }
   ],
   "source": [
    "with open(data_folder + 'data_PFdl_fixON.pkl', 'rb') as f:\n",
    "    data_PFdl_fix_on = pickle.load(f)\n",
    "\n",
    "with open(data_folder + 'data_PFdl_cueON.pkl', 'rb') as f:\n",
    "    data_PFdl_cue_on = pickle.load(f)\n",
    "\n",
    "with open(data_folder + 'data_PFdl_delayON.pkl', 'rb') as f:\n",
    "    data_PFdl_delay_on = pickle.load(f)\n",
    "\n",
    "with open(data_folder + 'data_PFdl_rewardON.pkl', 'rb') as f:\n",
    "    data_PFdl_reward_on = pickle.load(f)\n",
    "\n",
    "print('N neurons in PFdl fixON {}'.format(len(data_PFdl_fix_on)))\n",
    "print('N neurons in PFdl cueON {}'.format(len(data_PFdl_cue_on)))\n",
    "print('N neurons in PFdl delayON {}'.format(len(data_PFdl_delay_on)))\n",
    "print('N neurons in PFdl rewardON {}'.format(len(data_PFdl_reward_on)))"
   ]
  },
  {
   "cell_type": "code",
   "execution_count": 5,
   "id": "ff6e73d0-6115-49c1-ab1d-67985988e648",
   "metadata": {},
   "outputs": [
    {
     "name": "stdout",
     "output_type": "stream",
     "text": [
      "N neurons in PFp fixON 543\n",
      "N neurons in PFp cueON 543\n",
      "N neurons in PFp delayON 543\n",
      "N neurons in PFp rewardON 543\n"
     ]
    }
   ],
   "source": [
    "with open(data_folder + 'data_PFp_fixON.pkl', 'rb') as f:\n",
    "    data_PFp_fix_on = pickle.load(f)\n",
    "\n",
    "with open(data_folder + 'data_PFp_cueON.pkl', 'rb') as f:\n",
    "    data_PFp_cue_on = pickle.load(f)\n",
    "\n",
    "with open(data_folder + 'data_PFp_delayON.pkl', 'rb') as f:\n",
    "    data_PFp_delay_on = pickle.load(f)\n",
    "\n",
    "with open(data_folder + 'data_PFp_rewardON.pkl', 'rb') as f:\n",
    "    data_PFp_reward_on = pickle.load(f)\n",
    "\n",
    "print('N neurons in PFp fixON {}'.format(len(data_PFp_fix_on)))\n",
    "print('N neurons in PFp cueON {}'.format(len(data_PFp_cue_on)))\n",
    "print('N neurons in PFp delayON {}'.format(len(data_PFp_delay_on)))\n",
    "print('N neurons in PFp rewardON {}'.format(len(data_PFp_reward_on)))"
   ]
  },
  {
   "cell_type": "markdown",
   "id": "e44619c3-97fb-4695-9eab-a554df20e3f1",
   "metadata": {},
   "source": [
    "#### Load one neuron"
   ]
  },
  {
   "cell_type": "code",
   "execution_count": 26,
   "id": "6f3e733a-343e-415c-9ead-6b80ba4b806e",
   "metadata": {},
   "outputs": [
    {
     "name": "stdout",
     "output_type": "stream",
     "text": [
      "N task conditions unit1_fix_on 8\n",
      "N trials for task conditions 1: 8\n",
      "N trials for task conditions 2: 11\n",
      "N trials for task conditions 3: 11\n",
      "N trials for task conditions 4: 11\n",
      "N trials for task conditions 5: 12\n",
      "N trials for task conditions 6: 12\n",
      "N trials for task conditions 7: 15\n",
      "N trials for task conditions 8: 12\n",
      "Total number of trials 92\n"
     ]
    }
   ],
   "source": [
    "unit1_fix_on = data_PFdl_fix_on[0]\n",
    "print('N task conditions unit1_fix_on {}'.format(len(unit1_fix_on)))\n",
    "\n",
    "# for every task condition - n trials\n",
    "n_trials_all_conditions = 0\n",
    "for i in range(len(unit1_fix_on)):\n",
    "    print('N trials for task conditions {}: {}'.format(i+1, len(unit1_fix_on[i])))\n",
    "    n_trials_all_conditions = n_trials_all_conditions + len(unit1_fix_on[i])\n",
    "\n",
    "print('Total number of trials {}'.format(n_trials_all_conditions))"
   ]
  },
  {
   "cell_type": "code",
   "execution_count": 29,
   "id": "870b4a22-c7f9-4634-8b51-7049e173b658",
   "metadata": {},
   "outputs": [
    {
     "data": {
      "text/plain": [
       "[array([-238, -230, -196, -171,  -83,  -69,   -7,   20,   71,  205,  219,\n",
       "         247,  328,  380,  394,  428,  475,  763,  796, 1104, 1362, 1373,\n",
       "        1397, 1427, 1771, 1789, 1993, 2011, 2103, 2128, 2196, 2239, 2327,\n",
       "        2381, 2458, 2524, 2590, 2627, 2678, 2792, 2991, 3116, 3137, 3148,\n",
       "        3343, 3368, 3433, 3615, 3636, 3659, 3678, 3693, 3723, 3752, 3770,\n",
       "        3794, 3817, 3840, 3895, 3954, 4006, 4020, 4033, 4090, 4123, 4143,\n",
       "        4192, 4222, 4276, 4313, 4385, 4423, 4480, 4498, 4583, 4617, 4680,\n",
       "        4755])]"
      ]
     },
     "execution_count": 29,
     "metadata": {},
     "output_type": "execute_result"
    }
   ],
   "source": [
    "# Plot all trial for one neuron\n",
    "spike_times = unit1_fix_on[0][0]\n",
    "spike_times"
   ]
  }
 ],
 "metadata": {
  "kernelspec": {
   "display_name": "Python 3 (ipykernel)",
   "language": "python",
   "name": "python3"
  },
  "language_info": {
   "codemirror_mode": {
    "name": "ipython",
    "version": 3
   },
   "file_extension": ".py",
   "mimetype": "text/x-python",
   "name": "python",
   "nbconvert_exporter": "python",
   "pygments_lexer": "ipython3",
   "version": "3.12.3"
  }
 },
 "nbformat": 4,
 "nbformat_minor": 5
}
