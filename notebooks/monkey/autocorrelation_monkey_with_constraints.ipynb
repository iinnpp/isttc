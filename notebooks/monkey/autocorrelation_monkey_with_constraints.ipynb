{
 "cells": [
  {
   "cell_type": "code",
   "execution_count": 1,
   "id": "6c772e8c-6e8e-4676-b4e5-1326f085ddf2",
   "metadata": {},
   "outputs": [],
   "source": [
    "import pandas as pd\n",
    "import numpy as np\n",
    "import csv\n",
    "from scipy.stats import pearsonr\n",
    "from scipy.stats import ConstantInputWarning\n",
    "from statsmodels.tsa.stattools import acf\n",
    "import matplotlib.pyplot as plt\n",
    "import seaborn as sns\n",
    "\n",
    "import warnings"
   ]
  },
  {
   "cell_type": "markdown",
   "id": "e86e632b-f5a0-4ee7-8a58-12740c3154ee",
   "metadata": {},
   "source": [
    "### Get and prep the data"
   ]
  },
  {
   "cell_type": "code",
   "execution_count": 7,
   "id": "2a3c623b-b349-496d-8a19-32155ce4bbb4",
   "metadata": {},
   "outputs": [],
   "source": [
    "area = 'pfdl' # pfp"
   ]
  },
  {
   "cell_type": "code",
   "execution_count": 8,
   "id": "8a7edf15-b4d3-4cbc-aab7-96ae7c71d00e",
   "metadata": {},
   "outputs": [
    {
     "name": "stdout",
     "output_type": "stream",
     "text": [
      "N spike_trains in pfdl fixON 33018\n",
      "(33018, 33)\n",
      "(33018, 23)\n",
      "33018\n",
      "n units 543\n",
      "543\n"
     ]
    }
   ],
   "source": [
    "#results_folder = 'Q:\\\\Personal\\\\Irina\\\\projects\\\\isttc\\\\results\\\\monkey\\\\'\n",
    "results_folder = 'E:\\\\projects_q_30_10_2024\\\\isttc\\\\results\\\\monkey\\\\'\n",
    "save_folder = results_folder + 'fixation_period_1000ms\\\\' + area + '\\\\acf\\\\'\n",
    "#results_folder = 'D:\\\\projects_q_30_10_2024\\\\isttc\\\\results\\\\monkey\\\\'\n",
    "\n",
    "csv_data_file_pfdl = results_folder + 'data_' + area + '_fixon_1500ms_fixation_binned_50ms.csv'\n",
    "with open(csv_data_file_pfdl, newline='') as f:\n",
    "    reader = csv.reader(f)\n",
    "    sua_list_pfdl = list(reader)\n",
    "    \n",
    "n_spike_trains_pfdl = len(sua_list_pfdl)\n",
    "print('N spike_trains in {} fixON {}'.format(area, n_spike_trains_pfdl))\n",
    "\n",
    "# transform list to an array and to a dataframe \n",
    "sua_array_pfdl = np.array(sua_list_pfdl)\n",
    "print(sua_array_pfdl.shape)\n",
    "\n",
    "# for 1000 calc\n",
    "sua_array_pfdl = sua_array_pfdl[:, :-1-9]\n",
    "print(sua_array_pfdl.shape)\n",
    "\n",
    "bin_cols = ['bin_' + str(i) for i in range(sua_array_pfdl.shape[1]-3)]\n",
    "sua_pfdl_df = pd.DataFrame(sua_array_pfdl, columns=['unit_id', 'trial_id','condition_id'] + bin_cols)\n",
    "sua_pfdl_df = sua_pfdl_df.astype('int')\n",
    "print(len(sua_pfdl_df))\n",
    "\n",
    "n_units = len(sua_pfdl_df['unit_id'].unique())\n",
    "print('n units {}'.format(n_units))\n",
    "\n",
    "# average unit activity across trails and conditions\n",
    "unit_average_df = sua_pfdl_df.groupby(by='unit_id', as_index=False)[bin_cols].mean()\n",
    "print(len(unit_average_df))"
   ]
  },
  {
   "cell_type": "code",
   "execution_count": null,
   "id": "a6d691b3-6b15-4d37-9504-ae81744cf34b",
   "metadata": {},
   "outputs": [],
   "source": [
    "sua_pfdl_df"
   ]
  },
  {
   "cell_type": "markdown",
   "id": "f2107232-e754-4d60-8cf7-8278bc350849",
   "metadata": {},
   "source": [
    "#### Apply contstraints to dataset\n",
    "\n",
    "1. at least 20 completed trials\n",
    "2. at least 1hz of mean activity during the fixation period\n",
    "3. each 50-ms time bin during fixation with nonzero mean activity"
   ]
  },
  {
   "cell_type": "code",
   "execution_count": null,
   "id": "5f79e668-03eb-4da8-8e1b-a1de4bf1ddf7",
   "metadata": {},
   "outputs": [],
   "source": [
    "# at least 20 completed trials\n",
    "unit_trial_count_df = sua_pfdl_df.groupby(by='unit_id', as_index=False)['trial_id'].count()\n",
    "unit_trial_count_df.rename(columns={'trial_id':'n_trials'}, inplace=True)\n",
    "unit_trial_count_more20_df = unit_trial_count_df.query('n_trials >= 20').copy()\n",
    "n_units_trials_20 = len(unit_trial_count_more20_df)\n",
    "units_trials_20 = unit_trial_count_more20_df['unit_id'].values\n",
    "#unit_trial_count_more20_df\n",
    "\n",
    "sua_pfdl_trials_20_df = sua_pfdl_df[sua_pfdl_df['unit_id'].isin(units_trials_20)].copy()\n",
    "print(len(sua_pfdl_trials_20_df['unit_id'].unique()))"
   ]
  },
  {
   "cell_type": "code",
   "execution_count": null,
   "id": "d7e54170-aefa-4e42-8e58-5b4b9c327764",
   "metadata": {},
   "outputs": [],
   "source": [
    "# each 50-ms time bin during fixation with nonzero mean activity\n",
    "trial_mean_activity_df = sua_pfdl_trials_20_df.groupby(by='unit_id', as_index=False)[bin_cols].mean()\n",
    "\n",
    "# n rows with nans\n",
    "n_nans_trial_mean_activity_df = trial_mean_activity_df.isna().any(axis=1).sum()\n",
    "print('n rows with nans {}'.format(n_nans_trial_mean_activity_df))\n",
    "\n",
    "# n rows with 0\n",
    "rows_without_0_unit_id_l = trial_mean_activity_df[(trial_mean_activity_df[bin_cols].values != 0).all(axis=1)]['unit_id'].values.tolist()\n",
    "n_units_without_0_bins = len(rows_without_0_unit_id_l)\n",
    "print('n rows without 0 bins {}'.format(n_units_without_0_bins))\n",
    "\n",
    "sua_pfdl_trials_20_no_0_bins_df = sua_pfdl_trials_20_df[sua_pfdl_trials_20_df['unit_id'].isin(rows_without_0_unit_id_l)].copy()\n",
    "print(len(sua_pfdl_trials_20_no_0_bins_df['unit_id'].unique()))"
   ]
  },
  {
   "cell_type": "code",
   "execution_count": null,
   "id": "9e715f06-6143-48f9-9057-d0abaa0d6904",
   "metadata": {},
   "outputs": [],
   "source": [
    "# at least 1hz of mean activity during the fixation period\n",
    "trials_20_no_0_bins_mean_activity_df = sua_pfdl_trials_20_no_0_bins_df.groupby(by='unit_id', as_index=False)[bin_cols].mean()\n",
    "trials_20_no_0_bins_mean_activity_df['bins_sum'] = trials_20_no_0_bins_mean_activity_df[bin_cols].sum(axis=1)\n",
    "trials_20_no_0_bins_mean_activity_df['fr_hz'] = trials_20_no_0_bins_mean_activity_df['bins_sum']/1.5 # 1500ms\n",
    "units_more_1hz_l = trials_20_no_0_bins_mean_activity_df.query('fr_hz >= 1')['unit_id'].values\n",
    "n_units_more_1hz_l = len(units_more_1hz_l)\n",
    "\n",
    "sua_pfdl_trials_20_no_0_bins_1hz_df = sua_pfdl_trials_20_no_0_bins_df[sua_pfdl_trials_20_no_0_bins_df['unit_id'].isin(units_more_1hz_l)].copy()\n",
    "print(len(sua_pfdl_trials_20_no_0_bins_1hz_df['unit_id'].unique()))"
   ]
  },
  {
   "cell_type": "code",
   "execution_count": null,
   "id": "fa13e9f8-5384-4871-8908-457e5e2a1fad",
   "metadata": {},
   "outputs": [],
   "source": [
    "print('After first constraint: {}'.format(n_units_trials_20))\n",
    "print('After second constraint: {}'.format(n_units_without_0_bins))\n",
    "print('After third constraint: {}'.format(n_units_more_1hz_l))"
   ]
  },
  {
   "cell_type": "code",
   "execution_count": 9,
   "id": "af05a646-fdf7-4e2b-a886-606a90f55de3",
   "metadata": {},
   "outputs": [
    {
     "name": "stdout",
     "output_type": "stream",
     "text": [
      "n rows with nans 0\n",
      "n rows without 0 bins 382\n",
      "543\n"
     ]
    }
   ],
   "source": [
    "# todo THIS is temp here!\n",
    "pfp_constrained_data_acf_binned_1000_df = sua_pfdl_df.groupby(by='unit_id', as_index=False)['trial_id'].count()\n",
    "pfp_constrained_data_acf_binned_1000_df.rename(columns={'trial_id':'n_trials'}, inplace=True)\n",
    "pfp_constrained_data_acf_binned_1000_df['n_trials_more_20'] = pfp_constrained_data_acf_binned_1000_df['n_trials'] >= 20\n",
    "\n",
    "\n",
    "# each 50-ms time bin during fixation with nonzero mean activity\n",
    "trial_mean_activity_df = sua_pfdl_df.groupby(by='unit_id', as_index=False)[bin_cols].mean()\n",
    "\n",
    "# n rows with nans\n",
    "n_nans_trial_mean_activity_df = trial_mean_activity_df.isna().any(axis=1).sum()\n",
    "print('n rows with nans {}'.format(n_nans_trial_mean_activity_df))\n",
    "\n",
    "# n rows with 0\n",
    "rows_without_0_unit_id_l = trial_mean_activity_df[(trial_mean_activity_df[bin_cols].values != 0).all(axis=1)]['unit_id'].values.tolist()\n",
    "n_units_without_0_bins = len(rows_without_0_unit_id_l)\n",
    "print('n rows without 0 bins {}'.format(n_units_without_0_bins))\n",
    "\n",
    "non_zero_df = pd.DataFrame(np.vstack((rows_without_0_unit_id_l, np.ones(len(rows_without_0_unit_id_l)))).T.astype(int), \n",
    "                           columns=['unit_id', 'no_zero_bins'])\n",
    "pfp_constrained_data_acf_binned_1000_df = pfp_constrained_data_acf_binned_1000_df.merge(non_zero_df, on='unit_id', how='left')\n",
    "pfp_constrained_data_acf_binned_1000_df['no_zero_bins'] = pfp_constrained_data_acf_binned_1000_df['no_zero_bins'].fillna(value=0).astype(int)\n",
    "pfp_constrained_data_acf_binned_1000_df\n",
    "\n",
    "# at least 1hz of mean activity during the fixation period\n",
    "trials_20_no_0_bins_mean_activity_df = sua_pfdl_df.groupby(by='unit_id', as_index=False)[bin_cols].mean()\n",
    "trials_20_no_0_bins_mean_activity_df['bins_sum'] = trials_20_no_0_bins_mean_activity_df[bin_cols].sum(axis=1)\n",
    "trials_20_no_0_bins_mean_activity_df['fr_hz'] = trials_20_no_0_bins_mean_activity_df['bins_sum']/1.5 # 1500ms\n",
    "units_more_1hz_l = trials_20_no_0_bins_mean_activity_df.query('fr_hz >= 1')['unit_id'].values\n",
    "\n",
    "one_hz_df = pd.DataFrame(np.vstack((units_more_1hz_l, np.ones(len(units_more_1hz_l)))).T.astype(int), \n",
    "                           columns=['unit_id', 'one_hz_activity'])\n",
    "pfp_constrained_data_acf_binned_1000_df = pfp_constrained_data_acf_binned_1000_df.merge(one_hz_df, on='unit_id', how='left')\n",
    "pfp_constrained_data_acf_binned_1000_df['one_hz_activity'] = pfp_constrained_data_acf_binned_1000_df['one_hz_activity'].fillna(value=0).astype(int)\n",
    "pfp_constrained_data_acf_binned_1000_df\n",
    "\n",
    "pfp_constrained_data_acf_binned_1000_df.to_pickle(results_folder + 'fixation_period_1000ms\\\\pfdl_constrained_data_acf_binned_1000_df.pkl')\n",
    "print(len(pfp_constrained_data_acf_binned_1000_df))"
   ]
  },
  {
   "cell_type": "markdown",
   "id": "d21ce9e8-388a-483a-95b0-15285186924d",
   "metadata": {},
   "source": [
    "### Calculate autocorrelation"
   ]
  },
  {
   "cell_type": "code",
   "execution_count": null,
   "id": "c1d3c4af-16d1-464b-a252-1c9fb2654cde",
   "metadata": {},
   "outputs": [],
   "source": [
    "def autocorr_pearsonr(signal_, lag_=1, verbose=True):\n",
    "    # autocorrelation for 1 lag, using pearsonr from scipy\n",
    "    if verbose:\n",
    "        print('Calc for lag {}, input length {}'.format(lag_, signal_.shape))\n",
    "    with warnings.catch_warnings():\n",
    "        warnings.filterwarnings('error')\n",
    "        try:\n",
    "            r, p = pearsonr(signal_[lag_:], signal_[:-lag_])\n",
    "        except ConstantInputWarning as e:\n",
    "            print('ERROR: Pearson r can not be calculated for lag {}'.format(lag_))\n",
    "            r = np.nan\n",
    "    if verbose:\n",
    "        print('ac_lag {}'.format(r))\n",
    "    return r  \n",
    "\n",
    "def acf_pearsonr(signal_, nlags=2, verbose=True):\n",
    "    acf = [1] \n",
    "    for i in range(1, nlags): # todo why I had here nlags+1?\n",
    "        acf.append(autocorr_pearsonr(signal_, i, verbose)) \n",
    "    return np.array(acf)\n",
    "\n",
    "def acf_pearsonr_trial_avg(trials_time_series_2d, nlags_, verbose=True):\n",
    "    time_series_a = trials_time_series_2d[:, :nlags_]\n",
    "    nbins = time_series_a.shape[1]\n",
    "    if verbose:\n",
    "        print('nbins to use {}'.format(nbins))\n",
    "    acf_matrix = np.zeros((nbins, nbins))\n",
    "\n",
    "    for i in np.arange(nbins-1):\n",
    "        for j in np.arange(i+1, nbins): # filling i-th row\n",
    "            with warnings.catch_warnings():\n",
    "                warnings.filterwarnings('error')\n",
    "                try:\n",
    "                    r, p = pearsonr(time_series_a[:,i], time_series_a[:,j]) \n",
    "                    acf_matrix[i, j] = r\n",
    "                except ConstantInputWarning as e:\n",
    "                    print('ERROR: Pearson r can not be calculated for i={}, j={}'.format(i,j))\n",
    "                    acf_matrix[i, j] = np.nan\n",
    "            \n",
    "    np.fill_diagonal(acf_matrix, 1)\n",
    "            \n",
    "    acf_average = np.zeros((nbins,))\n",
    "    for i in range(nbins):\n",
    "        with warnings.catch_warnings():\n",
    "            warnings.filterwarnings('error')\n",
    "            try:\n",
    "                acf_average[i] = np.nanmean(np.diag(acf_matrix, k=i))\n",
    "            except RuntimeWarning as e:\n",
    "                print('ERROR: Mean can not be calculated for lag={}'.format(i), e)\n",
    "                acf_average[i] = np.nan\n",
    "                \n",
    "    return acf_matrix, acf_average"
   ]
  },
  {
   "cell_type": "code",
   "execution_count": null,
   "id": "30edd5da-3409-49fa-8855-7d2ba5253fbd",
   "metadata": {},
   "outputs": [],
   "source": [
    "n_lags = 20\n",
    "acf_cols = ['acf_' + str(i) for i in range(n_lags)]\n",
    "print('acf_cols {}'.format(acf_cols))"
   ]
  },
  {
   "cell_type": "code",
   "execution_count": null,
   "id": "055218be-14c7-4ba9-89ae-6fa918d68d1c",
   "metadata": {},
   "outputs": [],
   "source": [
    "unit_average_df = sua_pfdl_trials_20_no_0_bins_1hz_df.groupby(by='unit_id', as_index=False)[bin_cols].mean()\n",
    "sua_pfdl_df = sua_pfdl_trials_20_no_0_bins_1hz_df"
   ]
  },
  {
   "cell_type": "code",
   "execution_count": null,
   "id": "3c9ece0a-4343-438b-9081-9a1931f36f03",
   "metadata": {},
   "outputs": [],
   "source": [
    "unit_average_df"
   ]
  },
  {
   "cell_type": "markdown",
   "id": "c997a460-ddbe-495e-ad36-c1ae0c6342d0",
   "metadata": {},
   "source": [
    "#### Calc acf (acf/Pearson) for average over trials and conditions (1 ACF per unit)"
   ]
  },
  {
   "cell_type": "code",
   "execution_count": null,
   "id": "679b57d1-c0ae-476b-be7e-bb03aa360443",
   "metadata": {},
   "outputs": [],
   "source": [
    "acf_proper_trial_mean_l = []\n",
    "\n",
    "for unit in range(len(unit_average_df)):\n",
    "    print('Processing unit {}'.format(unit_average_df['unit_id'].values[unit]))\n",
    "    # there is nothing to correlated with at lag 20 for 1000ms\n",
    "    # acf will return 0 because of the formula\n",
    "    acf_proper_trial_mean = acf(unit_average_df[bin_cols].values[unit, :], nlags=n_lags) \n",
    "    acf_proper_trial_mean_l.append(acf_proper_trial_mean)\n",
    "\n",
    "acf_proper_trial_mean_df = pd.DataFrame(np.array(acf_proper_trial_mean_l), columns=acf_cols)\n",
    "acf_proper_trial_mean_df.insert(0, 'unit_id', unit_average_df['unit_id'].values)\n",
    "\n",
    "print('NaNs in acf {}'.format(acf_proper_trial_mean_df.isnull().any().any()))\n",
    "acf_proper_trial_mean_df.head(3)"
   ]
  },
  {
   "cell_type": "code",
   "execution_count": null,
   "id": "ec4c93b6-2268-4681-879c-7995dd687069",
   "metadata": {},
   "outputs": [],
   "source": [
    "acf_pearsonr_trial_mean_l = []\n",
    "\n",
    "for unit in range(len(unit_average_df)):\n",
    "    print('Processing unit {}'.format(unit_average_df['unit_id'].values[unit]))\n",
    "    acf_pearsonr_trial_mean = acf_pearsonr(unit_average_df[bin_cols].values[unit, :], nlags=n_lags-1, verbose=False) # -2 for calc 1000 todo\n",
    "    acf_pearsonr_trial_mean_l.append(acf_pearsonr_trial_mean)\n",
    "\n",
    "acf_pearsonr_trial_mean_df = pd.DataFrame(np.array(acf_pearsonr_trial_mean_l), columns=acf_cols[:-1]) # also for 1000\n",
    "acf_pearsonr_trial_mean_df.insert(0, 'unit_id', unit_average_df['unit_id'].values)\n",
    "\n",
    "print('NaNs in acf {}'.format(acf_pearsonr_trial_mean_df.isnull().any().any()))\n",
    "acf_pearsonr_trial_mean_df.head(3)"
   ]
  },
  {
   "cell_type": "code",
   "execution_count": null,
   "id": "6ba7c821-fe4f-4c71-a27b-efcc1884babc",
   "metadata": {},
   "outputs": [],
   "source": [
    "acf_proper_trial_mean_df.to_pickle(save_folder + 'acf_proper_trial_mean_constraint_input_50ms_20lags_df.pkl')\n",
    "acf_pearsonr_trial_mean_df.to_pickle(save_folder + 'acf_pearsonr_trial_mean_constraint_input_50ms_20lags_df.pkl')"
   ]
  },
  {
   "cell_type": "markdown",
   "id": "7d1aaf30-c36a-4290-9536-4b9227ba1ea9",
   "metadata": {},
   "source": [
    "#### Calc acf (acf/Pearson) per trial (multiple ACFs per unit)"
   ]
  },
  {
   "cell_type": "code",
   "execution_count": null,
   "id": "3be4acb3-aa74-4fe5-9eb9-34fe9e3ddcc0",
   "metadata": {},
   "outputs": [],
   "source": [
    "acf_proper_l = []\n",
    "\n",
    "for idx in range(len(sua_pfdl_df)):\n",
    "    print('Processing unit {}, trial {}'.format(sua_pfdl_df['unit_id'].values[idx], sua_pfdl_df['trial_id'].values[idx]))\n",
    "    acf_proper = acf(sua_pfdl_df[bin_cols].values[idx, :], nlags=n_lags)\n",
    "    acf_proper_l.append(acf_proper)\n",
    "\n",
    "acf_proper_df = pd.DataFrame(np.array(acf_proper_l), columns=acf_cols)\n",
    "acf_proper_df.insert(0, 'unit_id', sua_pfdl_df['unit_id'].values)\n",
    "acf_proper_df.insert(1, 'trial_id', sua_pfdl_df['trial_id'].values)\n",
    "\n",
    "print('NaNs in acf {}'.format(acf_proper_df.isnull().any().any()))\n",
    "acf_proper_df.head(3)"
   ]
  },
  {
   "cell_type": "code",
   "execution_count": null,
   "id": "1c2aa670-bd21-4958-b05a-23dc15fbe38f",
   "metadata": {},
   "outputs": [],
   "source": [
    "acf_pearsonr_l = []\n",
    "\n",
    "for idx in range(len(sua_pfdl_df)):\n",
    "    print('Processing unit {}, trial {}'.format(sua_pfdl_df['unit_id'].values[idx], sua_pfdl_df['trial_id'].values[idx]))\n",
    "    acf_pearsonr_ = acf_pearsonr(sua_pfdl_df[bin_cols].values[idx, :], nlags=n_lags-1, verbose=False)\n",
    "    acf_pearsonr_l.append(acf_pearsonr_)\n",
    "\n",
    "acf_pearsonr_df = pd.DataFrame(np.array(acf_pearsonr_l), columns=acf_cols[:-1])\n",
    "acf_pearsonr_df.insert(0, 'unit_id', sua_pfdl_df['unit_id'].values)\n",
    "acf_pearsonr_df.insert(1, 'trial_id', sua_pfdl_df['trial_id'].values)\n",
    "\n",
    "print('NaNs in acf {}'.format(acf_pearsonr_df.isnull().any().any()))\n",
    "acf_pearsonr_df.head(3)"
   ]
  },
  {
   "cell_type": "code",
   "execution_count": null,
   "id": "a40c0603-4e13-43df-b84a-72bfda2f139f",
   "metadata": {},
   "outputs": [],
   "source": [
    "acf_proper_df.to_pickle(save_folder + 'acf_proper_df_constraint_input_50ms_20lags_df.pkl')\n",
    "acf_pearsonr_df.to_pickle(save_folder + 'acf_pearsonr_df_constraint_input_50ms_20lags_df.pkl')"
   ]
  },
  {
   "cell_type": "code",
   "execution_count": null,
   "id": "555eaac3-30fa-4448-9d66-a6260a01f01a",
   "metadata": {},
   "outputs": [],
   "source": [
    "# n rows with nans\n",
    "n_nans_acf_proper_trial_mean_df = acf_proper_trial_mean_df.isna().any(axis=1).sum()\n",
    "n_nans_acf_pearsonr_trial_mean_df = acf_pearsonr_trial_mean_df.isna().any(axis=1).sum()\n",
    "n_nans_acf_proper_df = acf_proper_df.isna().any(axis=1).sum()\n",
    "n_nans_acf_pearsonr_df = acf_pearsonr_df.isna().any(axis=1).sum()"
   ]
  },
  {
   "cell_type": "code",
   "execution_count": null,
   "id": "4fea200f-8797-4205-8dcb-97f0b3ef976a",
   "metadata": {},
   "outputs": [],
   "source": [
    "fig, axes = plt.subplots(2,2, figsize=(10,8), sharey=True)\n",
    "\n",
    "for acf_ in range(len(acf_proper_trial_mean_df)):\n",
    "    axes[0,0].plot(acf_proper_trial_mean_df[acf_cols].values[acf_, :], lw=0.5, c='k', alpha=0.1)\n",
    "axes[0,0].plot(np.nanmean(acf_proper_trial_mean_df[acf_cols].values, axis=0), c='r', lw=0.5 ,marker='o', markersize='5')\n",
    "axes[0,0].axhline(y=0, lw=0.5, color='k')\n",
    "axes[0,0].axhline(y=1/np.e, lw=0.5, color='k')\n",
    "axes[0,0].set_title('acf_proper_trial_mean, num acf = ' + str(len(acf_proper_trial_mean_df)) + '\\n with nans ' + str(n_nans_acf_proper_trial_mean_df))\n",
    "\n",
    "for acf_ in range(len(acf_pearsonr_trial_mean_df)):\n",
    "    axes[0,1].plot(acf_pearsonr_trial_mean_df[acf_cols[:-1]].values[acf_, :], lw=0.5, c='k', alpha=0.1)\n",
    "axes[0,1].plot(np.nanmean(acf_pearsonr_trial_mean_df[acf_cols[:-1]].values, axis=0), c='r', lw=0.5 ,marker='o', markersize='5')\n",
    "axes[0,1].axhline(y=0, lw=0.5, color='k')\n",
    "axes[0,1].axhline(y=1/np.e, lw=0.5, color='k')\n",
    "axes[0,1].set_title('acf_pearsonr_trial_mean, num acf = ' + str(len(acf_pearsonr_trial_mean_df)) + '\\n with nans ' + str(n_nans_acf_pearsonr_trial_mean_df))\n",
    "\n",
    "for acf_ in range(len(acf_proper_df)):\n",
    "    axes[1,0].plot(acf_proper_df[acf_cols].values[acf_, :], lw=0.5, c='k', alpha=0.1)\n",
    "axes[1,0].plot(np.nanmean(acf_proper_df[acf_cols].values, axis=0), c='r', lw=0.5 ,marker='o', markersize='5')\n",
    "axes[1,0].axhline(y=0, lw=0.5, color='k')\n",
    "axes[1,0].set_title('acf_proper, num acf = ' + str(len(acf_proper_df)) + '\\n with nans ' + str(n_nans_acf_proper_df))\n",
    "\n",
    "for acf_ in range(len(acf_pearsonr_df)):\n",
    "    axes[1,1].plot(acf_pearsonr_df[acf_cols[:-1]].values[acf_, :], lw=0.5, c='k', alpha=0.1)\n",
    "axes[1,1].plot(np.nanmean(acf_pearsonr_df[acf_cols[:-1]].values, axis=0), c='r', lw=0.5 ,marker='o', markersize='5')\n",
    "axes[1,1].axhline(y=0, lw=0.5, color='k')\n",
    "axes[1,1].set_title('acf_pearsonr, num acf = ' + str(len(acf_pearsonr_df)) + '\\n with nans ' + str(n_nans_acf_pearsonr_df))\n",
    "\n",
    "sns.despine()\n",
    "\n",
    "fig.savefig(save_folder + 'acf_proper_and_pearsonr_constraint_input_50ms_20lags.png' , bbox_inches='tight')"
   ]
  },
  {
   "cell_type": "markdown",
   "id": "b28a1f52-078c-48e5-b47b-ef700dc2e46f",
   "metadata": {},
   "source": [
    "#### Calc acf as in Siegle (they use Pearson) - trial average"
   ]
  },
  {
   "cell_type": "code",
   "execution_count": null,
   "id": "1e95d069-f78d-458f-89de-c5dd4eb4c44a",
   "metadata": {},
   "outputs": [],
   "source": [
    "acf_average_trial_pearsonr_l = []\n",
    "acf_matrix_l = []\n",
    "\n",
    "unit_id_l = sua_pfdl_df['unit_id'].unique()\n",
    "unit_id_calc_l = []\n",
    "\n",
    "for unit in unit_id_l:\n",
    "    print('Processing unit {}'.format(unit))\n",
    "    sua_pfdl_one_trial_df = sua_pfdl_df.query('unit_id == @unit')\n",
    "    print('N trials {}'.format(len(sua_pfdl_one_trial_df)))\n",
    "    if len(sua_pfdl_one_trial_df) <= 1:\n",
    "        print('ONLY 1 TRIAL: can not calculate, skipping...')\n",
    "    else:\n",
    "        acf_matrix, acf_average = acf_pearsonr_trial_avg(sua_pfdl_one_trial_df[bin_cols].values, n_lags)\n",
    "        acf_average_trial_pearsonr_l.append(acf_average)\n",
    "        acf_matrix_l.append(acf_matrix)\n",
    "        unit_id_calc_l.append(unit)\n",
    "\n",
    "acf_average_trial_pearsonr_df = pd.DataFrame(np.array(acf_average_trial_pearsonr_l), columns=acf_cols)\n",
    "acf_average_trial_pearsonr_df.insert(0, 'unit_id', unit_id_calc_l)\n",
    "\n",
    "print('NaNs in acf {}'.format(acf_average_trial_pearsonr_df.isnull().any().any()))\n",
    "acf_average_trial_pearsonr_df.head(3)"
   ]
  },
  {
   "cell_type": "code",
   "execution_count": null,
   "id": "442cd783-c213-4366-bef7-a5e19dc27c46",
   "metadata": {},
   "outputs": [],
   "source": [
    "acf_average_trial_pearsonr_df.to_pickle(save_folder + 'acf_average_trial_pearsonr_constrained_input_50ms_20lags_df.pkl')\n",
    "np.save(save_folder + 'acf_matrix_l_constrained_input_50ms_20lags_df.npy', acf_matrix_l)"
   ]
  },
  {
   "cell_type": "code",
   "execution_count": null,
   "id": "a45ba2ef-5870-44f4-933d-8002307b0d82",
   "metadata": {},
   "outputs": [],
   "source": [
    "n_nans_acf_average_trial_pearsonr_df= acf_average_trial_pearsonr_df.isna().any(axis=1).sum()\n",
    "\n",
    "fig, axes = plt.subplots(1,2, figsize=(10,4))\n",
    "\n",
    "for acf_ in range(len(acf_average_trial_pearsonr_df)):\n",
    "    axes[0].plot(acf_average_trial_pearsonr_df[acf_cols].values[acf_, :], lw=0.5, c='k', alpha=0.1)\n",
    "axes[0].plot(np.nanmean(acf_average_trial_pearsonr_df[acf_cols].values, axis=0), c='r', lw=0.5 ,marker='o', markersize='5')\n",
    "axes[0].axhline(y=0, lw=0.5, color='k')\n",
    "axes[0].axhline(y=1/np.e, lw=0.5, color='k')\n",
    "\n",
    "for acf_ in range(len(acf_average_trial_pearsonr_df)):\n",
    "    axes[1].plot(acf_average_trial_pearsonr_df[acf_cols].values[acf_, :], lw=0.5, c='k', alpha=0.1)\n",
    "axes[1].plot(np.nanmean(acf_average_trial_pearsonr_df[acf_cols].values, axis=0), c='r', lw=0.5 ,marker='o', markersize='5')\n",
    "axes[1].axhline(y=0, lw=0.5, color='k')\n",
    "axes[1].axhline(y=1/np.e, lw=0.5, color='k')\n",
    "axes[1].set_xlim([1,19])\n",
    "axes[1].set_ylim([-0.2,0.6])\n",
    "\n",
    "fig.suptitle('acf_average_trial_pearsonr, num acf = ' + str(len(acf_average_trial_pearsonr_df)) + '\\n with nans ' \n",
    "             + str(n_nans_acf_average_trial_pearsonr_df))\n",
    "\n",
    "sns.despine()\n",
    "fig.savefig(save_folder + 'acf_average_trial_pearsonr_constrained_input_50ms_20lags.png' , bbox_inches='tight')"
   ]
  },
  {
   "cell_type": "code",
   "execution_count": null,
   "id": "1181758c-7e19-42d6-8413-749604f5648a",
   "metadata": {},
   "outputs": [],
   "source": [
    "for idx_, acf_matrix_ in enumerate(acf_matrix_l):\n",
    "    fig, axes = plt.subplots(1,1,figsize=(6,6))\n",
    "    acf_matrix_plot = acf_matrix_.T + acf_matrix_\n",
    "    np.fill_diagonal(acf_matrix_plot, 1)\n",
    "    sns.heatmap(acf_matrix_plot, ax=axes)\n",
    "    axes.set_aspect('equal', adjustable='box')\n",
    "    axes.set_title('unit ' + str(int(acf_average_trial_pearsonr_df.iloc[idx_]['unit_id'])))\n",
    "    fig.savefig(save_folder + 'acf_matrices_constraint_input\\\\unit_' + str(int(acf_average_trial_pearsonr_df.iloc[idx_]['unit_id'])), bbox_inches='tight')"
   ]
  }
 ],
 "metadata": {
  "kernelspec": {
   "display_name": "Python 3 (ipykernel)",
   "language": "python",
   "name": "python3"
  },
  "language_info": {
   "codemirror_mode": {
    "name": "ipython",
    "version": 3
   },
   "file_extension": ".py",
   "mimetype": "text/x-python",
   "name": "python",
   "nbconvert_exporter": "python",
   "pygments_lexer": "ipython3",
   "version": "3.12.3"
  }
 },
 "nbformat": 4,
 "nbformat_minor": 5
}
