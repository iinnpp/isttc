{
 "cells": [
  {
   "cell_type": "markdown",
   "id": "3cf22309-3217-4aa3-abad-42b40ea8a35e",
   "metadata": {},
   "source": [
    "Calculate flags for every unit:\n",
    "\n",
    "1. at least 20 completed trials\n",
    "2. at least 1hz of mean activity during the fixation period\n",
    "3. each 50-ms time bin during fixation with nonzero mean activity\n",
    "\n",
    "Flags are calculated based on binned data (to mimic the paper)."
   ]
  },
  {
   "cell_type": "code",
   "execution_count": 1,
   "id": "16c30cfa-24a1-44c4-ace1-267751e47a0d",
   "metadata": {},
   "outputs": [],
   "source": [
    "import pandas as pd\n",
    "import numpy as np\n",
    "import csv\n",
    "import matplotlib.pyplot as plt\n",
    "import seaborn as sns"
   ]
  },
  {
   "cell_type": "code",
   "execution_count": 2,
   "id": "f2bf94bd-ed03-4136-a396-688b409d0af7",
   "metadata": {},
   "outputs": [],
   "source": [
    "fig_folder = 'D:\\\\projects_q_30_10_2024\\\\isttc\\\\results\\\\monkey\\\\fig_drafts\\\\'\n",
    "save_folder = 'D:\\\\projects_q_30_10_2024\\\\isttc\\\\results\\\\monkey\\\\fixation_period_1000ms\\\\'"
   ]
  },
  {
   "cell_type": "code",
   "execution_count": 14,
   "id": "c5c58aa8-2118-4b14-a1a7-d283291a74c4",
   "metadata": {},
   "outputs": [],
   "source": [
    "def load_data(area_, verbose_=False):\n",
    "    # binned data\n",
    "    results_folder = 'D:\\\\projects_q_30_10_2024\\\\isttc\\\\results\\\\monkey\\\\'\n",
    "    \n",
    "    csv_data_file = results_folder + 'data_' + area_ + '_fixon_1500ms_fixation_with_empty_binned_50ms.csv'\n",
    "    with open(csv_data_file, newline='') as f:\n",
    "        reader = csv.reader(f)\n",
    "        sua_binned_list = list(reader)\n",
    "        \n",
    "    n_binned_spike_trains = len(sua_binned_list)\n",
    "    print('N spike_trains in {}: {}'.format(area_, n_binned_spike_trains))\n",
    "\n",
    "    # # CREEPY STUFF BELOW!!!\n",
    "    # # the data is binned using 1500ms of fixation period but for caluclation they used only 1000 second (why?)\n",
    "    # # in some trials there are spikes in 1500ms but no spikes in 1000ms, those trials are not removed\n",
    "    # # here I am removing them\n",
    "    # sua_binned_list_no_empty = []\n",
    "    # for idx, trial in enumerate(sua_binned_list):\n",
    "    #     trial_spikes = np.asarray(trial[3:-1-9]).astype(int) # for 1000 calc\n",
    "    #     if np.count_nonzero(trial_spikes) == 0:\n",
    "    #         if verbose_:\n",
    "    #             print('all 0! i= {}, removing...'.format(idx))\n",
    "    #     else:\n",
    "    #         sua_binned_list_no_empty.append(trial)\n",
    "\n",
    "    sua_binned_list_no_empty = sua_binned_list\n",
    "    \n",
    "    n_binned_spike_trains = len(sua_binned_list_no_empty)\n",
    "    print('N spike_trains in {}: {}'.format(area_, n_binned_spike_trains))\n",
    "    # END OF CREEPY STUFF\n",
    "    \n",
    "    # transform list to an array and to a dataframe \n",
    "    sua_binned_array = np.array(sua_binned_list_no_empty)\n",
    "    sua_binned_array = sua_binned_array[:, :-1-9] # for 1000 calc\n",
    "    \n",
    "    bin_cols = ['bin_' + str(i) for i in range(sua_binned_array.shape[1]-3)]\n",
    "    sua_binned_df = pd.DataFrame(sua_binned_array, columns=['unit_id', 'trial_id','condition_id'] + bin_cols)\n",
    "    sua_binned_df = sua_binned_df.astype('int')\n",
    "    \n",
    "    n_binned_units = len(sua_binned_df['unit_id'].unique())\n",
    "    print('n units {}'.format(n_binned_units))\n",
    "\n",
    "    return sua_binned_df, bin_cols"
   ]
  },
  {
   "cell_type": "code",
   "execution_count": 15,
   "id": "69727d2a-71d3-4bde-8950-0d9f191d7f6d",
   "metadata": {},
   "outputs": [
    {
     "name": "stdout",
     "output_type": "stream",
     "text": [
      "N spike_trains in pfdl: 47339\n",
      "N spike_trains in pfdl: 47339\n",
      "n units 544\n",
      "544\n"
     ]
    }
   ],
   "source": [
    "sua_pfdl_df, bin_cols = load_data('pfdl', verbose_=False)\n",
    "\n",
    "# at least 20 completed trials\n",
    "unit_trial_count_df = sua_pfdl_df.groupby(by='unit_id', as_index=False)['trial_id'].count()\n",
    "unit_trial_count_df.rename(columns={'trial_id':'n_trials'}, inplace=True)\n",
    "unit_trial_count_more20_df = unit_trial_count_df.query('n_trials >= 20').copy()\n",
    "n_units_trials_20 = len(unit_trial_count_more20_df)\n",
    "units_trials_20 = unit_trial_count_more20_df['unit_id'].values\n",
    "#unit_trial_count_more20_df\n",
    "\n",
    "sua_pfdl_trials_20_df = sua_pfdl_df[sua_pfdl_df['unit_id'].isin(units_trials_20)].copy()\n",
    "print(len(sua_pfdl_trials_20_df['unit_id'].unique()))"
   ]
  },
  {
   "cell_type": "code",
   "execution_count": 16,
   "id": "d1b0775e-d6c4-43ee-93f3-a8359b31a104",
   "metadata": {},
   "outputs": [
    {
     "name": "stdout",
     "output_type": "stream",
     "text": [
      "n rows with nans 0\n",
      "n rows without 0 bins 382\n",
      "382\n"
     ]
    }
   ],
   "source": [
    "# each 50-ms time bin during fixation with nonzero mean activity\n",
    "trial_mean_activity_df = sua_pfdl_trials_20_df.groupby(by='unit_id', as_index=False)[bin_cols].mean()\n",
    "\n",
    "# n rows with nans\n",
    "n_nans_trial_mean_activity_df = trial_mean_activity_df.isna().any(axis=1).sum()\n",
    "print('n rows with nans {}'.format(n_nans_trial_mean_activity_df))\n",
    "\n",
    "# n rows with 0\n",
    "rows_without_0_unit_id_l = trial_mean_activity_df[(trial_mean_activity_df[bin_cols].values != 0).all(axis=1)]['unit_id'].values.tolist()\n",
    "n_units_without_0_bins = len(rows_without_0_unit_id_l)\n",
    "print('n rows without 0 bins {}'.format(n_units_without_0_bins))\n",
    "\n",
    "sua_pfdl_trials_20_no_0_bins_df = sua_pfdl_trials_20_df[sua_pfdl_trials_20_df['unit_id'].isin(rows_without_0_unit_id_l)].copy()\n",
    "print(len(sua_pfdl_trials_20_no_0_bins_df['unit_id'].unique()))"
   ]
  },
  {
   "cell_type": "code",
   "execution_count": 18,
   "id": "fcfae1ce-a29b-4297-9e6b-283d5f427fc8",
   "metadata": {},
   "outputs": [
    {
     "name": "stdout",
     "output_type": "stream",
     "text": [
      "351\n"
     ]
    }
   ],
   "source": [
    "# at least 1hz of mean activity during the fixation period\n",
    "trials_20_no_0_bins_mean_activity_df = sua_pfdl_trials_20_no_0_bins_df.groupby(by='unit_id', as_index=False)[bin_cols].mean()\n",
    "trials_20_no_0_bins_mean_activity_df['bins_sum'] = trials_20_no_0_bins_mean_activity_df[bin_cols].sum(axis=1)\n",
    "trials_20_no_0_bins_mean_activity_df['fr_hz'] = trials_20_no_0_bins_mean_activity_df['bins_sum']/1 # 1500ms\n",
    "units_more_1hz_l = trials_20_no_0_bins_mean_activity_df.query('fr_hz >= 1')['unit_id'].values\n",
    "n_units_more_1hz_l = len(units_more_1hz_l)\n",
    "\n",
    "sua_pfdl_trials_20_no_0_bins_1hz_df = sua_pfdl_trials_20_no_0_bins_df[sua_pfdl_trials_20_no_0_bins_df['unit_id'].isin(units_more_1hz_l)].copy()\n",
    "print(len(sua_pfdl_trials_20_no_0_bins_1hz_df['unit_id'].unique()))"
   ]
  },
  {
   "cell_type": "code",
   "execution_count": 4,
   "id": "f4dd5d3c-f00d-4bb5-b8df-d1c997d18952",
   "metadata": {},
   "outputs": [],
   "source": [
    "def calculate_constraints_df(sua_binned_df_, bin_cols_):\n",
    "    # Apply contstraints to dataset\n",
    "    # more than 20 trials\n",
    "    dataset_constraints_df = sua_binned_df_.groupby(by='unit_id', as_index=False)['trial_id'].count()\n",
    "    dataset_constraints_df.rename(columns={'trial_id':'n_trials'}, inplace=True)\n",
    "    dataset_constraints_df['n_trials_more_20'] = dataset_constraints_df['n_trials'] >= 20\n",
    "    n_units_more_20_trials = len(dataset_constraints_df.query('n_trials_more_20 == True'))\n",
    "    print('n units with >= 20 trials {}'.format(n_units_more_20_trials))\n",
    "    \n",
    "    # each 50-ms time bin during fixation with nonzero mean activity\n",
    "    trial_mean_activity_df = sua_binned_df_.groupby(by='unit_id', as_index=False)[bin_cols_].mean()\n",
    "    # n rows with nans\n",
    "    n_nans_trial_mean_activity_df = trial_mean_activity_df.isna().any(axis=1).sum()\n",
    "    print('n rows with nans {}'.format(n_nans_trial_mean_activity_df))\n",
    "    # n rows with 0\n",
    "    rows_without_0_unit_id_l = trial_mean_activity_df[(trial_mean_activity_df[bin_cols_].values != 0).all(axis=1)]['unit_id'].values.tolist()\n",
    "    n_units_without_0_bins = len(rows_without_0_unit_id_l)\n",
    "    print('n rows without 0 bins {}'.format(n_units_without_0_bins))\n",
    "    \n",
    "    non_zero_df = pd.DataFrame(np.vstack((rows_without_0_unit_id_l, np.ones(len(rows_without_0_unit_id_l)))).T.astype(int), \n",
    "                               columns=['unit_id', 'no_zero_bins'])\n",
    "    dataset_constraints_df = dataset_constraints_df.merge(non_zero_df, on='unit_id', how='left')\n",
    "    dataset_constraints_df['no_zero_bins'] = dataset_constraints_df['no_zero_bins'].fillna(value=0).astype(int)\n",
    "    \n",
    "    # at least 1hz of mean activity during the fixation period\n",
    "    #trials_20_no_0_bins_mean_activity_df = sua_binned_df_.groupby(by='unit_id', as_index=False)[bin_cols_].mean()\n",
    "    trial_mean_activity_df['bins_sum'] = trial_mean_activity_df[bin_cols_].sum(axis=1)\n",
    "    trial_mean_activity_df['fr_hz'] = trial_mean_activity_df['bins_sum']/1 # 1000ms\n",
    "    units_more_1hz_l = trial_mean_activity_df.query('fr_hz >= 1')['unit_id'].values\n",
    "    print('n rows with more than 1hz {}'.format(len(units_more_1hz_l)))\n",
    "    \n",
    "    one_hz_df = pd.DataFrame(np.vstack((units_more_1hz_l, np.ones(len(units_more_1hz_l)))).T.astype(int), \n",
    "                               columns=['unit_id', 'one_hz_activity'])\n",
    "    dataset_constraints_df = dataset_constraints_df.merge(one_hz_df, on='unit_id', how='left')\n",
    "    dataset_constraints_df['one_hz_activity'] = dataset_constraints_df['one_hz_activity'].fillna(value=0).astype(int)\n",
    "    return dataset_constraints_df"
   ]
  },
  {
   "cell_type": "markdown",
   "id": "133ecf33-82c2-4e58-afd5-cfcc36ab0136",
   "metadata": {},
   "source": [
    "### Get the data"
   ]
  },
  {
   "cell_type": "code",
   "execution_count": 5,
   "id": "9d8b7757-2762-41db-8eb4-4584aa5685f9",
   "metadata": {},
   "outputs": [
    {
     "name": "stdout",
     "output_type": "stream",
     "text": [
      "N spike_trains in pfdl: 47339\n",
      "N spike_trains in pfdl: 47339\n",
      "n units 544\n",
      "n units with >= 20 trials 544\n",
      "n rows with nans 0\n",
      "n rows without 0 bins 382\n",
      "n rows with more than 1hz 391\n",
      "N spike_trains in pfp: 43677\n",
      "N spike_trains in pfp: 43677\n",
      "n units 543\n",
      "n units with >= 20 trials 541\n",
      "n rows with nans 0\n",
      "n rows without 0 bins 332\n",
      "n rows with more than 1hz 338\n"
     ]
    }
   ],
   "source": [
    "pfdl_sua_binned_df, pfdl_bin_cols = load_data(area_='pfdl')\n",
    "pfdl_dataset_constraints_df = calculate_constraints_df(pfdl_sua_binned_df, pfdl_bin_cols)\n",
    "\n",
    "pfp_sua_binned_df, pfp_bin_cols = load_data(area_='pfp')\n",
    "pfp_dataset_constraints_df = calculate_constraints_df(pfp_sua_binned_df, pfp_bin_cols)"
   ]
  },
  {
   "cell_type": "code",
   "execution_count": 6,
   "id": "209b5323-36bc-4301-bd07-3881162b5e2e",
   "metadata": {},
   "outputs": [],
   "source": [
    "# save \n",
    "pfdl_dataset_constraints_df.to_pickle(save_folder + 'pfdl_dataset_constraints_df.pkl')\n",
    "pfp_dataset_constraints_df.to_pickle(save_folder + 'pfp_dataset_constraints_df.pkl')"
   ]
  },
  {
   "cell_type": "code",
   "execution_count": 7,
   "id": "4140567f-d2a6-4769-91b5-af16a6bb81be",
   "metadata": {},
   "outputs": [],
   "source": [
    "def get_reduction_df(constrained_data_acf_binned_1000_df):\n",
    "    one_c = len(constrained_data_acf_binned_1000_df.query('n_trials_more_20 == True'))\n",
    "    two_c = len(constrained_data_acf_binned_1000_df.query('n_trials_more_20 == 1 and no_zero_bins == 1'))\n",
    "    three_c = len(constrained_data_acf_binned_1000_df.query('n_trials_more_20 == 1 and no_zero_bins == 1 and one_hz_activity == 1'))\n",
    "    \n",
    "    reduction_df = pd.DataFrame(np.vstack((['0', '1', '2', '3'], [len(constrained_data_acf_binned_1000_df), one_c, two_c, three_c])).T, \n",
    "                                columns=['n_constraints', 'n_units'])\n",
    "    reduction_df['n_constraints'] = reduction_df['n_constraints'].astype(int)\n",
    "    reduction_df['n_units'] = reduction_df['n_units'].astype(int)\n",
    "    return reduction_df"
   ]
  },
  {
   "cell_type": "code",
   "execution_count": 8,
   "id": "d23a9927-8130-4bac-af86-d0d5c8c42521",
   "metadata": {},
   "outputs": [
    {
     "data": {
      "text/html": [
       "<div>\n",
       "<style scoped>\n",
       "    .dataframe tbody tr th:only-of-type {\n",
       "        vertical-align: middle;\n",
       "    }\n",
       "\n",
       "    .dataframe tbody tr th {\n",
       "        vertical-align: top;\n",
       "    }\n",
       "\n",
       "    .dataframe thead th {\n",
       "        text-align: right;\n",
       "    }\n",
       "</style>\n",
       "<table border=\"1\" class=\"dataframe\">\n",
       "  <thead>\n",
       "    <tr style=\"text-align: right;\">\n",
       "      <th></th>\n",
       "      <th>n_constraints</th>\n",
       "      <th>n_units</th>\n",
       "      <th>area</th>\n",
       "    </tr>\n",
       "  </thead>\n",
       "  <tbody>\n",
       "    <tr>\n",
       "      <th>0</th>\n",
       "      <td>0</td>\n",
       "      <td>544</td>\n",
       "      <td>pfdl</td>\n",
       "    </tr>\n",
       "    <tr>\n",
       "      <th>1</th>\n",
       "      <td>1</td>\n",
       "      <td>544</td>\n",
       "      <td>pfdl</td>\n",
       "    </tr>\n",
       "    <tr>\n",
       "      <th>2</th>\n",
       "      <td>2</td>\n",
       "      <td>382</td>\n",
       "      <td>pfdl</td>\n",
       "    </tr>\n",
       "    <tr>\n",
       "      <th>3</th>\n",
       "      <td>3</td>\n",
       "      <td>351</td>\n",
       "      <td>pfdl</td>\n",
       "    </tr>\n",
       "  </tbody>\n",
       "</table>\n",
       "</div>"
      ],
      "text/plain": [
       "   n_constraints  n_units  area\n",
       "0              0      544  pfdl\n",
       "1              1      544  pfdl\n",
       "2              2      382  pfdl\n",
       "3              3      351  pfdl"
      ]
     },
     "execution_count": 8,
     "metadata": {},
     "output_type": "execute_result"
    }
   ],
   "source": [
    "pfdl_reduction_df = get_reduction_df(pfdl_dataset_constraints_df)\n",
    "pfdl_reduction_df['area'] = 'pfdl'\n",
    "pfdl_reduction_df"
   ]
  },
  {
   "cell_type": "code",
   "execution_count": 9,
   "id": "eefa9254-3434-4b8b-a7fe-131c11edf3da",
   "metadata": {},
   "outputs": [
    {
     "data": {
      "text/html": [
       "<div>\n",
       "<style scoped>\n",
       "    .dataframe tbody tr th:only-of-type {\n",
       "        vertical-align: middle;\n",
       "    }\n",
       "\n",
       "    .dataframe tbody tr th {\n",
       "        vertical-align: top;\n",
       "    }\n",
       "\n",
       "    .dataframe thead th {\n",
       "        text-align: right;\n",
       "    }\n",
       "</style>\n",
       "<table border=\"1\" class=\"dataframe\">\n",
       "  <thead>\n",
       "    <tr style=\"text-align: right;\">\n",
       "      <th></th>\n",
       "      <th>n_constraints</th>\n",
       "      <th>n_units</th>\n",
       "      <th>area</th>\n",
       "    </tr>\n",
       "  </thead>\n",
       "  <tbody>\n",
       "    <tr>\n",
       "      <th>0</th>\n",
       "      <td>0</td>\n",
       "      <td>543</td>\n",
       "      <td>pfp</td>\n",
       "    </tr>\n",
       "    <tr>\n",
       "      <th>1</th>\n",
       "      <td>1</td>\n",
       "      <td>541</td>\n",
       "      <td>pfp</td>\n",
       "    </tr>\n",
       "    <tr>\n",
       "      <th>2</th>\n",
       "      <td>2</td>\n",
       "      <td>331</td>\n",
       "      <td>pfp</td>\n",
       "    </tr>\n",
       "    <tr>\n",
       "      <th>3</th>\n",
       "      <td>3</td>\n",
       "      <td>299</td>\n",
       "      <td>pfp</td>\n",
       "    </tr>\n",
       "  </tbody>\n",
       "</table>\n",
       "</div>"
      ],
      "text/plain": [
       "   n_constraints  n_units area\n",
       "0              0      543  pfp\n",
       "1              1      541  pfp\n",
       "2              2      331  pfp\n",
       "3              3      299  pfp"
      ]
     },
     "execution_count": 9,
     "metadata": {},
     "output_type": "execute_result"
    }
   ],
   "source": [
    "pfp_reduction_df = get_reduction_df(pfp_dataset_constraints_df)\n",
    "pfp_reduction_df['area'] = 'pfp'\n",
    "pfp_reduction_df"
   ]
  },
  {
   "cell_type": "markdown",
   "id": "458eeedb-0cfe-4fce-99a1-89e74a9f2b61",
   "metadata": {},
   "source": [
    "### Plot"
   ]
  },
  {
   "cell_type": "code",
   "execution_count": null,
   "id": "b2fbbecf-1952-4575-be24-75d4fc4814be",
   "metadata": {},
   "outputs": [],
   "source": [
    "save_fig = False"
   ]
  },
  {
   "cell_type": "code",
   "execution_count": null,
   "id": "317036d7-fc15-460a-a86c-35992b796548",
   "metadata": {},
   "outputs": [],
   "source": [
    "fig, axes = plt.subplots(1,1, figsize=(4,3))\n",
    "\n",
    "axes.stackplot(pfdl_reduction_df['n_constraints'].values, \n",
    "               pfdl_reduction_df['n_units'].values, pfp_reduction_df['n_units'].values, \n",
    "               colors =['steelblue', 'slategray'], labels=['pfdl', 'pfp'])\n",
    "\n",
    "axes.set_xticks([0,1,2,3])\n",
    "axes.set_xticklabels(['No constr','>= 20 trials','no 0 bins','>= 1Hz'])\n",
    "\n",
    "axes.set_ylabel('N units')\n",
    "\n",
    "axes.legend(frameon=False)\n",
    "\n",
    "sns.despine()\n",
    "\n",
    "if save_fig:\n",
    "    fig.savefig(fig_folder + 'constraints_on_data.png', bbox_inches='tight')\n",
    "    fig.savefig(fig_folder + 'constraints_on_data.svg', bbox_inches='tight')"
   ]
  }
 ],
 "metadata": {
  "kernelspec": {
   "display_name": "Python 3 (ipykernel)",
   "language": "python",
   "name": "python3"
  },
  "language_info": {
   "codemirror_mode": {
    "name": "ipython",
    "version": 3
   },
   "file_extension": ".py",
   "mimetype": "text/x-python",
   "name": "python",
   "nbconvert_exporter": "python",
   "pygments_lexer": "ipython3",
   "version": "3.12.7"
  }
 },
 "nbformat": 4,
 "nbformat_minor": 5
}
