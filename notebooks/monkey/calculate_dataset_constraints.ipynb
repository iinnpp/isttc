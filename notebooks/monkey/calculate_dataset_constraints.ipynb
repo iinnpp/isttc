{
 "cells": [
  {
   "cell_type": "markdown",
   "id": "3cf22309-3217-4aa3-abad-42b40ea8a35e",
   "metadata": {},
   "source": [
    "Calculate flags for every unit:\n",
    "\n",
    "1. at least 20 completed trials\n",
    "2. at least 1hz of mean activity during the fixation period\n",
    "3. each 50-ms time bin during fixation with nonzero mean activity\n",
    "\n",
    "Flags are calculated based on binned data (to mimic the paper).\n",
    "\n",
    "Flags are calculated on the dataset with empty trials (no spikes at all during fixation period!)\n",
    "\n",
    "[0, 1000] ms portion of the data is used (like in the paper)\n",
    "\n",
    "\n",
    "I can reproduce the 367 and 318 numbers that I once got (I think I made a mistake). Those numbers are closer to the paper (367 and 317). The number of units in total is different from the paper - paper is 551 and 566 and my dataset is 544 and 543:\n",
    "\n",
    "steps to reproduce:\n",
    "1. Load _fixon_1500ms_no_empty_fixation_binned_50ms - whole baseline periods (1500ms) with removed empty trials\n",
    "2. Take only [0, 1000] ms of it\n",
    "3. when checking firing rate - divide by 1.5 insted of 1 to get hz"
   ]
  },
  {
   "cell_type": "code",
   "execution_count": 1,
   "id": "16c30cfa-24a1-44c4-ace1-267751e47a0d",
   "metadata": {},
   "outputs": [],
   "source": [
    "import pandas as pd\n",
    "import numpy as np\n",
    "import csv\n",
    "import matplotlib.pyplot as plt\n",
    "import seaborn as sns\n",
    "\n",
    "# import from scripts\n",
    "import os\n",
    "current_wd = os.getcwd()\n",
    "os.chdir(os.path.abspath(\"..\\\\..\\\\..\\\\isttc\\\\scripts\"))\n",
    "from cfg_global import project_folder_path\n",
    "os.chdir(current_wd)"
   ]
  },
  {
   "cell_type": "code",
   "execution_count": 2,
   "id": "2bd01fbc-4955-4d6c-bce6-0ffc5ea90289",
   "metadata": {},
   "outputs": [],
   "source": [
    "empty_suffix = 'with'"
   ]
  },
  {
   "cell_type": "code",
   "execution_count": 3,
   "id": "f2bf94bd-ed03-4136-a396-688b409d0af7",
   "metadata": {},
   "outputs": [],
   "source": [
    "data_folder = project_folder_path + 'results\\\\monkey\\\\'\n",
    "\n",
    "fig_folder = project_folder_path + 'results\\\\monkey\\\\fig_drafts_paper\\\\'\n",
    "save_fig = True"
   ]
  },
  {
   "cell_type": "code",
   "execution_count": 8,
   "id": "05754376-19bc-4513-8d78-9e56225f2f20",
   "metadata": {},
   "outputs": [],
   "source": [
    "def load_data(area_, data_folder_, verbose_=False):\n",
    "    csv_data_file = f\"{data_folder}data_{area_}_fixon_1000ms_{empty_suffix}_empty_fixation_binned_50ms.csv\"\n",
    "    with open(csv_data_file, newline='') as f:\n",
    "        sua_binned_list = list(csv.reader(f))\n",
    "    print(f\"N spike_trains in {area_}: {len(sua_binned_list)}\")\n",
    "    \n",
    "    # Convert list to array and then DataFrame\n",
    "    sua_binned_array = np.array(sua_binned_list)\n",
    "    bin_cols = [f\"bin_{i}\" for i in range(sua_binned_array.shape[1] - 5)]\n",
    "    \n",
    "    sua_binned_df = pd.DataFrame(\n",
    "        sua_binned_array, \n",
    "        columns=['unit_id', 'trial_id', 'condition_id', 'spike_count', 'fr_hz'] + bin_cols\n",
    "    )\n",
    "    \n",
    "    int_cols = ['unit_id', 'trial_id', 'condition_id', 'spike_count'] + bin_cols\n",
    "    sua_binned_df[int_cols] = sua_binned_df[int_cols].astype(int)\n",
    "    sua_binned_df['fr_hz'] = sua_binned_df['fr_hz'].astype(float)\n",
    "    \n",
    "    print(f\"n units {sua_binned_df['unit_id'].nunique()}\")\n",
    "    return sua_binned_df, bin_cols"
   ]
  },
  {
   "cell_type": "code",
   "execution_count": 9,
   "id": "28e2a716-abf6-42f8-9e4b-73a31326e7f4",
   "metadata": {},
   "outputs": [],
   "source": [
    "def calculate_constraints_df(sua_binned_df_, bin_cols_):\n",
    "    \"\"\"\n",
    "    Apply constraints to dataset:\n",
    "    - Units with more than 20 trials\n",
    "    - Each 50-ms time bin during fixation with nonzero mean activity\n",
    "    - At least 1Hz of mean activity during the fixation period\n",
    "    \"\"\"\n",
    "    # Count trials per unit\n",
    "    dataset_constraints_df = (sua_binned_df_.groupby('unit_id', as_index=False)['trial_id']\n",
    "                              .count()\n",
    "                              .rename(columns={'trial_id': 'n_trials'}))\n",
    "    dataset_constraints_df['n_trials_more_20'] = dataset_constraints_df['n_trials'] >= 20\n",
    "    \n",
    "    print(f\"n units with >= 20 trials {dataset_constraints_df['n_trials_more_20'].sum()}\")\n",
    "    \n",
    "    # Compute mean activity per unit across bins\n",
    "    trial_mean_activity_df = sua_binned_df_.groupby('unit_id', as_index=False)[bin_cols_].mean()\n",
    "    \n",
    "    # Count units where all bins are nonzero\n",
    "    rows_without_0_unit_id = trial_mean_activity_df[(trial_mean_activity_df[bin_cols_] != 0).all(axis=1)]['unit_id']\n",
    "    print(f\"n rows without 0 bins {len(rows_without_0_unit_id)}\")\n",
    "    # Create a DataFrame for nonzero bins constraint\n",
    "    non_zero_df = pd.DataFrame({'unit_id': rows_without_0_unit_id, 'no_zero_bins': 1})\n",
    "    dataset_constraints_df = dataset_constraints_df.merge(non_zero_df, on='unit_id', how='left').fillna(0).astype(int)\n",
    "    \n",
    "    # Compute firing rate (Hz) during fixation period\n",
    "    trial_mean_activity_df['fr_hz'] = trial_mean_activity_df[bin_cols_].sum(axis=1) / 1\n",
    "    units_more_1hz = trial_mean_activity_df.loc[trial_mean_activity_df['fr_hz'] >= 1, 'unit_id']\n",
    "    print(f\"n rows with more than 1Hz {len(units_more_1hz)}\")\n",
    "    # Create a DataFrame for 1Hz activity constraint\n",
    "    one_hz_df = pd.DataFrame({'unit_id': units_more_1hz, 'one_hz_activity': 1})\n",
    "    dataset_constraints_df = dataset_constraints_df.merge(one_hz_df, on='unit_id', how='left').fillna(0).astype(int)\n",
    "    \n",
    "    return dataset_constraints_df"
   ]
  },
  {
   "cell_type": "code",
   "execution_count": 10,
   "id": "4140567f-d2a6-4769-91b5-af16a6bb81be",
   "metadata": {},
   "outputs": [],
   "source": [
    "def get_reduction_df(constrained_data_acf_binned_1000_df):\n",
    "    one_c = len(constrained_data_acf_binned_1000_df.query('n_trials_more_20 == True'))\n",
    "    two_c = len(constrained_data_acf_binned_1000_df.query('n_trials_more_20 == 1 and one_hz_activity == 1'))\n",
    "    three_c = len(constrained_data_acf_binned_1000_df.query('n_trials_more_20 == 1 and no_zero_bins == 1 and one_hz_activity == 1'))\n",
    "    \n",
    "    reduction_df = pd.DataFrame(np.vstack((['0', '1', '2', '3'], [len(constrained_data_acf_binned_1000_df), one_c, two_c, three_c])).T, \n",
    "                                columns=['n_constraints', 'n_units'])\n",
    "    reduction_df['n_constraints'] = reduction_df['n_constraints'].astype(int)\n",
    "    reduction_df['n_units'] = reduction_df['n_units'].astype(int)\n",
    "    return reduction_df"
   ]
  },
  {
   "cell_type": "markdown",
   "id": "133ecf33-82c2-4e58-afd5-cfcc36ab0136",
   "metadata": {},
   "source": [
    "### Get the data"
   ]
  },
  {
   "cell_type": "code",
   "execution_count": 11,
   "id": "5ba1410b-2423-43a4-8a2c-fd46f94b5cdd",
   "metadata": {},
   "outputs": [
    {
     "name": "stdout",
     "output_type": "stream",
     "text": [
      "N spike_trains in pfdl: 47339\n",
      "n units 544\n",
      "n units with >= 20 trials 544\n",
      "n rows without 0 bins 382\n",
      "n rows with more than 1Hz 391\n",
      "N spike_trains in pfp: 43677\n",
      "n units 543\n",
      "n units with >= 20 trials 541\n",
      "n rows without 0 bins 332\n",
      "n rows with more than 1Hz 338\n"
     ]
    }
   ],
   "source": [
    "pfdl_sua_binned_df, pfdl_bin_cols = load_data(area_='pfdl', data_folder_=data_folder)\n",
    "pfdl_dataset_constraints_df = calculate_constraints_df(pfdl_sua_binned_df, pfdl_bin_cols)\n",
    "\n",
    "pfp_sua_binned_df, pfp_bin_cols = load_data(area_='pfp', data_folder_=data_folder)\n",
    "pfp_dataset_constraints_df = calculate_constraints_df(pfp_sua_binned_df, pfp_bin_cols)"
   ]
  },
  {
   "cell_type": "code",
   "execution_count": null,
   "id": "9d8b7757-2762-41db-8eb4-4584aa5685f9",
   "metadata": {},
   "outputs": [],
   "source": [
    "# pfdl_sua_binned_df, pfdl_bin_cols = load_data(area_='pfdl', data_folder_=data_folder)\n",
    "# pfdl_dataset_constraints_df = calculate_constraints_df(pfdl_sua_binned_df, pfdl_bin_cols[:20])\n",
    "\n",
    "# pfp_sua_binned_df, pfp_bin_cols = load_data(area_='pfp', data_folder_=data_folder)\n",
    "# pfp_dataset_constraints_df = calculate_constraints_df(pfp_sua_binned_df, pfp_bin_cols[:20])"
   ]
  },
  {
   "cell_type": "code",
   "execution_count": 14,
   "id": "7e96cc14-4c2b-4202-8169-6d51bd16a658",
   "metadata": {},
   "outputs": [
    {
     "name": "stdout",
     "output_type": "stream",
     "text": [
      "pfdl: \n",
      "\n",
      "Subtraction current - paper: [488, 178, 461]\n",
      "Subtraction paper - current: [131, 259, 261, 69, 7, 519, 137, 210, 339, 20, 279, 152, 39, 232, 430, 110, 49, 433, 59]\n",
      "\n",
      "pfp: \n",
      "\n",
      "Subtraction current - paper: [304, 27, 277]\n",
      "Subtraction paper - current: [512, 64, 450, 8, 140, 471, 24, 344, 475, 31, 106, 234, 362, 110, 434, 51, 52, 372, 245, 311, 63]\n"
     ]
    }
   ],
   "source": [
    "# compare with \"paper\"\n",
    "temp_folder = project_folder_path + 'results\\\\monkey\\\\lab_meeting_snapshot\\\\fixation_period_1000ms\\\\'\n",
    "\n",
    "pfdl_df = pd.read_pickle(temp_folder + 'binned\\\\pfdl\\\\acf\\\\z\\\\' + 'acf_average_trial_pearsonr_constrained_input_50ms_20lags_df.pkl')\n",
    "pfp_df = pd.read_pickle(temp_folder + 'binned\\\\pfp\\\\acf\\\\z\\\\' + 'acf_average_trial_pearsonr_constrained_input_50ms_20lags_df.pkl')\n",
    "\n",
    "pfdl_current_df = pfdl_dataset_constraints_df.query('n_trials_more_20 == 1 and no_zero_bins == 1 and one_hz_activity == 1').copy()\n",
    "pfp_current_df = pfp_dataset_constraints_df.query('n_trials_more_20 == 1 and no_zero_bins == 1 and one_hz_activity == 1').copy()\n",
    "\n",
    "print('pfdl: \\n')\n",
    "subtraction1 = list(set(pfdl_current_df['unit_id'].values) - set(pfdl_df['unit_id'].values))\n",
    "print(\"Subtraction current - paper:\", subtraction1)\n",
    "subtraction2 = list(set(set(pfdl_df['unit_id'].values) - set(pfdl_current_df['unit_id'].values)))\n",
    "print(\"Subtraction paper - current:\", subtraction2)\n",
    "\n",
    "print('\\npfp: \\n')\n",
    "subtraction1 = list(set(pfp_current_df['unit_id'].values) - set(pfp_df['unit_id'].values))\n",
    "print(\"Subtraction current - paper:\", subtraction1)\n",
    "subtraction2 = list(set(set(pfp_df['unit_id'].values) - set(pfp_current_df['unit_id'].values)))\n",
    "print(\"Subtraction paper - current:\", subtraction2)"
   ]
  },
  {
   "cell_type": "code",
   "execution_count": 12,
   "id": "d23a9927-8130-4bac-af86-d0d5c8c42521",
   "metadata": {},
   "outputs": [
    {
     "data": {
      "text/html": [
       "<div>\n",
       "<style scoped>\n",
       "    .dataframe tbody tr th:only-of-type {\n",
       "        vertical-align: middle;\n",
       "    }\n",
       "\n",
       "    .dataframe tbody tr th {\n",
       "        vertical-align: top;\n",
       "    }\n",
       "\n",
       "    .dataframe thead th {\n",
       "        text-align: right;\n",
       "    }\n",
       "</style>\n",
       "<table border=\"1\" class=\"dataframe\">\n",
       "  <thead>\n",
       "    <tr style=\"text-align: right;\">\n",
       "      <th></th>\n",
       "      <th>n_constraints</th>\n",
       "      <th>n_units</th>\n",
       "      <th>area</th>\n",
       "    </tr>\n",
       "  </thead>\n",
       "  <tbody>\n",
       "    <tr>\n",
       "      <th>0</th>\n",
       "      <td>0</td>\n",
       "      <td>544</td>\n",
       "      <td>pfdl</td>\n",
       "    </tr>\n",
       "    <tr>\n",
       "      <th>1</th>\n",
       "      <td>1</td>\n",
       "      <td>544</td>\n",
       "      <td>pfdl</td>\n",
       "    </tr>\n",
       "    <tr>\n",
       "      <th>2</th>\n",
       "      <td>2</td>\n",
       "      <td>391</td>\n",
       "      <td>pfdl</td>\n",
       "    </tr>\n",
       "    <tr>\n",
       "      <th>3</th>\n",
       "      <td>3</td>\n",
       "      <td>351</td>\n",
       "      <td>pfdl</td>\n",
       "    </tr>\n",
       "  </tbody>\n",
       "</table>\n",
       "</div>"
      ],
      "text/plain": [
       "   n_constraints  n_units  area\n",
       "0              0      544  pfdl\n",
       "1              1      544  pfdl\n",
       "2              2      391  pfdl\n",
       "3              3      351  pfdl"
      ]
     },
     "execution_count": 12,
     "metadata": {},
     "output_type": "execute_result"
    }
   ],
   "source": [
    "pfdl_reduction_df = get_reduction_df(pfdl_dataset_constraints_df)\n",
    "pfdl_reduction_df['area'] = 'pfdl'\n",
    "pfdl_reduction_df"
   ]
  },
  {
   "cell_type": "code",
   "execution_count": 13,
   "id": "eefa9254-3434-4b8b-a7fe-131c11edf3da",
   "metadata": {},
   "outputs": [
    {
     "data": {
      "text/html": [
       "<div>\n",
       "<style scoped>\n",
       "    .dataframe tbody tr th:only-of-type {\n",
       "        vertical-align: middle;\n",
       "    }\n",
       "\n",
       "    .dataframe tbody tr th {\n",
       "        vertical-align: top;\n",
       "    }\n",
       "\n",
       "    .dataframe thead th {\n",
       "        text-align: right;\n",
       "    }\n",
       "</style>\n",
       "<table border=\"1\" class=\"dataframe\">\n",
       "  <thead>\n",
       "    <tr style=\"text-align: right;\">\n",
       "      <th></th>\n",
       "      <th>n_constraints</th>\n",
       "      <th>n_units</th>\n",
       "      <th>area</th>\n",
       "    </tr>\n",
       "  </thead>\n",
       "  <tbody>\n",
       "    <tr>\n",
       "      <th>0</th>\n",
       "      <td>0</td>\n",
       "      <td>543</td>\n",
       "      <td>pfp</td>\n",
       "    </tr>\n",
       "    <tr>\n",
       "      <th>1</th>\n",
       "      <td>1</td>\n",
       "      <td>541</td>\n",
       "      <td>pfp</td>\n",
       "    </tr>\n",
       "    <tr>\n",
       "      <th>2</th>\n",
       "      <td>2</td>\n",
       "      <td>337</td>\n",
       "      <td>pfp</td>\n",
       "    </tr>\n",
       "    <tr>\n",
       "      <th>3</th>\n",
       "      <td>3</td>\n",
       "      <td>300</td>\n",
       "      <td>pfp</td>\n",
       "    </tr>\n",
       "  </tbody>\n",
       "</table>\n",
       "</div>"
      ],
      "text/plain": [
       "   n_constraints  n_units area\n",
       "0              0      543  pfp\n",
       "1              1      541  pfp\n",
       "2              2      337  pfp\n",
       "3              3      300  pfp"
      ]
     },
     "execution_count": 13,
     "metadata": {},
     "output_type": "execute_result"
    }
   ],
   "source": [
    "pfp_reduction_df = get_reduction_df(pfp_dataset_constraints_df)\n",
    "pfp_reduction_df['area'] = 'pfp'\n",
    "pfp_reduction_df"
   ]
  },
  {
   "cell_type": "code",
   "execution_count": 15,
   "id": "209b5323-36bc-4301-bd07-3881162b5e2e",
   "metadata": {},
   "outputs": [],
   "source": [
    "# save \n",
    "pfdl_dataset_constraints_df.to_pickle(data_folder + 'pfdl_dataset_constraints_1000ms_' + empty_suffix + '_empty_df.pkl')\n",
    "pfp_dataset_constraints_df.to_pickle(data_folder + 'pfp_dataset_constraints_1000ms_' + empty_suffix + '_empty_df.pkl')"
   ]
  },
  {
   "cell_type": "markdown",
   "id": "458eeedb-0cfe-4fce-99a1-89e74a9f2b61",
   "metadata": {},
   "source": [
    "### Plot"
   ]
  },
  {
   "cell_type": "code",
   "execution_count": 16,
   "id": "317036d7-fc15-460a-a86c-35992b796548",
   "metadata": {},
   "outputs": [
    {
     "data": {
      "image/png": "[encoded data removed]",
      "text/plain": [
       "<Figure size 400x300 with 1 Axes>"
      ]
     },
     "metadata": {},
     "output_type": "display_data"
    }
   ],
   "source": [
    "fig, axes = plt.subplots(1,1, figsize=(4,3))\n",
    "\n",
    "axes.stackplot(pfdl_reduction_df['n_constraints'].values, \n",
    "               pfdl_reduction_df['n_units'].values, pfp_reduction_df['n_units'].values, \n",
    "               colors =['steelblue', 'slategray'], labels=['pfdl', 'pfp'])\n",
    "\n",
    "axes.set_xticks([0,1,2,3])\n",
    "axes.set_xticklabels(['No constr','>= 20 trials','>= 1Hz','no 0 bins'])\n",
    "\n",
    "axes.set_ylabel('N units')\n",
    "\n",
    "axes.legend(frameon=False)\n",
    "\n",
    "for x, y1, y2 in zip(pfdl_reduction_df['n_constraints'], \n",
    "                      pfdl_reduction_df['n_units'], \n",
    "                      pfp_reduction_df['n_units']):\n",
    "    axes.text(x, y1, str(y1), ha='center', va='bottom', fontsize=10, color='k', fontweight='bold')\n",
    "    axes.text(x, y1 + y2, str(y2), ha='center', va='bottom', fontsize=10, color='k', fontweight='bold')\n",
    "\n",
    "sns.despine()\n",
    "\n",
    "# if save_fig:\n",
    "#     fig.savefig(fig_folder + 'constraints_on_data_repr_paper.png', bbox_inches='tight')\n",
    "#     fig.savefig(fig_folder + 'constraints_on_data_repr_paper.svg', bbox_inches='tight')"
   ]
  }
 ],
 "metadata": {
  "kernelspec": {
   "display_name": "Python 3 (ipykernel)",
   "language": "python",
   "name": "python3"
  },
  "language_info": {
   "codemirror_mode": {
    "name": "ipython",
    "version": 3
   },
   "file_extension": ".py",
   "mimetype": "text/x-python",
   "name": "python",
   "nbconvert_exporter": "python",
   "pygments_lexer": "ipython3",
   "version": "3.12.3"
  }
 },
 "nbformat": 4,
 "nbformat_minor": 5
}
