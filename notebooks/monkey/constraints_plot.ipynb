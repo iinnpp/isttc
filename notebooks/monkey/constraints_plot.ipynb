{
 "cells": [
  {
   "cell_type": "markdown",
   "id": "3cf22309-3217-4aa3-abad-42b40ea8a35e",
   "metadata": {},
   "source": [
    "Reproduce Fig2 "
   ]
  },
  {
   "cell_type": "code",
   "execution_count": 1,
   "id": "16c30cfa-24a1-44c4-ace1-267751e47a0d",
   "metadata": {},
   "outputs": [],
   "source": [
    "import pandas as pd\n",
    "import numpy as np\n",
    "from scipy.optimize import curve_fit, OptimizeWarning\n",
    "from sklearn.metrics import r2_score\n",
    "from scipy import stats\n",
    "import matplotlib.pyplot as plt\n",
    "import seaborn as sns\n",
    "\n",
    "import warnings"
   ]
  },
  {
   "cell_type": "code",
   "execution_count": 2,
   "id": "f2bf94bd-ed03-4136-a396-688b409d0af7",
   "metadata": {},
   "outputs": [],
   "source": [
    "fig_folder = 'E:\\\\projects_q_30_10_2024\\\\isttc\\\\results\\\\monkey\\\\fig_drafts\\\\'"
   ]
  },
  {
   "cell_type": "markdown",
   "id": "133ecf33-82c2-4e58-afd5-cfcc36ab0136",
   "metadata": {},
   "source": [
    "### Get the data"
   ]
  },
  {
   "cell_type": "code",
   "execution_count": 3,
   "id": "9d8b7757-2762-41db-8eb4-4584aa5685f9",
   "metadata": {},
   "outputs": [],
   "source": [
    "results_folder = 'E:\\\\projects_q_30_10_2024\\\\isttc\\\\results\\\\monkey\\\\fixation_period_1000ms\\\\'\n",
    "\n",
    "pfdl_constrained_data_acf_binned_1000_df = pd.read_pickle(results_folder + 'pfdl_constrained_data_acf_binned_1000_df.pkl')\n",
    "pfp_constrained_data_acf_binned_1000_df = pd.read_pickle(results_folder + 'pfp_constrained_data_acf_binned_1000_df.pkl')"
   ]
  },
  {
   "cell_type": "code",
   "execution_count": 6,
   "id": "a1eec947-b179-4733-918a-2067500d9292",
   "metadata": {},
   "outputs": [
    {
     "data": {
      "text/html": [
       "<div>\n",
       "<style scoped>\n",
       "    .dataframe tbody tr th:only-of-type {\n",
       "        vertical-align: middle;\n",
       "    }\n",
       "\n",
       "    .dataframe tbody tr th {\n",
       "        vertical-align: top;\n",
       "    }\n",
       "\n",
       "    .dataframe thead th {\n",
       "        text-align: right;\n",
       "    }\n",
       "</style>\n",
       "<table border=\"1\" class=\"dataframe\">\n",
       "  <thead>\n",
       "    <tr style=\"text-align: right;\">\n",
       "      <th></th>\n",
       "      <th>unit_id</th>\n",
       "      <th>n_trials</th>\n",
       "      <th>n_trials_more_20</th>\n",
       "      <th>no_zero_bins</th>\n",
       "      <th>one_hz_activity</th>\n",
       "    </tr>\n",
       "  </thead>\n",
       "  <tbody>\n",
       "    <tr>\n",
       "      <th>0</th>\n",
       "      <td>0</td>\n",
       "      <td>92</td>\n",
       "      <td>True</td>\n",
       "      <td>1</td>\n",
       "      <td>1</td>\n",
       "    </tr>\n",
       "    <tr>\n",
       "      <th>1</th>\n",
       "      <td>1</td>\n",
       "      <td>41</td>\n",
       "      <td>True</td>\n",
       "      <td>0</td>\n",
       "      <td>0</td>\n",
       "    </tr>\n",
       "    <tr>\n",
       "      <th>2</th>\n",
       "      <td>2</td>\n",
       "      <td>60</td>\n",
       "      <td>True</td>\n",
       "      <td>0</td>\n",
       "      <td>1</td>\n",
       "    </tr>\n",
       "    <tr>\n",
       "      <th>3</th>\n",
       "      <td>3</td>\n",
       "      <td>91</td>\n",
       "      <td>True</td>\n",
       "      <td>1</td>\n",
       "      <td>1</td>\n",
       "    </tr>\n",
       "    <tr>\n",
       "      <th>4</th>\n",
       "      <td>4</td>\n",
       "      <td>108</td>\n",
       "      <td>True</td>\n",
       "      <td>1</td>\n",
       "      <td>1</td>\n",
       "    </tr>\n",
       "    <tr>\n",
       "      <th>...</th>\n",
       "      <td>...</td>\n",
       "      <td>...</td>\n",
       "      <td>...</td>\n",
       "      <td>...</td>\n",
       "      <td>...</td>\n",
       "    </tr>\n",
       "    <tr>\n",
       "      <th>538</th>\n",
       "      <td>539</td>\n",
       "      <td>68</td>\n",
       "      <td>True</td>\n",
       "      <td>1</td>\n",
       "      <td>1</td>\n",
       "    </tr>\n",
       "    <tr>\n",
       "      <th>539</th>\n",
       "      <td>540</td>\n",
       "      <td>45</td>\n",
       "      <td>True</td>\n",
       "      <td>0</td>\n",
       "      <td>1</td>\n",
       "    </tr>\n",
       "    <tr>\n",
       "      <th>540</th>\n",
       "      <td>541</td>\n",
       "      <td>107</td>\n",
       "      <td>True</td>\n",
       "      <td>1</td>\n",
       "      <td>1</td>\n",
       "    </tr>\n",
       "    <tr>\n",
       "      <th>541</th>\n",
       "      <td>542</td>\n",
       "      <td>86</td>\n",
       "      <td>True</td>\n",
       "      <td>1</td>\n",
       "      <td>1</td>\n",
       "    </tr>\n",
       "    <tr>\n",
       "      <th>542</th>\n",
       "      <td>543</td>\n",
       "      <td>6</td>\n",
       "      <td>False</td>\n",
       "      <td>0</td>\n",
       "      <td>0</td>\n",
       "    </tr>\n",
       "  </tbody>\n",
       "</table>\n",
       "<p>543 rows × 5 columns</p>\n",
       "</div>"
      ],
      "text/plain": [
       "     unit_id  n_trials  n_trials_more_20  no_zero_bins  one_hz_activity\n",
       "0          0        92              True             1                1\n",
       "1          1        41              True             0                0\n",
       "2          2        60              True             0                1\n",
       "3          3        91              True             1                1\n",
       "4          4       108              True             1                1\n",
       "..       ...       ...               ...           ...              ...\n",
       "538      539        68              True             1                1\n",
       "539      540        45              True             0                1\n",
       "540      541       107              True             1                1\n",
       "541      542        86              True             1                1\n",
       "542      543         6             False             0                0\n",
       "\n",
       "[543 rows x 5 columns]"
      ]
     },
     "execution_count": 6,
     "metadata": {},
     "output_type": "execute_result"
    }
   ],
   "source": [
    "pfdl_constrained_data_acf_binned_1000_df"
   ]
  },
  {
   "cell_type": "code",
   "execution_count": 17,
   "id": "4140567f-d2a6-4769-91b5-af16a6bb81be",
   "metadata": {},
   "outputs": [],
   "source": [
    "def get_reduction_df(constrained_data_acf_binned_1000_df):\n",
    "    one_c = len(constrained_data_acf_binned_1000_df.query('n_trials_more_20 == True'))\n",
    "    two_c = len(constrained_data_acf_binned_1000_df.query('n_trials_more_20 == 1 and no_zero_bins == 1'))\n",
    "    three_c = len(constrained_data_acf_binned_1000_df.query('n_trials_more_20 == 1 and no_zero_bins == 1 and one_hz_activity == 1'))\n",
    "    \n",
    "    reduction_df = pd.DataFrame(np.vstack((['0', '1', '2', '3'], [len(constrained_data_acf_binned_1000_df), one_c, two_c, three_c])).T, \n",
    "                                columns=['n_constraints', 'n_units'])\n",
    "    reduction_df['n_constraints'] = reduction_df['n_constraints'].astype(int)\n",
    "    reduction_df['n_units'] = reduction_df['n_units'].astype(int)\n",
    "    return reduction_df"
   ]
  },
  {
   "cell_type": "code",
   "execution_count": 19,
   "id": "d23a9927-8130-4bac-af86-d0d5c8c42521",
   "metadata": {},
   "outputs": [
    {
     "data": {
      "text/html": [
       "<div>\n",
       "<style scoped>\n",
       "    .dataframe tbody tr th:only-of-type {\n",
       "        vertical-align: middle;\n",
       "    }\n",
       "\n",
       "    .dataframe tbody tr th {\n",
       "        vertical-align: top;\n",
       "    }\n",
       "\n",
       "    .dataframe thead th {\n",
       "        text-align: right;\n",
       "    }\n",
       "</style>\n",
       "<table border=\"1\" class=\"dataframe\">\n",
       "  <thead>\n",
       "    <tr style=\"text-align: right;\">\n",
       "      <th></th>\n",
       "      <th>n_constraints</th>\n",
       "      <th>n_units</th>\n",
       "      <th>area</th>\n",
       "    </tr>\n",
       "  </thead>\n",
       "  <tbody>\n",
       "    <tr>\n",
       "      <th>0</th>\n",
       "      <td>0</td>\n",
       "      <td>543</td>\n",
       "      <td>pfdl</td>\n",
       "    </tr>\n",
       "    <tr>\n",
       "      <th>1</th>\n",
       "      <td>1</td>\n",
       "      <td>499</td>\n",
       "      <td>pfdl</td>\n",
       "    </tr>\n",
       "    <tr>\n",
       "      <th>2</th>\n",
       "      <td>2</td>\n",
       "      <td>382</td>\n",
       "      <td>pfdl</td>\n",
       "    </tr>\n",
       "    <tr>\n",
       "      <th>3</th>\n",
       "      <td>3</td>\n",
       "      <td>367</td>\n",
       "      <td>pfdl</td>\n",
       "    </tr>\n",
       "  </tbody>\n",
       "</table>\n",
       "</div>"
      ],
      "text/plain": [
       "   n_constraints  n_units  area\n",
       "0              0      543  pfdl\n",
       "1              1      499  pfdl\n",
       "2              2      382  pfdl\n",
       "3              3      367  pfdl"
      ]
     },
     "execution_count": 19,
     "metadata": {},
     "output_type": "execute_result"
    }
   ],
   "source": [
    "pfdl_reduction_df = get_reduction_df(pfdl_constrained_data_acf_binned_1000_df)\n",
    "pfdl_reduction_df['area'] = 'pfdl'\n",
    "pfdl_reduction_df"
   ]
  },
  {
   "cell_type": "code",
   "execution_count": 21,
   "id": "eefa9254-3434-4b8b-a7fe-131c11edf3da",
   "metadata": {},
   "outputs": [
    {
     "data": {
      "text/html": [
       "<div>\n",
       "<style scoped>\n",
       "    .dataframe tbody tr th:only-of-type {\n",
       "        vertical-align: middle;\n",
       "    }\n",
       "\n",
       "    .dataframe tbody tr th {\n",
       "        vertical-align: top;\n",
       "    }\n",
       "\n",
       "    .dataframe thead th {\n",
       "        text-align: right;\n",
       "    }\n",
       "</style>\n",
       "<table border=\"1\" class=\"dataframe\">\n",
       "  <thead>\n",
       "    <tr style=\"text-align: right;\">\n",
       "      <th></th>\n",
       "      <th>n_constraints</th>\n",
       "      <th>n_units</th>\n",
       "      <th>area</th>\n",
       "    </tr>\n",
       "  </thead>\n",
       "  <tbody>\n",
       "    <tr>\n",
       "      <th>0</th>\n",
       "      <td>0</td>\n",
       "      <td>543</td>\n",
       "      <td>pfp</td>\n",
       "    </tr>\n",
       "    <tr>\n",
       "      <th>1</th>\n",
       "      <td>1</td>\n",
       "      <td>463</td>\n",
       "      <td>pfp</td>\n",
       "    </tr>\n",
       "    <tr>\n",
       "      <th>2</th>\n",
       "      <td>2</td>\n",
       "      <td>330</td>\n",
       "      <td>pfp</td>\n",
       "    </tr>\n",
       "    <tr>\n",
       "      <th>3</th>\n",
       "      <td>3</td>\n",
       "      <td>318</td>\n",
       "      <td>pfp</td>\n",
       "    </tr>\n",
       "  </tbody>\n",
       "</table>\n",
       "</div>"
      ],
      "text/plain": [
       "   n_constraints  n_units area\n",
       "0              0      543  pfp\n",
       "1              1      463  pfp\n",
       "2              2      330  pfp\n",
       "3              3      318  pfp"
      ]
     },
     "execution_count": 21,
     "metadata": {},
     "output_type": "execute_result"
    }
   ],
   "source": [
    "pfp_reduction_df = get_reduction_df(pfp_constrained_data_acf_binned_1000_df)\n",
    "pfp_reduction_df['area'] = 'pfp'\n",
    "pfp_reduction_df"
   ]
  },
  {
   "cell_type": "markdown",
   "id": "458eeedb-0cfe-4fce-99a1-89e74a9f2b61",
   "metadata": {},
   "source": [
    "### Plot"
   ]
  },
  {
   "cell_type": "code",
   "execution_count": 38,
   "id": "b2fbbecf-1952-4575-be24-75d4fc4814be",
   "metadata": {},
   "outputs": [],
   "source": [
    "save_fig = True"
   ]
  },
  {
   "cell_type": "code",
   "execution_count": 39,
   "id": "317036d7-fc15-460a-a86c-35992b796548",
   "metadata": {},
   "outputs": [
    {
     "data": {
      "image/png": "[encoded data removed]",
      "text/plain": [
       "<Figure size 400x300 with 1 Axes>"
      ]
     },
     "metadata": {},
     "output_type": "display_data"
    }
   ],
   "source": [
    "fig, axes = plt.subplots(1,1, figsize=(4,3))\n",
    "\n",
    "axes.stackplot(pfdl_reduction_df['n_constraints'].values, \n",
    "               pfdl_reduction_df['n_units'].values, pfp_reduction_df['n_units'].values, \n",
    "               colors =['steelblue', 'slategray'], labels=['pfdl', 'pfp'])\n",
    "\n",
    "axes.set_xticks([0,1,2,3])\n",
    "axes.set_xticklabels(['No constr','>= 20 trials','no 0 bins','>= 1Hz'])\n",
    "\n",
    "axes.set_ylabel('N units')\n",
    "\n",
    "axes.legend(frameon=False)\n",
    "\n",
    "sns.despine()\n",
    "\n",
    "if save_fig:\n",
    "    fig.savefig(fig_folder + 'constraints_on_data.png', bbox_inches='tight')\n",
    "    fig.savefig(fig_folder + 'constraints_on_data.svg', bbox_inches='tight')"
   ]
  }
 ],
 "metadata": {
  "kernelspec": {
   "display_name": "Python 3 (ipykernel)",
   "language": "python",
   "name": "python3"
  },
  "language_info": {
   "codemirror_mode": {
    "name": "ipython",
    "version": 3
   },
   "file_extension": ".py",
   "mimetype": "text/x-python",
   "name": "python",
   "nbconvert_exporter": "python",
   "pygments_lexer": "ipython3",
   "version": "3.12.3"
  }
 },
 "nbformat": 4,
 "nbformat_minor": 5
}
