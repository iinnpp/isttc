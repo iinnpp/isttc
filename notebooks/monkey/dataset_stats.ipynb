{
 "cells": [
  {
   "cell_type": "markdown",
   "id": "2e5eff9b-d53a-452e-bcc5-975e8e82a902",
   "metadata": {},
   "source": [
    "Info about datasets from different papers: how many units and how many monkeys"
   ]
  },
  {
   "cell_type": "code",
   "execution_count": 1,
   "id": "b3bfd079-e078-4dc8-b7f0-9b4c9e8b63eb",
   "metadata": {},
   "outputs": [
    {
     "name": "stdout",
     "output_type": "stream",
     "text": [
      "D:\\intr_timescales\\isttc\\notebooks\\monkey\n",
      "D:\\intr_timescales\\isttc\\scripts\n",
      "D:\\intr_timescales\\isttc\\notebooks\\monkey\n"
     ]
    }
   ],
   "source": [
    "import numpy as np\n",
    "import pandas as pd\n",
    "import seaborn as sns\n",
    "import matplotlib.pyplot as plt\n",
    "\n",
    "# import from scripts\n",
    "import os\n",
    "current_wd = os.getcwd()\n",
    "os.chdir(os.path.abspath(\"..\\\\..\\\\..\\\\isttc\\\\scripts\"))\n",
    "from cfg_global import project_folder_path\n",
    "os.chdir(current_wd)"
   ]
  },
  {
   "cell_type": "code",
   "execution_count": 2,
   "id": "81bde186-3ff7-42ab-8c24-ec7ea28c803a",
   "metadata": {},
   "outputs": [],
   "source": [
    "#fig_folder = 'D:\\\\projects_q_30_10_2024\\\\isttc\\\\results\\\\monkey\\\\fig_drafts\\\\'\n",
    "fig_folder = project_folder_path + 'results\\\\monkey\\\\fig_drafts\\\\'"
   ]
  },
  {
   "cell_type": "code",
   "execution_count": null,
   "id": "34187e63-eefa-4592-b4ac-adee92fc38c1",
   "metadata": {},
   "outputs": [],
   "source": [
    "papers_l=['Cavanagh et al. 2016', 'Cavanagh et al. 2018', 'Cirillo et al. 2018', 'Fascianelli et al. 2019', 'Nougaret et al. 2021']\n",
    "monkey_n_l=[4, 2, 2, 2, 2]\n",
    "units_total_l=[857,694, 328, 1494, 328]\n",
    "units_included_l=[446,358, 52, 978, 124]\n",
    "units_included_perc=[52,52, 16, 65, 38]\n",
    "\n",
    "dataset_df = pd.DataFrame(np.vstack((papers_l, monkey_n_l, units_total_l, units_included_l, units_included_perc)).T, \n",
    "                          columns=['paper', 'n_monkeys', 'n_units', 'n_included_units', 'perc'])\n",
    "dataset_df['n_monkeys'] = dataset_df['n_monkeys'].astype(int)\n",
    "dataset_df['n_included_units'] = dataset_df['n_included_units'].astype(int)\n",
    "dataset_df['n_units'] = dataset_df['n_units'].astype(int)\n",
    "dataset_df['included_perc'] = np.round(dataset_df['n_included_units'] / dataset_df['n_units'] * 100,2)\n",
    "dataset_df['n_excluded_units'] = dataset_df['n_units'] - dataset_df['n_included_units']\n",
    "dataset_df"
   ]
  },
  {
   "cell_type": "code",
   "execution_count": null,
   "id": "611adb6a-e686-4220-8fca-9d34fc6a4ced",
   "metadata": {},
   "outputs": [],
   "source": [
    "fig, axes = plt.subplots()\n",
    "\n",
    "colors = ['darkgrey', 'steelblue']\n",
    "dataset_df.set_index('paper').plot(ax=axes, kind='bar', y=['n_excluded_units', 'n_included_units'], stacked=True, color=colors)\n",
    "\n",
    "axes.set_xlabel('Paper')\n",
    "axes.set_ylabel('N units')\n",
    "\n",
    "axes.legend(frameon=False)\n",
    "\n",
    "x_offset = -0.15\n",
    "y_offset = 50\n",
    "i=0\n",
    "for p in axes.patches:\n",
    "    if i > 4:\n",
    "        b = p.get_bbox()\n",
    "        val = dataset_df.iloc[i-5]['perc'] + ' %'\n",
    "        axes.annotate(val, ((b.x0 + b.x1)/2 + x_offset, b.y1 + y_offset))\n",
    "    i=i+1\n",
    "    \n",
    "sns.despine()\n",
    "\n",
    "fig.savefig(fig_folder + 'papers_datasets.png', bbox_inches='tight')\n",
    "fig.savefig(fig_folder + 'papers_datasets.svg', bbox_inches='tight')"
   ]
  }
 ],
 "metadata": {
  "kernelspec": {
   "display_name": "Python 3 (ipykernel)",
   "language": "python",
   "name": "python3"
  },
  "language_info": {
   "codemirror_mode": {
    "name": "ipython",
    "version": 3
   },
   "file_extension": ".py",
   "mimetype": "text/x-python",
   "name": "python",
   "nbconvert_exporter": "python",
   "pygments_lexer": "ipython3",
   "version": "3.12.3"
  }
 },
 "nbformat": 4,
 "nbformat_minor": 5
}
