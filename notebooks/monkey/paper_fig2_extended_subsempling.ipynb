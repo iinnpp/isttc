{
 "cells": [
  {
   "cell_type": "markdown",
   "id": "3cf22309-3217-4aa3-abad-42b40ea8a35e",
   "metadata": {},
   "source": [
    "Reproduce Fig2: Pearson based and STTC based area ACFs and timescales."
   ]
  },
  {
   "cell_type": "code",
   "execution_count": 1,
   "id": "16c30cfa-24a1-44c4-ace1-267751e47a0d",
   "metadata": {},
   "outputs": [],
   "source": [
    "import pandas as pd\n",
    "import numpy as np\n",
    "from scipy.optimize import curve_fit, OptimizeWarning\n",
    "from sklearn.metrics import r2_score\n",
    "from scipy import stats\n",
    "import matplotlib.pyplot as plt\n",
    "import seaborn as sns\n",
    "\n",
    "import warnings"
   ]
  },
  {
   "cell_type": "code",
   "execution_count": 2,
   "id": "f2bf94bd-ed03-4136-a396-688b409d0af7",
   "metadata": {},
   "outputs": [],
   "source": [
    "fig_folder = 'E:\\\\projects_q_30_10_2024\\\\isttc\\\\results\\\\monkey\\\\fig_drafts\\\\'"
   ]
  },
  {
   "cell_type": "markdown",
   "id": "133ecf33-82c2-4e58-afd5-cfcc36ab0136",
   "metadata": {},
   "source": [
    "### Get the data"
   ]
  },
  {
   "cell_type": "code",
   "execution_count": 3,
   "id": "31a4e209-6908-423b-979c-ab41e6879948",
   "metadata": {},
   "outputs": [],
   "source": [
    "results_folder = 'E:\\\\projects_q_30_10_2024\\\\isttc\\\\results\\\\monkey\\\\fixation_period_1000ms\\\\'"
   ]
  },
  {
   "cell_type": "markdown",
   "id": "1e0ed394-6862-43b3-9c3e-212c3882e4fa",
   "metadata": {},
   "source": [
    "#### ACF"
   ]
  },
  {
   "cell_type": "code",
   "execution_count": 4,
   "id": "b6867b62-d5cd-4efd-9204-7b10b064033d",
   "metadata": {},
   "outputs": [],
   "source": [
    "pfdl_dataset_constraints_df = pd.read_pickle(results_folder + 'pfdl_dataset_constraints_df.pkl')\n",
    "pfp_dataset_constraints_df = pd.read_pickle(results_folder + 'pfp_dataset_constraints_df.pkl')"
   ]
  },
  {
   "cell_type": "code",
   "execution_count": 13,
   "id": "9d8b7757-2762-41db-8eb4-4584aa5685f9",
   "metadata": {},
   "outputs": [],
   "source": [
    "def load_constraints_acf_df(file_name_, dataset_constraints_df_):\n",
    "    pfdl_acf_average_trial_pearsonr_df = pd.read_pickle(results_folder + file_name_ + '.pkl')    \n",
    "    # get subsets based on constraints \n",
    "    dataset_constraints_subset_df = dataset_constraints_df_.query('n_trials_more_20 == True and no_zero_bins == 1 and one_hz_activity == 1').copy()\n",
    "    \n",
    "    # join\n",
    "    pfdl_acf_average_trial_pearsonr_subset_df = dataset_constraints_subset_df.merge(pfdl_acf_average_trial_pearsonr_df, \n",
    "                                                                                  on='unit_id', how='left')\n",
    "    pfdl_acf_average_trial_pearsonr_subset_df.reset_index(inplace=True, drop=True)\n",
    "    \n",
    "    \n",
    "    # check NaNs\n",
    "    \n",
    "    print('N neurons: {}'.format(len(pfdl_acf_average_trial_pearsonr_subset_df)))\n",
    "    \n",
    "    # print('NaNs in PFdl acf {}'.format(pfdl_acf_average_trial_pearsonr_subset_df.isnull().any().any()))\n",
    "\n",
    "    return pfdl_acf_average_trial_pearsonr_subset_df"
   ]
  },
  {
   "cell_type": "code",
   "execution_count": 6,
   "id": "d78041a7-82a4-4fa0-bd7d-21679e3dc409",
   "metadata": {},
   "outputs": [],
   "source": [
    "n_lags = 20\n",
    "acf_cols = ['acf_' + str(i) for i in range(n_lags)]"
   ]
  },
  {
   "cell_type": "code",
   "execution_count": 15,
   "id": "4e7b8816-e6c4-41d2-a528-bb61bb7b38d7",
   "metadata": {},
   "outputs": [
    {
     "name": "stdout",
     "output_type": "stream",
     "text": [
      "N neurons: 351\n",
      "tau 264.0510122866435, popt [0.23525749 0.18935735 0.16133814], fit_r_squared 0.9722869677062457\n",
      "N neurons: 351\n",
      "tau 226.83223270856305, popt [0.25278372 0.22042723 0.16532943], fit_r_squared 0.9731595635885224\n",
      "N neurons: 351\n",
      "tau 225.48715441628562, popt [0.24991273 0.22174212 0.17519134], fit_r_squared 0.974927469918426\n",
      "N neurons: 351\n",
      "tau 224.34757049430885, popt [0.25241356 0.22286847 0.1897849 ], fit_r_squared 0.9879665110706146\n",
      "N neurons: 351\n",
      "tau 238.98918346893646, popt [0.24200419 0.20921449 0.17360399], fit_r_squared 0.9747749614876939\n",
      "N neurons: 351\n",
      "tau 218.71732035984778, popt [0.26191321 0.22860558 0.16657165], fit_r_squared 0.9873877016951508\n",
      "N neurons: 351\n",
      "tau 226.05258956383224, popt [0.26170332 0.22118747 0.13981052], fit_r_squared 0.9852625804548414\n",
      "N neurons: 351\n",
      "tau 301.14456569808596, popt [0.23942394 0.16603321 0.11876903], fit_r_squared 0.9904445249292932\n",
      "N neurons: 351\n",
      "tau 196.3441069962118, popt [0.2597535  0.25465496 0.20224544], fit_r_squared 0.9786104523160604\n",
      "N neurons: 351\n",
      "tau 230.63252020166746, popt [0.25814962 0.2167951  0.16760553], fit_r_squared 0.9918923900230878\n"
     ]
    }
   ],
   "source": [
    "# for pfdl pearson\n",
    "n_runs = 10\n",
    "\n",
    "pfdl_pearson_tau_ms_l, pfdl_pearson_fit_r_squared_l = [], []\n",
    "for i in range(n_runs):\n",
    "    file_name = 'binned\\\\pfdl\\\\acf\\\\trials20\\\\acf_average_trial_pearsonr_with_empty_50ms_20lags_df' + str(i)\n",
    "    acf_df = load_constraints_acf_df(file_name, pfdl_dataset_constraints_df)\n",
    "    acf_2d = acf_df[acf_cols].values\n",
    "    acf_mean = np.nanmean(acf_2d, axis=0)\n",
    "    tau, popt, fit_r_squared = calc_tau_area_mean(acf_mean, start_idx_=2)\n",
    "    tau_ms = tau*50\n",
    "    print('tau {}, popt {}, fit_r_squared {}'.format(tau_ms, popt, fit_r_squared))\n",
    "    pfdl_pearson_tau_ms_l.append(tau_ms)\n",
    "    pfdl_pearson_fit_r_squared_l.append(fit_r_squared)"
   ]
  },
  {
   "cell_type": "code",
   "execution_count": 33,
   "id": "a4f563af-b6ab-41fa-a374-8e662efa0e04",
   "metadata": {},
   "outputs": [
    {
     "name": "stdout",
     "output_type": "stream",
     "text": [
      "N neurons: 351\n",
      "tau 317.46445120144745, popt [0.13659671 0.15749795 0.27494121], fit_r_squared 0.9399323635678472\n",
      "N neurons: 351\n",
      "tau 254.29435272808155, popt [0.13319553 0.19662253 0.3386878 ], fit_r_squared 0.9750382807648225\n",
      "N neurons: 351\n",
      "tau 219.18075217059632, popt [0.15073374 0.22812222 0.28042635], fit_r_squared 0.9785081522721256\n",
      "N neurons: 351\n",
      "tau 192.44299692051797, popt [0.14486712 0.2598172  0.3523836 ], fit_r_squared 0.9682220305765693\n",
      "N neurons: 351\n",
      "tau 233.86907685884512, popt [0.14187836 0.21379483 0.34119898], fit_r_squared 0.9840371588180256\n",
      "N neurons: 351\n",
      "tau 218.63029323863503, popt [0.14579178 0.22869658 0.33126312], fit_r_squared 0.9505567723321656\n",
      "N neurons: 351\n",
      "tau 229.37313784352193, popt [0.14306461 0.21798542 0.28992146], fit_r_squared 0.9825005262346428\n",
      "N neurons: 351\n",
      "tau 199.26187523455718, popt [0.15018195 0.25092607 0.35931008], fit_r_squared 0.9514692165004588\n",
      "N neurons: 351\n",
      "tau 193.65100704639306, popt [0.16538221 0.25819644 0.28846023], fit_r_squared 0.9637911600646256\n",
      "N neurons: 351\n",
      "tau 223.3613771877451, popt [0.15424927 0.22385249 0.29490315], fit_r_squared 0.9701179951343516\n"
     ]
    },
    {
     "ename": "FileNotFoundError",
     "evalue": "[Errno 2] No such file or directory: 'E:\\\\projects_q_30_10_2024\\\\isttc\\\\results\\\\monkey\\\\fixation_period_1000ms\\\\non_binned\\\\pfdl\\\\acf\\\\trials20\\\\acf_average_trial_sttc_with_empty_50ms_20lags_51padding_df10.pkl'",
     "output_type": "error",
     "traceback": [
      "\u001b[1;31m---------------------------------------------------------------------------\u001b[0m",
      "\u001b[1;31mFileNotFoundError\u001b[0m                         Traceback (most recent call last)",
      "Cell \u001b[1;32mIn[33], line 7\u001b[0m\n\u001b[0;32m      5\u001b[0m \u001b[38;5;28;01mfor\u001b[39;00m i \u001b[38;5;129;01min\u001b[39;00m \u001b[38;5;28mrange\u001b[39m(n_runs):\n\u001b[0;32m      6\u001b[0m     file_name \u001b[38;5;241m=\u001b[39m \u001b[38;5;124m'\u001b[39m\u001b[38;5;124mnon_binned\u001b[39m\u001b[38;5;130;01m\\\\\u001b[39;00m\u001b[38;5;124mpfdl\u001b[39m\u001b[38;5;130;01m\\\\\u001b[39;00m\u001b[38;5;124macf\u001b[39m\u001b[38;5;130;01m\\\\\u001b[39;00m\u001b[38;5;124mtrials20\u001b[39m\u001b[38;5;130;01m\\\\\u001b[39;00m\u001b[38;5;124macf_average_trial_sttc_with_empty_50ms_20lags_51padding_df\u001b[39m\u001b[38;5;124m'\u001b[39m \u001b[38;5;241m+\u001b[39m \u001b[38;5;28mstr\u001b[39m(i)\n\u001b[1;32m----> 7\u001b[0m     acf_df \u001b[38;5;241m=\u001b[39m \u001b[43mload_constraints_acf_df\u001b[49m\u001b[43m(\u001b[49m\u001b[43mfile_name\u001b[49m\u001b[43m,\u001b[49m\u001b[43m \u001b[49m\u001b[43mpfdl_dataset_constraints_df\u001b[49m\u001b[43m)\u001b[49m\n\u001b[0;32m      8\u001b[0m     acf_2d \u001b[38;5;241m=\u001b[39m acf_df[acf_cols]\u001b[38;5;241m.\u001b[39mvalues\n\u001b[0;32m      9\u001b[0m     acf_mean \u001b[38;5;241m=\u001b[39m np\u001b[38;5;241m.\u001b[39mnanmean(acf_2d, axis\u001b[38;5;241m=\u001b[39m\u001b[38;5;241m0\u001b[39m)\n",
      "Cell \u001b[1;32mIn[13], line 2\u001b[0m, in \u001b[0;36mload_constraints_acf_df\u001b[1;34m(file_name_, dataset_constraints_df_)\u001b[0m\n\u001b[0;32m      1\u001b[0m \u001b[38;5;28;01mdef\u001b[39;00m \u001b[38;5;21mload_constraints_acf_df\u001b[39m(file_name_, dataset_constraints_df_):\n\u001b[1;32m----> 2\u001b[0m     pfdl_acf_average_trial_pearsonr_df \u001b[38;5;241m=\u001b[39m \u001b[43mpd\u001b[49m\u001b[38;5;241;43m.\u001b[39;49m\u001b[43mread_pickle\u001b[49m\u001b[43m(\u001b[49m\u001b[43mresults_folder\u001b[49m\u001b[43m \u001b[49m\u001b[38;5;241;43m+\u001b[39;49m\u001b[43m \u001b[49m\u001b[43mfile_name_\u001b[49m\u001b[43m \u001b[49m\u001b[38;5;241;43m+\u001b[39;49m\u001b[43m \u001b[49m\u001b[38;5;124;43m'\u001b[39;49m\u001b[38;5;124;43m.pkl\u001b[39;49m\u001b[38;5;124;43m'\u001b[39;49m\u001b[43m)\u001b[49m    \n\u001b[0;32m      3\u001b[0m     \u001b[38;5;66;03m# get subsets based on constraints \u001b[39;00m\n\u001b[0;32m      4\u001b[0m     dataset_constraints_subset_df \u001b[38;5;241m=\u001b[39m dataset_constraints_df_\u001b[38;5;241m.\u001b[39mquery(\u001b[38;5;124m'\u001b[39m\u001b[38;5;124mn_trials_more_20 == True and no_zero_bins == 1 and one_hz_activity == 1\u001b[39m\u001b[38;5;124m'\u001b[39m)\u001b[38;5;241m.\u001b[39mcopy()\n",
      "File \u001b[1;32m~\\.conda\\envs\\isttc\\Lib\\site-packages\\pandas\\io\\pickle.py:185\u001b[0m, in \u001b[0;36mread_pickle\u001b[1;34m(filepath_or_buffer, compression, storage_options)\u001b[0m\n\u001b[0;32m    123\u001b[0m \u001b[38;5;250m\u001b[39m\u001b[38;5;124;03m\"\"\"\u001b[39;00m\n\u001b[0;32m    124\u001b[0m \u001b[38;5;124;03mLoad pickled pandas object (or any object) from file.\u001b[39;00m\n\u001b[0;32m    125\u001b[0m \n\u001b[1;32m   (...)\u001b[0m\n\u001b[0;32m    182\u001b[0m \u001b[38;5;124;03m4    4    9\u001b[39;00m\n\u001b[0;32m    183\u001b[0m \u001b[38;5;124;03m\"\"\"\u001b[39;00m\n\u001b[0;32m    184\u001b[0m excs_to_catch \u001b[38;5;241m=\u001b[39m (\u001b[38;5;167;01mAttributeError\u001b[39;00m, \u001b[38;5;167;01mImportError\u001b[39;00m, \u001b[38;5;167;01mModuleNotFoundError\u001b[39;00m, \u001b[38;5;167;01mTypeError\u001b[39;00m)\n\u001b[1;32m--> 185\u001b[0m \u001b[38;5;28;01mwith\u001b[39;00m \u001b[43mget_handle\u001b[49m\u001b[43m(\u001b[49m\n\u001b[0;32m    186\u001b[0m \u001b[43m    \u001b[49m\u001b[43mfilepath_or_buffer\u001b[49m\u001b[43m,\u001b[49m\n\u001b[0;32m    187\u001b[0m \u001b[43m    \u001b[49m\u001b[38;5;124;43m\"\u001b[39;49m\u001b[38;5;124;43mrb\u001b[39;49m\u001b[38;5;124;43m\"\u001b[39;49m\u001b[43m,\u001b[49m\n\u001b[0;32m    188\u001b[0m \u001b[43m    \u001b[49m\u001b[43mcompression\u001b[49m\u001b[38;5;241;43m=\u001b[39;49m\u001b[43mcompression\u001b[49m\u001b[43m,\u001b[49m\n\u001b[0;32m    189\u001b[0m \u001b[43m    \u001b[49m\u001b[43mis_text\u001b[49m\u001b[38;5;241;43m=\u001b[39;49m\u001b[38;5;28;43;01mFalse\u001b[39;49;00m\u001b[43m,\u001b[49m\n\u001b[0;32m    190\u001b[0m \u001b[43m    \u001b[49m\u001b[43mstorage_options\u001b[49m\u001b[38;5;241;43m=\u001b[39;49m\u001b[43mstorage_options\u001b[49m\u001b[43m,\u001b[49m\n\u001b[0;32m    191\u001b[0m \u001b[43m\u001b[49m\u001b[43m)\u001b[49m \u001b[38;5;28;01mas\u001b[39;00m handles:\n\u001b[0;32m    192\u001b[0m     \u001b[38;5;66;03m# 1) try standard library Pickle\u001b[39;00m\n\u001b[0;32m    193\u001b[0m     \u001b[38;5;66;03m# 2) try pickle_compat (older pandas version) to handle subclass changes\u001b[39;00m\n\u001b[0;32m    194\u001b[0m     \u001b[38;5;66;03m# 3) try pickle_compat with latin-1 encoding upon a UnicodeDecodeError\u001b[39;00m\n\u001b[0;32m    196\u001b[0m     \u001b[38;5;28;01mtry\u001b[39;00m:\n\u001b[0;32m    197\u001b[0m         \u001b[38;5;66;03m# TypeError for Cython complaints about object.__new__ vs Tick.__new__\u001b[39;00m\n\u001b[0;32m    198\u001b[0m         \u001b[38;5;28;01mtry\u001b[39;00m:\n",
      "File \u001b[1;32m~\\.conda\\envs\\isttc\\Lib\\site-packages\\pandas\\io\\common.py:882\u001b[0m, in \u001b[0;36mget_handle\u001b[1;34m(path_or_buf, mode, encoding, compression, memory_map, is_text, errors, storage_options)\u001b[0m\n\u001b[0;32m    873\u001b[0m         handle \u001b[38;5;241m=\u001b[39m \u001b[38;5;28mopen\u001b[39m(\n\u001b[0;32m    874\u001b[0m             handle,\n\u001b[0;32m    875\u001b[0m             ioargs\u001b[38;5;241m.\u001b[39mmode,\n\u001b[1;32m   (...)\u001b[0m\n\u001b[0;32m    878\u001b[0m             newline\u001b[38;5;241m=\u001b[39m\u001b[38;5;124m\"\u001b[39m\u001b[38;5;124m\"\u001b[39m,\n\u001b[0;32m    879\u001b[0m         )\n\u001b[0;32m    880\u001b[0m     \u001b[38;5;28;01melse\u001b[39;00m:\n\u001b[0;32m    881\u001b[0m         \u001b[38;5;66;03m# Binary mode\u001b[39;00m\n\u001b[1;32m--> 882\u001b[0m         handle \u001b[38;5;241m=\u001b[39m \u001b[38;5;28;43mopen\u001b[39;49m\u001b[43m(\u001b[49m\u001b[43mhandle\u001b[49m\u001b[43m,\u001b[49m\u001b[43m \u001b[49m\u001b[43mioargs\u001b[49m\u001b[38;5;241;43m.\u001b[39;49m\u001b[43mmode\u001b[49m\u001b[43m)\u001b[49m\n\u001b[0;32m    883\u001b[0m     handles\u001b[38;5;241m.\u001b[39mappend(handle)\n\u001b[0;32m    885\u001b[0m \u001b[38;5;66;03m# Convert BytesIO or file objects passed with an encoding\u001b[39;00m\n",
      "\u001b[1;31mFileNotFoundError\u001b[0m: [Errno 2] No such file or directory: 'E:\\\\projects_q_30_10_2024\\\\isttc\\\\results\\\\monkey\\\\fixation_period_1000ms\\\\non_binned\\\\pfdl\\\\acf\\\\trials20\\\\acf_average_trial_sttc_with_empty_50ms_20lags_51padding_df10.pkl'"
     ]
    }
   ],
   "source": [
    "# for pfdl sttc\n",
    "n_runs = 50\n",
    "\n",
    "pfdl_sttc_tau_ms_l, pfdl_sttc_fit_r_squared_l = [], []\n",
    "for i in range(n_runs):\n",
    "    file_name = 'non_binned\\\\pfdl\\\\acf\\\\trials20\\\\acf_average_trial_sttc_with_empty_50ms_20lags_51padding_df' + str(i)\n",
    "    acf_df = load_constraints_acf_df(file_name, pfdl_dataset_constraints_df)\n",
    "    acf_2d = acf_df[acf_cols].values\n",
    "    acf_mean = np.nanmean(acf_2d, axis=0)\n",
    "    tau, popt, fit_r_squared = calc_tau_area_mean(acf_mean, start_idx_=2)\n",
    "    tau_ms = tau*50\n",
    "    print('tau {}, popt {}, fit_r_squared {}'.format(tau_ms, popt, fit_r_squared))\n",
    "    pfdl_sttc_tau_ms_l.append(tau_ms)\n",
    "    pfdl_sttc_fit_r_squared_l.append(fit_r_squared)"
   ]
  },
  {
   "cell_type": "code",
   "execution_count": 34,
   "id": "abcd1680-e2b9-4eae-868b-622ed5dbc23f",
   "metadata": {},
   "outputs": [
    {
     "name": "stdout",
     "output_type": "stream",
     "text": [
      "N neurons: 351\n",
      "tau 302.221580852587, popt [0.20264334 0.16544153 0.1933355 ], fit_r_squared 0.9701203330906831\n",
      "N neurons: 351\n",
      "tau 274.9523028523413, popt [0.22339736 0.18184972 0.16563919], fit_r_squared 0.9638277850666725\n",
      "N neurons: 351\n",
      "tau 249.99290695849768, popt [0.19438028 0.20000567 0.22940554], fit_r_squared 0.9574430129117256\n",
      "N neurons: 351\n",
      "tau 222.15279417923375, popt [0.23375587 0.22507032 0.17547986], fit_r_squared 0.9609536145825415\n",
      "N neurons: 351\n",
      "tau 295.2004417273509, popt [0.21581759 0.16937644 0.12942685], fit_r_squared 0.968185254639518\n",
      "N neurons: 351\n",
      "tau 226.26907522540458, popt [0.25354891 0.22097584 0.15877663], fit_r_squared 0.9766978858563398\n",
      "N neurons: 351\n",
      "tau 321.8938499920088, popt [0.19991536 0.15533071 0.19017587], fit_r_squared 0.8931074651206383\n",
      "N neurons: 351\n",
      "tau 213.99748333258012, popt [0.24543747 0.23364761 0.20037017], fit_r_squared 0.9284716997303382\n",
      "N neurons: 351\n",
      "tau 241.96555443954418, popt [0.22990791 0.20664098 0.18602171], fit_r_squared 0.947869635697686\n",
      "N neurons: 351\n",
      "tau 431.52718628662916, popt [0.22106378 0.11586756 0.05119607], fit_r_squared 0.9412882422975816\n",
      "N neurons: 351\n",
      "tau 267.23051015180084, popt [0.22186824 0.18710438 0.18623237], fit_r_squared 0.9821974231727413\n",
      "N neurons: 351\n",
      "tau 215.96813603651398, popt [0.21542773 0.23151563 0.21313571], fit_r_squared 0.9595816905985445\n",
      "N neurons: 351\n",
      "tau 243.06036534702912, popt [0.21679329 0.20571021 0.19508084], fit_r_squared 0.9621144688589497\n",
      "N neurons: 351\n",
      "tau 175.4415101737072, popt [0.24880982 0.28499527 0.20884339], fit_r_squared 0.9383263856955373\n",
      "N neurons: 351\n",
      "tau 228.5529251164443, popt [0.2399362  0.21876771 0.19084245], fit_r_squared 0.9271017988054266\n",
      "N neurons: 351\n",
      "tau 243.3140713480809, popt [0.21230506 0.20549572 0.19535268], fit_r_squared 0.9687809826854614\n",
      "N neurons: 351\n",
      "tau 288.11376404024105, popt [0.21510351 0.17354256 0.11666062], fit_r_squared 0.9628397637330339\n",
      "N neurons: 351\n",
      "tau 218.760023271441, popt [0.22813907 0.22856096 0.2047458 ], fit_r_squared 0.9420639181670232\n",
      "N neurons: 351\n",
      "tau 270.5439227786665, popt [0.22051898 0.18481287 0.17921425], fit_r_squared 0.9554291566327237\n",
      "N neurons: 351\n",
      "tau 221.63703493674004, popt [0.24118808 0.22559407 0.18857906], fit_r_squared 0.9348557860593264\n",
      "N neurons: 351\n",
      "tau 234.42863749023437, popt [0.19480499 0.21328452 0.2663669 ], fit_r_squared 0.953518463272486\n",
      "N neurons: 351\n",
      "tau 307.10762264736877, popt [0.19369616 0.16280937 0.2225597 ], fit_r_squared 0.953091064715416\n",
      "N neurons: 351\n",
      "tau 174.7598656631849, popt [0.25343732 0.28610688 0.22103343], fit_r_squared 0.9557155404392313\n",
      "N neurons: 351\n",
      "tau 277.54354587227664, popt [0.22922964 0.18015191 0.14204727], fit_r_squared 0.974809079180858\n",
      "N neurons: 351\n",
      "tau 188.80049483519073, popt [0.25659059 0.26482981 0.23042709], fit_r_squared 0.9626754189078118\n",
      "N neurons: 351\n",
      "tau 353.0324625313183, popt [0.19934057 0.14163003 0.13721316], fit_r_squared 0.9427942856874869\n",
      "N neurons: 351\n",
      "tau 252.2096512980582, popt [0.22440303 0.19824777 0.17135403], fit_r_squared 0.9728464746961754\n",
      "N neurons: 351\n",
      "tau 306.5372953281522, popt [0.20422254 0.16311229 0.14755301], fit_r_squared 0.9114069689236276\n",
      "N neurons: 351\n",
      "tau 211.13472601255947, popt [0.24808353 0.23681562 0.13126159], fit_r_squared 0.9136832068048848\n",
      "N neurons: 351\n",
      "tau 228.337406156139, popt [0.24566818 0.2189742  0.17143887], fit_r_squared 0.9601883177676293\n",
      "N neurons: 351\n",
      "tau 268.20729158303476, popt [0.20237535 0.18642297 0.25051485], fit_r_squared 0.9502444148603527\n",
      "N neurons: 351\n",
      "tau 358.7845934302297, popt [0.18806192 0.13935938 0.19054502], fit_r_squared 0.9077239146777519\n",
      "N neurons: 351\n",
      "tau 296.6484266243185, popt [0.22702573 0.16854969 0.14888755], fit_r_squared 0.9766164041880857\n",
      "N neurons: 351\n",
      "tau 291.4876842561878, popt [0.2257366  0.17153383 0.13542195], fit_r_squared 0.9641295070111601\n",
      "N neurons: 351\n",
      "tau 228.99802468571363, popt [0.25006608 0.21834249 0.15466835], fit_r_squared 0.967668745966228\n",
      "N neurons: 351\n",
      "tau 202.17177150429882, popt [0.23462074 0.24731445 0.21751409], fit_r_squared 0.971922425292127\n",
      "N neurons: 351\n",
      "tau 255.77565029444833, popt [0.21480039 0.19548382 0.20227653], fit_r_squared 0.9495343730724024\n",
      "N neurons: 351\n",
      "tau 229.47854890127311, popt [0.23579162 0.21788529 0.16723853], fit_r_squared 0.9115535181541315\n",
      "N neurons: 351\n",
      "tau 208.7169748632493, popt [0.22518297 0.23955886 0.24363204], fit_r_squared 0.9070813380622486\n",
      "N neurons: 351\n",
      "tau 213.7548789177122, popt [0.24177533 0.23391279 0.19074174], fit_r_squared 0.951175772756458\n",
      "N neurons: 351\n",
      "tau 264.33171692401896, popt [0.24166568 0.18915626 0.13370653], fit_r_squared 0.9796829477953407\n",
      "N neurons: 351\n",
      "tau 247.5647050972414, popt [0.22607259 0.2019674  0.1544756 ], fit_r_squared 0.9368472838710569\n",
      "N neurons: 351\n",
      "tau 283.77448406838124, popt [0.21436721 0.17619625 0.16459907], fit_r_squared 0.9426193103221758\n",
      "N neurons: 351\n",
      "tau 234.56883984488627, popt [0.22461455 0.21315704 0.19293116], fit_r_squared 0.9815933209242106\n",
      "N neurons: 351\n",
      "tau 254.24162417515328, popt [0.23269867 0.19666331 0.11802239], fit_r_squared 0.9481559428547107\n",
      "N neurons: 351\n",
      "tau 200.47257173028373, popt [0.23391144 0.24941068 0.23019685], fit_r_squared 0.9582777816529081\n",
      "N neurons: 351\n",
      "tau 329.1473374557335, popt [0.19937381 0.15190765 0.18808162], fit_r_squared 0.8944153401119668\n",
      "N neurons: 351\n",
      "tau 231.671566567438, popt [0.24188199 0.21582277 0.1896441 ], fit_r_squared 0.955057589258303\n",
      "N neurons: 351\n",
      "tau 212.2606643899734, popt [0.23827596 0.23555942 0.19425545], fit_r_squared 0.9715226019069411\n",
      "N neurons: 351\n",
      "tau 292.86311084945316, popt [0.19505389 0.17072823 0.18202328], fit_r_squared 0.9458403813356497\n"
     ]
    }
   ],
   "source": [
    "# for pfp pearson\n",
    "n_runs = 50\n",
    "\n",
    "pfp_pearson_tau_ms_l, pfp_pearson_fit_r_squared_l = [], []\n",
    "for i in range(n_runs):\n",
    "    file_name = 'binned\\\\pfp\\\\acf\\\\trials20\\\\acf_average_trial_pearsonr_with_empty_50ms_20lags_df' + str(i)\n",
    "    acf_df = load_constraints_acf_df(file_name, pfdl_dataset_constraints_df)\n",
    "    acf_2d = acf_df[acf_cols].values\n",
    "    acf_mean = np.nanmean(acf_2d, axis=0)\n",
    "    tau, popt, fit_r_squared = calc_tau_area_mean(acf_mean, start_idx_=2)\n",
    "    tau_ms = tau*50\n",
    "    print('tau {}, popt {}, fit_r_squared {}'.format(tau_ms, popt, fit_r_squared))\n",
    "    pfp_pearson_tau_ms_l.append(tau_ms)\n",
    "    pfp_pearson_fit_r_squared_l.append(fit_r_squared)"
   ]
  },
  {
   "cell_type": "code",
   "execution_count": 44,
   "id": "b3f1899e-dc9c-4c28-b67d-51d5e67f2aa2",
   "metadata": {},
   "outputs": [
    {
     "name": "stdout",
     "output_type": "stream",
     "text": [
      "N neurons: 351\n",
      "tau 239.90790228617334, popt [0.09018374 0.20841331 0.32680793], fit_r_squared 0.9430219418673312\n",
      "N neurons: 351\n",
      "tau 293.6446922490115, popt [0.08645884 0.17027381 0.28801984], fit_r_squared 0.9548167562616335\n",
      "N neurons: 351\n",
      "tau 273.97398567774843, popt [0.07779072 0.18249908 0.31969078], fit_r_squared 0.9189264364273314\n",
      "N neurons: 351\n",
      "tau 199.93246570127175, popt [0.09309857 0.25008445 0.33209471], fit_r_squared 0.9750559443872916\n",
      "N neurons: 351\n",
      "tau 304.95433830169844, popt [0.08051938 0.16395897 0.2714877 ], fit_r_squared 0.9548808570875534\n",
      "N neurons: 351\n",
      "tau 209.46621462141465, popt [0.08740814 0.23870198 0.34639916], fit_r_squared 0.9030734767106465\n",
      "N neurons: 351\n",
      "tau 266.5046479976701, popt [0.08559906 0.18761399 0.31167363], fit_r_squared 0.9196310638080541\n",
      "N neurons: 351\n",
      "tau 217.909264156566, popt [0.09310428 0.2294533  0.30721546], fit_r_squared 0.9569121155029351\n",
      "N neurons: 351\n",
      "tau 285.8348582088498, popt [0.0837303  0.17492618 0.27774362], fit_r_squared 0.9725360060691053\n",
      "N neurons: 351\n",
      "tau 598.5887057384504, popt [0.0888697  0.08352981 0.04435149], fit_r_squared 0.9147925461847378\n",
      "N neurons: 351\n",
      "tau 256.67076197498335, popt [0.08610689 0.19480209 0.33899014], fit_r_squared 0.8580805105138063\n",
      "N neurons: 351\n",
      "tau 323.914111973864, popt [0.07719151 0.15436191 0.34438222], fit_r_squared 0.8979327078742351\n",
      "N neurons: 351\n",
      "tau 206.6439470527412, popt [0.09225616 0.24196208 0.3370487 ], fit_r_squared 0.963235482886911\n",
      "N neurons: 351\n",
      "tau 237.76989171767556, popt [0.08837059 0.21028735 0.31036469], fit_r_squared 0.8950389734495271\n",
      "N neurons: 351\n",
      "tau 325.1519178650772, popt [0.0837816  0.15377427 0.26439373], fit_r_squared 0.9369268677682335\n",
      "N neurons: 351\n",
      "tau 270.1903673852833, popt [0.09053438 0.18505471 0.24871231], fit_r_squared 0.97333142083877\n",
      "N neurons: 351\n",
      "tau 304.2507607188826, popt [0.08365947 0.16433813 0.27925319], fit_r_squared 0.9708593527530228\n",
      "N neurons: 351\n",
      "tau 289.6868009993478, popt [0.08552791 0.1726002  0.26973481], fit_r_squared 0.9262559533944285\n",
      "N neurons: 351\n",
      "tau 232.3035570664374, popt [0.08742688 0.21523562 0.32778113], fit_r_squared 0.9343708233188379\n",
      "N neurons: 351\n",
      "tau 270.779062767429, popt [0.08247331 0.18465239 0.34513293], fit_r_squared 0.8954670302774106\n",
      "N neurons: 351\n",
      "tau 238.32709836433574, popt [0.08291452 0.2097957  0.3409953 ], fit_r_squared 0.9747715410676515\n",
      "N neurons: 351\n",
      "tau 445.3275513456284, popt [0.08086132 0.11227691 0.18255389], fit_r_squared 0.8986772793860686\n",
      "N neurons: 351\n",
      "tau 331.22254897663714, popt [0.08977786 0.15095591 0.21486504], fit_r_squared 0.989733073851857\n",
      "N neurons: 351\n",
      "tau 381.588314683616, popt [0.08106345 0.13103127 0.23210366], fit_r_squared 0.8999276557424047\n",
      "N neurons: 351\n",
      "tau 268.6528648078728, popt [0.08481373 0.18611378 0.34539867], fit_r_squared 0.964531568211286\n",
      "N neurons: 351\n",
      "tau 299.52750528968244, popt [0.08874985 0.16692958 0.24747633], fit_r_squared 0.9529025340117527\n",
      "N neurons: 351\n",
      "tau 204.26432902645865, popt [0.09341323 0.24478087 0.36541437], fit_r_squared 0.9219147602041944\n",
      "N neurons: 351\n",
      "tau 239.43620480884132, popt [0.0903155  0.20882389 0.33007359], fit_r_squared 0.9728871141052865\n",
      "N neurons: 351\n",
      "tau 188.23919605416165, popt [0.09258977 0.26561949 0.3092143 ], fit_r_squared 0.9240087802923251\n",
      "N neurons: 351\n",
      "tau 350.45106329698143, popt [0.08554642 0.14267327 0.23804234], fit_r_squared 0.9299503705676367\n",
      "N neurons: 351\n",
      "tau 290.88116871876184, popt [0.09383223 0.1718915  0.23093006], fit_r_squared 0.9692230971536707\n",
      "N neurons: 351\n",
      "tau 267.9147686423236, popt [0.08828774 0.18662652 0.30287928], fit_r_squared 0.9678867373772858\n",
      "N neurons: 351\n",
      "tau 316.3635844891538, popt [0.08400578 0.158046   0.26993561], fit_r_squared 0.9450533942677544\n",
      "N neurons: 351\n",
      "tau 217.48882719236437, popt [0.0837903  0.22989687 0.35273496], fit_r_squared 0.9503015722350471\n",
      "N neurons: 351\n",
      "tau 202.0932004708074, popt [0.09987553 0.2474106  0.29425307], fit_r_squared 0.9112618347902773\n",
      "N neurons: 351\n",
      "tau 306.8443564392452, popt [0.08523094 0.16294906 0.26599479], fit_r_squared 0.9648361109934672\n",
      "N neurons: 351\n",
      "tau 242.9537355600928, popt [0.08000355 0.2058005  0.36274753], fit_r_squared 0.9645257508122893\n",
      "N neurons: 351\n",
      "tau 246.89055361378217, popt [0.08701944 0.20251889 0.2896345 ], fit_r_squared 0.9679214833897852\n",
      "N neurons: 351\n",
      "tau 255.9147594160661, popt [0.08394425 0.19537756 0.33532215], fit_r_squared 0.9108273456672921\n",
      "N neurons: 351\n",
      "tau 290.3441911331784, popt [0.08052799 0.1722094  0.32786274], fit_r_squared 0.9617317728383024\n",
      "N neurons: 351\n",
      "tau 285.14388150375106, popt [0.0833636  0.17535007 0.34968489], fit_r_squared 0.9420333274719541\n",
      "N neurons: 351\n",
      "tau 190.95182585073428, popt [0.09022386 0.26184615 0.39505607], fit_r_squared 0.938570149471702\n",
      "N neurons: 351\n",
      "tau 285.78664330103163, popt [0.08302563 0.17495569 0.28463192], fit_r_squared 0.9498088266013116\n",
      "N neurons: 351\n",
      "tau 319.39111553970815, popt [0.0877328  0.15654787 0.2439638 ], fit_r_squared 0.9606185827852435\n",
      "N neurons: 351\n",
      "tau 270.0633672567436, popt [0.09170654 0.18514173 0.24784735], fit_r_squared 0.9508958194448855\n",
      "N neurons: 351\n",
      "tau 224.71110502507577, popt [0.09246369 0.22250792 0.31718866], fit_r_squared 0.9349907691102816\n",
      "N neurons: 351\n",
      "tau -3438765.10342822, popt [-2.22095417e+02 -1.45401033e-05 -1.00034688e+00], fit_r_squared 0.8554498736306011\n",
      "N neurons: 351\n",
      "tau 229.83537280380858, popt [0.08347945 0.21754702 0.37226247], fit_r_squared 0.9269275736474358\n",
      "N neurons: 351\n",
      "tau 241.45273597904838, popt [0.08048489 0.20707987 0.39210432], fit_r_squared 0.9722105518332765\n",
      "N neurons: 351\n",
      "tau 323.4855069392167, popt [0.08022184 0.15456643 0.29056579], fit_r_squared 0.9111289710258313\n"
     ]
    }
   ],
   "source": [
    "# for pfp sttc\n",
    "n_runs = 50\n",
    "\n",
    "pfp_sttc_tau_ms_l, pfp_sttc_fit_r_squared_l = [], []\n",
    "for i in range(n_runs):\n",
    "    file_name = 'non_binned\\\\pfp\\\\acf\\\\trials20\\\\acf_average_trial_sttc_with_empty_50ms_20lags_51padding_df' + str(i)\n",
    "    acf_df = load_constraints_acf_df(file_name, pfdl_dataset_constraints_df)\n",
    "    acf_2d = acf_df[acf_cols].values\n",
    "    acf_mean = np.nanmean(acf_2d, axis=0)\n",
    "    tau, popt, fit_r_squared = calc_tau_area_mean(acf_mean, start_idx_=2)\n",
    "    tau_ms = tau*50\n",
    "    print('tau {}, popt {}, fit_r_squared {}'.format(tau_ms, popt, fit_r_squared))\n",
    "    pfp_sttc_tau_ms_l.append(tau_ms)\n",
    "    pfp_sttc_fit_r_squared_l.append(fit_r_squared)"
   ]
  },
  {
   "cell_type": "markdown",
   "id": "c2f1494b-0434-480e-977a-458b4ac9c5bd",
   "metadata": {},
   "source": [
    "### Calculate tau"
   ]
  },
  {
   "cell_type": "code",
   "execution_count": 10,
   "id": "86afb9a8-adaf-4211-865a-3ae4f1aa7487",
   "metadata": {},
   "outputs": [],
   "source": [
    "def func_single_exp(x, a, b, c):\n",
    "    \"\"\"\n",
    "    Exponential function to fit the data.\n",
    "    :param x: 1d array, independent variable\n",
    "    :param a: float, parameter to fit\n",
    "    :param b: float, parameter to fit\n",
    "    :param c: float, parameter to fit\n",
    "    :return: callable\n",
    "    \"\"\"\n",
    "    #return a * np.exp(-b * x) + c\n",
    "    return a * (np.exp(-b * x) + c) # as in the paper"
   ]
  },
  {
   "cell_type": "code",
   "execution_count": 11,
   "id": "a27066a8-3979-4cab-b6c9-38e3c53ca0c7",
   "metadata": {},
   "outputs": [],
   "source": [
    "def calc_tau_area_mean(acf_mean_, start_idx_=1):    \n",
    "    t = np.linspace(0, len(acf_mean_)-1, len(acf_mean_)).astype(int)\n",
    "    # print(t)\n",
    "    \n",
    "    popt, pcov = curve_fit(func_single_exp, t[start_idx_:], acf_mean_[start_idx_:], maxfev=1000000000) # I used 5000, now it is like in Siegle\n",
    "    tau = 1 / popt[1]\n",
    "    \n",
    "    # fit r-squared\n",
    "    y_pred = func_single_exp(t[start_idx_:], *popt)\n",
    "    fit_r_squared = r2_score(acf_mean_[start_idx_:], y_pred)\n",
    "\n",
    "    return tau, popt, fit_r_squared"
   ]
  },
  {
   "cell_type": "markdown",
   "id": "458eeedb-0cfe-4fce-99a1-89e74a9f2b61",
   "metadata": {},
   "source": [
    "### Plot"
   ]
  },
  {
   "cell_type": "code",
   "execution_count": null,
   "id": "b2fbbecf-1952-4575-be24-75d4fc4814be",
   "metadata": {},
   "outputs": [],
   "source": [
    "save_fig = False"
   ]
  },
  {
   "cell_type": "code",
   "execution_count": 47,
   "id": "b72190b5-cedd-4d99-84b2-c7afaf928080",
   "metadata": {},
   "outputs": [],
   "source": [
    "pfp_sttc_tau_ms_l = [tau for tau in pfp_sttc_tau_ms_l if tau > 0]"
   ]
  },
  {
   "cell_type": "code",
   "execution_count": 49,
   "id": "317036d7-fc15-460a-a86c-35992b796548",
   "metadata": {},
   "outputs": [
    {
     "data": {
      "image/png": "[encoded data removed]",
      "text/plain": [
       "<Figure size 1200x400 with 4 Axes>"
      ]
     },
     "metadata": {},
     "output_type": "display_data"
    }
   ],
   "source": [
    "fig, axes = plt.subplots(1,4, figsize=(12,4), sharey=True)\n",
    "\n",
    "sns.swarmplot(ax=axes[0], x=['pfdl']*10, y=np.asarray(pfdl_pearson_tau_ms_l))\n",
    "sns.swarmplot(ax=axes[1], x=['pfdl']*10, y=np.asarray(pfdl_sttc_tau_ms_l))\n",
    "\n",
    "sns.scatterplot(ax=axes[0], x=['pfdl'], y=244, color='red')\n",
    "sns.scatterplot(ax=axes[1], x=['pfdl'], y=236, color='red')\n",
    "\n",
    "sns.swarmplot(ax=axes[2], x=['pfp']*50, y=np.asarray(pfp_pearson_tau_ms_l))\n",
    "sns.swarmplot(ax=axes[3], x=['pfp']*len(pfp_sttc_tau_ms_l), y=np.asarray(pfp_sttc_tau_ms_l))\n",
    "\n",
    "sns.scatterplot(ax=axes[2], x=['pfp'], y=237, color='red')\n",
    "sns.scatterplot(ax=axes[3], x=['pfp'], y=235, color='red')\n",
    "\n",
    "sns.despine()\n",
    "\n",
    "# if save_fig:\n",
    "#     fig.savefig(fig_folder + 'fig2_repr_pearson_and_sttc_with_empty_0_1000_51padding.png', bbox_inches='tight')\n",
    "#     fig.savefig(fig_folder + 'fig2_repr_pearson_and_sttc_with_empty_0_1000_51padding.svg', bbox_inches='tight')"
   ]
  }
 ],
 "metadata": {
  "kernelspec": {
   "display_name": "Python 3 (ipykernel)",
   "language": "python",
   "name": "python3"
  },
  "language_info": {
   "codemirror_mode": {
    "name": "ipython",
    "version": 3
   },
   "file_extension": ".py",
   "mimetype": "text/x-python",
   "name": "python",
   "nbconvert_exporter": "python",
   "pygments_lexer": "ipython3",
   "version": "3.12.3"
  }
 },
 "nbformat": 4,
 "nbformat_minor": 5
}
