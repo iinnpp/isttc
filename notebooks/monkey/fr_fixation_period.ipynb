{
 "cells": [
  {
   "cell_type": "code",
   "execution_count": 1,
   "id": "8bbcbf7a-4c7f-4516-ad79-c2f25f1b2d92",
   "metadata": {},
   "outputs": [],
   "source": [
    "import pickle\n",
    "import csv\n",
    "import numpy as np\n",
    "import pandas as pd\n",
    "from scipy import stats\n",
    "import matplotlib.pyplot as plt\n",
    "import seaborn as sns"
   ]
  },
  {
   "cell_type": "code",
   "execution_count": 2,
   "id": "6de534ed-fd29-44a4-9cfd-6685d1fabfc2",
   "metadata": {},
   "outputs": [],
   "source": [
    "# results_folder = 'Q:\\\\Personal\\\\Irina\\\\projects\\\\isttc\\\\results\\\\monkey\\\\'\n",
    "results_folder = 'E:\\\\projects_q_30_10_2024\\\\isttc\\\\results\\\\monkey\\\\'"
   ]
  },
  {
   "cell_type": "code",
   "execution_count": 3,
   "id": "4e96c914-558d-4c12-8133-52092d83a7f3",
   "metadata": {},
   "outputs": [],
   "source": [
    "fig_folder = 'E:\\\\projects_q_30_10_2024\\\\isttc\\\\results\\\\monkey\\\\fig_drafts\\\\'\n",
    "save_fig = True"
   ]
  },
  {
   "cell_type": "markdown",
   "id": "a20d0c88-62a4-4b0e-a0d0-ef50d8fd25da",
   "metadata": {},
   "source": [
    "### Load data"
   ]
  },
  {
   "cell_type": "code",
   "execution_count": 4,
   "id": "43af2769-e4cf-42ad-a816-716726d165e9",
   "metadata": {},
   "outputs": [
    {
     "name": "stdout",
     "output_type": "stream",
     "text": [
      "N spike_trains in PFdl fixON 33018\n"
     ]
    }
   ],
   "source": [
    "csv_data_file_pfdl = results_folder + 'data_pfdl_fixon_1500ms_no_empty_fixation.csv'\n",
    "with open(csv_data_file_pfdl, newline='') as f:\n",
    "    reader = csv.reader(f)\n",
    "    sua_list_pfdl = list(reader)\n",
    "    \n",
    "n_spike_trains_pfdl = len(sua_list_pfdl)\n",
    "print('N spike_trains in PFdl fixON {}'.format(n_spike_trains_pfdl))"
   ]
  },
  {
   "cell_type": "code",
   "execution_count": 5,
   "id": "bca74abb-85ed-45d9-ab62-9f74c09cb659",
   "metadata": {},
   "outputs": [
    {
     "name": "stdout",
     "output_type": "stream",
     "text": [
      "N spike_trains in PFp fixON 27717\n"
     ]
    }
   ],
   "source": [
    "csv_data_file_pfp = results_folder + 'data_pfp_fixon_1500ms_no_empty_fixation.csv'\n",
    "with open(csv_data_file_pfp, newline='') as f:\n",
    "    reader = csv.reader(f)\n",
    "    sua_list_pfp = list(reader)\n",
    "\n",
    "n_spike_trains_pfp = len(sua_list_pfp)\n",
    "print('N spike_trains in PFp fixON {}'.format(n_spike_trains_pfp))"
   ]
  },
  {
   "cell_type": "markdown",
   "id": "0454df90-ed36-4788-baff-4227af0d403e",
   "metadata": {},
   "source": [
    "### Get the FR"
   ]
  },
  {
   "cell_type": "code",
   "execution_count": 6,
   "id": "d3f337ea-2178-4a20-ad10-d884aaca0ebc",
   "metadata": {},
   "outputs": [],
   "source": [
    "def get_fr_df(sua_list):\n",
    "    unit_id_l = []\n",
    "    spike_count_l = []\n",
    "    \n",
    "    for unit in sua_list:\n",
    "        unit_id_l.append(unit[0])\n",
    "        spike_count_l.append(len(unit[3:]))\n",
    "    \n",
    "    fr_df = pd.DataFrame(np.vstack((unit_id_l, spike_count_l)).T, \n",
    "                                             columns=['unit_id', 'spike_count'])\n",
    "    fr_df['unit_id'] = fr_df['unit_id'].astype(int)\n",
    "    fr_df['spike_count'] = fr_df['spike_count'].astype(float)\n",
    "    fr_df['fr_hz'] = fr_df['spike_count'] / 1.5\n",
    "    fr_df['fr_hz_log10'] = np.log10(fr_df['fr_hz'])\n",
    "    \n",
    "    return fr_df"
   ]
  },
  {
   "cell_type": "code",
   "execution_count": 7,
   "id": "bf7130f7-10fc-4534-bcdf-4dad03850b5e",
   "metadata": {},
   "outputs": [],
   "source": [
    "fr_pfdl_df = get_fr_df(sua_list_pfdl)\n",
    "fr_pfp_df = get_fr_df(sua_list_pfdl)\n",
    "\n",
    "# unit mean\n",
    "fr_pfdl_df_mean = fr_pfdl_df.groupby(by='unit_id', as_index=False)[['spike_count', 'fr_hz']].mean()\n",
    "fr_pfdl_df_mean['fr_hz_log10'] = np.log10(fr_pfdl_df_mean['fr_hz'])\n",
    "fr_pfdl_df_mean['area'] = 'pfdl'\n",
    "\n",
    "fr_pfp_df_mean = fr_pfp_df.groupby(by='unit_id', as_index=False)[['spike_count', 'fr_hz']].mean()\n",
    "fr_pfp_df_mean['fr_hz_log10'] = np.log10(fr_pfp_df_mean['fr_hz'])\n",
    "fr_pfp_df_mean['area'] = 'pfp'"
   ]
  },
  {
   "cell_type": "code",
   "execution_count": 8,
   "id": "f772254c-e07b-481a-b2db-2ecbf77e33f4",
   "metadata": {},
   "outputs": [
    {
     "data": {
      "text/html": [
       "<div>\n",
       "<style scoped>\n",
       "    .dataframe tbody tr th:only-of-type {\n",
       "        vertical-align: middle;\n",
       "    }\n",
       "\n",
       "    .dataframe tbody tr th {\n",
       "        vertical-align: top;\n",
       "    }\n",
       "\n",
       "    .dataframe thead th {\n",
       "        text-align: right;\n",
       "    }\n",
       "</style>\n",
       "<table border=\"1\" class=\"dataframe\">\n",
       "  <thead>\n",
       "    <tr style=\"text-align: right;\">\n",
       "      <th></th>\n",
       "      <th>unit_id</th>\n",
       "      <th>spike_count</th>\n",
       "      <th>fr_hz</th>\n",
       "      <th>fr_hz_log10</th>\n",
       "      <th>area</th>\n",
       "    </tr>\n",
       "  </thead>\n",
       "  <tbody>\n",
       "    <tr>\n",
       "      <th>0</th>\n",
       "      <td>0</td>\n",
       "      <td>29.043478</td>\n",
       "      <td>19.362319</td>\n",
       "      <td>1.286957</td>\n",
       "      <td>pfdl</td>\n",
       "    </tr>\n",
       "    <tr>\n",
       "      <th>1</th>\n",
       "      <td>1</td>\n",
       "      <td>1.902439</td>\n",
       "      <td>1.268293</td>\n",
       "      <td>0.103219</td>\n",
       "      <td>pfdl</td>\n",
       "    </tr>\n",
       "    <tr>\n",
       "      <th>2</th>\n",
       "      <td>2</td>\n",
       "      <td>2.733333</td>\n",
       "      <td>1.822222</td>\n",
       "      <td>0.260601</td>\n",
       "      <td>pfdl</td>\n",
       "    </tr>\n",
       "    <tr>\n",
       "      <th>3</th>\n",
       "      <td>3</td>\n",
       "      <td>16.120879</td>\n",
       "      <td>10.747253</td>\n",
       "      <td>1.031297</td>\n",
       "      <td>pfdl</td>\n",
       "    </tr>\n",
       "    <tr>\n",
       "      <th>4</th>\n",
       "      <td>4</td>\n",
       "      <td>4.648148</td>\n",
       "      <td>3.098765</td>\n",
       "      <td>0.491189</td>\n",
       "      <td>pfdl</td>\n",
       "    </tr>\n",
       "    <tr>\n",
       "      <th>...</th>\n",
       "      <td>...</td>\n",
       "      <td>...</td>\n",
       "      <td>...</td>\n",
       "      <td>...</td>\n",
       "      <td>...</td>\n",
       "    </tr>\n",
       "    <tr>\n",
       "      <th>1081</th>\n",
       "      <td>539</td>\n",
       "      <td>4.852941</td>\n",
       "      <td>3.235294</td>\n",
       "      <td>0.509914</td>\n",
       "      <td>pfp</td>\n",
       "    </tr>\n",
       "    <tr>\n",
       "      <th>1082</th>\n",
       "      <td>540</td>\n",
       "      <td>3.133333</td>\n",
       "      <td>2.088889</td>\n",
       "      <td>0.319915</td>\n",
       "      <td>pfp</td>\n",
       "    </tr>\n",
       "    <tr>\n",
       "      <th>1083</th>\n",
       "      <td>541</td>\n",
       "      <td>26.551402</td>\n",
       "      <td>17.700935</td>\n",
       "      <td>1.247996</td>\n",
       "      <td>pfp</td>\n",
       "    </tr>\n",
       "    <tr>\n",
       "      <th>1084</th>\n",
       "      <td>542</td>\n",
       "      <td>3.546512</td>\n",
       "      <td>2.364341</td>\n",
       "      <td>0.373710</td>\n",
       "      <td>pfp</td>\n",
       "    </tr>\n",
       "    <tr>\n",
       "      <th>1085</th>\n",
       "      <td>543</td>\n",
       "      <td>1.666667</td>\n",
       "      <td>1.111111</td>\n",
       "      <td>0.045757</td>\n",
       "      <td>pfp</td>\n",
       "    </tr>\n",
       "  </tbody>\n",
       "</table>\n",
       "<p>1086 rows × 5 columns</p>\n",
       "</div>"
      ],
      "text/plain": [
       "      unit_id  spike_count      fr_hz  fr_hz_log10  area\n",
       "0           0    29.043478  19.362319     1.286957  pfdl\n",
       "1           1     1.902439   1.268293     0.103219  pfdl\n",
       "2           2     2.733333   1.822222     0.260601  pfdl\n",
       "3           3    16.120879  10.747253     1.031297  pfdl\n",
       "4           4     4.648148   3.098765     0.491189  pfdl\n",
       "...       ...          ...        ...          ...   ...\n",
       "1081      539     4.852941   3.235294     0.509914   pfp\n",
       "1082      540     3.133333   2.088889     0.319915   pfp\n",
       "1083      541    26.551402  17.700935     1.247996   pfp\n",
       "1084      542     3.546512   2.364341     0.373710   pfp\n",
       "1085      543     1.666667   1.111111     0.045757   pfp\n",
       "\n",
       "[1086 rows x 5 columns]"
      ]
     },
     "execution_count": 8,
     "metadata": {},
     "output_type": "execute_result"
    }
   ],
   "source": [
    "fr_mean_df = pd.concat([fr_pfdl_df_mean, fr_pfp_df_mean])\n",
    "fr_mean_df.reset_index(inplace=True, drop=True)\n",
    "fr_mean_df"
   ]
  },
  {
   "cell_type": "code",
   "execution_count": 9,
   "id": "56653575-9f84-405a-9029-144a0b961a9e",
   "metadata": {},
   "outputs": [
    {
     "data": {
      "image/png": "[encoded data removed]",
      "text/plain": [
       "<Figure size 800x300 with 2 Axes>"
      ]
     },
     "metadata": {},
     "output_type": "display_data"
    }
   ],
   "source": [
    "# plot with grouping per animal\n",
    "\n",
    "fig, axes = plt.subplots(1, 2, figsize=(8,3))\n",
    "plt.subplots_adjust(hspace=0.4, wspace=0.4)\n",
    "\n",
    "sns.violinplot(ax=axes[0], x='area', y='fr_hz', data=fr_mean_df, cut=0, density_norm='width', color='steelblue')\n",
    "sns.violinplot(ax=axes[1], x='area', y='fr_hz_log10', data=fr_mean_df, cut=0, density_norm='width', color='steelblue')\n",
    "\n",
    "axes[0].set_ylabel('Firing rate (Hz)')\n",
    "axes[1].set_ylabel('Firing rate log10 (Hz)')\n",
    "\n",
    "for ax in axes.flat:\n",
    "    ax.set_xlabel('Brain area')\n",
    "\n",
    "fig.suptitle('FR mean across all unit trials, fixation [0, 1500]', y=1.05)\n",
    "\n",
    "sns.despine()\n",
    "\n",
    "if save_fig:\n",
    "    plt.savefig(fig_folder + 'fr_fixation_no_empty_1500.png' , bbox_inches='tight')\n",
    "    plt.savefig(fig_folder + 'fr_fixation_no_empty_1500.svg' , bbox_inches='tight')"
   ]
  }
 ],
 "metadata": {
  "kernelspec": {
   "display_name": "Python 3 (ipykernel)",
   "language": "python",
   "name": "python3"
  },
  "language_info": {
   "codemirror_mode": {
    "name": "ipython",
    "version": 3
   },
   "file_extension": ".py",
   "mimetype": "text/x-python",
   "name": "python",
   "nbconvert_exporter": "python",
   "pygments_lexer": "ipython3",
   "version": "3.12.7"
  }
 },
 "nbformat": 4,
 "nbformat_minor": 5
}
