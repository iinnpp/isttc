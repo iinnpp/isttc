{
 "cells": [
  {
   "cell_type": "markdown",
   "id": "7fe4acf6-146b-4a28-8fea-a6f2e32d97c9",
   "metadata": {},
   "source": [
    "Calculate following constraints:\n",
    "* decline in auto correlation within 150-250 ms of time lag after fixation onset\r",
    "* \n",
    "intrinsic timescale larger than 0 m\n",
    "* \r\n",
    "visual inspection with 4 criter\n",
    "  * :\r\n",
    "autocorrelation values showed an oscillatory behavior as time lags increa\n",
    "  * ; \r\n",
    "the autocorrelation values did not decay as time lags incre\n",
    "  * d; \r\n",
    "the autocorrelation values were more linearly decreasing rather than exponent\n",
    "  * ly; \r\n",
    "more than 40% of autocorrelation values (∼8/19 autocorrelation values) had the fitting curve outside their error bars. The last requirement implied at least 11/19 autocorrelation values for which the fitting curve was within the erroars. \r\n"
   ]
  }
 ],
 "metadata": {
  "kernelspec": {
   "display_name": "Python 3 (ipykernel)",
   "language": "python",
   "name": "python3"
  },
  "language_info": {
   "codemirror_mode": {
    "name": "ipython",
    "version": 3
   },
   "file_extension": ".py",
   "mimetype": "text/x-python",
   "name": "python",
   "nbconvert_exporter": "python",
   "pygments_lexer": "ipython3",
   "version": "3.12.3"
  }
 },
 "nbformat": 4,
 "nbformat_minor": 5
}
