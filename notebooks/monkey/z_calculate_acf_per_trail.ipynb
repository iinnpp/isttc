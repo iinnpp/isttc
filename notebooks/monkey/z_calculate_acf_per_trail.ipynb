{
 "cells": [
  {
   "cell_type": "markdown",
   "id": "bfcd79f8-5aaa-42a2-a66f-4aaf32634c06",
   "metadata": {},
   "source": [
    "Calculate autocorrelation per trial (1 ACF per trial):\n",
    "\n",
    "* calculate Pearson for all trials (all non zero spike trials)\n",
    "* calculate ACF proper for all trials (also non zero)\n",
    "* calculate iSTTC for all trials (also non zero) "
   ]
  },
  {
   "cell_type": "code",
   "execution_count": 1,
   "id": "6c772e8c-6e8e-4676-b4e5-1326f085ddf2",
   "metadata": {},
   "outputs": [],
   "source": [
    "import pandas as pd\n",
    "import numpy as np\n",
    "import csv\n",
    "from statsmodels.tsa.stattools import acf\n",
    "import matplotlib.pyplot as plt\n",
    "import seaborn as sns\n",
    "import sys\n",
    "\n",
    "# import from scripts\n",
    "import os\n",
    "os.chdir(os.path.expanduser(\"D:\\\\intr_timescales\\\\isttc\\\\scripts\"))\n",
    "# os.chdir(os.path.expanduser(\"C:\\\\Users\\\\ipoch\\\\Documents\\\\repos\\\\isttc\\\\scripts\"))\n",
    "from calculate_acf import acf_pearsonr, acf_sttc"
   ]
  },
  {
   "cell_type": "markdown",
   "id": "e86e632b-f5a0-4ee7-8a58-12740c3154ee",
   "metadata": {},
   "source": [
    "### Get and prep the data"
   ]
  },
  {
   "cell_type": "code",
   "execution_count": 15,
   "id": "2a3c623b-b349-496d-8a19-32155ce4bbb4",
   "metadata": {},
   "outputs": [],
   "source": [
    "area = 'pfdl' # pfp"
   ]
  },
  {
   "cell_type": "code",
   "execution_count": null,
   "id": "cdf13812-24e7-4884-b1ac-41d52f040bb1",
   "metadata": {},
   "outputs": [],
   "source": [
    "# binned data\n",
    "results_folder = 'Q:\\\\Personal\\\\Irina\\\\projects\\\\isttc\\\\isttc\\\\results\\\\monkey\\\\'\n",
    "save_folder_binned = results_folder + 'fixation_period_1000ms\\\\binned\\\\' + area + '\\\\acf\\\\'\n",
    "\n",
    "csv_data_file = results_folder + 'data_' + area + '_fixon_1500ms_fixation_with_empty_binned_50ms.csv'\n",
    "with open(csv_data_file, newline='') as f:\n",
    "    reader = csv.reader(f)\n",
    "    sua_binned_list = list(reader)\n",
    "    \n",
    "n_binned_spike_trains = len(sua_binned_list)\n",
    "print('N spike_trains in {}: {}'.format(area, n_binned_spike_trains))\n",
    "\n",
    "# transform list to an array and to a dataframe \n",
    "sua_binned_array = np.array(sua_binned_list)\n",
    "sua_binned_array = sua_binned_array[:, :-1-9] # for 1000 calc\n",
    "\n",
    "bin_cols = ['bin_' + str(i) for i in range(sua_binned_array.shape[1]-3)]\n",
    "sua_binned_df = pd.DataFrame(sua_binned_array, columns=['unit_id', 'trial_id','condition_id'] + bin_cols)\n",
    "sua_binned_df = sua_binned_df.astype('int')\n",
    "\n",
    "n_binned_units = len(sua_binned_df['unit_id'].unique())\n",
    "print('n units {}'.format(n_binned_units))\n",
    "\n",
    "sua_binned_df.head(2)"
   ]
  },
  {
   "cell_type": "code",
   "execution_count": 16,
   "id": "41544ff5-70f1-494d-98c3-32b9e35a69f6",
   "metadata": {},
   "outputs": [],
   "source": [
    "# non-binned data\n",
    "results_folder = 'Q:\\\\Personal\\\\Irina\\\\projects\\\\isttc\\\\results\\\\monkey\\\\'\n",
    "save_folder_non_binned = results_folder + 'fixation_period_1000ms\\\\non_binned\\\\' + area + '\\\\acf\\\\'\n",
    "\n",
    "csv_data_file = results_folder + 'data_' + area + '_fixon_1500ms_with_empty_fixation.csv'\n",
    "with open(csv_data_file, newline='') as f:\n",
    "    reader = csv.reader(f)\n",
    "    sua_non_binned_list = list(reader)\n",
    "    \n",
    "n_non_binned_spike_trains = len(sua_non_binned_list)\n",
    "print('N spike_trains in {}: {}'.format(area, n_non_binned_spike_trains))\n",
    "\n",
    "# transform data to a dict, key is unit_id, values is a list of spike trains (one spike train per trial)\n",
    "units_dict = {}\n",
    "for spike_train in sua_non_binned_list:\n",
    "    spike_train_ = np.asarray(spike_train[3:]).astype(int)\n",
    "    spike_train_1000 = spike_train_[spike_train_ <= 1000]\n",
    "    if int(spike_train[0]) in units_dict:\n",
    "        units_dict[int(spike_train[0])].append(spike_train_1000)\n",
    "    else:\n",
    "        units_dict[int(spike_train[0])] = []\n",
    "        units_dict[int(spike_train[0])].append(spike_train_1000)\n",
    "\n",
    "n_non_binned_units = len(units_dict)\n",
    "print('n units {}'.format(n_non_binned_units))"
   ]
  },
  {
   "cell_type": "markdown",
   "id": "d21ce9e8-388a-483a-95b0-15285186924d",
   "metadata": {},
   "source": [
    "### Calculate autocorrelation"
   ]
  },
  {
   "cell_type": "code",
   "execution_count": 4,
   "id": "30edd5da-3409-49fa-8855-7d2ba5253fbd",
   "metadata": {},
   "outputs": [
    {
     "name": "stdout",
     "output_type": "stream",
     "text": [
      "acf_cols ['acf_0', 'acf_1', 'acf_2', 'acf_3', 'acf_4', 'acf_5', 'acf_6', 'acf_7', 'acf_8', 'acf_9', 'acf_10', 'acf_11', 'acf_12', 'acf_13', 'acf_14', 'acf_15', 'acf_16', 'acf_17', 'acf_18', 'acf_19']\n"
     ]
    }
   ],
   "source": [
    "n_lags = 20\n",
    "acf_cols = ['acf_' + str(i) for i in range(n_lags)]\n",
    "print('acf_cols {}'.format(acf_cols))"
   ]
  },
  {
   "cell_type": "markdown",
   "id": "c997a460-ddbe-495e-ad36-c1ae0c6342d0",
   "metadata": {},
   "source": [
    "#### Calc ACF using Pearson "
   ]
  },
  {
   "cell_type": "code",
   "execution_count": null,
   "id": "ec4c93b6-2268-4681-879c-7995dd687069",
   "metadata": {},
   "outputs": [],
   "source": [
    "old_stdout = sys.stdout\n",
    "sys.stdout = open(save_folder_binned + 'acf_trial_pearsonr_cal_log.txt', 'w')\n",
    "\n",
    "acf_trial_pearsonr_l, unit_id_pearsonr_l, trial_id_pearsonr = [],[],[]\n",
    "\n",
    "for idx in range(len(sua_binned_df)):\n",
    "#for idx in range(10):\n",
    "    print('Processing unit {}, trial {}'.format(sua_binned_df['unit_id'].values[idx], sua_binned_df['trial_id'].values[idx]))\n",
    "    if np.count_nonzero(sua_binned_df[bin_cols].values[idx, :]) <= 1:\n",
    "        print('WARNING: trial has {} non zero bins, nothing to correlate, skipping...'.format(np.count_nonzero(sua_binned_df[bin_cols].values[idx, :])))\n",
    "    else:\n",
    "        # n_lags-1 because of Pearson eq - for lag 19 only one values and P will get 0s in denominator\n",
    "        acf_pearsonr_ = acf_pearsonr(sua_binned_df[bin_cols].values[idx, :], n_lags_=n_lags-1, verbose_=False) \n",
    "        acf_trial_pearsonr_l.append(acf_pearsonr_)\n",
    "        unit_id_pearsonr_l.append(sua_binned_df['unit_id'].values[idx])\n",
    "        trial_id_pearsonr.append(sua_binned_df['trial_id'].values[idx])\n",
    "\n",
    "acf_pearsonr_df = pd.DataFrame(np.array(acf_trial_pearsonr_l), columns=acf_cols[:-1])\n",
    "acf_pearsonr_df.insert(0, 'unit_id', unit_id_pearsonr_l)\n",
    "acf_pearsonr_df.insert(1, 'trial_id', trial_id_pearsonr)\n",
    "\n",
    "print('NaNs in acf {}'.format(acf_pearsonr_df.isnull().any().any()))\n",
    "acf_pearsonr_df.head(3)\n",
    "\n",
    "sys.stdout = old_stdout"
   ]
  },
  {
   "cell_type": "code",
   "execution_count": null,
   "id": "f6f00438-2797-4d0b-a67e-106be3ef1764",
   "metadata": {},
   "outputs": [],
   "source": [
    "acf_pearsonr_df.to_pickle(save_folder_binned + 'acf_trial_pearsonr_df_50ms_20lags_df.pkl')"
   ]
  },
  {
   "cell_type": "markdown",
   "id": "7d59039f-1a8d-4859-8ebb-50323e76c6d0",
   "metadata": {},
   "source": [
    "#### Calc ACF using ACF equation"
   ]
  },
  {
   "cell_type": "code",
   "execution_count": null,
   "id": "679b57d1-c0ae-476b-be7e-bb03aa360443",
   "metadata": {},
   "outputs": [],
   "source": [
    "old_stdout = sys.stdout\n",
    "sys.stdout = open(save_folder_binned + 'acf_trial_proper_cal_log.txt', 'w')\n",
    "\n",
    "acf_trial_proper_l, unit_id_proper_l, trial_id_proper_l = [],[],[]\n",
    "\n",
    "for idx in range(len(sua_binned_df)):\n",
    "    print('Processing unit {}, trial {}'.format(sua_binned_df['unit_id'].values[idx], sua_binned_df['trial_id'].values[idx]))\n",
    "    if np.count_nonzero(sua_binned_df[bin_cols].values[idx, :]) <= 1:\n",
    "        print('WARNING: trial has {} non zero bins, nothing to correlate, skipping...'.format(np.count_nonzero(sua_binned_df[bin_cols].values[idx, :])))\n",
    "    else:\n",
    "        acf_proper = acf(sua_binned_df[bin_cols].values[idx, :], nlags=n_lags)\n",
    "        acf_trial_proper_l.append(acf_proper)\n",
    "        unit_id_proper_l.append(sua_binned_df['unit_id'].values[idx])\n",
    "        trial_id_proper_l.append(sua_binned_df['trial_id'].values[idx])\n",
    "\n",
    "acf_proper_df = pd.DataFrame(np.array(acf_trial_proper_l), columns=acf_cols)\n",
    "acf_proper_df.insert(0, 'unit_id', unit_id_proper_l)\n",
    "acf_proper_df.insert(1, 'trial_id', trial_id_proper_l)\n",
    "\n",
    "print('NaNs in acf {}'.format(acf_proper_df.isnull().any().any()))\n",
    "acf_proper_df.head(3)\n",
    "\n",
    "sys.stdout = old_stdout"
   ]
  },
  {
   "cell_type": "code",
   "execution_count": null,
   "id": "8d412c34-9230-4d04-853f-ae5ece918d14",
   "metadata": {},
   "outputs": [],
   "source": [
    "acf_proper_df.to_pickle(save_folder_binned + 'acf_trial_proper_df_50ms_20lags_df.pkl')"
   ]
  },
  {
   "cell_type": "markdown",
   "id": "8fc26cf5-1bfa-4e31-bdfe-5e847b1496ea",
   "metadata": {},
   "source": [
    "#### Calc acf using iSTTC"
   ]
  },
  {
   "cell_type": "code",
   "execution_count": null,
   "id": "d7e8bc0b-0436-49f4-bced-8cd393f248a4",
   "metadata": {},
   "outputs": [],
   "source": [
    "old_stdout = sys.stdout\n",
    "sys.stdout = open(save_folder_non_binned + 'acf_trial_isttc_cal_log.txt', 'w')\n",
    "\n",
    "lag_shift = 50\n",
    "sttc_dt = 50\n",
    "\n",
    "acf_trial_isttc_l, unit_id_isttc_l, trial_id_isttc_l = [],[],[]\n",
    "\n",
    "for idx in range(len(sua_non_binned_list)):\n",
    "    print('Processing unit {}, trial {}'.format(sua_non_binned_list[idx][0], sua_non_binned_list[idx][1]))\n",
    "    spike_train_a = np.asarray(sua_non_binned_list[idx][3:]).astype(int)\n",
    "    spike_train = spike_train_a[spike_train_a <= 1000]\n",
    "    if len(spike_train) <= 1:\n",
    "        print('WARNING: trial has {} <= 1, nothing to correlate, skipping...'.format(len(spike_train)))\n",
    "    else:\n",
    "        acf_isttc = acf_sttc(spike_train, n_lags, lag_shift, sttc_dt, signal_length_=lag_shift*n_lags, verbose_=False))\n",
    "        acf_trial_isttc_l.append(acf_isttc)\n",
    "        unit_id_isttc_l.append(sua_non_binned_list[idx][0])\n",
    "        trial_id_isttc_l.append(sua_non_binned_list[idx][1])\n",
    "\n",
    "acf_isttc_df = pd.DataFrame(np.array(acf_trial_isttc_l), columns=acf_cols)\n",
    "acf_isttc_df.insert(0, 'unit_id', unit_id_isttc_l)\n",
    "acf_isttc_df.insert(1, 'trial_id', trial_id_isttc_l)\n",
    "\n",
    "print('NaNs in acf {}'.format(acf_isttc_df.isnull().any().any()))\n",
    "acf_isttc_df.head(3)\n",
    "\n",
    "sys.stdout = old_stdout"
   ]
  },
  {
   "cell_type": "code",
   "execution_count": null,
   "id": "555eaac3-30fa-4448-9d66-a6260a01f01a",
   "metadata": {},
   "outputs": [],
   "source": [
    "acf_isttc_df"
   ]
  },
  {
   "cell_type": "code",
   "execution_count": null,
   "id": "a006529f-18b3-4a68-b1c3-843fcc84df00",
   "metadata": {},
   "outputs": [],
   "source": [
    "acf_isttc_df.to_pickle(save_folder_non_binned + 'acf_trial_isttc_df_50ms_20lags_df.pkl')"
   ]
  }
 ],
 "metadata": {
  "kernelspec": {
   "display_name": "Python 3 (ipykernel)",
   "language": "python",
   "name": "python3"
  },
  "language_info": {
   "codemirror_mode": {
    "name": "ipython",
    "version": 3
   },
   "file_extension": ".py",
   "mimetype": "text/x-python",
   "name": "python",
   "nbconvert_exporter": "python",
   "pygments_lexer": "ipython3",
   "version": "3.12.3"
  }
 },
 "nbformat": 4,
 "nbformat_minor": 5
}
