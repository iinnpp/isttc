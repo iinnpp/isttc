{
 "cells": [
  {
   "cell_type": "code",
   "execution_count": 1,
   "id": "134c4b9e-75fa-48ee-be02-1b44238a2200",
   "metadata": {},
   "outputs": [],
   "source": [
    "import pickle\n",
    "import numpy as np\n",
    "import pandas as pd\n",
    "import matplotlib.pyplot as plt\n",
    "import seaborn as sns"
   ]
  },
  {
   "cell_type": "code",
   "execution_count": 18,
   "id": "36fb4ad1-5133-42a4-9c90-d34c53719247",
   "metadata": {},
   "outputs": [],
   "source": [
    "# data_folder = 'Q:\\\\Personal\\\\Irina\\\\projects\\\\isttc\\\\monkey_dataset\\\\Irina_data\\\\'\n",
    "# results_folder = 'Q:\\\\Personal\\\\Irina\\\\projects\\\\isttc\\\\results\\\\monkey\\\\'\n",
    "\n",
    "data_folder = 'E:\\\\projects_q_30_10_2024\\\\isttc\\\\monkey_dataset\\\\Irina_data\\\\'\n",
    "results_folder = 'E:\\\\projects_q_30_10_2024\\\\isttc\\\\results\\\\monkey\\\\'"
   ]
  },
  {
   "cell_type": "code",
   "execution_count": 71,
   "id": "6e2cf410-598a-42d6-809b-64665fe76ef2",
   "metadata": {},
   "outputs": [],
   "source": [
    "fig_folder = 'E:\\\\projects_q_30_10_2024\\\\isttc\\\\results\\\\monkey\\\\fig_drafts\\\\'\n",
    "save_fig = True"
   ]
  },
  {
   "cell_type": "markdown",
   "id": "07c8cffb-f5ba-4cf3-8a99-506e6be8fcf0",
   "metadata": {},
   "source": [
    "### Load data"
   ]
  },
  {
   "cell_type": "code",
   "execution_count": 3,
   "id": "60ecdb16-433f-4a03-ad5d-ea87dad88fbd",
   "metadata": {},
   "outputs": [
    {
     "name": "stdout",
     "output_type": "stream",
     "text": [
      "N neurons in PFdl fixON 544\n",
      "N neurons in PFdl cueON 544\n",
      "N neurons in PFdl delayON 544\n",
      "N neurons in PFdl rewardON 544\n"
     ]
    }
   ],
   "source": [
    "with open(data_folder + 'data_PFdl_fixON.pkl', 'rb') as f:\n",
    "    data_PFdl_fix_on = pickle.load(f)\n",
    "\n",
    "with open(data_folder + 'data_PFdl_cueON.pkl', 'rb') as f:\n",
    "    data_PFdl_cue_on = pickle.load(f)\n",
    "\n",
    "with open(data_folder + 'data_PFdl_delayON.pkl', 'rb') as f:\n",
    "    data_PFdl_delay_on = pickle.load(f)\n",
    "\n",
    "with open(data_folder + 'data_PFdl_rewardON.pkl', 'rb') as f:\n",
    "    data_PFdl_reward_on = pickle.load(f)\n",
    "\n",
    "print('N neurons in PFdl fixON {}'.format(len(data_PFdl_fix_on)))\n",
    "print('N neurons in PFdl cueON {}'.format(len(data_PFdl_cue_on)))\n",
    "print('N neurons in PFdl delayON {}'.format(len(data_PFdl_delay_on)))\n",
    "print('N neurons in PFdl rewardON {}'.format(len(data_PFdl_reward_on)))"
   ]
  },
  {
   "cell_type": "code",
   "execution_count": 4,
   "id": "ff6e73d0-6115-49c1-ab1d-67985988e648",
   "metadata": {},
   "outputs": [
    {
     "name": "stdout",
     "output_type": "stream",
     "text": [
      "N neurons in PFp fixON 543\n",
      "N neurons in PFp cueON 543\n",
      "N neurons in PFp delayON 543\n",
      "N neurons in PFp rewardON 543\n"
     ]
    }
   ],
   "source": [
    "with open(data_folder + 'data_PFp_fixON.pkl', 'rb') as f:\n",
    "    data_PFp_fix_on = pickle.load(f)\n",
    "\n",
    "with open(data_folder + 'data_PFp_cueON.pkl', 'rb') as f:\n",
    "    data_PFp_cue_on = pickle.load(f)\n",
    "\n",
    "with open(data_folder + 'data_PFp_delayON.pkl', 'rb') as f:\n",
    "    data_PFp_delay_on = pickle.load(f)\n",
    "\n",
    "with open(data_folder + 'data_PFp_rewardON.pkl', 'rb') as f:\n",
    "    data_PFp_reward_on = pickle.load(f)\n",
    "\n",
    "print('N neurons in PFp fixON {}'.format(len(data_PFp_fix_on)))\n",
    "print('N neurons in PFp cueON {}'.format(len(data_PFp_cue_on)))\n",
    "print('N neurons in PFp delayON {}'.format(len(data_PFp_delay_on)))\n",
    "print('N neurons in PFp rewardON {}'.format(len(data_PFp_reward_on)))"
   ]
  },
  {
   "cell_type": "markdown",
   "id": "e44619c3-97fb-4695-9eab-a554df20e3f1",
   "metadata": {},
   "source": [
    "### Plot rasters per neuron "
   ]
  },
  {
   "cell_type": "markdown",
   "id": "96ab85a9-5adf-45ed-8093-0b05f02b5caf",
   "metadata": {},
   "source": [
    "#### Plot one neuron from 4 lists"
   ]
  },
  {
   "cell_type": "code",
   "execution_count": 5,
   "id": "0aa7b09d-1a70-4528-959e-6a9967f82423",
   "metadata": {},
   "outputs": [],
   "source": [
    "def get_trials_for_condition(unit_all_trial, condition_id, start_trial_idx):\n",
    "    condition = unit_all_trial[condition_id-1]\n",
    "    print('N trials in condition {}: {}'.format(condition_id, len(condition)))\n",
    "    \n",
    "    spike_times_l = []\n",
    "    trial_n_l = []\n",
    "    for idx, trial in enumerate(condition):\n",
    "        spike_times = trial[0]\n",
    "        # n_spikes = len(spike_times)\n",
    "        if type(spike_times) == np.ndarray:\n",
    "            n_spikes = len(spike_times)\n",
    "        else:\n",
    "            n_spikes = 1\n",
    "        # print(n_spikes)\n",
    "        spike_times_l.append(spike_times)\n",
    "        trial_n_l.append((idx+start_trial_idx)*np.ones(n_spikes))\n",
    "        \n",
    "    spike_times_flat_l = []\n",
    "    for row in spike_times_l:\n",
    "        if type(row) != np.ndarray:\n",
    "            row = np.expand_dims(row, axis=0)\n",
    "        spike_times_flat_l.extend(row)\n",
    "    \n",
    "    trial_n_flat_l = []\n",
    "    for row in trial_n_l:\n",
    "        trial_n_flat_l.extend(row)\n",
    "        \n",
    "    return spike_times_flat_l, trial_n_flat_l, len(condition) + start_trial_idx\n",
    "\n",
    "def get_trials_for_all_conditions(unit_all_trial):\n",
    "    spikes_trails_dict = {}\n",
    "\n",
    "    n_trials_idx = 1\n",
    "    for condition in range(8):\n",
    "        spike_times_flat_l, trial_n_flat_l, n_trials = get_trials_for_condition(unit_all_trial, condition+1, n_trials_idx)\n",
    "        spikes_trails_dict[condition+1] = {'spike_times_flat_l': spike_times_flat_l, 'trial_n_flat_l': trial_n_flat_l}\n",
    "        n_trials_idx = n_trials\n",
    "\n",
    "    return spikes_trails_dict"
   ]
  },
  {
   "cell_type": "code",
   "execution_count": 6,
   "id": "6f3e733a-343e-415c-9ead-6b80ba4b806e",
   "metadata": {},
   "outputs": [
    {
     "name": "stdout",
     "output_type": "stream",
     "text": [
      "N task conditions unit1_fix_on 8\n",
      "N trials for task conditions 1: 8\n",
      "N trials for task conditions 2: 11\n",
      "N trials for task conditions 3: 11\n",
      "N trials for task conditions 4: 11\n",
      "N trials for task conditions 5: 12\n",
      "N trials for task conditions 6: 12\n",
      "N trials for task conditions 7: 15\n",
      "N trials for task conditions 8: 12\n",
      "Total number of trials 92\n",
      "N trials in condition 1: 8\n",
      "N trials in condition 2: 11\n",
      "N trials in condition 3: 11\n",
      "N trials in condition 4: 11\n",
      "N trials in condition 5: 12\n",
      "N trials in condition 6: 12\n",
      "N trials in condition 7: 15\n",
      "N trials in condition 8: 12\n",
      "N task conditions unit1_cue_on 8\n",
      "N trials for task conditions 1: 8\n",
      "N trials for task conditions 2: 11\n",
      "N trials for task conditions 3: 11\n",
      "N trials for task conditions 4: 11\n",
      "N trials for task conditions 5: 12\n",
      "N trials for task conditions 6: 12\n",
      "N trials for task conditions 7: 15\n",
      "N trials for task conditions 8: 12\n",
      "Total number of trials 92\n",
      "N trials in condition 1: 8\n",
      "N trials in condition 2: 11\n",
      "N trials in condition 3: 11\n",
      "N trials in condition 4: 11\n",
      "N trials in condition 5: 12\n",
      "N trials in condition 6: 12\n",
      "N trials in condition 7: 15\n",
      "N trials in condition 8: 12\n",
      "N task conditions unit1_delay_on 8\n",
      "N trials for task conditions 1: 8\n",
      "N trials for task conditions 2: 11\n",
      "N trials for task conditions 3: 11\n",
      "N trials for task conditions 4: 11\n",
      "N trials for task conditions 5: 12\n",
      "N trials for task conditions 6: 12\n",
      "N trials for task conditions 7: 15\n",
      "N trials for task conditions 8: 12\n",
      "Total number of trials 92\n",
      "N trials in condition 1: 8\n",
      "N trials in condition 2: 11\n",
      "N trials in condition 3: 11\n",
      "N trials in condition 4: 11\n",
      "N trials in condition 5: 12\n",
      "N trials in condition 6: 12\n",
      "N trials in condition 7: 15\n",
      "N trials in condition 8: 12\n",
      "N task conditions unit1_delay_on 8\n",
      "N trials for task conditions 1: 8\n",
      "N trials for task conditions 2: 11\n",
      "N trials for task conditions 3: 11\n",
      "N trials for task conditions 4: 11\n",
      "N trials for task conditions 5: 12\n",
      "N trials for task conditions 6: 12\n",
      "N trials for task conditions 7: 15\n",
      "N trials for task conditions 8: 12\n",
      "Total number of trials 92\n",
      "N trials in condition 1: 8\n",
      "N trials in condition 2: 11\n",
      "N trials in condition 3: 11\n",
      "N trials in condition 4: 11\n",
      "N trials in condition 5: 12\n",
      "N trials in condition 6: 12\n",
      "N trials in condition 7: 15\n",
      "N trials in condition 8: 12\n"
     ]
    }
   ],
   "source": [
    "n_neuron = 1\n",
    "\n",
    "# fix_on\n",
    "unit1_fix_on = data_PFdl_fix_on[n_neuron]\n",
    "print('N task conditions unit1_fix_on {}'.format(len(unit1_fix_on)))\n",
    "\n",
    "# for every task condition - n trials\n",
    "n_trials_all_conditions = 0\n",
    "for i in range(len(unit1_fix_on)):\n",
    "    print('N trials for task conditions {}: {}'.format(i+1, len(unit1_fix_on[i])))\n",
    "    n_trials_all_conditions = n_trials_all_conditions + len(unit1_fix_on[i])\n",
    "\n",
    "print('Total number of trials {}'.format(n_trials_all_conditions))\n",
    "spikes_trial_unit1_fixon = get_trials_for_all_conditions(unit1_fix_on)\n",
    "\n",
    "# cue_on\n",
    "unit1_cue_on = data_PFdl_cue_on[n_neuron]\n",
    "print('N task conditions unit1_cue_on {}'.format(len(unit1_cue_on)))\n",
    "\n",
    "# for every task condition - n trials\n",
    "n_trials_all_conditions_cue_on = 0\n",
    "for i in range(len(unit1_cue_on)):\n",
    "    print('N trials for task conditions {}: {}'.format(i+1, len(unit1_cue_on[i])))\n",
    "    n_trials_all_conditions_cue_on = n_trials_all_conditions_cue_on + len(unit1_cue_on[i])\n",
    "\n",
    "print('Total number of trials {}'.format(n_trials_all_conditions_cue_on))\n",
    "spikes_trial_unit1_cueon = get_trials_for_all_conditions(unit1_cue_on)\n",
    "\n",
    "# delay_on\n",
    "unit1_delay_on = data_PFdl_delay_on[n_neuron]\n",
    "print('N task conditions unit1_delay_on {}'.format(len(unit1_delay_on)))\n",
    "\n",
    "# for every task condition - n trials\n",
    "n_trials_all_conditions_delay_on = 0\n",
    "for i in range(len(unit1_delay_on)):\n",
    "    print('N trials for task conditions {}: {}'.format(i+1, len(unit1_delay_on[i])))\n",
    "    n_trials_all_conditions_delay_on = n_trials_all_conditions_delay_on + len(unit1_delay_on[i])\n",
    "\n",
    "print('Total number of trials {}'.format(n_trials_all_conditions_delay_on))\n",
    "spikes_trial_unit1_delayon = get_trials_for_all_conditions(unit1_delay_on)\n",
    "\n",
    "# reward_on\n",
    "unit1_reward_on = data_PFdl_reward_on[n_neuron]\n",
    "print('N task conditions unit1_delay_on {}'.format(len(unit1_reward_on)))\n",
    "\n",
    "# for every task condition - n trials\n",
    "n_trials_all_conditions_reward_on = 0\n",
    "for i in range(len(unit1_reward_on)):\n",
    "    print('N trials for task conditions {}: {}'.format(i+1, len(unit1_reward_on[i])))\n",
    "    n_trials_all_conditions_reward_on = n_trials_all_conditions_reward_on + len(unit1_reward_on[i])\n",
    "\n",
    "print('Total number of trials {}'.format(n_trials_all_conditions_reward_on))\n",
    "spikes_trial_unit1_rewardon = get_trials_for_all_conditions(unit1_reward_on)"
   ]
  },
  {
   "cell_type": "code",
   "execution_count": 7,
   "id": "3af4bc25-27d0-4f38-bfdd-aa32628d90b7",
   "metadata": {},
   "outputs": [
    {
     "data": {
      "image/png": "[encoded data removed]",
      "text/plain": [
       "<Figure size 800x100 with 1 Axes>"
      ]
     },
     "metadata": {},
     "output_type": "display_data"
    }
   ],
   "source": [
    "colors_per_condition = sns.color_palette(\"Dark2\", 8)\n",
    "sns.palplot(colors_per_condition)"
   ]
  },
  {
   "cell_type": "code",
   "execution_count": 8,
   "id": "08adbb5c-6534-46b5-898d-70e81d6cc014",
   "metadata": {},
   "outputs": [
    {
     "data": {
      "image/png": "[encoded data removed]",
      "text/plain": [
       "<Figure size 1500x600 with 4 Axes>"
      ]
     },
     "metadata": {},
     "output_type": "display_data"
    }
   ],
   "source": [
    "# plot\n",
    "fig, axes = plt.subplots(1, 4, figsize=(15,6))\n",
    "\n",
    "for k,v in spikes_trial_unit1_fixon.items():\n",
    "    axes[0].plot(v['spike_times_flat_l'], v['trial_n_flat_l'], '|', markersize=2, alpha=0.4, color=colors_per_condition[k-1])\n",
    "axes[0].axvline(x=1500, lw=0.5, color='k')\n",
    "axes[0].axvline(x=2000, lw=0.5, color='k')\n",
    "axes[0].set_title('One neuron, \\n {} trials accross 8 conditions, \\n fix_on'.format(n_trials_all_conditions))\n",
    "\n",
    "for k,v in spikes_trial_unit1_cueon.items():\n",
    "    axes[1].plot(v['spike_times_flat_l'], v['trial_n_flat_l'], '|', markersize=2, alpha=0.4, color=colors_per_condition[k-1])\n",
    "# axes[1].axvline(x=500, lw=0.5, color='k')\n",
    "# axes[1].axvline(x=-1500, lw=0.5, color='k')\n",
    "axes[1].set_title('One neuron, \\n {} trials accross 8 conditions, \\n cue_on'.format(n_trials_all_conditions_cue_on))\n",
    "\n",
    "for k,v in spikes_trial_unit1_delayon.items():\n",
    "    axes[2].plot(v['spike_times_flat_l'], v['trial_n_flat_l'], '|', markersize=2, alpha=0.4, color=colors_per_condition[k-1])\n",
    "# axes[2].axvline(x=-500, lw=0.5, color='k')\n",
    "# axes[2].axvline(x=-2000, lw=0.5, color='k')\n",
    "axes[2].set_title('One neuron, \\n {} trials accross 8 conditions, \\n delay_on'.format(n_trials_all_conditions_cue_on))\n",
    "\n",
    "for k,v in spikes_trial_unit1_rewardon.items():\n",
    "    axes[3].plot(v['spike_times_flat_l'], v['trial_n_flat_l'], '|', markersize=2, alpha=0.4, color=colors_per_condition[k-1])\n",
    "# axes[3].axvline(x=-1500, lw=0.5, color='k')\n",
    "# axes[3].axvline(x=-2000, lw=0.5, color='k')\n",
    "# axes[3].axvline(x=-4000, lw=0.5, color='k')\n",
    "axes[3].set_title('One neuron, \\n {} trials accross 8 conditions, \\n reward_on'.format(n_trials_all_conditions_reward_on))\n",
    "\n",
    "for ax in axes.flat:\n",
    "    ax.axvline(x=0, lw=0.5, color='k')\n",
    "    ax.set_xlabel('Time')\n",
    "    ax.set_ylabel('Trials')\n",
    "    ax.set_xlim(left=-2000, right=6000)\n",
    "\n",
    "sns.despine()"
   ]
  },
  {
   "cell_type": "markdown",
   "id": "c138537e-46b3-4c8c-9024-e5fafaf8081a",
   "metadata": {},
   "source": [
    "#### Plot and save raster for every neuron in fix_on \n",
    "\n",
    "(4 lists contain the same data, th eonly difference is in alignment to 0)"
   ]
  },
  {
   "cell_type": "code",
   "execution_count": null,
   "id": "32993f28-4cd2-45b9-bc94-04eb6ca932a9",
   "metadata": {},
   "outputs": [],
   "source": [
    "n_units = len(data_PFdl_fix_on)\n",
    "\n",
    "for n_unit in range(n_units):\n",
    "    unit_ = data_PFdl_fix_on[n_unit]\n",
    "    #print('N task conditions unit1_fix_on {}'.format(len(unit1_fix_on)))\n",
    "\n",
    "    # for every task condition - n trials\n",
    "    n_trials_all_conditions = 0\n",
    "    for i in range(len(unit_)):\n",
    "        # print('N trials for task conditions {}: {}'.format(i+1, len(unit_[i])))\n",
    "        n_trials_all_conditions = n_trials_all_conditions + len(unit_[i])\n",
    "    \n",
    "    print('Total number of trials {}'.format(n_trials_all_conditions))\n",
    "    spikes_trial_unit_ = get_trials_for_all_conditions(unit_)\n",
    "\n",
    "    # plot\n",
    "    fig, axes = plt.subplots(1, 1, figsize=(20,20))\n",
    "    \n",
    "    for k,v in spikes_trial_unit_.items():\n",
    "        axes.plot(v['spike_times_flat_l'], v['trial_n_flat_l'], '|', markersize=4, alpha=0.6, color=colors_per_condition[k-1])\n",
    "    axes.axvline(x=1500, lw=0.5, color='k')\n",
    "    axes.axvline(x=2000, lw=0.5, color='k')\n",
    "    axes.set_title('Neuron {}, {} trials, color-coded conditions, fix_on'.format(n_unit, n_trials_all_conditions))\n",
    "    \n",
    "    axes.axvline(x=0, lw=0.5, color='k')\n",
    "    axes.set_xlabel('Time (ms)')\n",
    "    axes.set_ylabel('Trials')\n",
    "    axes.set_xlim(left=-2000, right=6000)\n",
    "    \n",
    "    sns.despine()\n",
    "    \n",
    "    fig.savefig(results_folder + 'rasters\\\\pfdl_fix_on_xlim\\\\unit_' + str(n_unit) + '.png', bbox_inches='tight')"
   ]
  },
  {
   "cell_type": "code",
   "execution_count": null,
   "id": "7de52a3d-2e62-4d8a-b5f7-994e02cd0615",
   "metadata": {},
   "outputs": [],
   "source": [
    "n_units = len(data_PFp_fix_on)\n",
    "\n",
    "for n_unit in range(n_units):\n",
    "    unit_ = data_PFp_fix_on[n_unit]\n",
    "    #print('N task conditions unit1_fix_on {}'.format(len(unit1_fix_on)))\n",
    "\n",
    "    # for every task condition - n trials\n",
    "    n_trials_all_conditions = 0\n",
    "    for i in range(len(unit_)):\n",
    "        # print('N trials for task conditions {}: {}'.format(i+1, len(unit_[i])))\n",
    "        n_trials_all_conditions = n_trials_all_conditions + len(unit_[i])\n",
    "    \n",
    "    print('Total number of trials {}'.format(n_trials_all_conditions))\n",
    "    spikes_trial_unit_ = get_trials_for_all_conditions(unit_)\n",
    "\n",
    "    # plot\n",
    "    fig, axes = plt.subplots(1, 1, figsize=(20,20))\n",
    "    \n",
    "    for k,v in spikes_trial_unit_.items():\n",
    "        axes.plot(v['spike_times_flat_l'], v['trial_n_flat_l'], '|', markersize=4, alpha=0.6, color=colors_per_condition[k-1])\n",
    "    axes.axvline(x=1500, lw=0.5, color='k')\n",
    "    axes.axvline(x=2000, lw=0.5, color='k')\n",
    "    axes.set_title('Neuron {}, {} trials, color-coded conditions, fix_on'.format(n_unit, n_trials_all_conditions))\n",
    "    \n",
    "    axes.axvline(x=0, lw=0.5, color='k')\n",
    "    axes.set_xlabel('Time (ms)')\n",
    "    axes.set_ylabel('Trials')\n",
    "    axes.set_xlim(left=-2000, right=6000)\n",
    "    \n",
    "    sns.despine()\n",
    "    \n",
    "    fig.savefig(results_folder + 'rasters\\\\pfp_fix_on_xlim\\\\unit_' + str(n_unit) + '.png', bbox_inches='tight')"
   ]
  },
  {
   "cell_type": "markdown",
   "id": "06b0e2f0-62f4-4c02-809f-10820d97135b",
   "metadata": {},
   "source": [
    "### Deal with out of range spikes\n",
    "\n",
    "based on raster it is quite a lot of neurons in both PFdl and PFp with this problem, solution is just to remove such spikes\n",
    "\n",
    "todo!\n",
    "\n",
    "now just use xlim for plots and will use specific periods for calc"
   ]
  },
  {
   "cell_type": "code",
   "execution_count": null,
   "id": "298ec288-7f43-4d89-a213-a621b9fd3f43",
   "metadata": {},
   "outputs": [],
   "source": [
    "# test = data_PFdl_fix_on[1]\n",
    "# n_trials_all_conditions = 0\n",
    "# for i in range(len(test)):\n",
    "#     # print('N trials for task conditions {}: {}'.format(i+1, len(unit_[i])))\n",
    "#     n_trials_all_conditions = n_trials_all_conditions + len(test[i])\n",
    "\n",
    "# print('Total number of trials {}'.format(n_trials_all_conditions))\n",
    "# spikes_trial_unit_ = get_trials_for_all_conditions(test)\n",
    "# spikes_trial_unit_"
   ]
  },
  {
   "cell_type": "code",
   "execution_count": null,
   "id": "80e3b831-5db8-4a57-8b58-7893bfe837c8",
   "metadata": {},
   "outputs": [],
   "source": [
    "# condition = test[2]\n",
    "# condition"
   ]
  },
  {
   "cell_type": "markdown",
   "id": "d36bf416-0973-44a5-8781-9cca8dd221fb",
   "metadata": {},
   "source": [
    "### Plot number of trials per neuron and number of neurons\n"
   ]
  },
  {
   "cell_type": "code",
   "execution_count": 9,
   "id": "3214ed64-2ef7-49bf-a82c-72d03a075f7c",
   "metadata": {},
   "outputs": [],
   "source": [
    "def get_n_trials_per_neuron(unit_all_trial, n_neuron):\n",
    "    n_trials_all_conditions = 0\n",
    "    for i in range(len(unit_all_trial[n_neuron])):\n",
    "        # print('N trials for task conditions {}: {}'.format(i+1, len(unit_all_trial[n_neuron][i])))\n",
    "        n_trials_all_conditions = n_trials_all_conditions + len(unit_all_trial[n_neuron][i])\n",
    "    return n_trials_all_conditions"
   ]
  },
  {
   "cell_type": "code",
   "execution_count": 10,
   "id": "d258b9da-1324-4fcc-bf27-ba98adc1840a",
   "metadata": {},
   "outputs": [],
   "source": [
    "n_trials_per_neuron_pfdl_fix_on_l = []\n",
    "for i in range(len(data_PFdl_fix_on)):\n",
    "    n_trails = get_n_trials_per_neuron(data_PFdl_fix_on, i)\n",
    "    n_trials_per_neuron_pfdl_fix_on_l.append(n_trails)\n",
    "\n",
    "pfdl_summary_df = pd.DataFrame(n_trials_per_neuron_pfdl_fix_on_l, columns=['n_trials'])\n",
    "pfdl_summary_df.reset_index(inplace=True, drop=False) \n",
    "pfdl_summary_df.rename(columns = {'index':'unit_id'}, inplace=True)\n",
    "pfdl_summary_df"
   ]
  },
  {
   "cell_type": "code",
   "execution_count": 11,
   "id": "f1755634-11b5-41b3-9ca6-8cabd67f5897",
   "metadata": {},
   "outputs": [],
   "source": [
    "n_trials_per_neuron_pfp_fix_on_l = []\n",
    "for i in range(len(data_PFp_fix_on)):\n",
    "    n_trails = get_n_trials_per_neuron(data_PFp_fix_on, i)\n",
    "    n_trials_per_neuron_pfp_fix_on_l.append(n_trails)\n",
    "\n",
    "pfp_summary_df = pd.DataFrame(n_trials_per_neuron_pfp_fix_on_l, columns=['n_trials'])\n",
    "pfp_summary_df.reset_index(inplace=True, drop=False) \n",
    "pfp_summary_df.rename(columns = {'index':'unit_id'}, inplace=True)\n",
    "pfp_summary_df"
   ]
  },
  {
   "cell_type": "code",
   "execution_count": 30,
   "id": "26c9d767-c97e-4ab3-b548-3e57cafae620",
   "metadata": {},
   "outputs": [
    {
     "data": {
      "text/html": [
       "<div>\n",
       "<style scoped>\n",
       "    .dataframe tbody tr th:only-of-type {\n",
       "        vertical-align: middle;\n",
       "    }\n",
       "\n",
       "    .dataframe tbody tr th {\n",
       "        vertical-align: top;\n",
       "    }\n",
       "\n",
       "    .dataframe thead th {\n",
       "        text-align: right;\n",
       "    }\n",
       "</style>\n",
       "<table border=\"1\" class=\"dataframe\">\n",
       "  <thead>\n",
       "    <tr style=\"text-align: right;\">\n",
       "      <th></th>\n",
       "      <th>unit_id</th>\n",
       "      <th>n_trials</th>\n",
       "    </tr>\n",
       "  </thead>\n",
       "  <tbody>\n",
       "    <tr>\n",
       "      <th>count</th>\n",
       "      <td>543.000000</td>\n",
       "      <td>543.000000</td>\n",
       "    </tr>\n",
       "    <tr>\n",
       "      <th>mean</th>\n",
       "      <td>271.000000</td>\n",
       "      <td>80.436464</td>\n",
       "    </tr>\n",
       "    <tr>\n",
       "      <th>std</th>\n",
       "      <td>156.894869</td>\n",
       "      <td>28.856099</td>\n",
       "    </tr>\n",
       "    <tr>\n",
       "      <th>min</th>\n",
       "      <td>0.000000</td>\n",
       "      <td>18.000000</td>\n",
       "    </tr>\n",
       "    <tr>\n",
       "      <th>25%</th>\n",
       "      <td>135.500000</td>\n",
       "      <td>61.000000</td>\n",
       "    </tr>\n",
       "    <tr>\n",
       "      <th>50%</th>\n",
       "      <td>271.000000</td>\n",
       "      <td>83.000000</td>\n",
       "    </tr>\n",
       "    <tr>\n",
       "      <th>75%</th>\n",
       "      <td>406.500000</td>\n",
       "      <td>96.000000</td>\n",
       "    </tr>\n",
       "    <tr>\n",
       "      <th>max</th>\n",
       "      <td>542.000000</td>\n",
       "      <td>194.000000</td>\n",
       "    </tr>\n",
       "  </tbody>\n",
       "</table>\n",
       "</div>"
      ],
      "text/plain": [
       "          unit_id    n_trials\n",
       "count  543.000000  543.000000\n",
       "mean   271.000000   80.436464\n",
       "std    156.894869   28.856099\n",
       "min      0.000000   18.000000\n",
       "25%    135.500000   61.000000\n",
       "50%    271.000000   83.000000\n",
       "75%    406.500000   96.000000\n",
       "max    542.000000  194.000000"
      ]
     },
     "execution_count": 30,
     "metadata": {},
     "output_type": "execute_result"
    }
   ],
   "source": [
    "pfp_summary_df.describe()"
   ]
  },
  {
   "cell_type": "code",
   "execution_count": 54,
   "id": "3921771a-8799-4c27-99f2-c02951d1e1c7",
   "metadata": {},
   "outputs": [],
   "source": [
    "all_areas_n_units_df = pd.DataFrame(np.vstack((['pfdl', 'pfp'], [len(pfdl_summary_df), len(pfp_summary_df)])).T, \n",
    "                                   columns=['area', 'n_units'])\n",
    "all_areas_n_units_df['n_units'] = all_areas_n_units_df['n_units'].astype(int)"
   ]
  },
  {
   "cell_type": "code",
   "execution_count": 76,
   "id": "8f18c443-43a0-4fd7-b6e6-cf61b2d80474",
   "metadata": {},
   "outputs": [
    {
     "data": {
      "image/png": "[encoded data removed]",
      "text/plain": [
       "<Figure size 1100x200 with 3 Axes>"
      ]
     },
     "metadata": {},
     "output_type": "display_data"
    }
   ],
   "source": [
    "# plot\n",
    "fig, axes = plt.subplots(1, 3, figsize=(11,2), gridspec_kw={'width_ratios': [0.6, 2, 2]})\n",
    "plt.subplots_adjust(hspace=0.4, wspace=0.4)\n",
    "\n",
    "sns.barplot(ax=axes[0], x='area', y='n_units', data=all_areas_n_units_df, color='steelblue')\n",
    "axes[0].bar_label(axes[0].containers[0], fmt='%.0f')\n",
    "axes[0].set_xlabel('Brain area')\n",
    "axes[0].set_ylabel('Number of units')\n",
    "\n",
    "sns.histplot(ax=axes[1], x='n_trials', data=pfdl_summary_df, bins=50, stat='count', color='steelblue')\n",
    "sns.histplot(ax=axes[2], x='n_trials', data=pfp_summary_df, bins=50, stat='count', color='steelblue')\n",
    "\n",
    "axes[1].sharey(axes[2])\n",
    "\n",
    "axes[0].set_title('N units: {}'.format(len(pfdl_summary_df) + len(pfp_summary_df)))\n",
    "axes[1].set_title('N trials per unit, PFdl')\n",
    "axes[2].set_title('N trials per unit, PFp')\n",
    "\n",
    "axes[1].axvline(x=np.nanmedian(pfdl_summary_df['n_trials'].values), lw=1, color='darkorange', \n",
    "                label='median ' + str(np.round(np.nanmedian(pfdl_summary_df['n_trials'].values), 2)))\n",
    "axes[2].axvline(x=np.nanmedian(pfp_summary_df['n_trials'].values), lw=1, color='darkorange', \n",
    "                label='median ' + str(np.round(np.nanmedian(pfp_summary_df['n_trials'].values), 2)))\n",
    "\n",
    "axes[1].axvline(x=np.nanmean(pfdl_summary_df['n_trials'].values), lw=1, color='black', label='mean ' \n",
    "                + str(np.round(np.nanmean(pfdl_summary_df['n_trials'].values), 2)))\n",
    "axes[2].axvline(x=np.nanmean(pfp_summary_df['n_trials'].values), lw=1, color='black', label='mean ' \n",
    "                + str(np.round(np.nanmean(pfp_summary_df['n_trials'].values), 2)))\n",
    "\n",
    "for ax in axes.flat[1:]:\n",
    "    ax.set_xlabel('Number of trials')\n",
    "    ax.set_ylabel('Number of units')\n",
    "    ax.axvline(x=20, lw=1, color='red')\n",
    "    ax.set_xlim([0, 220])\n",
    "    ax.legend(frameon=False)\n",
    "\n",
    "sns.despine()\n",
    "\n",
    "if save_fig:\n",
    "    plt.savefig(fig_folder + 'dataset_unit_trials_count.png' , bbox_inches='tight')\n",
    "    plt.savefig(fig_folder + 'dataset_unit_trials_count.svg' , bbox_inches='tight')"
   ]
  },
  {
   "cell_type": "code",
   "execution_count": 19,
   "id": "ed265a00-5db7-46e0-9eed-e93b0e7917e5",
   "metadata": {},
   "outputs": [],
   "source": [
    "pfdl_summary_df.to_pickle(results_folder + 'pfdl_n_trials_per_unit_df')\n",
    "pfp_summary_df.to_pickle(results_folder + 'pfp_n_trials_per_unit_df')"
   ]
  }
 ],
 "metadata": {
  "kernelspec": {
   "display_name": "Python 3 (ipykernel)",
   "language": "python",
   "name": "python3"
  },
  "language_info": {
   "codemirror_mode": {
    "name": "ipython",
    "version": 3
   },
   "file_extension": ".py",
   "mimetype": "text/x-python",
   "name": "python",
   "nbconvert_exporter": "python",
   "pygments_lexer": "ipython3",
   "version": "3.12.3"
  }
 },
 "nbformat": 4,
 "nbformat_minor": 5
}
