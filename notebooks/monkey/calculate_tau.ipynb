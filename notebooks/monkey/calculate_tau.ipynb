{
 "cells": [
  {
   "cell_type": "markdown",
   "id": "3cf22309-3217-4aa3-abad-42b40ea8a35e",
   "metadata": {},
   "source": [
    "Load dataframes with acf and calculate tau"
   ]
  },
  {
   "cell_type": "code",
   "execution_count": 1,
   "id": "16c30cfa-24a1-44c4-ace1-267751e47a0d",
   "metadata": {},
   "outputs": [],
   "source": [
    "import pandas as pd\n",
    "import numpy as np\n",
    "\n",
    "# import from scripts\n",
    "import os\n",
    "current_wd = os.getcwd()\n",
    "os.chdir(os.path.abspath(\"..\\\\..\\\\..\\\\isttc\\\\scripts\"))\n",
    "from calculate_tau import fit_single_exp, func_single_exp_monkey\n",
    "from cfg_global import project_folder_path\n",
    "os.chdir(current_wd)"
   ]
  },
  {
   "cell_type": "code",
   "execution_count": 2,
   "id": "e172328e-a498-43a0-acec-db8b553551a8",
   "metadata": {},
   "outputs": [],
   "source": [
    "results_folder = project_folder_path + 'results\\\\monkey\\\\fixation_period_1000ms\\\\'"
   ]
  },
  {
   "cell_type": "markdown",
   "id": "0ddf708d-0bcb-4354-b331-813d854b8500",
   "metadata": {},
   "source": [
    "### Functions"
   ]
  },
  {
   "cell_type": "code",
   "execution_count": 3,
   "id": "f824a74c-0158-404b-a864-b4d3cab41bb0",
   "metadata": {},
   "outputs": [],
   "source": [
    "def calc_tau_per_unit(acf_df_, acf_cols_, start_idx_):\n",
    "    acf_2d = acf_df_[acf_cols_].values\n",
    "    acf_2d = acf_2d.astype(np.float64) # RuntimeWarning: overflow encountered in matmul sttc start_idx 2\n",
    "    n_units = acf_2d.shape[0]\n",
    "    print('Calculating taus for {}'.format(acf_2d.shape))\n",
    "    \n",
    "    fit_popt_a_l, fit_popt_b_l, fit_popt_c_l = [],[],[]\n",
    "    fit_tau_l = []\n",
    "    fit_r_squared_l = []\n",
    "    fit_log_message_l = []\n",
    "    \n",
    "    for i in range(n_units):\n",
    "        fit_popt, fit_pcov, tau, fit_r_squared, log_message = fit_single_exp(acf_2d[i,:], start_idx_, func_single_exp_monkey)\n",
    "        if  type(fit_popt) == np.ndarray:\n",
    "            fit_popt_a_l.append(fit_popt[0])\n",
    "            fit_popt_b_l.append(fit_popt[1])\n",
    "            fit_popt_c_l.append(fit_popt[2])\n",
    "        else:\n",
    "            fit_popt_a_l.append(np.nan)\n",
    "            fit_popt_b_l.append(np.nan)\n",
    "            fit_popt_c_l.append(np.nan)\n",
    "        fit_tau_l.append(tau)\n",
    "        fit_r_squared_l.append(fit_r_squared)\n",
    "        fit_log_message_l.append(log_message)\n",
    "    \n",
    "    data_df = np.vstack((fit_popt_a_l, fit_popt_b_l, fit_popt_c_l, fit_tau_l, fit_r_squared_l, fit_log_message_l)).T\n",
    "    tau_df = pd.DataFrame(data_df, columns=['fit_a', 'fit_b', 'fit_c','tau', 'r_squared', 'log_message'])\n",
    "    tau_df.insert(0, 'unit_id', acf_df_['unit_id'].values)\n",
    "\n",
    "    for col in ['fit_a', 'fit_b', 'fit_c','tau', 'r_squared']:\n",
    "        tau_df[col] = tau_df[col].astype(float) \n",
    "    \n",
    "    return tau_df"
   ]
  },
  {
   "cell_type": "markdown",
   "id": "c2f1494b-0434-480e-977a-458b4ac9c5bd",
   "metadata": {},
   "source": [
    "### Calculate tau"
   ]
  },
  {
   "cell_type": "markdown",
   "id": "48b7327f-6320-463f-87af-1984801387a5",
   "metadata": {},
   "source": [
    "#### One tau per area\n",
    "\n",
    "2 methods of doing that:\n",
    "* average ACF over units and fit\n",
    "* fit using all ACFs from all neurons"
   ]
  },
  {
   "cell_type": "code",
   "execution_count": 4,
   "id": "8b382439-54ea-4585-ad38-bb422f70353e",
   "metadata": {},
   "outputs": [
    {
     "name": "stdout",
     "output_type": "stream",
     "text": [
      "acf_cols ['acf_0', 'acf_1', 'acf_2', 'acf_3', 'acf_4', 'acf_5', 'acf_6', 'acf_7', 'acf_8', 'acf_9', 'acf_10', 'acf_11', 'acf_12', 'acf_13', 'acf_14', 'acf_15', 'acf_16', 'acf_17', 'acf_18', 'acf_19']\n"
     ]
    }
   ],
   "source": [
    "n_lags = 20\n",
    "bin_size = 50\n",
    "acf_cols = ['acf_' + str(i) for i in range(n_lags)]\n",
    "print('acf_cols {}'.format(acf_cols))"
   ]
  },
  {
   "cell_type": "code",
   "execution_count": 5,
   "id": "b79e2c6d-97cf-41e7-baba-8fd341648e40",
   "metadata": {},
   "outputs": [
    {
     "name": "stdout",
     "output_type": "stream",
     "text": [
      "tau 240.75047875443357, popt [0.21563292 0.20768391 0.1519869 ], fit_r_squared 0.9954832781393308\n",
      "tau 243.25030236826842, popt [0.17114559 0.20554959 0.56114312], fit_r_squared 0.9962669955022356\n",
      "tau 179.2073997377251, popt [0.31666675 0.27900634 0.19925986], fit_r_squared 0.9760184400425521\n"
     ]
    }
   ],
   "source": [
    "area = 'pfdl' \n",
    "\n",
    "pearsonr_trial_avg_df = pd.read_pickle(results_folder + 'binned\\\\' + area + '\\\\acf\\\\acf_pearsonr_trial_avg_1000ms_with_empty_50ms_20lags_df.pkl')\n",
    "pearsonr_trial_avg_2d_mean = np.nanmean(pearsonr_trial_avg_df[acf_cols].values, axis=0) # todo remove all rows with NaNs? \n",
    "pfdl_pearsonr_trial_avg_fit_popt, _, pfdl_pearsonr_trial_avg_tau, pfdl_pearsonr_trial_avg_fit_r_squared, _ = fit_single_exp(pearsonr_trial_avg_2d_mean, \n",
    "                                                                            start_idx_=2, exp_fun_=func_single_exp_monkey)\n",
    "pfdl_pearsonr_trial_avg_tau_ms = pfdl_pearsonr_trial_avg_tau*bin_size\n",
    "print('tau {}, popt {}, fit_r_squared {}'.format(pfdl_pearsonr_trial_avg_tau_ms, \n",
    "                                                             pfdl_pearsonr_trial_avg_fit_popt, \n",
    "                                                             pfdl_pearsonr_trial_avg_fit_r_squared))\n",
    "\n",
    "sttc_trial_avg_df = pd.read_pickle(results_folder + 'non_binned\\\\' + area + '\\\\acf\\\\acf_sttc_trial_avg_1000ms_with_empty_50ms_20lags_df.pkl')\n",
    "sttc_trial_avg_2d_mean = np.nanmean(sttc_trial_avg_df[acf_cols].values, axis=0) # todo remove all rows with NaNs? \n",
    "pfdl_sttc_trial_avg_fit_popt, _, pfdl_sttc_trial_avg_tau, pfdl_sttc_trial_avg_fit_r_squared, _ = fit_single_exp(sttc_trial_avg_2d_mean, \n",
    "                                                                                                                start_idx_=2, \n",
    "                                                                                                                exp_fun_=func_single_exp_monkey)\n",
    "pfdl_sttc_trial_avg_tau_ms = pfdl_sttc_trial_avg_tau*bin_size\n",
    "print('tau {}, popt {}, fit_r_squared {}'.format(pfdl_sttc_trial_avg_tau_ms, \n",
    "                                                             pfdl_sttc_trial_avg_fit_popt, \n",
    "                                                             pfdl_sttc_trial_avg_fit_r_squared))\n",
    "\n",
    "sttc_trial_concat_df = pd.read_pickle(results_folder + 'non_binned\\\\' + area + '\\\\acf\\\\acf_sttc_trial_concat_1000ms_with_empty_50ms_20lags_df.pkl')\n",
    "sttc_trial_concat_2d_mean = np.nanmean(sttc_trial_concat_df[acf_cols].values, axis=0) # todo remove all rows with NaNs? \n",
    "pfdl_sttc_trial_concat_fit_popt, _, pfdl_sttc_trial_concat_tau, pfdl_sttc_trial_concat_fit_r_squared, _ = fit_single_exp(sttc_trial_concat_2d_mean, \n",
    "                                                                                                                start_idx_=2, \n",
    "                                                                                                                exp_fun_=func_single_exp_monkey)\n",
    "pfdl_sttc_trial_concat_tau_ms = pfdl_sttc_trial_concat_tau*bin_size\n",
    "print('tau {}, popt {}, fit_r_squared {}'.format(pfdl_sttc_trial_concat_tau_ms, \n",
    "                                                             pfdl_sttc_trial_concat_fit_popt, \n",
    "                                                             pfdl_sttc_trial_concat_fit_r_squared))"
   ]
  },
  {
   "cell_type": "code",
   "execution_count": 6,
   "id": "225fc01b-2f4a-47d9-afb1-2c097a277ae9",
   "metadata": {},
   "outputs": [
    {
     "name": "stdout",
     "output_type": "stream",
     "text": [
      "tau 223.54058813497463, popt [0.17090143 0.22367303 0.21222378], fit_r_squared 0.992286742303797\n",
      "tau 222.75020201159091, popt [0.13212734 0.22446669 0.6686685 ], fit_r_squared 0.9893918617881063\n",
      "tau 198.14650064517286, popt [0.22805424 0.25233855 0.25476348], fit_r_squared 0.9717247849009442\n"
     ]
    }
   ],
   "source": [
    "area = 'pfp' \n",
    "\n",
    "pearsonr_trial_avg_df = pd.read_pickle(results_folder + 'binned\\\\' + area + '\\\\acf\\\\acf_pearsonr_trial_avg_1000ms_with_empty_50ms_20lags_df.pkl')\n",
    "pearsonr_trial_avg_2d_mean = np.nanmean(pearsonr_trial_avg_df[acf_cols].values, axis=0) # todo remove all rows with NaNs? \n",
    "pfp_pearsonr_trial_avg_fit_popt, _, pfp_pearsonr_trial_avg_tau, pfp_pearsonr_trial_avg_fit_r_squared, _ = fit_single_exp(pearsonr_trial_avg_2d_mean, \n",
    "                                                                            start_idx_=2, exp_fun_=func_single_exp_monkey)\n",
    "pfp_pearsonr_trial_avg_tau_ms = pfp_pearsonr_trial_avg_tau*bin_size\n",
    "print('tau {}, popt {}, fit_r_squared {}'.format(pfp_pearsonr_trial_avg_tau_ms, \n",
    "                                                             pfp_pearsonr_trial_avg_fit_popt, \n",
    "                                                             pfp_pearsonr_trial_avg_fit_r_squared))\n",
    "\n",
    "sttc_trial_avg_df = pd.read_pickle(results_folder + 'non_binned\\\\' + area + '\\\\acf\\\\acf_sttc_trial_avg_1000ms_with_empty_50ms_20lags_df.pkl')\n",
    "sttc_trial_avg_2d_mean = np.nanmean(sttc_trial_avg_df[acf_cols].values, axis=0) # todo remove all rows with NaNs? \n",
    "pfp_sttc_trial_avg_fit_popt, _, pfp_sttc_trial_avg_tau, pfp_sttc_trial_avg_fit_r_squared, _ = fit_single_exp(sttc_trial_avg_2d_mean, \n",
    "                                                                                                                start_idx_=2, \n",
    "                                                                                                                exp_fun_=func_single_exp_monkey)\n",
    "pfp_sttc_trial_avg_tau_ms = pfp_sttc_trial_avg_tau*bin_size\n",
    "print('tau {}, popt {}, fit_r_squared {}'.format(pfp_sttc_trial_avg_tau_ms, \n",
    "                                                             pfp_sttc_trial_avg_fit_popt, \n",
    "                                                             pfp_sttc_trial_avg_fit_r_squared))\n",
    "\n",
    "sttc_trial_concat_df = pd.read_pickle(results_folder + 'non_binned\\\\' + area + '\\\\acf\\\\acf_sttc_trial_concat_1000ms_with_empty_50ms_20lags_df.pkl')\n",
    "sttc_trial_concat_2d_mean = np.nanmean(sttc_trial_concat_df[acf_cols].values, axis=0) # todo remove all rows with NaNs? \n",
    "pfp_sttc_trial_concat_fit_popt, _, pfp_sttc_trial_concat_tau, pfp_sttc_trial_concat_fit_r_squared, _ = fit_single_exp(sttc_trial_concat_2d_mean, \n",
    "                                                                                                                start_idx_=2, \n",
    "                                                                                                                exp_fun_=func_single_exp_monkey)\n",
    "pfp_sttc_trial_concat_tau_ms = pfp_sttc_trial_concat_tau*bin_size\n",
    "print('tau {}, popt {}, fit_r_squared {}'.format(pfp_sttc_trial_concat_tau_ms, \n",
    "                                                             pfp_sttc_trial_concat_fit_popt, \n",
    "                                                             pfp_sttc_trial_concat_fit_r_squared))"
   ]
  },
  {
   "cell_type": "markdown",
   "id": "ff3d2f02-5b7c-4890-ad37-f713ae93d5ba",
   "metadata": {},
   "source": [
    "#### One tau per unit\n",
    "\n",
    "3 methods of doing that:\n",
    "* Pearsonr trial average (as in the paper)\n",
    "* STTC trial average\n",
    "* STTC trial concat\n",
    "\n",
    "todo: take ACF average over trails for a unit and fit? Or fit all ACFs with one function? (this requires calculating ACF per trial)"
   ]
  },
  {
   "cell_type": "code",
   "execution_count": null,
   "id": "6516d2e1-ad61-4f87-b37d-90f6e8fb62d7",
   "metadata": {},
   "outputs": [],
   "source": [
    "area = 'pfp' # pfp\n",
    "\n",
    "n_lags = 20\n",
    "bin_size = 50\n",
    "acf_cols = ['acf_' + str(i) for i in range(n_lags)]\n",
    "print('acf_cols {}'.format(acf_cols))\n",
    "\n",
    "# pearsonr trial avg\n",
    "pearsonr_trial_avg_df = pd.read_pickle(results_folder + 'binned\\\\' + area + '\\\\acf\\\\acf_pearsonr_trial_avg_1000ms_with_empty_50ms_20lags_df.pkl')\n",
    "tau_pearsonr_trial_avg_df = calc_tau_per_unit(pearsonr_trial_avg_df, acf_cols, start_idx_=1)\n",
    "tau_pearsonr_trial_avg_df['tau_ms'] = tau_pearsonr_trial_avg_df['tau'] * bin_size\n",
    "tau_pearsonr_trial_avg_df.to_pickle(results_folder + 'binned\\\\' + area + '\\\\taus\\\\tau_pearsonr_trial_avg_1000ms_with_empty_50ms_20lags_df.pkl')\n",
    "\n",
    "# sttc trial avg\n",
    "sttc_trial_avg_df = pd.read_pickle(results_folder + 'non_binned\\\\' + area + '\\\\acf\\\\acf_sttc_trial_avg_1000ms_with_empty_50ms_20lags_df.pkl')\n",
    "tau_sttc_trial_avg_df = calc_tau_per_unit(sttc_trial_avg_df, acf_cols, start_idx_=1)\n",
    "tau_sttc_trial_avg_df['tau_ms'] = tau_sttc_trial_avg_df['tau'] * bin_size\n",
    "tau_sttc_trial_avg_df.to_pickle(results_folder + 'non_binned\\\\' + area + '\\\\taus\\\\tau_sttc_trial_avg_1000ms_with_empty_50ms_20lags_df.pkl')\n",
    "\n",
    "# sttc trial concat\n",
    "sttc_trial_concat_df = pd.read_pickle(results_folder + 'non_binned\\\\' + area + '\\\\acf\\\\acf_sttc_trial_concat_1000ms_with_empty_50ms_20lags_df.pkl')\n",
    "tau_sttc_trial_concat_df = calc_tau_per_unit(sttc_trial_concat_df, acf_cols, start_idx_=1)\n",
    "tau_sttc_trial_concat_df['tau_ms'] = tau_sttc_trial_concat_df['tau'] * bin_size\n",
    "tau_sttc_trial_concat_df.to_pickle(results_folder + 'non_binned\\\\' + area + '\\\\taus\\\\tau_sttc_trial_concat_1000ms_with_empty_50ms_20lags_df.pkl')"
   ]
  },
  {
   "cell_type": "markdown",
   "id": "f65f10f5-705f-480f-a740-5d69ae4846fd",
   "metadata": {},
   "source": [
    "#### One tau per trial\n",
    "\n",
    "3 methods of doing that:\n",
    "* Pearsonr\n",
    "* ACF formula\n",
    "* iSTTC"
   ]
  },
  {
   "cell_type": "markdown",
   "id": "1e9f85d5-e9b7-487b-a820-45213b252421",
   "metadata": {},
   "source": [
    "### todo (metrics)"
   ]
  },
  {
   "cell_type": "code",
   "execution_count": null,
   "id": "f066b566-b9cb-4edf-8257-7c9f7d95b6e8",
   "metadata": {},
   "outputs": [],
   "source": [
    "n_rows_with_nans = pearsonr_trial_avg_df[acf_cols].isnull().any(axis=1).sum()\n",
    "n_rows_with_nans_perc = n_rows_with_nans / len(pearsonr_trial_avg_df) * 100\n",
    "# acf_df.dropna(inplace=True)\n",
    "\n",
    "n_rows_with_nans_tau = tau_pearsonr_trial_avg_df['tau_ms'].isnull().sum()\n",
    "n_rows_with_nans_tau_perc = n_rows_with_nans_tau / len(tau_pearsonr_trial_avg_df) * 100\n",
    "# tau_df.dropna(inplace=True)\n",
    "\n",
    "print('acf n_rows_with_nans_perc {}, tau n_rows_with_nans_tau_perc {}'.format(n_rows_with_nans_perc, n_rows_with_nans_tau_perc))"
   ]
  },
  {
   "cell_type": "code",
   "execution_count": null,
   "id": "10482216-9577-43a6-ae86-f6f4dd9be4e3",
   "metadata": {},
   "outputs": [],
   "source": [
    "n_rows_with_nans = sttc_trial_avg_df[acf_cols].isnull().any(axis=1).sum()\n",
    "n_rows_with_nans_perc = n_rows_with_nans / len(sttc_trial_avg_df) * 100\n",
    "# acf_df.dropna(inplace=True)\n",
    "\n",
    "n_rows_with_nans_tau = tau_sttc_trial_avg_df['tau_ms'].isnull().sum()\n",
    "n_rows_with_nans_tau_perc = n_rows_with_nans_tau / len(tau_sttc_trial_avg_df) * 100\n",
    "# tau_df.dropna(inplace=True)\n",
    "\n",
    "print('acf n_rows_with_nans_perc {}, tau n_rows_with_nans_tau_perc {}'.format(n_rows_with_nans_perc, n_rows_with_nans_tau_perc))"
   ]
  }
 ],
 "metadata": {
  "kernelspec": {
   "display_name": "Python 3 (ipykernel)",
   "language": "python",
   "name": "python3"
  },
  "language_info": {
   "codemirror_mode": {
    "name": "ipython",
    "version": 3
   },
   "file_extension": ".py",
   "mimetype": "text/x-python",
   "name": "python",
   "nbconvert_exporter": "python",
   "pygments_lexer": "ipython3",
   "version": "3.12.3"
  }
 },
 "nbformat": 4,
 "nbformat_minor": 5
}
