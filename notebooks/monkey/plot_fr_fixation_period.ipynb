{
 "cells": [
  {
   "cell_type": "code",
   "execution_count": 2,
   "id": "8bbcbf7a-4c7f-4516-ad79-c2f25f1b2d92",
   "metadata": {},
   "outputs": [],
   "source": [
    "import pickle\n",
    "import csv\n",
    "import numpy as np\n",
    "import pandas as pd\n",
    "from scipy import stats\n",
    "import matplotlib.pyplot as plt\n",
    "import seaborn as sns\n",
    "\n",
    "# import from scripts\n",
    "import os\n",
    "current_wd = os.getcwd()\n",
    "os.chdir(os.path.abspath(\"..\\\\..\\\\..\\\\isttc\\\\scripts\"))\n",
    "from cfg_global import project_folder_path\n",
    "os.chdir(current_wd)"
   ]
  },
  {
   "cell_type": "code",
   "execution_count": 3,
   "id": "6de534ed-fd29-44a4-9cfd-6685d1fabfc2",
   "metadata": {},
   "outputs": [],
   "source": [
    "results_folder = project_folder_path + 'results\\\\monkey\\\\'"
   ]
  },
  {
   "cell_type": "code",
   "execution_count": 4,
   "id": "4e96c914-558d-4c12-8133-52092d83a7f3",
   "metadata": {},
   "outputs": [],
   "source": [
    "fig_folder = project_folder_path + 'results\\\\monkey\\\\fig_drafts_paper\\\\'\n",
    "save_fig = True"
   ]
  },
  {
   "cell_type": "markdown",
   "id": "a20d0c88-62a4-4b0e-a0d0-ef50d8fd25da",
   "metadata": {},
   "source": [
    "### Load data"
   ]
  },
  {
   "cell_type": "code",
   "execution_count": 49,
   "id": "43af2769-e4cf-42ad-a816-716726d165e9",
   "metadata": {},
   "outputs": [
    {
     "name": "stdout",
     "output_type": "stream",
     "text": [
      "N spike_trains in PFdl fixON 47339\n"
     ]
    }
   ],
   "source": [
    "csv_data_file_pfdl = results_folder + 'data_pfdl_fixon_1000ms_with_empty_fixation.csv'\n",
    "with open(csv_data_file_pfdl, newline='') as f:\n",
    "    reader = csv.reader(f)\n",
    "    sua_list_pfdl = list(reader)\n",
    "    \n",
    "n_spike_trains_pfdl = len(sua_list_pfdl)\n",
    "print('N spike_trains in PFdl fixON {}'.format(n_spike_trains_pfdl))"
   ]
  },
  {
   "cell_type": "code",
   "execution_count": 50,
   "id": "bca74abb-85ed-45d9-ab62-9f74c09cb659",
   "metadata": {},
   "outputs": [
    {
     "name": "stdout",
     "output_type": "stream",
     "text": [
      "N spike_trains in PFp fixON 43677\n"
     ]
    }
   ],
   "source": [
    "csv_data_file_pfp = results_folder + 'data_pfp_fixon_1000ms_with_empty_fixation.csv'\n",
    "with open(csv_data_file_pfp, newline='') as f:\n",
    "    reader = csv.reader(f)\n",
    "    sua_list_pfp = list(reader)\n",
    "\n",
    "n_spike_trains_pfp = len(sua_list_pfp)\n",
    "print('N spike_trains in PFp fixON {}'.format(n_spike_trains_pfp))"
   ]
  },
  {
   "cell_type": "markdown",
   "id": "0454df90-ed36-4788-baff-4227af0d403e",
   "metadata": {},
   "source": [
    "### Get the FR"
   ]
  },
  {
   "cell_type": "code",
   "execution_count": 51,
   "id": "d3f337ea-2178-4a20-ad10-d884aaca0ebc",
   "metadata": {},
   "outputs": [],
   "source": [
    "def get_fr_df(sua_list):\n",
    "    unit_id_l, trial_id_l, condition_id_l, spike_count_l, fr_hz_l = [], [], [], [], []    \n",
    "    \n",
    "    for unit in sua_list:\n",
    "        unit_id_l.append(unit[0])\n",
    "        trial_id_l.append(unit[1])\n",
    "        condition_id_l.append(unit[2])\n",
    "        spike_count_l.append(unit[3])\n",
    "        fr_hz_l.append(unit[4])\n",
    "\n",
    "    df = pd.DataFrame({\n",
    "        'unit_id': unit_id_l,\n",
    "        'trial_id': trial_id_l,\n",
    "        'condition_id': condition_id_l,\n",
    "        'spike_count': spike_count_l,\n",
    "        'fr_hz': fr_hz_l\n",
    "    })\n",
    "    for col in df.keys():\n",
    "        df[col] = df[col].astype(float)\n",
    "    return df"
   ]
  },
  {
   "cell_type": "code",
   "execution_count": 52,
   "id": "bf7130f7-10fc-4534-bcdf-4dad03850b5e",
   "metadata": {},
   "outputs": [
    {
     "name": "stderr",
     "output_type": "stream",
     "text": [
      "C:\\Users\\ipochino\\.conda\\envs\\isttc\\Lib\\site-packages\\pandas\\core\\arraylike.py:399: RuntimeWarning: divide by zero encountered in log10\n",
      "  result = getattr(ufunc, method)(*inputs, **kwargs)\n",
      "C:\\Users\\ipochino\\.conda\\envs\\isttc\\Lib\\site-packages\\pandas\\core\\arraylike.py:399: RuntimeWarning: divide by zero encountered in log10\n",
      "  result = getattr(ufunc, method)(*inputs, **kwargs)\n"
     ]
    }
   ],
   "source": [
    "fr_pfdl_df = get_fr_df(sua_list_pfdl)\n",
    "fr_pfp_df = get_fr_df(sua_list_pfdl)\n",
    "\n",
    "# unit mean\n",
    "fr_pfdl_df_mean = fr_pfdl_df.groupby(by='unit_id', as_index=False)[['spike_count', 'fr_hz']].mean()\n",
    "fr_pfdl_df_mean['fr_hz_log10'] = np.log10(fr_pfdl_df_mean['fr_hz'])\n",
    "fr_pfdl_df_mean['area'] = 'pfdl'\n",
    "\n",
    "fr_pfp_df_mean = fr_pfp_df.groupby(by='unit_id', as_index=False)[['spike_count', 'fr_hz']].mean()\n",
    "fr_pfp_df_mean['fr_hz_log10'] = np.log10(fr_pfp_df_mean['fr_hz'])\n",
    "fr_pfp_df_mean['area'] = 'pfp'"
   ]
  },
  {
   "cell_type": "code",
   "execution_count": 53,
   "id": "f772254c-e07b-481a-b2db-2ecbf77e33f4",
   "metadata": {},
   "outputs": [
    {
     "data": {
      "text/html": [
       "<div>\n",
       "<style scoped>\n",
       "    .dataframe tbody tr th:only-of-type {\n",
       "        vertical-align: middle;\n",
       "    }\n",
       "\n",
       "    .dataframe tbody tr th {\n",
       "        vertical-align: top;\n",
       "    }\n",
       "\n",
       "    .dataframe thead th {\n",
       "        text-align: right;\n",
       "    }\n",
       "</style>\n",
       "<table border=\"1\" class=\"dataframe\">\n",
       "  <thead>\n",
       "    <tr style=\"text-align: right;\">\n",
       "      <th></th>\n",
       "      <th>unit_id</th>\n",
       "      <th>spike_count</th>\n",
       "      <th>fr_hz</th>\n",
       "      <th>fr_hz_log10</th>\n",
       "      <th>area</th>\n",
       "    </tr>\n",
       "  </thead>\n",
       "  <tbody>\n",
       "    <tr>\n",
       "      <th>0</th>\n",
       "      <td>0.0</td>\n",
       "      <td>19.423913</td>\n",
       "      <td>19.423913</td>\n",
       "      <td>1.288337</td>\n",
       "      <td>pfdl</td>\n",
       "    </tr>\n",
       "    <tr>\n",
       "      <th>1</th>\n",
       "      <td>1.0</td>\n",
       "      <td>0.543478</td>\n",
       "      <td>0.543478</td>\n",
       "      <td>-0.264818</td>\n",
       "      <td>pfdl</td>\n",
       "    </tr>\n",
       "    <tr>\n",
       "      <th>2</th>\n",
       "      <td>2.0</td>\n",
       "      <td>1.184783</td>\n",
       "      <td>1.184783</td>\n",
       "      <td>0.073639</td>\n",
       "      <td>pfdl</td>\n",
       "    </tr>\n",
       "    <tr>\n",
       "      <th>3</th>\n",
       "      <td>3.0</td>\n",
       "      <td>10.913043</td>\n",
       "      <td>10.913043</td>\n",
       "      <td>1.037946</td>\n",
       "      <td>pfdl</td>\n",
       "    </tr>\n",
       "    <tr>\n",
       "      <th>4</th>\n",
       "      <td>4.0</td>\n",
       "      <td>2.816000</td>\n",
       "      <td>2.816000</td>\n",
       "      <td>0.449633</td>\n",
       "      <td>pfdl</td>\n",
       "    </tr>\n",
       "    <tr>\n",
       "      <th>...</th>\n",
       "      <td>...</td>\n",
       "      <td>...</td>\n",
       "      <td>...</td>\n",
       "      <td>...</td>\n",
       "      <td>...</td>\n",
       "    </tr>\n",
       "    <tr>\n",
       "      <th>1083</th>\n",
       "      <td>539.0</td>\n",
       "      <td>2.268817</td>\n",
       "      <td>2.268817</td>\n",
       "      <td>0.355800</td>\n",
       "      <td>pfp</td>\n",
       "    </tr>\n",
       "    <tr>\n",
       "      <th>1084</th>\n",
       "      <td>540.0</td>\n",
       "      <td>1.009346</td>\n",
       "      <td>1.009346</td>\n",
       "      <td>0.004040</td>\n",
       "      <td>pfp</td>\n",
       "    </tr>\n",
       "    <tr>\n",
       "      <th>1085</th>\n",
       "      <td>541.0</td>\n",
       "      <td>18.785047</td>\n",
       "      <td>18.785047</td>\n",
       "      <td>1.273812</td>\n",
       "      <td>pfp</td>\n",
       "    </tr>\n",
       "    <tr>\n",
       "      <th>1086</th>\n",
       "      <td>542.0</td>\n",
       "      <td>2.177570</td>\n",
       "      <td>2.177570</td>\n",
       "      <td>0.337972</td>\n",
       "      <td>pfp</td>\n",
       "    </tr>\n",
       "    <tr>\n",
       "      <th>1087</th>\n",
       "      <td>543.0</td>\n",
       "      <td>0.111111</td>\n",
       "      <td>0.111111</td>\n",
       "      <td>-0.954243</td>\n",
       "      <td>pfp</td>\n",
       "    </tr>\n",
       "  </tbody>\n",
       "</table>\n",
       "<p>1088 rows × 5 columns</p>\n",
       "</div>"
      ],
      "text/plain": [
       "      unit_id  spike_count      fr_hz  fr_hz_log10  area\n",
       "0         0.0    19.423913  19.423913     1.288337  pfdl\n",
       "1         1.0     0.543478   0.543478    -0.264818  pfdl\n",
       "2         2.0     1.184783   1.184783     0.073639  pfdl\n",
       "3         3.0    10.913043  10.913043     1.037946  pfdl\n",
       "4         4.0     2.816000   2.816000     0.449633  pfdl\n",
       "...       ...          ...        ...          ...   ...\n",
       "1083    539.0     2.268817   2.268817     0.355800   pfp\n",
       "1084    540.0     1.009346   1.009346     0.004040   pfp\n",
       "1085    541.0    18.785047  18.785047     1.273812   pfp\n",
       "1086    542.0     2.177570   2.177570     0.337972   pfp\n",
       "1087    543.0     0.111111   0.111111    -0.954243   pfp\n",
       "\n",
       "[1088 rows x 5 columns]"
      ]
     },
     "execution_count": 53,
     "metadata": {},
     "output_type": "execute_result"
    }
   ],
   "source": [
    "fr_mean_df = pd.concat([fr_pfdl_df_mean, fr_pfp_df_mean])\n",
    "fr_mean_df.reset_index(inplace=True, drop=True)\n",
    "fr_mean_df"
   ]
  },
  {
   "cell_type": "code",
   "execution_count": 54,
   "id": "56653575-9f84-405a-9029-144a0b961a9e",
   "metadata": {},
   "outputs": [
    {
     "data": {
      "image/png": "[encoded data removed]",
      "text/plain": [
       "<Figure size 800x300 with 2 Axes>"
      ]
     },
     "metadata": {},
     "output_type": "display_data"
    }
   ],
   "source": [
    "# plot with grouping per animal\n",
    "\n",
    "fig, axes = plt.subplots(1, 2, figsize=(8,3))\n",
    "plt.subplots_adjust(hspace=0.4, wspace=0.4)\n",
    "\n",
    "sns.violinplot(ax=axes[0], x='area', y='fr_hz', data=fr_mean_df, cut=0, density_norm='width', color='steelblue')\n",
    "sns.violinplot(ax=axes[1], x='area', y='fr_hz_log10', data=fr_mean_df, cut=0, density_norm='width', color='steelblue')\n",
    "\n",
    "axes[0].set_ylabel('Firing rate (Hz)')\n",
    "axes[1].set_ylabel('Firing rate log10 (Hz)')\n",
    "\n",
    "for ax in axes.flat:\n",
    "    ax.set_xlabel('Brain area')\n",
    "\n",
    "fig.suptitle('FR mean across all unit trials, fixation [0, 1000]', y=1.05)\n",
    "\n",
    "sns.despine()\n",
    "\n",
    "if save_fig:\n",
    "    plt.savefig(fig_folder + 'fr_fixation_with_empty_1000.png' , bbox_inches='tight')\n",
    "    plt.savefig(fig_folder + 'fr_fixation_with_empty_1000.svg' , bbox_inches='tight')"
   ]
  }
 ],
 "metadata": {
  "kernelspec": {
   "display_name": "Python 3 (ipykernel)",
   "language": "python",
   "name": "python3"
  },
  "language_info": {
   "codemirror_mode": {
    "name": "ipython",
    "version": 3
   },
   "file_extension": ".py",
   "mimetype": "text/x-python",
   "name": "python",
   "nbconvert_exporter": "python",
   "pygments_lexer": "ipython3",
   "version": "3.12.3"
  }
 },
 "nbformat": 4,
 "nbformat_minor": 5
}
