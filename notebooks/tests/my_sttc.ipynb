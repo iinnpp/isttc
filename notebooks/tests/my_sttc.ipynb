{
 "cells": [
  {
   "cell_type": "code",
   "execution_count": 4,
   "id": "9cbc4357-77d9-4d06-ae83-555bd20b0f40",
   "metadata": {},
   "outputs": [],
   "source": [
    "import numpy as np\n",
    "import pandas as pd\n",
    "import csv\n",
    "import matplotlib.pyplot as plt\n",
    "import seaborn as sns"
   ]
  },
  {
   "cell_type": "code",
   "execution_count": 5,
   "id": "610e58a5-4aac-4c76-8503-839388f9a429",
   "metadata": {},
   "outputs": [
    {
     "name": "stdout",
     "output_type": "stream",
     "text": [
      "N spike_trains in pfdl fixON 33018\n"
     ]
    }
   ],
   "source": [
    "area = 'pfdl'\n",
    "\n",
    "results_folder = 'E:\\\\projects_q_30_10_2024\\\\isttc\\\\results\\\\monkey\\\\'\n",
    "save_folder = results_folder + 'fixation_period_1000ms\\\\non_binned\\\\' + area + '\\\\acf\\\\'\n",
    "\n",
    "csv_data_file_pfdl = results_folder + 'data_' + area + '_fixon_1500ms_fixation.csv'\n",
    "with open(csv_data_file_pfdl, newline='') as f:\n",
    "    reader = csv.reader(f)\n",
    "    sua_list_pfdl = list(reader)\n",
    "    \n",
    "n_spike_trains_pfdl = len(sua_list_pfdl)\n",
    "print('N spike_trains in {} fixON {}'.format(area, n_spike_trains_pfdl))"
   ]
  },
  {
   "cell_type": "code",
   "execution_count": 8,
   "id": "5ee0d4eb-2720-4a74-9098-ba463e5be58e",
   "metadata": {},
   "outputs": [
    {
     "name": "stdout",
     "output_type": "stream",
     "text": [
      "time_series_a: [  22  172  267  287  353  472  604  652  722  761  779  844  917  966\n",
      " 1020 1061 1076 1116 1176 1188 1220 1263 1284 1339 1376 1385 1449] \n",
      "time_series_b: [ 197  395  433  465  543  614  760  936 1035 1078 1110 1147 1182 1206\n",
      " 1222 1234 1247 1274 1292 1365 1402 1447 1490]\n"
     ]
    }
   ],
   "source": [
    "time_series_a = np.asarray(sua_list_pfdl[33][3:]).astype(int)\n",
    "time_series_b = np.asarray(sua_list_pfdl[34][3:]).astype(int)\n",
    "print('time_series_a: {} \\ntime_series_b: {}'.format(time_series_a, time_series_b))"
   ]
  },
  {
   "cell_type": "code",
   "execution_count": 34,
   "id": "b6bab204-9d4b-4d3e-854d-79424e7d25fc",
   "metadata": {},
   "outputs": [],
   "source": [
    "dt = 25\n",
    "\n",
    "n_a = len(time_series_a)\n",
    "n_b = len(time_series_b)"
   ]
  },
  {
   "cell_type": "markdown",
   "id": "6203b7a5-5dfa-4351-9066-a5e25960eefe",
   "metadata": {},
   "source": [
    "#### sttc"
   ]
  },
  {
   "cell_type": "code",
   "execution_count": 28,
   "id": "f5cb91a8-1523-481d-ad36-32f944a4fa08",
   "metadata": {},
   "outputs": [],
   "source": [
    "def run_T(spiketrain, N, dt, t_start, t_stop):\n",
    "    \"\"\"\n",
    "    Calculate the proportion of the total recording time 'tiled' by spikes.\n",
    "    N: number of spikes\n",
    "    \"\"\"\n",
    "    time_A = 2 * N * dt  # maxium possible time\n",
    "\n",
    "    if N == 1:  # for just one spike in train\n",
    "        if spiketrain[0] - t_start < dt:\n",
    "            time_A = time_A - dt + spiketrain[0] - t_start\n",
    "        elif spiketrain[0] + dt > t_stop:\n",
    "            time_A = time_A - dt - spiketrain[0] + t_stop\n",
    "\n",
    "    else:  # if more than one spike in train\n",
    "        '''\n",
    "            This part of code speeds up calculation with respect to the original version\n",
    "        '''\n",
    "        diff = np.diff(spiketrain)\n",
    "        idx = np.where(diff<(2*dt))[0]\n",
    "        Lidx = len(idx)\n",
    "        time_A = time_A - 2 * Lidx * dt + diff[idx].sum()\n",
    "\n",
    "        if (spiketrain[0] - t_start) < dt:\n",
    "            time_A = time_A + spiketrain[0] - dt - t_start\n",
    "\n",
    "        if (t_stop - spiketrain[N - 1]) < dt:\n",
    "            time_A = time_A - spiketrain[-1] - dt + t_stop\n",
    "\n",
    "    T = (time_A / (t_stop - t_start)) #.item()\n",
    "    \n",
    "    return time_A, T"
   ]
  },
  {
   "cell_type": "code",
   "execution_count": 36,
   "id": "e5d5b3b6-2c6b-4086-8b0d-791a1636ee99",
   "metadata": {},
   "outputs": [],
   "source": [
    "def run_P(spiketrain_1, spiketrain_2, N1, N2, dt):\n",
    "    \"\"\"\n",
    "    Check every spike in train 1 to see if there's a spike in train 2\n",
    "    within dt\n",
    "    \"\"\"\n",
    "    Nab = 0\n",
    "    j = 0\n",
    "    for i in range(N1):\n",
    "        L=0\n",
    "        while j < N2:  # don't need to search all j each iteration\n",
    "            if np.abs(spiketrain_1[i] - spiketrain_2[j]) <= dt:\n",
    "                Nab = Nab + 1\n",
    "                L+=1\n",
    "                break\n",
    "            elif spiketrain_2[j] > spiketrain_1[i]:\n",
    "                break\n",
    "            else:\n",
    "                j = j + 1\n",
    "    return Nab"
   ]
  },
  {
   "cell_type": "code",
   "execution_count": 38,
   "id": "8880add4-d436-431e-af46-792402efd47f",
   "metadata": {},
   "outputs": [
    {
     "name": "stdout",
     "output_type": "stream",
     "text": [
      "time_a 1071, t_a 0.714\n",
      "time_b 837, t_b 0.558\n",
      "p_a_count 18, p_a 0.6666666666666666\n",
      "p_b_count 18, p_b 0.782608695652174\n",
      "0.16426735691803768\n"
     ]
    }
   ],
   "source": [
    "t_start = 0\n",
    "t_stop = 1500\n",
    "\n",
    "time_a, t_a = run_T(time_series_a, n_a, dt, t_start, t_stop)\n",
    "print('time_a {}, t_a {}'.format(time_a, t_a))\n",
    "\n",
    "time_b, t_b = run_T(time_series_b, n_b, dt, t_start, t_stop)\n",
    "print('time_b {}, t_b {}'.format(time_b, t_b))\n",
    "\n",
    "p_a_count = run_P(time_series_a, time_series_b, n_a, n_b, dt)\n",
    "p_a = p_a_count / float(n_a)\n",
    "print('p_a_count {}, p_a {}'.format(p_a_count, p_a))\n",
    "\n",
    "p_b_count = run_P(time_series_b, time_series_a, n_b, n_a, dt)\n",
    "p_b = p_b_count / float(n_b)\n",
    "print('p_b_count {}, p_b {}'.format(p_b_count, p_b))\n",
    "\n",
    "index = 0.5 * (p_a - t_b) / (1 - p_a * t_b) + 0.5 * (p_b - t_a) / (1 - p_b * t_a)\n",
    "print(index)"
   ]
  },
  {
   "cell_type": "code",
   "execution_count": 41,
   "id": "dfcb160a-4985-4a13-a0ff-763f3ef425e5",
   "metadata": {},
   "outputs": [
    {
     "name": "stdout",
     "output_type": "stream",
     "text": [
      "time_a 1071, t_a 0.1071\n",
      "time_b 852, t_b 0.0852\n",
      "p_a_count 18, p_a 0.6666666666666666\n",
      "p_b_count 18, p_b 0.782608695652174\n",
      "0.6768954086975421\n"
     ]
    }
   ],
   "source": [
    "t_start = 0\n",
    "t_stop = 10000\n",
    "\n",
    "time_a, t_a = run_T(time_series_a, n_a, dt, t_start, t_stop)\n",
    "print('time_a {}, t_a {}'.format(time_a, t_a))\n",
    "\n",
    "time_b, t_b = run_T(time_series_b, n_b, dt, t_start, t_stop)\n",
    "print('time_b {}, t_b {}'.format(time_b, t_b))\n",
    "\n",
    "p_a_count = run_P(time_series_a, time_series_b, n_a, n_b, dt)\n",
    "p_a = p_a_count / float(n_a)\n",
    "print('p_a_count {}, p_a {}'.format(p_a_count, p_a))\n",
    "\n",
    "p_b_count = run_P(time_series_b, time_series_a, n_b, n_a, dt)\n",
    "p_b = p_b_count / float(n_b)\n",
    "print('p_b_count {}, p_b {}'.format(p_b_count, p_b))\n",
    "\n",
    "index = 0.5 * (p_a - t_b) / (1 - p_a * t_b) + 0.5 * (p_b - t_a) / (1 - p_b * t_a)\n",
    "print(index)"
   ]
  },
  {
   "cell_type": "code",
   "execution_count": 58,
   "id": "3a90548f-ec59-4622-b4c1-ce8fcadeab3b",
   "metadata": {},
   "outputs": [
    {
     "name": "stdout",
     "output_type": "stream",
     "text": [
      "[172]\n",
      "[197]\n"
     ]
    }
   ],
   "source": [
    "time_series_a_short = time_series_a[time_series_a < 200]\n",
    "time_series_a_short = time_series_a_short[time_series_a_short > 100]\n",
    "print(time_series_a_short)\n",
    "time_series_b_short = time_series_b[time_series_b < 300]\n",
    "print(time_series_b_short)"
   ]
  },
  {
   "cell_type": "code",
   "execution_count": 60,
   "id": "6bd44e81-9034-4a9d-83b9-ccdfd46a7a49",
   "metadata": {},
   "outputs": [
    {
     "name": "stdout",
     "output_type": "stream",
     "text": [
      "time_a 47, t_a 0.94\n",
      "time_b 28, t_b 0.56\n",
      "p_a_count 1, p_a 1.0\n",
      "p_b_count 1, p_b 1.0\n",
      "1.0\n"
     ]
    }
   ],
   "source": [
    "t_start = 150\n",
    "t_stop = 200\n",
    "\n",
    "n_a = len(time_series_a_short)\n",
    "n_b = len(time_series_b_short)\n",
    "\n",
    "time_a, t_a = run_T(time_series_a_short, n_a, dt, t_start, t_stop)\n",
    "print('time_a {}, t_a {}'.format(time_a, t_a))\n",
    "\n",
    "time_b, t_b = run_T(time_series_b_short, n_b, dt, t_start, t_stop)\n",
    "print('time_b {}, t_b {}'.format(time_b, t_b))\n",
    "\n",
    "p_a_count = run_P(time_series_a_short, time_series_b_short, n_a, n_b, dt)\n",
    "p_a = p_a_count / float(n_a)\n",
    "print('p_a_count {}, p_a {}'.format(p_a_count, p_a))\n",
    "\n",
    "p_b_count = run_P(time_series_b_short, time_series_a_short, n_b, n_a, dt)\n",
    "p_b = p_b_count / float(n_b)\n",
    "print('p_b_count {}, p_b {}'.format(p_b_count, p_b))\n",
    "\n",
    "index = 0.5 * (p_a - t_b) / (1 - p_a * t_b) + 0.5 * (p_b - t_a) / (1 - p_b * t_a)\n",
    "print(index)"
   ]
  }
 ],
 "metadata": {
  "kernelspec": {
   "display_name": "Python 3 (ipykernel)",
   "language": "python",
   "name": "python3"
  },
  "language_info": {
   "codemirror_mode": {
    "name": "ipython",
    "version": 3
   },
   "file_extension": ".py",
   "mimetype": "text/x-python",
   "name": "python",
   "nbconvert_exporter": "python",
   "pygments_lexer": "ipython3",
   "version": "3.12.3"
  }
 },
 "nbformat": 4,
 "nbformat_minor": 5
}
