{
 "cells": [
  {
   "cell_type": "markdown",
   "id": "3cf22309-3217-4aa3-abad-42b40ea8a35e",
   "metadata": {},
   "source": [
    "Load dataframes with acf and calculate tau"
   ]
  },
  {
   "cell_type": "code",
   "execution_count": 1,
   "id": "16c30cfa-24a1-44c4-ace1-267751e47a0d",
   "metadata": {},
   "outputs": [],
   "source": [
    "import pandas as pd\n",
    "import numpy as np\n",
    "from scipy.optimize import curve_fit, OptimizeWarning\n",
    "from sklearn.metrics import r2_score\n",
    "from scipy import stats\n",
    "import matplotlib.pyplot as plt\n",
    "import seaborn as sns\n",
    "\n",
    "import warnings"
   ]
  },
  {
   "cell_type": "markdown",
   "id": "133ecf33-82c2-4e58-afd5-cfcc36ab0136",
   "metadata": {},
   "source": [
    "### Get the data"
   ]
  },
  {
   "cell_type": "code",
   "execution_count": 2,
   "id": "dcef2b6f-651d-4c00-9436-c556779660bc",
   "metadata": {},
   "outputs": [],
   "source": [
    "area = 'pfdl' #pfp"
   ]
  },
  {
   "cell_type": "code",
   "execution_count": 3,
   "id": "9d8b7757-2762-41db-8eb4-4584aa5685f9",
   "metadata": {},
   "outputs": [],
   "source": [
    "# results_folder = 'E:\\\\projects_q_30_10_2024\\\\isttc\\\\results\\\\monkey\\\\fixation_period_1000ms\\\\' + area + '\\\\acf\\\\'\n",
    "# save_folder = 'E:\\\\projects_q_30_10_2024\\\\isttc\\\\results\\\\monkey\\\\fixation_period_1000ms\\\\' + area + '\\\\taus\\\\'\n",
    "\n",
    "results_folder = 'D:\\\\projects_q_30_10_2024\\\\isttc\\\\results\\\\monkey\\\\'\n",
    "save_folder = results_folder + 'fixation_period_1000ms\\\\non_binned\\\\' + area + '\\\\acf\\\\'\n",
    "\n",
    "# acf_proper_df = pd.read_pickle(results_folder + 'acf_proper_df_constraint_input_50ms_20lags_df.pkl')\n",
    "# acf_pearsonr_df = pd.read_pickle(results_folder + 'acf_pearsonr_df_constraint_input_50ms_20lags_df.pkl')\n",
    "\n",
    "# acf_proper_trial_mean_df = pd.read_pickle(results_folder + 'acf_proper_trial_mean_constraint_input_50ms_20lags_df.pkl')\n",
    "# acf_pearsonr_trial_mean_df = pd.read_pickle(results_folder + 'acf_pearsonr_trial_mean_constraint_input_50ms_20lags_df.pkl')\n",
    "\n",
    "acf_average_trial_pearsonr_df = pd.read_pickle(save_folder + 'acf_average_trial_sttc_50ms_20lags_df.pkl')"
   ]
  },
  {
   "cell_type": "markdown",
   "id": "7b1c25c1-3218-4909-afe0-818206c3842e",
   "metadata": {},
   "source": [
    "### Constraint ACFs"
   ]
  },
  {
   "cell_type": "markdown",
   "id": "c2f1494b-0434-480e-977a-458b4ac9c5bd",
   "metadata": {},
   "source": [
    "### Calculate tau"
   ]
  },
  {
   "cell_type": "code",
   "execution_count": 4,
   "id": "86afb9a8-adaf-4211-865a-3ae4f1aa7487",
   "metadata": {},
   "outputs": [],
   "source": [
    "def func_single_exp(x, a, b, c):\n",
    "    \"\"\"\n",
    "    Exponential function to fit the data.\n",
    "    :param x: 1d array, independent variable\n",
    "    :param a: float, parameter to fit\n",
    "    :param b: float, parameter to fit\n",
    "    :param c: float, parameter to fit\n",
    "    :return: callable\n",
    "    \"\"\"\n",
    "    return a * np.exp(-b * x) + c\n",
    "\n",
    "\n",
    "def fit_single_exp(ydata_to_fit_, start_idx_=1):\n",
    "    \"\"\"\n",
    "    Fit function func_exp to data using non-linear least square.\n",
    "\n",
    "    todo check that - important point: Fit is done from the first ACF value (acf[0] is skipped, it is done like this\n",
    "    in the papers, still not sure)\n",
    "\n",
    "    :param ydata_to_fit_: 1d array, the dependant data to fit\n",
    "    :param start_idx_: int, index to start fitting from\n",
    "    :return: fit_popt, fit_pcov, tau, fit_r_squared\n",
    "    \"\"\"\n",
    "    t = np.linspace(start_idx_, len(ydata_to_fit_)-1, len(ydata_to_fit_)-1).astype(int)\n",
    "\n",
    "    with warnings.catch_warnings():\n",
    "        warnings.filterwarnings('error')\n",
    "        try:\n",
    "            popt, pcov = curve_fit(func_single_exp, t, ydata_to_fit_[start_idx_:], maxfev=1000000000) # I used 5000, now it is like in Siegle\n",
    "            fit_popt = popt\n",
    "            fit_pcov = pcov\n",
    "            tau = 1 / fit_popt[1]\n",
    "            # fit r-squared\n",
    "            y_pred = func_single_exp(t, *popt)\n",
    "            fit_r_squared = r2_score(ydata_to_fit_[start_idx_:], y_pred)\n",
    "        except RuntimeError as e:\n",
    "            print('RuntimeError: {}'. format(e))\n",
    "            fit_popt, fit_pcov, tau, fit_r_squared = np.nan, np.nan, np.nan, np.nan\n",
    "        except OptimizeWarning as o:\n",
    "            print('OptimizeWarning: {}'. format(o))\n",
    "            fit_popt, fit_pcov, tau, fit_r_squared = np.nan, np.nan, np.nan, np.nan\n",
    "        except RuntimeWarning as re:\n",
    "            print('RuntimeWarning: {}'. format(re))\n",
    "            fit_popt, fit_pcov, tau, fit_r_squared = np.nan, np.nan, np.nan, np.nan\n",
    "        except ValueError as ve:\n",
    "            print('ValueError: {}'. format(ve))\n",
    "            print('Possible reason: acf contains NaNs, low spike count')\n",
    "            fit_popt, fit_pcov, tau, fit_r_squared = np.nan, np.nan, np.nan, np.nan\n",
    "\n",
    "    return fit_popt, fit_pcov, tau, fit_r_squared"
   ]
  },
  {
   "cell_type": "code",
   "execution_count": 5,
   "id": "f824a74c-0158-404b-a864-b4d3cab41bb0",
   "metadata": {},
   "outputs": [],
   "source": [
    "def calc_tau(acf_df_, acf_cols_):\n",
    "    acf_2d = acf_df_[acf_cols_].values\n",
    "    n_units = acf_2d.shape[0]\n",
    "    print('Calculating taus for {}'.format(acf_2d.shape))\n",
    "    \n",
    "    fit_popt_a_l, fit_popt_b_l, fit_popt_c_l = [],[],[]\n",
    "    fit_tau_l = []\n",
    "    fit_r_squared_l = []\n",
    "    \n",
    "    for i in range(n_units):\n",
    "        fit_popt, fit_pcov, tau, fit_r_squared = fit_single_exp(acf_2d[i,:], start_idx_=1)\n",
    "        if  type(fit_popt) == np.ndarray:\n",
    "            fit_popt_a_l.append(fit_popt[0])\n",
    "            fit_popt_b_l.append(fit_popt[1])\n",
    "            fit_popt_c_l.append(fit_popt[2])\n",
    "        else:\n",
    "            fit_popt_a_l.append(np.nan)\n",
    "            fit_popt_b_l.append(np.nan)\n",
    "            fit_popt_c_l.append(np.nan)\n",
    "        fit_tau_l.append(tau)\n",
    "        fit_r_squared_l.append(fit_r_squared)\n",
    "    \n",
    "    data_df = np.vstack((fit_popt_a_l, fit_popt_b_l, fit_popt_c_l, fit_tau_l, fit_r_squared_l)).T\n",
    "    tau_df = pd.DataFrame(data_df, columns=['fit_a', 'fit_b', 'fit_c','tau', 'r_squared'])\n",
    "    tau_df.insert(0, 'unit_id', acf_df_['unit_id'].values)\n",
    "    # tau_df.insert(1, 'trial_id', acf_proper_df['trial_id'].values)\n",
    "    tau_df['tau_ms'] = tau_df['tau'] * 50\n",
    "\n",
    "    return tau_df"
   ]
  },
  {
   "cell_type": "code",
   "execution_count": 6,
   "id": "2923fa70-9025-432f-96c9-3e1e5fa05378",
   "metadata": {},
   "outputs": [],
   "source": [
    "n_lags = 20\n",
    "acf_cols = ['acf_' + str(i) for i in range(n_lags)]"
   ]
  },
  {
   "cell_type": "markdown",
   "id": "7b935874-f262-4847-8ee5-a9e5aa0be46a",
   "metadata": {},
   "source": [
    "#### Calc tau (for acf/Pearson) for average over trials and conditions (1 tau per unit)"
   ]
  },
  {
   "cell_type": "code",
   "execution_count": null,
   "id": "4b64eb20-f212-4a59-aa1e-80943d295195",
   "metadata": {},
   "outputs": [],
   "source": [
    "tau_acf_proper_trial_mean_df = calc_tau(acf_proper_trial_mean_df, acf_cols)"
   ]
  },
  {
   "cell_type": "code",
   "execution_count": null,
   "id": "504b711d-74e4-4947-a95f-cb3837b52066",
   "metadata": {},
   "outputs": [],
   "source": [
    "tau_acf_proper_trial_mean_df.query('tau_ms > 0 and tau_ms <= 1000').describe()"
   ]
  },
  {
   "cell_type": "code",
   "execution_count": null,
   "id": "504d8cd0-8b3a-4dda-81d4-2e116fe44e00",
   "metadata": {},
   "outputs": [],
   "source": [
    "tau_acf_pearsonr_trial_mean_df = calc_tau(acf_pearsonr_trial_mean_df, acf_cols[:-1])"
   ]
  },
  {
   "cell_type": "code",
   "execution_count": null,
   "id": "b2e637bf-9b3e-4b42-9f7f-84d20c8cae42",
   "metadata": {},
   "outputs": [],
   "source": [
    "tau_acf_pearsonr_trial_mean_df.query('tau_ms > 0 and tau_ms <= 1000').describe()"
   ]
  },
  {
   "cell_type": "markdown",
   "id": "5cda0cfb-8d5b-4261-b5c0-6ac5289baf9e",
   "metadata": {},
   "source": [
    "#### Calc tau (acf/Pearson) per trial (multiple taus per unit)"
   ]
  },
  {
   "cell_type": "code",
   "execution_count": null,
   "id": "58ca61bc-01b0-443a-8bc7-5a516b40edbe",
   "metadata": {},
   "outputs": [],
   "source": [
    "tau_acf_proper_df = calc_tau(acf_proper_df, acf_cols)"
   ]
  },
  {
   "cell_type": "code",
   "execution_count": null,
   "id": "e5222bdc-6bc6-4a5a-bebf-1fee4b22f4ba",
   "metadata": {},
   "outputs": [],
   "source": [
    "tau_acf_proper_df.query('tau_ms > 0 and tau_ms <= 1000').describe()"
   ]
  },
  {
   "cell_type": "code",
   "execution_count": null,
   "id": "36836179-43d7-4740-9de0-94a376b577ec",
   "metadata": {},
   "outputs": [],
   "source": [
    "tau_acf_pearsonr_df = calc_tau(acf_pearsonr_df, acf_cols[:-1])"
   ]
  },
  {
   "cell_type": "code",
   "execution_count": null,
   "id": "03fca713-9c89-4b0d-84d7-cee17aff6e99",
   "metadata": {},
   "outputs": [],
   "source": [
    "tau_acf_pearsonr_df.query('tau_ms > 0 and tau_ms <= 1000').describe()"
   ]
  },
  {
   "cell_type": "markdown",
   "id": "14db20c7-d29d-46f2-9f83-04f4fc09e34d",
   "metadata": {},
   "source": [
    "#### Calc tau on acf as in Siegle (they use Pearson) - trial average"
   ]
  },
  {
   "cell_type": "code",
   "execution_count": 7,
   "id": "3d09927f-0917-4a7c-b268-02f22866ea70",
   "metadata": {},
   "outputs": [
    {
     "name": "stdout",
     "output_type": "stream",
     "text": [
      "Calculating taus for (541, 20)\n",
      "OptimizeWarning: Covariance of the parameters could not be estimated\n"
     ]
    }
   ],
   "source": [
    "tau_acf_average_trial_pearsonr_df = calc_tau(acf_average_trial_pearsonr_df, acf_cols)"
   ]
  },
  {
   "cell_type": "code",
   "execution_count": 8,
   "id": "da908311-0888-4d7c-865f-f7f5739662c9",
   "metadata": {},
   "outputs": [
    {
     "data": {
      "text/html": [
       "<div>\n",
       "<style scoped>\n",
       "    .dataframe tbody tr th:only-of-type {\n",
       "        vertical-align: middle;\n",
       "    }\n",
       "\n",
       "    .dataframe tbody tr th {\n",
       "        vertical-align: top;\n",
       "    }\n",
       "\n",
       "    .dataframe thead th {\n",
       "        text-align: right;\n",
       "    }\n",
       "</style>\n",
       "<table border=\"1\" class=\"dataframe\">\n",
       "  <thead>\n",
       "    <tr style=\"text-align: right;\">\n",
       "      <th></th>\n",
       "      <th>unit_id</th>\n",
       "      <th>fit_a</th>\n",
       "      <th>fit_b</th>\n",
       "      <th>fit_c</th>\n",
       "      <th>tau</th>\n",
       "      <th>r_squared</th>\n",
       "      <th>tau_ms</th>\n",
       "    </tr>\n",
       "  </thead>\n",
       "  <tbody>\n",
       "    <tr>\n",
       "      <th>count</th>\n",
       "      <td>409.000000</td>\n",
       "      <td>409.000000</td>\n",
       "      <td>409.000000</td>\n",
       "      <td>409.000000</td>\n",
       "      <td>409.000000</td>\n",
       "      <td>409.000000</td>\n",
       "      <td>409.000000</td>\n",
       "    </tr>\n",
       "    <tr>\n",
       "      <th>mean</th>\n",
       "      <td>278.677262</td>\n",
       "      <td>-339.666996</td>\n",
       "      <td>2.644808</td>\n",
       "      <td>0.094123</td>\n",
       "      <td>3.321778</td>\n",
       "      <td>0.410400</td>\n",
       "      <td>166.088906</td>\n",
       "    </tr>\n",
       "    <tr>\n",
       "      <th>std</th>\n",
       "      <td>156.951749</td>\n",
       "      <td>5414.576102</td>\n",
       "      <td>4.288107</td>\n",
       "      <td>0.123044</td>\n",
       "      <td>3.597787</td>\n",
       "      <td>0.323088</td>\n",
       "      <td>179.889331</td>\n",
       "    </tr>\n",
       "    <tr>\n",
       "      <th>min</th>\n",
       "      <td>0.000000</td>\n",
       "      <td>-53428.055484</td>\n",
       "      <td>0.054829</td>\n",
       "      <td>-0.163657</td>\n",
       "      <td>0.072853</td>\n",
       "      <td>0.000000</td>\n",
       "      <td>3.642630</td>\n",
       "    </tr>\n",
       "    <tr>\n",
       "      <th>25%</th>\n",
       "      <td>146.000000</td>\n",
       "      <td>0.092166</td>\n",
       "      <td>0.212978</td>\n",
       "      <td>0.004680</td>\n",
       "      <td>0.533984</td>\n",
       "      <td>0.092779</td>\n",
       "      <td>26.699192</td>\n",
       "    </tr>\n",
       "    <tr>\n",
       "      <th>50%</th>\n",
       "      <td>284.000000</td>\n",
       "      <td>0.194121</td>\n",
       "      <td>0.417932</td>\n",
       "      <td>0.056467</td>\n",
       "      <td>2.392733</td>\n",
       "      <td>0.367751</td>\n",
       "      <td>119.636671</td>\n",
       "    </tr>\n",
       "    <tr>\n",
       "      <th>75%</th>\n",
       "      <td>412.000000</td>\n",
       "      <td>0.338154</td>\n",
       "      <td>1.872716</td>\n",
       "      <td>0.138567</td>\n",
       "      <td>4.695331</td>\n",
       "      <td>0.716925</td>\n",
       "      <td>234.766571</td>\n",
       "    </tr>\n",
       "    <tr>\n",
       "      <th>max</th>\n",
       "      <td>543.000000</td>\n",
       "      <td>49751.635855</td>\n",
       "      <td>13.726346</td>\n",
       "      <td>0.545955</td>\n",
       "      <td>18.238520</td>\n",
       "      <td>0.989827</td>\n",
       "      <td>911.926007</td>\n",
       "    </tr>\n",
       "  </tbody>\n",
       "</table>\n",
       "</div>"
      ],
      "text/plain": [
       "          unit_id         fit_a       fit_b       fit_c         tau  \\\n",
       "count  409.000000    409.000000  409.000000  409.000000  409.000000   \n",
       "mean   278.677262   -339.666996    2.644808    0.094123    3.321778   \n",
       "std    156.951749   5414.576102    4.288107    0.123044    3.597787   \n",
       "min      0.000000 -53428.055484    0.054829   -0.163657    0.072853   \n",
       "25%    146.000000      0.092166    0.212978    0.004680    0.533984   \n",
       "50%    284.000000      0.194121    0.417932    0.056467    2.392733   \n",
       "75%    412.000000      0.338154    1.872716    0.138567    4.695331   \n",
       "max    543.000000  49751.635855   13.726346    0.545955   18.238520   \n",
       "\n",
       "        r_squared      tau_ms  \n",
       "count  409.000000  409.000000  \n",
       "mean     0.410400  166.088906  \n",
       "std      0.323088  179.889331  \n",
       "min      0.000000    3.642630  \n",
       "25%      0.092779   26.699192  \n",
       "50%      0.367751  119.636671  \n",
       "75%      0.716925  234.766571  \n",
       "max      0.989827  911.926007  "
      ]
     },
     "execution_count": 8,
     "metadata": {},
     "output_type": "execute_result"
    }
   ],
   "source": [
    "tau_acf_average_trial_pearsonr_df.query('tau_ms > 0 and tau_ms <= 1000').describe()"
   ]
  },
  {
   "cell_type": "code",
   "execution_count": 14,
   "id": "e455218a-5ec7-4b68-ab80-5b408154af86",
   "metadata": {},
   "outputs": [
    {
     "data": {
      "text/plain": [
       "232"
      ]
     },
     "execution_count": 14,
     "metadata": {},
     "output_type": "execute_result"
    }
   ],
   "source": [
    "len(tau_acf_average_trial_pearsonr_df.query('r_squared > 0.5'))"
   ]
  },
  {
   "cell_type": "markdown",
   "id": "db814793-3392-4a21-b334-eb58b2f91909",
   "metadata": {},
   "source": [
    "#### One tau per area \n",
    "\n",
    "2 methods of doing that:\n",
    "* average ACF over units and fit\n",
    "* fit using all ACFs from all neurons"
   ]
  },
  {
   "cell_type": "code",
   "execution_count": 9,
   "id": "96225965-ac55-4714-9f85-edc799ee6d1f",
   "metadata": {},
   "outputs": [],
   "source": [
    "def calc_tau_area(acf_df_, acf_cols_, start_idx_=1):\n",
    "    acf_2d = acf_df_[acf_cols_].values\n",
    "    print(acf_2d.shape)\n",
    "    \n",
    "    t = np.linspace(start_idx_, acf_2d.shape[1]-start_idx_, acf_2d.shape[1]-start_idx_).astype(int)\n",
    "    # print(t)\n",
    "    \n",
    "    # make 1d for curve_fit\n",
    "    acf_1d = np.hstack(acf_2d[:,1:])\n",
    "    print(acf_1d.shape)\n",
    "    t_1d = np.tile(t, reps=acf_2d.shape[0])\n",
    "    print(t_1d.shape)\n",
    "    \n",
    "    popt, pcov = curve_fit(func_single_exp, t_1d, acf_1d, maxfev=1000000000) # I used 5000, now it is like in Siegle\n",
    "    tau = 1 / popt[1]\n",
    "    \n",
    "    # fit r-squared\n",
    "    y_pred = func_single_exp(t_1d, *popt)\n",
    "    fit_r_squared = r2_score(acf_1d, y_pred)\n",
    "\n",
    "    return tau, popt, fit_r_squared"
   ]
  },
  {
   "cell_type": "code",
   "execution_count": 10,
   "id": "a27066a8-3979-4cab-b6c9-38e3c53ca0c7",
   "metadata": {},
   "outputs": [],
   "source": [
    "def calc_tau_area_mean(acf_df_, acf_cols_, start_idx_=1):\n",
    "    acf_2d = acf_df_[acf_cols_].values\n",
    "    acf_mean = np.nanmean(acf_2d, axis=0)\n",
    "    \n",
    "    t = np.linspace(start_idx_, len(acf_mean)-1, len(acf_mean)-1).astype(int)\n",
    "    # print(t)\n",
    "    \n",
    "    popt, pcov = curve_fit(func_single_exp, t, acf_mean[1:], maxfev=1000000000) # I used 5000, now it is like in Siegle\n",
    "    tau = 1 / popt[1]\n",
    "    \n",
    "    # fit r-squared\n",
    "    y_pred = func_single_exp(t, *popt)\n",
    "    fit_r_squared = r2_score(acf_mean[1:], y_pred)\n",
    "\n",
    "    return tau, popt, fit_r_squared"
   ]
  },
  {
   "cell_type": "code",
   "execution_count": 11,
   "id": "0fd337ad-857e-41ff-b389-5023284ff4bd",
   "metadata": {},
   "outputs": [
    {
     "name": "stdout",
     "output_type": "stream",
     "text": [
      "(541, 20)\n",
      "(10279,)\n",
      "(10279,)\n",
      "tau_avg_trial_pearsonr 256.33383326417146, fit_r_square_avg_trial_pearsonr 0.04735203160005419\n",
      "tau_avg_trial_pearsonr 256.33419061958864, fit_r_square_avg_trial_pearsonr 0.9928868825596111\n"
     ]
    }
   ],
   "source": [
    "# using Siegle style ACFs (Pear)\n",
    "tau_avg_trial_pearsonr, popt_avg_trial_pearsonr, fit_r_square_avg_trial_pearsonr = calc_tau_area(acf_average_trial_pearsonr_df.dropna(), acf_cols)\n",
    "print('tau_avg_trial_pearsonr {}, fit_r_square_avg_trial_pearsonr {}'.format(tau_avg_trial_pearsonr*50, fit_r_square_avg_trial_pearsonr))\n",
    "\n",
    "tau_avg_trial_pearsonr_v2, popt_avg_trial_pearsonr_v2, fit_r_square_avg_trial_pearsonr_v2 = calc_tau_area_mean(acf_average_trial_pearsonr_df.dropna(), \n",
    "                                                                                                               acf_cols)\n",
    "print('tau_avg_trial_pearsonr {}, fit_r_square_avg_trial_pearsonr {}'.format(tau_avg_trial_pearsonr_v2*50, fit_r_square_avg_trial_pearsonr_v2))"
   ]
  },
  {
   "cell_type": "code",
   "execution_count": null,
   "id": "e4a5ff5d-885e-49dd-b19c-ec52eb9669a1",
   "metadata": {},
   "outputs": [],
   "source": [
    "# using unit mean ACFs\n",
    "tau_acf_proper_tr_mean, popt_acf_proper_tr_mean, fit_r_square_acf_proper_tr_mean = calc_tau_area(acf_proper_trial_mean_df.dropna(), acf_cols)\n",
    "print('tau_acf_proper_tr_mean {}, fit_r_square_acf_proper_tr_mean {}'.format(tau_acf_proper_tr_mean*50, fit_r_square_acf_proper_tr_mean))\n",
    "\n",
    "tau_acf_proper_tr_mean_v2, popt_acf_proper_tr_mean_v2, fit_r_square_acf_proper_tr_mean_v2 = calc_tau_area_mean(acf_proper_trial_mean_df.dropna(), acf_cols)\n",
    "print('tau_acf_proper_tr_mean_v2 {}, fit_r_square_acf_proper_tr_mean_v2 {}'.format(tau_acf_proper_tr_mean_v2*50, fit_r_square_acf_proper_tr_mean_v2))"
   ]
  },
  {
   "cell_type": "code",
   "execution_count": null,
   "id": "361d43c6-ba54-47bb-9181-e0ef5fff8540",
   "metadata": {},
   "outputs": [],
   "source": [
    "acf_pearsonr_trial_mean_df.dropna()"
   ]
  },
  {
   "cell_type": "code",
   "execution_count": null,
   "id": "3c3c4214-131c-4cce-b4cb-0da48df5f4ce",
   "metadata": {},
   "outputs": [],
   "source": [
    "# using unit mean Pearsons\n",
    "# HERE: dropping ACFs with NaNs!\n",
    "tau_acf_pearsonr_tr_mean, popt_acf_pearsonr_tr_mean, fit_r_square_acf_pearsonr_tr_mean = calc_tau_area(acf_pearsonr_trial_mean_df.dropna(), acf_cols[:-1])\n",
    "print('tau_acf_pearsonr_tr_mean {}, fit_r_square_acf_pearsonr_tr_mean {}'.format(tau_acf_pearsonr_tr_mean*50, fit_r_square_acf_pearsonr_tr_mean))\n",
    "\n",
    "tau_acf_pearsonr_tr_mean_v2, popt_acf_pearsonr_tr_mean_v2, fit_r_square_acf_pearsonr_tr_mean_v2 = calc_tau_area_mean(acf_pearsonr_trial_mean_df.dropna(), acf_cols[:-1])\n",
    "print('tau_acf_pearsonr_tr_mean_v2 {}, fit_r_square_acf_pearsonr_tr_mean_v2 {}'.format(tau_acf_pearsonr_tr_mean_v2*50, fit_r_square_acf_pearsonr_tr_mean_v2))"
   ]
  },
  {
   "cell_type": "code",
   "execution_count": null,
   "id": "c85ba4e5-61a7-4c33-b6bd-515fd1c08a1b",
   "metadata": {},
   "outputs": [],
   "source": [
    "df_type_l = ['acf_average_trial_pearsonr_df', 'acf_average_trial_pearsonr_df', \n",
    "             'acf_proper_trial_mean_df', 'acf_proper_trial_mean_df', 'acf_pearsonr_trial_mean_df', 'acf_pearsonr_trial_mean_df']\n",
    "fit_type_l = ['fit_all', 'fit_mean', 'fit_all', 'fit_mean', 'fit_all', 'fit_mean']\n",
    "\n",
    "tau_ms_l = [tau_avg_trial_pearsonr*50, tau_avg_trial_pearsonr_v2*50, tau_acf_proper_tr_mean*50, tau_acf_proper_tr_mean_v2*50, \n",
    "            tau_acf_pearsonr_tr_mean*50, tau_acf_pearsonr_tr_mean_v2*50]\n",
    "\n",
    "r_squared_l = [fit_r_square_avg_trial_pearsonr, fit_r_square_avg_trial_pearsonr_v2, fit_r_square_acf_proper_tr_mean, fit_r_square_acf_proper_tr_mean_v2, \n",
    "            fit_r_square_acf_pearsonr_tr_mean, fit_r_square_acf_pearsonr_tr_mean_v2]\n",
    "\n",
    "popt_a_l = [popt_avg_trial_pearsonr[0], popt_avg_trial_pearsonr_v2[0], \n",
    "            popt_acf_proper_tr_mean[0], popt_acf_proper_tr_mean_v2[0], \n",
    "            popt_acf_pearsonr_tr_mean[0], popt_acf_pearsonr_tr_mean_v2[0]]\n",
    "\n",
    "popt_b_l = [popt_avg_trial_pearsonr[1], popt_avg_trial_pearsonr_v2[1], \n",
    "            popt_acf_proper_tr_mean[1], popt_acf_proper_tr_mean_v2[1], \n",
    "            popt_acf_pearsonr_tr_mean[1], popt_acf_pearsonr_tr_mean_v2[1]]\n",
    "\n",
    "popt_c_l = [popt_avg_trial_pearsonr[2], popt_avg_trial_pearsonr_v2[2], \n",
    "            popt_acf_proper_tr_mean[2], popt_acf_proper_tr_mean_v2[2], \n",
    "            popt_acf_pearsonr_tr_mean[2], popt_acf_pearsonr_tr_mean_v2[2]]\n",
    "\n",
    "tau_area_df = pd.DataFrame(np.vstack((df_type_l, fit_type_l, tau_ms_l, \n",
    "                                      r_squared_l, popt_a_l, popt_b_l, popt_c_l)).T, \n",
    "                           columns=['df_type', 'fit_type', 'tau_ms', 'r_squared','popt_a', 'popt_b', 'popt_c'])\n",
    "tau_area_df"
   ]
  },
  {
   "cell_type": "code",
   "execution_count": null,
   "id": "1d12a834-84e5-44d1-a9c7-773f8cf5c953",
   "metadata": {},
   "outputs": [],
   "source": [
    "def plot_acf_area_fit(acf_df_, acf_cols_, tau_ms_, popt_, tau_ms_v2_, popt_v2_, start_idx_=1, save_fig=False, file_name=None):\n",
    "    fig, axes = plt.subplots(1,2, figsize=(12,4))\n",
    "\n",
    "    n_lags = 20\n",
    "    t = np.linspace(start_idx_, n_lags-1, n_lags-1).astype(int)\n",
    "    t_labels = np.linspace(50, 950, n_lags-1).astype(int)\n",
    "    \n",
    "    # plot 2 fits\n",
    "    acf_2d = acf_df_[acf_cols_].values\n",
    "    for i in range(acf_2d.shape[0]):\n",
    "        axes[0].scatter(t, acf_2d[i,1:], s=1, color='steelblue')\n",
    "    axes[0].plot(t, func_single_exp(t, popt_[0], popt_[1], popt_[2]), 'r-', label=\"Fitted Curve\")\n",
    "    axes[0].set_title('tau ' + str(np.round(tau_ms_ * 50,2)) + ', ' + str(acf_2d.shape[0]) + ' units')\n",
    "    \n",
    "    acf_2d_mean = np.nanmean(acf_2d, axis=0)\n",
    "    axes[1].scatter(t, acf_2d_mean[1:], s=3, color='steelblue')\n",
    "    axes[1].plot(t, func_single_exp(t, popt_v2_[0], popt_v2_[1], popt_v2_[2]), 'r-', label=\"Fitted Curve\")\n",
    "    axes[1].errorbar(t, acf_2d_mean[1:], stats.sem(acf_2d, axis=0)[1:], linestyle='None', marker='.')\n",
    "    axes[1].set_title('tau ' + str(np.round(tau_ms_v2_ * 50,2)) + ', ' + str(acf_2d.shape[0]) + ' units')\n",
    "    \n",
    "    #axes[1].set_ylim([0, 0.25])\n",
    "    \n",
    "    for ax in axes.flat:\n",
    "        ax.set_xticks(t)\n",
    "        ax.set_xticklabels(t_labels, rotation=90)\n",
    "        ax.set_xlabel('Time lag (ms)')\n",
    "        ax.set_ylabel('Autocorrelation (a.u.)')  \n",
    "    \n",
    "    sns.despine()\n",
    "    \n",
    "    if save_fig:\n",
    "        fig.savefig(file_name, bbox_inches='tight')"
   ]
  },
  {
   "cell_type": "code",
   "execution_count": null,
   "id": "150767ad-3eb4-4a17-a857-a620bbead129",
   "metadata": {},
   "outputs": [],
   "source": [
    "plot_acf_area_fit(acf_average_trial_pearsonr_df, acf_cols, \n",
    "                  tau_avg_trial_pearsonr, popt_avg_trial_pearsonr, \n",
    "                  tau_avg_trial_pearsonr_v2, popt_avg_trial_pearsonr_v2, \n",
    "                  1, True, save_folder + 'tau_avg_trial_pearsonr_50ms_20lags_area.png')"
   ]
  },
  {
   "cell_type": "code",
   "execution_count": null,
   "id": "aae003ff-cbf1-4a4a-9390-b7d2d9d4a36d",
   "metadata": {},
   "outputs": [],
   "source": [
    "plot_acf_area_fit(acf_proper_trial_mean_df, acf_cols, \n",
    "                  tau_acf_proper_tr_mean, popt_acf_proper_tr_mean, \n",
    "                  tau_acf_proper_tr_mean_v2, popt_acf_proper_tr_mean_v2, \n",
    "                  1, True, save_folder + 'tau_acf_proper_tr_mean_50ms_20lags_area.png')"
   ]
  },
  {
   "cell_type": "code",
   "execution_count": null,
   "id": "4f9dce5d-f357-4c6f-805e-3b8cb8108280",
   "metadata": {},
   "outputs": [],
   "source": [
    "plot_acf_area_fit(acf_pearsonr_trial_mean_df, acf_cols[:-1], \n",
    "                  tau_acf_pearsonr_tr_mean, popt_acf_pearsonr_tr_mean, \n",
    "                  tau_acf_pearsonr_tr_mean_v2, popt_acf_pearsonr_tr_mean_v2, \n",
    "                  1, True, save_folder + 'tau_acf_pearsonr_tr_mean_50ms_20lags_area.png')"
   ]
  },
  {
   "cell_type": "markdown",
   "id": "0b31610e-b994-4188-9014-69c6b96a4e29",
   "metadata": {},
   "source": [
    "### Save all frames"
   ]
  },
  {
   "cell_type": "code",
   "execution_count": null,
   "id": "5948d375-5658-45cb-a8cd-74cb50a2373d",
   "metadata": {},
   "outputs": [],
   "source": [
    "tau_acf_proper_df.to_pickle(save_folder + 'tau_acf_proper_df_constraint_input_50ms_20lags_df.pkl')\n",
    "tau_acf_pearsonr_df.to_pickle(save_folder + 'tau_acf_pearsonr_df_constraint_input_50ms_20lags_df.pkl')\n",
    "\n",
    "tau_acf_proper_trial_mean_df.to_pickle(save_folder + 'tau_acf_proper_trial_mean_constraint_input_50ms_20lags_df.pkl')\n",
    "tau_acf_pearsonr_trial_mean_df.to_pickle(save_folder + 'tau_acf_pearsonr_trial_mean_constraint_input_50ms_20lags_df.pkl')\n",
    "\n",
    "tau_acf_average_trial_pearsonr_df.to_pickle(save_folder + 'tau_acf_average_trial_pearsonr_df_constrained_input_50ms_20lags_df.pkl')\n",
    "\n",
    "tau_area_df.to_pickle(save_folder + 'tau_area_df_constrained_input_50ms_20lags_df.pkl')"
   ]
  }
 ],
 "metadata": {
  "kernelspec": {
   "display_name": "Python 3 (ipykernel)",
   "language": "python",
   "name": "python3"
  },
  "language_info": {
   "codemirror_mode": {
    "name": "ipython",
    "version": 3
   },
   "file_extension": ".py",
   "mimetype": "text/x-python",
   "name": "python",
   "nbconvert_exporter": "python",
   "pygments_lexer": "ipython3",
   "version": "3.12.7"
  }
 },
 "nbformat": 4,
 "nbformat_minor": 5
}
