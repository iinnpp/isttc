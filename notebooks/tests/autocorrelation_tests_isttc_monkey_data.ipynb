{
 "cells": [
  {
   "cell_type": "code",
   "execution_count": 8,
   "id": "2b488b58-9644-49da-b2da-84ae662a8288",
   "metadata": {},
   "outputs": [],
   "source": [
    "import pandas as pd\n",
    "import numpy as np\n",
    "import csv\n",
    "from statsmodels.graphics import tsaplots\n",
    "from statsmodels.tsa.stattools import acf\n",
    "import matplotlib.pyplot as plt\n",
    "import seaborn as sns\n",
    "import quantities as pq\n",
    "from elephant.spike_train_correlation import spike_time_tiling_coefficient\n",
    "import neo"
   ]
  },
  {
   "cell_type": "code",
   "execution_count": 3,
   "id": "2a0aa477-b443-440e-b38c-da0f448f7f81",
   "metadata": {},
   "outputs": [
    {
     "name": "stdout",
     "output_type": "stream",
     "text": [
      "N spike_trains in PFdl fixON 33018\n"
     ]
    }
   ],
   "source": [
    "results_folder = 'Q:\\\\Personal\\\\Irina\\\\projects\\\\isttc\\\\results\\\\monkey\\\\'\n",
    "\n",
    "csv_data_file_pfdl = results_folder + 'data_pfdl_fixon_1500ms_fixation.csv'\n",
    "with open(csv_data_file_pfdl, newline='') as f:\n",
    "    reader = csv.reader(f)\n",
    "    sua_list_pfdl = list(reader)\n",
    "    \n",
    "n_spike_trains_pfdl = len(sua_list_pfdl)\n",
    "print('N spike_trains in PFdl fixON {}'.format(n_spike_trains_pfdl))"
   ]
  },
  {
   "cell_type": "code",
   "execution_count": 64,
   "id": "51b29412-9836-4c4b-955a-1c123f7a59b3",
   "metadata": {},
   "outputs": [
    {
     "name": "stdout",
     "output_type": "stream",
     "text": [
      "time_series [   8   40   72   90  124  155  161  179  215  231  256  264  293  328\n",
      "  355  369  380  396  425  452  509  544  567  596  615  632  705  794\n",
      "  852  908  935 1005 1038 1106 1292 1322 1353 1372 1401 1436 1448 1468\n",
      " 1490], \n",
      " shape (43,)\n"
     ]
    }
   ],
   "source": [
    "time_series = np.asarray(sua_list_pfdl[35][3:]).astype(int)\n",
    "print('time_series {}, \\n shape {}'.format(time_series, time_series.shape))"
   ]
  },
  {
   "cell_type": "markdown",
   "id": "6b91636a-0ae1-4159-81bc-e703df2b9a42",
   "metadata": {},
   "source": [
    "#### Calc asf"
   ]
  },
  {
   "cell_type": "code",
   "execution_count": 59,
   "id": "c6c7cc45-a017-4279-8871-2879d0e7a51b",
   "metadata": {},
   "outputs": [],
   "source": [
    "def calculate_acf_sttc_t(spike_train, n_lags_, acf_lag_ms_, sttc_lag_ms_, rec_length_, verbose=True):\n",
    "    shift_ms_l = np.linspace(acf_lag_ms_, acf_lag_ms_ * n_lags_, n_lags_).astype(int)\n",
    "    if verbose:\n",
    "        print('shift_ms_l {}'.format(shift_ms_l))\n",
    "\n",
    "    spike_train_bin = np.zeros(rec_length)\n",
    "    spike_train_bin[spike_train] = 1\n",
    "    if verbose:\n",
    "        print(spike_train_bin.shape)\n",
    "\n",
    "    sttc_self_l = []\n",
    "    # correlate with itself\n",
    "    spike_train_neo = neo.SpikeTrain(spike_train_ms_int, units='ms', t_start=0, t_stop=len(spike_train_bin))\n",
    "    sttc_no_shift = spike_time_tiling_coefficient(spike_train_neo, spike_train_neo, dt=sttc_lag_ms_ * pq.ms)\n",
    "    sttc_self_l.append(sttc_no_shift)\n",
    "\n",
    "    # correlated shifted signal\n",
    "    for shift_ms in shift_ms_l:\n",
    "\n",
    "        spike_train_bin1 = spike_train_bin[shift_ms:]\n",
    "        spike_train_bin2 = spike_train_bin[:- shift_ms]\n",
    "        if verbose:\n",
    "            print('spike_train_bin1 {}, spike_train_bin2 {}'.format(spike_train_bin1.shape, spike_train_bin2.shape))\n",
    "        \n",
    "        spike_train_bin1_idx = np.nonzero(spike_train_bin1)[0]\n",
    "        spike_train_bin2_idx = np.nonzero(spike_train_bin2)[0]\n",
    "        if verbose:\n",
    "            print('spike_train_bin1_idx {}'.format(spike_train_bin1_idx))\n",
    "            print('spike_train_bin2_idx {}'.format(spike_train_bin2_idx))\n",
    "        \n",
    "        spike_train_neo_1 = neo.SpikeTrain(spike_train_bin1_idx, units='ms', t_start=0, t_stop=len(spike_train_bin1))\n",
    "        spike_train_neo_2 = neo.SpikeTrain(spike_train_bin2_idx, units='ms', t_start=0, t_stop=len(spike_train_bin2))\n",
    "        if verbose:\n",
    "            print(spike_train_neo_1)\n",
    "            print(spike_train_neo_2)\n",
    "        \n",
    "        sttc_self = spike_time_tiling_coefficient(spike_train_neo_1, spike_train_neo_2, dt=sttc_lag_ms_ * pq.ms)\n",
    "        sttc_self_l.append(sttc_self)\n",
    "\n",
    "    return sttc_self_l"
   ]
  },
  {
   "cell_type": "code",
   "execution_count": 65,
   "id": "76d08d35-b141-4a6a-a50d-283416b30162",
   "metadata": {},
   "outputs": [
    {
     "name": "stdout",
     "output_type": "stream",
     "text": [
      "shift_ms_l [ 50 100 150 200 250 300 350 400 450 500]\n",
      "(1500,)\n",
      "spike_train_bin1 (1450,), spike_train_bin2 (1450,)\n",
      "spike_train_bin1_idx [  22   40   74  105  111  129  165  181  206  214  243  278  305  319\n",
      "  330  346  375  402  459  494  517  546  565  582  655  744  802  858\n",
      "  885  955  988 1056 1242 1272 1303 1322 1351 1386 1398 1418 1440]\n",
      "spike_train_bin2_idx [   8   40   72   90  124  155  161  179  215  231  256  264  293  328\n",
      "  355  369  380  396  425  452  509  544  567  596  615  632  705  794\n",
      "  852  908  935 1005 1038 1106 1292 1322 1353 1372 1401 1436 1448]\n",
      "[  22   40   74  105  111  129  165  181  206  214  243  278  305  319\n",
      "  330  346  375  402  459  494  517  546  565  582  655  744  802  858\n",
      "  885  955  988 1056 1242 1272 1303 1322 1351 1386 1398 1418 1440] ms\n",
      "[   8   40   72   90  124  155  161  179  215  231  256  264  293  328\n",
      "  355  369  380  396  425  452  509  544  567  596  615  632  705  794\n",
      "  852  908  935 1005 1038 1106 1292 1322 1353 1372 1401 1436 1448] ms\n",
      "spike_train_bin1 (1400,), spike_train_bin2 (1400,)\n",
      "spike_train_bin1_idx [  24   55   61   79  115  131  156  164  193  228  255  269  280  296\n",
      "  325  352  409  444  467  496  515  532  605  694  752  808  835  905\n",
      "  938 1006 1192 1222 1253 1272 1301 1336 1348 1368 1390]\n",
      "spike_train_bin2_idx [   8   40   72   90  124  155  161  179  215  231  256  264  293  328\n",
      "  355  369  380  396  425  452  509  544  567  596  615  632  705  794\n",
      "  852  908  935 1005 1038 1106 1292 1322 1353 1372]\n",
      "[  24   55   61   79  115  131  156  164  193  228  255  269  280  296\n",
      "  325  352  409  444  467  496  515  532  605  694  752  808  835  905\n",
      "  938 1006 1192 1222 1253 1272 1301 1336 1348 1368 1390] ms\n",
      "[   8   40   72   90  124  155  161  179  215  231  256  264  293  328\n",
      "  355  369  380  396  425  452  509  544  567  596  615  632  705  794\n",
      "  852  908  935 1005 1038 1106 1292 1322 1353 1372] ms\n",
      "spike_train_bin1 (1350,), spike_train_bin2 (1350,)\n",
      "spike_train_bin1_idx [   5   11   29   65   81  106  114  143  178  205  219  230  246  275\n",
      "  302  359  394  417  446  465  482  555  644  702  758  785  855  888\n",
      "  956 1142 1172 1203 1222 1251 1286 1298 1318 1340]\n",
      "spike_train_bin2_idx [   8   40   72   90  124  155  161  179  215  231  256  264  293  328\n",
      "  355  369  380  396  425  452  509  544  567  596  615  632  705  794\n",
      "  852  908  935 1005 1038 1106 1292 1322]\n",
      "[   5   11   29   65   81  106  114  143  178  205  219  230  246  275\n",
      "  302  359  394  417  446  465  482  555  644  702  758  785  855  888\n",
      "  956 1142 1172 1203 1222 1251 1286 1298 1318 1340] ms\n",
      "[   8   40   72   90  124  155  161  179  215  231  256  264  293  328\n",
      "  355  369  380  396  425  452  509  544  567  596  615  632  705  794\n",
      "  852  908  935 1005 1038 1106 1292 1322] ms\n",
      "spike_train_bin1 (1300,), spike_train_bin2 (1300,)\n",
      "spike_train_bin1_idx [  15   31   56   64   93  128  155  169  180  196  225  252  309  344\n",
      "  367  396  415  432  505  594  652  708  735  805  838  906 1092 1122\n",
      " 1153 1172 1201 1236 1248 1268 1290]\n",
      "spike_train_bin2_idx [   8   40   72   90  124  155  161  179  215  231  256  264  293  328\n",
      "  355  369  380  396  425  452  509  544  567  596  615  632  705  794\n",
      "  852  908  935 1005 1038 1106 1292]\n",
      "[  15   31   56   64   93  128  155  169  180  196  225  252  309  344\n",
      "  367  396  415  432  505  594  652  708  735  805  838  906 1092 1122\n",
      " 1153 1172 1201 1236 1248 1268 1290] ms\n",
      "[   8   40   72   90  124  155  161  179  215  231  256  264  293  328\n",
      "  355  369  380  396  425  452  509  544  567  596  615  632  705  794\n",
      "  852  908  935 1005 1038 1106 1292] ms\n",
      "spike_train_bin1 (1250,), spike_train_bin2 (1250,)\n",
      "spike_train_bin1_idx [   6   14   43   78  105  119  130  146  175  202  259  294  317  346\n",
      "  365  382  455  544  602  658  685  755  788  856 1042 1072 1103 1122\n",
      " 1151 1186 1198 1218 1240]\n",
      "spike_train_bin2_idx [   8   40   72   90  124  155  161  179  215  231  256  264  293  328\n",
      "  355  369  380  396  425  452  509  544  567  596  615  632  705  794\n",
      "  852  908  935 1005 1038 1106]\n",
      "[   6   14   43   78  105  119  130  146  175  202  259  294  317  346\n",
      "  365  382  455  544  602  658  685  755  788  856 1042 1072 1103 1122\n",
      " 1151 1186 1198 1218 1240] ms\n",
      "[   8   40   72   90  124  155  161  179  215  231  256  264  293  328\n",
      "  355  369  380  396  425  452  509  544  567  596  615  632  705  794\n",
      "  852  908  935 1005 1038 1106] ms\n",
      "spike_train_bin1 (1200,), spike_train_bin2 (1200,)\n",
      "spike_train_bin1_idx [  28   55   69   80   96  125  152  209  244  267  296  315  332  405\n",
      "  494  552  608  635  705  738  806  992 1022 1053 1072 1101 1136 1148\n",
      " 1168 1190]\n",
      "spike_train_bin2_idx [   8   40   72   90  124  155  161  179  215  231  256  264  293  328\n",
      "  355  369  380  396  425  452  509  544  567  596  615  632  705  794\n",
      "  852  908  935 1005 1038 1106]\n",
      "[  28   55   69   80   96  125  152  209  244  267  296  315  332  405\n",
      "  494  552  608  635  705  738  806  992 1022 1053 1072 1101 1136 1148\n",
      " 1168 1190] ms\n",
      "[   8   40   72   90  124  155  161  179  215  231  256  264  293  328\n",
      "  355  369  380  396  425  452  509  544  567  596  615  632  705  794\n",
      "  852  908  935 1005 1038 1106] ms\n",
      "spike_train_bin1 (1150,), spike_train_bin2 (1150,)\n",
      "spike_train_bin1_idx [   5   19   30   46   75  102  159  194  217  246  265  282  355  444\n",
      "  502  558  585  655  688  756  942  972 1003 1022 1051 1086 1098 1118\n",
      " 1140]\n",
      "spike_train_bin2_idx [   8   40   72   90  124  155  161  179  215  231  256  264  293  328\n",
      "  355  369  380  396  425  452  509  544  567  596  615  632  705  794\n",
      "  852  908  935 1005 1038 1106]\n",
      "[   5   19   30   46   75  102  159  194  217  246  265  282  355  444\n",
      "  502  558  585  655  688  756  942  972 1003 1022 1051 1086 1098 1118\n",
      " 1140] ms\n",
      "[   8   40   72   90  124  155  161  179  215  231  256  264  293  328\n",
      "  355  369  380  396  425  452  509  544  567  596  615  632  705  794\n",
      "  852  908  935 1005 1038 1106] ms\n",
      "spike_train_bin1 (1100,), spike_train_bin2 (1100,)\n",
      "spike_train_bin1_idx [  25   52  109  144  167  196  215  232  305  394  452  508  535  605\n",
      "  638  706  892  922  953  972 1001 1036 1048 1068 1090]\n",
      "spike_train_bin2_idx [   8   40   72   90  124  155  161  179  215  231  256  264  293  328\n",
      "  355  369  380  396  425  452  509  544  567  596  615  632  705  794\n",
      "  852  908  935 1005 1038]\n",
      "[  25   52  109  144  167  196  215  232  305  394  452  508  535  605\n",
      "  638  706  892  922  953  972 1001 1036 1048 1068 1090] ms\n",
      "[   8   40   72   90  124  155  161  179  215  231  256  264  293  328\n",
      "  355  369  380  396  425  452  509  544  567  596  615  632  705  794\n",
      "  852  908  935 1005 1038] ms\n",
      "spike_train_bin1 (1050,), spike_train_bin2 (1050,)\n",
      "spike_train_bin1_idx [   2   59   94  117  146  165  182  255  344  402  458  485  555  588\n",
      "  656  842  872  903  922  951  986  998 1018 1040]\n",
      "spike_train_bin2_idx [   8   40   72   90  124  155  161  179  215  231  256  264  293  328\n",
      "  355  369  380  396  425  452  509  544  567  596  615  632  705  794\n",
      "  852  908  935 1005 1038]\n",
      "[   2   59   94  117  146  165  182  255  344  402  458  485  555  588\n",
      "  656  842  872  903  922  951  986  998 1018 1040] ms\n",
      "[   8   40   72   90  124  155  161  179  215  231  256  264  293  328\n",
      "  355  369  380  396  425  452  509  544  567  596  615  632  705  794\n",
      "  852  908  935 1005 1038] ms\n",
      "spike_train_bin1 (1000,), spike_train_bin2 (1000,)\n",
      "spike_train_bin1_idx [  9  44  67  96 115 132 205 294 352 408 435 505 538 606 792 822 853 872\n",
      " 901 936 948 968 990]\n",
      "spike_train_bin2_idx [  8  40  72  90 124 155 161 179 215 231 256 264 293 328 355 369 380 396\n",
      " 425 452 509 544 567 596 615 632 705 794 852 908 935]\n",
      "[  9  44  67  96 115 132 205 294 352 408 435 505 538 606 792 822 853 872\n",
      " 901 936 948 968 990] ms\n",
      "[  8  40  72  90 124 155 161 179 215 231 256 264 293 328 355 369 380 396\n",
      " 425 452 509 544 567 596 615 632 705 794 852 908 935] ms\n"
     ]
    }
   ],
   "source": [
    "n_lags = 10\n",
    "acf_lag_ms = 50\n",
    "sttc_lag_ms = 25\n",
    "rec_length = 1500\n",
    "\n",
    "sttc_self_my = calculate_acf_sttc_t(time_series, n_lags, acf_lag_ms, sttc_lag_ms, rec_length, verbose=True)"
   ]
  },
  {
   "cell_type": "code",
   "execution_count": 66,
   "id": "a6f6b65f-f1a1-4bd2-a378-309ff998fc2b",
   "metadata": {},
   "outputs": [
    {
     "data": {
      "text/plain": [
       "[1.0,\n",
       " 0.5146294094714979,\n",
       " 0.24375708296366824,\n",
       " 0.006421749416236072,\n",
       " 0.12696291030852697,\n",
       " -0.06538243355217045,\n",
       " -0.0071456759499379865,\n",
       " 0.10821413591107674,\n",
       " 0.08513996833946116,\n",
       " 0.6298007391933151,\n",
       " -0.058762788935202745]"
      ]
     },
     "execution_count": 66,
     "metadata": {},
     "output_type": "execute_result"
    }
   ],
   "source": [
    "sttc_self_my"
   ]
  },
  {
   "cell_type": "code",
   "execution_count": 67,
   "id": "f031892e-9c90-43ed-a72c-58fe2f8aae53",
   "metadata": {},
   "outputs": [
    {
     "data": {
      "image/png": "[encoded data removed]",
      "text/plain": [
       "<Figure size 600x400 with 1 Axes>"
      ]
     },
     "metadata": {},
     "output_type": "display_data"
    }
   ],
   "source": [
    "fig, axes = plt.subplots(1,1, figsize=(6,4))\n",
    "\n",
    "t_lags = np.linspace(0,10,10+1)\n",
    "\n",
    "axes.plot(t_lags, sttc_self_my, label='my sttc')\n",
    "\n",
    "axes.legend(frameon=False)\n",
    "\n",
    "sns.despine()"
   ]
  }
 ],
 "metadata": {
  "kernelspec": {
   "display_name": "Python 3 (ipykernel)",
   "language": "python",
   "name": "python3"
  },
  "language_info": {
   "codemirror_mode": {
    "name": "ipython",
    "version": 3
   },
   "file_extension": ".py",
   "mimetype": "text/x-python",
   "name": "python",
   "nbconvert_exporter": "python",
   "pygments_lexer": "ipython3",
   "version": "3.12.3"
  }
 },
 "nbformat": 4,
 "nbformat_minor": 5
}
