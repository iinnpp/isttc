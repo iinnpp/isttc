{
 "cells": [
  {
   "cell_type": "code",
   "execution_count": 2,
   "id": "2b488b58-9644-49da-b2da-84ae662a8288",
   "metadata": {},
   "outputs": [],
   "source": [
    "import pandas as pd\n",
    "import numpy as np\n",
    "import csv\n",
    "from scipy.stats import pearsonr\n",
    "from statsmodels.tsa.stattools import acf\n",
    "import matplotlib.pyplot as plt\n",
    "import seaborn as sns"
   ]
  },
  {
   "cell_type": "code",
   "execution_count": 3,
   "id": "2a0aa477-b443-440e-b38c-da0f448f7f81",
   "metadata": {},
   "outputs": [
    {
     "name": "stdout",
     "output_type": "stream",
     "text": [
      "N spike_trains in PFdl fixON 33018\n"
     ]
    }
   ],
   "source": [
    "#results_folder = 'Q:\\\\Personal\\\\Irina\\\\projects\\\\isttc\\\\results\\\\monkey\\\\'\n",
    "results_folder = 'D:\\\\projects_q_30_10_2024\\\\isttc\\\\results\\\\monkey\\\\'\n",
    "\n",
    "csv_data_file_pfdl = results_folder + 'data_pfdl_fixon_1500ms_fixation_binned_50ms.csv'\n",
    "with open(csv_data_file_pfdl, newline='') as f:\n",
    "    reader = csv.reader(f)\n",
    "    sua_list_pfdl = list(reader)\n",
    "    \n",
    "n_spike_trains_pfdl = len(sua_list_pfdl)\n",
    "print('N spike_trains in PFdl fixON {}'.format(n_spike_trains_pfdl))"
   ]
  },
  {
   "cell_type": "code",
   "execution_count": 4,
   "id": "7cf6f548-d32d-4642-bfdd-272fb3e6e301",
   "metadata": {},
   "outputs": [
    {
     "name": "stdout",
     "output_type": "stream",
     "text": [
      "(33018, 33)\n"
     ]
    },
    {
     "data": {
      "text/html": [
       "<div>\n",
       "<style scoped>\n",
       "    .dataframe tbody tr th:only-of-type {\n",
       "        vertical-align: middle;\n",
       "    }\n",
       "\n",
       "    .dataframe tbody tr th {\n",
       "        vertical-align: top;\n",
       "    }\n",
       "\n",
       "    .dataframe thead th {\n",
       "        text-align: right;\n",
       "    }\n",
       "</style>\n",
       "<table border=\"1\" class=\"dataframe\">\n",
       "  <thead>\n",
       "    <tr style=\"text-align: right;\">\n",
       "      <th></th>\n",
       "      <th>unit_id</th>\n",
       "      <th>trial_id</th>\n",
       "      <th>condition_id</th>\n",
       "      <th>bin_0</th>\n",
       "      <th>bin_1</th>\n",
       "      <th>bin_2</th>\n",
       "      <th>bin_3</th>\n",
       "      <th>bin_4</th>\n",
       "      <th>bin_5</th>\n",
       "      <th>bin_6</th>\n",
       "      <th>...</th>\n",
       "      <th>bin_20</th>\n",
       "      <th>bin_21</th>\n",
       "      <th>bin_22</th>\n",
       "      <th>bin_23</th>\n",
       "      <th>bin_24</th>\n",
       "      <th>bin_25</th>\n",
       "      <th>bin_26</th>\n",
       "      <th>bin_27</th>\n",
       "      <th>bin_28</th>\n",
       "      <th>bin_29</th>\n",
       "    </tr>\n",
       "  </thead>\n",
       "  <tbody>\n",
       "    <tr>\n",
       "      <th>0</th>\n",
       "      <td>0</td>\n",
       "      <td>0</td>\n",
       "      <td>0</td>\n",
       "      <td>1</td>\n",
       "      <td>1</td>\n",
       "      <td>0</td>\n",
       "      <td>0</td>\n",
       "      <td>3</td>\n",
       "      <td>0</td>\n",
       "      <td>1</td>\n",
       "      <td>...</td>\n",
       "      <td>0</td>\n",
       "      <td>0</td>\n",
       "      <td>1</td>\n",
       "      <td>0</td>\n",
       "      <td>0</td>\n",
       "      <td>0</td>\n",
       "      <td>0</td>\n",
       "      <td>3</td>\n",
       "      <td>1</td>\n",
       "      <td>0</td>\n",
       "    </tr>\n",
       "    <tr>\n",
       "      <th>1</th>\n",
       "      <td>0</td>\n",
       "      <td>1</td>\n",
       "      <td>0</td>\n",
       "      <td>1</td>\n",
       "      <td>1</td>\n",
       "      <td>1</td>\n",
       "      <td>1</td>\n",
       "      <td>0</td>\n",
       "      <td>1</td>\n",
       "      <td>0</td>\n",
       "      <td>...</td>\n",
       "      <td>0</td>\n",
       "      <td>0</td>\n",
       "      <td>1</td>\n",
       "      <td>0</td>\n",
       "      <td>0</td>\n",
       "      <td>0</td>\n",
       "      <td>0</td>\n",
       "      <td>0</td>\n",
       "      <td>2</td>\n",
       "      <td>1</td>\n",
       "    </tr>\n",
       "    <tr>\n",
       "      <th>2</th>\n",
       "      <td>0</td>\n",
       "      <td>2</td>\n",
       "      <td>0</td>\n",
       "      <td>1</td>\n",
       "      <td>0</td>\n",
       "      <td>0</td>\n",
       "      <td>1</td>\n",
       "      <td>0</td>\n",
       "      <td>0</td>\n",
       "      <td>0</td>\n",
       "      <td>...</td>\n",
       "      <td>1</td>\n",
       "      <td>2</td>\n",
       "      <td>1</td>\n",
       "      <td>0</td>\n",
       "      <td>1</td>\n",
       "      <td>0</td>\n",
       "      <td>1</td>\n",
       "      <td>1</td>\n",
       "      <td>0</td>\n",
       "      <td>1</td>\n",
       "    </tr>\n",
       "    <tr>\n",
       "      <th>3</th>\n",
       "      <td>0</td>\n",
       "      <td>3</td>\n",
       "      <td>0</td>\n",
       "      <td>0</td>\n",
       "      <td>2</td>\n",
       "      <td>2</td>\n",
       "      <td>3</td>\n",
       "      <td>1</td>\n",
       "      <td>1</td>\n",
       "      <td>4</td>\n",
       "      <td>...</td>\n",
       "      <td>3</td>\n",
       "      <td>2</td>\n",
       "      <td>1</td>\n",
       "      <td>2</td>\n",
       "      <td>1</td>\n",
       "      <td>3</td>\n",
       "      <td>3</td>\n",
       "      <td>1</td>\n",
       "      <td>1</td>\n",
       "      <td>0</td>\n",
       "    </tr>\n",
       "    <tr>\n",
       "      <th>4</th>\n",
       "      <td>0</td>\n",
       "      <td>4</td>\n",
       "      <td>0</td>\n",
       "      <td>0</td>\n",
       "      <td>0</td>\n",
       "      <td>1</td>\n",
       "      <td>0</td>\n",
       "      <td>1</td>\n",
       "      <td>0</td>\n",
       "      <td>0</td>\n",
       "      <td>...</td>\n",
       "      <td>0</td>\n",
       "      <td>1</td>\n",
       "      <td>0</td>\n",
       "      <td>0</td>\n",
       "      <td>0</td>\n",
       "      <td>1</td>\n",
       "      <td>0</td>\n",
       "      <td>0</td>\n",
       "      <td>0</td>\n",
       "      <td>0</td>\n",
       "    </tr>\n",
       "    <tr>\n",
       "      <th>...</th>\n",
       "      <td>...</td>\n",
       "      <td>...</td>\n",
       "      <td>...</td>\n",
       "      <td>...</td>\n",
       "      <td>...</td>\n",
       "      <td>...</td>\n",
       "      <td>...</td>\n",
       "      <td>...</td>\n",
       "      <td>...</td>\n",
       "      <td>...</td>\n",
       "      <td>...</td>\n",
       "      <td>...</td>\n",
       "      <td>...</td>\n",
       "      <td>...</td>\n",
       "      <td>...</td>\n",
       "      <td>...</td>\n",
       "      <td>...</td>\n",
       "      <td>...</td>\n",
       "      <td>...</td>\n",
       "      <td>...</td>\n",
       "      <td>...</td>\n",
       "    </tr>\n",
       "    <tr>\n",
       "      <th>33013</th>\n",
       "      <td>543</td>\n",
       "      <td>4</td>\n",
       "      <td>0</td>\n",
       "      <td>0</td>\n",
       "      <td>0</td>\n",
       "      <td>0</td>\n",
       "      <td>0</td>\n",
       "      <td>0</td>\n",
       "      <td>0</td>\n",
       "      <td>0</td>\n",
       "      <td>...</td>\n",
       "      <td>0</td>\n",
       "      <td>0</td>\n",
       "      <td>1</td>\n",
       "      <td>0</td>\n",
       "      <td>0</td>\n",
       "      <td>0</td>\n",
       "      <td>0</td>\n",
       "      <td>0</td>\n",
       "      <td>0</td>\n",
       "      <td>0</td>\n",
       "    </tr>\n",
       "    <tr>\n",
       "      <th>33014</th>\n",
       "      <td>543</td>\n",
       "      <td>15</td>\n",
       "      <td>3</td>\n",
       "      <td>0</td>\n",
       "      <td>0</td>\n",
       "      <td>0</td>\n",
       "      <td>0</td>\n",
       "      <td>0</td>\n",
       "      <td>0</td>\n",
       "      <td>0</td>\n",
       "      <td>...</td>\n",
       "      <td>0</td>\n",
       "      <td>0</td>\n",
       "      <td>0</td>\n",
       "      <td>0</td>\n",
       "      <td>0</td>\n",
       "      <td>0</td>\n",
       "      <td>0</td>\n",
       "      <td>1</td>\n",
       "      <td>1</td>\n",
       "      <td>0</td>\n",
       "    </tr>\n",
       "    <tr>\n",
       "      <th>33015</th>\n",
       "      <td>543</td>\n",
       "      <td>18</td>\n",
       "      <td>4</td>\n",
       "      <td>1</td>\n",
       "      <td>0</td>\n",
       "      <td>0</td>\n",
       "      <td>0</td>\n",
       "      <td>0</td>\n",
       "      <td>0</td>\n",
       "      <td>0</td>\n",
       "      <td>...</td>\n",
       "      <td>0</td>\n",
       "      <td>0</td>\n",
       "      <td>0</td>\n",
       "      <td>0</td>\n",
       "      <td>0</td>\n",
       "      <td>0</td>\n",
       "      <td>0</td>\n",
       "      <td>0</td>\n",
       "      <td>0</td>\n",
       "      <td>0</td>\n",
       "    </tr>\n",
       "    <tr>\n",
       "      <th>33016</th>\n",
       "      <td>543</td>\n",
       "      <td>19</td>\n",
       "      <td>4</td>\n",
       "      <td>0</td>\n",
       "      <td>1</td>\n",
       "      <td>1</td>\n",
       "      <td>0</td>\n",
       "      <td>0</td>\n",
       "      <td>0</td>\n",
       "      <td>0</td>\n",
       "      <td>...</td>\n",
       "      <td>0</td>\n",
       "      <td>0</td>\n",
       "      <td>0</td>\n",
       "      <td>0</td>\n",
       "      <td>0</td>\n",
       "      <td>0</td>\n",
       "      <td>0</td>\n",
       "      <td>0</td>\n",
       "      <td>0</td>\n",
       "      <td>0</td>\n",
       "    </tr>\n",
       "    <tr>\n",
       "      <th>33017</th>\n",
       "      <td>543</td>\n",
       "      <td>43</td>\n",
       "      <td>7</td>\n",
       "      <td>0</td>\n",
       "      <td>0</td>\n",
       "      <td>0</td>\n",
       "      <td>0</td>\n",
       "      <td>0</td>\n",
       "      <td>0</td>\n",
       "      <td>0</td>\n",
       "      <td>...</td>\n",
       "      <td>0</td>\n",
       "      <td>0</td>\n",
       "      <td>0</td>\n",
       "      <td>0</td>\n",
       "      <td>0</td>\n",
       "      <td>0</td>\n",
       "      <td>0</td>\n",
       "      <td>0</td>\n",
       "      <td>0</td>\n",
       "      <td>0</td>\n",
       "    </tr>\n",
       "  </tbody>\n",
       "</table>\n",
       "<p>33018 rows × 33 columns</p>\n",
       "</div>"
      ],
      "text/plain": [
       "       unit_id  trial_id  condition_id  bin_0  bin_1  bin_2  bin_3  bin_4  \\\n",
       "0            0         0             0      1      1      0      0      3   \n",
       "1            0         1             0      1      1      1      1      0   \n",
       "2            0         2             0      1      0      0      1      0   \n",
       "3            0         3             0      0      2      2      3      1   \n",
       "4            0         4             0      0      0      1      0      1   \n",
       "...        ...       ...           ...    ...    ...    ...    ...    ...   \n",
       "33013      543         4             0      0      0      0      0      0   \n",
       "33014      543        15             3      0      0      0      0      0   \n",
       "33015      543        18             4      1      0      0      0      0   \n",
       "33016      543        19             4      0      1      1      0      0   \n",
       "33017      543        43             7      0      0      0      0      0   \n",
       "\n",
       "       bin_5  bin_6  ...  bin_20  bin_21  bin_22  bin_23  bin_24  bin_25  \\\n",
       "0          0      1  ...       0       0       1       0       0       0   \n",
       "1          1      0  ...       0       0       1       0       0       0   \n",
       "2          0      0  ...       1       2       1       0       1       0   \n",
       "3          1      4  ...       3       2       1       2       1       3   \n",
       "4          0      0  ...       0       1       0       0       0       1   \n",
       "...      ...    ...  ...     ...     ...     ...     ...     ...     ...   \n",
       "33013      0      0  ...       0       0       1       0       0       0   \n",
       "33014      0      0  ...       0       0       0       0       0       0   \n",
       "33015      0      0  ...       0       0       0       0       0       0   \n",
       "33016      0      0  ...       0       0       0       0       0       0   \n",
       "33017      0      0  ...       0       0       0       0       0       0   \n",
       "\n",
       "       bin_26  bin_27  bin_28  bin_29  \n",
       "0           0       3       1       0  \n",
       "1           0       0       2       1  \n",
       "2           1       1       0       1  \n",
       "3           3       1       1       0  \n",
       "4           0       0       0       0  \n",
       "...       ...     ...     ...     ...  \n",
       "33013       0       0       0       0  \n",
       "33014       0       1       1       0  \n",
       "33015       0       0       0       0  \n",
       "33016       0       0       0       0  \n",
       "33017       0       0       0       0  \n",
       "\n",
       "[33018 rows x 33 columns]"
      ]
     },
     "execution_count": 4,
     "metadata": {},
     "output_type": "execute_result"
    }
   ],
   "source": [
    "# transform list to an array and to a dataframe \n",
    "sua_array_pfdl = np.array(sua_list_pfdl)\n",
    "print(sua_array_pfdl.shape)\n",
    "\n",
    "bin_cols = ['bin_' + str(i) for i in range(sua_array_pfdl.shape[1]-3)]\n",
    "sua_pfdl_df = pd.DataFrame(sua_array_pfdl, columns=['unit_id', 'trial_id','condition_id'] + bin_cols)\n",
    "sua_pfdl_df = sua_pfdl_df.astype('int')\n",
    "sua_pfdl_df"
   ]
  },
  {
   "cell_type": "code",
   "execution_count": 5,
   "id": "0481a2a1-e359-4ee6-9079-1d0b4015df80",
   "metadata": {},
   "outputs": [
    {
     "data": {
      "text/plain": [
       "543"
      ]
     },
     "execution_count": 5,
     "metadata": {},
     "output_type": "execute_result"
    }
   ],
   "source": [
    "len(sua_pfdl_df['unit_id'].unique())"
   ]
  },
  {
   "cell_type": "markdown",
   "id": "9cea7b77-6574-4e59-809b-1639ab7981ee",
   "metadata": {},
   "source": [
    "#### Plot some general plots with activity"
   ]
  },
  {
   "cell_type": "code",
   "execution_count": null,
   "id": "51b29412-9836-4c4b-955a-1c123f7a59b3",
   "metadata": {},
   "outputs": [],
   "source": [
    "# average unit activity across trails and conditions\n",
    "\n",
    "unit_average_df = sua_pfdl_df.groupby(by='unit_id', as_index=False)[bin_cols].mean()\n",
    "unit_average_df"
   ]
  },
  {
   "cell_type": "code",
   "execution_count": null,
   "id": "5e5ed9f8-a566-4d0c-aeba-f8f3096332b7",
   "metadata": {},
   "outputs": [],
   "source": [
    "sns.heatmap(unit_average_df[bin_cols].values)"
   ]
  },
  {
   "cell_type": "code",
   "execution_count": null,
   "id": "d3b42220-9090-459f-90cc-b60db0493b39",
   "metadata": {},
   "outputs": [],
   "source": [
    "fig, axes = plt.subplots(1,1, figsize=(6,4))\n",
    "\n",
    "for unit in range(len(unit_average_df)):\n",
    "    axes.plot(unit_average_df[bin_cols].values[unit, :], lw=0.5, c='k', alpha=0.2)\n",
    "\n",
    "sns.despine()"
   ]
  },
  {
   "cell_type": "markdown",
   "id": "6b91636a-0ae1-4159-81bc-e703df2b9a42",
   "metadata": {},
   "source": [
    "#### Calc acf as acf and as Pearson (per single trial and per average over trials and conditions)"
   ]
  },
  {
   "cell_type": "code",
   "execution_count": 9,
   "id": "fc1bbe30-a4ac-4779-a81b-45b54119a2fe",
   "metadata": {},
   "outputs": [],
   "source": [
    "acf_cols = ['acf_' + str(i) for i in range(11)]"
   ]
  },
  {
   "cell_type": "code",
   "execution_count": null,
   "id": "c6c7cc45-a017-4279-8871-2879d0e7a51b",
   "metadata": {},
   "outputs": [],
   "source": [
    "def my_autocorr_pearsonr(signal_, lag_=1, verbose=True):\n",
    "    # autocorrelation for 1 lag, using pearsonr from scipy\n",
    "    if verbose:\n",
    "        print('Calc for lag {}, input length {}'.format(lag_, signal_.shape))\n",
    "\n",
    "    r, p = pearsonr(signal_[lag_:], signal_[:-lag_])\n",
    "    \n",
    "    if verbose:\n",
    "        print('ac_lag {}'.format(r))\n",
    "    return r  \n",
    "\n",
    "def my_acf_pearsonr(signal_, nlags=2, verbose=True):\n",
    "    # acf\n",
    "    acf = [1] \n",
    "    for i in range(1, (nlags + 1)):\n",
    "        acf.append(my_autocorr_pearsonr(signal_, i, verbose)) \n",
    "    return np.array(acf)"
   ]
  },
  {
   "cell_type": "code",
   "execution_count": null,
   "id": "4ea5a1d6-28cf-4e96-942b-b2fbc227c362",
   "metadata": {},
   "outputs": [],
   "source": [
    "acf_proper_l = []\n",
    "\n",
    "for unit in range(len(sua_pfdl_df)):\n",
    "    acf_proper = acf(sua_pfdl_df[bin_cols].values[unit, :], nlags=10)\n",
    "    acf_proper_l.append(acf_proper)"
   ]
  },
  {
   "cell_type": "code",
   "execution_count": null,
   "id": "879d3acd-36fe-49c4-b33f-ee79fdc2c5ff",
   "metadata": {},
   "outputs": [],
   "source": [
    "acf_proper_df = pd.DataFrame(np.array(acf_proper_l), columns=acf_cols)\n",
    "acf_proper_df.insert(0, 'unit_id', sua_pfdl_df['unit_id'].values)\n",
    "acf_proper_df.insert(1, 'trial_id', sua_pfdl_df['trial_id'].values)\n",
    "acf_proper_df"
   ]
  },
  {
   "cell_type": "code",
   "execution_count": null,
   "id": "76173250-89cd-49e3-ae0e-8906002ece55",
   "metadata": {},
   "outputs": [],
   "source": [
    "acf_proper_trial_mean_l = []\n",
    "\n",
    "for unit in range(len(unit_average_df)):\n",
    "    acf_proper_trial_mean = acf(unit_average_df[bin_cols].values[unit, :], nlags=10)\n",
    "    acf_proper_trial_mean_l.append(acf_proper_trial_mean)"
   ]
  },
  {
   "cell_type": "code",
   "execution_count": null,
   "id": "6b792687-bf1a-44be-9901-ccb7e5547e46",
   "metadata": {},
   "outputs": [],
   "source": [
    "acf_proper_trial_mean_df = pd.DataFrame(np.array(acf_proper_trial_mean_l), columns=acf_cols)\n",
    "acf_proper_trial_mean_df.insert(0, 'unit_id', unit_average_df['unit_id'].values)\n",
    "acf_proper_trial_mean_df"
   ]
  },
  {
   "cell_type": "code",
   "execution_count": null,
   "id": "1ec41798-9e59-410b-9e07-e64c02ee598d",
   "metadata": {},
   "outputs": [],
   "source": [
    "fig, axes = plt.subplots(1,2, figsize=(10,4))\n",
    "\n",
    "for acf_ in range(len(acf_proper_trial_mean_df)):\n",
    "    axes[0].plot(acf_proper_trial_mean_df[acf_cols].values[acf_, :], lw=0.5, c='k', alpha=0.1)\n",
    "axes[0].plot(np.nanmean(acf_proper_trial_mean_df[acf_cols].values, axis=0), c='r', lw=0.5 ,marker='o', markersize='5')\n",
    "axes[0].axhline(y=0, lw=0.5, color='k')\n",
    "axes[0].axhline(y=1/np.e, lw=0.5, color='k')\n",
    "\n",
    "for acf_ in range(len(acf_proper_df)):\n",
    "    axes[1].plot(acf_proper_df[acf_cols].values[acf_, :], lw=0.5, c='k', alpha=0.1)\n",
    "axes[1].plot(np.nanmean(acf_proper_df[acf_cols].values, axis=0), c='r', lw=0.5 ,marker='o', markersize='5')\n",
    "axes[1].axhline(y=0, lw=0.5, color='k')\n",
    "\n",
    "sns.despine()"
   ]
  },
  {
   "cell_type": "code",
   "execution_count": null,
   "id": "804cf192-3a49-48a0-bd78-80d90c71878b",
   "metadata": {},
   "outputs": [],
   "source": [
    "acf_pearsonr_l = []\n",
    "\n",
    "for unit in range(len(sua_pfdl_df)):\n",
    "    acf_pearsonr = my_acf_pearsonr(sua_pfdl_df[bin_cols].values[unit, :], nlags=10, verbose=False)\n",
    "    acf_pearsonr_l.append(acf_pearsonr)\n",
    "\n",
    "acf_pearsonr_df = pd.DataFrame(np.array(acf_pearsonr_l), columns=acf_cols)\n",
    "acf_pearsonr_df.insert(0, 'unit_id', sua_pfdl_df['unit_id'].values)\n",
    "acf_pearsonr_df.insert(1, 'trial_id', sua_pfdl_df['trial_id'].values)\n",
    "acf_pearsonr_df"
   ]
  },
  {
   "cell_type": "code",
   "execution_count": null,
   "id": "2529d110-d40f-46ef-817c-ff6be0d9d90f",
   "metadata": {},
   "outputs": [],
   "source": [
    "acf_pearsonr_trial_mean_l = []\n",
    "\n",
    "for unit in range(len(unit_average_df)):\n",
    "    acf_pearsonr_trial_mean = my_acf_pearsonr(unit_average_df[bin_cols].values[unit, :], nlags=10, verbose=False)\n",
    "    acf_pearsonr_trial_mean_l.append(acf_pearsonr_trial_mean)\n",
    "\n",
    "acf_pearsonr_trial_mean_df = pd.DataFrame(np.array(acf_pearsonr_trial_mean_l), columns=acf_cols)\n",
    "acf_pearsonr_trial_mean_df.insert(0, 'unit_id', unit_average_df['unit_id'].values)\n",
    "acf_pearsonr_trial_mean_df"
   ]
  },
  {
   "cell_type": "code",
   "execution_count": null,
   "id": "166f0dd5-12c4-495f-97ef-3e38eadcf943",
   "metadata": {},
   "outputs": [],
   "source": [
    "fig, axes = plt.subplots(1,2, figsize=(10,4))\n",
    "\n",
    "for acf_ in range(len(acf_pearsonr_trial_mean_df)):\n",
    "    axes[0].plot(acf_pearsonr_trial_mean_df[acf_cols].values[acf_, :], lw=0.5, c='k', alpha=0.1)\n",
    "axes[0].plot(np.nanmean(acf_pearsonr_trial_mean_df[acf_cols].values, axis=0), c='r', lw=0.5 ,marker='o', markersize='5')\n",
    "axes[0].axhline(y=0, lw=0.5, color='k')\n",
    "axes[0].axhline(y=1/np.e, lw=0.5, color='k')\n",
    "\n",
    "for acf_ in range(len(acf_pearsonr_df)):\n",
    "    axes[1].plot(acf_pearsonr_df[acf_cols].values[acf_, :], lw=0.5, c='k', alpha=0.1)\n",
    "axes[1].plot(np.nanmean(acf_pearsonr_df[acf_cols].values, axis=0), c='r', lw=0.5 ,marker='o', markersize='5')\n",
    "axes[1].axhline(y=0, lw=0.5, color='k')\n",
    "\n",
    "sns.despine()"
   ]
  },
  {
   "cell_type": "markdown",
   "id": "7a935245-4902-4297-b8c6-d3af70f33266",
   "metadata": {},
   "source": [
    "#### Calc acf as in Siegle (they use Pearson)"
   ]
  },
  {
   "cell_type": "code",
   "execution_count": 6,
   "id": "18fce285-e42b-43b5-8f93-9b5427938421",
   "metadata": {},
   "outputs": [],
   "source": [
    "def acf_trial_pesrsonr(trials_time_series_2d, nlags_):\n",
    "    time_series_a = trials_time_series_2d[:, :nlags_]\n",
    "    nbins = time_series_a.shape[1]\n",
    "    print(nbins)\n",
    "    rsc_matrix = np.zeros((nbins, nbins))\n",
    "\n",
    "    for i in np.arange(nbins-1):\n",
    "        for j in np.arange(i+1, nbins): # filling i-th row\n",
    "            r, p = pearsonr(time_series_a[:,i], time_series_a[:,j], ) # todo here use sttc - do not think that I can do that\n",
    "            rsc_matrix[i, j] = r\n",
    "    np.fill_diagonal(rsc_matrix, 1)\n",
    "            \n",
    "    acf_average = np.zeros((nbins,))\n",
    "    for i in range(nbins):\n",
    "        acf_average[i] = np.nanmean(np.diag(rsc_matrix, k=i))\n",
    "                \n",
    "    return rsc_matrix, acf_average"
   ]
  },
  {
   "cell_type": "code",
   "execution_count": 18,
   "id": "51d3ddb8-9e36-4e94-8b16-7839b5ea4d12",
   "metadata": {},
   "outputs": [
    {
     "data": {
      "text/plain": [
       "499"
      ]
     },
     "execution_count": 18,
     "metadata": {},
     "output_type": "execute_result"
    }
   ],
   "source": [
    "# get all trials for a neuron\n",
    "sua_pfdl_df_trial_counts = sua_pfdl_df.groupby(by='unit_id', as_index=False)['trial_id'].count().sort_values(by='trial_id')\n",
    "unit_id_20_trials = sua_pfdl_df_trial_counts.query('trial_id >= 20')['unit_id'].values\n",
    "len(unit_id_20_trials)"
   ]
  },
  {
   "cell_type": "code",
   "execution_count": 22,
   "id": "cec3280d-8659-424d-9767-8cbf3b6e88ca",
   "metadata": {},
   "outputs": [
    {
     "data": {
      "text/plain": [
       "543"
      ]
     },
     "execution_count": 22,
     "metadata": {},
     "output_type": "execute_result"
    }
   ],
   "source": [
    "unit_id_l = sua_pfdl_df['unit_id'].unique()\n",
    "len(unit_id_l)"
   ]
  },
  {
   "cell_type": "code",
   "execution_count": 23,
   "id": "9a9ee0f9-2003-4d11-a89a-6ac6c308a5c1",
   "metadata": {},
   "outputs": [
    {
     "name": "stdout",
     "output_type": "stream",
     "text": [
      "20\n",
      "20\n",
      "20\n"
     ]
    },
    {
     "name": "stderr",
     "output_type": "stream",
     "text": [
      "C:\\Users\\ipoch\\AppData\\Local\\Temp\\ipykernel_38036\\1577713764.py:9: ConstantInputWarning: An input array is constant; the correlation coefficient is not defined.\n",
      "  r, p = pearsonr(time_series_a[:,i], time_series_a[:,j], ) # todo here use sttc - do not think that I can do that\n",
      "C:\\Users\\ipoch\\AppData\\Local\\Temp\\ipykernel_38036\\1577713764.py:15: RuntimeWarning: Mean of empty slice\n",
      "  acf_average[i] = np.nanmean(np.diag(rsc_matrix, k=i))\n",
      "C:\\Users\\ipoch\\AppData\\Local\\Temp\\ipykernel_38036\\1577713764.py:9: ConstantInputWarning: An input array is constant; the correlation coefficient is not defined.\n",
      "  r, p = pearsonr(time_series_a[:,i], time_series_a[:,j], ) # todo here use sttc - do not think that I can do that\n"
     ]
    },
    {
     "name": "stdout",
     "output_type": "stream",
     "text": [
      "20\n",
      "20\n",
      "20\n",
      "20\n",
      "20\n",
      "20\n",
      "20\n",
      "20\n",
      "20\n",
      "20\n",
      "20\n",
      "20\n",
      "20\n"
     ]
    },
    {
     "name": "stderr",
     "output_type": "stream",
     "text": [
      "C:\\Users\\ipoch\\AppData\\Local\\Temp\\ipykernel_38036\\1577713764.py:9: ConstantInputWarning: An input array is constant; the correlation coefficient is not defined.\n",
      "  r, p = pearsonr(time_series_a[:,i], time_series_a[:,j], ) # todo here use sttc - do not think that I can do that\n"
     ]
    },
    {
     "name": "stdout",
     "output_type": "stream",
     "text": [
      "20\n",
      "20\n",
      "20\n",
      "20\n"
     ]
    },
    {
     "name": "stderr",
     "output_type": "stream",
     "text": [
      "C:\\Users\\ipoch\\AppData\\Local\\Temp\\ipykernel_38036\\1577713764.py:9: ConstantInputWarning: An input array is constant; the correlation coefficient is not defined.\n",
      "  r, p = pearsonr(time_series_a[:,i], time_series_a[:,j], ) # todo here use sttc - do not think that I can do that\n"
     ]
    },
    {
     "name": "stdout",
     "output_type": "stream",
     "text": [
      "20\n",
      "20\n",
      "20\n",
      "20\n",
      "20\n",
      "20\n",
      "20\n"
     ]
    },
    {
     "name": "stderr",
     "output_type": "stream",
     "text": [
      "C:\\Users\\ipoch\\AppData\\Local\\Temp\\ipykernel_38036\\1577713764.py:9: ConstantInputWarning: An input array is constant; the correlation coefficient is not defined.\n",
      "  r, p = pearsonr(time_series_a[:,i], time_series_a[:,j], ) # todo here use sttc - do not think that I can do that\n",
      "C:\\Users\\ipoch\\AppData\\Local\\Temp\\ipykernel_38036\\1577713764.py:15: RuntimeWarning: Mean of empty slice\n",
      "  acf_average[i] = np.nanmean(np.diag(rsc_matrix, k=i))\n",
      "C:\\Users\\ipoch\\AppData\\Local\\Temp\\ipykernel_38036\\1577713764.py:9: ConstantInputWarning: An input array is constant; the correlation coefficient is not defined.\n",
      "  r, p = pearsonr(time_series_a[:,i], time_series_a[:,j], ) # todo here use sttc - do not think that I can do that\n",
      "C:\\Users\\ipoch\\AppData\\Local\\Temp\\ipykernel_38036\\1577713764.py:15: RuntimeWarning: Mean of empty slice\n",
      "  acf_average[i] = np.nanmean(np.diag(rsc_matrix, k=i))\n"
     ]
    },
    {
     "name": "stdout",
     "output_type": "stream",
     "text": [
      "20\n",
      "20\n",
      "20\n"
     ]
    },
    {
     "name": "stderr",
     "output_type": "stream",
     "text": [
      "C:\\Users\\ipoch\\AppData\\Local\\Temp\\ipykernel_38036\\1577713764.py:9: ConstantInputWarning: An input array is constant; the correlation coefficient is not defined.\n",
      "  r, p = pearsonr(time_series_a[:,i], time_series_a[:,j], ) # todo here use sttc - do not think that I can do that\n",
      "C:\\Users\\ipoch\\AppData\\Local\\Temp\\ipykernel_38036\\1577713764.py:15: RuntimeWarning: Mean of empty slice\n",
      "  acf_average[i] = np.nanmean(np.diag(rsc_matrix, k=i))\n"
     ]
    },
    {
     "name": "stdout",
     "output_type": "stream",
     "text": [
      "20\n",
      "20\n",
      "20\n",
      "20\n",
      "20\n",
      "20\n"
     ]
    },
    {
     "name": "stderr",
     "output_type": "stream",
     "text": [
      "C:\\Users\\ipoch\\AppData\\Local\\Temp\\ipykernel_38036\\1577713764.py:9: ConstantInputWarning: An input array is constant; the correlation coefficient is not defined.\n",
      "  r, p = pearsonr(time_series_a[:,i], time_series_a[:,j], ) # todo here use sttc - do not think that I can do that\n"
     ]
    },
    {
     "name": "stdout",
     "output_type": "stream",
     "text": [
      "20\n",
      "20\n",
      "20\n",
      "20\n",
      "20\n",
      "20\n",
      "20\n",
      "20\n",
      "20\n"
     ]
    },
    {
     "name": "stderr",
     "output_type": "stream",
     "text": [
      "C:\\Users\\ipoch\\AppData\\Local\\Temp\\ipykernel_38036\\1577713764.py:9: ConstantInputWarning: An input array is constant; the correlation coefficient is not defined.\n",
      "  r, p = pearsonr(time_series_a[:,i], time_series_a[:,j], ) # todo here use sttc - do not think that I can do that\n",
      "C:\\Users\\ipoch\\AppData\\Local\\Temp\\ipykernel_38036\\1577713764.py:9: ConstantInputWarning: An input array is constant; the correlation coefficient is not defined.\n",
      "  r, p = pearsonr(time_series_a[:,i], time_series_a[:,j], ) # todo here use sttc - do not think that I can do that\n"
     ]
    },
    {
     "name": "stdout",
     "output_type": "stream",
     "text": [
      "20\n",
      "20\n",
      "20\n"
     ]
    },
    {
     "name": "stderr",
     "output_type": "stream",
     "text": [
      "C:\\Users\\ipoch\\AppData\\Local\\Temp\\ipykernel_38036\\1577713764.py:9: ConstantInputWarning: An input array is constant; the correlation coefficient is not defined.\n",
      "  r, p = pearsonr(time_series_a[:,i], time_series_a[:,j], ) # todo here use sttc - do not think that I can do that\n",
      "C:\\Users\\ipoch\\AppData\\Local\\Temp\\ipykernel_38036\\1577713764.py:15: RuntimeWarning: Mean of empty slice\n",
      "  acf_average[i] = np.nanmean(np.diag(rsc_matrix, k=i))\n",
      "C:\\Users\\ipoch\\AppData\\Local\\Temp\\ipykernel_38036\\1577713764.py:9: ConstantInputWarning: An input array is constant; the correlation coefficient is not defined.\n",
      "  r, p = pearsonr(time_series_a[:,i], time_series_a[:,j], ) # todo here use sttc - do not think that I can do that\n",
      "C:\\Users\\ipoch\\AppData\\Local\\Temp\\ipykernel_38036\\1577713764.py:15: RuntimeWarning: Mean of empty slice\n",
      "  acf_average[i] = np.nanmean(np.diag(rsc_matrix, k=i))\n",
      "C:\\Users\\ipoch\\AppData\\Local\\Temp\\ipykernel_38036\\1577713764.py:9: ConstantInputWarning: An input array is constant; the correlation coefficient is not defined.\n",
      "  r, p = pearsonr(time_series_a[:,i], time_series_a[:,j], ) # todo here use sttc - do not think that I can do that\n",
      "C:\\Users\\ipoch\\AppData\\Local\\Temp\\ipykernel_38036\\1577713764.py:15: RuntimeWarning: Mean of empty slice\n",
      "  acf_average[i] = np.nanmean(np.diag(rsc_matrix, k=i))\n"
     ]
    },
    {
     "name": "stdout",
     "output_type": "stream",
     "text": [
      "20\n",
      "20\n",
      "20\n",
      "20\n",
      "20\n",
      "20\n",
      "20\n"
     ]
    },
    {
     "name": "stderr",
     "output_type": "stream",
     "text": [
      "C:\\Users\\ipoch\\AppData\\Local\\Temp\\ipykernel_38036\\1577713764.py:9: ConstantInputWarning: An input array is constant; the correlation coefficient is not defined.\n",
      "  r, p = pearsonr(time_series_a[:,i], time_series_a[:,j], ) # todo here use sttc - do not think that I can do that\n",
      "C:\\Users\\ipoch\\AppData\\Local\\Temp\\ipykernel_38036\\1577713764.py:15: RuntimeWarning: Mean of empty slice\n",
      "  acf_average[i] = np.nanmean(np.diag(rsc_matrix, k=i))\n",
      "C:\\Users\\ipoch\\AppData\\Local\\Temp\\ipykernel_38036\\1577713764.py:9: ConstantInputWarning: An input array is constant; the correlation coefficient is not defined.\n",
      "  r, p = pearsonr(time_series_a[:,i], time_series_a[:,j], ) # todo here use sttc - do not think that I can do that\n",
      "C:\\Users\\ipoch\\AppData\\Local\\Temp\\ipykernel_38036\\1577713764.py:9: ConstantInputWarning: An input array is constant; the correlation coefficient is not defined.\n",
      "  r, p = pearsonr(time_series_a[:,i], time_series_a[:,j], ) # todo here use sttc - do not think that I can do that\n"
     ]
    },
    {
     "name": "stdout",
     "output_type": "stream",
     "text": [
      "20\n",
      "20\n",
      "20\n",
      "20\n",
      "20\n",
      "20\n",
      "20\n",
      "20\n",
      "20\n",
      "20\n"
     ]
    },
    {
     "name": "stderr",
     "output_type": "stream",
     "text": [
      "C:\\Users\\ipoch\\AppData\\Local\\Temp\\ipykernel_38036\\1577713764.py:9: ConstantInputWarning: An input array is constant; the correlation coefficient is not defined.\n",
      "  r, p = pearsonr(time_series_a[:,i], time_series_a[:,j], ) # todo here use sttc - do not think that I can do that\n",
      "C:\\Users\\ipoch\\AppData\\Local\\Temp\\ipykernel_38036\\1577713764.py:15: RuntimeWarning: Mean of empty slice\n",
      "  acf_average[i] = np.nanmean(np.diag(rsc_matrix, k=i))\n",
      "C:\\Users\\ipoch\\AppData\\Local\\Temp\\ipykernel_38036\\1577713764.py:9: ConstantInputWarning: An input array is constant; the correlation coefficient is not defined.\n",
      "  r, p = pearsonr(time_series_a[:,i], time_series_a[:,j], ) # todo here use sttc - do not think that I can do that\n",
      "C:\\Users\\ipoch\\AppData\\Local\\Temp\\ipykernel_38036\\1577713764.py:15: RuntimeWarning: Mean of empty slice\n",
      "  acf_average[i] = np.nanmean(np.diag(rsc_matrix, k=i))\n"
     ]
    },
    {
     "name": "stdout",
     "output_type": "stream",
     "text": [
      "20\n",
      "20\n",
      "20\n",
      "20\n",
      "20\n",
      "20\n",
      "20\n",
      "20\n",
      "20\n",
      "20\n",
      "20\n",
      "20\n",
      "20\n",
      "20\n",
      "20\n",
      "20\n",
      "20\n",
      "20\n"
     ]
    },
    {
     "name": "stderr",
     "output_type": "stream",
     "text": [
      "C:\\Users\\ipoch\\AppData\\Local\\Temp\\ipykernel_38036\\1577713764.py:9: ConstantInputWarning: An input array is constant; the correlation coefficient is not defined.\n",
      "  r, p = pearsonr(time_series_a[:,i], time_series_a[:,j], ) # todo here use sttc - do not think that I can do that\n"
     ]
    },
    {
     "name": "stdout",
     "output_type": "stream",
     "text": [
      "20\n",
      "20\n",
      "20\n",
      "20\n",
      "20\n",
      "20\n",
      "20\n"
     ]
    },
    {
     "name": "stderr",
     "output_type": "stream",
     "text": [
      "C:\\Users\\ipoch\\AppData\\Local\\Temp\\ipykernel_38036\\1577713764.py:9: ConstantInputWarning: An input array is constant; the correlation coefficient is not defined.\n",
      "  r, p = pearsonr(time_series_a[:,i], time_series_a[:,j], ) # todo here use sttc - do not think that I can do that\n",
      "C:\\Users\\ipoch\\AppData\\Local\\Temp\\ipykernel_38036\\1577713764.py:15: RuntimeWarning: Mean of empty slice\n",
      "  acf_average[i] = np.nanmean(np.diag(rsc_matrix, k=i))\n"
     ]
    },
    {
     "name": "stdout",
     "output_type": "stream",
     "text": [
      "20\n",
      "20\n",
      "20\n",
      "20\n"
     ]
    },
    {
     "name": "stderr",
     "output_type": "stream",
     "text": [
      "C:\\Users\\ipoch\\AppData\\Local\\Temp\\ipykernel_38036\\1577713764.py:9: ConstantInputWarning: An input array is constant; the correlation coefficient is not defined.\n",
      "  r, p = pearsonr(time_series_a[:,i], time_series_a[:,j], ) # todo here use sttc - do not think that I can do that\n",
      "C:\\Users\\ipoch\\AppData\\Local\\Temp\\ipykernel_38036\\1577713764.py:15: RuntimeWarning: Mean of empty slice\n",
      "  acf_average[i] = np.nanmean(np.diag(rsc_matrix, k=i))\n"
     ]
    },
    {
     "name": "stdout",
     "output_type": "stream",
     "text": [
      "20\n",
      "20\n",
      "20\n",
      "20\n",
      "20\n",
      "20\n",
      "20\n",
      "20\n",
      "20\n",
      "20\n"
     ]
    },
    {
     "name": "stderr",
     "output_type": "stream",
     "text": [
      "C:\\Users\\ipoch\\AppData\\Local\\Temp\\ipykernel_38036\\1577713764.py:9: ConstantInputWarning: An input array is constant; the correlation coefficient is not defined.\n",
      "  r, p = pearsonr(time_series_a[:,i], time_series_a[:,j], ) # todo here use sttc - do not think that I can do that\n"
     ]
    },
    {
     "name": "stdout",
     "output_type": "stream",
     "text": [
      "20\n",
      "20\n",
      "20\n",
      "20\n",
      "20\n",
      "20\n",
      "20\n",
      "20\n",
      "20\n",
      "20\n",
      "20\n",
      "20\n",
      "20\n",
      "20\n",
      "20\n",
      "20\n",
      "20\n",
      "20\n"
     ]
    },
    {
     "name": "stderr",
     "output_type": "stream",
     "text": [
      "C:\\Users\\ipoch\\AppData\\Local\\Temp\\ipykernel_38036\\1577713764.py:9: ConstantInputWarning: An input array is constant; the correlation coefficient is not defined.\n",
      "  r, p = pearsonr(time_series_a[:,i], time_series_a[:,j], ) # todo here use sttc - do not think that I can do that\n",
      "C:\\Users\\ipoch\\AppData\\Local\\Temp\\ipykernel_38036\\1577713764.py:9: ConstantInputWarning: An input array is constant; the correlation coefficient is not defined.\n",
      "  r, p = pearsonr(time_series_a[:,i], time_series_a[:,j], ) # todo here use sttc - do not think that I can do that\n",
      "C:\\Users\\ipoch\\AppData\\Local\\Temp\\ipykernel_38036\\1577713764.py:9: ConstantInputWarning: An input array is constant; the correlation coefficient is not defined.\n",
      "  r, p = pearsonr(time_series_a[:,i], time_series_a[:,j], ) # todo here use sttc - do not think that I can do that\n"
     ]
    },
    {
     "name": "stdout",
     "output_type": "stream",
     "text": [
      "20\n",
      "20\n",
      "20\n",
      "20\n",
      "20\n",
      "20\n"
     ]
    },
    {
     "name": "stderr",
     "output_type": "stream",
     "text": [
      "C:\\Users\\ipoch\\AppData\\Local\\Temp\\ipykernel_38036\\1577713764.py:9: ConstantInputWarning: An input array is constant; the correlation coefficient is not defined.\n",
      "  r, p = pearsonr(time_series_a[:,i], time_series_a[:,j], ) # todo here use sttc - do not think that I can do that\n",
      "C:\\Users\\ipoch\\AppData\\Local\\Temp\\ipykernel_38036\\1577713764.py:9: ConstantInputWarning: An input array is constant; the correlation coefficient is not defined.\n",
      "  r, p = pearsonr(time_series_a[:,i], time_series_a[:,j], ) # todo here use sttc - do not think that I can do that\n",
      "C:\\Users\\ipoch\\AppData\\Local\\Temp\\ipykernel_38036\\1577713764.py:15: RuntimeWarning: Mean of empty slice\n",
      "  acf_average[i] = np.nanmean(np.diag(rsc_matrix, k=i))\n"
     ]
    },
    {
     "name": "stdout",
     "output_type": "stream",
     "text": [
      "20\n",
      "20\n",
      "20\n",
      "20\n",
      "20\n",
      "20\n",
      "20\n"
     ]
    },
    {
     "name": "stderr",
     "output_type": "stream",
     "text": [
      "C:\\Users\\ipoch\\AppData\\Local\\Temp\\ipykernel_38036\\1577713764.py:9: ConstantInputWarning: An input array is constant; the correlation coefficient is not defined.\n",
      "  r, p = pearsonr(time_series_a[:,i], time_series_a[:,j], ) # todo here use sttc - do not think that I can do that\n"
     ]
    },
    {
     "name": "stdout",
     "output_type": "stream",
     "text": [
      "20\n",
      "20\n",
      "20\n",
      "20\n",
      "20\n",
      "20\n"
     ]
    },
    {
     "name": "stderr",
     "output_type": "stream",
     "text": [
      "C:\\Users\\ipoch\\AppData\\Local\\Temp\\ipykernel_38036\\1577713764.py:9: ConstantInputWarning: An input array is constant; the correlation coefficient is not defined.\n",
      "  r, p = pearsonr(time_series_a[:,i], time_series_a[:,j], ) # todo here use sttc - do not think that I can do that\n"
     ]
    },
    {
     "name": "stdout",
     "output_type": "stream",
     "text": [
      "20\n",
      "20\n",
      "20\n",
      "20\n",
      "20\n",
      "20\n",
      "20\n"
     ]
    },
    {
     "name": "stderr",
     "output_type": "stream",
     "text": [
      "C:\\Users\\ipoch\\AppData\\Local\\Temp\\ipykernel_38036\\1577713764.py:9: ConstantInputWarning: An input array is constant; the correlation coefficient is not defined.\n",
      "  r, p = pearsonr(time_series_a[:,i], time_series_a[:,j], ) # todo here use sttc - do not think that I can do that\n",
      "C:\\Users\\ipoch\\AppData\\Local\\Temp\\ipykernel_38036\\1577713764.py:9: ConstantInputWarning: An input array is constant; the correlation coefficient is not defined.\n",
      "  r, p = pearsonr(time_series_a[:,i], time_series_a[:,j], ) # todo here use sttc - do not think that I can do that\n",
      "C:\\Users\\ipoch\\AppData\\Local\\Temp\\ipykernel_38036\\1577713764.py:15: RuntimeWarning: Mean of empty slice\n",
      "  acf_average[i] = np.nanmean(np.diag(rsc_matrix, k=i))\n"
     ]
    },
    {
     "name": "stdout",
     "output_type": "stream",
     "text": [
      "20\n",
      "20\n",
      "20\n",
      "20\n"
     ]
    },
    {
     "name": "stderr",
     "output_type": "stream",
     "text": [
      "C:\\Users\\ipoch\\AppData\\Local\\Temp\\ipykernel_38036\\1577713764.py:9: ConstantInputWarning: An input array is constant; the correlation coefficient is not defined.\n",
      "  r, p = pearsonr(time_series_a[:,i], time_series_a[:,j], ) # todo here use sttc - do not think that I can do that\n",
      "C:\\Users\\ipoch\\AppData\\Local\\Temp\\ipykernel_38036\\1577713764.py:15: RuntimeWarning: Mean of empty slice\n",
      "  acf_average[i] = np.nanmean(np.diag(rsc_matrix, k=i))\n",
      "C:\\Users\\ipoch\\AppData\\Local\\Temp\\ipykernel_38036\\1577713764.py:9: ConstantInputWarning: An input array is constant; the correlation coefficient is not defined.\n",
      "  r, p = pearsonr(time_series_a[:,i], time_series_a[:,j], ) # todo here use sttc - do not think that I can do that\n",
      "C:\\Users\\ipoch\\AppData\\Local\\Temp\\ipykernel_38036\\1577713764.py:9: ConstantInputWarning: An input array is constant; the correlation coefficient is not defined.\n",
      "  r, p = pearsonr(time_series_a[:,i], time_series_a[:,j], ) # todo here use sttc - do not think that I can do that\n"
     ]
    },
    {
     "name": "stdout",
     "output_type": "stream",
     "text": [
      "20\n",
      "20\n",
      "20\n",
      "20\n"
     ]
    },
    {
     "name": "stderr",
     "output_type": "stream",
     "text": [
      "C:\\Users\\ipoch\\AppData\\Local\\Temp\\ipykernel_38036\\1577713764.py:9: ConstantInputWarning: An input array is constant; the correlation coefficient is not defined.\n",
      "  r, p = pearsonr(time_series_a[:,i], time_series_a[:,j], ) # todo here use sttc - do not think that I can do that\n"
     ]
    },
    {
     "name": "stdout",
     "output_type": "stream",
     "text": [
      "20\n",
      "20\n",
      "20\n",
      "20\n",
      "20\n",
      "20\n"
     ]
    },
    {
     "name": "stderr",
     "output_type": "stream",
     "text": [
      "C:\\Users\\ipoch\\AppData\\Local\\Temp\\ipykernel_38036\\1577713764.py:9: ConstantInputWarning: An input array is constant; the correlation coefficient is not defined.\n",
      "  r, p = pearsonr(time_series_a[:,i], time_series_a[:,j], ) # todo here use sttc - do not think that I can do that\n",
      "C:\\Users\\ipoch\\AppData\\Local\\Temp\\ipykernel_38036\\1577713764.py:15: RuntimeWarning: Mean of empty slice\n",
      "  acf_average[i] = np.nanmean(np.diag(rsc_matrix, k=i))\n",
      "C:\\Users\\ipoch\\AppData\\Local\\Temp\\ipykernel_38036\\1577713764.py:9: ConstantInputWarning: An input array is constant; the correlation coefficient is not defined.\n",
      "  r, p = pearsonr(time_series_a[:,i], time_series_a[:,j], ) # todo here use sttc - do not think that I can do that\n"
     ]
    },
    {
     "name": "stdout",
     "output_type": "stream",
     "text": [
      "20\n",
      "20\n",
      "20\n",
      "20\n",
      "20\n",
      "20\n",
      "20\n",
      "20\n",
      "20\n",
      "20\n",
      "20\n",
      "20\n"
     ]
    },
    {
     "name": "stderr",
     "output_type": "stream",
     "text": [
      "C:\\Users\\ipoch\\AppData\\Local\\Temp\\ipykernel_38036\\1577713764.py:9: ConstantInputWarning: An input array is constant; the correlation coefficient is not defined.\n",
      "  r, p = pearsonr(time_series_a[:,i], time_series_a[:,j], ) # todo here use sttc - do not think that I can do that\n"
     ]
    },
    {
     "name": "stdout",
     "output_type": "stream",
     "text": [
      "20\n",
      "20\n",
      "20\n"
     ]
    },
    {
     "name": "stderr",
     "output_type": "stream",
     "text": [
      "C:\\Users\\ipoch\\AppData\\Local\\Temp\\ipykernel_38036\\1577713764.py:9: ConstantInputWarning: An input array is constant; the correlation coefficient is not defined.\n",
      "  r, p = pearsonr(time_series_a[:,i], time_series_a[:,j], ) # todo here use sttc - do not think that I can do that\n",
      "C:\\Users\\ipoch\\AppData\\Local\\Temp\\ipykernel_38036\\1577713764.py:9: ConstantInputWarning: An input array is constant; the correlation coefficient is not defined.\n",
      "  r, p = pearsonr(time_series_a[:,i], time_series_a[:,j], ) # todo here use sttc - do not think that I can do that\n"
     ]
    },
    {
     "name": "stdout",
     "output_type": "stream",
     "text": [
      "20\n",
      "20\n",
      "20\n",
      "20\n",
      "20\n",
      "20\n"
     ]
    },
    {
     "name": "stderr",
     "output_type": "stream",
     "text": [
      "C:\\Users\\ipoch\\AppData\\Local\\Temp\\ipykernel_38036\\1577713764.py:9: ConstantInputWarning: An input array is constant; the correlation coefficient is not defined.\n",
      "  r, p = pearsonr(time_series_a[:,i], time_series_a[:,j], ) # todo here use sttc - do not think that I can do that\n",
      "C:\\Users\\ipoch\\AppData\\Local\\Temp\\ipykernel_38036\\1577713764.py:9: ConstantInputWarning: An input array is constant; the correlation coefficient is not defined.\n",
      "  r, p = pearsonr(time_series_a[:,i], time_series_a[:,j], ) # todo here use sttc - do not think that I can do that\n"
     ]
    },
    {
     "name": "stdout",
     "output_type": "stream",
     "text": [
      "20\n",
      "20\n",
      "20\n",
      "20\n",
      "20\n",
      "20\n",
      "20\n",
      "20\n",
      "20\n",
      "20\n",
      "20\n",
      "20\n",
      "20\n",
      "20\n",
      "20\n",
      "20\n",
      "20\n",
      "20\n",
      "20\n",
      "20\n",
      "20\n",
      "20\n",
      "20\n"
     ]
    },
    {
     "name": "stderr",
     "output_type": "stream",
     "text": [
      "C:\\Users\\ipoch\\AppData\\Local\\Temp\\ipykernel_38036\\1577713764.py:9: ConstantInputWarning: An input array is constant; the correlation coefficient is not defined.\n",
      "  r, p = pearsonr(time_series_a[:,i], time_series_a[:,j], ) # todo here use sttc - do not think that I can do that\n",
      "C:\\Users\\ipoch\\AppData\\Local\\Temp\\ipykernel_38036\\1577713764.py:15: RuntimeWarning: Mean of empty slice\n",
      "  acf_average[i] = np.nanmean(np.diag(rsc_matrix, k=i))\n"
     ]
    },
    {
     "name": "stdout",
     "output_type": "stream",
     "text": [
      "20\n",
      "20\n",
      "20\n",
      "20\n",
      "20\n",
      "20\n"
     ]
    },
    {
     "name": "stderr",
     "output_type": "stream",
     "text": [
      "C:\\Users\\ipoch\\AppData\\Local\\Temp\\ipykernel_38036\\1577713764.py:9: ConstantInputWarning: An input array is constant; the correlation coefficient is not defined.\n",
      "  r, p = pearsonr(time_series_a[:,i], time_series_a[:,j], ) # todo here use sttc - do not think that I can do that\n",
      "C:\\Users\\ipoch\\AppData\\Local\\Temp\\ipykernel_38036\\1577713764.py:15: RuntimeWarning: Mean of empty slice\n",
      "  acf_average[i] = np.nanmean(np.diag(rsc_matrix, k=i))\n"
     ]
    },
    {
     "name": "stdout",
     "output_type": "stream",
     "text": [
      "20\n",
      "20\n",
      "20\n",
      "20\n",
      "20\n",
      "20\n"
     ]
    },
    {
     "name": "stderr",
     "output_type": "stream",
     "text": [
      "C:\\Users\\ipoch\\AppData\\Local\\Temp\\ipykernel_38036\\1577713764.py:9: ConstantInputWarning: An input array is constant; the correlation coefficient is not defined.\n",
      "  r, p = pearsonr(time_series_a[:,i], time_series_a[:,j], ) # todo here use sttc - do not think that I can do that\n",
      "C:\\Users\\ipoch\\AppData\\Local\\Temp\\ipykernel_38036\\1577713764.py:15: RuntimeWarning: Mean of empty slice\n",
      "  acf_average[i] = np.nanmean(np.diag(rsc_matrix, k=i))\n",
      "C:\\Users\\ipoch\\AppData\\Local\\Temp\\ipykernel_38036\\1577713764.py:9: ConstantInputWarning: An input array is constant; the correlation coefficient is not defined.\n",
      "  r, p = pearsonr(time_series_a[:,i], time_series_a[:,j], ) # todo here use sttc - do not think that I can do that\n"
     ]
    },
    {
     "name": "stdout",
     "output_type": "stream",
     "text": [
      "20\n",
      "20\n",
      "20\n",
      "20\n",
      "20\n",
      "20\n",
      "20\n",
      "20\n",
      "20\n"
     ]
    },
    {
     "name": "stderr",
     "output_type": "stream",
     "text": [
      "C:\\Users\\ipoch\\AppData\\Local\\Temp\\ipykernel_38036\\1577713764.py:9: ConstantInputWarning: An input array is constant; the correlation coefficient is not defined.\n",
      "  r, p = pearsonr(time_series_a[:,i], time_series_a[:,j], ) # todo here use sttc - do not think that I can do that\n",
      "C:\\Users\\ipoch\\AppData\\Local\\Temp\\ipykernel_38036\\1577713764.py:15: RuntimeWarning: Mean of empty slice\n",
      "  acf_average[i] = np.nanmean(np.diag(rsc_matrix, k=i))\n"
     ]
    },
    {
     "name": "stdout",
     "output_type": "stream",
     "text": [
      "20\n",
      "20\n",
      "20\n",
      "20\n",
      "20\n",
      "20\n",
      "20\n",
      "20\n",
      "20\n",
      "20\n",
      "20\n"
     ]
    },
    {
     "name": "stderr",
     "output_type": "stream",
     "text": [
      "C:\\Users\\ipoch\\AppData\\Local\\Temp\\ipykernel_38036\\1577713764.py:9: ConstantInputWarning: An input array is constant; the correlation coefficient is not defined.\n",
      "  r, p = pearsonr(time_series_a[:,i], time_series_a[:,j], ) # todo here use sttc - do not think that I can do that\n",
      "C:\\Users\\ipoch\\AppData\\Local\\Temp\\ipykernel_38036\\1577713764.py:15: RuntimeWarning: Mean of empty slice\n",
      "  acf_average[i] = np.nanmean(np.diag(rsc_matrix, k=i))\n"
     ]
    },
    {
     "name": "stdout",
     "output_type": "stream",
     "text": [
      "20\n",
      "20\n",
      "20\n"
     ]
    },
    {
     "name": "stderr",
     "output_type": "stream",
     "text": [
      "C:\\Users\\ipoch\\AppData\\Local\\Temp\\ipykernel_38036\\1577713764.py:9: ConstantInputWarning: An input array is constant; the correlation coefficient is not defined.\n",
      "  r, p = pearsonr(time_series_a[:,i], time_series_a[:,j], ) # todo here use sttc - do not think that I can do that\n",
      "C:\\Users\\ipoch\\AppData\\Local\\Temp\\ipykernel_38036\\1577713764.py:9: ConstantInputWarning: An input array is constant; the correlation coefficient is not defined.\n",
      "  r, p = pearsonr(time_series_a[:,i], time_series_a[:,j], ) # todo here use sttc - do not think that I can do that\n",
      "C:\\Users\\ipoch\\AppData\\Local\\Temp\\ipykernel_38036\\1577713764.py:15: RuntimeWarning: Mean of empty slice\n",
      "  acf_average[i] = np.nanmean(np.diag(rsc_matrix, k=i))\n",
      "C:\\Users\\ipoch\\AppData\\Local\\Temp\\ipykernel_38036\\1577713764.py:9: ConstantInputWarning: An input array is constant; the correlation coefficient is not defined.\n",
      "  r, p = pearsonr(time_series_a[:,i], time_series_a[:,j], ) # todo here use sttc - do not think that I can do that\n"
     ]
    },
    {
     "name": "stdout",
     "output_type": "stream",
     "text": [
      "20\n",
      "20\n",
      "20\n"
     ]
    },
    {
     "name": "stderr",
     "output_type": "stream",
     "text": [
      "C:\\Users\\ipoch\\AppData\\Local\\Temp\\ipykernel_38036\\1577713764.py:9: ConstantInputWarning: An input array is constant; the correlation coefficient is not defined.\n",
      "  r, p = pearsonr(time_series_a[:,i], time_series_a[:,j], ) # todo here use sttc - do not think that I can do that\n"
     ]
    },
    {
     "name": "stdout",
     "output_type": "stream",
     "text": [
      "20\n",
      "20\n",
      "20\n",
      "20\n",
      "20\n",
      "20\n",
      "20\n",
      "20\n",
      "20\n"
     ]
    },
    {
     "name": "stderr",
     "output_type": "stream",
     "text": [
      "C:\\Users\\ipoch\\AppData\\Local\\Temp\\ipykernel_38036\\1577713764.py:9: ConstantInputWarning: An input array is constant; the correlation coefficient is not defined.\n",
      "  r, p = pearsonr(time_series_a[:,i], time_series_a[:,j], ) # todo here use sttc - do not think that I can do that\n"
     ]
    },
    {
     "name": "stdout",
     "output_type": "stream",
     "text": [
      "20\n",
      "20\n",
      "20\n",
      "20\n",
      "20\n",
      "20\n",
      "20\n",
      "20\n",
      "20\n",
      "20\n"
     ]
    },
    {
     "name": "stderr",
     "output_type": "stream",
     "text": [
      "C:\\Users\\ipoch\\AppData\\Local\\Temp\\ipykernel_38036\\1577713764.py:9: ConstantInputWarning: An input array is constant; the correlation coefficient is not defined.\n",
      "  r, p = pearsonr(time_series_a[:,i], time_series_a[:,j], ) # todo here use sttc - do not think that I can do that\n"
     ]
    },
    {
     "name": "stdout",
     "output_type": "stream",
     "text": [
      "20\n",
      "20\n",
      "20\n"
     ]
    },
    {
     "name": "stderr",
     "output_type": "stream",
     "text": [
      "C:\\Users\\ipoch\\AppData\\Local\\Temp\\ipykernel_38036\\1577713764.py:9: ConstantInputWarning: An input array is constant; the correlation coefficient is not defined.\n",
      "  r, p = pearsonr(time_series_a[:,i], time_series_a[:,j], ) # todo here use sttc - do not think that I can do that\n",
      "C:\\Users\\ipoch\\AppData\\Local\\Temp\\ipykernel_38036\\1577713764.py:9: ConstantInputWarning: An input array is constant; the correlation coefficient is not defined.\n",
      "  r, p = pearsonr(time_series_a[:,i], time_series_a[:,j], ) # todo here use sttc - do not think that I can do that\n",
      "C:\\Users\\ipoch\\AppData\\Local\\Temp\\ipykernel_38036\\1577713764.py:15: RuntimeWarning: Mean of empty slice\n",
      "  acf_average[i] = np.nanmean(np.diag(rsc_matrix, k=i))\n"
     ]
    },
    {
     "name": "stdout",
     "output_type": "stream",
     "text": [
      "20\n",
      "20\n",
      "20\n",
      "20\n",
      "20\n",
      "20\n",
      "20\n",
      "20\n",
      "20\n",
      "20\n",
      "20\n",
      "20\n",
      "20\n"
     ]
    },
    {
     "name": "stderr",
     "output_type": "stream",
     "text": [
      "C:\\Users\\ipoch\\AppData\\Local\\Temp\\ipykernel_38036\\1577713764.py:9: ConstantInputWarning: An input array is constant; the correlation coefficient is not defined.\n",
      "  r, p = pearsonr(time_series_a[:,i], time_series_a[:,j], ) # todo here use sttc - do not think that I can do that\n"
     ]
    },
    {
     "name": "stdout",
     "output_type": "stream",
     "text": [
      "20\n",
      "20\n",
      "20\n"
     ]
    },
    {
     "name": "stderr",
     "output_type": "stream",
     "text": [
      "C:\\Users\\ipoch\\AppData\\Local\\Temp\\ipykernel_38036\\1577713764.py:9: ConstantInputWarning: An input array is constant; the correlation coefficient is not defined.\n",
      "  r, p = pearsonr(time_series_a[:,i], time_series_a[:,j], ) # todo here use sttc - do not think that I can do that\n"
     ]
    },
    {
     "name": "stdout",
     "output_type": "stream",
     "text": [
      "20\n",
      "20\n",
      "20\n",
      "20\n",
      "20\n",
      "20\n"
     ]
    },
    {
     "name": "stderr",
     "output_type": "stream",
     "text": [
      "C:\\Users\\ipoch\\AppData\\Local\\Temp\\ipykernel_38036\\1577713764.py:9: ConstantInputWarning: An input array is constant; the correlation coefficient is not defined.\n",
      "  r, p = pearsonr(time_series_a[:,i], time_series_a[:,j], ) # todo here use sttc - do not think that I can do that\n"
     ]
    },
    {
     "name": "stdout",
     "output_type": "stream",
     "text": [
      "20\n",
      "20\n",
      "20\n",
      "20\n"
     ]
    },
    {
     "name": "stderr",
     "output_type": "stream",
     "text": [
      "C:\\Users\\ipoch\\AppData\\Local\\Temp\\ipykernel_38036\\1577713764.py:9: ConstantInputWarning: An input array is constant; the correlation coefficient is not defined.\n",
      "  r, p = pearsonr(time_series_a[:,i], time_series_a[:,j], ) # todo here use sttc - do not think that I can do that\n",
      "C:\\Users\\ipoch\\AppData\\Local\\Temp\\ipykernel_38036\\1577713764.py:9: ConstantInputWarning: An input array is constant; the correlation coefficient is not defined.\n",
      "  r, p = pearsonr(time_series_a[:,i], time_series_a[:,j], ) # todo here use sttc - do not think that I can do that\n",
      "C:\\Users\\ipoch\\AppData\\Local\\Temp\\ipykernel_38036\\1577713764.py:9: ConstantInputWarning: An input array is constant; the correlation coefficient is not defined.\n",
      "  r, p = pearsonr(time_series_a[:,i], time_series_a[:,j], ) # todo here use sttc - do not think that I can do that\n",
      "C:\\Users\\ipoch\\AppData\\Local\\Temp\\ipykernel_38036\\1577713764.py:15: RuntimeWarning: Mean of empty slice\n",
      "  acf_average[i] = np.nanmean(np.diag(rsc_matrix, k=i))\n"
     ]
    },
    {
     "name": "stdout",
     "output_type": "stream",
     "text": [
      "20\n",
      "20\n",
      "20\n",
      "20\n"
     ]
    },
    {
     "name": "stderr",
     "output_type": "stream",
     "text": [
      "C:\\Users\\ipoch\\AppData\\Local\\Temp\\ipykernel_38036\\1577713764.py:9: ConstantInputWarning: An input array is constant; the correlation coefficient is not defined.\n",
      "  r, p = pearsonr(time_series_a[:,i], time_series_a[:,j], ) # todo here use sttc - do not think that I can do that\n",
      "C:\\Users\\ipoch\\AppData\\Local\\Temp\\ipykernel_38036\\1577713764.py:9: ConstantInputWarning: An input array is constant; the correlation coefficient is not defined.\n",
      "  r, p = pearsonr(time_series_a[:,i], time_series_a[:,j], ) # todo here use sttc - do not think that I can do that\n",
      "C:\\Users\\ipoch\\AppData\\Local\\Temp\\ipykernel_38036\\1577713764.py:9: ConstantInputWarning: An input array is constant; the correlation coefficient is not defined.\n",
      "  r, p = pearsonr(time_series_a[:,i], time_series_a[:,j], ) # todo here use sttc - do not think that I can do that\n",
      "C:\\Users\\ipoch\\AppData\\Local\\Temp\\ipykernel_38036\\1577713764.py:15: RuntimeWarning: Mean of empty slice\n",
      "  acf_average[i] = np.nanmean(np.diag(rsc_matrix, k=i))\n"
     ]
    },
    {
     "name": "stdout",
     "output_type": "stream",
     "text": [
      "20\n",
      "20\n",
      "20\n"
     ]
    },
    {
     "name": "stderr",
     "output_type": "stream",
     "text": [
      "C:\\Users\\ipoch\\AppData\\Local\\Temp\\ipykernel_38036\\1577713764.py:9: ConstantInputWarning: An input array is constant; the correlation coefficient is not defined.\n",
      "  r, p = pearsonr(time_series_a[:,i], time_series_a[:,j], ) # todo here use sttc - do not think that I can do that\n",
      "C:\\Users\\ipoch\\AppData\\Local\\Temp\\ipykernel_38036\\1577713764.py:15: RuntimeWarning: Mean of empty slice\n",
      "  acf_average[i] = np.nanmean(np.diag(rsc_matrix, k=i))\n"
     ]
    },
    {
     "name": "stdout",
     "output_type": "stream",
     "text": [
      "20\n",
      "20\n",
      "20\n",
      "20\n"
     ]
    },
    {
     "name": "stderr",
     "output_type": "stream",
     "text": [
      "C:\\Users\\ipoch\\AppData\\Local\\Temp\\ipykernel_38036\\1577713764.py:9: ConstantInputWarning: An input array is constant; the correlation coefficient is not defined.\n",
      "  r, p = pearsonr(time_series_a[:,i], time_series_a[:,j], ) # todo here use sttc - do not think that I can do that\n",
      "C:\\Users\\ipoch\\AppData\\Local\\Temp\\ipykernel_38036\\1577713764.py:9: ConstantInputWarning: An input array is constant; the correlation coefficient is not defined.\n",
      "  r, p = pearsonr(time_series_a[:,i], time_series_a[:,j], ) # todo here use sttc - do not think that I can do that\n",
      "C:\\Users\\ipoch\\AppData\\Local\\Temp\\ipykernel_38036\\1577713764.py:15: RuntimeWarning: Mean of empty slice\n",
      "  acf_average[i] = np.nanmean(np.diag(rsc_matrix, k=i))\n",
      "C:\\Users\\ipoch\\AppData\\Local\\Temp\\ipykernel_38036\\1577713764.py:9: ConstantInputWarning: An input array is constant; the correlation coefficient is not defined.\n",
      "  r, p = pearsonr(time_series_a[:,i], time_series_a[:,j], ) # todo here use sttc - do not think that I can do that\n"
     ]
    },
    {
     "name": "stdout",
     "output_type": "stream",
     "text": [
      "20\n",
      "20\n",
      "20\n",
      "20\n",
      "20\n"
     ]
    },
    {
     "name": "stderr",
     "output_type": "stream",
     "text": [
      "C:\\Users\\ipoch\\AppData\\Local\\Temp\\ipykernel_38036\\1577713764.py:9: ConstantInputWarning: An input array is constant; the correlation coefficient is not defined.\n",
      "  r, p = pearsonr(time_series_a[:,i], time_series_a[:,j], ) # todo here use sttc - do not think that I can do that\n",
      "C:\\Users\\ipoch\\AppData\\Local\\Temp\\ipykernel_38036\\1577713764.py:15: RuntimeWarning: Mean of empty slice\n",
      "  acf_average[i] = np.nanmean(np.diag(rsc_matrix, k=i))\n"
     ]
    },
    {
     "ename": "ValueError",
     "evalue": "x and y must have length at least 2.",
     "output_type": "error",
     "traceback": [
      "\u001b[1;31m---------------------------------------------------------------------------\u001b[0m",
      "\u001b[1;31mValueError\u001b[0m                                Traceback (most recent call last)",
      "\u001b[1;32m~\\AppData\\Local\\Temp\\ipykernel_38036\\118548955.py\u001b[0m in \u001b[0;36m?\u001b[1;34m()\u001b[0m\n\u001b[0;32m      7\u001b[0m \u001b[0munit_id_calc_l\u001b[0m \u001b[1;33m=\u001b[0m \u001b[1;33m[\u001b[0m\u001b[1;33m]\u001b[0m\u001b[1;33m\u001b[0m\u001b[1;33m\u001b[0m\u001b[0m\n\u001b[0;32m      8\u001b[0m \u001b[1;33m\u001b[0m\u001b[0m\n\u001b[0;32m      9\u001b[0m \u001b[1;32mfor\u001b[0m \u001b[0munit\u001b[0m \u001b[1;32min\u001b[0m \u001b[0munit_id_l\u001b[0m\u001b[1;33m:\u001b[0m\u001b[1;33m\u001b[0m\u001b[1;33m\u001b[0m\u001b[0m\n\u001b[0;32m     10\u001b[0m     \u001b[0msua_pfdl_one_trial_df\u001b[0m \u001b[1;33m=\u001b[0m \u001b[0msua_pfdl_df\u001b[0m\u001b[1;33m.\u001b[0m\u001b[0mquery\u001b[0m\u001b[1;33m(\u001b[0m\u001b[1;34m'unit_id == @unit'\u001b[0m\u001b[1;33m)\u001b[0m\u001b[1;33m\u001b[0m\u001b[1;33m\u001b[0m\u001b[0m\n\u001b[1;32m---> 11\u001b[1;33m     \u001b[0mrsc_matrix\u001b[0m\u001b[1;33m,\u001b[0m \u001b[0macf_average\u001b[0m \u001b[1;33m=\u001b[0m \u001b[0macf_trial_pesrsonr\u001b[0m\u001b[1;33m(\u001b[0m\u001b[0msua_pfdl_one_trial_df\u001b[0m\u001b[1;33m[\u001b[0m\u001b[0mbin_cols\u001b[0m\u001b[1;33m]\u001b[0m\u001b[1;33m.\u001b[0m\u001b[0mvalues\u001b[0m\u001b[1;33m,\u001b[0m \u001b[0mnlags_\u001b[0m\u001b[1;33m)\u001b[0m\u001b[1;33m\u001b[0m\u001b[1;33m\u001b[0m\u001b[0m\n\u001b[0m\u001b[0;32m     12\u001b[0m \u001b[1;33m\u001b[0m\u001b[0m\n\u001b[0;32m     13\u001b[0m     \u001b[0macf_average_trial_pearsonr_l\u001b[0m\u001b[1;33m.\u001b[0m\u001b[0mappend\u001b[0m\u001b[1;33m(\u001b[0m\u001b[0macf_average\u001b[0m\u001b[1;33m)\u001b[0m\u001b[1;33m\u001b[0m\u001b[1;33m\u001b[0m\u001b[0m\n\u001b[0;32m     14\u001b[0m     \u001b[0mrsc_matrix_l\u001b[0m\u001b[1;33m.\u001b[0m\u001b[0mappend\u001b[0m\u001b[1;33m(\u001b[0m\u001b[0mrsc_matrix\u001b[0m\u001b[1;33m)\u001b[0m\u001b[1;33m\u001b[0m\u001b[1;33m\u001b[0m\u001b[0m\n",
      "\u001b[1;32m~\\AppData\\Local\\Temp\\ipykernel_38036\\1577713764.py\u001b[0m in \u001b[0;36m?\u001b[1;34m(trials_time_series_2d, nlags_)\u001b[0m\n\u001b[0;32m      5\u001b[0m     \u001b[0mrsc_matrix\u001b[0m \u001b[1;33m=\u001b[0m \u001b[0mnp\u001b[0m\u001b[1;33m.\u001b[0m\u001b[0mzeros\u001b[0m\u001b[1;33m(\u001b[0m\u001b[1;33m(\u001b[0m\u001b[0mnbins\u001b[0m\u001b[1;33m,\u001b[0m \u001b[0mnbins\u001b[0m\u001b[1;33m)\u001b[0m\u001b[1;33m)\u001b[0m\u001b[1;33m\u001b[0m\u001b[1;33m\u001b[0m\u001b[0m\n\u001b[0;32m      6\u001b[0m \u001b[1;33m\u001b[0m\u001b[0m\n\u001b[0;32m      7\u001b[0m     \u001b[1;32mfor\u001b[0m \u001b[0mi\u001b[0m \u001b[1;32min\u001b[0m \u001b[0mnp\u001b[0m\u001b[1;33m.\u001b[0m\u001b[0marange\u001b[0m\u001b[1;33m(\u001b[0m\u001b[0mnbins\u001b[0m\u001b[1;33m-\u001b[0m\u001b[1;36m1\u001b[0m\u001b[1;33m)\u001b[0m\u001b[1;33m:\u001b[0m\u001b[1;33m\u001b[0m\u001b[1;33m\u001b[0m\u001b[0m\n\u001b[0;32m      8\u001b[0m         \u001b[1;32mfor\u001b[0m \u001b[0mj\u001b[0m \u001b[1;32min\u001b[0m \u001b[0mnp\u001b[0m\u001b[1;33m.\u001b[0m\u001b[0marange\u001b[0m\u001b[1;33m(\u001b[0m\u001b[0mi\u001b[0m\u001b[1;33m+\u001b[0m\u001b[1;36m1\u001b[0m\u001b[1;33m,\u001b[0m \u001b[0mnbins\u001b[0m\u001b[1;33m)\u001b[0m\u001b[1;33m:\u001b[0m \u001b[1;31m# filling i-th row\u001b[0m\u001b[1;33m\u001b[0m\u001b[1;33m\u001b[0m\u001b[0m\n\u001b[1;32m----> 9\u001b[1;33m             \u001b[0mr\u001b[0m\u001b[1;33m,\u001b[0m \u001b[0mp\u001b[0m \u001b[1;33m=\u001b[0m \u001b[0mpearsonr\u001b[0m\u001b[1;33m(\u001b[0m\u001b[0mtime_series_a\u001b[0m\u001b[1;33m[\u001b[0m\u001b[1;33m:\u001b[0m\u001b[1;33m,\u001b[0m\u001b[0mi\u001b[0m\u001b[1;33m]\u001b[0m\u001b[1;33m,\u001b[0m \u001b[0mtime_series_a\u001b[0m\u001b[1;33m[\u001b[0m\u001b[1;33m:\u001b[0m\u001b[1;33m,\u001b[0m\u001b[0mj\u001b[0m\u001b[1;33m]\u001b[0m\u001b[1;33m,\u001b[0m \u001b[1;33m)\u001b[0m \u001b[1;31m# todo here use sttc - do not think that I can do that\u001b[0m\u001b[1;33m\u001b[0m\u001b[1;33m\u001b[0m\u001b[0m\n\u001b[0m\u001b[0;32m     10\u001b[0m             \u001b[0mrsc_matrix\u001b[0m\u001b[1;33m[\u001b[0m\u001b[0mi\u001b[0m\u001b[1;33m,\u001b[0m \u001b[0mj\u001b[0m\u001b[1;33m]\u001b[0m \u001b[1;33m=\u001b[0m \u001b[0mr\u001b[0m\u001b[1;33m\u001b[0m\u001b[1;33m\u001b[0m\u001b[0m\n\u001b[0;32m     11\u001b[0m     \u001b[0mnp\u001b[0m\u001b[1;33m.\u001b[0m\u001b[0mfill_diagonal\u001b[0m\u001b[1;33m(\u001b[0m\u001b[0mrsc_matrix\u001b[0m\u001b[1;33m,\u001b[0m \u001b[1;36m1\u001b[0m\u001b[1;33m)\u001b[0m\u001b[1;33m\u001b[0m\u001b[1;33m\u001b[0m\u001b[0m\n\u001b[0;32m     12\u001b[0m \u001b[1;33m\u001b[0m\u001b[0m\n",
      "\u001b[1;32m~\\anaconda3\\Lib\\site-packages\\scipy\\stats\\_stats_py.py\u001b[0m in \u001b[0;36m?\u001b[1;34m(x, y, alternative, method)\u001b[0m\n\u001b[0;32m   4720\u001b[0m     \u001b[1;32mif\u001b[0m \u001b[0mn\u001b[0m \u001b[1;33m!=\u001b[0m \u001b[0mlen\u001b[0m\u001b[1;33m(\u001b[0m\u001b[0my\u001b[0m\u001b[1;33m)\u001b[0m\u001b[1;33m:\u001b[0m\u001b[1;33m\u001b[0m\u001b[1;33m\u001b[0m\u001b[0m\n\u001b[0;32m   4721\u001b[0m         \u001b[1;32mraise\u001b[0m \u001b[0mValueError\u001b[0m\u001b[1;33m(\u001b[0m\u001b[1;34m'x and y must have the same length.'\u001b[0m\u001b[1;33m)\u001b[0m\u001b[1;33m\u001b[0m\u001b[1;33m\u001b[0m\u001b[0m\n\u001b[0;32m   4722\u001b[0m \u001b[1;33m\u001b[0m\u001b[0m\n\u001b[0;32m   4723\u001b[0m     \u001b[1;32mif\u001b[0m \u001b[0mn\u001b[0m \u001b[1;33m<\u001b[0m \u001b[1;36m2\u001b[0m\u001b[1;33m:\u001b[0m\u001b[1;33m\u001b[0m\u001b[1;33m\u001b[0m\u001b[0m\n\u001b[1;32m-> 4724\u001b[1;33m         \u001b[1;32mraise\u001b[0m \u001b[0mValueError\u001b[0m\u001b[1;33m(\u001b[0m\u001b[1;34m'x and y must have length at least 2.'\u001b[0m\u001b[1;33m)\u001b[0m\u001b[1;33m\u001b[0m\u001b[1;33m\u001b[0m\u001b[0m\n\u001b[0m\u001b[0;32m   4725\u001b[0m \u001b[1;33m\u001b[0m\u001b[0m\n\u001b[0;32m   4726\u001b[0m     \u001b[0mx\u001b[0m \u001b[1;33m=\u001b[0m \u001b[0mnp\u001b[0m\u001b[1;33m.\u001b[0m\u001b[0masarray\u001b[0m\u001b[1;33m(\u001b[0m\u001b[0mx\u001b[0m\u001b[1;33m)\u001b[0m\u001b[1;33m\u001b[0m\u001b[1;33m\u001b[0m\u001b[0m\n\u001b[0;32m   4727\u001b[0m     \u001b[0my\u001b[0m \u001b[1;33m=\u001b[0m \u001b[0mnp\u001b[0m\u001b[1;33m.\u001b[0m\u001b[0masarray\u001b[0m\u001b[1;33m(\u001b[0m\u001b[0my\u001b[0m\u001b[1;33m)\u001b[0m\u001b[1;33m\u001b[0m\u001b[1;33m\u001b[0m\u001b[0m\n",
      "\u001b[1;31mValueError\u001b[0m: x and y must have length at least 2."
     ]
    }
   ],
   "source": [
    "nlags_ = 20\n",
    "acf_average_trial_pearsonr_l = []\n",
    "rsc_matrix_l = []\n",
    "\n",
    "unit_id_l = sua_pfdl_df['unit_id'].unique()\n",
    "#unit_id_l = unit_id_20_trials\n",
    "unit_id_calc_l = []\n",
    "\n",
    "for unit in unit_id_l:\n",
    "    sua_pfdl_one_trial_df = sua_pfdl_df.query('unit_id == @unit')\n",
    "    rsc_matrix, acf_average = acf_trial_pesrsonr(sua_pfdl_one_trial_df[bin_cols].values, nlags_)\n",
    "\n",
    "    acf_average_trial_pearsonr_l.append(acf_average)\n",
    "    rsc_matrix_l.append(rsc_matrix)\n",
    "    unit_id_calc_l.append(unit)"
   ]
  },
  {
   "cell_type": "code",
   "execution_count": 24,
   "id": "4e5d96cd-de94-4cfc-b100-f21b9af61a01",
   "metadata": {},
   "outputs": [
    {
     "data": {
      "text/html": [
       "<div>\n",
       "<style scoped>\n",
       "    .dataframe tbody tr th:only-of-type {\n",
       "        vertical-align: middle;\n",
       "    }\n",
       "\n",
       "    .dataframe tbody tr th {\n",
       "        vertical-align: top;\n",
       "    }\n",
       "\n",
       "    .dataframe thead th {\n",
       "        text-align: right;\n",
       "    }\n",
       "</style>\n",
       "<table border=\"1\" class=\"dataframe\">\n",
       "  <thead>\n",
       "    <tr style=\"text-align: right;\">\n",
       "      <th></th>\n",
       "      <th>unit_id</th>\n",
       "      <th>acf_0</th>\n",
       "      <th>acf_1</th>\n",
       "      <th>acf_2</th>\n",
       "      <th>acf_3</th>\n",
       "      <th>acf_4</th>\n",
       "      <th>acf_5</th>\n",
       "      <th>acf_6</th>\n",
       "      <th>acf_7</th>\n",
       "      <th>acf_8</th>\n",
       "      <th>...</th>\n",
       "      <th>acf_10</th>\n",
       "      <th>acf_11</th>\n",
       "      <th>acf_12</th>\n",
       "      <th>acf_13</th>\n",
       "      <th>acf_14</th>\n",
       "      <th>acf_15</th>\n",
       "      <th>acf_16</th>\n",
       "      <th>acf_17</th>\n",
       "      <th>acf_18</th>\n",
       "      <th>acf_19</th>\n",
       "    </tr>\n",
       "  </thead>\n",
       "  <tbody>\n",
       "    <tr>\n",
       "      <th>0</th>\n",
       "      <td>0</td>\n",
       "      <td>1.0</td>\n",
       "      <td>0.443787</td>\n",
       "      <td>0.429808</td>\n",
       "      <td>0.374760</td>\n",
       "      <td>0.333984</td>\n",
       "      <td>0.287734</td>\n",
       "      <td>0.240484</td>\n",
       "      <td>0.189922</td>\n",
       "      <td>0.194006</td>\n",
       "      <td>...</td>\n",
       "      <td>0.192847</td>\n",
       "      <td>0.148964</td>\n",
       "      <td>0.216269</td>\n",
       "      <td>0.151006</td>\n",
       "      <td>0.159405</td>\n",
       "      <td>0.112679</td>\n",
       "      <td>0.020760</td>\n",
       "      <td>0.038556</td>\n",
       "      <td>0.046108</td>\n",
       "      <td>-0.052432</td>\n",
       "    </tr>\n",
       "    <tr>\n",
       "      <th>1</th>\n",
       "      <td>1</td>\n",
       "      <td>1.0</td>\n",
       "      <td>0.005432</td>\n",
       "      <td>0.069626</td>\n",
       "      <td>-0.009532</td>\n",
       "      <td>0.027993</td>\n",
       "      <td>0.051967</td>\n",
       "      <td>0.029365</td>\n",
       "      <td>0.119701</td>\n",
       "      <td>-0.058856</td>\n",
       "      <td>...</td>\n",
       "      <td>-0.056264</td>\n",
       "      <td>0.066109</td>\n",
       "      <td>-0.049954</td>\n",
       "      <td>0.124875</td>\n",
       "      <td>-0.049265</td>\n",
       "      <td>-0.046850</td>\n",
       "      <td>-0.040645</td>\n",
       "      <td>-0.040116</td>\n",
       "      <td>-0.044426</td>\n",
       "      <td>NaN</td>\n",
       "    </tr>\n",
       "    <tr>\n",
       "      <th>2</th>\n",
       "      <td>2</td>\n",
       "      <td>1.0</td>\n",
       "      <td>0.061446</td>\n",
       "      <td>0.036480</td>\n",
       "      <td>0.032609</td>\n",
       "      <td>-0.006591</td>\n",
       "      <td>0.043266</td>\n",
       "      <td>0.069176</td>\n",
       "      <td>0.006825</td>\n",
       "      <td>0.005949</td>\n",
       "      <td>...</td>\n",
       "      <td>-0.016844</td>\n",
       "      <td>0.008550</td>\n",
       "      <td>0.024759</td>\n",
       "      <td>-0.003741</td>\n",
       "      <td>0.000973</td>\n",
       "      <td>0.222765</td>\n",
       "      <td>0.063553</td>\n",
       "      <td>-0.084937</td>\n",
       "      <td>0.094580</td>\n",
       "      <td>-0.113666</td>\n",
       "    </tr>\n",
       "    <tr>\n",
       "      <th>3</th>\n",
       "      <td>3</td>\n",
       "      <td>1.0</td>\n",
       "      <td>0.436855</td>\n",
       "      <td>0.391458</td>\n",
       "      <td>0.371095</td>\n",
       "      <td>0.311763</td>\n",
       "      <td>0.294205</td>\n",
       "      <td>0.312247</td>\n",
       "      <td>0.282377</td>\n",
       "      <td>0.260343</td>\n",
       "      <td>...</td>\n",
       "      <td>0.266865</td>\n",
       "      <td>0.243661</td>\n",
       "      <td>0.274786</td>\n",
       "      <td>0.217886</td>\n",
       "      <td>0.234229</td>\n",
       "      <td>0.208189</td>\n",
       "      <td>0.152333</td>\n",
       "      <td>0.194667</td>\n",
       "      <td>0.227410</td>\n",
       "      <td>0.222422</td>\n",
       "    </tr>\n",
       "    <tr>\n",
       "      <th>4</th>\n",
       "      <td>4</td>\n",
       "      <td>1.0</td>\n",
       "      <td>0.124393</td>\n",
       "      <td>0.146276</td>\n",
       "      <td>0.066471</td>\n",
       "      <td>0.046590</td>\n",
       "      <td>0.025512</td>\n",
       "      <td>0.008332</td>\n",
       "      <td>0.029639</td>\n",
       "      <td>0.023872</td>\n",
       "      <td>...</td>\n",
       "      <td>0.000327</td>\n",
       "      <td>0.014934</td>\n",
       "      <td>-0.006864</td>\n",
       "      <td>0.030143</td>\n",
       "      <td>-0.017576</td>\n",
       "      <td>-0.023822</td>\n",
       "      <td>0.009294</td>\n",
       "      <td>-0.075483</td>\n",
       "      <td>0.031661</td>\n",
       "      <td>0.021984</td>\n",
       "    </tr>\n",
       "    <tr>\n",
       "      <th>...</th>\n",
       "      <td>...</td>\n",
       "      <td>...</td>\n",
       "      <td>...</td>\n",
       "      <td>...</td>\n",
       "      <td>...</td>\n",
       "      <td>...</td>\n",
       "      <td>...</td>\n",
       "      <td>...</td>\n",
       "      <td>...</td>\n",
       "      <td>...</td>\n",
       "      <td>...</td>\n",
       "      <td>...</td>\n",
       "      <td>...</td>\n",
       "      <td>...</td>\n",
       "      <td>...</td>\n",
       "      <td>...</td>\n",
       "      <td>...</td>\n",
       "      <td>...</td>\n",
       "      <td>...</td>\n",
       "      <td>...</td>\n",
       "      <td>...</td>\n",
       "    </tr>\n",
       "    <tr>\n",
       "      <th>302</th>\n",
       "      <td>303</td>\n",
       "      <td>1.0</td>\n",
       "      <td>0.250782</td>\n",
       "      <td>0.156890</td>\n",
       "      <td>0.062510</td>\n",
       "      <td>0.020633</td>\n",
       "      <td>-0.021831</td>\n",
       "      <td>-0.022906</td>\n",
       "      <td>0.010070</td>\n",
       "      <td>0.027379</td>\n",
       "      <td>...</td>\n",
       "      <td>0.121107</td>\n",
       "      <td>0.118254</td>\n",
       "      <td>0.133425</td>\n",
       "      <td>0.013754</td>\n",
       "      <td>0.029759</td>\n",
       "      <td>-0.017628</td>\n",
       "      <td>-0.017440</td>\n",
       "      <td>0.017490</td>\n",
       "      <td>-0.065174</td>\n",
       "      <td>-0.171470</td>\n",
       "    </tr>\n",
       "    <tr>\n",
       "      <th>303</th>\n",
       "      <td>304</td>\n",
       "      <td>1.0</td>\n",
       "      <td>0.120119</td>\n",
       "      <td>0.078613</td>\n",
       "      <td>0.074280</td>\n",
       "      <td>0.021449</td>\n",
       "      <td>0.008431</td>\n",
       "      <td>-0.014555</td>\n",
       "      <td>0.001820</td>\n",
       "      <td>0.019650</td>\n",
       "      <td>...</td>\n",
       "      <td>0.010652</td>\n",
       "      <td>0.052728</td>\n",
       "      <td>0.055383</td>\n",
       "      <td>0.021249</td>\n",
       "      <td>-0.024030</td>\n",
       "      <td>0.011228</td>\n",
       "      <td>-0.021013</td>\n",
       "      <td>-0.015148</td>\n",
       "      <td>0.155629</td>\n",
       "      <td>0.003137</td>\n",
       "    </tr>\n",
       "    <tr>\n",
       "      <th>304</th>\n",
       "      <td>305</td>\n",
       "      <td>1.0</td>\n",
       "      <td>0.181014</td>\n",
       "      <td>0.115253</td>\n",
       "      <td>0.173308</td>\n",
       "      <td>0.048053</td>\n",
       "      <td>0.016985</td>\n",
       "      <td>0.041150</td>\n",
       "      <td>-0.012609</td>\n",
       "      <td>0.003237</td>\n",
       "      <td>...</td>\n",
       "      <td>-0.014800</td>\n",
       "      <td>0.013217</td>\n",
       "      <td>0.013137</td>\n",
       "      <td>-0.070459</td>\n",
       "      <td>-0.016077</td>\n",
       "      <td>-0.033108</td>\n",
       "      <td>-0.049765</td>\n",
       "      <td>-0.033764</td>\n",
       "      <td>0.047806</td>\n",
       "      <td>0.012233</td>\n",
       "    </tr>\n",
       "    <tr>\n",
       "      <th>305</th>\n",
       "      <td>306</td>\n",
       "      <td>1.0</td>\n",
       "      <td>0.028617</td>\n",
       "      <td>-0.063985</td>\n",
       "      <td>0.183595</td>\n",
       "      <td>0.072761</td>\n",
       "      <td>-0.084683</td>\n",
       "      <td>-0.080845</td>\n",
       "      <td>0.720588</td>\n",
       "      <td>0.110022</td>\n",
       "      <td>...</td>\n",
       "      <td>-0.055556</td>\n",
       "      <td>-0.080845</td>\n",
       "      <td>-0.093112</td>\n",
       "      <td>-0.084683</td>\n",
       "      <td>-0.080845</td>\n",
       "      <td>-0.055556</td>\n",
       "      <td>-0.068200</td>\n",
       "      <td>-0.068200</td>\n",
       "      <td>-0.055556</td>\n",
       "      <td>NaN</td>\n",
       "    </tr>\n",
       "    <tr>\n",
       "      <th>306</th>\n",
       "      <td>307</td>\n",
       "      <td>1.0</td>\n",
       "      <td>0.167485</td>\n",
       "      <td>0.085718</td>\n",
       "      <td>0.100642</td>\n",
       "      <td>0.074012</td>\n",
       "      <td>0.009311</td>\n",
       "      <td>0.057334</td>\n",
       "      <td>0.098558</td>\n",
       "      <td>0.054409</td>\n",
       "      <td>...</td>\n",
       "      <td>0.036391</td>\n",
       "      <td>0.046693</td>\n",
       "      <td>0.124904</td>\n",
       "      <td>0.050943</td>\n",
       "      <td>0.060611</td>\n",
       "      <td>-0.015078</td>\n",
       "      <td>-0.018393</td>\n",
       "      <td>0.091558</td>\n",
       "      <td>0.042050</td>\n",
       "      <td>0.024252</td>\n",
       "    </tr>\n",
       "  </tbody>\n",
       "</table>\n",
       "<p>307 rows × 21 columns</p>\n",
       "</div>"
      ],
      "text/plain": [
       "     unit_id  acf_0     acf_1     acf_2     acf_3     acf_4     acf_5  \\\n",
       "0          0    1.0  0.443787  0.429808  0.374760  0.333984  0.287734   \n",
       "1          1    1.0  0.005432  0.069626 -0.009532  0.027993  0.051967   \n",
       "2          2    1.0  0.061446  0.036480  0.032609 -0.006591  0.043266   \n",
       "3          3    1.0  0.436855  0.391458  0.371095  0.311763  0.294205   \n",
       "4          4    1.0  0.124393  0.146276  0.066471  0.046590  0.025512   \n",
       "..       ...    ...       ...       ...       ...       ...       ...   \n",
       "302      303    1.0  0.250782  0.156890  0.062510  0.020633 -0.021831   \n",
       "303      304    1.0  0.120119  0.078613  0.074280  0.021449  0.008431   \n",
       "304      305    1.0  0.181014  0.115253  0.173308  0.048053  0.016985   \n",
       "305      306    1.0  0.028617 -0.063985  0.183595  0.072761 -0.084683   \n",
       "306      307    1.0  0.167485  0.085718  0.100642  0.074012  0.009311   \n",
       "\n",
       "        acf_6     acf_7     acf_8  ...    acf_10    acf_11    acf_12  \\\n",
       "0    0.240484  0.189922  0.194006  ...  0.192847  0.148964  0.216269   \n",
       "1    0.029365  0.119701 -0.058856  ... -0.056264  0.066109 -0.049954   \n",
       "2    0.069176  0.006825  0.005949  ... -0.016844  0.008550  0.024759   \n",
       "3    0.312247  0.282377  0.260343  ...  0.266865  0.243661  0.274786   \n",
       "4    0.008332  0.029639  0.023872  ...  0.000327  0.014934 -0.006864   \n",
       "..        ...       ...       ...  ...       ...       ...       ...   \n",
       "302 -0.022906  0.010070  0.027379  ...  0.121107  0.118254  0.133425   \n",
       "303 -0.014555  0.001820  0.019650  ...  0.010652  0.052728  0.055383   \n",
       "304  0.041150 -0.012609  0.003237  ... -0.014800  0.013217  0.013137   \n",
       "305 -0.080845  0.720588  0.110022  ... -0.055556 -0.080845 -0.093112   \n",
       "306  0.057334  0.098558  0.054409  ...  0.036391  0.046693  0.124904   \n",
       "\n",
       "       acf_13    acf_14    acf_15    acf_16    acf_17    acf_18    acf_19  \n",
       "0    0.151006  0.159405  0.112679  0.020760  0.038556  0.046108 -0.052432  \n",
       "1    0.124875 -0.049265 -0.046850 -0.040645 -0.040116 -0.044426       NaN  \n",
       "2   -0.003741  0.000973  0.222765  0.063553 -0.084937  0.094580 -0.113666  \n",
       "3    0.217886  0.234229  0.208189  0.152333  0.194667  0.227410  0.222422  \n",
       "4    0.030143 -0.017576 -0.023822  0.009294 -0.075483  0.031661  0.021984  \n",
       "..        ...       ...       ...       ...       ...       ...       ...  \n",
       "302  0.013754  0.029759 -0.017628 -0.017440  0.017490 -0.065174 -0.171470  \n",
       "303  0.021249 -0.024030  0.011228 -0.021013 -0.015148  0.155629  0.003137  \n",
       "304 -0.070459 -0.016077 -0.033108 -0.049765 -0.033764  0.047806  0.012233  \n",
       "305 -0.084683 -0.080845 -0.055556 -0.068200 -0.068200 -0.055556       NaN  \n",
       "306  0.050943  0.060611 -0.015078 -0.018393  0.091558  0.042050  0.024252  \n",
       "\n",
       "[307 rows x 21 columns]"
      ]
     },
     "execution_count": 24,
     "metadata": {},
     "output_type": "execute_result"
    }
   ],
   "source": [
    "acf_cols = ['acf_' + str(i) for i in range(20)]\n",
    "\n",
    "acf_average_trial_pearsonr_df = pd.DataFrame(np.array(acf_average_trial_pearsonr_l), columns=acf_cols)\n",
    "acf_average_trial_pearsonr_df.insert(0, 'unit_id', unit_id_calc_l)\n",
    "acf_average_trial_pearsonr_df"
   ]
  },
  {
   "cell_type": "code",
   "execution_count": 21,
   "id": "25223b5f-f976-4a75-9d8a-e7a6643edf40",
   "metadata": {},
   "outputs": [
    {
     "data": {
      "image/png": "[encoded data removed]",
      "text/plain": [
       "<Figure size 1000x400 with 2 Axes>"
      ]
     },
     "metadata": {},
     "output_type": "display_data"
    }
   ],
   "source": [
    "fig, axes = plt.subplots(1,2, figsize=(10,4))\n",
    "\n",
    "for acf_ in range(len(acf_average_trial_pearsonr_df)):\n",
    "    axes[0].plot(acf_average_trial_pearsonr_df[acf_cols].values[acf_, :], lw=0.5, c='k', alpha=0.1)\n",
    "axes[0].plot(np.nanmean(acf_average_trial_pearsonr_df[acf_cols].values, axis=0), c='r', lw=0.5 ,marker='o', markersize='5')\n",
    "axes[0].axhline(y=0, lw=0.5, color='k')\n",
    "axes[0].axhline(y=1/np.e, lw=0.5, color='k')\n",
    "\n",
    "for acf_ in range(len(acf_average_trial_pearsonr_df)):\n",
    "    axes[1].plot(acf_average_trial_pearsonr_df[acf_cols].values[acf_, :], lw=0.5, c='k', alpha=0.1)\n",
    "axes[1].plot(np.nanmean(acf_average_trial_pearsonr_df[acf_cols].values, axis=0), c='r', lw=0.5 ,marker='o', markersize='5')\n",
    "axes[1].axhline(y=0, lw=0.5, color='k')\n",
    "axes[1].axhline(y=1/np.e, lw=0.5, color='k')\n",
    "axes[1].set_xlim([1,19])\n",
    "axes[1].set_ylim([-0.2,0.6])\n",
    "\n",
    "sns.despine()"
   ]
  },
  {
   "cell_type": "code",
   "execution_count": null,
   "id": "62e6d03f-fa47-4710-ac2b-1c693b02ec27",
   "metadata": {},
   "outputs": [],
   "source": [
    "sns.heatmap(rsc_matrix)"
   ]
  }
 ],
 "metadata": {
  "kernelspec": {
   "display_name": "Python 3 (ipykernel)",
   "language": "python",
   "name": "python3"
  },
  "language_info": {
   "codemirror_mode": {
    "name": "ipython",
    "version": 3
   },
   "file_extension": ".py",
   "mimetype": "text/x-python",
   "name": "python",
   "nbconvert_exporter": "python",
   "pygments_lexer": "ipython3",
   "version": "3.12.7"
  }
 },
 "nbformat": 4,
 "nbformat_minor": 5
}
