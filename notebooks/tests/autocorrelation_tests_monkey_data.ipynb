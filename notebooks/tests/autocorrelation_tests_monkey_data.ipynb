{
 "cells": [
  {
   "cell_type": "code",
   "execution_count": 41,
   "id": "2b488b58-9644-49da-b2da-84ae662a8288",
   "metadata": {},
   "outputs": [],
   "source": [
    "import pandas as pd\n",
    "import numpy as np\n",
    "import csv\n",
    "from scipy.stats import pearsonr\n",
    "from statsmodels.graphics import tsaplots\n",
    "from statsmodels.tsa.stattools import acf\n",
    "import matplotlib.pyplot as plt\n",
    "import seaborn as sns"
   ]
  },
  {
   "cell_type": "code",
   "execution_count": 7,
   "id": "2a0aa477-b443-440e-b38c-da0f448f7f81",
   "metadata": {},
   "outputs": [
    {
     "name": "stdout",
     "output_type": "stream",
     "text": [
      "N spike_trains in PFdl fixON 33018\n"
     ]
    }
   ],
   "source": [
    "results_folder = 'Q:\\\\Personal\\\\Irina\\\\projects\\\\isttc\\\\results\\\\monkey\\\\'\n",
    "\n",
    "csv_data_file_pfdl = results_folder + 'data_pfdl_fixon_1500ms_fixation_binned_50ms.csv'\n",
    "with open(csv_data_file_pfdl, newline='') as f:\n",
    "    reader = csv.reader(f)\n",
    "    sua_list_pfdl = list(reader)\n",
    "    \n",
    "n_spike_trains_pfdl = len(sua_list_pfdl)\n",
    "print('N spike_trains in PFdl fixON {}'.format(n_spike_trains_pfdl))"
   ]
  },
  {
   "cell_type": "code",
   "execution_count": 26,
   "id": "51b29412-9836-4c4b-955a-1c123f7a59b3",
   "metadata": {},
   "outputs": [
    {
     "name": "stdout",
     "output_type": "stream",
     "text": [
      "time_series [2 2 1 3 2 3 1 4 1 1 2 2 2 0 1 1 0 1 2 0 2 0 1 0 0 1 1 2 3 2], \n",
      " shape (30,)\n"
     ]
    }
   ],
   "source": [
    "time_series = np.asarray(sua_list_pfdl[35][3:]).astype(int)\n",
    "print('time_series {}, \\n shape {}'.format(time_series, time_series.shape))"
   ]
  },
  {
   "cell_type": "markdown",
   "id": "6b91636a-0ae1-4159-81bc-e703df2b9a42",
   "metadata": {},
   "source": [
    "#### Calc asf"
   ]
  },
  {
   "cell_type": "code",
   "execution_count": 27,
   "id": "c6c7cc45-a017-4279-8871-2879d0e7a51b",
   "metadata": {},
   "outputs": [],
   "source": [
    "def autocorr_verbose(y, lag=2, verbose=True):\n",
    "    if verbose:\n",
    "        print('Calc for lag {}, input length {}'.format(lag, y.shape))\n",
    "    y = np.array(y).copy()\n",
    "    y_bar = np.mean(y)\n",
    "    denominator = sum((y - y_bar) ** 2) \n",
    "    if verbose:\n",
    "        print('y_bar = {}, denominator = {}'.format(y_bar, denominator))\n",
    "    numerator_p1 = y[lag:] - y_bar\n",
    "    numerator_p2 = y[:-lag] - y_bar \n",
    "    if verbose:\n",
    "        print('shape numerator_p1 {}, numerator_p2 {}'.format(numerator_p1.shape, numerator_p2.shape))\n",
    "    numerator = sum(numerator_p1 * numerator_p2) \n",
    "    acf_lag = numerator / denominator\n",
    "    if verbose:\n",
    "        print('acf_lag {}'.format(acf_lag))\n",
    "    return acf_lag\n",
    "\n",
    "def my_auto_corr_verbose(time_series, nlags=2, verbose=True):\n",
    "    acf = [1] \n",
    "    for i in range(1, (nlags + 1)):\n",
    "        acf.append(autocorr_verbose(time_series, lag=i, verbose=verbose)) \n",
    "    return np.array(acf)"
   ]
  },
  {
   "cell_type": "code",
   "execution_count": 28,
   "id": "7fd7e895-942e-45e5-84e9-c641f1bd9709",
   "metadata": {},
   "outputs": [
    {
     "name": "stdout",
     "output_type": "stream",
     "text": [
      "Calc for lag 1, input length (30,)\n",
      "y_bar = 1.4333333333333333, denominator = 31.36666666666668\n",
      "shape numerator_p1 (29,), numerator_p2 (29,)\n",
      "acf_lag 0.09709528869996456\n",
      "Calc for lag 2, input length (30,)\n",
      "y_bar = 1.4333333333333333, denominator = 31.36666666666668\n",
      "shape numerator_p1 (28,), numerator_p2 (28,)\n",
      "acf_lag 0.3557208643287281\n",
      "Calc for lag 3, input length (30,)\n",
      "y_bar = 1.4333333333333333, denominator = 31.36666666666668\n",
      "shape numerator_p1 (27,), numerator_p2 (27,)\n",
      "acf_lag 0.14038257173219967\n",
      "Calc for lag 4, input length (30,)\n",
      "y_bar = 1.4333333333333333, denominator = 31.36666666666668\n",
      "shape numerator_p1 (26,), numerator_p2 (26,)\n",
      "acf_lag 0.13014523556500165\n",
      "Calc for lag 5, input length (30,)\n",
      "y_bar = 1.4333333333333333, denominator = 31.36666666666668\n",
      "shape numerator_p1 (25,), numerator_p2 (25,)\n",
      "acf_lag 0.010449876018420106\n",
      "Calc for lag 6, input length (30,)\n",
      "y_bar = 1.4333333333333333, denominator = 31.36666666666668\n",
      "shape numerator_p1 (24,), numerator_p2 (24,)\n",
      "acf_lag -0.04548352816153024\n",
      "Calc for lag 7, input length (30,)\n",
      "y_bar = 1.4333333333333333, denominator = 31.36666666666668\n",
      "shape numerator_p1 (23,), numerator_p2 (23,)\n",
      "acf_lag 0.12600070846617067\n",
      "Calc for lag 8, input length (30,)\n",
      "y_bar = 1.4333333333333333, denominator = 31.36666666666668\n",
      "shape numerator_p1 (22,), numerator_p2 (22,)\n",
      "acf_lag 0.06581650726177823\n",
      "Calc for lag 9, input length (30,)\n",
      "y_bar = 1.4333333333333333, denominator = 31.36666666666668\n",
      "shape numerator_p1 (21,), numerator_p2 (21,)\n",
      "acf_lag -0.14527098831030807\n",
      "Calc for lag 10, input length (30,)\n",
      "y_bar = 1.4333333333333333, denominator = 31.36666666666668\n",
      "shape numerator_p1 (20,), numerator_p2 (20,)\n",
      "acf_lag -0.009918526390364862\n",
      "my_auto_corr:\n",
      "[ 1.          0.09709529  0.35572086  0.14038257  0.13014524  0.01044988\n",
      " -0.04548353  0.12600071  0.06581651 -0.14527099 -0.00991853]\n",
      "\n",
      "statstools acf:\n",
      "[ 1.          0.09709529  0.35572086  0.14038257  0.13014524  0.01044988\n",
      " -0.04548353  0.12600071  0.06581651 -0.14527099 -0.00991853]\n"
     ]
    },
    {
     "data": {
      "image/png": "[encoded data removed]",
      "text/plain": [
       "<Figure size 600x400 with 1 Axes>"
      ]
     },
     "metadata": {},
     "output_type": "display_data"
    }
   ],
   "source": [
    "acf_my_short = my_auto_corr_verbose(time_series, nlags=10, verbose=True)\n",
    "acf_statstools_short = acf(time_series,nlags=10)\n",
    "\n",
    "print(f'my_auto_corr:\\n{acf_my_short}\\n\\nstatstools acf:\\n{acf_statstools_short}')\n",
    "\n",
    "fig, axes = plt.subplots(1,1, figsize=(6,4))\n",
    "\n",
    "t_lags = np.linspace(0,10,10+1)\n",
    "\n",
    "axes.plot(t_lags, acf_my_short, label='my')\n",
    "axes.plot(t_lags, acf_statstools_short, label='acf_statstools_short')\n",
    "\n",
    "axes.legend(frameon=False)\n",
    "\n",
    "sns.despine()"
   ]
  },
  {
   "cell_type": "code",
   "execution_count": 29,
   "id": "f031892e-9c90-43ed-a72c-58fe2f8aae53",
   "metadata": {},
   "outputs": [
    {
     "name": "stdout",
     "output_type": "stream",
     "text": [
      "my_auto_corr:\n",
      "[ 1.          0.09709529  0.35572086  0.14038257  0.13014524  0.01044988\n",
      " -0.04548353  0.12600071  0.06581651 -0.14527099 -0.00991853 -0.01590507\n",
      " -0.3130712  -0.08207581 -0.27509741 -0.05791711 -0.25518951 -0.03375841\n",
      " -0.15345377 -0.16369111 -0.10591569]\n",
      "\n",
      "statstools acf:\n",
      "[ 1.          0.09709529  0.35572086  0.14038257  0.13014524  0.01044988\n",
      " -0.04548353  0.12600071  0.06581651 -0.14527099 -0.00991853 -0.01590507\n",
      " -0.3130712  -0.08207581 -0.27509741 -0.05791711 -0.25518951 -0.03375841\n",
      " -0.15345377 -0.16369111 -0.10591569]\n"
     ]
    },
    {
     "data": {
      "image/png": "[encoded data removed]",
      "text/plain": [
       "<Figure size 600x400 with 1 Axes>"
      ]
     },
     "metadata": {},
     "output_type": "display_data"
    }
   ],
   "source": [
    "acf_my_short = my_auto_corr_verbose(time_series, nlags=20, verbose=False)\n",
    "acf_statstools_short = acf(time_series,nlags=20)\n",
    "\n",
    "print(f'my_auto_corr:\\n{acf_my_short}\\n\\nstatstools acf:\\n{acf_statstools_short}')\n",
    "\n",
    "fig, axes = plt.subplots(1,1, figsize=(6,4))\n",
    "\n",
    "t_lags = np.linspace(0,20,20+1)\n",
    "\n",
    "axes.plot(t_lags, acf_my_short, label='my')\n",
    "axes.plot(t_lags, acf_statstools_short, label='acf_statstools_short')\n",
    "\n",
    "axes.legend(frameon=False)\n",
    "\n",
    "sns.despine()"
   ]
  },
  {
   "cell_type": "markdown",
   "id": "7a935245-4902-4297-b8c6-d3af70f33266",
   "metadata": {},
   "source": [
    "#### Calc acf as in Siegle"
   ]
  },
  {
   "cell_type": "code",
   "execution_count": 94,
   "id": "64229e39-95fc-4c6d-97f7-6071ea57a7f8",
   "metadata": {},
   "outputs": [
    {
     "name": "stdout",
     "output_type": "stream",
     "text": [
      "['0', '0', '0', '1', '1', '0', '0', '3', '0', '1', '2', '1', '1', '0', '0', '0', '0', '0', '2', '0', '0', '0', '0', '0', '0', '1', '0', '0', '0', '0', '3', '1', '0']\n",
      "['0', '1', '0', '1', '1', '1', '1', '0', '1', '0', '0', '1', '1', '1', '0', '0', '0', '0', '1', '0', '2', '0', '0', '0', '0', '1', '0', '0', '0', '0', '0', '2', '1']\n",
      "['0', '2', '0', '1', '0', '0', '1', '0', '0', '0', '1', '2', '2', '2', '2', '1', '0', '0', '1', '0', '2', '0', '1', '1', '2', '1', '0', '1', '0', '1', '1', '0', '1']\n",
      "['0', '3', '0', '0', '2', '2', '3', '1', '1', '4', '3', '2', '3', '1', '2', '1', '2', '1', '2', '2', '1', '2', '1', '3', '2', '1', '2', '1', '3', '3', '1', '1', '0']\n",
      "['0', '4', '0', '0', '0', '1', '0', '1', '0', '0', '0', '0', '0', '0', '0', '0', '0', '0', '0', '2', '1', '1', '2', '0', '1', '0', '0', '0', '1', '0', '0', '0', '0']\n",
      "['0', '5', '0', '0', '3', '1', '3', '0', '3', '2', '3', '3', '4', '2', '2', '1', '1', '1', '0', '1', '1', '0', '1', '0', '0', '2', '1', '0', '0', '0', '0', '0', '1']\n",
      "['0', '6', '0', '1', '0', '1', '1', '2', '2', '3', '2', '1', '1', '0', '1', '2', '1', '1', '2', '3', '2', '0', '3', '2', '2', '2', '1', '1', '2', '2', '2', '3', '2']\n",
      "['0', '7', '0', '4', '0', '0', '1', '2', '1', '1', '1', '0', '3', '1', '1', '2', '1', '4', '0', '1', '1', '1', '1', '1', '2', '2', '2', '1', '1', '2', '2', '2', '1']\n",
      "['0', '8', '1', '0', '0', '0', '2', '2', '0', '1', '2', '4', '3', '2', '3', '1', '2', '2', '1', '2', '0', '0', '1', '1', '1', '2', '2', '1', '1', '1', '1', '0', '0']\n",
      "['0', '9', '1', '1', '0', '1', '0', '0', '0', '0', '0', '0', '1', '0', '1', '0', '1', '0', '0', '0', '0', '0', '0', '0', '0', '0', '0', '0', '1', '1', '1', '0', '0']\n",
      "['0', '10', '1', '2', '1', '1', '1', '0', '0', '0', '0', '0', '1', '0', '0', '1', '0', '0', '0', '0', '0', '0', '0', '1', '0', '1', '0', '2', '1', '0', '0', '0', '0']\n",
      "['0', '11', '1', '1', '3', '2', '2', '1', '2', '2', '1', '1', '1', '2', '3', '2', '2', '2', '1', '2', '2', '2', '0', '2', '2', '1', '0', '2', '2', '3', '2', '2', '0']\n",
      "['0', '12', '1', '0', '0', '0', '1', '1', '0', '0', '0', '3', '0', '2', '2', '0', '0', '1', '0', '0', '1', '0', '0', '2', '2', '1', '1', '2', '1', '1', '0', '1', '0']\n",
      "['0', '13', '1', '1', '0', '1', '0', '0', '0', '1', '0', '0', '0', '0', '0', '0', '0', '1', '0', '0', '0', '0', '0', '0', '0', '0', '0', '0', '0', '0', '0', '0', '0']\n",
      "['0', '14', '1', '1', '0', '1', '1', '1', '1', '0', '1', '2', '0', '2', '1', '2', '1', '2', '0', '0', '1', '2', '1', '1', '0', '0', '0', '2', '3', '6', '2', '2', '3']\n",
      "['0', '15', '1', '1', '2', '1', '2', '0', '0', '0', '0', '0', '0', '1', '1', '0', '1', '1', '2', '0', '0', '2', '0', '1', '1', '0', '1', '0', '0', '0', '1', '0', '1']\n",
      "['0', '16', '1', '0', '0', '1', '0', '0', '2', '1', '1', '0', '1', '3', '1', '1', '2', '1', '1', '2', '2', '2', '2', '2', '2', '2', '2', '2', '3', '2', '1', '0', '2']\n",
      "['0', '17', '1', '0', '1', '0', '0', '1', '0', '0', '0', '0', '0', '0', '0', '0', '0', '1', '0', '1', '0', '1', '2', '0', '0', '0', '0', '1', '0', '0', '0', '0', '0']\n",
      "['0', '18', '1', '0', '0', '0', '0', '0', '0', '0', '0', '0', '1', '0', '1', '0', '0', '0', '1', '1', '1', '0', '2', '2', '2', '1', '1', '2', '1', '0', '1', '2', '1']\n",
      "['0', '19', '2', '0', '0', '1', '1', '0', '0', '0', '0', '0', '1', '1', '1', '0', '0', '0', '0', '0', '0', '1', '2', '1', '0', '0', '0', '0', '0', '0', '0', '1', '1']\n"
     ]
    }
   ],
   "source": [
    "time_series_l = []\n",
    "for sua_trial_ in sua_list_pfdl[:20]:\n",
    "    print(sua_trial_)\n",
    "    time_series_l.append(np.asarray(sua_trial_[3:23]).astype(int))"
   ]
  },
  {
   "cell_type": "code",
   "execution_count": 95,
   "id": "6d090e7d-1f71-4d13-8a06-afb4c207b960",
   "metadata": {},
   "outputs": [
    {
     "data": {
      "text/plain": [
       "array([[1, 1, 0, 0, 3, 0, 1, 2, 1, 1, 0, 0, 0, 0, 0, 2, 0, 0, 0, 0],\n",
       "       [1, 1, 1, 1, 0, 1, 0, 0, 1, 1, 1, 0, 0, 0, 0, 1, 0, 2, 0, 0],\n",
       "       [1, 0, 0, 1, 0, 0, 0, 1, 2, 2, 2, 2, 1, 0, 0, 1, 0, 2, 0, 1],\n",
       "       [0, 2, 2, 3, 1, 1, 4, 3, 2, 3, 1, 2, 1, 2, 1, 2, 2, 1, 2, 1],\n",
       "       [0, 0, 1, 0, 1, 0, 0, 0, 0, 0, 0, 0, 0, 0, 0, 0, 2, 1, 1, 2],\n",
       "       [0, 3, 1, 3, 0, 3, 2, 3, 3, 4, 2, 2, 1, 1, 1, 0, 1, 1, 0, 1],\n",
       "       [1, 0, 1, 1, 2, 2, 3, 2, 1, 1, 0, 1, 2, 1, 1, 2, 3, 2, 0, 3],\n",
       "       [4, 0, 0, 1, 2, 1, 1, 1, 0, 3, 1, 1, 2, 1, 4, 0, 1, 1, 1, 1],\n",
       "       [0, 0, 0, 2, 2, 0, 1, 2, 4, 3, 2, 3, 1, 2, 2, 1, 2, 0, 0, 1],\n",
       "       [1, 0, 1, 0, 0, 0, 0, 0, 0, 1, 0, 1, 0, 1, 0, 0, 0, 0, 0, 0],\n",
       "       [2, 1, 1, 1, 0, 0, 0, 0, 0, 1, 0, 0, 1, 0, 0, 0, 0, 0, 0, 0],\n",
       "       [1, 3, 2, 2, 1, 2, 2, 1, 1, 1, 2, 3, 2, 2, 2, 1, 2, 2, 2, 0],\n",
       "       [0, 0, 0, 1, 1, 0, 0, 0, 3, 0, 2, 2, 0, 0, 1, 0, 0, 1, 0, 0],\n",
       "       [1, 0, 1, 0, 0, 0, 1, 0, 0, 0, 0, 0, 0, 0, 1, 0, 0, 0, 0, 0],\n",
       "       [1, 0, 1, 1, 1, 1, 0, 1, 2, 0, 2, 1, 2, 1, 2, 0, 0, 1, 2, 1],\n",
       "       [1, 2, 1, 2, 0, 0, 0, 0, 0, 0, 1, 1, 0, 1, 1, 2, 0, 0, 2, 0],\n",
       "       [0, 0, 1, 0, 0, 2, 1, 1, 0, 1, 3, 1, 1, 2, 1, 1, 2, 2, 2, 2],\n",
       "       [0, 1, 0, 0, 1, 0, 0, 0, 0, 0, 0, 0, 0, 0, 1, 0, 1, 0, 1, 2],\n",
       "       [0, 0, 0, 0, 0, 0, 0, 0, 0, 1, 0, 1, 0, 0, 0, 1, 1, 1, 0, 2],\n",
       "       [0, 0, 1, 1, 0, 0, 0, 0, 0, 1, 1, 1, 0, 0, 0, 0, 0, 0, 1, 2]])"
      ]
     },
     "execution_count": 95,
     "metadata": {},
     "output_type": "execute_result"
    }
   ],
   "source": [
    "time_series_a = np.vstack(time_series_l)\n",
    "time_series_a"
   ]
  },
  {
   "cell_type": "code",
   "execution_count": 96,
   "id": "92a7db6b-edee-4fc0-aab4-058ac7c4e167",
   "metadata": {},
   "outputs": [
    {
     "data": {
      "text/plain": [
       "(20, 20)"
      ]
     },
     "execution_count": 96,
     "metadata": {},
     "output_type": "execute_result"
    }
   ],
   "source": [
    "data = time_series_a\n",
    "data.shape"
   ]
  },
  {
   "cell_type": "code",
   "execution_count": 97,
   "id": "039be867-724a-4e71-81b4-218245e61528",
   "metadata": {},
   "outputs": [],
   "source": [
    "nbins = data.shape[1]\n",
    "rsc_matrix = np.empty((nbins, nbins)) * 0"
   ]
  },
  {
   "cell_type": "code",
   "execution_count": 98,
   "id": "f0c26a4e-15b9-4caa-b0c8-6c3b4f01c9c9",
   "metadata": {},
   "outputs": [
    {
     "data": {
      "text/plain": [
       "array([[0., 0., 0., 0., 0., 0., 0., 0., 0., 0., 0., 0., 0., 0., 0., 0.,\n",
       "        0., 0., 0., 0.],\n",
       "       [0., 0., 0., 0., 0., 0., 0., 0., 0., 0., 0., 0., 0., 0., 0., 0.,\n",
       "        0., 0., 0., 0.],\n",
       "       [0., 0., 0., 0., 0., 0., 0., 0., 0., 0., 0., 0., 0., 0., 0., 0.,\n",
       "        0., 0., 0., 0.],\n",
       "       [0., 0., 0., 0., 0., 0., 0., 0., 0., 0., 0., 0., 0., 0., 0., 0.,\n",
       "        0., 0., 0., 0.],\n",
       "       [0., 0., 0., 0., 0., 0., 0., 0., 0., 0., 0., 0., 0., 0., 0., 0.,\n",
       "        0., 0., 0., 0.],\n",
       "       [0., 0., 0., 0., 0., 0., 0., 0., 0., 0., 0., 0., 0., 0., 0., 0.,\n",
       "        0., 0., 0., 0.],\n",
       "       [0., 0., 0., 0., 0., 0., 0., 0., 0., 0., 0., 0., 0., 0., 0., 0.,\n",
       "        0., 0., 0., 0.],\n",
       "       [0., 0., 0., 0., 0., 0., 0., 0., 0., 0., 0., 0., 0., 0., 0., 0.,\n",
       "        0., 0., 0., 0.],\n",
       "       [0., 0., 0., 0., 0., 0., 0., 0., 0., 0., 0., 0., 0., 0., 0., 0.,\n",
       "        0., 0., 0., 0.],\n",
       "       [0., 0., 0., 0., 0., 0., 0., 0., 0., 0., 0., 0., 0., 0., 0., 0.,\n",
       "        0., 0., 0., 0.],\n",
       "       [0., 0., 0., 0., 0., 0., 0., 0., 0., 0., 0., 0., 0., 0., 0., 0.,\n",
       "        0., 0., 0., 0.],\n",
       "       [0., 0., 0., 0., 0., 0., 0., 0., 0., 0., 0., 0., 0., 0., 0., 0.,\n",
       "        0., 0., 0., 0.],\n",
       "       [0., 0., 0., 0., 0., 0., 0., 0., 0., 0., 0., 0., 0., 0., 0., 0.,\n",
       "        0., 0., 0., 0.],\n",
       "       [0., 0., 0., 0., 0., 0., 0., 0., 0., 0., 0., 0., 0., 0., 0., 0.,\n",
       "        0., 0., 0., 0.],\n",
       "       [0., 0., 0., 0., 0., 0., 0., 0., 0., 0., 0., 0., 0., 0., 0., 0.,\n",
       "        0., 0., 0., 0.],\n",
       "       [0., 0., 0., 0., 0., 0., 0., 0., 0., 0., 0., 0., 0., 0., 0., 0.,\n",
       "        0., 0., 0., 0.],\n",
       "       [0., 0., 0., 0., 0., 0., 0., 0., 0., 0., 0., 0., 0., 0., 0., 0.,\n",
       "        0., 0., 0., 0.],\n",
       "       [0., 0., 0., 0., 0., 0., 0., 0., 0., 0., 0., 0., 0., 0., 0., 0.,\n",
       "        0., 0., 0., 0.],\n",
       "       [0., 0., 0., 0., 0., 0., 0., 0., 0., 0., 0., 0., 0., 0., 0., 0.,\n",
       "        0., 0., 0., 0.],\n",
       "       [0., 0., 0., 0., 0., 0., 0., 0., 0., 0., 0., 0., 0., 0., 0., 0.,\n",
       "        0., 0., 0., 0.]])"
      ]
     },
     "execution_count": 98,
     "metadata": {},
     "output_type": "execute_result"
    }
   ],
   "source": [
    "rsc_matrix"
   ]
  },
  {
   "cell_type": "code",
   "execution_count": 99,
   "id": "1c2c50a4-bf52-4a93-8870-6c939a31c696",
   "metadata": {},
   "outputs": [
    {
     "data": {
      "text/plain": [
       "array([ 0,  1,  2,  3,  4,  5,  6,  7,  8,  9, 10, 11, 12, 13, 14, 15, 16,\n",
       "       17, 18])"
      ]
     },
     "execution_count": 99,
     "metadata": {},
     "output_type": "execute_result"
    }
   ],
   "source": [
    "np.arange(nbins-1)"
   ]
  },
  {
   "cell_type": "code",
   "execution_count": 100,
   "id": "b5ecbb71-cd31-436b-9bf6-b8f60992f9d1",
   "metadata": {},
   "outputs": [],
   "source": [
    "for i in np.arange(nbins-1):\n",
    "    for j in np.arange(i+1, nbins): # filling i-th row\n",
    "        r, p = pearsonr(data[:,i], data[:,j]) # todo here use sttc\n",
    "        rsc_matrix[i, j] = r"
   ]
  },
  {
   "cell_type": "code",
   "execution_count": 101,
   "id": "6dcfd3de-ba95-4cab-9006-f013c3d2b563",
   "metadata": {},
   "outputs": [
    {
     "data": {
      "text/plain": [
       "array([[ 0.00000000e+00, -7.92166360e-02, -1.06576139e-01,\n",
       "        -5.59454239e-02,  2.24280652e-01,  1.45861888e-02,\n",
       "        -4.72825130e-02, -9.16290021e-02, -3.03345973e-01,\n",
       "         1.36532997e-01, -1.67836272e-01, -1.96905961e-01,\n",
       "         4.41706980e-01, -3.39774600e-02,  5.06747753e-01,\n",
       "        -1.01932380e-01, -2.06661764e-01,  1.67501603e-02,\n",
       "        -3.14939152e-02, -3.02674110e-01],\n",
       "       [ 0.00000000e+00,  0.00000000e+00,  5.19501518e-01,\n",
       "         6.81759840e-01, -8.40959915e-02,  4.86760494e-01,\n",
       "         4.34360296e-01,  3.97560677e-01,  1.62488893e-01,\n",
       "         3.07165447e-01,  1.57329194e-01,  2.95326447e-01,\n",
       "         1.40141603e-01,  3.31243789e-01,  7.00035003e-02,\n",
       "         2.67543060e-01,  1.08485490e-01,  6.90868096e-02,\n",
       "         3.07031891e-01, -3.40470912e-01],\n",
       "       [ 0.00000000e+00,  0.00000000e+00,  0.00000000e+00,\n",
       "         4.23333757e-01, -2.94165834e-01,  4.63563735e-01,\n",
       "         5.00895256e-01,  1.78289495e-01, -1.31165167e-01,\n",
       "        -2.64545330e-17,  8.46667513e-02,  1.27711618e-01,\n",
       "         2.57104242e-01,  4.62787635e-01, -4.03632900e-02,\n",
       "         1.54262545e-01,  2.71056953e-01,  2.28144395e-01,\n",
       "         5.24285282e-01, -1.09062214e-01],\n",
       "       [ 0.00000000e+00,  0.00000000e+00,  0.00000000e+00,\n",
       "         0.00000000e+00,  6.93889390e-18,  4.63505333e-01,\n",
       "         5.63436170e-01,  6.23934615e-01,  6.02464076e-01,\n",
       "         6.32713835e-01,  4.44444444e-01,  6.70401523e-01,\n",
       "         4.04888165e-01,  5.39850887e-01,  3.17820863e-01,\n",
       "         2.69925443e-01,  2.18903034e-01,  1.33067464e-01,\n",
       "         2.50195542e-01, -1.71751347e-01],\n",
       "       [ 0.00000000e+00,  0.00000000e+00,  0.00000000e+00,\n",
       "         0.00000000e+00,  0.00000000e+00,  1.54846264e-02,\n",
       "         3.51364184e-01,  4.58572235e-01,  2.76026224e-01,\n",
       "         1.44942759e-01, -1.18782774e-01,  8.95861718e-02,\n",
       "         3.24632742e-01,  1.80351523e-01,  4.24705993e-01,\n",
       "         3.24632742e-01,  3.65651855e-01, -5.33456635e-02,\n",
       "        -3.34337856e-02,  1.07105782e-01],\n",
       "       [ 0.00000000e+00,  0.00000000e+00,  0.00000000e+00,\n",
       "         0.00000000e+00,  0.00000000e+00,  0.00000000e+00,\n",
       "         6.16980269e-01,  5.93757635e-01,  2.24393554e-01,\n",
       "         4.43041494e-01,  4.63505333e-01,  3.32097691e-01,\n",
       "         6.26341362e-01,  5.55965928e-01,  3.48023808e-01,\n",
       "         1.33713324e-01,  5.10801400e-01,  6.21015119e-01,\n",
       "         2.54402536e-01,  2.17925983e-01],\n",
       "       [ 0.00000000e+00,  0.00000000e+00,  0.00000000e+00,\n",
       "         0.00000000e+00,  0.00000000e+00,  0.00000000e+00,\n",
       "         0.00000000e+00,  8.08558858e-01,  2.90957187e-01,\n",
       "         5.27101636e-01,  9.39060283e-02,  3.96614890e-01,\n",
       "         5.01883001e-01,  6.15947320e-01,  2.95468420e-01,\n",
       "         5.01883001e-01,  6.66024591e-01,  3.03648840e-01,\n",
       "         2.00881135e-01,  1.83864750e-01],\n",
       "       [ 0.00000000e+00,  0.00000000e+00,  0.00000000e+00,\n",
       "         0.00000000e+00,  0.00000000e+00,  0.00000000e+00,\n",
       "         0.00000000e+00,  0.00000000e+00,  6.04122093e-01,\n",
       "         7.44427319e-01,  3.11967308e-01,  4.86258308e-01,\n",
       "         5.11563076e-01,  5.74719012e-01,  2.82576699e-01,\n",
       "         4.48407141e-01,  4.89131353e-01,  2.21055119e-01,\n",
       "         6.43935843e-02,  1.52705295e-01],\n",
       "       [ 0.00000000e+00,  0.00000000e+00,  0.00000000e+00,\n",
       "         0.00000000e+00,  0.00000000e+00,  0.00000000e+00,\n",
       "         0.00000000e+00,  0.00000000e+00,  0.00000000e+00,\n",
       "         4.90098029e-01,  5.59430928e-01,  6.92387716e-01,\n",
       "         2.61354187e-01,  3.13625024e-01,  2.05152485e-01,\n",
       "         1.04541675e-01,  1.27171171e-01,  1.54610422e-01,\n",
       "        -1.93800633e-01, -1.33038021e-01],\n",
       "       [ 0.00000000e+00,  0.00000000e+00,  0.00000000e+00,\n",
       "         0.00000000e+00,  0.00000000e+00,  0.00000000e+00,\n",
       "         0.00000000e+00,  0.00000000e+00,  0.00000000e+00,\n",
       "         0.00000000e+00,  3.16356918e-01,  5.27185596e-01,\n",
       "         3.95246588e-01,  4.50141947e-01,  3.18870742e-01,\n",
       "         1.20769791e-01,  2.93824176e-01,  1.40723631e-01,\n",
       "        -1.42471963e-01,  5.58871474e-02],\n",
       "       [ 0.00000000e+00,  0.00000000e+00,  0.00000000e+00,\n",
       "         0.00000000e+00,  0.00000000e+00,  0.00000000e+00,\n",
       "         0.00000000e+00,  0.00000000e+00,  0.00000000e+00,\n",
       "         0.00000000e+00,  0.00000000e+00,  6.70401523e-01,\n",
       "         4.04888165e-01,  5.39850887e-01,  3.70791007e-01,\n",
       "         0.00000000e+00,  1.09451517e-01,  4.65736124e-01,\n",
       "         3.75293313e-01, -5.72504489e-02],\n",
       "       [ 0.00000000e+00,  0.00000000e+00,  0.00000000e+00,\n",
       "         0.00000000e+00,  0.00000000e+00,  0.00000000e+00,\n",
       "         0.00000000e+00,  0.00000000e+00,  0.00000000e+00,\n",
       "         0.00000000e+00,  0.00000000e+00,  0.00000000e+00,\n",
       "         4.47872110e-01,  6.51450342e-01,  3.83521663e-01,\n",
       "         1.76434468e-01,  3.46703792e-01,  2.87697834e-01,\n",
       "         1.63538185e-01, -5.18140640e-02],\n",
       "       [ 0.00000000e+00,  0.00000000e+00,  0.00000000e+00,\n",
       "         0.00000000e+00,  0.00000000e+00,  0.00000000e+00,\n",
       "         0.00000000e+00,  0.00000000e+00,  0.00000000e+00,\n",
       "         0.00000000e+00,  0.00000000e+00,  0.00000000e+00,\n",
       "         0.00000000e+00,  5.90163934e-01,  6.69145912e-01,\n",
       "         9.83606557e-02,  4.71961395e-01,  4.92978588e-01,\n",
       "         3.19098823e-01,  1.87758237e-01],\n",
       "       [ 0.00000000e+00,  0.00000000e+00,  0.00000000e+00,\n",
       "         0.00000000e+00,  0.00000000e+00,  0.00000000e+00,\n",
       "         0.00000000e+00,  0.00000000e+00,  0.00000000e+00,\n",
       "         0.00000000e+00,  0.00000000e+00,  0.00000000e+00,\n",
       "         0.00000000e+00,  0.00000000e+00,  5.40464006e-01,\n",
       "         3.44262295e-01,  6.04908267e-01,  2.50530102e-01,\n",
       "         5.47026554e-01,  4.86780613e-02],\n",
       "       [ 0.00000000e+00,  0.00000000e+00,  0.00000000e+00,\n",
       "         0.00000000e+00,  0.00000000e+00,  0.00000000e+00,\n",
       "         0.00000000e+00,  0.00000000e+00,  0.00000000e+00,\n",
       "         0.00000000e+00,  0.00000000e+00,  0.00000000e+00,\n",
       "         0.00000000e+00,  0.00000000e+00,  0.00000000e+00,\n",
       "        -1.02945525e-01,  2.97420092e-01,  1.07843621e-01,\n",
       "         3.81683342e-01, -5.45861612e-03],\n",
       "       [ 0.00000000e+00,  0.00000000e+00,  0.00000000e+00,\n",
       "         0.00000000e+00,  0.00000000e+00,  0.00000000e+00,\n",
       "         0.00000000e+00,  0.00000000e+00,  0.00000000e+00,\n",
       "         0.00000000e+00,  0.00000000e+00,  0.00000000e+00,\n",
       "         0.00000000e+00,  0.00000000e+00,  0.00000000e+00,\n",
       "         0.00000000e+00,  3.39014523e-01,  2.50530102e-01,\n",
       "         1.67147003e-01,  4.86780613e-02],\n",
       "       [ 0.00000000e+00,  0.00000000e+00,  0.00000000e+00,\n",
       "         0.00000000e+00,  0.00000000e+00,  0.00000000e+00,\n",
       "         0.00000000e+00,  0.00000000e+00,  0.00000000e+00,\n",
       "         0.00000000e+00,  0.00000000e+00,  0.00000000e+00,\n",
       "         0.00000000e+00,  0.00000000e+00,  0.00000000e+00,\n",
       "         0.00000000e+00,  0.00000000e+00,  4.29286746e-01,\n",
       "         2.52619998e-01,  6.11889400e-01],\n",
       "       [ 0.00000000e+00,  0.00000000e+00,  0.00000000e+00,\n",
       "         0.00000000e+00,  0.00000000e+00,  0.00000000e+00,\n",
       "         0.00000000e+00,  0.00000000e+00,  0.00000000e+00,\n",
       "         0.00000000e+00,  0.00000000e+00,  0.00000000e+00,\n",
       "         0.00000000e+00,  0.00000000e+00,  0.00000000e+00,\n",
       "         0.00000000e+00,  0.00000000e+00,  0.00000000e+00,\n",
       "         1.57308887e-01,  2.63969661e-01],\n",
       "       [ 0.00000000e+00,  0.00000000e+00,  0.00000000e+00,\n",
       "         0.00000000e+00,  0.00000000e+00,  0.00000000e+00,\n",
       "         0.00000000e+00,  0.00000000e+00,  0.00000000e+00,\n",
       "         0.00000000e+00,  0.00000000e+00,  0.00000000e+00,\n",
       "         0.00000000e+00,  0.00000000e+00,  0.00000000e+00,\n",
       "         0.00000000e+00,  0.00000000e+00,  0.00000000e+00,\n",
       "         0.00000000e+00,  1.09577124e-01],\n",
       "       [ 0.00000000e+00,  0.00000000e+00,  0.00000000e+00,\n",
       "         0.00000000e+00,  0.00000000e+00,  0.00000000e+00,\n",
       "         0.00000000e+00,  0.00000000e+00,  0.00000000e+00,\n",
       "         0.00000000e+00,  0.00000000e+00,  0.00000000e+00,\n",
       "         0.00000000e+00,  0.00000000e+00,  0.00000000e+00,\n",
       "         0.00000000e+00,  0.00000000e+00,  0.00000000e+00,\n",
       "         0.00000000e+00,  0.00000000e+00]])"
      ]
     },
     "execution_count": 101,
     "metadata": {},
     "output_type": "execute_result"
    }
   ],
   "source": [
    "rsc_matrix"
   ]
  },
  {
   "cell_type": "code",
   "execution_count": 102,
   "id": "18adc445-a691-43b2-8a6c-e0274bbbc5cd",
   "metadata": {},
   "outputs": [],
   "source": [
    "np.fill_diagonal(rsc_matrix, 1)"
   ]
  },
  {
   "cell_type": "code",
   "execution_count": 103,
   "id": "62e6d03f-fa47-4710-ac2b-1c693b02ec27",
   "metadata": {},
   "outputs": [
    {
     "data": {
      "text/plain": [
       "<Axes: >"
      ]
     },
     "execution_count": 103,
     "metadata": {},
     "output_type": "execute_result"
    },
    {
     "data": {
      "image/png": "[encoded data removed]",
      "text/plain": [
       "<Figure size 640x480 with 2 Axes>"
      ]
     },
     "metadata": {},
     "output_type": "display_data"
    }
   ],
   "source": [
    "sns.heatmap(rsc_matrix)"
   ]
  },
  {
   "cell_type": "code",
   "execution_count": 104,
   "id": "f34c07de-c1b0-469a-a49d-b696f26b431b",
   "metadata": {},
   "outputs": [],
   "source": [
    "T = np.zeros((nbins,))\n",
    "for i in range(nbins):\n",
    "    T[i] = np.nanmean(np.diag(rsc_matrix, k=i))"
   ]
  },
  {
   "cell_type": "code",
   "execution_count": 105,
   "id": "78477b72-80bd-4cd1-8426-846f1c13c2f3",
   "metadata": {},
   "outputs": [
    {
     "data": {
      "text/plain": [
       "array([ 1.        ,  0.36296646,  0.38588515,  0.35353818,  0.34666735,\n",
       "        0.31733815,  0.23089945,  0.25731956,  0.24789467,  0.20915815,\n",
       "        0.22320308,  0.19936474,  0.29284579,  0.11344475,  0.22715124,\n",
       "        0.11839977,  0.05373975,  0.07157328, -0.18598241, -0.30267411])"
      ]
     },
     "execution_count": 105,
     "metadata": {},
     "output_type": "execute_result"
    }
   ],
   "source": [
    "T"
   ]
  },
  {
   "cell_type": "code",
   "execution_count": 110,
   "id": "176fe6cb-0eed-43da-9516-3794546b5be1",
   "metadata": {},
   "outputs": [
    {
     "data": {
      "text/plain": [
       "[<matplotlib.lines.Line2D at 0x1591661cbc0>]"
      ]
     },
     "execution_count": 110,
     "metadata": {},
     "output_type": "execute_result"
    },
    {
     "data": {
      "image/png": "[encoded data removed]",
      "text/plain": [
       "<Figure size 640x480 with 1 Axes>"
      ]
     },
     "metadata": {},
     "output_type": "display_data"
    }
   ],
   "source": [
    "plt.plot(T[:10], '.')\n",
    "##https://github.com/AllenInstitute/neuropixels_platform_paper/blob/master/Figure3/timescale_calculation.py"
   ]
  }
 ],
 "metadata": {
  "kernelspec": {
   "display_name": "Python 3 (ipykernel)",
   "language": "python",
   "name": "python3"
  },
  "language_info": {
   "codemirror_mode": {
    "name": "ipython",
    "version": 3
   },
   "file_extension": ".py",
   "mimetype": "text/x-python",
   "name": "python",
   "nbconvert_exporter": "python",
   "pygments_lexer": "ipython3",
   "version": "3.12.3"
  }
 },
 "nbformat": 4,
 "nbformat_minor": 5
}
