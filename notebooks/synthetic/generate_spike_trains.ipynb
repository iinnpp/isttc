{
 "cells": [
  {
   "cell_type": "markdown",
   "id": "8b1b6c08-9434-4f91-9117-5eb95ee10ad4",
   "metadata": {},
   "source": [
    "Spike trains are generated using univariate, self‐exciting Hawkes point process with an exponential kernel, using Ogata’s thinning algorithm. "
   ]
  },
  {
   "cell_type": "code",
   "execution_count": 1,
   "id": "33aee8d9-673e-4302-b31b-e56b96b123e9",
   "metadata": {},
   "outputs": [],
   "source": [
    "import numpy as np\n",
    "import pandas as pd\n",
    "import pickle\n",
    "\n",
    "import os\n",
    "current_wd = os.getcwd()\n",
    "os.chdir(os.path.abspath(\"..\\\\..\\\\..\\\\isttc\\\\scripts\"))\n",
    "from cfg_global import project_folder_path\n",
    "from spike_train_utils import simulate_hawkes_thinning\n",
    "os.chdir(current_wd)"
   ]
  },
  {
   "cell_type": "code",
   "execution_count": 2,
   "id": "0ca96473-a0d8-461a-be79-b2c2ef2d4662",
   "metadata": {},
   "outputs": [],
   "source": [
    "dataset_folder = project_folder_path + 'results\\\\synthetic_data\\\\dataset\\\\'"
   ]
  },
  {
   "cell_type": "code",
   "execution_count": 12,
   "id": "0f3a0461-66e4-49e2-a0dd-1a9f4babe1dc",
   "metadata": {},
   "outputs": [],
   "source": [
    "save_data = True"
   ]
  },
  {
   "cell_type": "markdown",
   "id": "6349c97f-8809-4186-945c-0dc173336786",
   "metadata": {},
   "source": [
    "### Main dataset \n",
    "\n",
    "1000 spike trains, 3 parameters are fixed \n",
    "\n",
    "Fig2 B, C, D"
   ]
  },
  {
   "cell_type": "code",
   "execution_count": 10,
   "id": "5e4cc1ae-4ca4-4a75-afba-239ab19d4d84",
   "metadata": {},
   "outputs": [],
   "source": [
    "rate_hz     = 3.5     # target firing rate (Hz)\n",
    "tau_ms      = 100.0    # desired autocorr time constant (ms)\n",
    "alpha       = 0.3     # self‐excitation weight (must be <1)\n",
    "duration_ms = 10*60*1000*1    # simulate for 10 min\n",
    "\n",
    "# generate\n",
    "num_trials = 1000\n",
    "all_spike_trains = []\n",
    "for trial in range(num_trials):\n",
    "    spikes = simulate_hawkes_thinning(\n",
    "        fr_hz_=rate_hz,\n",
    "        tau_ms_=tau_ms,\n",
    "        alpha_=alpha,\n",
    "        duration_ms_=duration_ms,\n",
    "        seed_=trial  # different seed per trial\n",
    "    )\n",
    "    all_spike_trains.append(spikes)\n",
    "\n",
    "if save_data:\n",
    "    file_name = 'spike_trains_tau100ms_alpha0_3_fr3_5hz_len600sec_1000.pkl'\n",
    "    with open(dataset_folder + file_name, 'wb') as f:\n",
    "        pickle.dump({\n",
    "            'spike_trains': all_spike_trains,\n",
    "            'alphas': alpha,\n",
    "            'fr_values': rate_hz,\n",
    "            'tau_ms': tau_ms,\n",
    "            'duration_ms': duration_ms\n",
    "        }, f, protocol=pickle.HIGHEST_PROTOCOL)"
   ]
  },
  {
   "cell_type": "markdown",
   "id": "9d2fc131-c3f7-4b7d-b5c8-18abdcf894bb",
   "metadata": {},
   "source": [
    "### Parametric dataset 1\n",
    "\n",
    "10000 spike trains, tau is fixed, fr and alpha are variable\n",
    "\n",
    "Fig2 E"
   ]
  },
  {
   "cell_type": "code",
   "execution_count": null,
   "id": "9639630f-1ce0-475a-86ef-c2396b476127",
   "metadata": {},
   "outputs": [],
   "source": [
    "fr_min, fr_max = 0.01, 10.0  \n",
    "alpha_min, alpha_max = 0.1, 0.9  \n",
    "\n",
    "tau_ms      = 100.0    # desired autocorr time constant (ms)\n",
    "duration_ms = 10*60*1000*1    # simulate for 10 min\n",
    "\n",
    "# generate\n",
    "num_trials = 10000\n",
    "\n",
    "# Random sampling of parameters\n",
    "global_rng = np.random.default_rng(42)\n",
    "fr_values = global_rng.uniform(fr_min, fr_max, size=num_trials)\n",
    "alphas = global_rng.uniform(alpha_min, alpha_max, size=num_trials)\n",
    "\n",
    "# Generate spike trains\n",
    "all_spike_trains = []\n",
    "for trial in range(num_trials):\n",
    "    rate_hz = fr_values[trial]\n",
    "    alpha = alphas[trial]\n",
    "    spikes = simulate_hawkes_thinning(\n",
    "        fr_hz_=rate_hz,\n",
    "        tau_ms_=tau_ms,\n",
    "        alpha_=alpha,\n",
    "        duration_ms_=duration_ms,\n",
    "        seed_=trial  # different seed per trial for reproducibility\n",
    "    )\n",
    "    all_spike_trains.append(spikes)\n",
    "\n",
    "if save_data:\n",
    "    file_name = 'spike_trains_tau100ms_alpha_var_fr_var_len600sec_10000.pkl'\n",
    "    with open(dataset_folder + file_name, 'wb') as f:\n",
    "        pickle.dump({\n",
    "            'spike_trains': all_spike_trains,\n",
    "            'alphas': alphas,\n",
    "            'fr_values': fr_values,\n",
    "            'tau_ms': tau_ms,\n",
    "            'duration_ms': duration_ms\n",
    "        }, f, protocol=pickle.HIGHEST_PROTOCOL)"
   ]
  },
  {
   "cell_type": "markdown",
   "id": "3e575196-10ad-4844-b54f-8f533dddec52",
   "metadata": {},
   "source": [
    "### Parametric dataset 2\n",
    "\n",
    "100000 spike trains, tau, fr and alpha are variable"
   ]
  },
  {
   "cell_type": "code",
   "execution_count": 14,
   "id": "ed816273-cd11-425c-afea-abc5da66ed94",
   "metadata": {},
   "outputs": [
    {
     "ename": "NameError",
     "evalue": "name 'save_folder' is not defined",
     "output_type": "error",
     "traceback": [
      "\u001b[1;31m---------------------------------------------------------------------------\u001b[0m",
      "\u001b[1;31mNameError\u001b[0m                                 Traceback (most recent call last)",
      "Cell \u001b[1;32mIn[14], line 33\u001b[0m\n\u001b[0;32m     31\u001b[0m \u001b[38;5;28;01mif\u001b[39;00m save_data:\n\u001b[0;32m     32\u001b[0m     file_name \u001b[38;5;241m=\u001b[39m \u001b[38;5;124m'\u001b[39m\u001b[38;5;124mspike_trains_3params_var_len600sec_100000.pkl\u001b[39m\u001b[38;5;124m'\u001b[39m\n\u001b[1;32m---> 33\u001b[0m     \u001b[38;5;28;01mwith\u001b[39;00m \u001b[38;5;28mopen\u001b[39m(save_folder \u001b[38;5;241m+\u001b[39m file_name, \u001b[38;5;124m'\u001b[39m\u001b[38;5;124mwb\u001b[39m\u001b[38;5;124m'\u001b[39m) \u001b[38;5;28;01mas\u001b[39;00m f:\n\u001b[0;32m     34\u001b[0m         pickle\u001b[38;5;241m.\u001b[39mdump({\n\u001b[0;32m     35\u001b[0m             \u001b[38;5;124m'\u001b[39m\u001b[38;5;124mspike_trains\u001b[39m\u001b[38;5;124m'\u001b[39m: all_spike_trains,\n\u001b[0;32m     36\u001b[0m             \u001b[38;5;124m'\u001b[39m\u001b[38;5;124malphas\u001b[39m\u001b[38;5;124m'\u001b[39m: alphas,\n\u001b[1;32m   (...)\u001b[0m\n\u001b[0;32m     39\u001b[0m             \u001b[38;5;124m'\u001b[39m\u001b[38;5;124mduration_ms\u001b[39m\u001b[38;5;124m'\u001b[39m: duration_ms\n\u001b[0;32m     40\u001b[0m         }, f, protocol\u001b[38;5;241m=\u001b[39mpickle\u001b[38;5;241m.\u001b[39mHIGHEST_PROTOCOL)\n",
      "\u001b[1;31mNameError\u001b[0m: name 'save_folder' is not defined"
     ]
    }
   ],
   "source": [
    "fr_min, fr_max = 0.01, 10.0  \n",
    "alpha_min, alpha_max = 0.1, 0.9  \n",
    "tau_ms_min, tau_ms_max = 50, 300\n",
    "\n",
    "duration_ms = 10*60*1000*1    # simulate for 10 min\n",
    "\n",
    "# generate\n",
    "num_trials = 100000\n",
    "\n",
    "# Random sampling of parameters\n",
    "global_rng = np.random.default_rng(42)\n",
    "fr_values = global_rng.uniform(fr_min, fr_max, size=num_trials)\n",
    "alphas = global_rng.uniform(alpha_min, alpha_max, size=num_trials)\n",
    "taus = global_rng.uniform(tau_ms_min, tau_ms_max, size=num_trials)\n",
    "\n",
    "# Generate spike trains\n",
    "all_spike_trains = []\n",
    "for trial in range(num_trials):\n",
    "    rate_hz = fr_values[trial]\n",
    "    alpha = alphas[trial]\n",
    "    tau_ms = taus[trial]\n",
    "    spikes = simulate_hawkes_thinning(\n",
    "        fr_hz_=rate_hz,\n",
    "        tau_ms_=tau_ms,\n",
    "        alpha_=alpha,\n",
    "        duration_ms_=duration_ms,\n",
    "        seed_=trial  # different seed per trial for reproducibility\n",
    "    )\n",
    "    all_spike_trains.append(spikes)\n",
    "\n",
    "if save_data:\n",
    "    file_name = 'spike_trains_3params_var_len600sec_100000.pkl'\n",
    "    with open(dataset_folder + file_name, 'wb') as f:\n",
    "        pickle.dump({\n",
    "            'spike_trains': all_spike_trains,\n",
    "            'alphas': alphas,\n",
    "            'fr_values': fr_values,\n",
    "            'tau_ms': taus,\n",
    "            'duration_ms': duration_ms\n",
    "        }, f, protocol=pickle.HIGHEST_PROTOCOL)\n"
   ]
  }
 ],
 "metadata": {
  "kernelspec": {
   "display_name": "Python 3 (ipykernel)",
   "language": "python",
   "name": "python3"
  },
  "language_info": {
   "codemirror_mode": {
    "name": "ipython",
    "version": 3
   },
   "file_extension": ".py",
   "mimetype": "text/x-python",
   "name": "python",
   "nbconvert_exporter": "python",
   "pygments_lexer": "ipython3",
   "version": "3.12.9"
  }
 },
 "nbformat": 4,
 "nbformat_minor": 5
}
