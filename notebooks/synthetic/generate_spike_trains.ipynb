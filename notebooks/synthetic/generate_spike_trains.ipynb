{
 "cells": [
  {
   "cell_type": "markdown",
   "id": "8b1b6c08-9434-4f91-9117-5eb95ee10ad4",
   "metadata": {},
   "source": [
    "Spike trains are generated using univariate, self‐exciting Hawkes point process with an exponential kernel, using Ogata’s thinning algorithm. "
   ]
  },
  {
   "cell_type": "code",
   "execution_count": 1,
   "id": "33aee8d9-673e-4302-b31b-e56b96b123e9",
   "metadata": {},
   "outputs": [],
   "source": [
    "import numpy as np\n",
    "import pandas as pd\n",
    "\n",
    "from scipy.optimize import curve_fit\n",
    "from statsmodels.tsa.stattools import acf\n",
    "\n",
    "from datetime import datetime\n",
    "\n",
    "import os\n",
    "current_wd = os.getcwd()\n",
    "os.chdir(os.path.abspath(\"..\\\\..\\\\..\\\\isttc\\\\scripts\"))\n",
    "from cfg_global import project_folder_path\n",
    "from calculate_tau import func_single_exp_monkey, fit_single_exp\n",
    "from calculate_acf import acf_sttc\n",
    "from spike_train_utils import bin_spike_train_fixed_len\n",
    "os.chdir(current_wd)\n",
    "\n",
    "import matplotlib as mpl\n",
    "import matplotlib.pyplot as plt\n",
    "import seaborn as sns\n",
    "\n",
    "mpl.rcParams['pdf.fonttype'] = 42\n",
    "mpl.rcParams['ps.fonttype'] = 42\n",
    "plt.rcParams['svg.fonttype'] = 'none'"
   ]
  },
  {
   "cell_type": "code",
   "execution_count": 2,
   "id": "0ca96473-a0d8-461a-be79-b2c2ef2d4662",
   "metadata": {},
   "outputs": [],
   "source": [
    "save_folder = project_folder_path + 'results\\\\synthetic_data\\\\dataset\\\\'\n",
    "fig_folder = project_folder_path + 'results\\\\synthetic_data\\\\dataset\\\\'"
   ]
  },
  {
   "cell_type": "code",
   "execution_count": 3,
   "id": "870ba293-8180-4e45-b45f-95afbf59202d",
   "metadata": {},
   "outputs": [],
   "source": [
    "def simulate_hawkes_thinning(rate_hz, tau_ms, alpha, duration_ms, seed=None):\n",
    "    \"\"\"\n",
    "    Simulate 1D Hawkes with exponential kernel via Ogata's thinning.\n",
    "    \n",
    "    rate_hz    : stationary rate in spikes/sec\n",
    "    tau_ms     : target time constant (ms)\n",
    "    alpha      : kernel integral (<1 for stability)\n",
    "    duration_ms: total sim time (ms)\n",
    "    \"\"\"\n",
    "    rng = np.random.default_rng(seed)\n",
    "    tau_kernel_ms = tau_ms * (1 - alpha)\n",
    "    tau = tau_kernel_ms / 1000.0\n",
    "    mu = rate_hz * (1 - alpha)       # baseline intensity (spikes/sec)\n",
    "    \n",
    "    t = 0.0\n",
    "    events = []\n",
    "    # current kernel sum K = sum_i (α/τ e^{-(t - t_i)/τ})\n",
    "    K = 0.0\n",
    "    \n",
    "    # convert to seconds for intensity calculus\n",
    "    T_sec = duration_ms / 1000.0\n",
    "    \n",
    "    while True:\n",
    "        lambda_upper = mu + K             # global upper‐bound on intensity\n",
    "        if lambda_upper <= 0:\n",
    "            break\n",
    "        # draw next candidate time increment (sec)\n",
    "        w = rng.exponential(1.0 / lambda_upper)\n",
    "        t += w\n",
    "        if t >= T_sec:\n",
    "            break\n",
    "        # decay K over interval w\n",
    "        K *= np.exp(-w/tau)\n",
    "        # actual intensity at new t\n",
    "        lambda_t = mu + K\n",
    "        if rng.random() < lambda_t / lambda_upper:\n",
    "            # accept\n",
    "            events.append(t * 1000.0)  # store in ms\n",
    "            # add kernel jump α/τ at event\n",
    "            K += alpha / tau\n",
    "    \n",
    "    return np.array(events)"
   ]
  },
  {
   "cell_type": "code",
   "execution_count": 109,
   "id": "5e4cc1ae-4ca4-4a75-afba-239ab19d4d84",
   "metadata": {},
   "outputs": [],
   "source": [
    "rate_hz     = 3.5     # target firing rate (Hz)\n",
    "tau_ms      = 100.0    # desired autocorr time constant (ms)\n",
    "alpha       = 0.3      # self‐excitation weight (must be <1)\n",
    "\n",
    "duration_ms = 3000*1    # simulate for 10 min\n",
    "\n",
    "# bin_size_ms = 50       # bin for ACF\n",
    "# maxlag_ms   = 1000      # how far to compute ACF"
   ]
  },
  {
   "cell_type": "code",
   "execution_count": 110,
   "id": "ddd28b46-fb2c-4874-8fb5-d65ae705b6f7",
   "metadata": {},
   "outputs": [],
   "source": [
    "# Generate 100 spike trains\n",
    "num_trials = 100\n",
    "all_spike_trains = []\n",
    "\n",
    "for trial in range(num_trials):\n",
    "    spikes = simulate_hawkes_thinning(\n",
    "        rate_hz=rate_hz,\n",
    "        tau_ms=tau_ms,\n",
    "        alpha=alpha,\n",
    "        duration_ms=duration_ms,\n",
    "        seed=trial  # different seed per trial\n",
    "    )\n",
    "    all_spike_trains.append(spikes)"
   ]
  },
  {
   "cell_type": "code",
   "execution_count": 25,
   "id": "def971cb-e6f7-44d5-8844-4ad3f2e842cf",
   "metadata": {},
   "outputs": [],
   "source": [
    "# obj_array = np.array(all_spike_trains, dtype=object)\n",
    "# np.save(save_folder + 'spike_trains_tau100ms_fr3_5hz_1000.npy', obj_array, allow_pickle=True)"
   ]
  },
  {
   "cell_type": "code",
   "execution_count": 49,
   "id": "93c27bae-28a3-4934-ab28-821cbc9dd38a",
   "metadata": {},
   "outputs": [
    {
     "data": {
      "text/plain": [
       "100"
      ]
     },
     "execution_count": 49,
     "metadata": {},
     "output_type": "execute_result"
    }
   ],
   "source": [
    "len(all_spike_trains)"
   ]
  },
  {
   "cell_type": "code",
   "execution_count": 111,
   "id": "d81cb21a-5b2a-4723-8bb4-6c0ede168bc0",
   "metadata": {},
   "outputs": [
    {
     "data": {
      "image/png": "[encoded data removed]",
      "text/plain": [
       "<Figure size 640x480 with 1 Axes>"
      ]
     },
     "metadata": {},
     "output_type": "display_data"
    }
   ],
   "source": [
    "# Compute firing rates (Hz)\n",
    "duration_s = duration_ms / 1000.0\n",
    "rates = [len(train) / duration_s for train in all_spike_trains]\n",
    "\n",
    "# Plot histogram\n",
    "plt.figure()\n",
    "plt.hist(rates, bins=20)\n",
    "plt.xlabel('Firing rate (Hz)')\n",
    "plt.ylabel('Number of trials')\n",
    "plt.title('Histogram of firing rates across 100 trials')\n",
    "plt.show()"
   ]
  },
  {
   "cell_type": "code",
   "execution_count": 112,
   "id": "586425db-2845-4ea4-98c7-d4f3fd7989c2",
   "metadata": {},
   "outputs": [],
   "source": [
    "fs = 1000\n",
    "bin_size = 50 # in ms\n",
    "\n",
    "all_spike_trains_binned_l = []\n",
    "for i in range(len(all_spike_trains)):\n",
    "    binned_spike_train = bin_spike_train_fixed_len([int(spike) for spike in all_spike_trains[i]],\n",
    "                                                   bin_size, fs, duration_ms,\n",
    "                                                   verbose_=False)\n",
    "    all_spike_trains_binned_l.append(binned_spike_train)"
   ]
  },
  {
   "cell_type": "code",
   "execution_count": 89,
   "id": "ea6e3da9-e0bb-49ad-b756-ae411fecc44d",
   "metadata": {},
   "outputs": [
    {
     "data": {
      "text/plain": [
       "100"
      ]
     },
     "execution_count": 89,
     "metadata": {},
     "output_type": "execute_result"
    }
   ],
   "source": [
    "len(all_spike_trains_binned_l)"
   ]
  },
  {
   "cell_type": "code",
   "execution_count": 113,
   "id": "c4bace51-a4fc-481f-a042-88e897fd9c59",
   "metadata": {},
   "outputs": [
    {
     "name": "stdout",
     "output_type": "stream",
     "text": [
      "acf_cols ['acf_0', 'acf_1', 'acf_2', 'acf_3', 'acf_4', 'acf_5', 'acf_6', 'acf_7', 'acf_8', 'acf_9', 'acf_10', 'acf_11', 'acf_12', 'acf_13', 'acf_14', 'acf_15', 'acf_16', 'acf_17', 'acf_18', 'acf_19', 'acf_20']\n",
      "Processing unit 0\n",
      "Processing unit 50\n",
      "NaNs in acf False\n"
     ]
    }
   ],
   "source": [
    "n_lags = 20\n",
    "acf_cols = ['acf_' + str(i) for i in range(n_lags+1)]\n",
    "print('acf_cols {}'.format(acf_cols))\n",
    "calc_acf_full = True\n",
    "\n",
    "if calc_acf_full:\n",
    "    acf_full_l = []\n",
    "    \n",
    "    for unit_idx, unit in enumerate(all_spike_trains_binned_l):\n",
    "        if unit_idx % 50 == 0:\n",
    "            print(f'Processing unit {unit_idx}')\n",
    "        #spike_train_binned_int = np.asarray([int(spike) for spike in unit)\n",
    "        spike_train_binned_acf = acf(unit, nlags=n_lags)\n",
    "        acf_full_l.append(spike_train_binned_acf)\n",
    "    \n",
    "    acf_full_df = pd.DataFrame(np.array(acf_full_l), columns=acf_cols)\n",
    "    \n",
    "    print('NaNs in acf {}'.format(acf_full_df.isnull().any().any()))\n",
    "    acf_full_df.head(3)\n",
    "    \n",
    "    # acf_full_df.to_pickle(dataset_folder + 'cut_30min\\\\binned\\\\acf\\\\acf_full_50ms_20lags_df.pkl')"
   ]
  },
  {
   "cell_type": "code",
   "execution_count": null,
   "id": "66d18fae-3edf-4836-9605-7350353cda8f",
   "metadata": {},
   "outputs": [],
   "source": [
    "acf_full_df"
   ]
  },
  {
   "cell_type": "code",
   "execution_count": 114,
   "id": "cc399943-4a31-47bf-9dd9-61fdaacac72a",
   "metadata": {},
   "outputs": [
    {
     "name": "stdout",
     "output_type": "stream",
     "text": [
      "acf_cols ['acf_0', 'acf_1', 'acf_2', 'acf_3', 'acf_4', 'acf_5', 'acf_6', 'acf_7', 'acf_8', 'acf_9', 'acf_10', 'acf_11', 'acf_12', 'acf_13', 'acf_14', 'acf_15', 'acf_16', 'acf_17', 'acf_18', 'acf_19', 'acf_20']\n",
      "Processing unit 0\n",
      "Processing unit 50\n",
      "NaNs in acf False\n"
     ]
    }
   ],
   "source": [
    "n_lags = 20\n",
    "acf_cols = ['acf_' + str(i) for i in range(n_lags+1)]\n",
    "print('acf_cols {}'.format(acf_cols))\n",
    "calc_isttc_full = True\n",
    "\n",
    "bin_size = int(50 * (fs / 1000))\n",
    "sttc_dt = int(25 * (fs / 1000))\n",
    "\n",
    "if calc_isttc_full:\n",
    "    acf_isttc_full_l = []\n",
    "    \n",
    "    for unit_idx, unit in enumerate(all_spike_trains):\n",
    "        if unit_idx % 50 == 0:\n",
    "            print(f'Processing unit {unit_idx}')\n",
    "        spike_train_int = np.asarray([int(spike) for spike in unit])\n",
    "        spike_train_acf = acf_sttc(spike_train_int, n_lags, bin_size, sttc_dt, duration_ms, verbose_=False)\n",
    "        acf_isttc_full_l.append(spike_train_acf)\n",
    "    \n",
    "    acf_isttc_full_df = pd.DataFrame(np.array(acf_isttc_full_l), columns=acf_cols)\n",
    "    \n",
    "    print('NaNs in acf {}'.format(acf_isttc_full_df.isnull().any().any()))\n",
    "    acf_isttc_full_df.head(3)"
   ]
  },
  {
   "cell_type": "code",
   "execution_count": null,
   "id": "cd42e4f3-4602-4234-be55-f9ca9d89e926",
   "metadata": {},
   "outputs": [],
   "source": [
    "acf_isttc_full_df"
   ]
  },
  {
   "cell_type": "code",
   "execution_count": 115,
   "id": "1940d800-e398-447d-92d7-1d833936b146",
   "metadata": {},
   "outputs": [
    {
     "name": "stdout",
     "output_type": "stream",
     "text": [
      "acf_2d shape (100, 21)\n",
      "acf_full_unit_ids shape (100,)\n",
      "#####\n",
      "Processing unit 0, 1/100, 2025-05-07 11:32:45.460574\n",
      "#####\n",
      "Processing unit 50, 51/100, 2025-05-07 11:32:47.388531\n"
     ]
    }
   ],
   "source": [
    "calc_taus = True\n",
    "\n",
    "if calc_taus:\n",
    "    acf_full_2d = acf_full_df[acf_cols].values\n",
    "    print(f'acf_2d shape {acf_full_2d.shape}')\n",
    "    acf_full_unit_ids = acf_full_df.index.values\n",
    "    print(f'acf_full_unit_ids shape {acf_full_unit_ids.shape}')\n",
    "    \n",
    "    acf_full_dict = {}\n",
    "    for unit_id_idx, unit_id in enumerate(acf_full_unit_ids):\n",
    "        if unit_id_idx % 50 == 0:\n",
    "            print(f'#####\\nProcessing unit {unit_id}, {unit_id_idx+1}/{len(acf_full_unit_ids)}, {datetime.now()}')\n",
    "        fit_popt, fit_pcov, tau, tau_ci, fit_r_squared, explained_var, log_message = fit_single_exp(acf_full_2d[unit_id_idx,:],\n",
    "                                                                                  start_idx_=1, exp_fun_=func_single_exp_monkey)\n",
    "        taus = {'tau':tau,\n",
    "                'tau_lower':tau_ci[0],\n",
    "                'tau_upper':tau_ci[1],\n",
    "                'fit_r_squared': fit_r_squared,\n",
    "                'explained_var': explained_var,\n",
    "                'popt': fit_popt,\n",
    "                'pcov': fit_pcov,\n",
    "                'log_message': log_message}\n",
    "        acf_full_dict[unit_id] = {'taus': taus,\n",
    "                                  'acf': acf_full_2d[unit_id_idx,:]}"
   ]
  },
  {
   "cell_type": "code",
   "execution_count": 116,
   "id": "0538d88f-0f03-4536-84a1-754ade8297e6",
   "metadata": {},
   "outputs": [
    {
     "name": "stdout",
     "output_type": "stream",
     "text": [
      "isttc_full_2d shape (100, 21)\n",
      "isttc_full_unit_ids shape (100,)\n",
      "#####\n",
      "Processing unit 0, 1/100, 2025-05-07 11:32:51.564116\n",
      "#####\n",
      "Processing unit 50, 51/100, 2025-05-07 11:32:52.519688\n"
     ]
    }
   ],
   "source": [
    "if calc_taus:\n",
    "    isttc_full_2d = acf_isttc_full_df[acf_cols].values\n",
    "    print(f'isttc_full_2d shape {isttc_full_2d.shape}')\n",
    "    isttc_full_unit_ids = acf_isttc_full_df.index.values\n",
    "    print(f'isttc_full_unit_ids shape {isttc_full_unit_ids.shape}')\n",
    "    \n",
    "    isttc_full_dict = {}\n",
    "    for unit_id_idx, unit_id in enumerate(isttc_full_unit_ids):\n",
    "        if unit_id_idx % 50 == 0:\n",
    "            print(f'#####\\nProcessing unit {unit_id}, {unit_id_idx+1}/{len(isttc_full_unit_ids)}, {datetime.now()}')\n",
    "        fit_popt, fit_pcov, tau, tau_ci, fit_r_squared, explained_var, log_message = fit_single_exp(isttc_full_2d[unit_id_idx,:],\n",
    "                                                                                  start_idx_=1, exp_fun_=func_single_exp_monkey)\n",
    "        taus = {'tau':tau,\n",
    "                'tau_lower':tau_ci[0],\n",
    "                'tau_upper':tau_ci[1],\n",
    "                'fit_r_squared': fit_r_squared,\n",
    "                'explained_var': explained_var,\n",
    "                'popt': fit_popt,\n",
    "                'pcov': fit_pcov,\n",
    "                'log_message': log_message}\n",
    "        isttc_full_dict[unit_id] = {'taus': taus,\n",
    "                                    'acf': isttc_full_2d[unit_id_idx,:]}"
   ]
  },
  {
   "cell_type": "code",
   "execution_count": 117,
   "id": "361933c2-29e6-489b-9b10-3c8636ba14ed",
   "metadata": {},
   "outputs": [],
   "source": [
    "def calculate_acf_decline_flag(acf_, start_idx=1, end_idx=4):\n",
    "    acf_decay = np.all(np.diff(acf_[start_idx:end_idx]) <= 0)\n",
    "    return acf_decay"
   ]
  },
  {
   "cell_type": "code",
   "execution_count": 118,
   "id": "a48062b0-b41f-4118-8e9d-d55261973ed0",
   "metadata": {},
   "outputs": [
    {
     "name": "stdout",
     "output_type": "stream",
     "text": [
      "N rows with NaNs 0\n"
     ]
    },
    {
     "data": {
      "text/html": [
       "<div>\n",
       "<style scoped>\n",
       "    .dataframe tbody tr th:only-of-type {\n",
       "        vertical-align: middle;\n",
       "    }\n",
       "\n",
       "    .dataframe tbody tr th {\n",
       "        vertical-align: top;\n",
       "    }\n",
       "\n",
       "    .dataframe thead th {\n",
       "        text-align: right;\n",
       "    }\n",
       "</style>\n",
       "<table border=\"1\" class=\"dataframe\">\n",
       "  <thead>\n",
       "    <tr style=\"text-align: right;\">\n",
       "      <th></th>\n",
       "      <th>unit_id</th>\n",
       "      <th>tau</th>\n",
       "      <th>tau_lower</th>\n",
       "      <th>tau_upper</th>\n",
       "      <th>fit_r_squared</th>\n",
       "      <th>decline_150_250</th>\n",
       "      <th>method</th>\n",
       "      <th>tau_ms</th>\n",
       "    </tr>\n",
       "  </thead>\n",
       "  <tbody>\n",
       "    <tr>\n",
       "      <th>0</th>\n",
       "      <td>0</td>\n",
       "      <td>0.050310</td>\n",
       "      <td>-3.911275e+06</td>\n",
       "      <td>3.911275e+06</td>\n",
       "      <td>-4.859292e-09</td>\n",
       "      <td>True</td>\n",
       "      <td>acf_full</td>\n",
       "      <td>2.515495</td>\n",
       "    </tr>\n",
       "    <tr>\n",
       "      <th>1</th>\n",
       "      <td>1</td>\n",
       "      <td>0.494505</td>\n",
       "      <td>-2.946955e-01</td>\n",
       "      <td>1.283706e+00</td>\n",
       "      <td>5.798606e-01</td>\n",
       "      <td>True</td>\n",
       "      <td>acf_full</td>\n",
       "      <td>24.725269</td>\n",
       "    </tr>\n",
       "  </tbody>\n",
       "</table>\n",
       "</div>"
      ],
      "text/plain": [
       "   unit_id       tau     tau_lower     tau_upper  fit_r_squared  \\\n",
       "0        0  0.050310 -3.911275e+06  3.911275e+06  -4.859292e-09   \n",
       "1        1  0.494505 -2.946955e-01  1.283706e+00   5.798606e-01   \n",
       "\n",
       "   decline_150_250    method     tau_ms  \n",
       "0             True  acf_full   2.515495  \n",
       "1             True  acf_full  24.725269  "
      ]
     },
     "execution_count": 118,
     "metadata": {},
     "output_type": "execute_result"
    }
   ],
   "source": [
    "data = []\n",
    "for unit_id, unit_data in acf_full_dict.items():\n",
    "    taus = unit_data['taus']  \n",
    "    data.append({\n",
    "        'unit_id': unit_id,\n",
    "        'tau': taus['tau'],\n",
    "        'tau_lower': taus['tau_lower'],\n",
    "        'tau_upper': taus['tau_upper'],\n",
    "        'fit_r_squared': taus['fit_r_squared'],\n",
    "        'decline_150_250': calculate_acf_decline_flag(unit_data['acf'], start_idx=2, end_idx=4)\n",
    "    })\n",
    "acf_full_plot_df = pd.DataFrame(data)\n",
    "acf_full_plot_df['method'] = 'acf_full'\n",
    "acf_full_plot_df['tau_ms'] = acf_full_plot_df['tau'] * 50\n",
    "#acf_full_plot_df = acf_full_plot_df.merge(units_info_df_subset, on='unit_id', how='left')\n",
    "\n",
    "rows_with_nans_df = acf_full_plot_df[acf_full_plot_df.isna().any(axis=1)]\n",
    "n_rows_with_nan = len(rows_with_nans_df)\n",
    "print(f'N rows with NaNs {n_rows_with_nan}')\n",
    "\n",
    "acf_full_plot_df.head(2)"
   ]
  },
  {
   "cell_type": "code",
   "execution_count": 119,
   "id": "2916e483-1d61-4ae1-9ce2-d524d3571f3e",
   "metadata": {},
   "outputs": [
    {
     "data": {
      "text/html": [
       "<div>\n",
       "<style scoped>\n",
       "    .dataframe tbody tr th:only-of-type {\n",
       "        vertical-align: middle;\n",
       "    }\n",
       "\n",
       "    .dataframe tbody tr th {\n",
       "        vertical-align: top;\n",
       "    }\n",
       "\n",
       "    .dataframe thead th {\n",
       "        text-align: right;\n",
       "    }\n",
       "</style>\n",
       "<table border=\"1\" class=\"dataframe\">\n",
       "  <thead>\n",
       "    <tr style=\"text-align: right;\">\n",
       "      <th></th>\n",
       "      <th>unit_id</th>\n",
       "      <th>tau</th>\n",
       "      <th>tau_lower</th>\n",
       "      <th>tau_upper</th>\n",
       "      <th>fit_r_squared</th>\n",
       "      <th>tau_ms</th>\n",
       "    </tr>\n",
       "  </thead>\n",
       "  <tbody>\n",
       "    <tr>\n",
       "      <th>count</th>\n",
       "      <td>100.000000</td>\n",
       "      <td>100.000000</td>\n",
       "      <td>1.000000e+02</td>\n",
       "      <td>1.000000e+02</td>\n",
       "      <td>1.000000e+02</td>\n",
       "      <td>1.000000e+02</td>\n",
       "    </tr>\n",
       "    <tr>\n",
       "      <th>mean</th>\n",
       "      <td>49.500000</td>\n",
       "      <td>264.187442</td>\n",
       "      <td>-9.494789e+06</td>\n",
       "      <td>9.495318e+06</td>\n",
       "      <td>1.777495e-01</td>\n",
       "      <td>1.320937e+04</td>\n",
       "    </tr>\n",
       "    <tr>\n",
       "      <th>std</th>\n",
       "      <td>29.011492</td>\n",
       "      <td>2581.909771</td>\n",
       "      <td>4.734460e+07</td>\n",
       "      <td>4.734664e+07</td>\n",
       "      <td>2.388791e-01</td>\n",
       "      <td>1.290955e+05</td>\n",
       "    </tr>\n",
       "    <tr>\n",
       "      <th>min</th>\n",
       "      <td>0.000000</td>\n",
       "      <td>0.000250</td>\n",
       "      <td>-4.069313e+08</td>\n",
       "      <td>2.502496e-04</td>\n",
       "      <td>-4.859292e-09</td>\n",
       "      <td>1.251248e-02</td>\n",
       "    </tr>\n",
       "    <tr>\n",
       "      <th>25%</th>\n",
       "      <td>24.750000</td>\n",
       "      <td>0.077503</td>\n",
       "      <td>-1.794433e+03</td>\n",
       "      <td>1.662903e+00</td>\n",
       "      <td>3.675881e-04</td>\n",
       "      <td>3.875141e+00</td>\n",
       "    </tr>\n",
       "    <tr>\n",
       "      <th>50%</th>\n",
       "      <td>49.500000</td>\n",
       "      <td>0.113754</td>\n",
       "      <td>-6.151111e+00</td>\n",
       "      <td>1.028761e+01</td>\n",
       "      <td>4.066489e-02</td>\n",
       "      <td>5.687693e+00</td>\n",
       "    </tr>\n",
       "    <tr>\n",
       "      <th>75%</th>\n",
       "      <td>74.250000</td>\n",
       "      <td>1.804626</td>\n",
       "      <td>1.767328e-03</td>\n",
       "      <td>1.794622e+03</td>\n",
       "      <td>2.952111e-01</td>\n",
       "      <td>9.023130e+01</td>\n",
       "    </tr>\n",
       "    <tr>\n",
       "      <th>max</th>\n",
       "      <td>99.000000</td>\n",
       "      <td>25823.158163</td>\n",
       "      <td>1.865326e+00</td>\n",
       "      <td>4.069313e+08</td>\n",
       "      <td>9.306499e-01</td>\n",
       "      <td>1.291158e+06</td>\n",
       "    </tr>\n",
       "  </tbody>\n",
       "</table>\n",
       "</div>"
      ],
      "text/plain": [
       "          unit_id           tau     tau_lower     tau_upper  fit_r_squared  \\\n",
       "count  100.000000    100.000000  1.000000e+02  1.000000e+02   1.000000e+02   \n",
       "mean    49.500000    264.187442 -9.494789e+06  9.495318e+06   1.777495e-01   \n",
       "std     29.011492   2581.909771  4.734460e+07  4.734664e+07   2.388791e-01   \n",
       "min      0.000000      0.000250 -4.069313e+08  2.502496e-04  -4.859292e-09   \n",
       "25%     24.750000      0.077503 -1.794433e+03  1.662903e+00   3.675881e-04   \n",
       "50%     49.500000      0.113754 -6.151111e+00  1.028761e+01   4.066489e-02   \n",
       "75%     74.250000      1.804626  1.767328e-03  1.794622e+03   2.952111e-01   \n",
       "max     99.000000  25823.158163  1.865326e+00  4.069313e+08   9.306499e-01   \n",
       "\n",
       "             tau_ms  \n",
       "count  1.000000e+02  \n",
       "mean   1.320937e+04  \n",
       "std    1.290955e+05  \n",
       "min    1.251248e-02  \n",
       "25%    3.875141e+00  \n",
       "50%    5.687693e+00  \n",
       "75%    9.023130e+01  \n",
       "max    1.291158e+06  "
      ]
     },
     "execution_count": 119,
     "metadata": {},
     "output_type": "execute_result"
    }
   ],
   "source": [
    "acf_full_plot_df.describe()"
   ]
  },
  {
   "cell_type": "code",
   "execution_count": 120,
   "id": "a878f4d4-0f0f-48ae-8808-d92ac8b45ed9",
   "metadata": {},
   "outputs": [
    {
     "name": "stdout",
     "output_type": "stream",
     "text": [
      "N rows with NaNs 0\n"
     ]
    },
    {
     "data": {
      "text/html": [
       "<div>\n",
       "<style scoped>\n",
       "    .dataframe tbody tr th:only-of-type {\n",
       "        vertical-align: middle;\n",
       "    }\n",
       "\n",
       "    .dataframe tbody tr th {\n",
       "        vertical-align: top;\n",
       "    }\n",
       "\n",
       "    .dataframe thead th {\n",
       "        text-align: right;\n",
       "    }\n",
       "</style>\n",
       "<table border=\"1\" class=\"dataframe\">\n",
       "  <thead>\n",
       "    <tr style=\"text-align: right;\">\n",
       "      <th></th>\n",
       "      <th>unit_id</th>\n",
       "      <th>tau</th>\n",
       "      <th>tau_lower</th>\n",
       "      <th>tau_upper</th>\n",
       "      <th>fit_r_squared</th>\n",
       "      <th>decline_150_250</th>\n",
       "      <th>method</th>\n",
       "      <th>tau_ms</th>\n",
       "    </tr>\n",
       "  </thead>\n",
       "  <tbody>\n",
       "    <tr>\n",
       "      <th>0</th>\n",
       "      <td>0</td>\n",
       "      <td>0.057805</td>\n",
       "      <td>-1.154133e+06</td>\n",
       "      <td>1.154133e+06</td>\n",
       "      <td>-9.535663e-10</td>\n",
       "      <td>True</td>\n",
       "      <td>isttc_full</td>\n",
       "      <td>2.890247</td>\n",
       "    </tr>\n",
       "    <tr>\n",
       "      <th>1</th>\n",
       "      <td>1</td>\n",
       "      <td>0.530912</td>\n",
       "      <td>-2.915357e-01</td>\n",
       "      <td>1.353359e+00</td>\n",
       "      <td>5.586027e-01</td>\n",
       "      <td>True</td>\n",
       "      <td>isttc_full</td>\n",
       "      <td>26.545577</td>\n",
       "    </tr>\n",
       "  </tbody>\n",
       "</table>\n",
       "</div>"
      ],
      "text/plain": [
       "   unit_id       tau     tau_lower     tau_upper  fit_r_squared  \\\n",
       "0        0  0.057805 -1.154133e+06  1.154133e+06  -9.535663e-10   \n",
       "1        1  0.530912 -2.915357e-01  1.353359e+00   5.586027e-01   \n",
       "\n",
       "   decline_150_250      method     tau_ms  \n",
       "0             True  isttc_full   2.890247  \n",
       "1             True  isttc_full  26.545577  "
      ]
     },
     "execution_count": 120,
     "metadata": {},
     "output_type": "execute_result"
    }
   ],
   "source": [
    "data = []\n",
    "for unit_id, unit_data in isttc_full_dict.items():\n",
    "    taus = unit_data['taus']      \n",
    "    data.append({\n",
    "        'unit_id': unit_id,\n",
    "        'tau': taus['tau'],\n",
    "        'tau_lower': taus['tau_lower'],\n",
    "        'tau_upper': taus['tau_upper'],\n",
    "        'fit_r_squared': taus['fit_r_squared'],\n",
    "        'decline_150_250': calculate_acf_decline_flag(unit_data['acf'], start_idx=2, end_idx=4)\n",
    "    })\n",
    "acf_isttc_full_plot_df = pd.DataFrame(data)\n",
    "acf_isttc_full_plot_df['method'] = 'isttc_full'\n",
    "acf_isttc_full_plot_df['tau_ms'] = acf_isttc_full_plot_df['tau'] * 50\n",
    "#acf_isttc_full_plot_df = acf_isttc_full_plot_df.merge(units_info_df_subset, on='unit_id', how='left')\n",
    "\n",
    "rows_with_nans_df = acf_isttc_full_plot_df[acf_isttc_full_plot_df.isna().any(axis=1)]\n",
    "n_rows_with_nan = len(rows_with_nans_df)\n",
    "print(f'N rows with NaNs {n_rows_with_nan}')\n",
    "\n",
    "acf_isttc_full_plot_df.head(2)"
   ]
  },
  {
   "cell_type": "code",
   "execution_count": 121,
   "id": "90cba63b-746a-4072-bb80-fc1b3ce37c59",
   "metadata": {},
   "outputs": [
    {
     "data": {
      "text/html": [
       "<div>\n",
       "<style scoped>\n",
       "    .dataframe tbody tr th:only-of-type {\n",
       "        vertical-align: middle;\n",
       "    }\n",
       "\n",
       "    .dataframe tbody tr th {\n",
       "        vertical-align: top;\n",
       "    }\n",
       "\n",
       "    .dataframe thead th {\n",
       "        text-align: right;\n",
       "    }\n",
       "</style>\n",
       "<table border=\"1\" class=\"dataframe\">\n",
       "  <thead>\n",
       "    <tr style=\"text-align: right;\">\n",
       "      <th></th>\n",
       "      <th>unit_id</th>\n",
       "      <th>tau</th>\n",
       "      <th>tau_lower</th>\n",
       "      <th>tau_upper</th>\n",
       "      <th>fit_r_squared</th>\n",
       "      <th>tau_ms</th>\n",
       "    </tr>\n",
       "  </thead>\n",
       "  <tbody>\n",
       "    <tr>\n",
       "      <th>count</th>\n",
       "      <td>100.000000</td>\n",
       "      <td>100.000000</td>\n",
       "      <td>1.000000e+02</td>\n",
       "      <td>1.000000e+02</td>\n",
       "      <td>1.000000e+02</td>\n",
       "      <td>1.000000e+02</td>\n",
       "    </tr>\n",
       "    <tr>\n",
       "      <th>mean</th>\n",
       "      <td>49.500000</td>\n",
       "      <td>1909.941143</td>\n",
       "      <td>-6.886687e+07</td>\n",
       "      <td>6.887069e+07</td>\n",
       "      <td>1.549885e-01</td>\n",
       "      <td>9.549706e+04</td>\n",
       "    </tr>\n",
       "    <tr>\n",
       "      <th>std</th>\n",
       "      <td>29.011492</td>\n",
       "      <td>9688.357642</td>\n",
       "      <td>3.588069e+08</td>\n",
       "      <td>3.588248e+08</td>\n",
       "      <td>2.305444e-01</td>\n",
       "      <td>4.844179e+05</td>\n",
       "    </tr>\n",
       "    <tr>\n",
       "      <th>min</th>\n",
       "      <td>0.000000</td>\n",
       "      <td>0.001346</td>\n",
       "      <td>-3.092948e+09</td>\n",
       "      <td>1.346292e-03</td>\n",
       "      <td>-4.694391e-09</td>\n",
       "      <td>6.731461e-02</td>\n",
       "    </tr>\n",
       "    <tr>\n",
       "      <th>25%</th>\n",
       "      <td>24.750000</td>\n",
       "      <td>0.083803</td>\n",
       "      <td>-2.824070e+03</td>\n",
       "      <td>3.300469e+00</td>\n",
       "      <td>8.732442e-05</td>\n",
       "      <td>4.190133e+00</td>\n",
       "    </tr>\n",
       "    <tr>\n",
       "      <th>50%</th>\n",
       "      <td>49.500000</td>\n",
       "      <td>0.116034</td>\n",
       "      <td>-1.139284e+01</td>\n",
       "      <td>2.548054e+01</td>\n",
       "      <td>4.350918e-02</td>\n",
       "      <td>5.801687e+00</td>\n",
       "    </tr>\n",
       "    <tr>\n",
       "      <th>75%</th>\n",
       "      <td>74.250000</td>\n",
       "      <td>2.002841</td>\n",
       "      <td>-3.927081e-01</td>\n",
       "      <td>2.824252e+03</td>\n",
       "      <td>2.070114e-01</td>\n",
       "      <td>1.001420e+02</td>\n",
       "    </tr>\n",
       "    <tr>\n",
       "      <th>max</th>\n",
       "      <td>99.000000</td>\n",
       "      <td>68562.991113</td>\n",
       "      <td>2.435109e+00</td>\n",
       "      <td>3.093085e+09</td>\n",
       "      <td>9.629223e-01</td>\n",
       "      <td>3.428150e+06</td>\n",
       "    </tr>\n",
       "  </tbody>\n",
       "</table>\n",
       "</div>"
      ],
      "text/plain": [
       "          unit_id           tau     tau_lower     tau_upper  fit_r_squared  \\\n",
       "count  100.000000    100.000000  1.000000e+02  1.000000e+02   1.000000e+02   \n",
       "mean    49.500000   1909.941143 -6.886687e+07  6.887069e+07   1.549885e-01   \n",
       "std     29.011492   9688.357642  3.588069e+08  3.588248e+08   2.305444e-01   \n",
       "min      0.000000      0.001346 -3.092948e+09  1.346292e-03  -4.694391e-09   \n",
       "25%     24.750000      0.083803 -2.824070e+03  3.300469e+00   8.732442e-05   \n",
       "50%     49.500000      0.116034 -1.139284e+01  2.548054e+01   4.350918e-02   \n",
       "75%     74.250000      2.002841 -3.927081e-01  2.824252e+03   2.070114e-01   \n",
       "max     99.000000  68562.991113  2.435109e+00  3.093085e+09   9.629223e-01   \n",
       "\n",
       "             tau_ms  \n",
       "count  1.000000e+02  \n",
       "mean   9.549706e+04  \n",
       "std    4.844179e+05  \n",
       "min    6.731461e-02  \n",
       "25%    4.190133e+00  \n",
       "50%    5.801687e+00  \n",
       "75%    1.001420e+02  \n",
       "max    3.428150e+06  "
      ]
     },
     "execution_count": 121,
     "metadata": {},
     "output_type": "execute_result"
    }
   ],
   "source": [
    "acf_isttc_full_plot_df.describe()"
   ]
  },
  {
   "cell_type": "code",
   "execution_count": 122,
   "id": "2daee832-92c6-49e1-a909-8ec642281ad6",
   "metadata": {},
   "outputs": [
    {
     "data": {
      "image/png": "[encoded data removed]",
      "text/plain": [
       "<Figure size 640x480 with 1 Axes>"
      ]
     },
     "metadata": {},
     "output_type": "display_data"
    }
   ],
   "source": [
    "# Plot histogram\n",
    "plt.figure()\n",
    "plt.hist(np.log10(acf_full_plot_df['tau_ms'].values), bins=20)\n",
    "plt.xlabel('Firing rate (Hz)')\n",
    "plt.ylabel('Number of trials')\n",
    "plt.title('Histogram of firing rates across 100 trials')\n",
    "plt.show()"
   ]
  },
  {
   "cell_type": "code",
   "execution_count": 123,
   "id": "1c5a10ab-dd7b-4e37-975f-519570cb6499",
   "metadata": {},
   "outputs": [
    {
     "data": {
      "image/png": "[encoded data removed]",
      "text/plain": [
       "<Figure size 640x480 with 1 Axes>"
      ]
     },
     "metadata": {},
     "output_type": "display_data"
    }
   ],
   "source": [
    "# Plot histogram\n",
    "plt.figure()\n",
    "plt.hist(np.log10(acf_isttc_full_plot_df['tau_ms'].values), bins=20)\n",
    "plt.xlabel('Firing rate (Hz)')\n",
    "plt.ylabel('Number of trials')\n",
    "plt.title('Histogram of firing rates across 100 trials')\n",
    "plt.show()"
   ]
  },
  {
   "cell_type": "code",
   "execution_count": 124,
   "id": "55c15fe2-78b5-4c93-b63f-db7a1cc10860",
   "metadata": {},
   "outputs": [
    {
     "data": {
      "image/png": "[encoded data removed]",
      "text/plain": [
       "<Figure size 640x480 with 1 Axes>"
      ]
     },
     "metadata": {},
     "output_type": "display_data"
    }
   ],
   "source": [
    "# Plot histogram\n",
    "plt.figure()\n",
    "plt.hist(acf_full_plot_df['fit_r_squared'].values, bins=20)\n",
    "plt.xlabel('Firing rate (Hz)')\n",
    "plt.ylabel('Number of trials')\n",
    "plt.title('Histogram of firing rates across 100 trials')\n",
    "plt.show()"
   ]
  },
  {
   "cell_type": "code",
   "execution_count": 125,
   "id": "a0466ae4-4f3c-46d2-8c5b-bac0280fa5ee",
   "metadata": {},
   "outputs": [
    {
     "data": {
      "image/png": "[encoded data removed]",
      "text/plain": [
       "<Figure size 640x480 with 1 Axes>"
      ]
     },
     "metadata": {},
     "output_type": "display_data"
    }
   ],
   "source": [
    "# Plot histogram\n",
    "plt.figure()\n",
    "plt.hist(acf_isttc_full_plot_df['fit_r_squared'].values, bins=20)\n",
    "plt.xlabel('Firing rate (Hz)')\n",
    "plt.ylabel('Number of trials')\n",
    "plt.title('Histogram of firing rates across 100 trials')\n",
    "plt.show()"
   ]
  },
  {
   "cell_type": "code",
   "execution_count": 126,
   "id": "711ae8e8-ad15-4349-949c-1424dbdb4c9c",
   "metadata": {},
   "outputs": [
    {
     "name": "stdout",
     "output_type": "stream",
     "text": [
      "51\n"
     ]
    },
    {
     "data": {
      "image/png": "[encoded data removed]",
      "text/plain": [
       "<Figure size 640x480 with 1 Axes>"
      ]
     },
     "metadata": {},
     "output_type": "display_data"
    }
   ],
   "source": [
    "print(np.count_nonzero(acf_isttc_full_plot_df['fit_r_squared'].values-acf_full_plot_df['fit_r_squared'].values > 0))\n",
    "\n",
    "plt.figure()\n",
    "plt.hist(acf_isttc_full_plot_df['fit_r_squared'].values-acf_full_plot_df['fit_r_squared'].values, bins=20)\n",
    "plt.xlabel('Firing rate (Hz)')\n",
    "plt.ylabel('Number of trials')\n",
    "plt.title('Histogram of firing rates across 100 trials')\n",
    "plt.show()"
   ]
  },
  {
   "cell_type": "markdown",
   "id": "6eef126a-4a3d-455c-9099-4aa3019a54fc",
   "metadata": {},
   "source": [
    "#### Tests"
   ]
  },
  {
   "cell_type": "code",
   "execution_count": null,
   "id": "22d8be26-e0f2-4043-aa2e-5d7f35350716",
   "metadata": {},
   "outputs": [],
   "source": [
    "def bin_spikes(spikes_ms, bin_size_ms, duration_ms):\n",
    "    bins = np.arange(0, duration_ms + bin_size_ms, bin_size_ms)\n",
    "    counts, _ = np.histogram(spikes_ms, bins=bins)\n",
    "    return counts\n",
    "\n",
    "def autocorr(x, maxlag_bins):\n",
    "    x = x - x.mean()\n",
    "    full = np.correlate(x, x, mode='full')\n",
    "    acf = full[full.size//2:] / full[full.size//2]\n",
    "    return acf[:maxlag_bins]\n",
    "\n",
    "def fit_exponential(acf, bin_size_ms):\n",
    "    lags = np.arange(len(acf)) * bin_size_ms\n",
    "    mask = lags >= bin_size_ms\n",
    "    def exp_fn(t, A, τ): return A * np.exp(-t/τ)\n",
    "    popt, _ = curve_fit(exp_fn, lags[mask], acf[mask], p0=(acf[1], 100.0))\n",
    "    return popt  # (A, τ)\n",
    "\n",
    "\n",
    "# 1) simulate Hawkes\n",
    "spikes = simulate_hawkes_thinning(rate_hz, tau_ms, alpha, duration_ms)\n",
    "\n",
    "# 2) bin & compute ACF\n",
    "counts    = bin_spikes(spikes, bin_size_ms, duration_ms)\n",
    "maxlag_bins = int(maxlag_ms / bin_size_ms)\n",
    "acf       = autocorr(counts, maxlag_bins)\n",
    "\n",
    "# 3) fit exponential (drop zero‐lag)\n",
    "A_est, tau_est = fit_exponential(acf, bin_size_ms)\n",
    "print(f\"Fitted τ ≃ {tau_est:.1f} ms  (target {tau_ms} ms)\")\n",
    "\n",
    "# 4) plot\n",
    "lags = np.arange(len(acf)) * bin_size_ms\n",
    "plt.figure(figsize=(6,4))\n",
    "plt.plot(lags, acf,    label='ACF')\n",
    "plt.plot(lags, A_est*np.exp(-lags/tau_est),\n",
    "         label=f'Fit: τ={tau_est:.1f} ms')\n",
    "plt.xlabel('Lag (ms)')\n",
    "plt.ylabel('Normalized ACF')\n",
    "plt.title('Hawkes Spike Train ACF')\n",
    "plt.legend()\n",
    "plt.tight_layout()\n",
    "plt.show()"
   ]
  }
 ],
 "metadata": {
  "kernelspec": {
   "display_name": "Python 3 (ipykernel)",
   "language": "python",
   "name": "python3"
  },
  "language_info": {
   "codemirror_mode": {
    "name": "ipython",
    "version": 3
   },
   "file_extension": ".py",
   "mimetype": "text/x-python",
   "name": "python",
   "nbconvert_exporter": "python",
   "pygments_lexer": "ipython3",
   "version": "3.12.9"
  }
 },
 "nbformat": 4,
 "nbformat_minor": 5
}
