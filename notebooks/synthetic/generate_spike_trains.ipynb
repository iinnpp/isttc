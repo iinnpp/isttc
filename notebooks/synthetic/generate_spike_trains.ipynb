{
 "cells": [
  {
   "cell_type": "markdown",
   "id": "8b1b6c08-9434-4f91-9117-5eb95ee10ad4",
   "metadata": {},
   "source": [
    "Spike trains are generated using univariate, self‐exciting Hawkes point process with an exponential kernel, using Ogata’s thinning algorithm. "
   ]
  },
  {
   "cell_type": "code",
   "execution_count": null,
   "id": "33aee8d9-673e-4302-b31b-e56b96b123e9",
   "metadata": {},
   "outputs": [],
   "source": [
    "import numpy as np\n",
    "import pandas as pd\n",
    "\n",
    "from scipy.optimize import curve_fit\n",
    "from statsmodels.tsa.stattools import acf\n",
    "\n",
    "from datetime import datetime\n",
    "\n",
    "import os\n",
    "current_wd = os.getcwd()\n",
    "os.chdir(os.path.abspath(\"..\\\\..\\\\..\\\\isttc\\\\scripts\"))\n",
    "from cfg_global import project_folder_path\n",
    "from calculate_tau import func_single_exp_monkey, fit_single_exp\n",
    "from calculate_acf import acf_sttc\n",
    "from spike_train_utils import bin_spike_train_fixed_len\n",
    "os.chdir(current_wd)\n",
    "\n",
    "import matplotlib as mpl\n",
    "import matplotlib.pyplot as plt\n",
    "import seaborn as sns\n",
    "\n",
    "mpl.rcParams['pdf.fonttype'] = 42\n",
    "mpl.rcParams['ps.fonttype'] = 42\n",
    "plt.rcParams['svg.fonttype'] = 'none'"
   ]
  },
  {
   "cell_type": "code",
   "execution_count": null,
   "id": "0ca96473-a0d8-461a-be79-b2c2ef2d4662",
   "metadata": {},
   "outputs": [],
   "source": [
    "save_folder = project_folder_path + 'results\\\\synthetic_data\\\\dataset\\\\'\n",
    "fig_folder = project_folder_path + 'results\\\\synthetic_data\\\\dataset\\\\'"
   ]
  },
  {
   "cell_type": "code",
   "execution_count": null,
   "id": "870ba293-8180-4e45-b45f-95afbf59202d",
   "metadata": {},
   "outputs": [],
   "source": [
    "def simulate_hawkes_thinning(rate_hz, tau_ms, alpha, duration_ms, seed=None):\n",
    "    \"\"\"\n",
    "    Simulate 1D Hawkes with exponential kernel via Ogata's thinning.\n",
    "    \n",
    "    rate_hz    : stationary rate in spikes/sec\n",
    "    tau_ms     : target time constant (ms)\n",
    "    alpha      : kernel integral (<1 for stability)\n",
    "    duration_ms: total sim time (ms)\n",
    "    \"\"\"\n",
    "    rng = np.random.default_rng(seed)\n",
    "    tau_kernel_ms = tau_ms * (1 - alpha)\n",
    "    tau = tau_kernel_ms / 1000.0\n",
    "    mu = rate_hz * (1 - alpha)       # baseline intensity (spikes/sec)\n",
    "    \n",
    "    t = 0.0\n",
    "    events = []\n",
    "    # current kernel sum K = sum_i (α/τ e^{-(t - t_i)/τ})\n",
    "    K = 0.0\n",
    "    \n",
    "    # convert to seconds for intensity calculus\n",
    "    T_sec = duration_ms / 1000.0\n",
    "    \n",
    "    while True:\n",
    "        lambda_upper = mu + K             # global upper‐bound on intensity\n",
    "        if lambda_upper <= 0:\n",
    "            break\n",
    "        # draw next candidate time increment (sec)\n",
    "        w = rng.exponential(1.0 / lambda_upper)\n",
    "        t += w\n",
    "        if t >= T_sec:\n",
    "            break\n",
    "        # decay K over interval w\n",
    "        K *= np.exp(-w/tau)\n",
    "        # actual intensity at new t\n",
    "        lambda_t = mu + K\n",
    "        if rng.random() < lambda_t / lambda_upper:\n",
    "            # accept\n",
    "            events.append(t * 1000.0)  # store in ms\n",
    "            # add kernel jump α/τ at event\n",
    "            K += alpha / tau\n",
    "    \n",
    "    return np.array(events)"
   ]
  },
  {
   "cell_type": "code",
   "execution_count": null,
   "id": "5e4cc1ae-4ca4-4a75-afba-239ab19d4d84",
   "metadata": {},
   "outputs": [],
   "source": [
    "rate_hz     = 1.5     # target firing rate (Hz)\n",
    "tau_ms      = 100.0    # desired autocorr time constant (ms)\n",
    "alpha       = 0.3      # self‐excitation weight (must be <1)\n",
    "\n",
    "duration_ms = 3000*1    # simulate for 10 min\n",
    "\n",
    "# bin_size_ms = 50       # bin for ACF\n",
    "# maxlag_ms   = 1000      # how far to compute ACF"
   ]
  },
  {
   "cell_type": "code",
   "execution_count": null,
   "id": "ddd28b46-fb2c-4874-8fb5-d65ae705b6f7",
   "metadata": {},
   "outputs": [],
   "source": [
    "# Generate 100 spike trains\n",
    "num_trials = 100\n",
    "all_spike_trains = []\n",
    "\n",
    "for trial in range(num_trials):\n",
    "    spikes = simulate_hawkes_thinning(\n",
    "        rate_hz=rate_hz,\n",
    "        tau_ms=tau_ms,\n",
    "        alpha=alpha,\n",
    "        duration_ms=duration_ms,\n",
    "        seed=trial  # different seed per trial\n",
    "    )\n",
    "    all_spike_trains.append(spikes)"
   ]
  },
  {
   "cell_type": "code",
   "execution_count": null,
   "id": "def971cb-e6f7-44d5-8844-4ad3f2e842cf",
   "metadata": {},
   "outputs": [],
   "source": [
    "# obj_array = np.array(all_spike_trains, dtype=object)\n",
    "# np.save(save_folder + 'spike_trains_tau100ms_fr3_5hz_1000.npy', obj_array, allow_pickle=True)"
   ]
  }
 ],
 "metadata": {
  "kernelspec": {
   "display_name": "Python 3 (ipykernel)",
   "language": "python",
   "name": "python3"
  },
  "language_info": {
   "codemirror_mode": {
    "name": "ipython",
    "version": 3
   },
   "file_extension": ".py",
   "mimetype": "text/x-python",
   "name": "python",
   "nbconvert_exporter": "python",
   "pygments_lexer": "ipython3",
   "version": "3.12.9"
  }
 },
 "nbformat": 4,
 "nbformat_minor": 5
}
