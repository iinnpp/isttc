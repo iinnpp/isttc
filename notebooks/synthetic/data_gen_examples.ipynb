{
 "cells": [
  {
   "cell_type": "code",
   "execution_count": 1,
   "id": "1eaeb8a6-d890-470f-9b5d-16130f3432af",
   "metadata": {},
   "outputs": [],
   "source": [
    "import numpy as np\n",
    "import pandas as pd\n",
    "import pickle\n",
    "\n",
    "import os\n",
    "current_wd = os.getcwd()\n",
    "os.chdir(os.path.abspath(\"..\\\\..\\\\..\\\\isttc\\\\scripts\"))\n",
    "from cfg_global import project_folder_path\n",
    "from spike_train_utils import get_lv, simulate_hawkes_thinning, get_trials\n",
    "os.chdir(current_wd)\n",
    "\n",
    "import matplotlib as mpl\n",
    "import matplotlib.pyplot as plt\n",
    "import seaborn as sns\n",
    "from scipy.ndimage import gaussian_filter1d\n",
    "\n",
    "mpl.rcParams['pdf.fonttype'] = 42\n",
    "mpl.rcParams['ps.fonttype'] = 42\n",
    "plt.rcParams['svg.fonttype'] = 'none'"
   ]
  },
  {
   "cell_type": "code",
   "execution_count": 2,
   "id": "ee18f71a-a9d9-48fe-ba5a-405fe89327a5",
   "metadata": {},
   "outputs": [],
   "source": [
    "fig_folder = project_folder_path + 'results\\\\synthetic\\\\fig_drafts_paper\\\\'"
   ]
  },
  {
   "cell_type": "code",
   "execution_count": 16,
   "id": "080ec8e7-3279-4410-adc9-4033e1f48684",
   "metadata": {},
   "outputs": [],
   "source": [
    "save_fig = True"
   ]
  },
  {
   "cell_type": "code",
   "execution_count": null,
   "id": "80c7484f-7f8a-49c2-b4e2-125df67df23f",
   "metadata": {},
   "outputs": [],
   "source": [
    "rate_hz     = [5, 10]\n",
    "tau_ms      = 100\n",
    "alpha       = 0.4 \n",
    "duration_ms = 10*1000    \n",
    "\n",
    "# generate\n",
    "num_trials = 2\n",
    "all_spike_trains = []\n",
    "for trial in range(num_trials):\n",
    "    spikes = simulate_hawkes_thinning(\n",
    "        fr_hz_=rate_hz[trial],\n",
    "        tau_ms_=tau_ms,\n",
    "        alpha_=alpha,\n",
    "        duration_ms_=duration_ms,\n",
    "        seed_=5  # different seed per trial\n",
    "    )\n",
    "    print(f'fr {len(spikes)/10}')\n",
    "    all_spike_trains.append(spikes)"
   ]
  },
  {
   "cell_type": "code",
   "execution_count": null,
   "id": "fea0ded2-1502-4566-89fd-05cfb9da99da",
   "metadata": {},
   "outputs": [],
   "source": [
    "rate_hz     = 5\n",
    "tau_ms      = [100,200]\n",
    "alpha       = 0.4\n",
    "duration_ms = 10*1000    \n",
    "\n",
    "# generate\n",
    "num_trials = 2\n",
    "all_spike_trains_taus = []\n",
    "for trial in range(num_trials):\n",
    "    spikes = simulate_hawkes_thinning(\n",
    "        fr_hz_=rate_hz,\n",
    "        tau_ms_=tau_ms[trial],\n",
    "        alpha_=alpha,\n",
    "        duration_ms_=duration_ms,\n",
    "        seed_=5  # different seed per trial\n",
    "    )\n",
    "    print(f'fr {len(spikes)/10}')\n",
    "    all_spike_trains_taus.append(spikes)"
   ]
  },
  {
   "cell_type": "code",
   "execution_count": null,
   "id": "d70030e6-8f71-48f1-82e7-6564260b9508",
   "metadata": {},
   "outputs": [],
   "source": [
    "rate_hz     = 5\n",
    "tau_ms      = 100\n",
    "alpha       = [0.4, 0.8] \n",
    "duration_ms = 10*1000    \n",
    "\n",
    "# generate\n",
    "num_trials = 2\n",
    "all_spike_trains_alpha = []\n",
    "for trial in range(num_trials):\n",
    "    spikes = simulate_hawkes_thinning(\n",
    "        fr_hz_=rate_hz,\n",
    "        tau_ms_=tau_ms,\n",
    "        alpha_=alpha[trial],\n",
    "        duration_ms_=duration_ms,\n",
    "        seed_=5  # different seed per trial\n",
    "    )\n",
    "    print(f'fr {len(spikes)/10}')\n",
    "    all_spike_trains_alpha.append(spikes)"
   ]
  },
  {
   "cell_type": "markdown",
   "id": "7ef1a8bd-66fe-47bb-aa00-9eb8b0306a39",
   "metadata": {},
   "source": [
    "### Plots"
   ]
  },
  {
   "cell_type": "markdown",
   "id": "f53cfdbe-df47-4ece-a607-cff6b01b5659",
   "metadata": {},
   "source": [
    "#### Raster plots of spike trains"
   ]
  },
  {
   "cell_type": "code",
   "execution_count": null,
   "id": "57efc1e0-13e9-4540-9f7d-ff97e9651161",
   "metadata": {},
   "outputs": [],
   "source": [
    "fig, axes = plt.subplots(3,1, figsize=(6, 8))\n",
    "\n",
    "axes[0].plot(all_spike_trains[0], np.ones(len(all_spike_trains[0]))*0.1, '|', markersize=10, alpha=0.9)\n",
    "axes[0].plot(all_spike_trains[1], np.zeros(len(all_spike_trains[1])), '|', markersize=10, alpha=1)\n",
    "\n",
    "axes[1].plot(all_spike_trains_taus[0], np.ones(len(all_spike_trains_taus[0]))*0.1, '|', markersize=10, alpha=0.9)\n",
    "axes[1].plot(all_spike_trains_taus[1], np.zeros(len(all_spike_trains_taus[1])), '|', markersize=10, alpha=1)\n",
    "\n",
    "axes[2].plot(all_spike_trains_alpha[0], np.ones(len(all_spike_trains_alpha[0]))*0.1, '|', markersize=10, alpha=0.9)\n",
    "axes[2].plot(all_spike_trains_alpha[1], np.zeros(len(all_spike_trains_alpha[1])), '|', markersize=10, alpha=1)\n",
    "\n",
    "for ax in axes.flat:\n",
    "    ax.set_ylim([-0.1, 0.2])\n",
    "    ax.set_xlim([0, 10000])\n",
    "    \n",
    "sns.despine()"
   ]
  },
  {
   "cell_type": "code",
   "execution_count": null,
   "id": "5d4c1e6a-9525-445a-b525-c41cd621e354",
   "metadata": {},
   "outputs": [],
   "source": [
    "def smoothed_rate(spike_times, T_ms=10000, dt_ms=1, sigma_ms=100):\n",
    "    # 1) bin into dt_ms-wide bins\n",
    "    edges = np.arange(0, T_ms + dt_ms, dt_ms)\n",
    "    counts, _ = np.histogram(spike_times, bins=edges)\n",
    "\n",
    "    # 2) smooth with a Gaussian (sigma in number of bins)\n",
    "    sigma_bins = sigma_ms / dt_ms\n",
    "    smooth_counts = gaussian_filter1d(counts.astype(float), sigma=sigma_bins)\n",
    "\n",
    "    # 3) convert to Hz: (spikes per bin) / (bin_width in s)\n",
    "    dt_s = dt_ms / 1000.0\n",
    "    rate_hz = smooth_counts / dt_s\n",
    "\n",
    "    # 4) bin‐centers for plotting\n",
    "    t = edges[:-1] + dt_ms/2\n",
    "    return t, rate_hz\n",
    "\n",
    "fig, axes = plt.subplots(3,1, figsize=(6, 8))\n",
    "\n",
    "for ax, trains in zip(axes,\n",
    "                      [all_spike_trains,\n",
    "                       all_spike_trains_taus,\n",
    "                       all_spike_trains_alpha]):\n",
    "    # ---- raster ----\n",
    "    ax.plot(trains[0], np.ones(len(trains[0]))*0.15,  '|', ms=10, alpha=0.8)\n",
    "    ax.plot(trains[1], np.ones(len(trains[1]))*0.1,         '|', ms=10, alpha=1.0)\n",
    "    ax.set_ylim([-0.1, 0.2])\n",
    "    ax.set_xlim([0, 10000])\n",
    "    ax.set_ylabel('Spike')\n",
    "\n",
    "    # ---- smoothed rate ----\n",
    "    t0, r0 = smoothed_rate(trains[0])\n",
    "    t1, r1 = smoothed_rate(trains[1])\n",
    "    ax_rate = ax.twinx()\n",
    "    ax_rate.plot(t0, r0, color='C0', alpha=0.6, label='Train 1 (Hz)')\n",
    "    ax_rate.plot(t1, r1, color='C1', alpha=0.6, label='Train 2 (Hz)')\n",
    "    ax_rate.set_ylim([0, 50])\n",
    "    ax_rate.set_ylabel('Instantaneous rate (Hz)')\n",
    "\n",
    "for ax in axes.flat:\n",
    "   # ax.set_ylim([-0.1, 0.2])\n",
    "    ax.set_xlim([7000, 9000])\n",
    "    ax.set_xticks(np.linspace(7000, 9000, 5))\n",
    "    ax.set_xticklabels(np.linspace(0, 2, 5))\n",
    "\n",
    "sns.despine()\n",
    "plt.tight_layout()\n",
    "\n",
    "if save_fig:\n",
    "    plt.savefig(fig_folder + 'data_gen_params_examples_7000_9000.png' , bbox_inches='tight', dpi=300)\n",
    "    plt.savefig(fig_folder + 'data_gen_params_examples_7000_9000.svg' , bbox_inches='tight')"
   ]
  },
  {
   "cell_type": "code",
   "execution_count": null,
   "id": "3b4ad2f0-8b7e-4eb6-99a4-220c72e0f161",
   "metadata": {},
   "outputs": [],
   "source": [
    "palette = sns.color_palette('Blues', n_colors=100)\n",
    "\n",
    "fig, ax = plt.subplots(figsize=(8, 1))\n",
    "ax.imshow([palette], aspect='auto')\n",
    "ax.set_axis_off()  # Hide axes for a cleaner look\n",
    "plt.show()\n",
    "\n",
    "fig.savefig(fig_folder + 'blues_palette.svg', bbox_inches='tight')\n",
    "fig.savefig(fig_folder + 'blues_palette.png', bbox_inches='tight')"
   ]
  },
  {
   "cell_type": "markdown",
   "id": "d59e406c-7780-4631-b3e5-da388ba66725",
   "metadata": {},
   "source": [
    "#### Schematic for making trials"
   ]
  },
  {
   "cell_type": "code",
   "execution_count": 4,
   "id": "527b04c6-215a-4d03-86f4-dcd155bb4a59",
   "metadata": {},
   "outputs": [
    {
     "name": "stdout",
     "output_type": "stream",
     "text": [
      "fr 4.0\n",
      "fr 5.5\n",
      "fr 5.766666666666667\n"
     ]
    }
   ],
   "source": [
    "rate_hz     = 5\n",
    "tau_ms      = 100\n",
    "alpha       = 0.4 \n",
    "duration_ms = 30*1000    \n",
    "\n",
    "# generate\n",
    "num_trials = 3\n",
    "all_spike_trains = []\n",
    "for trial in range(num_trials):\n",
    "    spikes = simulate_hawkes_thinning(\n",
    "        fr_hz_=rate_hz,\n",
    "        tau_ms_=tau_ms,\n",
    "        alpha_=alpha,\n",
    "        duration_ms_=duration_ms,\n",
    "        seed_=trial  # different seed per trial\n",
    "    )\n",
    "    print(f'fr {len(spikes)/30}')\n",
    "    all_spike_trains.append(spikes)"
   ]
  },
  {
   "cell_type": "code",
   "execution_count": 5,
   "id": "8969298c-2c2e-4797-a79d-8e9aba992765",
   "metadata": {},
   "outputs": [
    {
     "name": "stdout",
     "output_type": "stream",
     "text": [
      "Processing unit 0\n",
      "N trials 5, trail len 1000, n trial starts 5, \n",
      "trial starts [28339, 9763, 11042, 26320, 26007], \n",
      "trial starts [29339, 10763, 12042, 27320, 27007]\n",
      "Processing unit 1\n",
      "N trials 5, trail len 1000, n trial starts 5, \n",
      "trial starts [14098, 12070, 26391, 7788, 23667], \n",
      "trial starts [15098, 13070, 27391, 8788, 24667]\n",
      "Processing unit 2\n",
      "N trials 5, trail len 1000, n trial starts 5, \n",
      "trial starts [1220, 28612, 7057, 11750, 23097], \n",
      "trial starts [2220, 29612, 8057, 12750, 24097]\n"
     ]
    }
   ],
   "source": [
    "n_trials = 5 \n",
    "m_iterations = 1\n",
    "\n",
    "fs = 1000\n",
    "signal_len = duration_ms\n",
    "trial_len = int(1000 * (fs / 1000)) # 1000ms trials \n",
    "\n",
    "trial_dict = {}\n",
    "for i in range(len(all_spike_trains)):\n",
    "    print(f'Processing unit {i}')\n",
    "    unit_trial_dict = {}\n",
    "    for m in range(m_iterations):\n",
    "        spikes = np.asarray([int(spike) for spike in all_spike_trains[i]])\n",
    "        spikes_trials = get_trials(spikes, signal_len, n_trials, trial_len, verbose_=True)\n",
    "        trial_dict[i] = spikes_trials"
   ]
  },
  {
   "cell_type": "code",
   "execution_count": 13,
   "id": "99a21325-a56d-48ac-b3fb-3435f3d3fbb7",
   "metadata": {},
   "outputs": [],
   "source": [
    "trial_starts_unit0 = [1220, 28612, 7057, 11750, 23097]"
   ]
  },
  {
   "cell_type": "code",
   "execution_count": 17,
   "id": "292fc610-3739-48a2-9659-136526332e10",
   "metadata": {},
   "outputs": [
    {
     "data": {
      "image/png": "[encoded data removed]",
      "text/plain": [
       "<Figure size 2000x300 with 1 Axes>"
      ]
     },
     "metadata": {},
     "output_type": "display_data"
    }
   ],
   "source": [
    "fig, axes = plt.subplots(1,1, figsize=(20, 3))\n",
    "\n",
    "# axes.plot(all_spike_trains[0], np.ones(len(all_spike_trains[0]))*0.1, '|', markersize=10, alpha=1)\n",
    "# axes.plot(all_spike_trains[1], np.ones(len(all_spike_trains[1]))*0.15, '|', markersize=10, alpha=1)\n",
    "axes.plot(all_spike_trains[2], np.ones(len(all_spike_trains[2]))*0.2, '|', markersize=10, alpha=1)\n",
    "\n",
    "for trial_start in trial_starts_unit0:\n",
    "    axes.axvline(x=trial_start, lw=0.5, c='k')\n",
    "    axes.axvline(x=trial_start+1000, lw=0.5, c='red')\n",
    "\n",
    "axes.set_ylim([0.05, 0.25])\n",
    "#axes.set_xlim([0, 10000])\n",
    "axes.set_xlim([0, 30000])\n",
    "axes.set_xticks(np.linspace(0, 30000, 31))\n",
    "axes.set_xticklabels(np.linspace(0, 30, 31))\n",
    "\n",
    "sns.despine()\n",
    "\n",
    "if save_fig:\n",
    "    plt.savefig(fig_folder + 'data_gen_spike_trains_30sec_with_trials_1unit.png' , bbox_inches='tight', dpi=300)\n",
    "    plt.savefig(fig_folder + 'data_gen_spike_trains_30sec_with_trials_1unit.svg' , bbox_inches='tight')"
   ]
  },
  {
   "cell_type": "code",
   "execution_count": null,
   "id": "49f2d1ec-ef2e-472e-a422-7961c8f7203d",
   "metadata": {},
   "outputs": [],
   "source": [
    "trial_dict"
   ]
  },
  {
   "cell_type": "code",
   "execution_count": 18,
   "id": "cdbdfc7f-85ab-4442-87ed-d8b58b3dac9d",
   "metadata": {},
   "outputs": [
    {
     "data": {
      "image/png": "[encoded data removed]",
      "text/plain": [
       "<Figure size 1000x300 with 3 Axes>"
      ]
     },
     "metadata": {},
     "output_type": "display_data"
    }
   ],
   "source": [
    "fig, axes = plt.subplots(1,3, figsize=(10, 3))\n",
    "\n",
    "for k,v in trial_dict.items():\n",
    "    idx = 0\n",
    "    for trial in v:\n",
    "        axes[k].plot(trial, np.ones(len(trial))*0.1*idx, '|', \n",
    "                  markersize=10, alpha=1)\n",
    "        idx+=1\n",
    "    axes[k].set_title(k)\n",
    "\n",
    "for ax in axes.flat:\n",
    "# axes.set_ylim([0.05, 0.25])\n",
    "    ax.set_xlim([0, 10000])\n",
    "    ax.set_xlim([0, 1000])\n",
    "    ax.set_xticks(np.linspace(0, 1000, 6))\n",
    "    ax.set_xlabel('Time (ms)')\n",
    "    #ax.set_xticklabels(np.linspace(0, 10, 6))\n",
    "\n",
    "sns.despine()\n",
    "\n",
    "if save_fig:\n",
    "    plt.savefig(fig_folder + 'data_gen_spike_trains_30sec_trials.png' , bbox_inches='tight', dpi=300)\n",
    "    plt.savefig(fig_folder + 'data_gen_spike_trains_30sec_trials.svg' , bbox_inches='tight')"
   ]
  },
  {
   "cell_type": "markdown",
   "id": "119e571d-8ca7-4ce6-ac26-5757617567d7",
   "metadata": {},
   "source": [
    "### Lv examples"
   ]
  },
  {
   "cell_type": "code",
   "execution_count": null,
   "id": "0ed91b30-bb14-42a1-bad7-8460f50fa583",
   "metadata": {},
   "outputs": [],
   "source": [
    "rate_hz     = 5\n",
    "tau_ms      = 100\n",
    "alpha       = [0.001, 0.7]\n",
    "duration_ms = 10*1000    \n",
    "\n",
    "# generate\n",
    "num_trials = 2\n",
    "all_spike_trains = []\n",
    "for trial in range(num_trials):\n",
    "    spikes = simulate_hawkes_thinning(\n",
    "        fr_hz_=rate_hz,\n",
    "        tau_ms_=tau_ms,\n",
    "        alpha_=alpha[trial],\n",
    "        duration_ms_=duration_ms,\n",
    "        seed_=trial  # different seed per trial\n",
    "    )\n",
    "    print(f'fr {len(spikes)/10}')\n",
    "    all_spike_trains.append(spikes)"
   ]
  },
  {
   "cell_type": "code",
   "execution_count": null,
   "id": "5e1ab0bf-c2c8-4aeb-a823-05fbddff7082",
   "metadata": {},
   "outputs": [],
   "source": [
    "# Generate a regular spike train with jitter\n",
    "def generate_regular_spike_train_jitter(duration_ms, firing_rate_hz, jitter_std_ms, randomize_phase=False, seed=None):\n",
    "    rng = np.random.default_rng(seed)\n",
    "    isi = 1000.0 / firing_rate_hz\n",
    "    offset = rng.uniform(0, isi) if randomize_phase else 0.0\n",
    "\n",
    "    # Ideal periodic spike times\n",
    "    ideal_spikes = np.arange(offset, duration_ms, isi)\n",
    "\n",
    "    # Add Gaussian jitter\n",
    "    jitter = rng.normal(0, jitter_std_ms, size=ideal_spikes.shape)\n",
    "    jittered_spikes = ideal_spikes + jitter\n",
    "\n",
    "    # Keep only spikes within the window\n",
    "    valid_spikes = jittered_spikes[(jittered_spikes >= 0) & (jittered_spikes < duration_ms)]\n",
    "    valid_spikes.sort()\n",
    "    return valid_spikes\n",
    "\n",
    "duration_ms    = 10 * 1000\n",
    "firing_rate_hz = 5.0\n",
    "jitter_std_ms  = 100 \n",
    "spike_times = generate_regular_spike_train_jitter(\n",
    "    duration_ms, firing_rate_hz, jitter_std_ms, randomize_phase=False, seed=42\n",
    ")\n",
    "print(\"Jittered spike times (ms):\", spike_times)\n"
   ]
  },
  {
   "cell_type": "code",
   "execution_count": null,
   "id": "dbcd4149-c339-41a7-8b81-75aa6d1463dd",
   "metadata": {},
   "outputs": [],
   "source": [
    "all_spike_trains.append(spike_times)"
   ]
  },
  {
   "cell_type": "code",
   "execution_count": null,
   "id": "298aefe4-4dba-4d34-8a8a-a11beda98ccc",
   "metadata": {},
   "outputs": [],
   "source": [
    "fig, axes = plt.subplots(1,1, figsize=(10, 3))\n",
    "\n",
    "axes.plot(all_spike_trains[1], np.ones(len(all_spike_trains[1]))*0.1, '|', markersize=10, alpha=1)\n",
    "axes.plot(all_spike_trains[0], np.ones(len(all_spike_trains[0]))*0.15, '|', markersize=10, alpha=1)\n",
    "axes.plot(all_spike_trains[2], np.ones(len(all_spike_trains[2]))*0.2, '|', markersize=10, alpha=1)\n",
    "\n",
    "axes.set_ylim([0.05, 0.25])\n",
    "#axes.set_xlim([0, 10000])\n",
    "axes.set_xlim([0, 10000])\n",
    "axes.set_xticks(np.linspace(0, 10000, 11))\n",
    "axes.set_xticklabels(np.linspace(0, 10, 11))\n",
    "\n",
    "sns.despine()"
   ]
  },
  {
   "cell_type": "code",
   "execution_count": null,
   "id": "41fab5e0-9d35-426e-972b-1d7840eafd52",
   "metadata": {},
   "outputs": [],
   "source": [
    "lv_l = []\n",
    "for spike_train in all_spike_trains:\n",
    "    spike_train_int = np.asarray([int(spike) for spike in spike_train])\n",
    "    lv = get_lv(spike_train_int, False)\n",
    "    lv_l.append(lv)\n",
    "print(lv_l)"
   ]
  },
  {
   "cell_type": "code",
   "execution_count": null,
   "id": "08a24178-cf89-497c-bbf0-a1f254e6b528",
   "metadata": {},
   "outputs": [],
   "source": [
    "fig, axes = plt.subplots(1,1, figsize=(10, 3))\n",
    "\n",
    "axes.plot(all_spike_trains[1], np.ones(len(all_spike_trains[1]))*0.1, '|', markersize=10, alpha=1, label='bursty')\n",
    "axes.plot(all_spike_trains[0], np.ones(len(all_spike_trains[0]))*0.15, '|', markersize=10, alpha=1, label='random')\n",
    "axes.plot(all_spike_trains[2], np.ones(len(all_spike_trains[2]))*0.2, '|', markersize=10, alpha=1, label='regular')\n",
    "\n",
    "axes.set_ylim([0.05, 0.25])\n",
    "#axes.set_xlim([0, 10000])\n",
    "axes.set_xlim([5000, 10000])\n",
    "axes.set_xticks(np.linspace(5000, 10000, 6))\n",
    "axes.set_xticklabels(np.linspace(5, 10, 6))\n",
    "\n",
    "fig.suptitle(f'Regular Lv={np.round(lv_l[2], 2)}, Random Lv={np.round(lv_l[0], 2)}, Bursty Lv={np.round(lv_l[1], 2)}')\n",
    "\n",
    "sns.despine()\n",
    "\n",
    "if save_fig:\n",
    "    plt.savefig(fig_folder + 'data_gen_spike_trains_lv_5sec.png' , bbox_inches='tight', dpi=300)\n",
    "    plt.savefig(fig_folder + 'data_gen_spike_trains_lv_5sec.svg' , bbox_inches='tight')"
   ]
  }
 ],
 "metadata": {
  "kernelspec": {
   "display_name": "Python 3 (ipykernel)",
   "language": "python",
   "name": "python3"
  },
  "language_info": {
   "codemirror_mode": {
    "name": "ipython",
    "version": 3
   },
   "file_extension": ".py",
   "mimetype": "text/x-python",
   "name": "python",
   "nbconvert_exporter": "python",
   "pygments_lexer": "ipython3",
   "version": "3.12.9"
  }
 },
 "nbformat": 4,
 "nbformat_minor": 5
}
