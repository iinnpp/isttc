{
 "cells": [
  {
   "cell_type": "markdown",
   "id": "b8233ff1-87a2-45ea-a94a-f7974747f389",
   "metadata": {},
   "source": [
    "Here:\n",
    "- generate time series (cont OU process?)\n",
    "- plot it (continious and also binned)\n",
    "- calculate acf: using ABC tau, using py functions\n",
    "- plot acf"
   ]
  },
  {
   "cell_type": "code",
   "execution_count": 3,
   "id": "b95934c7-5172-4158-8b13-fcb057908108",
   "metadata": {},
   "outputs": [],
   "source": [
    "import matplotlib.pyplot as plt\n",
    "import matplotlib as mpl\n",
    "%matplotlib inline\n",
    "import seaborn as sns # comment this line if you don't want to use seaborn for plots\n",
    "\n",
    "import numpy as np\n",
    "# IP import warnings because of \"module 'numpy' has no attribute 'warnings'\"\n",
    "import warnings\n",
    "np.warnings = warnings\n",
    "import pandas as pd\n",
    "import statsmodels.api as sm\n",
    "from statsmodels.tsa.stattools import acf\n",
    "from scipy.optimize import curve_fit\n",
    "from scipy import stats\n",
    "\n",
    "# add the path to the abcTau package\n",
    "import sys\n",
    "#sys.path.append('./abcTau')\n",
    "sys.path.append('C:\\\\Users\\\\ipochino\\\\.conda\\\\envs\\\\isttc\\\\Lib\\\\site-packages\\\\abcTau') # IP: replaced previous line with that; relative path was not working\n",
    "#sys.path.append('C:\\\\Users\\\\ipochino\\\\AppData\\\\Local\\\\anaconda3\\\\envs\\\\isttc\\\\Lib\\\\site-packages\\\\abcTau') \n",
    "#import abcTau\n",
    "\n",
    "import os\n",
    "current_wd = os.getcwd()\n",
    "#os.chdir(os.path.abspath(\"..\\\\..\\\\..\\\\isttc\\\\scripts\"))\n",
    "os.chdir(os.path.abspath(\"C:\\\\Users\\\\ipoch\\\\Documents\\\\repos\\\\isttc\\\\scripts\"))\n",
    "from calculate_tau import fit_single_exp, func_single_exp_monkey\n",
    "from cfg_global import project_folder_path\n",
    "from calculate_acf import acf_sttc\n",
    "os.chdir(current_wd)"
   ]
  },
  {
   "cell_type": "code",
   "execution_count": 4,
   "id": "4884917e-1d4f-4a5b-a5af-7487df14d23d",
   "metadata": {},
   "outputs": [],
   "source": [
    "mpl.rcParams['pdf.fonttype'] = 42\n",
    "mpl.rcParams['ps.fonttype'] = 42\n",
    "plt.rcParams['svg.fonttype'] = 'none'"
   ]
  },
  {
   "cell_type": "code",
   "execution_count": 5,
   "id": "cc2f3a1b-6ac0-4cfd-921c-03bb0b510aa9",
   "metadata": {},
   "outputs": [],
   "source": [
    "def func_exp_abc_like(x, a, tau):\n",
    "    return a * np.exp(-x/tau) "
   ]
  },
  {
   "cell_type": "markdown",
   "id": "048b6381-429d-4eee-9d28-89acac735d35",
   "metadata": {},
   "source": [
    "### Generate time series"
   ]
  },
  {
   "cell_type": "code",
   "execution_count": 8,
   "id": "3190e170-88bb-42b7-b142-31b711eddbd2",
   "metadata": {},
   "outputs": [
    {
     "name": "stdout",
     "output_type": "stream",
     "text": [
      "2000\n"
     ]
    }
   ],
   "source": [
    "tau = np.array([100])\n",
    "D = 1/tau\n",
    "deltaT = 1\n",
    "T = 100*1000\n",
    "numTrials = 1\n",
    "\n",
    "data_mean = 0.01 # average of firing rate\n",
    "data_var = 0.02 # variance of firing rate\n",
    "\n",
    "binSize = 50 # bins size for binning the data for calculating acf\n",
    "binsData =  np.arange(0, T + binSize, binSize)\n",
    "numBinData = len(binsData)-1\n",
    "#print(binsData)\n",
    "print(numBinData)\n",
    "\n",
    "num_lags = 20\n",
    "maxTimeLag = 1000 "
   ]
  },
  {
   "cell_type": "markdown",
   "id": "8db239fe-b5db-4599-8767-3416eb5de7e5",
   "metadata": {},
   "source": [
    "#### One tau OU"
   ]
  },
  {
   "cell_type": "code",
   "execution_count": 10,
   "id": "55ebd7ed-2655-4218-b66a-52aaca076486",
   "metadata": {},
   "outputs": [
    {
     "ename": "NameError",
     "evalue": "name 'abcTau' is not defined",
     "output_type": "error",
     "traceback": [
      "\u001b[1;31m---------------------------------------------------------------------------\u001b[0m",
      "\u001b[1;31mNameError\u001b[0m                                 Traceback (most recent call last)",
      "Cell \u001b[1;32mIn[10], line 2\u001b[0m\n\u001b[0;32m      1\u001b[0m \u001b[38;5;66;03m# OU process \u001b[39;00m\n\u001b[1;32m----> 2\u001b[0m ou \u001b[38;5;241m=\u001b[39m \u001b[43mabcTau\u001b[49m\u001b[38;5;241m.\u001b[39mOU_gen(tau, D, deltaT, T, numTrials)\n\u001b[0;32m      3\u001b[0m \u001b[38;5;28mprint\u001b[39m(\u001b[38;5;124m'\u001b[39m\u001b[38;5;124mou.shape: \u001b[39m\u001b[38;5;124m'\u001b[39m, ou\u001b[38;5;241m.\u001b[39mshape)\n\u001b[0;32m      5\u001b[0m ou_check \u001b[38;5;241m=\u001b[39m np\u001b[38;5;241m.\u001b[39mmax(ou)\n",
      "\u001b[1;31mNameError\u001b[0m: name 'abcTau' is not defined"
     ]
    }
   ],
   "source": [
    "# OU process \n",
    "ou = abcTau.OU_gen(tau, D, deltaT, T, numTrials)\n",
    "print('ou.shape: ', ou.shape)\n",
    "\n",
    "ou_check = np.max(ou)\n",
    "print(ou_check)\n",
    "# adjust OU process - scale, shift \n",
    "ou_std = np.sqrt(data_var)\n",
    "ou_mean = data_mean\n",
    "ou_all = ou_std * ou + ou_mean # this is scale and shift, where is rectify? - no rectify here, this will come for the Poisson rate\n",
    "print('ou_all.shape: ', ou_all.shape)\n",
    "\n",
    "# bin for ACF calculation\n",
    "ou_binned_data = abcTau.binData(ou_all, [numTrials, numBinData]) * deltaT\n",
    "print(ou_binned_data.shape)"
   ]
  },
  {
   "cell_type": "markdown",
   "id": "27f9e484-271b-4b77-a5e6-7829cd0ff6e7",
   "metadata": {},
   "source": [
    "#### One tau UO with Poisson spike count"
   ]
  },
  {
   "cell_type": "code",
   "execution_count": 11,
   "id": "35a443a2-6a49-4246-9773-b7cd5afabde2",
   "metadata": {},
   "outputs": [
    {
     "ename": "NameError",
     "evalue": "name 'abcTau' is not defined",
     "output_type": "error",
     "traceback": [
      "\u001b[1;31m---------------------------------------------------------------------------\u001b[0m",
      "\u001b[1;31mNameError\u001b[0m                                 Traceback (most recent call last)",
      "Cell \u001b[1;32mIn[11], line 10\u001b[0m\n\u001b[0;32m      8\u001b[0m \u001b[38;5;66;03m# bin rate and generate spikes\u001b[39;00m\n\u001b[0;32m      9\u001b[0m numBin \u001b[38;5;241m=\u001b[39m \u001b[38;5;28mint\u001b[39m(T\u001b[38;5;241m/\u001b[39mdeltaT)\n\u001b[1;32m---> 10\u001b[0m ou_poisson_rate_ \u001b[38;5;241m=\u001b[39m \u001b[43mabcTau\u001b[49m\u001b[38;5;241m.\u001b[39mbinData(ou_poisson, [numTrials,numBin]) \u001b[38;5;241m*\u001b[39m deltaT\n\u001b[0;32m     11\u001b[0m ou_poisson_rate \u001b[38;5;241m=\u001b[39m np\u001b[38;5;241m.\u001b[39mrandom\u001b[38;5;241m.\u001b[39mpoisson(ou_poisson_rate_)\n\u001b[0;32m     13\u001b[0m \u001b[38;5;66;03m# bin for ACF calculation\u001b[39;00m\n",
      "\u001b[1;31mNameError\u001b[0m: name 'abcTau' is not defined"
     ]
    }
   ],
   "source": [
    "ou_std =  np.sqrt(data_var - data_mean)/deltaT # law of total variance  \n",
    "ou_mean = data_mean/deltaT # law of total expectation\n",
    "\n",
    "# fit mean and var\n",
    "ou_poisson = ou_std * ou + ou_mean\n",
    "ou_poisson[ou_poisson < 0] = 0 # rectifying\n",
    "\n",
    "# bin rate and generate spikes\n",
    "numBin = int(T/deltaT)\n",
    "ou_poisson_rate_ = abcTau.binData(ou_poisson, [numTrials,numBin]) * deltaT\n",
    "ou_poisson_rate = np.random.poisson(ou_poisson_rate_)\n",
    "\n",
    "# bin for ACF calculation\n",
    "ou_poisson_binned = abcTau.binData(ou_poisson_rate, [numTrials, numBinData]) * deltaT\n",
    "print(ou_poisson_binned.shape)"
   ]
  },
  {
   "cell_type": "markdown",
   "id": "64735aed-2046-4d73-9b50-db698b2ec851",
   "metadata": {},
   "source": [
    "#### Going from rate to spikes"
   ]
  },
  {
   "cell_type": "code",
   "execution_count": null,
   "id": "22d84e7c-8cbd-4222-b360-1a02224128fa",
   "metadata": {},
   "outputs": [],
   "source": [
    "spikeTrain = np.zeros(ou_poisson_rate.shape)\n",
    "print(spikeTrain.shape)\n",
    "\n",
    "for i in range(ou_poisson_rate.shape[0]):\n",
    "    spikeTrain[i,:] = [1 if ou_poisson_rate[i,j] > np.random.random() else 0 for j in range(ou_poisson_rate.shape[1])]\n",
    "\n",
    "spike_times = np.where(np.squeeze(spikeTrain) == 1)[0]\n",
    "print('N spikes {}'.format(spike_times.shape))\n",
    "\n",
    "# bin for ACF calculation\n",
    "ou_spiketrain_binned = abcTau.binData(spikeTrain, [numTrials, numBinData]) * deltaT\n",
    "print(ou_spiketrain_binned.shape)"
   ]
  },
  {
   "cell_type": "code",
   "execution_count": null,
   "id": "51619db0-0054-471f-8431-ea739b0c40f3",
   "metadata": {},
   "outputs": [],
   "source": [
    "# store\n",
    "# ou\n",
    "np.save('Q:\\\\Personal\\\\Irina\\\\projects\\\\isttc\\\\results\\\\synthetic_data\\\\test_full_split\\\\ou_all.npy', ou_all)\n",
    "np.save('Q:\\\\Personal\\\\Irina\\\\projects\\\\isttc\\\\results\\\\synthetic_data\\\\test_full_split\\\\ou_binned_data.npy', ou_binned_data)\n",
    "\n",
    "# rates\n",
    "np.save('Q:\\\\Personal\\\\Irina\\\\projects\\\\isttc\\\\results\\\\synthetic_data\\\\test_full_split\\\\ou_poisson_rate.npy', ou_poisson_rate)\n",
    "np.save('Q:\\\\Personal\\\\Irina\\\\projects\\\\isttc\\\\results\\\\synthetic_data\\\\test_full_split\\\\ou_poisson_binned.npy', ou_poisson_binned)\n",
    "\n",
    "# spikes\n",
    "np.save('Q:\\\\Personal\\\\Irina\\\\projects\\\\isttc\\\\results\\\\synthetic_data\\\\test_full_split\\\\spike_times.npy', spike_times)\n",
    "np.save('Q:\\\\Personal\\\\Irina\\\\projects\\\\isttc\\\\results\\\\synthetic_data\\\\test_full_split\\\\ou_spiketrain_binned.npy', ou_spiketrain_binned)"
   ]
  },
  {
   "cell_type": "markdown",
   "id": "31400023-937a-459d-a63a-7e9b923d9527",
   "metadata": {},
   "source": [
    "### Plot signals"
   ]
  },
  {
   "cell_type": "code",
   "execution_count": 6,
   "id": "232b3e26-7949-4dee-97fb-7ee4171b787d",
   "metadata": {},
   "outputs": [],
   "source": [
    "ou = np.load(project_folder_path + 'results\\\\synthetic_data\\\\test_data\\\\ou_tau100ms_1trials_1000ms.npy')"
   ]
  },
  {
   "cell_type": "code",
   "execution_count": 9,
   "id": "8b5e2138-7a5d-4bd0-8ad3-64a18b4d8817",
   "metadata": {},
   "outputs": [
    {
     "ename": "NameError",
     "evalue": "name 'ou_all' is not defined",
     "output_type": "error",
     "traceback": [
      "\u001b[1;31m---------------------------------------------------------------------------\u001b[0m",
      "\u001b[1;31mNameError\u001b[0m                                 Traceback (most recent call last)",
      "Cell \u001b[1;32mIn[9], line 11\u001b[0m\n\u001b[0;32m      8\u001b[0m axes[\u001b[38;5;241m0\u001b[39m]\u001b[38;5;241m.\u001b[39mset_xlabel(\u001b[38;5;124m'\u001b[39m\u001b[38;5;124mTime\u001b[39m\u001b[38;5;124m'\u001b[39m)\n\u001b[0;32m      9\u001b[0m axes[\u001b[38;5;241m0\u001b[39m]\u001b[38;5;241m.\u001b[39mset_title(\u001b[38;5;124m'\u001b[39m\u001b[38;5;124mOne tau OU\u001b[39m\u001b[38;5;124m'\u001b[39m)\n\u001b[1;32m---> 11\u001b[0m axes[\u001b[38;5;241m1\u001b[39m]\u001b[38;5;241m.\u001b[39mplot(np\u001b[38;5;241m.\u001b[39mlinspace(\u001b[38;5;241m0\u001b[39m,ou\u001b[38;5;241m.\u001b[39mshape[\u001b[38;5;241m1\u001b[39m]\u001b[38;5;241m-\u001b[39m\u001b[38;5;241m1\u001b[39m,ou\u001b[38;5;241m.\u001b[39mshape[\u001b[38;5;241m1\u001b[39m]), \u001b[43mou_all\u001b[49m[\u001b[38;5;241m0\u001b[39m], lw\u001b[38;5;241m=\u001b[39m\u001b[38;5;241m0.5\u001b[39m)\n\u001b[0;32m     12\u001b[0m axes[\u001b[38;5;241m1\u001b[39m]\u001b[38;5;241m.\u001b[39maxhline(y\u001b[38;5;241m=\u001b[39m\u001b[38;5;241m0\u001b[39m, color\u001b[38;5;241m=\u001b[39m\u001b[38;5;124m'\u001b[39m\u001b[38;5;124mk\u001b[39m\u001b[38;5;124m'\u001b[39m, lw\u001b[38;5;241m=\u001b[39m\u001b[38;5;241m0.5\u001b[39m)\n\u001b[0;32m     13\u001b[0m \u001b[38;5;28;01mfor\u001b[39;00m i \u001b[38;5;129;01min\u001b[39;00m \u001b[38;5;28mrange\u001b[39m(numBinData\u001b[38;5;241m+\u001b[39m\u001b[38;5;241m1\u001b[39m):\n",
      "\u001b[1;31mNameError\u001b[0m: name 'ou_all' is not defined"
     ]
    },
    {
     "data": {
      "image/png": "[encoded data removed]",
      "text/plain": [
       "<Figure size 2000x1500 with 3 Axes>"
      ]
     },
     "metadata": {},
     "output_type": "display_data"
    }
   ],
   "source": [
    "fig, axes = plt.subplots(3,1, figsize=(20,15))\n",
    "plt.subplots_adjust(hspace=0.8, wspace=0.4)\n",
    "\n",
    "axes[0].plot(np.linspace(0,ou.shape[1]-1,ou.shape[1]), ou[0], lw=0.5)\n",
    "axes[0].axhline(y=0, color='k', lw=0.5)\n",
    "for i in range(numBinData+1):\n",
    "    axes[0].axvline(x=50*i, color='k', lw=0.5)\n",
    "axes[0].set_xlabel('Time')\n",
    "axes[0].set_title('One tau OU')\n",
    "\n",
    "axes[1].plot(np.linspace(0,ou.shape[1]-1,ou.shape[1]), ou_all[0], lw=0.5)\n",
    "axes[1].axhline(y=0, color='k', lw=0.5)\n",
    "for i in range(numBinData+1):\n",
    "    axes[1].axvline(x=50*i, color='k', lw=0.5)\n",
    "axes[1].set_xlabel('Time')\n",
    "axes[1].set_title('One tau OU, scaled and shifted')\n",
    "\n",
    "# that is supposed to be binned rate but it goes negative? is it ok?\n",
    "axes[2].plot(np.linspace(0,numBinData-1,numBinData), ou_binned_data[0], lw=0.5)\n",
    "axes[2].axhline(y=0, color='k', lw=0.5)\n",
    "axes[2].set_xticks(np.linspace(0,numBinData-1,numBinData))\n",
    "for i in range(numBinData):\n",
    "    axes[2].axvline(x=i, color='k', lw=0.5)\n",
    "axes[2].set_xlabel('Time bins')\n",
    "axes[2].set_title('One tau OU, scaled and shifted, binned')\n",
    "\n",
    "sns.despine()"
   ]
  },
  {
   "cell_type": "code",
   "execution_count": null,
   "id": "a56491df-ec64-4dd1-b3c7-47506f8dcd27",
   "metadata": {},
   "outputs": [],
   "source": [
    "fig, axes = plt.subplots(5,1, figsize=(10,10))\n",
    "plt.subplots_adjust(hspace=0.8, wspace=0.4)\n",
    "\n",
    "axes[0].plot(np.linspace(0,numBin-1,numBin), ou[0], lw=0.5)\n",
    "axes[0].axhline(y=0, color='k', lw=0.5)\n",
    "for i in range(numBinData+1):\n",
    "    axes[0].axvline(x=50*i, color='k', lw=0.5)\n",
    "axes[0].set_title('One tau OU')\n",
    "\n",
    "axes[1].plot(np.linspace(0,numBin-1,numBin), ou_poisson[0], lw=0.5)\n",
    "axes[1].axhline(y=0, color='k', lw=0.5)\n",
    "for i in range(numBinData+1):\n",
    "    axes[1].axvline(x=50*i, color='k', lw=0.5)\n",
    "axes[1].set_title('One tau OU, scaled, shifted, rectified')\n",
    "\n",
    "axes[2].plot(np.linspace(0,numBin-1,numBin), ou_poisson_rate_[0], lw=0.5)\n",
    "axes[2].axhline(y=0, color='k', lw=0.5)\n",
    "for i in range(numBinData+1):\n",
    "    axes[2].axvline(x=50*i, color='k', lw=0.5)\n",
    "axes[2].set_title('One tau OU, scaled, shifted, rectified - binned for getting spike count')\n",
    "\n",
    "axes[3].plot(np.linspace(0,numBin-1,numBin), ou_poisson_rate[0], lw=0.5)\n",
    "axes[3].axhline(y=0, color='k', lw=0.5)\n",
    "for i in range(numBinData+1):\n",
    "    axes[3].axvline(x=50*i, color='k', lw=0.5)\n",
    "axes[3].set_title('One tau OU, Poisson spike count')\n",
    "# for i in range(numBinData+1):\n",
    "#     axes[3].axvline(x=50*i, color='k', lw=0.5)\n",
    "\n",
    "# that is supposed to be binned rate but it goes negative? is it ok?\n",
    "axes[4].plot(np.linspace(0,numBinData-1,numBinData), ou_poisson_binned[0], lw=0.5)\n",
    "axes[4].axhline(y=0, color='k', lw=0.5)\n",
    "axes[4].set_xticks(np.linspace(0,numBinData-1,numBinData))\n",
    "for i in range(numBinData):\n",
    "    axes[4].axvline(x=i, color='k', lw=0.5)\n",
    "axes[4].set_title('One tau OU, Poisson spike count binned')\n",
    "\n",
    "\n",
    "for ax in axes.flat:\n",
    "    ax.set_xlabel('Time')\n",
    "\n",
    "sns.despine()"
   ]
  },
  {
   "cell_type": "code",
   "execution_count": null,
   "id": "ec00c928-8b6d-4330-a81d-abf430bb95f3",
   "metadata": {},
   "outputs": [],
   "source": [
    "fig, axes = plt.subplots(3,1, figsize=(20,15))\n",
    "plt.subplots_adjust(hspace=0.8, wspace=0.4)\n",
    "\n",
    "axes[0].plot(np.linspace(0,numBin-1,numBin), ou_poisson_rate[0], lw=0.5)\n",
    "axes[0].axhline(y=0, color='k', lw=0.5)\n",
    "for i in range(numBinData+1):\n",
    "    axes[0].axvline(x=50*i, color='k', lw=0.5)\n",
    "axes[0].set_title('One tau OU, Poisson spike count')\n",
    "\n",
    "axes[1].plot(spike_times, np.ones_like(spike_times), '|', markersize=10, c='salmon')  # Plot spikes as a row,\n",
    "for i in range(numBinData+1):\n",
    "    axes[1].axvline(x=50*i, color='k', lw=0.5)\n",
    "axes[1].set_title('One tau OU, Poisson spike train')\n",
    "\n",
    "axes[2].plot(np.linspace(0,numBinData-1,numBinData), ou_spiketrain_binned[0], lw=0.5)\n",
    "axes[2].axhline(y=0, color='k', lw=0.5)\n",
    "axes[2].set_xticks(np.linspace(0,numBinData-1,numBinData))\n",
    "for i in range(numBinData):\n",
    "    axes[2].axvline(x=i, color='k', lw=0.5)\n",
    "axes[2].set_title('One tau OU, Poisson spike train, binned')\n",
    "\n",
    "for ax in axes.flat:\n",
    "    ax.set_xlabel('Time')\n",
    "\n",
    "sns.despine()\n",
    "\n",
    "plt.show()"
   ]
  },
  {
   "cell_type": "markdown",
   "id": "a73f31e3-0c1c-44e3-bbf6-79dd808ce7af",
   "metadata": {},
   "source": [
    "### Calculate ACF and taus"
   ]
  },
  {
   "cell_type": "code",
   "execution_count": null,
   "id": "344858f2-aef9-4633-a4aa-cd76829a21a7",
   "metadata": {},
   "outputs": [],
   "source": [
    "# calculate ACF \n",
    "\n",
    "# Using ABC\n",
    "summStat_metric = 'comp_cc'\n",
    "ifNorm = True # if normalize the autocorrelation or PSD\n",
    "ou_all_data_sumStat, ou_all_data_mean, ou_all_data_var, ou_all_T, ou_all_numTrials =  abcTau.preprocessing.extract_stats(ou_all, deltaT, binSize,\n",
    "                                                                                  summStat_metric, ifNorm, maxTimeLag)\n",
    "print('ou_all_data_mean: {}, ou_all_data_var: {}, ou_all_T: {}, ou_all_numTrials: {}, \\n ou_all_data_sumStat: {}'.format(ou_all_data_mean, \n",
    "                                                                                                                         ou_all_data_var, \n",
    "                                                                                                                         ou_all_T, \n",
    "                                                                                                                         ou_all_numTrials, \n",
    "                                                                                                                         ou_all_data_sumStat))\n",
    "# Using acf func\n",
    "ou_all_acf = acf(ou_binned_data[0], nlags=num_lags)\n",
    "print('ou_all_acf: {}'.format(ou_all_acf))\n",
    "\n",
    "\n",
    "# calculate tau\n",
    "\n",
    "# Using abc but not bayesian\n",
    "ou_all_abc_popt, ou_all_abc_poptcov = abcTau.preprocessing.fit_oneTauExponential(ou_all_data_sumStat, binSize, maxTimeLag)\n",
    "print(ou_all_abc_popt)\n",
    "\n",
    "# Using curve_fit\n",
    "ou_all_popt, ou_all_pcov = curve_fit(func_exp_abc_like, np.linspace(0,20,21), ou_all_acf, maxfev=5000)\n",
    "print(ou_all_popt)\n",
    "ou_all_tau_ms = ou_all_popt[1] * binSize\n",
    "print(ou_all_tau_ms)"
   ]
  },
  {
   "cell_type": "code",
   "execution_count": null,
   "id": "460ed9b2-9488-4f31-ad9c-9f0eb50d1fcd",
   "metadata": {},
   "outputs": [],
   "source": [
    "t_axis_lags = np.linspace(0, num_lags*binSize, num_lags)\n",
    "\n",
    "fig, axes = plt.subplots(1,1, figsize=(5,3))\n",
    "\n",
    "axes.plot(np.linspace(0,20,20), ou_all_data_sumStat, c='k', label='abc')\n",
    "axes.plot(np.linspace(0,20,20), ou_all_acf[:-1], c='orange', label='acf_statstool')\n",
    "axes.axvline(x=2, lw=0.5, color='k')\n",
    "axes.axhline(y=1/np.e, lw=0.5, color='k')\n",
    "\n",
    "axes.plot(np.linspace(0,20,21), func_exp_abc_like(np.linspace(0,20,21), ou_all_popt[0], ou_all_popt[1]))\n",
    "\n",
    "axes.legend(frameon=False)\n",
    "\n",
    "sns.despine()"
   ]
  },
  {
   "cell_type": "code",
   "execution_count": null,
   "id": "2c4a8493-0add-4852-8688-81e9b9d469e8",
   "metadata": {},
   "outputs": [],
   "source": [
    "# calculate ACF \n",
    "\n",
    "# Using ABC\n",
    "summStat_metric = 'comp_cc'\n",
    "ifNorm = True # if normalize the autocorrelation or PSD\n",
    "ou_poisson_data_sumStat, ou_poisson_data_mean, ou_poisson_data_var, ou_poisson_T, ou_poisson_numTrials =  abcTau.preprocessing.extract_stats(ou_poisson_rate, \n",
    "                                                                                                                         deltaT, binSize,\n",
    "                                                                                  summStat_metric, ifNorm, maxTimeLag)\n",
    "print('ou_poisson_data_mean: {}, ou_poisson_data_var: {}, ou_poisson_T: {}, ou_poisson_numTrials: {}, \\n ou_poisson_data_sumStat: {}'.format(ou_poisson_data_mean, \n",
    "                                                                                                                         ou_poisson_data_var, \n",
    "                                                                                                                         ou_poisson_T, \n",
    "                                                                                                                         ou_poisson_numTrials, \n",
    "                                                                                                                         ou_poisson_data_sumStat))\n",
    "\n",
    "# Using acf func\n",
    "ou_poisson_acf = acf(ou_poisson_binned[0], nlags=num_lags)\n",
    "print('ou_poisson_acf: {}'.format(ou_poisson_acf))\n",
    "\n",
    "# calculate tau\n",
    "\n",
    "# Using abc but not bayesian\n",
    "ou_poisson_abc_popt, ou_poisson_abc_poptcov = abcTau.preprocessing.fit_oneTauExponential(ou_poisson_data_sumStat, binSize, maxTimeLag)\n",
    "print(ou_poisson_abc_popt)\n",
    "\n",
    "# Using curve_fit\n",
    "ou_poisson_popt, ou_poisson_pcov = curve_fit(func_exp_abc_like, np.linspace(0,20,21), ou_poisson_acf, maxfev=5000)\n",
    "print(ou_poisson_popt)\n",
    "\n",
    "ou_poisson_tau_ms = ou_poisson_popt[1] * binSize\n",
    "print(ou_poisson_tau_ms)"
   ]
  },
  {
   "cell_type": "code",
   "execution_count": null,
   "id": "03cbda58-ef10-4bba-bf9c-d715dea78fdf",
   "metadata": {},
   "outputs": [],
   "source": [
    "fig, axes = plt.subplots(1,1, figsize=(7,5))\n",
    "\n",
    "axes.plot(np.linspace(0,20,20), ou_poisson_data_sumStat, c='k', label='abc')\n",
    "axes.plot(np.linspace(0,20,20), ou_poisson_acf[:-1], c='orange', label='acf_statstool')\n",
    "axes.axvline(x=2, lw=0.5, color='k')\n",
    "axes.axhline(y=1/np.e, lw=0.5, color='k')\n",
    "axes.axhline(y=0, lw=0.5, color='k')\n",
    "\n",
    "axes.plot(np.linspace(0,20,21), func_exp_abc_like(np.linspace(0,20,21), ou_poisson_popt[0], ou_poisson_popt[1]))\n",
    "\n",
    "axes.legend(frameon=False)\n",
    "\n",
    "sns.despine()"
   ]
  },
  {
   "cell_type": "code",
   "execution_count": null,
   "id": "cd273e30-89d0-4512-9aa6-88436539777f",
   "metadata": {},
   "outputs": [],
   "source": [
    "spike_times"
   ]
  },
  {
   "cell_type": "code",
   "execution_count": null,
   "id": "706cf61a-423f-4a10-833f-da5bf305bdc3",
   "metadata": {},
   "outputs": [],
   "source": [
    "# calculate ACF \n",
    "\n",
    "# Using ABC\n",
    "summStat_metric = 'comp_cc'\n",
    "ifNorm = True # if normalize the autocorrelation or PSD\n",
    "spikeTrain_data_sumStat, spikeTrain_data_mean, spikeTrain_data_var, spikeTrain_T, spikeTrain_numTrials =  abcTau.preprocessing.extract_stats(spikeTrain, \n",
    "                                                                                                                         deltaT, binSize,\n",
    "                                                                                  summStat_metric, ifNorm, maxTimeLag)\n",
    "print('spikeTrain_data_mean: {}, spikeTrain_data_var: {}, spikeTrain_T: {}, spikeTrain_numTrials: {}, \\n spikeTrain_data_sumStat: {}'.format(spikeTrain_data_mean, \n",
    "                                                                                                                         spikeTrain_data_var, \n",
    "                                                                                                                         spikeTrain_T, \n",
    "                                                                                                                         spikeTrain_numTrials, \n",
    "                                                                                                                         spikeTrain_data_sumStat))\n",
    "\n",
    "# Using acf func\n",
    "spikeTrain_acf = acf(ou_spiketrain_binned[0], nlags=num_lags)\n",
    "print('ou_poisson_acf: {}'.format(spikeTrain_acf))\n",
    "\n",
    "# Using sttc\n",
    "acf_sttc_ = acf_sttc(spike_times, num_lags, lag_shift_=binSize, sttc_dt_=25, signal_length_=T, verbose_=True)\n",
    "print('acf_sttc: {}'.format(acf_sttc_))\n",
    "\n",
    "#acf_sttc(signal_, n_lags_, lag_shift_, sttc_dt_, signal_length_, verbose_=True)\n",
    "\n",
    "# calculate tau\n",
    "\n",
    "# Using abc but not bayesian\n",
    "ou_spiketrain_abc_popt, ou_spiketrain_abc_poptcov = abcTau.preprocessing.fit_oneTauExponential(spikeTrain_data_sumStat, binSize, maxTimeLag)\n",
    "print(ou_spiketrain_abc_popt)\n",
    "\n",
    "# Using curve_fit\n",
    "ou_spiketrain_popt, _ = curve_fit(func_exp_abc_like, np.linspace(0,20,21), spikeTrain_acf, maxfev=5000)\n",
    "print(ou_spiketrain_popt)\n",
    "\n",
    "ou_spiketrain_tau_ms = ou_spiketrain_popt[1] * binSize\n",
    "print(ou_spiketrain_tau_ms)\n",
    "\n",
    "# curvefit and sttc\n",
    "ou_spiketrain1_popt, _ = curve_fit(func_exp_abc_like, np.linspace(0,20,20), acf_sttc_, maxfev=5000)\n",
    "print(ou_spiketrain1_popt)\n",
    "ou_spiketrain1_tau_ms = ou_spiketrain1_popt[1] * binSize\n",
    "print(ou_spiketrain1_tau_ms)"
   ]
  },
  {
   "cell_type": "code",
   "execution_count": null,
   "id": "ba7699f0-446c-443a-847b-4ba7c5d395b2",
   "metadata": {},
   "outputs": [],
   "source": [
    "fig, axes = plt.subplots(1,1, figsize=(7,5))\n",
    "\n",
    "axes.plot(np.linspace(0,20,20), spikeTrain_data_sumStat, c='k', label='abc')\n",
    "axes.plot(np.linspace(0,20,21), spikeTrain_acf, c='orange', label='acf_statstool')\n",
    "axes.plot(np.linspace(0,20,20), acf_sttc_, c='red', label='sttc')\n",
    "axes.axvline(x=2, lw=0.5, color='k')\n",
    "axes.axhline(y=1/np.e, lw=0.5, color='k')\n",
    "axes.axhline(y=0, lw=0.5, color='k')\n",
    "\n",
    "axes.plot(np.linspace(0,20,21), func_exp_abc_like(np.linspace(0,20,21), ou_spiketrain_popt[0], ou_spiketrain_popt[1]), label='fitted')\n",
    "\n",
    "axes.legend(frameon=False)\n",
    "\n",
    "sns.despine()"
   ]
  },
  {
   "cell_type": "markdown",
   "id": "2f393ac5-1de4-459e-8b26-65545aca8d88",
   "metadata": {},
   "source": [
    "### Schematic of data generation"
   ]
  },
  {
   "cell_type": "code",
   "execution_count": 12,
   "id": "448e8f95-fd10-4306-bc77-f3d1ccc29dca",
   "metadata": {},
   "outputs": [
    {
     "ename": "ValueError",
     "evalue": "x and y must have same first dimension, but have shapes (100000,) and (1000,)",
     "output_type": "error",
     "traceback": [
      "\u001b[1;31m---------------------------------------------------------------------------\u001b[0m",
      "\u001b[1;31mValueError\u001b[0m                                Traceback (most recent call last)",
      "Cell \u001b[1;32mIn[12], line 5\u001b[0m\n\u001b[0;32m      2\u001b[0m fig, axes \u001b[38;5;241m=\u001b[39m plt\u001b[38;5;241m.\u001b[39msubplots(\u001b[38;5;241m5\u001b[39m,\u001b[38;5;241m1\u001b[39m, figsize\u001b[38;5;241m=\u001b[39m(\u001b[38;5;241m10\u001b[39m,\u001b[38;5;241m10\u001b[39m))\n\u001b[0;32m      3\u001b[0m plt\u001b[38;5;241m.\u001b[39msubplots_adjust(hspace\u001b[38;5;241m=\u001b[39m\u001b[38;5;241m0.8\u001b[39m, wspace\u001b[38;5;241m=\u001b[39m\u001b[38;5;241m0.4\u001b[39m)\n\u001b[1;32m----> 5\u001b[0m \u001b[43maxes\u001b[49m\u001b[43m[\u001b[49m\u001b[38;5;241;43m0\u001b[39;49m\u001b[43m]\u001b[49m\u001b[38;5;241;43m.\u001b[39;49m\u001b[43mplot\u001b[49m\u001b[43m(\u001b[49m\u001b[43mnp\u001b[49m\u001b[38;5;241;43m.\u001b[39;49m\u001b[43mlinspace\u001b[49m\u001b[43m(\u001b[49m\u001b[38;5;241;43m0\u001b[39;49m\u001b[43m,\u001b[49m\u001b[43mnumBin\u001b[49m\u001b[38;5;241;43m-\u001b[39;49m\u001b[38;5;241;43m1\u001b[39;49m\u001b[43m,\u001b[49m\u001b[43mnumBin\u001b[49m\u001b[43m)\u001b[49m\u001b[43m,\u001b[49m\u001b[43m \u001b[49m\u001b[43mou\u001b[49m\u001b[43m[\u001b[49m\u001b[38;5;241;43m0\u001b[39;49m\u001b[43m]\u001b[49m\u001b[43m,\u001b[49m\u001b[43m \u001b[49m\u001b[43mlw\u001b[49m\u001b[38;5;241;43m=\u001b[39;49m\u001b[38;5;241;43m0.5\u001b[39;49m\u001b[43m)\u001b[49m\n\u001b[0;32m      6\u001b[0m axes[\u001b[38;5;241m0\u001b[39m]\u001b[38;5;241m.\u001b[39maxhline(y\u001b[38;5;241m=\u001b[39m\u001b[38;5;241m0\u001b[39m, color\u001b[38;5;241m=\u001b[39m\u001b[38;5;124m'\u001b[39m\u001b[38;5;124mk\u001b[39m\u001b[38;5;124m'\u001b[39m, lw\u001b[38;5;241m=\u001b[39m\u001b[38;5;241m0.5\u001b[39m)\n\u001b[0;32m      7\u001b[0m \u001b[38;5;28;01mfor\u001b[39;00m i \u001b[38;5;129;01min\u001b[39;00m \u001b[38;5;28mrange\u001b[39m(numBinData\u001b[38;5;241m+\u001b[39m\u001b[38;5;241m1\u001b[39m):\n",
      "File \u001b[1;32m~\\anaconda3\\envs\\ephys_data_loader\\Lib\\site-packages\\matplotlib\\axes\\_axes.py:1779\u001b[0m, in \u001b[0;36mAxes.plot\u001b[1;34m(self, scalex, scaley, data, *args, **kwargs)\u001b[0m\n\u001b[0;32m   1536\u001b[0m \u001b[38;5;250m\u001b[39m\u001b[38;5;124;03m\"\"\"\u001b[39;00m\n\u001b[0;32m   1537\u001b[0m \u001b[38;5;124;03mPlot y versus x as lines and/or markers.\u001b[39;00m\n\u001b[0;32m   1538\u001b[0m \n\u001b[1;32m   (...)\u001b[0m\n\u001b[0;32m   1776\u001b[0m \u001b[38;5;124;03m(``'green'``) or hex strings (``'#008000'``).\u001b[39;00m\n\u001b[0;32m   1777\u001b[0m \u001b[38;5;124;03m\"\"\"\u001b[39;00m\n\u001b[0;32m   1778\u001b[0m kwargs \u001b[38;5;241m=\u001b[39m cbook\u001b[38;5;241m.\u001b[39mnormalize_kwargs(kwargs, mlines\u001b[38;5;241m.\u001b[39mLine2D)\n\u001b[1;32m-> 1779\u001b[0m lines \u001b[38;5;241m=\u001b[39m [\u001b[38;5;241m*\u001b[39m\u001b[38;5;28mself\u001b[39m\u001b[38;5;241m.\u001b[39m_get_lines(\u001b[38;5;28mself\u001b[39m, \u001b[38;5;241m*\u001b[39margs, data\u001b[38;5;241m=\u001b[39mdata, \u001b[38;5;241m*\u001b[39m\u001b[38;5;241m*\u001b[39mkwargs)]\n\u001b[0;32m   1780\u001b[0m \u001b[38;5;28;01mfor\u001b[39;00m line \u001b[38;5;129;01min\u001b[39;00m lines:\n\u001b[0;32m   1781\u001b[0m     \u001b[38;5;28mself\u001b[39m\u001b[38;5;241m.\u001b[39madd_line(line)\n",
      "File \u001b[1;32m~\\anaconda3\\envs\\ephys_data_loader\\Lib\\site-packages\\matplotlib\\axes\\_base.py:296\u001b[0m, in \u001b[0;36m_process_plot_var_args.__call__\u001b[1;34m(self, axes, data, *args, **kwargs)\u001b[0m\n\u001b[0;32m    294\u001b[0m     this \u001b[38;5;241m+\u001b[39m\u001b[38;5;241m=\u001b[39m args[\u001b[38;5;241m0\u001b[39m],\n\u001b[0;32m    295\u001b[0m     args \u001b[38;5;241m=\u001b[39m args[\u001b[38;5;241m1\u001b[39m:]\n\u001b[1;32m--> 296\u001b[0m \u001b[38;5;28;01myield from\u001b[39;00m \u001b[38;5;28;43mself\u001b[39;49m\u001b[38;5;241;43m.\u001b[39;49m\u001b[43m_plot_args\u001b[49m\u001b[43m(\u001b[49m\n\u001b[0;32m    297\u001b[0m \u001b[43m    \u001b[49m\u001b[43maxes\u001b[49m\u001b[43m,\u001b[49m\u001b[43m \u001b[49m\u001b[43mthis\u001b[49m\u001b[43m,\u001b[49m\u001b[43m \u001b[49m\u001b[43mkwargs\u001b[49m\u001b[43m,\u001b[49m\u001b[43m \u001b[49m\u001b[43mambiguous_fmt_datakey\u001b[49m\u001b[38;5;241;43m=\u001b[39;49m\u001b[43mambiguous_fmt_datakey\u001b[49m\u001b[43m)\u001b[49m\n",
      "File \u001b[1;32m~\\anaconda3\\envs\\ephys_data_loader\\Lib\\site-packages\\matplotlib\\axes\\_base.py:486\u001b[0m, in \u001b[0;36m_process_plot_var_args._plot_args\u001b[1;34m(self, axes, tup, kwargs, return_kwargs, ambiguous_fmt_datakey)\u001b[0m\n\u001b[0;32m    483\u001b[0m     axes\u001b[38;5;241m.\u001b[39myaxis\u001b[38;5;241m.\u001b[39mupdate_units(y)\n\u001b[0;32m    485\u001b[0m \u001b[38;5;28;01mif\u001b[39;00m x\u001b[38;5;241m.\u001b[39mshape[\u001b[38;5;241m0\u001b[39m] \u001b[38;5;241m!=\u001b[39m y\u001b[38;5;241m.\u001b[39mshape[\u001b[38;5;241m0\u001b[39m]:\n\u001b[1;32m--> 486\u001b[0m     \u001b[38;5;28;01mraise\u001b[39;00m \u001b[38;5;167;01mValueError\u001b[39;00m(\u001b[38;5;124mf\u001b[39m\u001b[38;5;124m\"\u001b[39m\u001b[38;5;124mx and y must have same first dimension, but \u001b[39m\u001b[38;5;124m\"\u001b[39m\n\u001b[0;32m    487\u001b[0m                      \u001b[38;5;124mf\u001b[39m\u001b[38;5;124m\"\u001b[39m\u001b[38;5;124mhave shapes \u001b[39m\u001b[38;5;132;01m{\u001b[39;00mx\u001b[38;5;241m.\u001b[39mshape\u001b[38;5;132;01m}\u001b[39;00m\u001b[38;5;124m and \u001b[39m\u001b[38;5;132;01m{\u001b[39;00my\u001b[38;5;241m.\u001b[39mshape\u001b[38;5;132;01m}\u001b[39;00m\u001b[38;5;124m\"\u001b[39m)\n\u001b[0;32m    488\u001b[0m \u001b[38;5;28;01mif\u001b[39;00m x\u001b[38;5;241m.\u001b[39mndim \u001b[38;5;241m>\u001b[39m \u001b[38;5;241m2\u001b[39m \u001b[38;5;129;01mor\u001b[39;00m y\u001b[38;5;241m.\u001b[39mndim \u001b[38;5;241m>\u001b[39m \u001b[38;5;241m2\u001b[39m:\n\u001b[0;32m    489\u001b[0m     \u001b[38;5;28;01mraise\u001b[39;00m \u001b[38;5;167;01mValueError\u001b[39;00m(\u001b[38;5;124mf\u001b[39m\u001b[38;5;124m\"\u001b[39m\u001b[38;5;124mx and y can be no greater than 2D, but have \u001b[39m\u001b[38;5;124m\"\u001b[39m\n\u001b[0;32m    490\u001b[0m                      \u001b[38;5;124mf\u001b[39m\u001b[38;5;124m\"\u001b[39m\u001b[38;5;124mshapes \u001b[39m\u001b[38;5;132;01m{\u001b[39;00mx\u001b[38;5;241m.\u001b[39mshape\u001b[38;5;132;01m}\u001b[39;00m\u001b[38;5;124m and \u001b[39m\u001b[38;5;132;01m{\u001b[39;00my\u001b[38;5;241m.\u001b[39mshape\u001b[38;5;132;01m}\u001b[39;00m\u001b[38;5;124m\"\u001b[39m)\n",
      "\u001b[1;31mValueError\u001b[0m: x and y must have same first dimension, but have shapes (100000,) and (1000,)"
     ]
    },
    {
     "data": {
      "image/png": "[encoded data removed]",
      "text/plain": [
       "<Figure size 1000x1000 with 5 Axes>"
      ]
     },
     "metadata": {},
     "output_type": "display_data"
    }
   ],
   "source": [
    "# plot\n",
    "fig, axes = plt.subplots(5,1, figsize=(10,10))\n",
    "plt.subplots_adjust(hspace=0.8, wspace=0.4)\n",
    "\n",
    "axes[0].plot(np.linspace(0,numBin-1,numBin), ou[0], lw=0.5)\n",
    "axes[0].axhline(y=0, color='k', lw=0.5)\n",
    "for i in range(numBinData+1):\n",
    "    axes[0].axvline(x=50*i, color='k', lw=0.5)\n",
    "axes[0].set_title('One tau OU')\n",
    "\n",
    "axes[1].plot(np.linspace(0,numBin-1,numBin), ou_poisson[0], lw=0.5)\n",
    "axes[1].axhline(y=0, color='k', lw=0.5)\n",
    "for i in range(numBinData+1):\n",
    "    axes[1].axvline(x=50*i, color='k', lw=0.5)\n",
    "axes[1].set_title('One tau OU, scaled, shifted, rectified')\n",
    "\n",
    "axes[2].plot(np.linspace(0,numBin-1,numBin), ou_poisson_rate[0], lw=0.5)\n",
    "axes[2].axhline(y=0, color='k', lw=0.5)\n",
    "for i in range(numBinData+1):\n",
    "    axes[2].axvline(x=50*i, color='k', lw=0.5)\n",
    "axes[2].set_title('One tau OU, Poisson spike count')\n",
    "\n",
    "axes[3].plot(spike_times, np.ones_like(spike_times), '|', markersize=10, c='salmon')  # Plot spikes as a row,\n",
    "for i in range(numBinData+1):\n",
    "    axes[3].axvline(x=50*i, color='k', lw=0.5)\n",
    "axes[3].set_title('One tau OU, Poisson spike train')\n",
    "\n",
    "axes[4].plot(np.linspace(0,numBinData-1,numBinData), ou_spiketrain_binned[0], lw=0.5)\n",
    "axes[4].axhline(y=0, color='k', lw=0.5)\n",
    "axes[4].set_xticks(np.linspace(0,numBinData-1,numBinData))\n",
    "for i in range(numBinData):\n",
    "    axes[4].axvline(x=i, color='k', lw=0.5)\n",
    "axes[4].set_title('One tau OU, Poisson spike train, binned')\n",
    "\n",
    "for ax in axes.flat:\n",
    "    ax.set_xlabel('Time')\n",
    "\n",
    "sns.despine()\n",
    "\n",
    "#fig.savefig('Q:\\\\Personal\\\\Irina\\\\projects\\\\isttc\\\\results\\\\synthetic_data\\\\' + 'data_generation_schematic.png' , bbox_inches='tight')"
   ]
  }
 ],
 "metadata": {
  "kernelspec": {
   "display_name": "Python 3 (ipykernel)",
   "language": "python",
   "name": "python3"
  },
  "language_info": {
   "codemirror_mode": {
    "name": "ipython",
    "version": 3
   },
   "file_extension": ".py",
   "mimetype": "text/x-python",
   "name": "python",
   "nbconvert_exporter": "python",
   "pygments_lexer": "ipython3",
   "version": "3.12.7"
  }
 },
 "nbformat": 4,
 "nbformat_minor": 5
}
