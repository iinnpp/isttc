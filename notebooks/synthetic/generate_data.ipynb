{
 "cells": [
  {
   "cell_type": "markdown",
   "id": "b8233ff1-87a2-45ea-a94a-f7974747f389",
   "metadata": {},
   "source": [
    "Here:\n",
    "- generate time series (cont OU process?)\n",
    "- plot it (continious and also binned)\n",
    "- calculate acf: using ABC tau, using py functions\n",
    "- plot acf"
   ]
  },
  {
   "cell_type": "code",
   "execution_count": 1,
   "id": "b95934c7-5172-4158-8b13-fcb057908108",
   "metadata": {},
   "outputs": [],
   "source": [
    "import matplotlib.pyplot as plt\n",
    "%matplotlib inline\n",
    "import seaborn as sns # comment this line if you don't want to use seaborn for plots\n",
    "\n",
    "import numpy as np\n",
    "# IP import warnings because of \"module 'numpy' has no attribute 'warnings'\"\n",
    "import warnings\n",
    "np.warnings = warnings\n",
    "import pandas as pd\n",
    "import statsmodels.api as sm\n",
    "from statsmodels.tsa.stattools import acf\n",
    "from scipy.optimize import curve_fit\n",
    "from scipy import stats\n",
    "\n",
    "# add the path to the abcTau package\n",
    "import sys\n",
    "#sys.path.append('./abcTau')\n",
    "sys.path.append('C:\\\\Users\\\\ipochino\\\\.conda\\\\envs\\\\isttc\\\\Lib\\\\site-packages\\\\abcTau') # IP: replaced previous line with that; relative path was not working\n",
    "import abcTau\n",
    "\n",
    "# import from scripts\n",
    "import os\n",
    "os.chdir(os.path.expanduser(\"D:\\\\intr_timescales\\\\isttc\\\\scripts\"))\n",
    "# os.chdir(os.path.expanduser(\"C:\\\\Users\\\\ipoch\\\\Documents\\\\repos\\\\isttc\\\\scripts\"))\n",
    "from calculate_acf import acf_sttc"
   ]
  },
  {
   "cell_type": "code",
   "execution_count": 3,
   "id": "cc2f3a1b-6ac0-4cfd-921c-03bb0b510aa9",
   "metadata": {},
   "outputs": [],
   "source": [
    "def func_exp_abc_like(x, a, tau):\n",
    "    return a * np.exp(-x/tau) "
   ]
  },
  {
   "cell_type": "markdown",
   "id": "048b6381-429d-4eee-9d28-89acac735d35",
   "metadata": {},
   "source": [
    "### Generate time series"
   ]
  },
  {
   "cell_type": "code",
   "execution_count": 2,
   "id": "3190e170-88bb-42b7-b142-31b711eddbd2",
   "metadata": {},
   "outputs": [
    {
     "name": "stdout",
     "output_type": "stream",
     "text": [
      "2000\n"
     ]
    }
   ],
   "source": [
    "tau = np.array([100])\n",
    "D = 1/tau\n",
    "deltaT = 1\n",
    "T = 100*1000\n",
    "numTrials = 1\n",
    "\n",
    "data_mean = 0.01 # average of firing rate\n",
    "data_var = 0.02 # variance of firing rate\n",
    "\n",
    "binSize = 50 # bins size for binning the data for calculating acf\n",
    "binsData =  np.arange(0, T + binSize, binSize)\n",
    "numBinData = len(binsData)-1\n",
    "#print(binsData)\n",
    "print(numBinData)\n",
    "\n",
    "num_lags = 20\n",
    "maxTimeLag = 1000 "
   ]
  },
  {
   "cell_type": "markdown",
   "id": "8db239fe-b5db-4599-8767-3416eb5de7e5",
   "metadata": {},
   "source": [
    "#### One tau OU"
   ]
  },
  {
   "cell_type": "code",
   "execution_count": 4,
   "id": "55ebd7ed-2655-4218-b66a-52aaca076486",
   "metadata": {},
   "outputs": [
    {
     "name": "stdout",
     "output_type": "stream",
     "text": [
      "ou.shape:  (1, 100000)\n",
      "3.2253378965472175\n",
      "ou_all.shape:  (1, 100000)\n",
      "(1, 2000)\n"
     ]
    }
   ],
   "source": [
    "# OU process \n",
    "ou = abcTau.OU_gen(tau, D, deltaT, T, numTrials)\n",
    "print('ou.shape: ', ou.shape)\n",
    "\n",
    "ou_check = np.max(ou)\n",
    "print(ou_check)\n",
    "# adjust OU process - scale, shift \n",
    "ou_std = np.sqrt(data_var)\n",
    "ou_mean = data_mean\n",
    "ou_all = ou_std * ou + ou_mean # this is scale and shift, where is rectify? - no rectify here, this will come for the Poisson rate\n",
    "print('ou_all.shape: ', ou_all.shape)\n",
    "\n",
    "# bin for ACF calculation\n",
    "ou_binned_data = abcTau.binData(ou_all, [numTrials, numBinData]) * deltaT\n",
    "print(ou_binned_data.shape)"
   ]
  },
  {
   "cell_type": "markdown",
   "id": "27f9e484-271b-4b77-a5e6-7829cd0ff6e7",
   "metadata": {},
   "source": [
    "#### One tau UO with Poisson spike count"
   ]
  },
  {
   "cell_type": "code",
   "execution_count": 5,
   "id": "35a443a2-6a49-4246-9773-b7cd5afabde2",
   "metadata": {},
   "outputs": [
    {
     "name": "stdout",
     "output_type": "stream",
     "text": [
      "(1, 2000)\n"
     ]
    }
   ],
   "source": [
    "ou_std =  np.sqrt(data_var - data_mean)/deltaT # law of total variance  \n",
    "ou_mean = data_mean/deltaT # law of total expectation\n",
    "\n",
    "# fit mean and var\n",
    "ou_poisson = ou_std * ou + ou_mean\n",
    "ou_poisson[ou_poisson < 0] = 0 # rectifying\n",
    "\n",
    "# bin rate and generate spikes\n",
    "numBin = int(T/deltaT)\n",
    "ou_poisson_rate_ = abcTau.binData(ou_poisson, [numTrials,numBin]) * deltaT\n",
    "ou_poisson_rate = np.random.poisson(ou_poisson_rate_)\n",
    "\n",
    "# bin for ACF calculation\n",
    "ou_poisson_binned = abcTau.binData(ou_poisson_rate, [numTrials, numBinData]) * deltaT\n",
    "print(ou_poisson_binned.shape)"
   ]
  },
  {
   "cell_type": "markdown",
   "id": "64735aed-2046-4d73-9b50-db698b2ec851",
   "metadata": {},
   "source": [
    "#### Going from rate to spikes"
   ]
  },
  {
   "cell_type": "code",
   "execution_count": 6,
   "id": "22d84e7c-8cbd-4222-b360-1a02224128fa",
   "metadata": {},
   "outputs": [
    {
     "name": "stdout",
     "output_type": "stream",
     "text": [
      "(1, 100000)\n",
      "N spikes (4375,)\n",
      "(1, 2000)\n"
     ]
    }
   ],
   "source": [
    "spikeTrain = np.zeros(ou_poisson_rate.shape)\n",
    "print(spikeTrain.shape)\n",
    "\n",
    "for i in range(ou_poisson_rate.shape[0]):\n",
    "    spikeTrain[i,:] = [1 if ou_poisson_rate[i,j] > np.random.random() else 0 for j in range(ou_poisson_rate.shape[1])]\n",
    "\n",
    "spike_times = np.where(np.squeeze(spikeTrain) == 1)[0]\n",
    "print('N spikes {}'.format(spike_times.shape))\n",
    "\n",
    "# bin for ACF calculation\n",
    "ou_spiketrain_binned = abcTau.binData(spikeTrain, [numTrials, numBinData]) * deltaT\n",
    "print(ou_spiketrain_binned.shape)"
   ]
  },
  {
   "cell_type": "code",
   "execution_count": 8,
   "id": "51619db0-0054-471f-8431-ea739b0c40f3",
   "metadata": {},
   "outputs": [],
   "source": [
    "# store\n",
    "# ou\n",
    "np.save('Q:\\\\Personal\\\\Irina\\\\projects\\\\isttc\\\\results\\\\synthetic_data\\\\test_full_split\\\\ou_all.npy', ou_all)\n",
    "np.save('Q:\\\\Personal\\\\Irina\\\\projects\\\\isttc\\\\results\\\\synthetic_data\\\\test_full_split\\\\ou_binned_data.npy', ou_binned_data)\n",
    "\n",
    "# rates\n",
    "np.save('Q:\\\\Personal\\\\Irina\\\\projects\\\\isttc\\\\results\\\\synthetic_data\\\\test_full_split\\\\ou_poisson_rate.npy', ou_poisson_rate)\n",
    "np.save('Q:\\\\Personal\\\\Irina\\\\projects\\\\isttc\\\\results\\\\synthetic_data\\\\test_full_split\\\\ou_poisson_binned.npy', ou_poisson_binned)\n",
    "\n",
    "# spikes\n",
    "np.save('Q:\\\\Personal\\\\Irina\\\\projects\\\\isttc\\\\results\\\\synthetic_data\\\\test_full_split\\\\spike_times.npy', spike_times)\n",
    "np.save('Q:\\\\Personal\\\\Irina\\\\projects\\\\isttc\\\\results\\\\synthetic_data\\\\test_full_split\\\\ou_spiketrain_binned.npy', ou_spiketrain_binned)"
   ]
  },
  {
   "cell_type": "markdown",
   "id": "31400023-937a-459d-a63a-7e9b923d9527",
   "metadata": {},
   "source": [
    "### Plot signals"
   ]
  },
  {
   "cell_type": "code",
   "execution_count": null,
   "id": "232b3e26-7949-4dee-97fb-7ee4171b787d",
   "metadata": {},
   "outputs": [],
   "source": [
    "#ou = np.load('Q:\\\\Personal\\\\Irina\\\\projects\\\\isttc\\\\results\\\\synthetic_data\\\\test_data\\\\ou_tau100ms_1trials_1000ms.npy')"
   ]
  },
  {
   "cell_type": "code",
   "execution_count": null,
   "id": "8b5e2138-7a5d-4bd0-8ad3-64a18b4d8817",
   "metadata": {},
   "outputs": [],
   "source": [
    "fig, axes = plt.subplots(3,1, figsize=(20,15))\n",
    "plt.subplots_adjust(hspace=0.8, wspace=0.4)\n",
    "\n",
    "axes[0].plot(np.linspace(0,ou.shape[1]-1,ou.shape[1]), ou[0], lw=0.5)\n",
    "axes[0].axhline(y=0, color='k', lw=0.5)\n",
    "for i in range(numBinData+1):\n",
    "    axes[0].axvline(x=50*i, color='k', lw=0.5)\n",
    "axes[0].set_xlabel('Time')\n",
    "axes[0].set_title('One tau OU')\n",
    "\n",
    "axes[1].plot(np.linspace(0,ou.shape[1]-1,ou.shape[1]), ou_all[0], lw=0.5)\n",
    "axes[1].axhline(y=0, color='k', lw=0.5)\n",
    "for i in range(numBinData+1):\n",
    "    axes[1].axvline(x=50*i, color='k', lw=0.5)\n",
    "axes[1].set_xlabel('Time')\n",
    "axes[1].set_title('One tau OU, scaled and shifted')\n",
    "\n",
    "# that is supposed to be binned rate but it goes negative? is it ok?\n",
    "axes[2].plot(np.linspace(0,numBinData-1,numBinData), ou_binned_data[0], lw=0.5)\n",
    "axes[2].axhline(y=0, color='k', lw=0.5)\n",
    "axes[2].set_xticks(np.linspace(0,numBinData-1,numBinData))\n",
    "for i in range(numBinData):\n",
    "    axes[2].axvline(x=i, color='k', lw=0.5)\n",
    "axes[2].set_xlabel('Time bins')\n",
    "axes[2].set_title('One tau OU, scaled and shifted, binned')\n",
    "\n",
    "sns.despine()"
   ]
  },
  {
   "cell_type": "code",
   "execution_count": null,
   "id": "a56491df-ec64-4dd1-b3c7-47506f8dcd27",
   "metadata": {},
   "outputs": [],
   "source": [
    "fig, axes = plt.subplots(5,1, figsize=(10,10))\n",
    "plt.subplots_adjust(hspace=0.8, wspace=0.4)\n",
    "\n",
    "axes[0].plot(np.linspace(0,numBin-1,numBin), ou[0], lw=0.5)\n",
    "axes[0].axhline(y=0, color='k', lw=0.5)\n",
    "for i in range(numBinData+1):\n",
    "    axes[0].axvline(x=50*i, color='k', lw=0.5)\n",
    "axes[0].set_title('One tau OU')\n",
    "\n",
    "axes[1].plot(np.linspace(0,numBin-1,numBin), ou_poisson[0], lw=0.5)\n",
    "axes[1].axhline(y=0, color='k', lw=0.5)\n",
    "for i in range(numBinData+1):\n",
    "    axes[1].axvline(x=50*i, color='k', lw=0.5)\n",
    "axes[1].set_title('One tau OU, scaled, shifted, rectified')\n",
    "\n",
    "axes[2].plot(np.linspace(0,numBin-1,numBin), ou_poisson_rate_[0], lw=0.5)\n",
    "axes[2].axhline(y=0, color='k', lw=0.5)\n",
    "for i in range(numBinData+1):\n",
    "    axes[2].axvline(x=50*i, color='k', lw=0.5)\n",
    "axes[2].set_title('One tau OU, scaled, shifted, rectified - binned for getting spike count')\n",
    "\n",
    "axes[3].plot(np.linspace(0,numBin-1,numBin), ou_poisson_rate[0], lw=0.5)\n",
    "axes[3].axhline(y=0, color='k', lw=0.5)\n",
    "for i in range(numBinData+1):\n",
    "    axes[3].axvline(x=50*i, color='k', lw=0.5)\n",
    "axes[3].set_title('One tau OU, Poisson spike count')\n",
    "# for i in range(numBinData+1):\n",
    "#     axes[3].axvline(x=50*i, color='k', lw=0.5)\n",
    "\n",
    "# that is supposed to be binned rate but it goes negative? is it ok?\n",
    "axes[4].plot(np.linspace(0,numBinData-1,numBinData), ou_poisson_binned[0], lw=0.5)\n",
    "axes[4].axhline(y=0, color='k', lw=0.5)\n",
    "axes[4].set_xticks(np.linspace(0,numBinData-1,numBinData))\n",
    "for i in range(numBinData):\n",
    "    axes[4].axvline(x=i, color='k', lw=0.5)\n",
    "axes[4].set_title('One tau OU, Poisson spike count binned')\n",
    "\n",
    "\n",
    "for ax in axes.flat:\n",
    "    ax.set_xlabel('Time')\n",
    "\n",
    "sns.despine()"
   ]
  },
  {
   "cell_type": "code",
   "execution_count": null,
   "id": "ec00c928-8b6d-4330-a81d-abf430bb95f3",
   "metadata": {},
   "outputs": [],
   "source": [
    "fig, axes = plt.subplots(3,1, figsize=(20,15))\n",
    "plt.subplots_adjust(hspace=0.8, wspace=0.4)\n",
    "\n",
    "axes[0].plot(np.linspace(0,numBin-1,numBin), ou_poisson_rate[0], lw=0.5)\n",
    "axes[0].axhline(y=0, color='k', lw=0.5)\n",
    "for i in range(numBinData+1):\n",
    "    axes[0].axvline(x=50*i, color='k', lw=0.5)\n",
    "axes[0].set_title('One tau OU, Poisson spike count')\n",
    "\n",
    "axes[1].plot(spike_times, np.ones_like(spike_times), '|', markersize=10, c='salmon')  # Plot spikes as a row,\n",
    "for i in range(numBinData+1):\n",
    "    axes[1].axvline(x=50*i, color='k', lw=0.5)\n",
    "axes[1].set_title('One tau OU, Poisson spike train')\n",
    "\n",
    "axes[2].plot(np.linspace(0,numBinData-1,numBinData), ou_spiketrain_binned[0], lw=0.5)\n",
    "axes[2].axhline(y=0, color='k', lw=0.5)\n",
    "axes[2].set_xticks(np.linspace(0,numBinData-1,numBinData))\n",
    "for i in range(numBinData):\n",
    "    axes[2].axvline(x=i, color='k', lw=0.5)\n",
    "axes[2].set_title('One tau OU, Poisson spike train, binned')\n",
    "\n",
    "for ax in axes.flat:\n",
    "    ax.set_xlabel('Time')\n",
    "\n",
    "sns.despine()"
   ]
  },
  {
   "cell_type": "markdown",
   "id": "a73f31e3-0c1c-44e3-bbf6-79dd808ce7af",
   "metadata": {},
   "source": [
    "### Calculate ACF and taus"
   ]
  },
  {
   "cell_type": "code",
   "execution_count": 9,
   "id": "344858f2-aef9-4633-a4aa-cd76829a21a7",
   "metadata": {},
   "outputs": [
    {
     "name": "stdout",
     "output_type": "stream",
     "text": [
      "ou_all_data_mean: 0.6661696585517741, ou_all_data_var: 41.60233039245058, ou_all_T: 100000, ou_all_numTrials: 1, \n",
      " ou_all_data_sumStat: [ 1.          0.72878847  0.4542644   0.27470863  0.16383159  0.10099148\n",
      "  0.04548425  0.00529255 -0.01622101 -0.02720201 -0.03512605 -0.04631822\n",
      " -0.04587097 -0.04037954 -0.03846921 -0.03187231 -0.00680938  0.04733408\n",
      "  0.09278372  0.10846863]\n",
      "ou_all_acf: [ 1.          0.72842434  0.45381071  0.27429718  0.16350461  0.1007397\n",
      "  0.04534705  0.00527329 -0.01615898 -0.02708552 -0.034958   -0.04607041\n",
      " -0.0455994  -0.04011871 -0.03820092 -0.03163351 -0.00675454  0.04693175\n",
      "  0.09194872  0.10743874  0.10867028]\n",
      "[1. 1.]\n",
      "[1.0428467  2.22920742]\n",
      "111.46037122365844\n"
     ]
    },
    {
     "name": "stderr",
     "output_type": "stream",
     "text": [
      "C:\\Users\\ipochino\\.conda\\envs\\isttc\\Lib\\site-packages\\abcTau\\preprocessing.py:451: OptimizeWarning: Covariance of the parameters could not be estimated\n",
      "  popt, pcov = curve_fit(single_exp, xdata, ydata, maxfev = 2000)\n"
     ]
    }
   ],
   "source": [
    "# calculate ACF \n",
    "\n",
    "# Using ABC\n",
    "summStat_metric = 'comp_cc'\n",
    "ifNorm = True # if normalize the autocorrelation or PSD\n",
    "ou_all_data_sumStat, ou_all_data_mean, ou_all_data_var, ou_all_T, ou_all_numTrials =  abcTau.preprocessing.extract_stats(ou_all, deltaT, binSize,\n",
    "                                                                                  summStat_metric, ifNorm, maxTimeLag)\n",
    "print('ou_all_data_mean: {}, ou_all_data_var: {}, ou_all_T: {}, ou_all_numTrials: {}, \\n ou_all_data_sumStat: {}'.format(ou_all_data_mean, \n",
    "                                                                                                                         ou_all_data_var, \n",
    "                                                                                                                         ou_all_T, \n",
    "                                                                                                                         ou_all_numTrials, \n",
    "                                                                                                                         ou_all_data_sumStat))\n",
    "# Using acf func\n",
    "ou_all_acf = acf(ou_binned_data[0], nlags=num_lags)\n",
    "print('ou_all_acf: {}'.format(ou_all_acf))\n",
    "\n",
    "\n",
    "# calculate tau\n",
    "\n",
    "# Using abc but not bayesian\n",
    "ou_all_abc_popt, ou_all_abc_poptcov = abcTau.preprocessing.fit_oneTauExponential(ou_all_data_sumStat, binSize, maxTimeLag)\n",
    "print(ou_all_abc_popt)\n",
    "\n",
    "# Using curve_fit\n",
    "ou_all_popt, ou_all_pcov = curve_fit(func_exp_abc_like, np.linspace(0,20,21), ou_all_acf, maxfev=5000)\n",
    "print(ou_all_popt)\n",
    "ou_all_tau_ms = ou_all_popt[1] * binSize\n",
    "print(ou_all_tau_ms)"
   ]
  },
  {
   "cell_type": "code",
   "execution_count": 16,
   "id": "460ed9b2-9488-4f31-ad9c-9f0eb50d1fcd",
   "metadata": {},
   "outputs": [
    {
     "data": {
      "image/png": "[encoded data removed]",
      "text/plain": [
       "<Figure size 500x300 with 1 Axes>"
      ]
     },
     "metadata": {},
     "output_type": "display_data"
    }
   ],
   "source": [
    "t_axis_lags = np.linspace(0, num_lags*binSize, num_lags)\n",
    "\n",
    "fig, axes = plt.subplots(1,1, figsize=(5,3))\n",
    "\n",
    "axes.plot(np.linspace(0,20,20), ou_all_data_sumStat, c='k', label='abc')\n",
    "axes.plot(np.linspace(0,20,20), ou_all_acf[:-1], c='orange', label='acf_statstool')\n",
    "axes.axvline(x=2, lw=0.5, color='k')\n",
    "axes.axhline(y=1/np.e, lw=0.5, color='k')\n",
    "\n",
    "axes.plot(np.linspace(0,20,21), func_exp_abc_like(np.linspace(0,20,21), ou_all_popt[0], ou_all_popt[1]))\n",
    "\n",
    "axes.legend(frameon=False)\n",
    "\n",
    "sns.despine()"
   ]
  },
  {
   "cell_type": "code",
   "execution_count": 11,
   "id": "2c4a8493-0add-4852-8688-81e9b9d469e8",
   "metadata": {},
   "outputs": [
    {
     "name": "stdout",
     "output_type": "stream",
     "text": [
      "ou_poisson_data_mean: 2.318, ou_poisson_data_var: 9.591876, ou_poisson_T: 100000, ou_poisson_numTrials: 1, \n",
      " ou_poisson_data_sumStat: [ 1.          0.49641685  0.28742183  0.16482669  0.0912234   0.07689455\n",
      "  0.02246479 -0.00744925 -0.01968746 -0.03860629 -0.02761158 -0.02924513\n",
      " -0.0401354  -0.01027059 -0.01380066 -0.0030814   0.01248549  0.0457687\n",
      "  0.07096784  0.04477516]\n",
      "ou_poisson_acf: [ 1.          0.49616878  0.28713485  0.16458035  0.09104223  0.07670431\n",
      "  0.02239881 -0.00742096 -0.01960748 -0.03843316 -0.02747509 -0.02908693\n",
      " -0.03989457 -0.01020377 -0.01370398 -0.00305867  0.01238475  0.04537855\n",
      "  0.07032815  0.04434923  0.04938614]\n",
      "[1. 1.]\n",
      "[0.98961042 1.58623176]\n",
      "79.3115878954161\n"
     ]
    }
   ],
   "source": [
    "# calculate ACF \n",
    "\n",
    "# Using ABC\n",
    "summStat_metric = 'comp_cc'\n",
    "ifNorm = True # if normalize the autocorrelation or PSD\n",
    "ou_poisson_data_sumStat, ou_poisson_data_mean, ou_poisson_data_var, ou_poisson_T, ou_poisson_numTrials =  abcTau.preprocessing.extract_stats(ou_poisson_rate, \n",
    "                                                                                                                         deltaT, binSize,\n",
    "                                                                                  summStat_metric, ifNorm, maxTimeLag)\n",
    "print('ou_poisson_data_mean: {}, ou_poisson_data_var: {}, ou_poisson_T: {}, ou_poisson_numTrials: {}, \\n ou_poisson_data_sumStat: {}'.format(ou_poisson_data_mean, \n",
    "                                                                                                                         ou_poisson_data_var, \n",
    "                                                                                                                         ou_poisson_T, \n",
    "                                                                                                                         ou_poisson_numTrials, \n",
    "                                                                                                                         ou_poisson_data_sumStat))\n",
    "\n",
    "# Using acf func\n",
    "ou_poisson_acf = acf(ou_poisson_binned[0], nlags=num_lags)\n",
    "print('ou_poisson_acf: {}'.format(ou_poisson_acf))\n",
    "\n",
    "# calculate tau\n",
    "\n",
    "# Using abc but not bayesian\n",
    "ou_poisson_abc_popt, ou_poisson_abc_poptcov = abcTau.preprocessing.fit_oneTauExponential(ou_poisson_data_sumStat, binSize, maxTimeLag)\n",
    "print(ou_poisson_abc_popt)\n",
    "\n",
    "# Using curve_fit\n",
    "ou_poisson_popt, ou_poisson_pcov = curve_fit(func_exp_abc_like, np.linspace(0,20,21), ou_poisson_acf, maxfev=5000)\n",
    "print(ou_poisson_popt)\n",
    "\n",
    "ou_poisson_tau_ms = ou_poisson_popt[1] * binSize\n",
    "print(ou_poisson_tau_ms)"
   ]
  },
  {
   "cell_type": "code",
   "execution_count": 12,
   "id": "03cbda58-ef10-4bba-bf9c-d715dea78fdf",
   "metadata": {},
   "outputs": [
    {
     "data": {
      "image/png": "[encoded data removed]",
      "text/plain": [
       "<Figure size 700x500 with 1 Axes>"
      ]
     },
     "metadata": {},
     "output_type": "display_data"
    }
   ],
   "source": [
    "fig, axes = plt.subplots(1,1, figsize=(7,5))\n",
    "\n",
    "axes.plot(np.linspace(0,20,20), ou_poisson_data_sumStat, c='k', label='abc')\n",
    "axes.plot(np.linspace(0,20,20), ou_poisson_acf[:-1], c='orange', label='acf_statstool')\n",
    "axes.axvline(x=2, lw=0.5, color='k')\n",
    "axes.axhline(y=1/np.e, lw=0.5, color='k')\n",
    "axes.axhline(y=0, lw=0.5, color='k')\n",
    "\n",
    "axes.plot(np.linspace(0,20,21), func_exp_abc_like(np.linspace(0,20,21), ou_poisson_popt[0], ou_poisson_popt[1]))\n",
    "\n",
    "axes.legend(frameon=False)\n",
    "\n",
    "sns.despine()"
   ]
  },
  {
   "cell_type": "code",
   "execution_count": null,
   "id": "cd273e30-89d0-4512-9aa6-88436539777f",
   "metadata": {},
   "outputs": [],
   "source": [
    "spike_times"
   ]
  },
  {
   "cell_type": "code",
   "execution_count": 13,
   "id": "706cf61a-423f-4a10-833f-da5bf305bdc3",
   "metadata": {},
   "outputs": [
    {
     "name": "stdout",
     "output_type": "stream",
     "text": [
      "spikeTrain_data_mean: 2.1875, spikeTrain_data_var: 8.18234375, spikeTrain_T: 100000, spikeTrain_numTrials: 1, \n",
      " spikeTrain_data_sumStat: [ 1.          0.49239736  0.28243248  0.16185247  0.0886162   0.07667752\n",
      "  0.02351351 -0.00870613 -0.01968211 -0.04482472 -0.03298378 -0.03217217\n",
      " -0.04040398 -0.00999221 -0.0116264  -0.00663533  0.01317172  0.04112227\n",
      "  0.06847242  0.04174489]\n",
      "ou_poisson_acf: [ 1.          0.49215131  0.2821505   0.1616106   0.08844024  0.07648782\n",
      "  0.02344463 -0.00867316 -0.01960204 -0.04462376 -0.03282076 -0.03199797\n",
      " -0.04016174 -0.00992729 -0.01154496 -0.00658597  0.01306548  0.04077162\n",
      "  0.06785523  0.04134784  0.0492438 ]\n",
      "shift_ms_l [ 50 100 150 200 250 300 350 400 450 500 550 600 650 700 750 800 850 900\n",
      " 950]\n",
      "STTC : 1.0\n",
      "spike_1 (4375,), spike_2 (4375,)\n",
      "STTC : 0.5521887614884406\n",
      "spike_1 (4375,), spike_2 (4374,)\n",
      "STTC : 0.3017345963151209\n",
      "spike_1 (4375,), spike_2 (4373,)\n",
      "STTC : 0.16394379814403334\n",
      "spike_1 (4375,), spike_2 (4371,)\n",
      "STTC : 0.10409873439701135\n",
      "spike_1 (4375,), spike_2 (4370,)\n",
      "STTC : 0.06509462898869342\n",
      "spike_1 (4375,), spike_2 (4366,)\n",
      "STTC : 0.022833999639622723\n",
      "spike_1 (4375,), spike_2 (4365,)\n",
      "STTC : -0.008345653585083684\n",
      "spike_1 (4375,), spike_2 (4360,)\n",
      "STTC : -0.015822907924858517\n",
      "spike_1 (4374,), spike_2 (4354,)\n",
      "STTC : -0.018804501436620217\n",
      "spike_1 (4373,), spike_2 (4350,)\n",
      "STTC : -0.024295106585330295\n",
      "spike_1 (4366,), spike_2 (4345,)\n",
      "STTC : -0.03356442755252494\n",
      "spike_1 (4350,), spike_2 (4344,)\n",
      "STTC : -0.036266438346939246\n",
      "spike_1 (4347,), spike_2 (4344,)\n",
      "STTC : -0.020046703879854147\n",
      "spike_1 (4340,), spike_2 (4344,)\n",
      "STTC : -0.028494459456916206\n",
      "spike_1 (4335,), spike_2 (4344,)\n",
      "STTC : -0.01205194765970588\n",
      "spike_1 (4333,), spike_2 (4344,)\n",
      "STTC : 0.028894642088443296\n",
      "spike_1 (4332,), spike_2 (4344,)\n",
      "STTC : 0.04513011106296299\n",
      "spike_1 (4332,), spike_2 (4344,)\n",
      "STTC : 0.0656745029023755\n",
      "spike_1 (4332,), spike_2 (4344,)\n",
      "STTC : 0.05958409074384259\n",
      "acf_sttc: [1.0, 0.5521887614884406, 0.3017345963151209, 0.16394379814403334, 0.10409873439701135, 0.06509462898869342, 0.022833999639622723, -0.008345653585083684, -0.015822907924858517, -0.018804501436620217, -0.024295106585330295, -0.03356442755252494, -0.036266438346939246, -0.020046703879854147, -0.028494459456916206, -0.01205194765970588, 0.028894642088443296, 0.04513011106296299, 0.0656745029023755, 0.05958409074384259]\n",
      "[1. 1.]\n",
      "[0.98962855 1.56667209]\n",
      "78.33360427659365\n",
      "[1.00123378 1.75947991]\n",
      "87.97399540768235\n"
     ]
    }
   ],
   "source": [
    "# calculate ACF \n",
    "\n",
    "# Using ABC\n",
    "summStat_metric = 'comp_cc'\n",
    "ifNorm = True # if normalize the autocorrelation or PSD\n",
    "spikeTrain_data_sumStat, spikeTrain_data_mean, spikeTrain_data_var, spikeTrain_T, spikeTrain_numTrials =  abcTau.preprocessing.extract_stats(spikeTrain, \n",
    "                                                                                                                         deltaT, binSize,\n",
    "                                                                                  summStat_metric, ifNorm, maxTimeLag)\n",
    "print('spikeTrain_data_mean: {}, spikeTrain_data_var: {}, spikeTrain_T: {}, spikeTrain_numTrials: {}, \\n spikeTrain_data_sumStat: {}'.format(spikeTrain_data_mean, \n",
    "                                                                                                                         spikeTrain_data_var, \n",
    "                                                                                                                         spikeTrain_T, \n",
    "                                                                                                                         spikeTrain_numTrials, \n",
    "                                                                                                                         spikeTrain_data_sumStat))\n",
    "\n",
    "# Using acf func\n",
    "spikeTrain_acf = acf(ou_spiketrain_binned[0], nlags=num_lags)\n",
    "print('ou_poisson_acf: {}'.format(spikeTrain_acf))\n",
    "\n",
    "# Using sttc\n",
    "acf_sttc_ = acf_sttc(spike_times, num_lags, lag_shift_=binSize, sttc_dt_=25, signal_length_=T, verbose_=True)\n",
    "print('acf_sttc: {}'.format(acf_sttc_))\n",
    "\n",
    "#acf_sttc(signal_, n_lags_, lag_shift_, sttc_dt_, signal_length_, verbose_=True)\n",
    "\n",
    "# calculate tau\n",
    "\n",
    "# Using abc but not bayesian\n",
    "ou_spiketrain_abc_popt, ou_spiketrain_abc_poptcov = abcTau.preprocessing.fit_oneTauExponential(spikeTrain_data_sumStat, binSize, maxTimeLag)\n",
    "print(ou_spiketrain_abc_popt)\n",
    "\n",
    "# Using curve_fit\n",
    "ou_spiketrain_popt, _ = curve_fit(func_exp_abc_like, np.linspace(0,20,21), spikeTrain_acf, maxfev=5000)\n",
    "print(ou_spiketrain_popt)\n",
    "\n",
    "ou_spiketrain_tau_ms = ou_spiketrain_popt[1] * binSize\n",
    "print(ou_spiketrain_tau_ms)\n",
    "\n",
    "# curvefit and sttc\n",
    "ou_spiketrain1_popt, _ = curve_fit(func_exp_abc_like, np.linspace(0,20,20), acf_sttc_, maxfev=5000)\n",
    "print(ou_spiketrain1_popt)\n",
    "ou_spiketrain1_tau_ms = ou_spiketrain1_popt[1] * binSize\n",
    "print(ou_spiketrain1_tau_ms)"
   ]
  },
  {
   "cell_type": "code",
   "execution_count": 15,
   "id": "ba7699f0-446c-443a-847b-4ba7c5d395b2",
   "metadata": {},
   "outputs": [
    {
     "data": {
      "image/png": "[encoded data removed]",
      "text/plain": [
       "<Figure size 700x500 with 1 Axes>"
      ]
     },
     "metadata": {},
     "output_type": "display_data"
    }
   ],
   "source": [
    "fig, axes = plt.subplots(1,1, figsize=(7,5))\n",
    "\n",
    "axes.plot(np.linspace(0,20,20), spikeTrain_data_sumStat, c='k', label='abc')\n",
    "axes.plot(np.linspace(0,20,21), spikeTrain_acf, c='orange', label='acf_statstool')\n",
    "axes.plot(np.linspace(0,20,20), acf_sttc_, c='red', label='sttc')\n",
    "axes.axvline(x=2, lw=0.5, color='k')\n",
    "axes.axhline(y=1/np.e, lw=0.5, color='k')\n",
    "axes.axhline(y=0, lw=0.5, color='k')\n",
    "\n",
    "axes.plot(np.linspace(0,20,21), func_exp_abc_like(np.linspace(0,20,21), ou_spiketrain_popt[0], ou_spiketrain_popt[1]), label='fitted')\n",
    "\n",
    "axes.legend(frameon=False)\n",
    "\n",
    "sns.despine()"
   ]
  },
  {
   "cell_type": "markdown",
   "id": "2f393ac5-1de4-459e-8b26-65545aca8d88",
   "metadata": {},
   "source": [
    "### Schematic of data generation"
   ]
  },
  {
   "cell_type": "code",
   "execution_count": null,
   "id": "448e8f95-fd10-4306-bc77-f3d1ccc29dca",
   "metadata": {},
   "outputs": [],
   "source": [
    "# plot\n",
    "fig, axes = plt.subplots(5,1, figsize=(10,10))\n",
    "plt.subplots_adjust(hspace=0.8, wspace=0.4)\n",
    "\n",
    "axes[0].plot(np.linspace(0,numBin-1,numBin), ou[0], lw=0.5)\n",
    "axes[0].axhline(y=0, color='k', lw=0.5)\n",
    "for i in range(numBinData+1):\n",
    "    axes[0].axvline(x=50*i, color='k', lw=0.5)\n",
    "axes[0].set_title('One tau OU')\n",
    "\n",
    "axes[1].plot(np.linspace(0,numBin-1,numBin), ou_poisson[0], lw=0.5)\n",
    "axes[1].axhline(y=0, color='k', lw=0.5)\n",
    "for i in range(numBinData+1):\n",
    "    axes[1].axvline(x=50*i, color='k', lw=0.5)\n",
    "axes[1].set_title('One tau OU, scaled, shifted, rectified')\n",
    "\n",
    "axes[2].plot(np.linspace(0,numBin-1,numBin), ou_poisson_rate[0], lw=0.5)\n",
    "axes[2].axhline(y=0, color='k', lw=0.5)\n",
    "for i in range(numBinData+1):\n",
    "    axes[2].axvline(x=50*i, color='k', lw=0.5)\n",
    "axes[2].set_title('One tau OU, Poisson spike count')\n",
    "\n",
    "axes[3].plot(spike_times, np.ones_like(spike_times), '|', markersize=10, c='salmon')  # Plot spikes as a row,\n",
    "for i in range(numBinData+1):\n",
    "    axes[3].axvline(x=50*i, color='k', lw=0.5)\n",
    "axes[3].set_title('One tau OU, Poisson spike train')\n",
    "\n",
    "axes[4].plot(np.linspace(0,numBinData-1,numBinData), ou_spiketrain_binned[0], lw=0.5)\n",
    "axes[4].axhline(y=0, color='k', lw=0.5)\n",
    "axes[4].set_xticks(np.linspace(0,numBinData-1,numBinData))\n",
    "for i in range(numBinData):\n",
    "    axes[4].axvline(x=i, color='k', lw=0.5)\n",
    "axes[4].set_title('One tau OU, Poisson spike train, binned')\n",
    "\n",
    "for ax in axes.flat:\n",
    "    ax.set_xlabel('Time')\n",
    "\n",
    "sns.despine()\n",
    "\n",
    "#fig.savefig('Q:\\\\Personal\\\\Irina\\\\projects\\\\isttc\\\\results\\\\synthetic_data\\\\' + 'data_generation_schematic.png' , bbox_inches='tight')"
   ]
  }
 ],
 "metadata": {
  "kernelspec": {
   "display_name": "Python 3 (ipykernel)",
   "language": "python",
   "name": "python3"
  },
  "language_info": {
   "codemirror_mode": {
    "name": "ipython",
    "version": 3
   },
   "file_extension": ".py",
   "mimetype": "text/x-python",
   "name": "python",
   "nbconvert_exporter": "python",
   "pygments_lexer": "ipython3",
   "version": "3.11.9"
  }
 },
 "nbformat": 4,
 "nbformat_minor": 5
}
