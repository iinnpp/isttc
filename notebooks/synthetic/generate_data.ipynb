{
 "cells": [
  {
   "cell_type": "markdown",
   "id": "b8233ff1-87a2-45ea-a94a-f7974747f389",
   "metadata": {},
   "source": [
    "Here:\n",
    "- generate time series (cont OU process?)\n",
    "- plot it (continious and also binned)\n",
    "- calculate acf: using ABC tau, using py functions\n",
    "- plot acf"
   ]
  },
  {
   "cell_type": "code",
   "execution_count": 1,
   "id": "b95934c7-5172-4158-8b13-fcb057908108",
   "metadata": {},
   "outputs": [],
   "source": [
    "import matplotlib.pyplot as plt\n",
    "%matplotlib inline\n",
    "import seaborn as sns # comment this line if you don't want to use seaborn for plots\n",
    "\n",
    "import numpy as np\n",
    "# IP import warnings because of \"module 'numpy' has no attribute 'warnings'\"\n",
    "import warnings\n",
    "np.warnings = warnings\n",
    "import pandas as pd\n",
    "import statsmodels.api as sm\n",
    "from statsmodels.tsa.stattools import acf\n",
    "from scipy.optimize import curve_fit\n",
    "from scipy import stats\n",
    "\n",
    "# add the path to the abcTau package\n",
    "import sys\n",
    "#sys.path.append('./abcTau')\n",
    "sys.path.append('C:\\\\Users\\\\ipochino\\\\.conda\\\\envs\\\\isttc\\\\Lib\\\\site-packages\\\\abcTau') # IP: replaced previous line with that; relative path was not working\n",
    "import abcTau\n",
    "\n",
    "# import from scripts\n",
    "import os\n",
    "os.chdir(os.path.expanduser(\"D:\\\\intr_timescales\\\\isttc\\\\scripts\"))\n",
    "# os.chdir(os.path.expanduser(\"C:\\\\Users\\\\ipoch\\\\Documents\\\\repos\\\\isttc\\\\scripts\"))\n",
    "from calculate_acf import acf_sttc"
   ]
  },
  {
   "cell_type": "code",
   "execution_count": 2,
   "id": "cc2f3a1b-6ac0-4cfd-921c-03bb0b510aa9",
   "metadata": {},
   "outputs": [],
   "source": [
    "def func_exp_abc_like(x, a, tau):\n",
    "    return a * np.exp(-x/tau) "
   ]
  },
  {
   "cell_type": "markdown",
   "id": "048b6381-429d-4eee-9d28-89acac735d35",
   "metadata": {},
   "source": [
    "### Generate time series"
   ]
  },
  {
   "cell_type": "code",
   "execution_count": 40,
   "id": "3190e170-88bb-42b7-b142-31b711eddbd2",
   "metadata": {},
   "outputs": [
    {
     "name": "stdout",
     "output_type": "stream",
     "text": [
      "2000\n"
     ]
    }
   ],
   "source": [
    "tau = np.array([100])\n",
    "D = 1/tau\n",
    "deltaT = 1\n",
    "T = 100*1000\n",
    "numTrials = 1\n",
    "\n",
    "data_mean = 0.001 # average of firing rate\n",
    "data_var = 0.002 # variance of firing rate\n",
    "\n",
    "binSize = 50 # bins size for binning the data for calculating acf\n",
    "binsData =  np.arange(0, T + binSize, binSize)\n",
    "numBinData = len(binsData)-1\n",
    "#print(binsData)\n",
    "print(numBinData)\n",
    "\n",
    "num_lags = 20\n",
    "maxTimeLag = 1000 "
   ]
  },
  {
   "cell_type": "markdown",
   "id": "8db239fe-b5db-4599-8767-3416eb5de7e5",
   "metadata": {},
   "source": [
    "#### One tau OU"
   ]
  },
  {
   "cell_type": "code",
   "execution_count": 41,
   "id": "55ebd7ed-2655-4218-b66a-52aaca076486",
   "metadata": {},
   "outputs": [
    {
     "name": "stdout",
     "output_type": "stream",
     "text": [
      "ou.shape:  (1, 100000)\n",
      "3.653605577876805\n",
      "ou_all.shape:  (1, 100000)\n",
      "(1, 2000)\n"
     ]
    }
   ],
   "source": [
    "# OU process \n",
    "ou = abcTau.OU_gen(tau, D, deltaT, T, numTrials)\n",
    "print('ou.shape: ', ou.shape)\n",
    "\n",
    "ou_check = np.max(ou)\n",
    "print(ou_check)\n",
    "# adjust OU process - scale, shift \n",
    "ou_std = np.sqrt(data_var)\n",
    "ou_mean = data_mean\n",
    "ou_all = ou_std * ou + ou_mean # this is scale and shift, where is rectify? - no rectify here, this will come for the Poisson rate\n",
    "print('ou_all.shape: ', ou_all.shape)\n",
    "\n",
    "# bin for ACF calculation\n",
    "ou_binned_data = abcTau.binData(ou_all, [numTrials, numBinData]) * deltaT\n",
    "print(ou_binned_data.shape)"
   ]
  },
  {
   "cell_type": "markdown",
   "id": "27f9e484-271b-4b77-a5e6-7829cd0ff6e7",
   "metadata": {},
   "source": [
    "#### One tau UO with Poisson spike count"
   ]
  },
  {
   "cell_type": "code",
   "execution_count": 42,
   "id": "35a443a2-6a49-4246-9773-b7cd5afabde2",
   "metadata": {},
   "outputs": [
    {
     "name": "stdout",
     "output_type": "stream",
     "text": [
      "(1, 2000)\n"
     ]
    }
   ],
   "source": [
    "ou_std =  np.sqrt(data_var - data_mean)/deltaT # law of total variance  \n",
    "ou_mean = data_mean/deltaT # law of total expectation\n",
    "\n",
    "# fit mean and var\n",
    "ou_poisson = ou_std * ou + ou_mean\n",
    "ou_poisson[ou_poisson < 0] = 0 # rectifying\n",
    "\n",
    "# bin rate and generate spikes\n",
    "numBin = int(T/deltaT)\n",
    "ou_poisson_rate_ = abcTau.binData(ou_poisson, [numTrials,numBin]) * deltaT\n",
    "ou_poisson_rate = np.random.poisson(ou_poisson_rate_)\n",
    "\n",
    "# bin for ACF calculation\n",
    "ou_poisson_binned = abcTau.binData(ou_poisson_rate, [numTrials, numBinData]) * deltaT\n",
    "print(ou_poisson_binned.shape)"
   ]
  },
  {
   "cell_type": "markdown",
   "id": "64735aed-2046-4d73-9b50-db698b2ec851",
   "metadata": {},
   "source": [
    "#### Going from rate to spikes"
   ]
  },
  {
   "cell_type": "code",
   "execution_count": 43,
   "id": "22d84e7c-8cbd-4222-b360-1a02224128fa",
   "metadata": {},
   "outputs": [
    {
     "name": "stdout",
     "output_type": "stream",
     "text": [
      "(1, 100000)\n",
      "N spikes (1353,)\n",
      "(1, 2000)\n"
     ]
    }
   ],
   "source": [
    "spikeTrain = np.zeros(ou_poisson_rate.shape)\n",
    "print(spikeTrain.shape)\n",
    "\n",
    "for i in range(ou_poisson_rate.shape[0]):\n",
    "    spikeTrain[i,:] = [1 if ou_poisson_rate[i,j] > np.random.random() else 0 for j in range(ou_poisson_rate.shape[1])]\n",
    "\n",
    "spike_times = np.where(np.squeeze(spikeTrain) == 1)[0]\n",
    "print('N spikes {}'.format(spike_times.shape))\n",
    "\n",
    "# bin for ACF calculation\n",
    "ou_spiketrain_binned = abcTau.binData(spikeTrain, [numTrials, numBinData]) * deltaT\n",
    "print(ou_spiketrain_binned.shape)"
   ]
  },
  {
   "cell_type": "markdown",
   "id": "31400023-937a-459d-a63a-7e9b923d9527",
   "metadata": {},
   "source": [
    "### Plot signals"
   ]
  },
  {
   "cell_type": "code",
   "execution_count": null,
   "id": "232b3e26-7949-4dee-97fb-7ee4171b787d",
   "metadata": {},
   "outputs": [],
   "source": [
    "#ou = np.load('Q:\\\\Personal\\\\Irina\\\\projects\\\\isttc\\\\results\\\\synthetic_data\\\\test_data\\\\ou_tau100ms_1trials_1000ms.npy')"
   ]
  },
  {
   "cell_type": "code",
   "execution_count": null,
   "id": "8b5e2138-7a5d-4bd0-8ad3-64a18b4d8817",
   "metadata": {},
   "outputs": [],
   "source": [
    "fig, axes = plt.subplots(3,1, figsize=(20,15))\n",
    "plt.subplots_adjust(hspace=0.8, wspace=0.4)\n",
    "\n",
    "axes[0].plot(np.linspace(0,ou.shape[1]-1,ou.shape[1]), ou[0], lw=0.5)\n",
    "axes[0].axhline(y=0, color='k', lw=0.5)\n",
    "for i in range(numBinData+1):\n",
    "    axes[0].axvline(x=50*i, color='k', lw=0.5)\n",
    "axes[0].set_xlabel('Time')\n",
    "axes[0].set_title('One tau OU')\n",
    "\n",
    "axes[1].plot(np.linspace(0,ou.shape[1]-1,ou.shape[1]), ou_all[0], lw=0.5)\n",
    "axes[1].axhline(y=0, color='k', lw=0.5)\n",
    "for i in range(numBinData+1):\n",
    "    axes[1].axvline(x=50*i, color='k', lw=0.5)\n",
    "axes[1].set_xlabel('Time')\n",
    "axes[1].set_title('One tau OU, scaled and shifted')\n",
    "\n",
    "# that is supposed to be binned rate but it goes negative? is it ok?\n",
    "axes[2].plot(np.linspace(0,numBinData-1,numBinData), ou_binned_data[0], lw=0.5)\n",
    "axes[2].axhline(y=0, color='k', lw=0.5)\n",
    "axes[2].set_xticks(np.linspace(0,numBinData-1,numBinData))\n",
    "for i in range(numBinData):\n",
    "    axes[2].axvline(x=i, color='k', lw=0.5)\n",
    "axes[2].set_xlabel('Time bins')\n",
    "axes[2].set_title('One tau OU, scaled and shifted, binned')\n",
    "\n",
    "sns.despine()"
   ]
  },
  {
   "cell_type": "code",
   "execution_count": null,
   "id": "a56491df-ec64-4dd1-b3c7-47506f8dcd27",
   "metadata": {},
   "outputs": [],
   "source": [
    "fig, axes = plt.subplots(5,1, figsize=(10,10))\n",
    "plt.subplots_adjust(hspace=0.8, wspace=0.4)\n",
    "\n",
    "axes[0].plot(np.linspace(0,numBin-1,numBin), ou[0], lw=0.5)\n",
    "axes[0].axhline(y=0, color='k', lw=0.5)\n",
    "for i in range(numBinData+1):\n",
    "    axes[0].axvline(x=50*i, color='k', lw=0.5)\n",
    "axes[0].set_title('One tau OU')\n",
    "\n",
    "axes[1].plot(np.linspace(0,numBin-1,numBin), ou_poisson[0], lw=0.5)\n",
    "axes[1].axhline(y=0, color='k', lw=0.5)\n",
    "for i in range(numBinData+1):\n",
    "    axes[1].axvline(x=50*i, color='k', lw=0.5)\n",
    "axes[1].set_title('One tau OU, scaled, shifted, rectified')\n",
    "\n",
    "axes[2].plot(np.linspace(0,numBin-1,numBin), ou_poisson_rate_[0], lw=0.5)\n",
    "axes[2].axhline(y=0, color='k', lw=0.5)\n",
    "for i in range(numBinData+1):\n",
    "    axes[2].axvline(x=50*i, color='k', lw=0.5)\n",
    "axes[2].set_title('One tau OU, scaled, shifted, rectified - binned for getting spike count')\n",
    "\n",
    "axes[3].plot(np.linspace(0,numBin-1,numBin), ou_poisson_rate[0], lw=0.5)\n",
    "axes[3].axhline(y=0, color='k', lw=0.5)\n",
    "for i in range(numBinData+1):\n",
    "    axes[3].axvline(x=50*i, color='k', lw=0.5)\n",
    "axes[3].set_title('One tau OU, Poisson spike count')\n",
    "# for i in range(numBinData+1):\n",
    "#     axes[3].axvline(x=50*i, color='k', lw=0.5)\n",
    "\n",
    "# that is supposed to be binned rate but it goes negative? is it ok?\n",
    "axes[4].plot(np.linspace(0,numBinData-1,numBinData), ou_poisson_binned[0], lw=0.5)\n",
    "axes[4].axhline(y=0, color='k', lw=0.5)\n",
    "axes[4].set_xticks(np.linspace(0,numBinData-1,numBinData))\n",
    "for i in range(numBinData):\n",
    "    axes[4].axvline(x=i, color='k', lw=0.5)\n",
    "axes[4].set_title('One tau OU, Poisson spike count binned')\n",
    "\n",
    "\n",
    "for ax in axes.flat:\n",
    "    ax.set_xlabel('Time')\n",
    "\n",
    "sns.despine()"
   ]
  },
  {
   "cell_type": "code",
   "execution_count": null,
   "id": "ec00c928-8b6d-4330-a81d-abf430bb95f3",
   "metadata": {},
   "outputs": [],
   "source": [
    "fig, axes = plt.subplots(3,1, figsize=(20,15))\n",
    "plt.subplots_adjust(hspace=0.8, wspace=0.4)\n",
    "\n",
    "axes[0].plot(np.linspace(0,numBin-1,numBin), ou_poisson_rate[0], lw=0.5)\n",
    "axes[0].axhline(y=0, color='k', lw=0.5)\n",
    "for i in range(numBinData+1):\n",
    "    axes[0].axvline(x=50*i, color='k', lw=0.5)\n",
    "axes[0].set_title('One tau OU, Poisson spike count')\n",
    "\n",
    "axes[1].plot(spike_times, np.ones_like(spike_times), '|', markersize=10, c='salmon')  # Plot spikes as a row,\n",
    "for i in range(numBinData+1):\n",
    "    axes[1].axvline(x=50*i, color='k', lw=0.5)\n",
    "axes[1].set_title('One tau OU, Poisson spike train')\n",
    "\n",
    "axes[2].plot(np.linspace(0,numBinData-1,numBinData), ou_spiketrain_binned[0], lw=0.5)\n",
    "axes[2].axhline(y=0, color='k', lw=0.5)\n",
    "axes[2].set_xticks(np.linspace(0,numBinData-1,numBinData))\n",
    "for i in range(numBinData):\n",
    "    axes[2].axvline(x=i, color='k', lw=0.5)\n",
    "axes[2].set_title('One tau OU, Poisson spike train, binned')\n",
    "\n",
    "for ax in axes.flat:\n",
    "    ax.set_xlabel('Time')\n",
    "\n",
    "sns.despine()"
   ]
  },
  {
   "cell_type": "markdown",
   "id": "a73f31e3-0c1c-44e3-bbf6-79dd808ce7af",
   "metadata": {},
   "source": [
    "### Calculate ACF and taus"
   ]
  },
  {
   "cell_type": "code",
   "execution_count": 44,
   "id": "344858f2-aef9-4633-a4aa-cd76829a21a7",
   "metadata": {},
   "outputs": [
    {
     "name": "stdout",
     "output_type": "stream",
     "text": [
      "ou_all_data_mean: 0.13767326754371303, ou_all_data_var: 4.350921296359123, ou_all_T: 100000, ou_all_numTrials: 1, \n",
      " ou_all_data_sumStat: [ 1.          0.7128106   0.40841242  0.2269579   0.11452614  0.03856879\n",
      " -0.01044278 -0.05216944 -0.08761273 -0.09552449 -0.06106186 -0.02555535\n",
      " -0.01367391  0.00780248  0.03466012  0.04665964  0.03534515  0.01553448\n",
      " -0.00578638 -0.01439098]\n",
      "ou_all_acf: [ 1.          0.712454    0.40800302  0.2266159   0.11429536  0.03847071\n",
      " -0.01041259 -0.05198803 -0.08726475 -0.09509679 -0.06075887 -0.02541846\n",
      " -0.01359679  0.00774495  0.03440744  0.04629264  0.03503535  0.01536955\n",
      " -0.0057663  -0.01428206 -0.01027798]\n",
      "[1. 1.]\n",
      "[1.05219826 1.92584907]\n",
      "96.29245349362058\n"
     ]
    }
   ],
   "source": [
    "# calculate ACF \n",
    "\n",
    "# Using ABC\n",
    "summStat_metric = 'comp_cc'\n",
    "ifNorm = True # if normalize the autocorrelation or PSD\n",
    "ou_all_data_sumStat, ou_all_data_mean, ou_all_data_var, ou_all_T, ou_all_numTrials =  abcTau.preprocessing.extract_stats(ou_all, deltaT, binSize,\n",
    "                                                                                  summStat_metric, ifNorm, maxTimeLag)\n",
    "print('ou_all_data_mean: {}, ou_all_data_var: {}, ou_all_T: {}, ou_all_numTrials: {}, \\n ou_all_data_sumStat: {}'.format(ou_all_data_mean, \n",
    "                                                                                                                         ou_all_data_var, \n",
    "                                                                                                                         ou_all_T, \n",
    "                                                                                                                         ou_all_numTrials, \n",
    "                                                                                                                         ou_all_data_sumStat))\n",
    "# Using acf func\n",
    "ou_all_acf = acf(ou_binned_data[0], nlags=num_lags)\n",
    "print('ou_all_acf: {}'.format(ou_all_acf))\n",
    "\n",
    "\n",
    "# calculate tau\n",
    "\n",
    "# Using abc but not bayesian\n",
    "ou_all_abc_popt, ou_all_abc_poptcov = abcTau.preprocessing.fit_oneTauExponential(ou_all_data_sumStat, binSize, maxTimeLag)\n",
    "print(ou_all_abc_popt)\n",
    "\n",
    "# Using curve_fit\n",
    "ou_all_popt, ou_all_pcov = curve_fit(func_exp_abc_like, np.linspace(0,20,21), ou_all_acf, maxfev=5000)\n",
    "print(ou_all_popt)\n",
    "ou_all_tau_ms = ou_all_popt[1] * binSize\n",
    "print(ou_all_tau_ms)"
   ]
  },
  {
   "cell_type": "code",
   "execution_count": 45,
   "id": "460ed9b2-9488-4f31-ad9c-9f0eb50d1fcd",
   "metadata": {},
   "outputs": [
    {
     "data": {
      "image/png": "[encoded data removed]",
      "text/plain": [
       "<Figure size 700x500 with 1 Axes>"
      ]
     },
     "metadata": {},
     "output_type": "display_data"
    }
   ],
   "source": [
    "t_axis_lags = np.linspace(0, num_lags*binSize, num_lags)\n",
    "\n",
    "fig, axes = plt.subplots(1,1, figsize=(7,5))\n",
    "\n",
    "axes.plot(np.linspace(0,20,20), ou_all_data_sumStat, c='k', label='abc')\n",
    "axes.plot(np.linspace(0,20,20), ou_all_acf[:-1], c='orange', label='acf_statstool')\n",
    "axes.axvline(x=2, lw=0.5, color='k')\n",
    "axes.axhline(y=1/np.e, lw=0.5, color='k')\n",
    "\n",
    "axes.plot(np.linspace(0,20,21), func_exp_abc_like(np.linspace(0,20,21), ou_all_popt[0], ou_all_popt[1]))\n",
    "\n",
    "axes.legend(frameon=False)\n",
    "\n",
    "sns.despine()"
   ]
  },
  {
   "cell_type": "code",
   "execution_count": 46,
   "id": "2c4a8493-0add-4852-8688-81e9b9d469e8",
   "metadata": {},
   "outputs": [
    {
     "name": "stdout",
     "output_type": "stream",
     "text": [
      "ou_poisson_data_mean: 0.6875, ou_poisson_data_var: 1.45984375, ou_poisson_T: 100000, ou_poisson_numTrials: 1, \n",
      " ou_poisson_data_sumStat: [ 1.00000000e+00  3.27455705e-01  1.62678014e-01  8.98778226e-02\n",
      "  5.33610419e-03 -6.84139960e-03 -2.49779852e-02 -7.50357298e-04\n",
      " -3.49091330e-02 -2.77369441e-02 -1.07024111e-02  1.07647742e-03\n",
      "  1.18335817e-02 -1.63696651e-03  3.08596355e-02  1.87659740e-02\n",
      "  2.04710191e-02  5.10620320e-02  2.19277625e-03 -1.66424799e-02]\n",
      "ou_poisson_acf: [ 1.00000000e+00  3.27291823e-01  1.62514717e-01  8.97423205e-02\n",
      "  5.32484213e-03 -6.82462806e-03 -2.49036712e-02 -7.47886118e-04\n",
      " -3.47746976e-02 -2.76155946e-02 -1.06523601e-02  1.06630633e-03\n",
      "  1.17574655e-02 -1.63357594e-03  3.06352349e-02  1.86142031e-02\n",
      "  2.02932677e-02  5.06140961e-02  2.15937065e-03 -1.64976453e-02\n",
      "  3.48442684e-02]\n",
      "[1. 1.]\n",
      "[0.99327055 0.98949243]\n",
      "49.47462139149224\n"
     ]
    }
   ],
   "source": [
    "# calculate ACF \n",
    "\n",
    "# Using ABC\n",
    "summStat_metric = 'comp_cc'\n",
    "ifNorm = True # if normalize the autocorrelation or PSD\n",
    "ou_poisson_data_sumStat, ou_poisson_data_mean, ou_poisson_data_var, ou_poisson_T, ou_poisson_numTrials =  abcTau.preprocessing.extract_stats(ou_poisson_rate, \n",
    "                                                                                                                         deltaT, binSize,\n",
    "                                                                                  summStat_metric, ifNorm, maxTimeLag)\n",
    "print('ou_poisson_data_mean: {}, ou_poisson_data_var: {}, ou_poisson_T: {}, ou_poisson_numTrials: {}, \\n ou_poisson_data_sumStat: {}'.format(ou_poisson_data_mean, \n",
    "                                                                                                                         ou_poisson_data_var, \n",
    "                                                                                                                         ou_poisson_T, \n",
    "                                                                                                                         ou_poisson_numTrials, \n",
    "                                                                                                                         ou_poisson_data_sumStat))\n",
    "\n",
    "# Using acf func\n",
    "ou_poisson_acf = acf(ou_poisson_binned[0], nlags=num_lags)\n",
    "print('ou_poisson_acf: {}'.format(ou_poisson_acf))\n",
    "\n",
    "# calculate tau\n",
    "\n",
    "# Using abc but not bayesian\n",
    "ou_poisson_abc_popt, ou_poisson_abc_poptcov = abcTau.preprocessing.fit_oneTauExponential(ou_poisson_data_sumStat, binSize, maxTimeLag)\n",
    "print(ou_poisson_abc_popt)\n",
    "\n",
    "# Using curve_fit\n",
    "ou_poisson_popt, ou_poisson_pcov = curve_fit(func_exp_abc_like, np.linspace(0,20,21), ou_poisson_acf, maxfev=5000)\n",
    "print(ou_poisson_popt)\n",
    "\n",
    "ou_poisson_tau_ms = ou_poisson_popt[1] * binSize\n",
    "print(ou_poisson_tau_ms)"
   ]
  },
  {
   "cell_type": "code",
   "execution_count": null,
   "id": "03cbda58-ef10-4bba-bf9c-d715dea78fdf",
   "metadata": {},
   "outputs": [],
   "source": [
    "fig, axes = plt.subplots(1,1, figsize=(7,5))\n",
    "\n",
    "axes.plot(np.linspace(0,20,20), ou_poisson_data_sumStat, c='k', label='abc')\n",
    "axes.plot(np.linspace(0,20,20), ou_poisson_acf[:-1], c='orange', label='acf_statstool')\n",
    "axes.axvline(x=2, lw=0.5, color='k')\n",
    "axes.axhline(y=1/np.e, lw=0.5, color='k')\n",
    "axes.axhline(y=0, lw=0.5, color='k')\n",
    "\n",
    "axes.plot(np.linspace(0,20,21), func_exp_abc_like(np.linspace(0,20,21), ou_poisson_popt[0], ou_poisson_popt[1]))\n",
    "\n",
    "axes.legend(frameon=False)\n",
    "\n",
    "sns.despine()"
   ]
  },
  {
   "cell_type": "code",
   "execution_count": null,
   "id": "cd273e30-89d0-4512-9aa6-88436539777f",
   "metadata": {},
   "outputs": [],
   "source": [
    "spike_times"
   ]
  },
  {
   "cell_type": "code",
   "execution_count": 47,
   "id": "706cf61a-423f-4a10-833f-da5bf305bdc3",
   "metadata": {},
   "outputs": [
    {
     "name": "stdout",
     "output_type": "stream",
     "text": [
      "spikeTrain_data_mean: 0.6765, spikeTrain_data_var: 1.41184775, spikeTrain_T: 100000, spikeTrain_numTrials: 1, \n",
      " spikeTrain_data_sumStat: [ 1.00000000e+00  3.29021250e-01  1.62888646e-01  8.47788404e-02\n",
      "  8.36488391e-03 -2.44465868e-03 -2.19044697e-02  3.10988276e-04\n",
      " -3.00487180e-02 -2.26321723e-02 -6.43384458e-03 -3.04541780e-04\n",
      "  1.18878267e-02 -1.57277793e-03  2.84635059e-02  2.13066775e-02\n",
      "  2.09259945e-02  5.14905690e-02 -1.17954733e-03 -1.60035007e-02]\n",
      "ou_poisson_acf: [ 1.00000000e+00  3.28856581e-01  1.62725122e-01  8.46509630e-02\n",
      "  8.34753287e-03 -2.43891781e-03 -2.18394347e-02  3.09677247e-04\n",
      " -2.99338997e-02 -2.25338994e-02 -6.40526661e-03 -3.07283399e-04\n",
      "  1.18111790e-02 -1.56885870e-03  2.82568954e-02  2.11369166e-02\n",
      "  2.07457086e-02  5.10401747e-02 -1.18133860e-03 -1.58633935e-02\n",
      "  3.04926487e-02]\n",
      "shift_ms_l [ 50 100 150 200 250 300 350 400 450 500 550 600 650 700 750 800 850 900\n",
      " 950]\n",
      "STTC : 1.0\n",
      "spike_1 (1353,), spike_2 (1351,)\n",
      "STTC : 0.3598915140491897\n",
      "spike_1 (1353,), spike_2 (1349,)\n",
      "STTC : 0.15139487744047433\n",
      "spike_1 (1353,), spike_2 (1349,)\n",
      "STTC : 0.08088078118108202\n",
      "spike_1 (1353,), spike_2 (1349,)\n",
      "STTC : 0.02548883668437449\n",
      "spike_1 (1353,), spike_2 (1349,)\n",
      "STTC : -0.003806842372501171\n",
      "spike_1 (1353,), spike_2 (1348,)\n",
      "STTC : -0.017750926885426656\n",
      "spike_1 (1353,), spike_2 (1348,)\n",
      "STTC : -0.005837231233017774\n",
      "spike_1 (1353,), spike_2 (1342,)\n",
      "STTC : -0.03281198998886708\n",
      "spike_1 (1351,), spike_2 (1342,)\n",
      "STTC : -0.023355021547264168\n",
      "spike_1 (1351,), spike_2 (1342,)\n",
      "STTC : -0.010998988087088383\n",
      "spike_1 (1351,), spike_2 (1341,)\n",
      "STTC : 0.002195872577814448\n",
      "spike_1 (1351,), spike_2 (1340,)\n",
      "STTC : 0.015056336877955294\n",
      "spike_1 (1351,), spike_2 (1339,)\n",
      "STTC : 0.0028754478942915555\n",
      "spike_1 (1351,), spike_2 (1338,)\n",
      "STTC : 0.016673434194245048\n",
      "spike_1 (1351,), spike_2 (1336,)\n",
      "STTC : 0.041633311924415495\n",
      "spike_1 (1351,), spike_2 (1334,)\n",
      "STTC : 0.009501104397452196\n",
      "spike_1 (1351,), spike_2 (1334,)\n",
      "STTC : 0.02635691941038474\n",
      "spike_1 (1351,), spike_2 (1334,)\n",
      "STTC : -0.00811166078556886\n",
      "spike_1 (1351,), spike_2 (1334,)\n",
      "STTC : -0.01713571258472928\n",
      "acf_sttc: [1.0, 0.3598915140491897, 0.15139487744047433, 0.08088078118108202, 0.02548883668437449, -0.003806842372501171, -0.017750926885426656, -0.005837231233017774, -0.03281198998886708, -0.023355021547264168, -0.010998988087088383, 0.002195872577814448, 0.015056336877955294, 0.0028754478942915555, 0.016673434194245048, 0.041633311924415495, 0.009501104397452196, 0.02635691941038474, -0.00811166078556886, -0.01713571258472928]\n",
      "[1. 1.]\n",
      "[0.993461   0.99074512]\n",
      "49.53725587719301\n",
      "[0.99631585 1.08227911]\n",
      "54.11395571730589\n"
     ]
    }
   ],
   "source": [
    "# calculate ACF \n",
    "\n",
    "# Using ABC\n",
    "summStat_metric = 'comp_cc'\n",
    "ifNorm = True # if normalize the autocorrelation or PSD\n",
    "spikeTrain_data_sumStat, spikeTrain_data_mean, spikeTrain_data_var, spikeTrain_T, spikeTrain_numTrials =  abcTau.preprocessing.extract_stats(spikeTrain, \n",
    "                                                                                                                         deltaT, binSize,\n",
    "                                                                                  summStat_metric, ifNorm, maxTimeLag)\n",
    "print('spikeTrain_data_mean: {}, spikeTrain_data_var: {}, spikeTrain_T: {}, spikeTrain_numTrials: {}, \\n spikeTrain_data_sumStat: {}'.format(spikeTrain_data_mean, \n",
    "                                                                                                                         spikeTrain_data_var, \n",
    "                                                                                                                         spikeTrain_T, \n",
    "                                                                                                                         spikeTrain_numTrials, \n",
    "                                                                                                                         spikeTrain_data_sumStat))\n",
    "\n",
    "# Using acf func\n",
    "spikeTrain_acf = acf(ou_spiketrain_binned[0], nlags=num_lags)\n",
    "print('ou_poisson_acf: {}'.format(spikeTrain_acf))\n",
    "\n",
    "# Using sttc\n",
    "acf_sttc_ = acf_sttc(spike_times, num_lags, lag_shift_=binSize, sttc_dt_=25, signal_length_=T, verbose_=True)\n",
    "print('acf_sttc: {}'.format(acf_sttc_))\n",
    "\n",
    "#acf_sttc(signal_, n_lags_, lag_shift_, sttc_dt_, signal_length_, verbose_=True)\n",
    "\n",
    "# calculate tau\n",
    "\n",
    "# Using abc but not bayesian\n",
    "ou_spiketrain_abc_popt, ou_spiketrain_abc_poptcov = abcTau.preprocessing.fit_oneTauExponential(spikeTrain_data_sumStat, binSize, maxTimeLag)\n",
    "print(ou_spiketrain_abc_popt)\n",
    "\n",
    "# Using curve_fit\n",
    "ou_spiketrain_popt, _ = curve_fit(func_exp_abc_like, np.linspace(0,20,21), spikeTrain_acf, maxfev=5000)\n",
    "print(ou_spiketrain_popt)\n",
    "\n",
    "ou_spiketrain_tau_ms = ou_spiketrain_popt[1] * binSize\n",
    "print(ou_spiketrain_tau_ms)\n",
    "\n",
    "# curvefit and sttc\n",
    "ou_spiketrain1_popt, _ = curve_fit(func_exp_abc_like, np.linspace(0,20,20), acf_sttc_, maxfev=5000)\n",
    "print(ou_spiketrain1_popt)\n",
    "ou_spiketrain1_tau_ms = ou_spiketrain1_popt[1] * binSize\n",
    "print(ou_spiketrain1_tau_ms)"
   ]
  },
  {
   "cell_type": "code",
   "execution_count": 48,
   "id": "ba7699f0-446c-443a-847b-4ba7c5d395b2",
   "metadata": {},
   "outputs": [
    {
     "data": {
      "image/png": "[encoded data removed]",
      "text/plain": [
       "<Figure size 700x500 with 1 Axes>"
      ]
     },
     "metadata": {},
     "output_type": "display_data"
    }
   ],
   "source": [
    "fig, axes = plt.subplots(1,1, figsize=(7,5))\n",
    "\n",
    "axes.plot(np.linspace(0,20,20), spikeTrain_data_sumStat, c='k', label='abc')\n",
    "axes.plot(np.linspace(0,20,21), spikeTrain_acf, c='orange', label='acf_statstool')\n",
    "axes.plot(np.linspace(0,20,20), acf_sttc_, c='red', label='sttc')\n",
    "axes.axvline(x=2, lw=0.5, color='k')\n",
    "axes.axhline(y=1/np.e, lw=0.5, color='k')\n",
    "axes.axhline(y=0, lw=0.5, color='k')\n",
    "\n",
    "axes.plot(np.linspace(0,20,21), func_exp_abc_like(np.linspace(0,20,21), ou_spiketrain_popt[0], ou_spiketrain_popt[1]))\n",
    "\n",
    "axes.legend(frameon=False)\n",
    "\n",
    "sns.despine()"
   ]
  },
  {
   "cell_type": "markdown",
   "id": "2f393ac5-1de4-459e-8b26-65545aca8d88",
   "metadata": {},
   "source": [
    "### Schematic of data generation"
   ]
  },
  {
   "cell_type": "code",
   "execution_count": null,
   "id": "448e8f95-fd10-4306-bc77-f3d1ccc29dca",
   "metadata": {},
   "outputs": [],
   "source": [
    "# plot\n",
    "fig, axes = plt.subplots(5,1, figsize=(10,10))\n",
    "plt.subplots_adjust(hspace=0.8, wspace=0.4)\n",
    "\n",
    "axes[0].plot(np.linspace(0,numBin-1,numBin), ou[0], lw=0.5)\n",
    "axes[0].axhline(y=0, color='k', lw=0.5)\n",
    "for i in range(numBinData+1):\n",
    "    axes[0].axvline(x=50*i, color='k', lw=0.5)\n",
    "axes[0].set_title('One tau OU')\n",
    "\n",
    "axes[1].plot(np.linspace(0,numBin-1,numBin), ou_poisson[0], lw=0.5)\n",
    "axes[1].axhline(y=0, color='k', lw=0.5)\n",
    "for i in range(numBinData+1):\n",
    "    axes[1].axvline(x=50*i, color='k', lw=0.5)\n",
    "axes[1].set_title('One tau OU, scaled, shifted, rectified')\n",
    "\n",
    "axes[2].plot(np.linspace(0,numBin-1,numBin), ou_poisson_rate[0], lw=0.5)\n",
    "axes[2].axhline(y=0, color='k', lw=0.5)\n",
    "for i in range(numBinData+1):\n",
    "    axes[2].axvline(x=50*i, color='k', lw=0.5)\n",
    "axes[2].set_title('One tau OU, Poisson spike count')\n",
    "\n",
    "axes[3].plot(spike_times, np.ones_like(spike_times), '|', markersize=10, c='salmon')  # Plot spikes as a row,\n",
    "for i in range(numBinData+1):\n",
    "    axes[3].axvline(x=50*i, color='k', lw=0.5)\n",
    "axes[3].set_title('One tau OU, Poisson spike train')\n",
    "\n",
    "axes[4].plot(np.linspace(0,numBinData-1,numBinData), ou_spiketrain_binned[0], lw=0.5)\n",
    "axes[4].axhline(y=0, color='k', lw=0.5)\n",
    "axes[4].set_xticks(np.linspace(0,numBinData-1,numBinData))\n",
    "for i in range(numBinData):\n",
    "    axes[4].axvline(x=i, color='k', lw=0.5)\n",
    "axes[4].set_title('One tau OU, Poisson spike train, binned')\n",
    "\n",
    "for ax in axes.flat:\n",
    "    ax.set_xlabel('Time')\n",
    "\n",
    "sns.despine()\n",
    "\n",
    "#fig.savefig('Q:\\\\Personal\\\\Irina\\\\projects\\\\isttc\\\\results\\\\synthetic_data\\\\' + 'data_generation_schematic.png' , bbox_inches='tight')"
   ]
  }
 ],
 "metadata": {
  "kernelspec": {
   "display_name": "Python 3 (ipykernel)",
   "language": "python",
   "name": "python3"
  },
  "language_info": {
   "codemirror_mode": {
    "name": "ipython",
    "version": 3
   },
   "file_extension": ".py",
   "mimetype": "text/x-python",
   "name": "python",
   "nbconvert_exporter": "python",
   "pygments_lexer": "ipython3",
   "version": "3.12.3"
  }
 },
 "nbformat": 4,
 "nbformat_minor": 5
}
