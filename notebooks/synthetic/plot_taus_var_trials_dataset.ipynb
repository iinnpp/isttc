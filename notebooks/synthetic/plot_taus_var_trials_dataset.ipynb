{
 "cells": [
  {
   "cell_type": "code",
   "execution_count": 1,
   "id": "33aee8d9-673e-4302-b31b-e56b96b123e9",
   "metadata": {},
   "outputs": [],
   "source": [
    "import numpy as np\n",
    "import pandas as pd\n",
    "import pickle\n",
    "import random\n",
    "import joypy\n",
    "\n",
    "import os\n",
    "current_wd = os.getcwd()\n",
    "os.chdir(os.path.abspath(\"..\\\\..\\\\..\\\\isttc\\\\scripts\"))\n",
    "from cfg_global import project_folder_path\n",
    "os.chdir(current_wd)\n",
    "\n",
    "import matplotlib as mpl\n",
    "import matplotlib.pyplot as plt\n",
    "from matplotlib.colors import TwoSlopeNorm\n",
    "from matplotlib.colors import LinearSegmentedColormap\n",
    "import seaborn as sns\n",
    "\n",
    "mpl.rcParams['pdf.fonttype'] = 42\n",
    "mpl.rcParams['ps.fonttype'] = 42\n",
    "plt.rcParams['svg.fonttype'] = 'none'"
   ]
  },
  {
   "cell_type": "code",
   "execution_count": 2,
   "id": "0ca96473-a0d8-461a-be79-b2c2ef2d4662",
   "metadata": {},
   "outputs": [],
   "source": [
    "dataset_folder = project_folder_path + 'results\\\\synthetic\\\\dataset\\\\'\n",
    "results_folder = project_folder_path + 'results\\\\synthetic\\\\results\\\\fixed_params_var_trials\\\\v1\\\\'\n",
    "fig_folder = project_folder_path + 'results\\\\synthetic\\\\fig_drafts_paper\\\\'"
   ]
  },
  {
   "cell_type": "code",
   "execution_count": 50,
   "id": "a71b55e4-1624-4e7c-a604-86898fa572ce",
   "metadata": {},
   "outputs": [],
   "source": [
    "save_fig = True"
   ]
  },
  {
   "cell_type": "markdown",
   "id": "ec52b4bc-f454-41cf-b175-39758c89e077",
   "metadata": {},
   "source": [
    "### Load data"
   ]
  },
  {
   "cell_type": "code",
   "execution_count": 4,
   "id": "d81cb21a-5b2a-4723-8bb4-6c0ede168bc0",
   "metadata": {},
   "outputs": [],
   "source": [
    "with open(dataset_folder + '0_trial_var_tau100ms_alpha0_3_fr3_5hz_len600sec_1000_dict_v1.pkl', 'rb') as f:\n",
    "    dataset = pickle.load(f)\n",
    "# trial_dict = trial_dict_full['trial_dict']\n",
    "\n",
    "n_trials_all = dataset['n_trials']\n",
    "trial_lens_all = dataset['trial_lens']"
   ]
  },
  {
   "cell_type": "code",
   "execution_count": 5,
   "id": "73168ac0-59c6-4e9d-942a-fbccfc92232c",
   "metadata": {},
   "outputs": [
    {
     "name": "stdout",
     "output_type": "stream",
     "text": [
      "len pearsonr_trial_avg_dict 1000\n",
      "len sttc_trial_avg_dict 1000\n",
      "len sttc_trial_concat_dict 1000\n"
     ]
    }
   ],
   "source": [
    "with open(results_folder + 'pearsonr_trial_avg_50ms_dict.pkl', \"rb\") as f:\n",
    "    pearsonr_trial_avg_dict = pickle.load(f)\n",
    "\n",
    "with open(results_folder + 'sttc_trial_avg_50ms_dict.pkl', \"rb\") as f:\n",
    "    sttc_trial_avg_dict = pickle.load(f)\n",
    "\n",
    "with open(results_folder + 'sttc_trial_concat_50ms_dict.pkl', \"rb\") as f:\n",
    "    sttc_trial_concat_dict = pickle.load(f)\n",
    "\n",
    "print(f'len pearsonr_trial_avg_dict {len(pearsonr_trial_avg_dict)}')\n",
    "print(f'len sttc_trial_avg_dict {len(sttc_trial_avg_dict)}')\n",
    "print(f'len sttc_trial_concat_dict {len(sttc_trial_concat_dict)}')"
   ]
  },
  {
   "cell_type": "markdown",
   "id": "c9b6636c-13fc-440a-814a-e5e1fd2e3550",
   "metadata": {},
   "source": [
    "### Make summary dfs"
   ]
  },
  {
   "cell_type": "code",
   "execution_count": 6,
   "id": "155564bc-78a7-4e46-b4f2-f962e092a9ff",
   "metadata": {},
   "outputs": [
    {
     "name": "stdout",
     "output_type": "stream",
     "text": [
      "acf_cols ['acf_0', 'acf_1', 'acf_2', 'acf_3', 'acf_4', 'acf_5', 'acf_6', 'acf_7', 'acf_8', 'acf_9', 'acf_10', 'acf_11', 'acf_12', 'acf_13', 'acf_14', 'acf_15', 'acf_16', 'acf_17', 'acf_18', 'acf_19', 'acf_20']\n"
     ]
    }
   ],
   "source": [
    "n_lags = 20\n",
    "acf_cols = ['acf_' + str(i) for i in range(n_lags+1)]\n",
    "print('acf_cols {}'.format(acf_cols))"
   ]
  },
  {
   "cell_type": "code",
   "execution_count": 7,
   "id": "361933c2-29e6-489b-9b10-3c8636ba14ed",
   "metadata": {},
   "outputs": [],
   "source": [
    "def calculate_acf_decline_flag(acf_, start_idx=1, end_idx=4):\n",
    "    acf_decay = np.all(np.diff(acf_[start_idx:end_idx]) <= 0)\n",
    "    return acf_decay"
   ]
  },
  {
   "cell_type": "code",
   "execution_count": 8,
   "id": "e2b5c9df-7d35-4f5c-a618-7738cba91aa0",
   "metadata": {},
   "outputs": [],
   "source": [
    "def get_trials_plot_df(trial_dict_, method_, n_iteration_=None):\n",
    "    records = []\n",
    "    for unit_id, data in trial_dict_.items():\n",
    "        taus = data['taus']\n",
    "        acfs = data['acf']\n",
    "\n",
    "        if n_iteration_ is not None:\n",
    "            # only one trial per unit\n",
    "            idx = n_iteration_[unit_id]\n",
    "            taus_to_iter = [(taus[idx], acfs[idx])]\n",
    "        else:\n",
    "            # all trials for this unit\n",
    "            taus_to_iter = zip(taus, acfs)\n",
    "\n",
    "        for tau_dict, acf_array in taus_to_iter:\n",
    "            records.append({\n",
    "                'unit_id': unit_id,\n",
    "                'tau': tau_dict['tau'],\n",
    "                'fit_r_squared': tau_dict['fit_r_squared'],\n",
    "                'decline_150_250': calculate_acf_decline_flag(acf_array, start_idx=2, end_idx=4),\n",
    "                'method': method_,\n",
    "            })\n",
    "\n",
    "    df = pd.DataFrame.from_records(records)\n",
    "    df['tau_ms'] = df['tau'] * 50\n",
    "\n",
    "    nan_count = df.isna().any(axis=1).sum()\n",
    "    if nan_count > 0:\n",
    "        print(f'N rows with NaNs {nan_count}')\n",
    "\n",
    "    return df"
   ]
  },
  {
   "cell_type": "code",
   "execution_count": null,
   "id": "38a2a12b-bfd6-4c41-a065-50fc114c19c7",
   "metadata": {},
   "outputs": [],
   "source": [
    "gen_random_trials_ids = False\n",
    "if gen_random_trials_ids:\n",
    "    n_trials_impl = 50\n",
    "    random_trials_impl_l = []\n",
    "    for i in range(n_trials_impl):\n",
    "        random_trials_impl_l.append(random.choices(range(0, 100), k=1000))\n",
    "    \n",
    "    with open(results_folder + 'random_trials_impl_50.pkl', \"wb\") as f:\n",
    "        pickle.dump(random_trials_impl_l, f)\n",
    "else:\n",
    "    with open(results_folder + 'random_trials_impl_50.pkl', \"rb\") as f:\n",
    "        random_trials_impl_l = pickle.load(f)"
   ]
  },
  {
   "cell_type": "code",
   "execution_count": 9,
   "id": "07225f59-9f20-4fbc-908c-2dcad16444fd",
   "metadata": {},
   "outputs": [
    {
     "name": "stdout",
     "output_type": "stream",
     "text": [
      "N rows with NaNs 56\n"
     ]
    }
   ],
   "source": [
    "# for trial based measures one realization of trials is taken\n",
    "use_one_trial_impl = True\n",
    "\n",
    "if use_one_trial_impl:\n",
    "    # random_trials_impl = random_trials_impl_l[30]\n",
    "    random_trials_impl = np.zeros(len(sttc_trial_concat_dict)).astype(int)\n",
    "    \n",
    "    pearsontr_trial_avg_plot_df = get_trials_plot_df(pearsonr_trial_avg_dict, 'pearsonr_trial_avg', random_trials_impl)\n",
    "    sttc_trial_concat_plot_df = get_trials_plot_df(sttc_trial_concat_dict, 'sttc_trial_concat', random_trials_impl)\n",
    "    sttc_trial_avg_plot_df = get_trials_plot_df(sttc_trial_avg_dict, 'sttc_trial_avg', random_trials_impl)\n",
    "else:\n",
    "    pearsontr_trial_avg_plot_df = get_trials_plot_df(pearsonr_trial_avg_dict, 'pearsonr_trial_avg')\n",
    "    pearsontr_trial_avg_plot_df = pearsontr_trial_avg_plot_df.groupby(by=['unit_id', 'method'], as_index=False)[['tau_ms','fit_r_squared']].median()\n",
    "    \n",
    "    sttc_trial_concat_plot_df = get_trials_plot_df(sttc_trial_concat_dict, 'sttc_trial_concat')\n",
    "    sttc_trial_concat_plot_df = sttc_trial_concat_plot_df.groupby(by=['unit_id', 'method'], as_index=False)[['tau_ms','fit_r_squared']].median()\n",
    "    \n",
    "    sttc_trial_avg_plot_df = get_trials_plot_df(sttc_trial_avg_dict, 'sttc_trial_avg')\n",
    "    sttc_trial_avg_plot_df = sttc_trial_avg_plot_df.groupby(by=['unit_id', 'method'], as_index=False)[['tau_ms','fit_r_squared']].median()\n",
    "\n",
    "pearsontr_trial_avg_plot_df['n_trials'] = n_trials_all\n",
    "pearsontr_trial_avg_plot_df['trial_len_ms'] = trial_lens_all\n",
    "pearsontr_trial_avg_plot_df['tau_ms_true'] = 100\n",
    "pearsontr_trial_avg_plot_df['tau_diff_abs'] = np.abs(pearsontr_trial_avg_plot_df['tau_ms'] - pearsontr_trial_avg_plot_df['tau_ms_true'])\n",
    "pearsontr_trial_avg_plot_df['tau_diff_rel'] = pearsontr_trial_avg_plot_df['tau_diff_abs'] / pearsontr_trial_avg_plot_df['tau_ms_true'] * 100\n",
    "\n",
    "sttc_trial_concat_plot_df['n_trials'] = n_trials_all\n",
    "sttc_trial_concat_plot_df['trial_len_ms'] = trial_lens_all\n",
    "sttc_trial_concat_plot_df['tau_ms_true'] = 100\n",
    "sttc_trial_concat_plot_df['tau_diff_abs'] = np.abs(sttc_trial_concat_plot_df['tau_ms'] - sttc_trial_concat_plot_df['tau_ms_true'])\n",
    "sttc_trial_concat_plot_df['tau_diff_rel'] = sttc_trial_concat_plot_df['tau_diff_abs'] / sttc_trial_concat_plot_df['tau_ms_true'] * 100\n",
    "\n",
    "sttc_trial_avg_plot_df['n_trials'] = n_trials_all\n",
    "sttc_trial_avg_plot_df['trial_len_ms'] = trial_lens_all\n",
    "sttc_trial_avg_plot_df['tau_ms_true'] = 100\n",
    "sttc_trial_avg_plot_df['tau_diff_abs'] = np.abs(sttc_trial_avg_plot_df['tau_ms'] - sttc_trial_avg_plot_df['tau_ms_true'])\n",
    "sttc_trial_avg_plot_df['tau_diff_rel'] = sttc_trial_avg_plot_df['tau_diff_abs'] / sttc_trial_avg_plot_df['tau_ms_true'] * 100"
   ]
  },
  {
   "cell_type": "code",
   "execution_count": 10,
   "id": "8e64b6a9-e1e1-4c57-86bb-c642cbf17ecf",
   "metadata": {},
   "outputs": [
    {
     "name": "stdout",
     "output_type": "stream",
     "text": [
      "N rows with NaNs 56\n",
      "N rows with NaNs 0\n",
      "N rows with NaNs 0\n",
      "N rows in unit_ids_nan_union 56\n",
      "len pearsonr 944, len sttc_concat 944, len sttc_avg 944\n"
     ]
    }
   ],
   "source": [
    "# check for NaNs and for a long df remove rows with NaNs (if for a unit one method failed than remove it)\n",
    "\n",
    "rows_with_nans_pearsonr_df = pearsontr_trial_avg_plot_df[pearsontr_trial_avg_plot_df.isna().any(axis=1)]\n",
    "n_rows_with_nan_pearsonr = len(rows_with_nans_pearsonr_df)\n",
    "print(f'N rows with NaNs {n_rows_with_nan_pearsonr}')\n",
    "\n",
    "rows_with_nans_isttc_concat_df = sttc_trial_concat_plot_df[sttc_trial_concat_plot_df.isna().any(axis=1)]\n",
    "n_rows_with_nan_isttc_concat = len(rows_with_nans_isttc_concat_df)\n",
    "print(f'N rows with NaNs {n_rows_with_nan_isttc_concat}')\n",
    "\n",
    "rows_with_nans_isttc_avg_df = sttc_trial_avg_plot_df[sttc_trial_avg_plot_df.isna().any(axis=1)]\n",
    "n_rows_with_nan_isttc_avg = len(rows_with_nans_isttc_avg_df)\n",
    "print(f'N rows with NaNs {n_rows_with_nan_isttc_avg}')\n",
    "\n",
    "pearsonr_nan_unit_ids = rows_with_nans_pearsonr_df['unit_id'].values\n",
    "sttc_concat_nan_unit_ids = rows_with_nans_isttc_concat_df['unit_id'].values\n",
    "sttc_avg_nan_unit_ids = rows_with_nans_isttc_avg_df['unit_id'].values\n",
    "\n",
    "unit_ids_nan_union = set(pearsonr_nan_unit_ids).union(sttc_concat_nan_unit_ids).union(sttc_avg_nan_unit_ids)\n",
    "print(f'N rows in unit_ids_nan_union {len(unit_ids_nan_union)}')\n",
    "\n",
    "# take rows without NaNs\n",
    "pearsonr_sans_nans_plot_df = pearsontr_trial_avg_plot_df[~pearsontr_trial_avg_plot_df['unit_id'].isin(unit_ids_nan_union)]\n",
    "sttc_concat_sans_nans_plot_df = sttc_trial_concat_plot_df[~sttc_trial_concat_plot_df['unit_id'].isin(unit_ids_nan_union)]\n",
    "sttc_avg_sans_nans_plot_df = sttc_trial_avg_plot_df[~sttc_trial_avg_plot_df['unit_id'].isin(unit_ids_nan_union)]\n",
    "\n",
    "print(f'len pearsonr {len(pearsonr_sans_nans_plot_df)}, len sttc_concat {len(sttc_concat_sans_nans_plot_df)}, len sttc_avg {len(sttc_avg_sans_nans_plot_df)}')"
   ]
  },
  {
   "cell_type": "code",
   "execution_count": 11,
   "id": "44769b35-42fd-4f95-952e-50c8acc938c0",
   "metadata": {},
   "outputs": [
    {
     "name": "stdout",
     "output_type": "stream",
     "text": [
      "N rows with neg R 29\n",
      "N rows with neg R 20\n",
      "N rows with neg R 26\n",
      "N rows in unit_ids_negr_union 44, : {np.int64(515), np.int64(772), np.int64(133), np.int64(903), np.int64(524), np.int64(397), np.int64(399), np.int64(17), np.int64(658), np.int64(149), np.int64(407), np.int64(413), np.int64(40), np.int64(433), np.int64(945), np.int64(562), np.int64(566), np.int64(438), np.int64(314), np.int64(956), np.int64(574), np.int64(703), np.int64(704), np.int64(706), np.int64(838), np.int64(582), np.int64(75), np.int64(846), np.int64(977), np.int64(466), np.int64(468), np.int64(86), np.int64(990), np.int64(351), np.int64(356), np.int64(229), np.int64(485), np.int64(103), np.int64(616), np.int64(368), np.int64(886), np.int64(250), np.int64(636), np.int64(253)}\n",
      "len pearsonr 900, len sttc_concat 900, len sttc_avg 900\n"
     ]
    }
   ],
   "source": [
    "# check for negative R-square\n",
    "\n",
    "rows_with_negr_pearsonr_df = pearsonr_sans_nans_plot_df.query('fit_r_squared < 0')\n",
    "n_rows_with_negr_pearsonr = len(rows_with_negr_pearsonr_df)\n",
    "print(f'N rows with neg R {n_rows_with_negr_pearsonr}')\n",
    "\n",
    "rows_with_negr_isttc_concat_df = sttc_concat_sans_nans_plot_df.query('fit_r_squared < 0')\n",
    "n_rows_with_negr_isttc_concat = len(rows_with_negr_isttc_concat_df)\n",
    "print(f'N rows with neg R {n_rows_with_negr_isttc_concat}')\n",
    "\n",
    "rows_with_negr_isttc_avg_df = sttc_avg_sans_nans_plot_df.query('fit_r_squared < 0')\n",
    "n_rows_with_negr_isttc_avg = len(rows_with_negr_isttc_avg_df)\n",
    "print(f'N rows with neg R {n_rows_with_negr_isttc_avg}')\n",
    "\n",
    "pearsonr_negr_unit_ids = rows_with_negr_pearsonr_df['unit_id'].values\n",
    "isttc_concat_negr_unit_ids = rows_with_negr_isttc_concat_df['unit_id'].values\n",
    "isttc_avg_negr_unit_ids = rows_with_negr_isttc_avg_df['unit_id'].values\n",
    "\n",
    "unit_ids_negr_union = set(pearsonr_negr_unit_ids).union(isttc_concat_negr_unit_ids).union(isttc_avg_negr_unit_ids)\n",
    "print(f'N rows in unit_ids_negr_union {len(unit_ids_negr_union)}, : {unit_ids_negr_union}')\n",
    "\n",
    "pearsonr_sans_negr_plot_df = pearsonr_sans_nans_plot_df[~pearsonr_sans_nans_plot_df['unit_id'].isin(unit_ids_negr_union)].copy()\n",
    "sttc_concat_sans_negr_plot_df = sttc_concat_sans_nans_plot_df[~sttc_concat_sans_nans_plot_df['unit_id'].isin(unit_ids_negr_union)].copy()\n",
    "sttc_avg_sans_negr_plot_df = sttc_avg_sans_nans_plot_df[~sttc_avg_sans_nans_plot_df['unit_id'].isin(unit_ids_negr_union)].copy()\n",
    "\n",
    "pearsonr_sans_negr_plot_df['tau_diff_rel_log10'] = np.log10(pearsonr_sans_negr_plot_df['tau_diff_rel'])\n",
    "sttc_concat_sans_negr_plot_df['tau_diff_rel_log10'] = np.log10(sttc_concat_sans_negr_plot_df['tau_diff_rel'])\n",
    "sttc_avg_sans_negr_plot_df['tau_diff_rel_log10'] = np.log10(sttc_avg_sans_negr_plot_df['tau_diff_rel'])\n",
    "\n",
    "print(f'len pearsonr {len(pearsonr_sans_negr_plot_df)}, len sttc_concat {len(sttc_concat_sans_negr_plot_df)}, len sttc_avg {len(sttc_avg_sans_negr_plot_df)}')"
   ]
  },
  {
   "cell_type": "code",
   "execution_count": 12,
   "id": "9b056e18-c8ba-4a0b-b26d-7302529ef79c",
   "metadata": {},
   "outputs": [
    {
     "name": "stdout",
     "output_type": "stream",
     "text": [
      "len tau_plot_long_df 2700\n"
     ]
    },
    {
     "data": {
      "text/html": [
       "<div>\n",
       "<style scoped>\n",
       "    .dataframe tbody tr th:only-of-type {\n",
       "        vertical-align: middle;\n",
       "    }\n",
       "\n",
       "    .dataframe tbody tr th {\n",
       "        vertical-align: top;\n",
       "    }\n",
       "\n",
       "    .dataframe thead th {\n",
       "        text-align: right;\n",
       "    }\n",
       "</style>\n",
       "<table border=\"1\" class=\"dataframe\">\n",
       "  <thead>\n",
       "    <tr style=\"text-align: right;\">\n",
       "      <th></th>\n",
       "      <th>unit_id</th>\n",
       "      <th>tau</th>\n",
       "      <th>fit_r_squared</th>\n",
       "      <th>decline_150_250</th>\n",
       "      <th>method</th>\n",
       "      <th>tau_ms</th>\n",
       "      <th>n_trials</th>\n",
       "      <th>trial_len_ms</th>\n",
       "      <th>tau_ms_true</th>\n",
       "      <th>tau_diff_abs</th>\n",
       "      <th>tau_diff_rel</th>\n",
       "      <th>tau_diff_rel_log10</th>\n",
       "      <th>log_tau_ms</th>\n",
       "    </tr>\n",
       "  </thead>\n",
       "  <tbody>\n",
       "    <tr>\n",
       "      <th>0</th>\n",
       "      <td>0</td>\n",
       "      <td>56532.494471</td>\n",
       "      <td>0.065833</td>\n",
       "      <td>False</td>\n",
       "      <td>pearsonr_trial_avg</td>\n",
       "      <td>2.826625e+06</td>\n",
       "      <td>10</td>\n",
       "      <td>1000</td>\n",
       "      <td>100</td>\n",
       "      <td>2.826525e+06</td>\n",
       "      <td>2.826525e+06</td>\n",
       "      <td>6.451253</td>\n",
       "      <td>6.451268</td>\n",
       "    </tr>\n",
       "    <tr>\n",
       "      <th>1</th>\n",
       "      <td>1</td>\n",
       "      <td>1.994014</td>\n",
       "      <td>0.275586</td>\n",
       "      <td>True</td>\n",
       "      <td>pearsonr_trial_avg</td>\n",
       "      <td>9.970071e+01</td>\n",
       "      <td>80</td>\n",
       "      <td>1000</td>\n",
       "      <td>100</td>\n",
       "      <td>2.992948e-01</td>\n",
       "      <td>2.992948e-01</td>\n",
       "      <td>-0.523901</td>\n",
       "      <td>1.998698</td>\n",
       "    </tr>\n",
       "    <tr>\n",
       "      <th>2</th>\n",
       "      <td>2</td>\n",
       "      <td>2.526515</td>\n",
       "      <td>0.384218</td>\n",
       "      <td>True</td>\n",
       "      <td>pearsonr_trial_avg</td>\n",
       "      <td>1.263257e+02</td>\n",
       "      <td>70</td>\n",
       "      <td>1000</td>\n",
       "      <td>100</td>\n",
       "      <td>2.632574e+01</td>\n",
       "      <td>2.632574e+01</td>\n",
       "      <td>1.420381</td>\n",
       "      <td>2.101492</td>\n",
       "    </tr>\n",
       "  </tbody>\n",
       "</table>\n",
       "</div>"
      ],
      "text/plain": [
       "   unit_id           tau  fit_r_squared  decline_150_250              method  \\\n",
       "0        0  56532.494471       0.065833            False  pearsonr_trial_avg   \n",
       "1        1      1.994014       0.275586             True  pearsonr_trial_avg   \n",
       "2        2      2.526515       0.384218             True  pearsonr_trial_avg   \n",
       "\n",
       "         tau_ms  n_trials  trial_len_ms  tau_ms_true  tau_diff_abs  \\\n",
       "0  2.826625e+06        10          1000          100  2.826525e+06   \n",
       "1  9.970071e+01        80          1000          100  2.992948e-01   \n",
       "2  1.263257e+02        70          1000          100  2.632574e+01   \n",
       "\n",
       "   tau_diff_rel  tau_diff_rel_log10  log_tau_ms  \n",
       "0  2.826525e+06            6.451253    6.451268  \n",
       "1  2.992948e-01           -0.523901    1.998698  \n",
       "2  2.632574e+01            1.420381    2.101492  "
      ]
     },
     "execution_count": 12,
     "metadata": {},
     "output_type": "execute_result"
    }
   ],
   "source": [
    "tau_plot_long_df = pd.concat([pearsonr_sans_negr_plot_df, \n",
    "                              sttc_concat_sans_negr_plot_df, \n",
    "                              sttc_avg_sans_negr_plot_df])\n",
    "tau_plot_long_df['log_tau_ms'] = np.log10(tau_plot_long_df['tau_ms'])\n",
    "tau_plot_long_df.reset_index(inplace=True, drop=True)\n",
    "\n",
    "print(f'len tau_plot_long_df {len(tau_plot_long_df)}')\n",
    "\n",
    "tau_plot_long_df.head(3)"
   ]
  },
  {
   "cell_type": "markdown",
   "id": "a6dc0178-2a82-4c45-bd68-e45099ed8995",
   "metadata": {},
   "source": [
    "### Export for stats"
   ]
  },
  {
   "cell_type": "code",
   "execution_count": 13,
   "id": "9a26a0f6-f3ca-4084-92f9-7618bd11c485",
   "metadata": {},
   "outputs": [],
   "source": [
    "tau_plot_long_df.to_csv(results_folder + 'tau_plot_long_df.csv')"
   ]
  },
  {
   "cell_type": "markdown",
   "id": "b9a331af-7f8e-4324-92aa-6bb726c54a68",
   "metadata": {},
   "source": [
    "### Plots"
   ]
  },
  {
   "cell_type": "code",
   "execution_count": 14,
   "id": "17c5a647-a843-438c-9e53-5dd3da92fc22",
   "metadata": {},
   "outputs": [],
   "source": [
    "color_pearson_trail_avg = '#f4a91c' \n",
    "color_sttc_trail_avg =  '#a49fce' \n",
    "color_sttc_trail_concat = '#955da2' "
   ]
  },
  {
   "cell_type": "code",
   "execution_count": null,
   "id": "fd72d55a-cdce-46ea-89a5-680efd5f3b5f",
   "metadata": {},
   "outputs": [],
   "source": [
    "# tau_plot_wide_df = acf_full_plot_df.merge(isttc_full_plot_df, suffixes=('_acf', '_isttc'), \n",
    "#                                           on=['unit_id','fr', 'alpha', 'tau_ms_true', 'duration_ms', 'duration_s', 'dur_interval'], \n",
    "#                                           how='left')\n",
    "# tau_plot_wide_df.reset_index(inplace=True, drop=True)\n",
    "\n",
    "# print(f'len tau_plot_wide_df {len(tau_plot_wide_df)}')\n",
    "\n",
    "# tau_plot_wide_df.columns"
   ]
  },
  {
   "cell_type": "code",
   "execution_count": 49,
   "id": "19ff7151-b580-4a11-9757-4473305653dc",
   "metadata": {},
   "outputs": [
    {
     "data": {
      "image/png": "[encoded data removed]",
      "text/plain": [
       "<Figure size 500x300 with 1 Axes>"
      ]
     },
     "metadata": {},
     "output_type": "display_data"
    }
   ],
   "source": [
    "# just to check, I plot the same as predicted values from the model\n",
    "fig, axes = plt.subplots(1,1, figsize=(5, 3), sharey=False)\n",
    "\n",
    "sns.regplot(x='n_trials', y='tau_diff_rel_log10', data=tau_plot_long_df.query('method == \"pearsonr_trial_avg\"'),\n",
    "            scatter=None, ax=axes, \n",
    "            label='pearsonr', color=color_pearson_trail_avg)\n",
    "sns.regplot(x='n_trials', y='tau_diff_rel_log10', data=tau_plot_long_df.query('method == \"sttc_trial_concat\"'),\n",
    "            scatter=None, ax=axes, \n",
    "            label='isttc_concat', color=color_sttc_trail_concat)\n",
    "sns.regplot(x='n_trials', y='tau_diff_rel_log10', data=tau_plot_long_df.query('method == \"sttc_trial_avg\"'),\n",
    "            scatter=None, ax=axes, \n",
    "            label='isttc_avg', color=color_sttc_trail_avg)\n",
    "axes.legend(frameon=False)\n",
    "axes.set_xlabel('Number of trials')\n",
    "\n",
    "# for ax in axes.flat:\n",
    "#     ax.set_ylabel('Log10 diff(IT, \\nground truth) (ms)')\n",
    "\n",
    "sns.despine()"
   ]
  },
  {
   "cell_type": "code",
   "execution_count": 20,
   "id": "70199045-a4fc-4c49-8a86-74b2b60f5472",
   "metadata": {},
   "outputs": [
    {
     "data": {
      "text/plain": [
       "Index(['unit_id', 'tau', 'fit_r_squared', 'decline_150_250', 'method',\n",
       "       'tau_ms', 'n_trials', 'trial_len_ms', 'tau_ms_true', 'tau_diff_abs',\n",
       "       'tau_diff_rel', 'tau_diff_rel_log10', 'log_tau_ms'],\n",
       "      dtype='object')"
      ]
     },
     "execution_count": 20,
     "metadata": {},
     "output_type": "execute_result"
    }
   ],
   "source": [
    "tau_plot_long_df.columns"
   ]
  },
  {
   "cell_type": "code",
   "execution_count": 21,
   "id": "67b60d0d-3e2f-46e1-88e1-1f0d9230ba9d",
   "metadata": {},
   "outputs": [],
   "source": [
    "# intervals for error plots\n",
    "intervals = {\n",
    "    '+-100':   (0,   200),\n",
    "    '+-75':  (25,  175),\n",
    "    '+-50':  (50,  150),\n",
    "    '+-25':  (75,  125),\n",
    "}\n",
    "\n",
    "tau_3methods_df = tau_plot_long_df[['unit_id', 'method', 'n_trials', 'tau_ms_true', 'tau_ms', 'tau_diff_abs',\n",
    "       'tau_diff_rel', 'tau_diff_rel_log10', 'log_tau_ms']].copy()\n",
    "tau_3methods_df.reset_index(inplace=True, drop=True)\n",
    "\n",
    "df = tau_3methods_df.copy()\n",
    "rows = []\n",
    "for method, sub in df.groupby(by=['method','n_trials']):\n",
    "    total = len(sub)\n",
    "    row = {'method': method}\n",
    "    for name, (lo, hi) in intervals.items():\n",
    "        cnt = sub['tau_ms'].between(lo, hi).sum()\n",
    "        row[name] = cnt/total*100\n",
    "    rows.append(row)\n",
    "tau_3methods_error_df = pd.DataFrame(rows).set_index('method')\n",
    "\n",
    "# make long df\n",
    "tau_3methods_error_df = tau_3methods_error_df.reset_index()\n",
    "tau_3methods_error_long_df = tau_3methods_error_df.melt(\n",
    "    id_vars='method',\n",
    "    var_name='interval',\n",
    "    value_name='percentage'\n",
    ")\n",
    "\n",
    "tau_3methods_error_long_df[['method','n_trials']] = pd.DataFrame(\n",
    "    tau_3methods_error_long_df['method'].tolist(),\n",
    "    index=tau_3methods_error_long_df.index\n",
    ")\n",
    "tau_3methods_error_long_df = tau_3methods_error_long_df.rename(columns={'interval':'error_interval'})\n",
    "tau_3methods_error_long_df = tau_3methods_error_long_df[['method','n_trials','error_interval','percentage']]"
   ]
  },
  {
   "cell_type": "code",
   "execution_count": 22,
   "id": "34390101-34ff-4ec5-906c-717b118d4c06",
   "metadata": {},
   "outputs": [
    {
     "data": {
      "text/html": [
       "<div>\n",
       "<style scoped>\n",
       "    .dataframe tbody tr th:only-of-type {\n",
       "        vertical-align: middle;\n",
       "    }\n",
       "\n",
       "    .dataframe tbody tr th {\n",
       "        vertical-align: top;\n",
       "    }\n",
       "\n",
       "    .dataframe thead th {\n",
       "        text-align: right;\n",
       "    }\n",
       "</style>\n",
       "<table border=\"1\" class=\"dataframe\">\n",
       "  <thead>\n",
       "    <tr style=\"text-align: right;\">\n",
       "      <th></th>\n",
       "      <th>method</th>\n",
       "      <th>n_trials</th>\n",
       "      <th>error_interval</th>\n",
       "      <th>percentage</th>\n",
       "    </tr>\n",
       "  </thead>\n",
       "  <tbody>\n",
       "    <tr>\n",
       "      <th>0</th>\n",
       "      <td>pearsonr_trial_avg</td>\n",
       "      <td>10</td>\n",
       "      <td>+-100</td>\n",
       "      <td>45.652174</td>\n",
       "    </tr>\n",
       "    <tr>\n",
       "      <th>1</th>\n",
       "      <td>pearsonr_trial_avg</td>\n",
       "      <td>20</td>\n",
       "      <td>+-100</td>\n",
       "      <td>64.705882</td>\n",
       "    </tr>\n",
       "    <tr>\n",
       "      <th>2</th>\n",
       "      <td>pearsonr_trial_avg</td>\n",
       "      <td>30</td>\n",
       "      <td>+-100</td>\n",
       "      <td>75.641026</td>\n",
       "    </tr>\n",
       "    <tr>\n",
       "      <th>3</th>\n",
       "      <td>pearsonr_trial_avg</td>\n",
       "      <td>40</td>\n",
       "      <td>+-100</td>\n",
       "      <td>69.863014</td>\n",
       "    </tr>\n",
       "    <tr>\n",
       "      <th>4</th>\n",
       "      <td>pearsonr_trial_avg</td>\n",
       "      <td>50</td>\n",
       "      <td>+-100</td>\n",
       "      <td>70.535714</td>\n",
       "    </tr>\n",
       "    <tr>\n",
       "      <th>...</th>\n",
       "      <td>...</td>\n",
       "      <td>...</td>\n",
       "      <td>...</td>\n",
       "      <td>...</td>\n",
       "    </tr>\n",
       "    <tr>\n",
       "      <th>115</th>\n",
       "      <td>sttc_trial_concat</td>\n",
       "      <td>60</td>\n",
       "      <td>+-25</td>\n",
       "      <td>26.213592</td>\n",
       "    </tr>\n",
       "    <tr>\n",
       "      <th>116</th>\n",
       "      <td>sttc_trial_concat</td>\n",
       "      <td>70</td>\n",
       "      <td>+-25</td>\n",
       "      <td>25.000000</td>\n",
       "    </tr>\n",
       "    <tr>\n",
       "      <th>117</th>\n",
       "      <td>sttc_trial_concat</td>\n",
       "      <td>80</td>\n",
       "      <td>+-25</td>\n",
       "      <td>26.851852</td>\n",
       "    </tr>\n",
       "    <tr>\n",
       "      <th>118</th>\n",
       "      <td>sttc_trial_concat</td>\n",
       "      <td>90</td>\n",
       "      <td>+-25</td>\n",
       "      <td>33.695652</td>\n",
       "    </tr>\n",
       "    <tr>\n",
       "      <th>119</th>\n",
       "      <td>sttc_trial_concat</td>\n",
       "      <td>100</td>\n",
       "      <td>+-25</td>\n",
       "      <td>28.155340</td>\n",
       "    </tr>\n",
       "  </tbody>\n",
       "</table>\n",
       "<p>120 rows × 4 columns</p>\n",
       "</div>"
      ],
      "text/plain": [
       "                 method  n_trials error_interval  percentage\n",
       "0    pearsonr_trial_avg        10          +-100   45.652174\n",
       "1    pearsonr_trial_avg        20          +-100   64.705882\n",
       "2    pearsonr_trial_avg        30          +-100   75.641026\n",
       "3    pearsonr_trial_avg        40          +-100   69.863014\n",
       "4    pearsonr_trial_avg        50          +-100   70.535714\n",
       "..                  ...       ...            ...         ...\n",
       "115   sttc_trial_concat        60           +-25   26.213592\n",
       "116   sttc_trial_concat        70           +-25   25.000000\n",
       "117   sttc_trial_concat        80           +-25   26.851852\n",
       "118   sttc_trial_concat        90           +-25   33.695652\n",
       "119   sttc_trial_concat       100           +-25   28.155340\n",
       "\n",
       "[120 rows x 4 columns]"
      ]
     },
     "execution_count": 22,
     "metadata": {},
     "output_type": "execute_result"
    }
   ],
   "source": [
    "tau_3methods_error_long_df"
   ]
  },
  {
   "cell_type": "code",
   "execution_count": 33,
   "id": "3ce7782c-e50f-4086-a073-9d120786634a",
   "metadata": {},
   "outputs": [],
   "source": [
    "# prep for heatmaps\n",
    "# ACF\n",
    "pearsonr_trial_avg = tau_3methods_error_long_df[\n",
    "    tau_3methods_error_long_df['method']=='pearsonr_trial_avg'\n",
    "]\n",
    "pearsonr_trial_avg_pivot = pearsonr_trial_avg.pivot(\n",
    "    index='n_trials',\n",
    "    columns='error_interval',\n",
    "    values='percentage'\n",
    ")\n",
    "\n",
    "# ISTTC\n",
    "sttc_trial_concat = tau_3methods_error_long_df[\n",
    "    tau_3methods_error_long_df['method']=='sttc_trial_concat'\n",
    "]\n",
    "sttc_trial_concat_pivot = sttc_trial_concat.pivot(\n",
    "    index='n_trials',\n",
    "    columns='error_interval',\n",
    "    values='percentage'\n",
    ")\n",
    "\n",
    "# ISTTC\n",
    "sttc_trial_avg = tau_3methods_error_long_df[\n",
    "    tau_3methods_error_long_df['method']=='sttc_trial_avg'\n",
    "]\n",
    "sttc_trial_avg_pivot = sttc_trial_avg.pivot(\n",
    "    index='n_trials',\n",
    "    columns='error_interval',\n",
    "    values='percentage'\n",
    ")\n",
    "\n",
    "diff_pivot_pearsonr_concat = pearsonr_trial_avg_pivot - sttc_trial_concat_pivot \n",
    "diff_pivot_pearsonr_avg = pearsonr_trial_avg_pivot - sttc_trial_avg_pivot"
   ]
  },
  {
   "cell_type": "code",
   "execution_count": 51,
   "id": "aba4d0f6-8bc6-4858-b1f9-f86aa205b938",
   "metadata": {},
   "outputs": [
    {
     "data": {
      "image/png": "[encoded data removed]",
      "text/plain": [
       "<Figure size 1400x300 with 6 Axes>"
      ]
     },
     "metadata": {},
     "output_type": "display_data"
    }
   ],
   "source": [
    "col_order = ['+-100', '+-75', '+-50', '+-25']\n",
    "\n",
    "row_order = sorted(pearsonr_trial_avg_pivot.index, reverse=True)\n",
    "\n",
    "pearsonr_trial_avg_ordered  = pearsonr_trial_avg_pivot.reindex(index=row_order, columns=col_order)\n",
    "sttc_trial_concat_ordered  = sttc_trial_concat_pivot.reindex(index=row_order, columns=col_order)\n",
    "diff_pivot_pearsonr_concat_pivot_ordered  = diff_pivot_pearsonr_concat.reindex(index=row_order, columns=col_order)\n",
    "\n",
    "# plot ACF heatmap\n",
    "fig, axes = plt.subplots(1, 3, figsize=(14, 3), sharey=True)\n",
    "plt.subplots_adjust(hspace=0.4, wspace=0.4)\n",
    "\n",
    "diff_limit = np.max([np.abs(diff_pivot_pearsonr_concat_pivot_ordered.min().min()), \n",
    "                     np.abs(diff_pivot_pearsonr_concat_pivot_ordered.max().max())])\n",
    "\n",
    "norm = TwoSlopeNorm(vcenter=0, vmin=-diff_limit, vmax=diff_limit)\n",
    "#norm = TwoSlopeNorm(vcenter=0)\n",
    "\n",
    "sns.heatmap(\n",
    "    pearsonr_trial_avg_ordered,\n",
    "    cmap=\"magma\", vmin=0, vmax=100,\n",
    "    cbar_kws={'label': 'Percentage'}, \n",
    "    ax=axes[0]\n",
    ")\n",
    "axes[0].set_title(\"Pearsonr avg: % signals\")\n",
    "\n",
    "sns.heatmap(\n",
    "    sttc_trial_concat_ordered,\n",
    "    cmap=\"magma\", vmin=0, vmax=100,\n",
    "    cbar_kws={'label': 'Percentage'}, \n",
    "    ax=axes[1]\n",
    ")\n",
    "axes[1].set_title('STTC concat: % signals')\n",
    "\n",
    "sns.heatmap(\n",
    "    diff_pivot_pearsonr_concat_pivot_ordered,\n",
    "    cmap=\"RdBu_r\", \n",
    "    norm=norm,\n",
    "    cbar_kws={'label': 'Percentage'}, \n",
    "    ax=axes[2]\n",
    ")\n",
    "axes[2].set_title('Pearsonr avg - STTC concat diff')\n",
    "\n",
    "for ax in axes.flat:\n",
    "    ax.set_xlabel('Error (ms)')\n",
    "    ax.set_ylabel('N trials')\n",
    "    \n",
    "if save_fig:\n",
    "    plt.savefig(fig_folder + 'taus_dataset_n_trial_var_p_vs_concat_heatmaps.png' , bbox_inches='tight', dpi=300)\n",
    "    plt.savefig(fig_folder + 'taus_dataset_n_trial_var_p_vs_concat_heatmaps.svg' , bbox_inches='tight')"
   ]
  },
  {
   "cell_type": "code",
   "execution_count": 52,
   "id": "6a89dbf7-3735-4876-ba7f-7f898f605dd6",
   "metadata": {},
   "outputs": [
    {
     "data": {
      "image/png": "[encoded data removed]",
      "text/plain": [
       "<Figure size 1400x300 with 6 Axes>"
      ]
     },
     "metadata": {},
     "output_type": "display_data"
    }
   ],
   "source": [
    "col_order = ['+-100', '+-75', '+-50', '+-25']\n",
    "\n",
    "row_order = sorted(pearsonr_trial_avg_pivot.index, reverse=True)\n",
    "\n",
    "pearsonr_trial_avg_ordered  = pearsonr_trial_avg_pivot.reindex(index=row_order, columns=col_order)\n",
    "sttc_trial_avg_ordered  = sttc_trial_avg_pivot.reindex(index=row_order, columns=col_order)\n",
    "diff_pivot_pearsonr_avg_pivot_ordered  = diff_pivot_pearsonr_avg.reindex(index=row_order, columns=col_order)\n",
    "\n",
    "# plot ACF heatmap\n",
    "fig, axes = plt.subplots(1, 3, figsize=(14, 3), sharey=True)\n",
    "plt.subplots_adjust(hspace=0.4, wspace=0.4)\n",
    "\n",
    "diff_limit = np.max([np.abs(diff_pivot_pearsonr_avg_pivot_ordered.min().min()), \n",
    "                     np.abs(diff_pivot_pearsonr_avg_pivot_ordered.max().max())])\n",
    "\n",
    "norm = TwoSlopeNorm(vcenter=0, vmin=-diff_limit, vmax=diff_limit)\n",
    "#norm = TwoSlopeNorm(vcenter=0)\n",
    "\n",
    "sns.heatmap(\n",
    "    pearsonr_trial_avg_ordered,\n",
    "    cmap=\"magma\", vmin=0, vmax=100,\n",
    "    cbar_kws={'label': 'Percentage'}, \n",
    "    ax=axes[0]\n",
    ")\n",
    "axes[0].set_title(\"Pearsonr avg: % signals\")\n",
    "\n",
    "sns.heatmap(\n",
    "    sttc_trial_avg_ordered,\n",
    "    cmap=\"magma\", vmin=0, vmax=100,\n",
    "    cbar_kws={'label': 'Percentage'}, \n",
    "    ax=axes[1]\n",
    ")\n",
    "axes[1].set_title('STTC avg: % signals')\n",
    "\n",
    "sns.heatmap(\n",
    "    diff_pivot_pearsonr_avg_pivot_ordered,\n",
    "    cmap=\"RdBu_r\", \n",
    "    norm=norm,\n",
    "    cbar_kws={'label': 'Percentage'}, \n",
    "    ax=axes[2]\n",
    ")\n",
    "axes[2].set_title('Pearsonr avg - STTC avg diff')\n",
    "\n",
    "for ax in axes.flat:\n",
    "    ax.set_xlabel('Error (ms)')\n",
    "    ax.set_ylabel('N trials')\n",
    "    \n",
    "if save_fig:\n",
    "    plt.savefig(fig_folder + 'taus_dataset_n_trial_var_p_vs_avg_heatmaps.png' , bbox_inches='tight', dpi=300)\n",
    "    plt.savefig(fig_folder + 'taus_dataset_n_trial_var_p_vs_avg_heatmaps.svg' , bbox_inches='tight')"
   ]
  }
 ],
 "metadata": {
  "kernelspec": {
   "display_name": "Python 3 (ipykernel)",
   "language": "python",
   "name": "python3"
  },
  "language_info": {
   "codemirror_mode": {
    "name": "ipython",
    "version": 3
   },
   "file_extension": ".py",
   "mimetype": "text/x-python",
   "name": "python",
   "nbconvert_exporter": "python",
   "pygments_lexer": "ipython3",
   "version": "3.12.9"
  }
 },
 "nbformat": 4,
 "nbformat_minor": 5
}
