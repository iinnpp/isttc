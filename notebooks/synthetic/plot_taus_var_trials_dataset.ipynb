{
 "cells": [
  {
   "cell_type": "code",
   "execution_count": 11,
   "id": "33aee8d9-673e-4302-b31b-e56b96b123e9",
   "metadata": {},
   "outputs": [],
   "source": [
    "import numpy as np\n",
    "import pandas as pd\n",
    "import pickle\n",
    "import random\n",
    "import joypy\n",
    "\n",
    "import os\n",
    "current_wd = os.getcwd()\n",
    "os.chdir(os.path.abspath(\"..\\\\..\\\\..\\\\isttc\\\\scripts\"))\n",
    "from cfg_global import project_folder_path\n",
    "os.chdir(current_wd)\n",
    "\n",
    "import matplotlib as mpl\n",
    "import matplotlib.pyplot as plt\n",
    "from matplotlib.colors import TwoSlopeNorm\n",
    "from matplotlib.colors import LinearSegmentedColormap\n",
    "import seaborn as sns\n",
    "\n",
    "mpl.rcParams['pdf.fonttype'] = 42\n",
    "mpl.rcParams['ps.fonttype'] = 42\n",
    "plt.rcParams['svg.fonttype'] = 'none'"
   ]
  },
  {
   "cell_type": "code",
   "execution_count": 14,
   "id": "0ca96473-a0d8-461a-be79-b2c2ef2d4662",
   "metadata": {},
   "outputs": [],
   "source": [
    "dataset_folder = project_folder_path + 'results\\\\synthetic\\\\dataset\\\\'\n",
    "# results_folder = project_folder_path + 'results\\\\synthetic\\\\results\\\\fixed_params_var_trials\\\\'\n",
    "results_folder = 'Q:\\\\Personal\\\\Irina\\\\projects\\\\isttc\\\\temp\\\\'\n",
    "fig_folder = project_folder_path + 'results\\\\synthetic\\\\fig_drafts_paper\\\\'"
   ]
  },
  {
   "cell_type": "code",
   "execution_count": 13,
   "id": "a71b55e4-1624-4e7c-a604-86898fa572ce",
   "metadata": {},
   "outputs": [],
   "source": [
    "save_fig = False"
   ]
  },
  {
   "cell_type": "markdown",
   "id": "ec52b4bc-f454-41cf-b175-39758c89e077",
   "metadata": {},
   "source": [
    "### Load data"
   ]
  },
  {
   "cell_type": "code",
   "execution_count": 4,
   "id": "d81cb21a-5b2a-4723-8bb4-6c0ede168bc0",
   "metadata": {},
   "outputs": [],
   "source": [
    "with open(dataset_folder + '0_trial_var_tau100ms_alpha0_3_fr3_5hz_len600sec_1000_dict_v2.pkl', 'rb') as f:\n",
    "    dataset = pickle.load(f)\n",
    "# trial_dict = trial_dict_full['trial_dict']\n",
    "\n",
    "n_trials_all = dataset['n_trials']\n",
    "trial_lens_all = dataset['trial_lens']"
   ]
  },
  {
   "cell_type": "code",
   "execution_count": 15,
   "id": "73168ac0-59c6-4e9d-942a-fbccfc92232c",
   "metadata": {},
   "outputs": [
    {
     "name": "stdout",
     "output_type": "stream",
     "text": [
      "len pearsonr_trial_avg_dict 1000\n",
      "len sttc_trial_concat_dict 1000\n"
     ]
    }
   ],
   "source": [
    "with open(results_folder + 'pearsonr_trial_avg_50ms_dict.pkl', \"rb\") as f:\n",
    "    pearsonr_trial_avg_dict = pickle.load(f)\n",
    "\n",
    "# with open(results_folder + 'sttc_trial_avg_50ms_dict.pkl', \"rb\") as f:\n",
    "#     sttc_trial_avg_dict = pickle.load(f)\n",
    "\n",
    "with open(results_folder + 'sttc_trial_concat_50ms_dict.pkl', \"rb\") as f:\n",
    "    sttc_trial_concat_dict = pickle.load(f)\n",
    "\n",
    "print(f'len pearsonr_trial_avg_dict {len(pearsonr_trial_avg_dict)}')\n",
    "# print(f'len sttc_trial_avg_dict {len(sttc_trial_avg_dict)}')\n",
    "print(f'len sttc_trial_concat_dict {len(sttc_trial_concat_dict)}')"
   ]
  },
  {
   "cell_type": "markdown",
   "id": "c9b6636c-13fc-440a-814a-e5e1fd2e3550",
   "metadata": {},
   "source": [
    "### Make summary dfs"
   ]
  },
  {
   "cell_type": "code",
   "execution_count": 16,
   "id": "155564bc-78a7-4e46-b4f2-f962e092a9ff",
   "metadata": {},
   "outputs": [
    {
     "name": "stdout",
     "output_type": "stream",
     "text": [
      "acf_cols ['acf_0', 'acf_1', 'acf_2', 'acf_3', 'acf_4', 'acf_5', 'acf_6', 'acf_7', 'acf_8', 'acf_9', 'acf_10', 'acf_11', 'acf_12', 'acf_13', 'acf_14', 'acf_15', 'acf_16', 'acf_17', 'acf_18', 'acf_19', 'acf_20']\n"
     ]
    }
   ],
   "source": [
    "n_lags = 20\n",
    "acf_cols = ['acf_' + str(i) for i in range(n_lags+1)]\n",
    "print('acf_cols {}'.format(acf_cols))"
   ]
  },
  {
   "cell_type": "code",
   "execution_count": 17,
   "id": "361933c2-29e6-489b-9b10-3c8636ba14ed",
   "metadata": {},
   "outputs": [],
   "source": [
    "def calculate_acf_decline_flag(acf_, start_idx=1, end_idx=4):\n",
    "    acf_decay = np.all(np.diff(acf_[start_idx:end_idx]) <= 0)\n",
    "    return acf_decay"
   ]
  },
  {
   "cell_type": "code",
   "execution_count": 18,
   "id": "e2b5c9df-7d35-4f5c-a618-7738cba91aa0",
   "metadata": {},
   "outputs": [],
   "source": [
    "def get_trials_plot_df(trial_dict_, method_, n_iteration_=None):\n",
    "    records = []\n",
    "    for unit_id, data in trial_dict_.items():\n",
    "        taus = data['taus']\n",
    "        acfs = data['acf']\n",
    "\n",
    "        if n_iteration_ is not None:\n",
    "            # only one trial per unit\n",
    "            idx = n_iteration_[unit_id]\n",
    "            taus_to_iter = [(taus[idx], acfs[idx])]\n",
    "        else:\n",
    "            # all trials for this unit\n",
    "            taus_to_iter = zip(taus, acfs)\n",
    "\n",
    "        for tau_dict, acf_array in taus_to_iter:\n",
    "            records.append({\n",
    "                'unit_id': unit_id,\n",
    "                'tau': tau_dict['tau'],\n",
    "                'fit_r_squared': tau_dict['fit_r_squared'],\n",
    "                'decline_150_250': calculate_acf_decline_flag(acf_array, start_idx=2, end_idx=4),\n",
    "                'method': method_,\n",
    "            })\n",
    "\n",
    "    df = pd.DataFrame.from_records(records)\n",
    "    df['tau_ms'] = df['tau'] * 50\n",
    "\n",
    "    nan_count = df.isna().any(axis=1).sum()\n",
    "    if nan_count > 0:\n",
    "        print(f'N rows with NaNs {nan_count}')\n",
    "\n",
    "    return df"
   ]
  },
  {
   "cell_type": "code",
   "execution_count": 19,
   "id": "38a2a12b-bfd6-4c41-a065-50fc114c19c7",
   "metadata": {},
   "outputs": [
    {
     "ename": "FileNotFoundError",
     "evalue": "[Errno 2] No such file or directory: 'Q:\\\\Personal\\\\Irina\\\\projects\\\\isttc\\\\temp\\\\random_trials_impl_50.pkl'",
     "output_type": "error",
     "traceback": [
      "\u001b[1;31m---------------------------------------------------------------------------\u001b[0m",
      "\u001b[1;31mFileNotFoundError\u001b[0m                         Traceback (most recent call last)",
      "Cell \u001b[1;32mIn[19], line 11\u001b[0m\n\u001b[0;32m      9\u001b[0m         pickle\u001b[38;5;241m.\u001b[39mdump(random_trials_impl_l, f)\n\u001b[0;32m     10\u001b[0m \u001b[38;5;28;01melse\u001b[39;00m:\n\u001b[1;32m---> 11\u001b[0m     \u001b[38;5;28;01mwith\u001b[39;00m \u001b[38;5;28mopen\u001b[39m(results_folder \u001b[38;5;241m+\u001b[39m \u001b[38;5;124m'\u001b[39m\u001b[38;5;124mrandom_trials_impl_50.pkl\u001b[39m\u001b[38;5;124m'\u001b[39m, \u001b[38;5;124m\"\u001b[39m\u001b[38;5;124mrb\u001b[39m\u001b[38;5;124m\"\u001b[39m) \u001b[38;5;28;01mas\u001b[39;00m f:\n\u001b[0;32m     12\u001b[0m         random_trials_impl_l \u001b[38;5;241m=\u001b[39m pickle\u001b[38;5;241m.\u001b[39mload(f)\n",
      "File \u001b[1;32m~\\AppData\\Local\\anaconda3\\envs\\isttc\\Lib\\site-packages\\IPython\\core\\interactiveshell.py:324\u001b[0m, in \u001b[0;36m_modified_open\u001b[1;34m(file, *args, **kwargs)\u001b[0m\n\u001b[0;32m    317\u001b[0m \u001b[38;5;28;01mif\u001b[39;00m file \u001b[38;5;129;01min\u001b[39;00m {\u001b[38;5;241m0\u001b[39m, \u001b[38;5;241m1\u001b[39m, \u001b[38;5;241m2\u001b[39m}:\n\u001b[0;32m    318\u001b[0m     \u001b[38;5;28;01mraise\u001b[39;00m \u001b[38;5;167;01mValueError\u001b[39;00m(\n\u001b[0;32m    319\u001b[0m         \u001b[38;5;124mf\u001b[39m\u001b[38;5;124m\"\u001b[39m\u001b[38;5;124mIPython won\u001b[39m\u001b[38;5;124m'\u001b[39m\u001b[38;5;124mt let you open fd=\u001b[39m\u001b[38;5;132;01m{\u001b[39;00mfile\u001b[38;5;132;01m}\u001b[39;00m\u001b[38;5;124m by default \u001b[39m\u001b[38;5;124m\"\u001b[39m\n\u001b[0;32m    320\u001b[0m         \u001b[38;5;124m\"\u001b[39m\u001b[38;5;124mas it is likely to crash IPython. If you know what you are doing, \u001b[39m\u001b[38;5;124m\"\u001b[39m\n\u001b[0;32m    321\u001b[0m         \u001b[38;5;124m\"\u001b[39m\u001b[38;5;124myou can use builtins\u001b[39m\u001b[38;5;124m'\u001b[39m\u001b[38;5;124m open.\u001b[39m\u001b[38;5;124m\"\u001b[39m\n\u001b[0;32m    322\u001b[0m     )\n\u001b[1;32m--> 324\u001b[0m \u001b[38;5;28;01mreturn\u001b[39;00m io_open(file, \u001b[38;5;241m*\u001b[39margs, \u001b[38;5;241m*\u001b[39m\u001b[38;5;241m*\u001b[39mkwargs)\n",
      "\u001b[1;31mFileNotFoundError\u001b[0m: [Errno 2] No such file or directory: 'Q:\\\\Personal\\\\Irina\\\\projects\\\\isttc\\\\temp\\\\random_trials_impl_50.pkl'"
     ]
    }
   ],
   "source": [
    "gen_random_trials_ids = False\n",
    "if gen_random_trials_ids:\n",
    "    n_trials_impl = 50\n",
    "    random_trials_impl_l = []\n",
    "    for i in range(n_trials_impl):\n",
    "        random_trials_impl_l.append(random.choices(range(0, 100), k=1000))\n",
    "    \n",
    "    with open(results_folder + 'random_trials_impl_50.pkl', \"wb\") as f:\n",
    "        pickle.dump(random_trials_impl_l, f)\n",
    "else:\n",
    "    with open(results_folder + 'random_trials_impl_50.pkl', \"rb\") as f:\n",
    "        random_trials_impl_l = pickle.load(f)"
   ]
  },
  {
   "cell_type": "code",
   "execution_count": 21,
   "id": "07225f59-9f20-4fbc-908c-2dcad16444fd",
   "metadata": {},
   "outputs": [
    {
     "name": "stdout",
     "output_type": "stream",
     "text": [
      "N rows with NaNs 51\n"
     ]
    }
   ],
   "source": [
    "# for trial based measures one realization of trials is taken\n",
    "use_one_trial_impl = True\n",
    "\n",
    "if use_one_trial_impl:\n",
    "    # random_trials_impl = random_trials_impl_l[30]\n",
    "    random_trials_impl = np.zeros(len(sttc_trial_concat_dict)).astype(int)\n",
    "    \n",
    "    pearsontr_trial_avg_plot_df = get_trials_plot_df(pearsonr_trial_avg_dict, 'pearsonr_trial_avg', random_trials_impl)\n",
    "    sttc_trial_concat_plot_df = get_trials_plot_df(sttc_trial_concat_dict, 'sttc_trial_concat', random_trials_impl)\n",
    "    # sttc_trial_avg_plot_df = get_trials_plot_df(sttc_trial_avg_dict, 'sttc_trial_avg', random_trials_impl)\n",
    "else:\n",
    "    pearsontr_trial_avg_plot_df = get_trials_plot_df(pearsonr_trial_avg_dict, 'pearsonr_trial_avg')\n",
    "    pearsontr_trial_avg_plot_df = pearsontr_trial_avg_plot_df.groupby(by=['unit_id', 'method'], as_index=False)[['tau_ms','fit_r_squared']].median()\n",
    "    \n",
    "    sttc_trial_concat_plot_df = get_trials_plot_df(sttc_trial_concat_dict, 'sttc_trial_concat')\n",
    "    sttc_trial_concat_plot_df = sttc_trial_concat_plot_df.groupby(by=['unit_id', 'method'], as_index=False)[['tau_ms','fit_r_squared']].median()\n",
    "    \n",
    "    # sttc_trial_avg_plot_df = get_trials_plot_df(sttc_trial_avg_dict, 'sttc_trial_avg')\n",
    "    # sttc_trial_avg_plot_df = sttc_trial_avg_plot_df.groupby(by=['unit_id', 'method'], as_index=False)[['tau_ms','fit_r_squared']].median()\n",
    "\n",
    "pearsontr_trial_avg_plot_df['n_trials'] = n_trials_all\n",
    "pearsontr_trial_avg_plot_df['trial_len_ms'] = trial_lens_all\n",
    "pearsontr_trial_avg_plot_df['tau_ms_true'] = 100\n",
    "pearsontr_trial_avg_plot_df['tau_diff_abs'] = np.abs(pearsontr_trial_avg_plot_df['tau_ms'] - pearsontr_trial_avg_plot_df['tau_ms_true'])\n",
    "pearsontr_trial_avg_plot_df['tau_diff_rel'] = pearsontr_trial_avg_plot_df['tau_diff_abs'] / pearsontr_trial_avg_plot_df['tau_ms_true'] * 100\n",
    "\n",
    "sttc_trial_concat_plot_df['n_trials'] = n_trials_all\n",
    "sttc_trial_concat_plot_df['trial_len_ms'] = trial_lens_all\n",
    "sttc_trial_concat_plot_df['tau_ms_true'] = 100\n",
    "sttc_trial_concat_plot_df['tau_diff_abs'] = np.abs(sttc_trial_concat_plot_df['tau_ms'] - sttc_trial_concat_plot_df['tau_ms_true'])\n",
    "sttc_trial_concat_plot_df['tau_diff_rel'] = sttc_trial_concat_plot_df['tau_diff_abs'] / sttc_trial_concat_plot_df['tau_ms_true'] * 100\n",
    "\n",
    "\n",
    "# sttc_trial_avg_plot_df['n_trials'] = n_trials_all\n",
    "# sttc_trial_avg_plot_df['trial_len_ms'] = trial_lens_all\n",
    "# sttc_trial_avg_plot_df['tau_ms_true'] = 100\n",
    "# sttc_trial_avg_plot_df['tau_diff_abs'] = np.abs(sttc_trial_avg_plot_df['tau_ms'] - sttc_trial_avg_plot_df['tau_ms_true'])\n",
    "# sttc_trial_avg_plot_df['tau_diff_rel'] = sttc_trial_avg_plot_df['tau_diff_abs'] / sttc_trial_avg_plot_df['tau_ms_true'] * 100"
   ]
  },
  {
   "cell_type": "code",
   "execution_count": 24,
   "id": "e4c818ef-b917-4002-9906-5aa23bdc9b6e",
   "metadata": {},
   "outputs": [
    {
     "data": {
      "text/plain": [
       "<Axes: xlabel='n_trials', ylabel='tau_diff_rel_log10'>"
      ]
     },
     "execution_count": 24,
     "metadata": {},
     "output_type": "execute_result"
    },
    {
     "data": {
      "image/png": "[encoded data removed]",
      "text/plain": [
       "<Figure size 640x480 with 1 Axes>"
      ]
     },
     "metadata": {},
     "output_type": "display_data"
    }
   ],
   "source": [
    "sttc_trial_concat_plot_df['tau_diff_rel_log10'] = np.log10(sttc_trial_concat_plot_df['tau_diff_rel'])\n",
    "pearsontr_trial_avg_plot_df['tau_diff_rel_log10'] = np.log10(pearsontr_trial_avg_plot_df['tau_diff_rel'])\n",
    "\n",
    "sns.regplot(x='n_trials', y='tau_diff_rel_log10', data=sttc_trial_concat_plot_df,\n",
    "            scatter=None, color='blue')\n",
    "sns.regplot(x='n_trials', y='tau_diff_rel_log10', data=pearsontr_trial_avg_plot_df,\n",
    "            scatter=None, color='red')"
   ]
  },
  {
   "cell_type": "code",
   "execution_count": 25,
   "id": "055bc9ff-9920-420a-a5b3-c9942929cd4c",
   "metadata": {},
   "outputs": [
    {
     "data": {
      "text/plain": [
       "<Axes: xlabel='trial_len_ms', ylabel='tau_diff_rel_log10'>"
      ]
     },
     "execution_count": 25,
     "metadata": {},
     "output_type": "execute_result"
    },
    {
     "data": {
      "image/png": "[encoded data removed]",
      "text/plain": [
       "<Figure size 640x480 with 1 Axes>"
      ]
     },
     "metadata": {},
     "output_type": "display_data"
    }
   ],
   "source": [
    "sns.regplot(x='trial_len_ms', y='tau_diff_rel_log10', data=sttc_trial_concat_plot_df,\n",
    "            scatter=None, color='blue')\n",
    "sns.regplot(x='trial_len_ms', y='tau_diff_rel_log10', data=pearsontr_trial_avg_plot_df,\n",
    "            scatter=None, color='red')"
   ]
  },
  {
   "cell_type": "code",
   "execution_count": null,
   "id": "8e64b6a9-e1e1-4c57-86bb-c642cbf17ecf",
   "metadata": {},
   "outputs": [],
   "source": [
    "# check for NaNs and for a long df remove rows with NaNs (if for a unit one method failed than remove it)\n",
    "\n",
    "rows_with_nans_pearsonr_df = pearsontr_trial_avg_plot_df[pearsontr_trial_avg_plot_df.isna().any(axis=1)]\n",
    "n_rows_with_nan_pearsonr = len(rows_with_nans_pearsonr_df)\n",
    "print(f'N rows with NaNs {n_rows_with_nan_pearsonr}')\n",
    "\n",
    "rows_with_nans_isttc_concat_df = sttc_trial_concat_plot_df[sttc_trial_concat_plot_df.isna().any(axis=1)]\n",
    "n_rows_with_nan_isttc_concat = len(rows_with_nans_isttc_concat_df)\n",
    "print(f'N rows with NaNs {n_rows_with_nan_isttc_concat}')\n",
    "\n",
    "# rows_with_nans_isttc_avg_df = sttc_trial_avg_plot_df[sttc_trial_avg_plot_df.isna().any(axis=1)]\n",
    "# n_rows_with_nan_isttc_avg = len(rows_with_nans_isttc_avg_df)\n",
    "# print(f'N rows with NaNs {n_rows_with_nan_isttc_avg}')\n",
    "\n",
    "pearsonr_nan_unit_ids = rows_with_nans_pearsonr_df['unit_id'].values\n",
    "sttc_concat_nan_unit_ids = rows_with_nans_isttc_concat_df['unit_id'].values\n",
    "# sttc_avg_nan_unit_ids = rows_with_nans_isttc_avg_df['unit_id'].values\n",
    "\n",
    "unit_ids_nan_union = set(pearsonr_nan_unit_ids).union(sttc_concat_nan_unit_ids).union(sttc_avg_nan_unit_ids)\n",
    "print(f'N rows in unit_ids_nan_union {len(unit_ids_nan_union)}')\n",
    "\n",
    "# take rows without NaNs\n",
    "pearsonr_sans_nans_plot_df = pearsontr_trial_avg_plot_df[~pearsontr_trial_avg_plot_df['unit_id'].isin(unit_ids_nan_union)]\n",
    "sttc_concat_sans_nans_plot_df = sttc_trial_concat_plot_df[~sttc_trial_concat_plot_df['unit_id'].isin(unit_ids_nan_union)]\n",
    "sttc_avg_sans_nans_plot_df = sttc_trial_avg_plot_df[~sttc_trial_avg_plot_df['unit_id'].isin(unit_ids_nan_union)]\n",
    "\n",
    "print(f'len pearsonr {len(pearsonr_sans_nans_plot_df)}, len sttc_concat {len(sttc_concat_sans_nans_plot_df)}, len sttc_avg {len(sttc_avg_sans_nans_plot_df)}')"
   ]
  },
  {
   "cell_type": "code",
   "execution_count": null,
   "id": "44769b35-42fd-4f95-952e-50c8acc938c0",
   "metadata": {},
   "outputs": [],
   "source": [
    "# check for negative R-square\n",
    "\n",
    "rows_with_negr_pearsonr_df = pearsonr_sans_nans_plot_df.query('fit_r_squared < 0')\n",
    "n_rows_with_negr_pearsonr = len(rows_with_negr_pearsonr_df)\n",
    "print(f'N rows with neg R {n_rows_with_negr_pearsonr}')\n",
    "\n",
    "rows_with_negr_isttc_concat_df = sttc_concat_sans_nans_plot_df.query('fit_r_squared < 0')\n",
    "n_rows_with_negr_isttc_concat = len(rows_with_negr_isttc_concat_df)\n",
    "print(f'N rows with neg R {n_rows_with_negr_isttc_concat}')\n",
    "\n",
    "rows_with_negr_isttc_avg_df = sttc_avg_sans_nans_plot_df.query('fit_r_squared < 0')\n",
    "n_rows_with_negr_isttc_avg = len(rows_with_negr_isttc_avg_df)\n",
    "print(f'N rows with neg R {n_rows_with_negr_isttc_avg}')\n",
    "\n",
    "pearsonr_negr_unit_ids = rows_with_negr_pearsonr_df['unit_id'].values\n",
    "isttc_concat_negr_unit_ids = rows_with_negr_isttc_concat_df['unit_id'].values\n",
    "isttc_avg_negr_unit_ids = rows_with_negr_isttc_avg_df['unit_id'].values\n",
    "\n",
    "unit_ids_negr_union = set(pearsonr_negr_unit_ids).union(isttc_concat_negr_unit_ids).union(isttc_avg_negr_unit_ids)\n",
    "print(f'N rows in unit_ids_negr_union {len(unit_ids_negr_union)}, : {unit_ids_negr_union}')\n",
    "\n",
    "pearsonr_sans_negr_plot_df = pearsonr_sans_nans_plot_df[~pearsonr_sans_nans_plot_df['unit_id'].isin(unit_ids_negr_union)].copy()\n",
    "sttc_concat_sans_negr_plot_df = sttc_concat_sans_nans_plot_df[~sttc_concat_sans_nans_plot_df['unit_id'].isin(unit_ids_negr_union)].copy()\n",
    "sttc_avg_sans_negr_plot_df = sttc_avg_sans_nans_plot_df[~sttc_avg_sans_nans_plot_df['unit_id'].isin(unit_ids_negr_union)].copy()\n",
    "\n",
    "pearsonr_sans_negr_plot_df['tau_diff_rel_log10'] = np.log10(pearsonr_sans_negr_plot_df['tau_diff_rel'])\n",
    "sttc_concat_sans_negr_plot_df['tau_diff_rel_log10'] = np.log10(sttc_concat_sans_negr_plot_df['tau_diff_rel'])\n",
    "sttc_avg_sans_negr_plot_df['tau_diff_rel_log10'] = np.log10(sttc_avg_sans_negr_plot_df['tau_diff_rel'])\n",
    "\n",
    "print(f'len pearsonr {len(pearsonr_sans_negr_plot_df)}, len sttc_concat {len(sttc_concat_sans_negr_plot_df)}, len sttc_avg {len(sttc_avg_sans_negr_plot_df)}')"
   ]
  },
  {
   "cell_type": "code",
   "execution_count": null,
   "id": "9b056e18-c8ba-4a0b-b26d-7302529ef79c",
   "metadata": {},
   "outputs": [],
   "source": [
    "tau_plot_long_df = pd.concat([pearsonr_sans_negr_plot_df, \n",
    "                              sttc_concat_sans_negr_plot_df, \n",
    "                              sttc_avg_sans_negr_plot_df])\n",
    "tau_plot_long_df['log_tau_ms'] = np.log10(tau_plot_long_df['tau_ms'])\n",
    "tau_plot_long_df.reset_index(inplace=True, drop=True)\n",
    "\n",
    "print(f'len tau_plot_long_df {len(tau_plot_long_df)}')\n",
    "\n",
    "tau_plot_long_df.head(3)"
   ]
  },
  {
   "cell_type": "markdown",
   "id": "a6dc0178-2a82-4c45-bd68-e45099ed8995",
   "metadata": {},
   "source": [
    "### Export for stats"
   ]
  },
  {
   "cell_type": "code",
   "execution_count": null,
   "id": "9a26a0f6-f3ca-4084-92f9-7618bd11c485",
   "metadata": {},
   "outputs": [],
   "source": [
    "tau_plot_long_df.to_csv(results_folder + 'tau_plot_long_df.csv')"
   ]
  },
  {
   "cell_type": "markdown",
   "id": "b9a331af-7f8e-4324-92aa-6bb726c54a68",
   "metadata": {},
   "source": [
    "### Plots"
   ]
  },
  {
   "cell_type": "code",
   "execution_count": null,
   "id": "17c5a647-a843-438c-9e53-5dd3da92fc22",
   "metadata": {},
   "outputs": [],
   "source": [
    "color_pearson_trail_avg = '#6A5ACD' \n",
    "color_sttc_trail_avg =  '#FF7F50' \n",
    "color_sttc_trail_concat = '#C71585' "
   ]
  },
  {
   "cell_type": "code",
   "execution_count": null,
   "id": "fd72d55a-cdce-46ea-89a5-680efd5f3b5f",
   "metadata": {},
   "outputs": [],
   "source": [
    "# tau_plot_wide_df = acf_full_plot_df.merge(isttc_full_plot_df, suffixes=('_acf', '_isttc'), \n",
    "#                                           on=['unit_id','fr', 'alpha', 'tau_ms_true', 'duration_ms', 'duration_s', 'dur_interval'], \n",
    "#                                           how='left')\n",
    "# tau_plot_wide_df.reset_index(inplace=True, drop=True)\n",
    "\n",
    "# print(f'len tau_plot_wide_df {len(tau_plot_wide_df)}')\n",
    "\n",
    "# tau_plot_wide_df.columns"
   ]
  },
  {
   "cell_type": "code",
   "execution_count": null,
   "id": "19ff7151-b580-4a11-9757-4473305653dc",
   "metadata": {},
   "outputs": [],
   "source": [
    "# just to check, I plot the same as predicted values from the model\n",
    "fig, axes = plt.subplots(1,2, figsize=(10, 3), sharey=False)\n",
    "\n",
    "sns.regplot(x='n_trials', y='tau_diff_rel_log10', data=tau_plot_long_df.query('method == \"pearsonr_trial_avg\"'),\n",
    "            scatter=None, ax=axes[0], \n",
    "            label='pearsonr', color=color_pearson_trail_avg)\n",
    "sns.regplot(x='n_trials', y='tau_diff_rel_log10', data=tau_plot_long_df.query('method == \"sttc_trial_concat\"'),\n",
    "            scatter=None, ax=axes[0], \n",
    "            label='isttc_concat', color=color_sttc_trail_concat)\n",
    "sns.regplot(x='n_trials', y='tau_diff_rel_log10', data=tau_plot_long_df.query('method == \"sttc_trial_avg\"'),\n",
    "            scatter=None, ax=axes[0], \n",
    "            label='isttc_avg', color=color_sttc_trail_avg)\n",
    "axes[0].legend(frameon=False)\n",
    "axes[0].set_xlabel('Number of trials')\n",
    "\n",
    "sns.regplot(x='trial_len_ms', y='tau_diff_rel_log10', data=tau_plot_long_df.query('method == \"pearsonr_trial_avg\"'),\n",
    "            scatter=None, ax=axes[1], \n",
    "            label='pearsonr', color=color_pearson_trail_avg)\n",
    "sns.regplot(x='trial_len_ms', y='tau_diff_rel_log10', data=tau_plot_long_df.query('method == \"sttc_trial_concat\"'),\n",
    "            scatter=None, ax=axes[1], \n",
    "            label='isttc_concat', color=color_sttc_trail_concat)\n",
    "sns.regplot(x='trial_len_ms', y='tau_diff_rel_log10', data=tau_plot_long_df.query('method == \"sttc_trial_avg\"'),\n",
    "            scatter=None, ax=axes[1], \n",
    "            label='isttc_avg', color=color_sttc_trail_avg)\n",
    "axes[1].legend(frameon=False)\n",
    "axes[1].set_xlabel('Trial length ()')\n",
    "\n",
    "# for ax in axes.flat:\n",
    "#     ax.set_ylabel('Log10 diff(IT, \\nground truth) (ms)')\n",
    "\n",
    "sns.despine()"
   ]
  },
  {
   "cell_type": "code",
   "execution_count": null,
   "id": "d34b6945-41d6-4f9a-867f-1ffa36440345",
   "metadata": {},
   "outputs": [],
   "source": [
    "tau_2methods_error_df"
   ]
  },
  {
   "cell_type": "code",
   "execution_count": null,
   "id": "1559ab28-3cb3-4e05-8ab6-ab039521568c",
   "metadata": {},
   "outputs": [],
   "source": [
    "def truncate_colormap(cmap, minval=0.0, maxval=1.0, n=100):\n",
    "    \"\"\"\n",
    "    Return a new colormap based on cmap but only sampling its colors\n",
    "    between minval and maxval (both in [0,1]).\n",
    "    \"\"\"\n",
    "    new_colors = cmap(np.linspace(minval, maxval, n))\n",
    "    new_cmap = LinearSegmentedColormap.from_list(\n",
    "        f\"{cmap.name}_trunc_{minval:.2f}_{maxval:.2f}\",\n",
    "        new_colors\n",
    "    )\n",
    "    return new_cmap\n",
    "\n",
    "trunc_magma = truncate_colormap(plt.cm.magma, minval=0.15, maxval=1)\n",
    "\n",
    "\n",
    "fig, axes = plt.subplots(1,3, figsize=(10,2.5))\n",
    "plt.subplots_adjust(hspace=0.4, wspace=0.4)\n",
    "\n",
    "#norm = TwoSlopeNorm(vcenter=0)\n",
    "\n",
    "hb0 = axes[0].hexbin(\n",
    "    x=pearsonr_sans_negr_plot_df['n_trials'], y=pearsonr_sans_negr_plot_df['trial_len_ms'],\n",
    "    C=pearsonr_sans_negr_plot_df['tau_diff_rel'],\n",
    "    reduce_C_function=np.median,   \n",
    "    gridsize=5,                \n",
    "    cmap=trunc_magma,\n",
    "    #norm = norm,\n",
    "    mincnt=1                    \n",
    ")\n",
    "\n",
    "hb1 = axes[1].hexbin(\n",
    "    x=sttc_avg_sans_negr_plot_df['n_trials'], y=sttc_avg_sans_negr_plot_df['trial_len_ms'],\n",
    "    C=sttc_avg_sans_negr_plot_df['tau_diff_rel'],\n",
    "    reduce_C_function=np.median,   \n",
    "    gridsize=5,                \n",
    "    cmap=trunc_magma,\n",
    "    mincnt=1                    \n",
    ")\n",
    "\n",
    "hb2 = axes[2].hexbin(\n",
    "    x=sttc_concat_sans_negr_plot_df['n_trials'], y=sttc_concat_sans_negr_plot_df['trial_len_ms'],\n",
    "    C=sttc_concat_sans_negr_plot_df['tau_diff_rel'],\n",
    "    reduce_C_function=np.median,   \n",
    "    gridsize=5,                \n",
    "    cmap=trunc_magma,\n",
    "    #norm = norm,\n",
    "    mincnt=1                    \n",
    ")\n",
    "\n",
    "vmin = np.floor(np.min([hb0.get_array().min(), hb1.get_array().min(), hb2.get_array().min()]))\n",
    "vmax = np.ceil(np.max([hb0.get_array().max(), hb1.get_array().max(), hb2.get_array().max()]))\n",
    "print(vmin, vmax)\n",
    "\n",
    "hb0.set_clim(vmin, vmax)\n",
    "hb1.set_clim(vmin, vmax)\n",
    "hb2.set_clim(vmin, vmax)\n",
    "\n",
    "fig.colorbar(hb0, ax=axes[0], shrink=1)\n",
    "fig.colorbar(hb1, ax=axes[1], shrink=1)\n",
    "fig.colorbar(hb2, ax=axes[2], shrink=1)\n",
    "\n",
    "axes[0].set_title('Pearsonr avg')\n",
    "axes[1].set_title('STTC avg')\n",
    "axes[2].set_title('STTC concat')\n",
    "\n",
    "fig.suptitle('Relative error (abs(tau - tau_true)/tau_true * 100)', y=1.05)\n",
    "\n",
    "for ax in axes.flat:\n",
    "    sns.despine(ax=ax)\n",
    "    ax.set_ylabel('Trial length (ma)')\n",
    "    ax.set_xlabel('N trials')\n",
    "    ax.set_ylim([1000, 5000])\n",
    "    ax.set_yticks(np.linspace(1000, 5000, 5))\n",
    "    ax.set_xlim([10, 100])\n",
    "    ax.set_xticks(np.linspace(20, 100, 5))\n",
    "\n"
   ]
  },
  {
   "cell_type": "code",
   "execution_count": null,
   "id": "1f79286b-bb31-447e-b704-31cb6aeaf290",
   "metadata": {},
   "outputs": [],
   "source": [
    "fig, axes = plt.subplots(1,2, figsize=(7,2.5))\n",
    "plt.subplots_adjust(hspace=0.4, wspace=0.4)\n",
    "\n",
    "norm = TwoSlopeNorm(vcenter=0)\n",
    "\n",
    "hb0 = axes[0].hexbin(\n",
    "    x=pearsonr_sans_negr_plot_df['n_trials'], y=pearsonr_sans_negr_plot_df['trial_len_ms'],\n",
    "    C=sttc_concat_sans_negr_plot_df['tau_diff_rel'] - pearsonr_sans_negr_plot_df['tau_diff_rel'],\n",
    "    reduce_C_function=np.median,   \n",
    "    gridsize=5,                \n",
    "    cmap='coolwarm',\n",
    "    norm = norm,\n",
    "    mincnt=1                    \n",
    ")\n",
    "\n",
    "hb1 = axes[1].hexbin(\n",
    "    x=sttc_avg_sans_negr_plot_df['n_trials'], y=sttc_avg_sans_negr_plot_df['trial_len_ms'],\n",
    "    C=sttc_concat_sans_negr_plot_df['tau_diff_rel'] - sttc_avg_sans_negr_plot_df['tau_diff_rel'],\n",
    "    reduce_C_function=np.median,   \n",
    "    gridsize=5,                \n",
    "    cmap='coolwarm',\n",
    "    norm = norm,\n",
    "    mincnt=1                    \n",
    ")\n",
    "\n",
    "vmin = np.floor(np.min([hb0.get_array().min(), hb1.get_array().min()]))\n",
    "vmax = np.ceil(np.max([hb0.get_array().max(), hb1.get_array().max()]))\n",
    "print(vmin, vmax)\n",
    "\n",
    "hb0.set_clim(vmin, vmax)\n",
    "hb1.set_clim(vmin, vmax)\n",
    "\n",
    "\n",
    "fig.colorbar(hb0, ax=axes[0], shrink=1)\n",
    "fig.colorbar(hb1, ax=axes[1], shrink=1)\n",
    "\n",
    "# axes[0].set_title('Pearsonr avg')\n",
    "# axes[1].set_title('STTC avg')\n",
    "# axes[2].set_title('STTC concat')\n",
    "\n",
    "fig.suptitle('Relative error (abs(tau - tau_true)/tau_true * 100)', y=1.05)\n",
    "\n",
    "for ax in axes.flat:\n",
    "    sns.despine(ax=ax)\n",
    "    ax.set_ylabel('Trial length (ma)')\n",
    "    ax.set_xlabel('N trials')\n",
    "    ax.set_ylim([1000, 5000])\n",
    "    ax.set_yticks(np.linspace(1000, 5000, 5))\n",
    "    ax.set_xlim([10, 100])\n",
    "    ax.set_xticks(np.linspace(20, 100, 5))\n",
    "\n"
   ]
  }
 ],
 "metadata": {
  "kernelspec": {
   "display_name": "Python 3 (ipykernel)",
   "language": "python",
   "name": "python3"
  },
  "language_info": {
   "codemirror_mode": {
    "name": "ipython",
    "version": 3
   },
   "file_extension": ".py",
   "mimetype": "text/x-python",
   "name": "python",
   "nbconvert_exporter": "python",
   "pygments_lexer": "ipython3",
   "version": "3.12.9"
  }
 },
 "nbformat": 4,
 "nbformat_minor": 5
}
