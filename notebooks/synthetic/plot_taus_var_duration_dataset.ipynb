{
 "cells": [
  {
   "cell_type": "markdown",
   "id": "8b1b6c08-9434-4f91-9117-5eb95ee10ad4",
   "metadata": {},
   "source": [
    "Generate plots based on spike_trains_tau100ms_alpha0_3_fr3_5hz_len600sec_var_duration.pkl.\n",
    "\n",
    "Duration is between 2s - 600sec, 10000 spike trains."
   ]
  },
  {
   "cell_type": "code",
   "execution_count": 1,
   "id": "33aee8d9-673e-4302-b31b-e56b96b123e9",
   "metadata": {},
   "outputs": [],
   "source": [
    "import numpy as np\n",
    "import pandas as pd\n",
    "import pickle\n",
    "\n",
    "import os\n",
    "current_wd = os.getcwd()\n",
    "os.chdir(os.path.abspath(\"..\\\\..\\\\..\\\\isttc\\\\scripts\"))\n",
    "from cfg_global import project_folder_path\n",
    "os.chdir(current_wd)\n",
    "\n",
    "import matplotlib as mpl\n",
    "import matplotlib.pyplot as plt\n",
    "from matplotlib.colors import TwoSlopeNorm\n",
    "import seaborn as sns\n",
    "\n",
    "mpl.rcParams['pdf.fonttype'] = 42\n",
    "mpl.rcParams['ps.fonttype'] = 42\n",
    "plt.rcParams['svg.fonttype'] = 'none'"
   ]
  },
  {
   "cell_type": "code",
   "execution_count": 2,
   "id": "0ca96473-a0d8-461a-be79-b2c2ef2d4662",
   "metadata": {},
   "outputs": [],
   "source": [
    "dataset_folder = project_folder_path + 'results\\\\synthetic\\\\dataset\\\\'\n",
    "results_folder = project_folder_path + 'results\\\\synthetic\\\\results\\\\fixed_params_var_duration\\\\'\n",
    "fig_folder = project_folder_path + 'results\\\\synthetic\\\\fig_drafts_paper\\\\'"
   ]
  },
  {
   "cell_type": "code",
   "execution_count": 3,
   "id": "a71b55e4-1624-4e7c-a604-86898fa572ce",
   "metadata": {},
   "outputs": [],
   "source": [
    "save_fig = False"
   ]
  },
  {
   "cell_type": "markdown",
   "id": "ec52b4bc-f454-41cf-b175-39758c89e077",
   "metadata": {},
   "source": [
    "### Load data"
   ]
  },
  {
   "cell_type": "code",
   "execution_count": null,
   "id": "d81cb21a-5b2a-4723-8bb4-6c0ede168bc0",
   "metadata": {},
   "outputs": [],
   "source": [
    "with open(dataset_folder + '2_spike_trains_tau100ms_alpha0_3_fr3_5hz_var_duration.pkl', 'rb') as f:\n",
    "    dataset = pickle.load(f)\n",
    "\n",
    "duration_ms_all = dataset['duration_ms']\n",
    "fr_values = dataset['fr_values']\n",
    "alphas = dataset['alphas']\n",
    "taus_ms = dataset['tau_ms']\n",
    "\n",
    "\n",
    "with open(results_folder + 'acf_isttc_full_50ms_20lags_dict.pkl', \"rb\") as f:\n",
    "    isttc_full_dict = pickle.load(f)\n",
    "\n",
    "with open(results_folder + 'acf_full_50ms_20lags_dict.pkl', \"rb\") as f:\n",
    "    acf_full_dict = pickle.load(f)\n",
    "\n",
    "print(f'len isttc_full_dict {len(isttc_full_dict)}')\n",
    "print(f'len acf_full_dict {len(acf_full_dict)}')"
   ]
  },
  {
   "cell_type": "markdown",
   "id": "c9b6636c-13fc-440a-814a-e5e1fd2e3550",
   "metadata": {},
   "source": [
    "### Make summary dfs"
   ]
  },
  {
   "cell_type": "code",
   "execution_count": null,
   "id": "155564bc-78a7-4e46-b4f2-f962e092a9ff",
   "metadata": {},
   "outputs": [],
   "source": [
    "n_lags = 20\n",
    "acf_cols = ['acf_' + str(i) for i in range(n_lags+1)]\n",
    "print('acf_cols {}'.format(acf_cols))"
   ]
  },
  {
   "cell_type": "code",
   "execution_count": null,
   "id": "361933c2-29e6-489b-9b10-3c8636ba14ed",
   "metadata": {},
   "outputs": [],
   "source": [
    "def calculate_acf_decline_flag(acf_, start_idx=1, end_idx=4):\n",
    "    acf_decay = np.all(np.diff(acf_[start_idx:end_idx]) <= 0)\n",
    "    return acf_decay"
   ]
  },
  {
   "cell_type": "code",
   "execution_count": null,
   "id": "ac5a6e0a-f0ff-4fb3-9bf9-e6575808623f",
   "metadata": {},
   "outputs": [],
   "source": [
    "# Generate 20 log spaced floats between 2 and 600\n",
    "values = np.logspace(np.log10(2), np.log10(600), num=11)\n",
    "edges_int = np.round(values).astype(int)\n",
    "# interval labels for df column\n",
    "labels = [f\"interval_{edges_int[i]}_{edges_int[i+1]}\" for i in range(len(edges_int)-1)]"
   ]
  },
  {
   "cell_type": "code",
   "execution_count": null,
   "id": "92072a9c-dc45-4324-bf4e-ffcd683c3c03",
   "metadata": {},
   "outputs": [],
   "source": [
    "edges_int"
   ]
  },
  {
   "cell_type": "code",
   "execution_count": null,
   "id": "a48062b0-b41f-4118-8e9d-d55261973ed0",
   "metadata": {},
   "outputs": [],
   "source": [
    "data = []\n",
    "for unit_id, unit_data in acf_full_dict.items():\n",
    "    taus = unit_data['taus']  \n",
    "    data.append({\n",
    "        'unit_id': unit_id,\n",
    "        'tau': taus['tau'],\n",
    "        'fit_r_squared': taus['fit_r_squared'],\n",
    "        'decline_150_250': calculate_acf_decline_flag(unit_data['acf'], start_idx=2, end_idx=4)\n",
    "    })\n",
    "acf_full_plot_df = pd.DataFrame(data)\n",
    "acf_full_plot_df['method'] = 'acf_full'\n",
    "acf_full_plot_df['tau_ms'] = acf_full_plot_df['tau'] * 50\n",
    "\n",
    "acf_full_plot_df['duration_ms'] = duration_ms_all\n",
    "acf_full_plot_df['duration_s'] = acf_full_plot_df['duration_ms'] / 1000\n",
    "\n",
    "acf_full_plot_df['fr'] = fr_values\n",
    "acf_full_plot_df['alpha'] = alphas\n",
    "acf_full_plot_df['tau_ms_true'] = taus_ms\n",
    "acf_full_plot_df['tau_diff_abs'] = np.abs(acf_full_plot_df['tau_ms'] - acf_full_plot_df['tau_ms_true'])\n",
    "acf_full_plot_df['tau_diff_rel'] = acf_full_plot_df['tau_diff_abs'] / acf_full_plot_df['tau_ms_true'] * 100\n",
    "\n",
    "acf_full_plot_df['dur_interval'] = pd.cut(\n",
    "    acf_full_plot_df['duration_s'],\n",
    "    bins=edges_int,\n",
    "    labels=labels,\n",
    "    right=False  # intervals are [left, right)\n",
    ")\n",
    "\n",
    "rows_with_nans_df = acf_full_plot_df[acf_full_plot_df.isna().any(axis=1)]\n",
    "n_rows_with_nan = len(rows_with_nans_df)\n",
    "print(f'N rows with NaNs {n_rows_with_nan}')\n",
    "acf_full_plot_df['method'] = 'acf_full'\n",
    "\n",
    "acf_full_plot_df.head(2)"
   ]
  },
  {
   "cell_type": "code",
   "execution_count": null,
   "id": "a878f4d4-0f0f-48ae-8808-d92ac8b45ed9",
   "metadata": {},
   "outputs": [],
   "source": [
    "data = []\n",
    "for unit_id, unit_data in isttc_full_dict.items():\n",
    "    taus = unit_data['taus']      \n",
    "    data.append({\n",
    "        'unit_id': unit_id,\n",
    "        'tau': taus['tau'],\n",
    "        'fit_r_squared': taus['fit_r_squared'],\n",
    "        'decline_150_250': calculate_acf_decline_flag(unit_data['acf'], start_idx=2, end_idx=4)\n",
    "    })\n",
    "isttc_full_plot_df = pd.DataFrame(data)\n",
    "isttc_full_plot_df['method'] = 'isttc_full'\n",
    "isttc_full_plot_df['tau_ms'] = isttc_full_plot_df['tau'] * 50\n",
    "\n",
    "isttc_full_plot_df['duration_ms'] = duration_ms_all\n",
    "isttc_full_plot_df['duration_s'] = isttc_full_plot_df['duration_ms'] / 1000\n",
    "\n",
    "isttc_full_plot_df['fr'] = fr_values\n",
    "isttc_full_plot_df['alpha'] = alphas\n",
    "isttc_full_plot_df['tau_ms_true'] = taus_ms\n",
    "isttc_full_plot_df['tau_diff_abs'] = np.abs(isttc_full_plot_df['tau_ms'] - isttc_full_plot_df['tau_ms_true'])\n",
    "isttc_full_plot_df['tau_diff_rel'] = isttc_full_plot_df['tau_diff_abs'] / isttc_full_plot_df['tau_ms_true'] * 100\n",
    "\n",
    "isttc_full_plot_df['dur_interval'] = pd.cut(\n",
    "    isttc_full_plot_df['duration_s'],\n",
    "    bins=edges_int,\n",
    "    labels=labels,\n",
    "    right=False  # intervals are [left, right)\n",
    ")\n",
    "\n",
    "rows_with_nans_df = isttc_full_plot_df[isttc_full_plot_df.isna().any(axis=1)]\n",
    "n_rows_with_nan = len(rows_with_nans_df)\n",
    "print(f'N rows with NaNs {n_rows_with_nan}')\n",
    "\n",
    "isttc_full_plot_df['method'] = 'isttc_full'\n",
    "isttc_full_plot_df.head(2)"
   ]
  },
  {
   "cell_type": "code",
   "execution_count": null,
   "id": "509772ff-2fd6-4ed7-a6e9-cbb43051db0c",
   "metadata": {},
   "outputs": [],
   "source": [
    "# check for NaNs \n",
    "\n",
    "rows_with_nans_acf_df = acf_full_plot_df[acf_full_plot_df.isna().any(axis=1)]\n",
    "n_rows_with_nan_acf = len(rows_with_nans_acf_df)\n",
    "print(f'N rows with NaNs {n_rows_with_nan_acf}')\n",
    "\n",
    "rows_with_nans_isttc_df = isttc_full_plot_df[isttc_full_plot_df.isna().any(axis=1)]\n",
    "n_rows_with_nan_isttc = len(rows_with_nans_isttc_df)\n",
    "print(f'N rows with NaNs {n_rows_with_nan_isttc}')\n",
    "\n",
    "# take from isttc dataset only rows where acf df has no NaNs\n",
    "isttc_full_plot_df = isttc_full_plot_df[~isttc_full_plot_df['unit_id'].isin(rows_with_nans_acf_df['unit_id'].values)]\n",
    "acf_full_plot_df = acf_full_plot_df[~acf_full_plot_df['unit_id'].isin(rows_with_nans_acf_df['unit_id'].values)]\n",
    "\n",
    "print(f'len acf_full_plot_df {len(acf_full_plot_df)}, len isttc_full_plot_df {len(isttc_full_plot_df)}')"
   ]
  },
  {
   "cell_type": "code",
   "execution_count": null,
   "id": "4a8c0626-c08f-4353-8bf1-a60e02527ac1",
   "metadata": {},
   "outputs": [],
   "source": [
    "# check for negative R-square\n",
    "\n",
    "rows_with_negr_acf_df = acf_full_plot_df.query('fit_r_squared < 0')\n",
    "n_rows_with_negr_acf = len(rows_with_negr_acf_df)\n",
    "print(f'N rows with neg R {n_rows_with_negr_acf}')\n",
    "\n",
    "\n",
    "rows_with_negr_isttc_df = isttc_full_plot_df.query('fit_r_squared < 0')\n",
    "n_rows_with_negr_isttc = len(rows_with_negr_isttc_df)\n",
    "print(f'N rows with neg R {n_rows_with_negr_isttc}')\n",
    "\n",
    "acf_negr_unit_ids = rows_with_negr_acf_df['unit_id'].values\n",
    "isttc_negr_unit_ids = rows_with_negr_isttc_df['unit_id'].values\n",
    "\n",
    "unit_ids_negr_union = set(acf_negr_unit_ids).union(isttc_negr_unit_ids)\n",
    "print(f'N rows in unit_ids_negr_union {len(unit_ids_negr_union)}')\n",
    "\n",
    "isttc_full_plot_df = isttc_full_plot_df[~isttc_full_plot_df['unit_id'].isin(unit_ids_negr_union)]\n",
    "acf_full_plot_df = acf_full_plot_df[~acf_full_plot_df['unit_id'].isin(unit_ids_negr_union)]\n",
    "\n",
    "print(f'len acf_full_plot_df {len(acf_full_plot_df)}, len isttc_full_plot_df {len(isttc_full_plot_df)}')"
   ]
  },
  {
   "cell_type": "code",
   "execution_count": null,
   "id": "8fcc464c-3556-4350-89bf-ecd272b42ded",
   "metadata": {},
   "outputs": [],
   "source": [
    "tau_plot_long_df = pd.concat([acf_full_plot_df, isttc_full_plot_df])\n",
    "tau_plot_long_df.reset_index(inplace=True, drop=True)\n",
    "\n",
    "print(f'len tau_plot_long_df {len(tau_plot_long_df)}')"
   ]
  },
  {
   "cell_type": "code",
   "execution_count": null,
   "id": "aa78f019-593c-47a9-a7a0-a5d0df27e22f",
   "metadata": {},
   "outputs": [],
   "source": [
    "tau_plot_wide_df = acf_full_plot_df.merge(isttc_full_plot_df, suffixes=('_acf', '_isttc'), \n",
    "                                          on=['unit_id','fr', 'alpha', 'tau_ms_true', 'duration_ms', 'duration_s', 'dur_interval'], \n",
    "                                          how='left')\n",
    "tau_plot_wide_df.reset_index(inplace=True, drop=True)\n",
    "\n",
    "print(f'len tau_plot_wide_df {len(tau_plot_wide_df)}')\n",
    "\n",
    "tau_plot_wide_df.columns"
   ]
  },
  {
   "cell_type": "markdown",
   "id": "dfdfbfc5-392f-4e13-9a22-f02972c6570f",
   "metadata": {},
   "source": [
    "### Export for stats"
   ]
  },
  {
   "cell_type": "code",
   "execution_count": null,
   "id": "bc66ab22-96b1-4825-a079-f08fc9913512",
   "metadata": {},
   "outputs": [],
   "source": [
    "tau_plot_long_df.to_csv(results_folder + 'tau_plot_long_df.csv')"
   ]
  },
  {
   "cell_type": "markdown",
   "id": "bd60b423-d861-47b0-9458-43ad75e8fecf",
   "metadata": {},
   "source": [
    "### Plots"
   ]
  },
  {
   "cell_type": "code",
   "execution_count": null,
   "id": "17c5a647-a843-438c-9e53-5dd3da92fc22",
   "metadata": {},
   "outputs": [],
   "source": [
    "color_acf_full = '#708090' # slate gray\n",
    "color_isttc_full = '#00A9E2' # steel blue"
   ]
  },
  {
   "cell_type": "code",
   "execution_count": null,
   "id": "f8607393-0219-44f0-ab73-51f5f83f4508",
   "metadata": {},
   "outputs": [],
   "source": [
    "# just to check, I plot the same as predicted values from the model\n",
    "fig, axes = plt.subplots(1,1, figsize=(5, 3), sharey=False)\n",
    "\n",
    "sns.regplot(x=tau_plot_wide_df['duration_s'].values, y=np.log10(tau_plot_wide_df['tau_diff_rel_acf']), scatter=None, ax=axes, \n",
    "            label='acf_full', color=color_acf_full)\n",
    "sns.regplot(x=tau_plot_wide_df['duration_s'].values, y=np.log10(tau_plot_wide_df['tau_diff_rel_isttc']), scatter=None, ax=axes, \n",
    "            label='isttc_full', color=color_isttc_full)\n",
    "axes.legend(frameon=False)\n",
    "\n",
    "axes.set_xlabel('Firing rate (Hz)')\n",
    "\n",
    "# for ax in axes.flat:\n",
    "#     ax.set_ylabel('Log10 diff(IT, \\nground truth) (ms)')\n",
    "\n",
    "sns.despine()\n",
    "\n",
    "# if save_fig:\n",
    "#     plt.savefig(fig_folder + 'taus_dataset_duration_var_diff_regplot.png' , bbox_inches='tight', dpi=300)\n",
    "#     plt.savefig(fig_folder + 'taus_dataset_duration_var_diff_regplot.svg' , bbox_inches='tight')"
   ]
  },
  {
   "cell_type": "code",
   "execution_count": null,
   "id": "07225f59-9f20-4fbc-908c-2dcad16444fd",
   "metadata": {},
   "outputs": [],
   "source": [
    "# intervals for error plots\n",
    "intervals = {\n",
    "    '+-100':   (0,   200),\n",
    "    '+-75':  (25,  175),\n",
    "    '+-50':  (50,  150),\n",
    "    '+-25':  (75,  125),\n",
    "}\n",
    "\n",
    "tau_2methods_df = pd.concat([acf_full_plot_df, isttc_full_plot_df])\n",
    "tau_2methods_df['log_tau_ms'] = np.log10(tau_2methods_df['tau_ms'])\n",
    "tau_2methods_df.reset_index(inplace=True, drop=True)\n",
    "\n",
    "df = tau_2methods_df.copy()\n",
    "rows = []\n",
    "for method, sub in df.groupby(by=['method','dur_interval']):\n",
    "    total = len(sub)\n",
    "    row = {'method': method}\n",
    "    for name, (lo, hi) in intervals.items():\n",
    "        cnt = sub['tau_ms'].between(lo, hi).sum()\n",
    "        row[name] = cnt/total*100\n",
    "    rows.append(row)\n",
    "tau_2methods_error_df = pd.DataFrame(rows).set_index('method')\n",
    "\n",
    "# make long df\n",
    "tau_2methods_error_df = tau_2methods_error_df.reset_index()\n",
    "tau_2methods_error_long_df = tau_2methods_error_df.melt(\n",
    "    id_vars='method',\n",
    "    var_name='interval',\n",
    "    value_name='percentage'\n",
    ")\n",
    "\n",
    "tau_2methods_error_long_df[['method','dur_interval']] = pd.DataFrame(\n",
    "    tau_2methods_error_long_df['method'].tolist(),\n",
    "    index=tau_2methods_error_long_df.index\n",
    ")\n",
    "tau_2methods_error_long_df = tau_2methods_error_long_df.rename(columns={'interval':'error_interval'})\n",
    "tau_2methods_error_long_df = tau_2methods_error_long_df[['method','dur_interval','error_interval','percentage']]"
   ]
  },
  {
   "cell_type": "code",
   "execution_count": null,
   "id": "3a421df4-0255-4990-bcfc-5a030710840c",
   "metadata": {},
   "outputs": [],
   "source": [
    "# prep for heatmaps\n",
    "# ACF\n",
    "acf = tau_2methods_error_long_df[\n",
    "    tau_2methods_error_long_df['method']=='acf_full'\n",
    "]\n",
    "acf_pivot = acf.pivot(\n",
    "    index='dur_interval',\n",
    "    columns='error_interval',\n",
    "    values='percentage'\n",
    ")\n",
    "\n",
    "# ISTTC\n",
    "isttc = tau_2methods_error_long_df[\n",
    "    tau_2methods_error_long_df['method']=='isttc_full'\n",
    "]\n",
    "isttc_pivot = isttc.pivot(\n",
    "    index='dur_interval',\n",
    "    columns='error_interval',\n",
    "    values='percentage'\n",
    ")\n",
    "\n",
    "diff_pivot = acf_pivot-isttc_pivot"
   ]
  },
  {
   "cell_type": "code",
   "execution_count": null,
   "id": "595b43df-ac22-4070-9b0e-4a8a0b58d420",
   "metadata": {},
   "outputs": [],
   "source": [
    "col_order = ['+-100', '+-75', '+-50', '+-25']\n",
    "def lower_bound(label):\n",
    "    return int(label.split('_')[1])\n",
    "row_order = sorted(acf_pivot.index, key=lower_bound, reverse=True)\n",
    "\n",
    "acf_ordered  = acf_pivot.reindex(index=row_order, columns=col_order)\n",
    "isttc_ordered  = isttc_pivot.reindex(index=row_order, columns=col_order)\n",
    "diff_pivot_ordered  = diff_pivot.reindex(index=row_order, columns=col_order)\n",
    "\n",
    "# plot ACF heatmap\n",
    "fig, axes = plt.subplots(1, 3, figsize=(14, 3), sharey=True)\n",
    "plt.subplots_adjust(hspace=0.4, wspace=0.4)\n",
    "\n",
    "norm = TwoSlopeNorm(vcenter=0, vmin=-13, vmax=13)\n",
    "#norm = TwoSlopeNorm(vcenter=0)\n",
    "\n",
    "sns.heatmap(\n",
    "    acf_ordered,\n",
    "    cmap=\"magma\", vmin=0, vmax=100,\n",
    "    cbar_kws={'label': 'Percentage'}, \n",
    "    ax=axes[0]\n",
    ")\n",
    "axes[0].set_title(\"ACF Full: % signals\")\n",
    "\n",
    "sns.heatmap(\n",
    "    isttc_ordered,\n",
    "    cmap=\"magma\", vmin=0, vmax=100,\n",
    "    cbar_kws={'label': 'Percentage'}, \n",
    "    ax=axes[1]\n",
    ")\n",
    "axes[1].set_title('iSTTC Full: % signals')\n",
    "\n",
    "sns.heatmap(\n",
    "    diff_pivot_ordered,\n",
    "    cmap=\"RdBu_r\", #\"coolwarm\", \n",
    "    norm=norm,\n",
    "    cbar_kws={'label': 'Percentage'}, \n",
    "    ax=axes[2]\n",
    ")\n",
    "axes[2].set_title('ACF - iSTTC diff')\n",
    "print(diff_pivot_ordered.min().min())\n",
    "print(diff_pivot_ordered.max().max())\n",
    "\n",
    "for ax in axes.flat:\n",
    "    ax.set_xlabel('Error (ms)')\n",
    "    ax.set_ylabel('Signal length (sec)')\n",
    "if save_fig:\n",
    "    plt.savefig(fig_folder + 'taus_dataset_duration_var_heatmaps_colors2.png' , bbox_inches='tight', dpi=300)\n",
    "    plt.savefig(fig_folder + 'taus_dataset_duration_var_heatmaps_colors2.svg' , bbox_inches='tight')"
   ]
  }
 ],
 "metadata": {
  "kernelspec": {
   "display_name": "Python 3 (ipykernel)",
   "language": "python",
   "name": "python3"
  },
  "language_info": {
   "codemirror_mode": {
    "name": "ipython",
    "version": 3
   },
   "file_extension": ".py",
   "mimetype": "text/x-python",
   "name": "python",
   "nbconvert_exporter": "python",
   "pygments_lexer": "ipython3",
   "version": "3.12.9"
  }
 },
 "nbformat": 4,
 "nbformat_minor": 5
}
