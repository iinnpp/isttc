{
 "cells": [
  {
   "cell_type": "markdown",
   "id": "4da579cb-cb2b-4a3b-b83a-0d91833552d6",
   "metadata": {},
   "source": [
    "Data generation"
   ]
  },
  {
   "cell_type": "code",
   "execution_count": 1,
   "id": "b95934c7-5172-4158-8b13-fcb057908108",
   "metadata": {},
   "outputs": [],
   "source": [
    "import numpy as np\n",
    "\n",
    "# add the path to the abcTau package\n",
    "import sys\n",
    "#sys.path.append('./abcTau')\n",
    "sys.path.append('C:\\\\Users\\\\ipochino\\\\AppData\\\\Local\\\\anaconda3\\\\envs\\\\isttc\\\\Lib\\\\site-packages\\\\abcTau') # IP: replaced previous line with that; relative path was not working\n",
    "import abcTau\n",
    "from scipy.optimize import curve_fit\n",
    "from statsmodels.tsa.stattools import acf\n",
    "\n",
    "import os\n",
    "current_wd = os.getcwd()\n",
    "os.chdir(os.path.abspath(\"..\\\\..\\\\..\\\\isttc\\\\scripts\"))\n",
    "#from calculate_tau import fit_single_exp, func_single_exp_monkey\n",
    "from cfg_global import project_folder_path\n",
    "os.chdir(current_wd)"
   ]
  },
  {
   "cell_type": "markdown",
   "id": "048b6381-429d-4eee-9d28-89acac735d35",
   "metadata": {},
   "source": [
    "### Generate time series"
   ]
  },
  {
   "cell_type": "code",
   "execution_count": 2,
   "id": "d2d335f8-82e4-46c6-bd4f-e33126b7802f",
   "metadata": {},
   "outputs": [],
   "source": [
    "save_folder = project_folder_path + 'results\\\\synthetic_data\\\\dataset\\\\'\n",
    "\n",
    "n_signals = 1"
   ]
  },
  {
   "cell_type": "code",
   "execution_count": 31,
   "id": "3190e170-88bb-42b7-b142-31b711eddbd2",
   "metadata": {},
   "outputs": [
    {
     "name": "stdout",
     "output_type": "stream",
     "text": [
      "20\n"
     ]
    }
   ],
   "source": [
    "tau = np.array([100])\n",
    "D = 1/tau\n",
    "deltaT = 1 # 1ms\n",
    "T = 1000\n",
    "numTrials = 1\n",
    "\n",
    "data_mean = 0.002 # average of firing rate\n",
    "data_var = 0.003 # variance of firing rate\n",
    "\n",
    "binSize = 50 # bins size for binning the data for calculating acf\n",
    "binsData =  np.arange(0, T + binSize, binSize)\n",
    "numBinData = len(binsData)-1\n",
    "#print(binsData)\n",
    "print(numBinData)\n",
    "\n",
    "# num_lags = 20\n",
    "# maxTimeLag = int(T/binSize)\n",
    "# print(maxTimeLag)"
   ]
  },
  {
   "cell_type": "code",
   "execution_count": 36,
   "id": "55ebd7ed-2655-4218-b66a-52aaca076486",
   "metadata": {},
   "outputs": [
    {
     "name": "stdout",
     "output_type": "stream",
     "text": [
      "ou.shape:  (1, 1000)\n",
      "(1, 20)\n"
     ]
    }
   ],
   "source": [
    "for signal_ in range(n_signals):\n",
    "    ###############\n",
    "    # OU process \n",
    "    ou = abcTau.OU_gen(tau, D, deltaT, T, numTrials)\n",
    "    print('ou.shape: ', ou.shape)\n",
    "    \n",
    "    # ou_check = np.max(ou)\n",
    "    # print(ou_check)\n",
    "    # # adjust OU process - scale, shift \n",
    "    # ou_std = np.sqrt(data_var)\n",
    "    # ou_mean = data_mean\n",
    "    # ou_all = ou_std * ou + ou_mean # this is scale and shift, where is rectify? - no rectify here, this will come for the Poisson rate\n",
    "    # print('ou_all.shape: ', ou_all.shape)\n",
    "    \n",
    "    ###############\n",
    "    # One tau UO with Poisson spike count\n",
    "    ou_std =  np.sqrt(data_var - data_mean)/deltaT # law of total variance  \n",
    "    ou_mean = data_mean/deltaT # law of total expectation\n",
    "    \n",
    "    # fit mean and var\n",
    "    ou_poisson = ou_std * ou + ou_mean\n",
    "    ou_poisson[ou_poisson < 0] = 0 # rectifying\n",
    "    \n",
    "    # bin rate and generate spikes\n",
    "    # numBin = int(T/deltaT)\n",
    "    ou_poisson_rate_ = abcTau.binData(ou_poisson, [numTrials,numBinData]) * deltaT\n",
    "    ou_poisson_rate = np.random.poisson(ou_poisson_rate_)\n",
    "    \n",
    "    # ###############\n",
    "    # # Going from rate to spikes\n",
    "    # spikeTrain = np.zeros(ou_poisson_rate.shape)\n",
    "    # print(spikeTrain.shape)\n",
    "    \n",
    "    # for i in range(ou_poisson_rate.shape[0]):\n",
    "    #     spikeTrain[i,:] = [1 if ou_poisson_rate[i,j] > np.random.random() else 0 for j in range(ou_poisson_rate.shape[1])]\n",
    "    \n",
    "    # spike_times = np.where(np.squeeze(spikeTrain) == 1)[0]\n",
    "    # print('N spikes {}'.format(spike_times.shape))\n",
    "    \n",
    "    # # bin for ACF calculation\n",
    "    # ou_spiketrain_binned = abcTau.binData(spikeTrain, [numTrials, numBinData]) * deltaT\n",
    "    # print(ou_spiketrain_binned.shape)\n",
    "\n",
    "    # ###############\n",
    "    # Going from rate to spikes - Poisson thinning\n",
    "    binary_spikeTrain = (np.random.random(ou_poisson_rate.shape) < ou_poisson_rate / np.max(ou_poisson_rate)).astype(int)\n",
    "\n",
    "    ou_spiketrain_binned_thinned = abcTau.binData(binary_spikeTrain, [numTrials, numBinData]) * deltaT\n",
    "    print(ou_spiketrain_binned_thinned.shape)\n",
    "\n",
    "    \n",
    "    # # store\n",
    "    # np.save(save_folder + 'spike_times_' + str(signal_) + '.npy', spike_times)\n",
    "    # np.save(save_folder + 'spike_times_thinned_' + str(signal_) + '.npy', binary_spikeTrain)\n",
    "    # np.save(save_folder + 'spike_times_binned_' + str(signal_) + '.npy', ou_spiketrain_binned)"
   ]
  },
  {
   "cell_type": "code",
   "execution_count": 40,
   "id": "f677e78b-d02c-4801-82c6-4c37b84116f8",
   "metadata": {},
   "outputs": [
    {
     "data": {
      "text/plain": [
       "array([[1, 0, 0, 0, 0, 0, 0, 0, 1, 0, 2, 0, 1, 1, 0, 0, 0, 0, 0, 1]],\n",
       "      dtype=int32)"
      ]
     },
     "execution_count": 40,
     "metadata": {},
     "output_type": "execute_result"
    }
   ],
   "source": [
    "ou_poisson_rate"
   ]
  },
  {
   "cell_type": "code",
   "execution_count": 39,
   "id": "dcd02581-d2f4-46eb-a3ef-d233a5670ea4",
   "metadata": {},
   "outputs": [
    {
     "data": {
      "text/plain": [
       "array([[3.06455098e-01, 9.39020804e-01, 0.00000000e+00, 0.00000000e+00,\n",
       "        0.00000000e+00, 0.00000000e+00, 0.00000000e+00, 9.24378953e-01,\n",
       "        1.16206049e-01, 4.12888537e-04, 8.54747962e-01, 1.10406161e+00,\n",
       "        1.20108226e+00, 1.51465172e+00, 4.01128226e-01, 2.80494093e-03,\n",
       "        5.02642038e-03, 6.73552719e-02, 3.58166894e-02, 1.04401235e+00]])"
      ]
     },
     "execution_count": 39,
     "metadata": {},
     "output_type": "execute_result"
    }
   ],
   "source": [
    "ou_poisson_rate_"
   ]
  },
  {
   "cell_type": "code",
   "execution_count": 38,
   "id": "2b8ae7c8-d605-4979-8299-a5de232e13e4",
   "metadata": {},
   "outputs": [
    {
     "data": {
      "text/plain": [
       "array([[1, 0, 0, 0, 0, 0, 0, 0, 0, 0, 1, 0, 1, 1, 0, 0, 0, 0, 0, 1]])"
      ]
     },
     "execution_count": 38,
     "metadata": {},
     "output_type": "execute_result"
    }
   ],
   "source": [
    "binary_spikeTrain"
   ]
  },
  {
   "cell_type": "code",
   "execution_count": null,
   "id": "4fd7493e-6f97-4e89-a300-ec72346ecab2",
   "metadata": {},
   "outputs": [],
   "source": [
    "len(spike_times)/(10*60)"
   ]
  },
  {
   "cell_type": "code",
   "execution_count": null,
   "id": "e02ee13c-6225-4cb6-876b-374634e0dba9",
   "metadata": {},
   "outputs": [],
   "source": [
    "np.count_nonzero(binary_spikeTrain)/(10*60)"
   ]
  },
  {
   "cell_type": "code",
   "execution_count": null,
   "id": "6ab81ed1-f08e-4f03-b808-5c582a5cde80",
   "metadata": {},
   "outputs": [],
   "source": [
    "binary_spikeTrain.shape"
   ]
  },
  {
   "cell_type": "markdown",
   "id": "33b86523-0e46-4e00-ac4b-cbf4de1d0892",
   "metadata": {},
   "source": [
    "#### Check taus"
   ]
  },
  {
   "cell_type": "code",
   "execution_count": null,
   "id": "7fa69ac3-f2ba-4f09-8c7d-4963058a1d9a",
   "metadata": {},
   "outputs": [],
   "source": [
    "def func_exp_abc_like(x, a, tau):\n",
    "    return a * np.exp(-x/tau) \n",
    "\n",
    "disp = None # put the dispersion parameter if computed with grid-search\n",
    "#maxTimeLag = 20 # only used when using autocorrelation for summary statistics\n",
    "summStat_metric = 'comp_cc'\n",
    "ifNorm = True # if normalize the autocorrelation or PSD\n",
    "data_sumStat, data_mean, data_var, T, numTrials =  abcTau.preprocessing.extract_stats(ou_poisson_rate, deltaT, binSize,\n",
    "                                                                                  summStat_metric, ifNorm, maxTimeLag=1000)\n",
    "\n",
    "# summStat_metric = 'comp_cc'\n",
    "# ifNorm = True # if normalize the autocorrelation or PSD\n",
    "# ou_all_data_sumStat, ou_all_data_mean, ou_all_data_var, ou_all_T, ou_all_numTrials =  abcTau.preprocessing.extract_stats(ou_all, deltaT, binSize,\n",
    "#                                                                                   summStat_metric, ifNorm, maxTimeLag)\n",
    "\n",
    "print('data_sumStat {}, data_mean {}, data_var {}, T {}, numTrials {}'.format(data_sumStat, data_mean, data_var, T, numTrials))\n",
    "\n",
    "ou_all_popt, ou_all_pcov = curve_fit(func_exp_abc_like, np.linspace(0,19,20), data_sumStat, maxfev=5000)\n",
    "print(ou_all_popt)\n",
    "ou_all_tau_ms = ou_all_popt[1] * binSize\n",
    "print(ou_all_tau_ms)"
   ]
  },
  {
   "cell_type": "code",
   "execution_count": null,
   "id": "6e63166f-80e2-4455-a1fe-9c4ae7b7e69d",
   "metadata": {},
   "outputs": [],
   "source": [
    "ou_spiketrain_binned[0].shape"
   ]
  },
  {
   "cell_type": "code",
   "execution_count": null,
   "id": "c059d535-5b1e-4df1-816c-a10c55e451ed",
   "metadata": {},
   "outputs": [],
   "source": [
    "# Using acf func\n",
    "num_lags = 20\n",
    "ou_all_acf = acf(ou_spiketrain_binned[0], nlags=num_lags)\n",
    "print('ou_all_acf: {}'.format(ou_all_acf))\n",
    "\n",
    "# Using curve_fit\n",
    "ou_all_popt, ou_all_pcov = curve_fit(func_exp_abc_like, np.linspace(0,20,21), ou_all_acf, maxfev=5000)\n",
    "\n",
    "ou_all_tau_ms = ou_all_popt[1] * binSize\n",
    "print(ou_all_tau_ms)"
   ]
  },
  {
   "cell_type": "code",
   "execution_count": null,
   "id": "14ccfde2-5a51-41ea-9176-c0194e539c08",
   "metadata": {},
   "outputs": [],
   "source": [
    "# Using acf func\n",
    "num_lags = 20\n",
    "ou_all_acf = acf(ou_spiketrain_binned_thinned[0], nlags=num_lags)\n",
    "print('ou_all_acf: {}'.format(ou_all_acf))\n",
    "\n",
    "# Using curve_fit\n",
    "ou_all_popt, ou_all_pcov = curve_fit(func_exp_abc_like, np.linspace(0,20,21), ou_all_acf, maxfev=5000)\n",
    "\n",
    "ou_all_tau_ms = ou_all_popt[1] * binSize\n",
    "print(ou_all_tau_ms)"
   ]
  },
  {
   "cell_type": "code",
   "execution_count": null,
   "id": "5c398440-4f2c-4daf-b96a-e6158d419dae",
   "metadata": {},
   "outputs": [],
   "source": [
    "ou_all_tau_ms = ou_all_popt[1] * binSize\n",
    "print(ou_all_tau_ms)"
   ]
  }
 ],
 "metadata": {
  "kernelspec": {
   "display_name": "Python 3 (ipykernel)",
   "language": "python",
   "name": "python3"
  },
  "language_info": {
   "codemirror_mode": {
    "name": "ipython",
    "version": 3
   },
   "file_extension": ".py",
   "mimetype": "text/x-python",
   "name": "python",
   "nbconvert_exporter": "python",
   "pygments_lexer": "ipython3",
   "version": "3.12.9"
  }
 },
 "nbformat": 4,
 "nbformat_minor": 5
}
