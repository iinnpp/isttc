{
 "cells": [
  {
   "cell_type": "code",
   "execution_count": 1,
   "id": "33aee8d9-673e-4302-b31b-e56b96b123e9",
   "metadata": {},
   "outputs": [],
   "source": [
    "import numpy as np\n",
    "import pandas as pd\n",
    "import pickle\n",
    "import random\n",
    "import joypy\n",
    "\n",
    "import os\n",
    "current_wd = os.getcwd()\n",
    "os.chdir(os.path.abspath(\"..\\\\..\\\\..\\\\isttc\\\\scripts\"))\n",
    "from cfg_global import project_folder_path\n",
    "os.chdir(current_wd)\n",
    "\n",
    "import matplotlib as mpl\n",
    "import matplotlib.pyplot as plt\n",
    "from matplotlib.colors import TwoSlopeNorm\n",
    "from matplotlib.colors import LinearSegmentedColormap\n",
    "import seaborn as sns\n",
    "\n",
    "mpl.rcParams['pdf.fonttype'] = 42\n",
    "mpl.rcParams['ps.fonttype'] = 42\n",
    "plt.rcParams['svg.fonttype'] = 'none'"
   ]
  },
  {
   "cell_type": "code",
   "execution_count": 5,
   "id": "0ca96473-a0d8-461a-be79-b2c2ef2d4662",
   "metadata": {},
   "outputs": [],
   "source": [
    "dataset_folder = project_folder_path + 'results\\\\synthetic\\\\dataset\\\\fig2_3_4a\\\\'\n",
    "results_folder = project_folder_path + 'results\\\\synthetic\\\\results\\\\param_fr_alpha_tau\\\\'\n",
    "fig_folder = project_folder_path + 'results\\\\synthetic\\\\fig_drafts_paper\\\\'"
   ]
  },
  {
   "cell_type": "code",
   "execution_count": 6,
   "id": "a71b55e4-1624-4e7c-a604-86898fa572ce",
   "metadata": {},
   "outputs": [],
   "source": [
    "save_fig = False"
   ]
  },
  {
   "cell_type": "markdown",
   "id": "ec52b4bc-f454-41cf-b175-39758c89e077",
   "metadata": {},
   "source": [
    "### Load data"
   ]
  },
  {
   "cell_type": "code",
   "execution_count": 7,
   "id": "d81cb21a-5b2a-4723-8bb4-6c0ede168bc0",
   "metadata": {},
   "outputs": [
    {
     "name": "stdout",
     "output_type": "stream",
     "text": [
      "n spike trains 100000, len 598.8243581617338, duration_ms 600000\n"
     ]
    }
   ],
   "source": [
    "with open(dataset_folder + '1_spike_trains_3params_var_len600sec_100000.pkl','rb') as f:\n",
    "    data = pickle.load(f)\n",
    "\n",
    "spike_trains = data['spike_trains']\n",
    "alphas = data['alphas']\n",
    "fr_values = data['fr_values']\n",
    "taus_ms = data['tau_ms']\n",
    "duration_ms = data['duration_ms']\n",
    "\n",
    "print(f'n spike trains {len(spike_trains)}, len {spike_trains[0][-1]/1000}, duration_ms {duration_ms}')"
   ]
  },
  {
   "cell_type": "code",
   "execution_count": 8,
   "id": "73168ac0-59c6-4e9d-942a-fbccfc92232c",
   "metadata": {},
   "outputs": [
    {
     "name": "stdout",
     "output_type": "stream",
     "text": [
      "len pearsonr_trial_avg_40_dict 100000\n",
      "len sttc_trial_concat_40_dict 100000\n",
      "len pearsonr_trial_avg_60_dict 100000\n",
      "len sttc_trial_concat_60_dict 100000\n",
      "len pearsonr_trial_avg_80_dict 100000\n",
      "len sttc_trial_concat_80_dict 100000\n",
      "len pearsonr_trial_avg_100_dict 100000\n",
      "len sttc_trial_concat_100_dict 100000\n"
     ]
    }
   ],
   "source": [
    "# 40 trials\n",
    "with open(results_folder + 'pearsonr_trial_avg_50ms_dict.pkl', \"rb\") as f:\n",
    "    pearsonr_trial_avg_40_dict = pickle.load(f)\n",
    "\n",
    "with open(results_folder + 'sttc_trial_concat_50ms_dict.pkl', \"rb\") as f:\n",
    "    sttc_trial_concat_40_dict = pickle.load(f)\n",
    "\n",
    "# 60 trials\n",
    "with open(results_folder + 'pearsonr_trial_avg_50ms_60_trials_dict.pkl', \"rb\") as f:\n",
    "    pearsonr_trial_avg_60_dict = pickle.load(f)\n",
    "\n",
    "with open(results_folder + 'sttc_trial_concat_50ms_60_trials_dict.pkl', \"rb\") as f:\n",
    "    sttc_trial_concat_60_dict = pickle.load(f)\n",
    "\n",
    "# 80 trials\n",
    "with open(results_folder + 'pearsonr_trial_avg_50ms_80_trials_dict.pkl', \"rb\") as f:\n",
    "    pearsonr_trial_avg_80_dict = pickle.load(f)\n",
    "\n",
    "with open(results_folder + 'sttc_trial_concat_50ms_80_trials_dict.pkl', \"rb\") as f:\n",
    "    sttc_trial_concat_80_dict = pickle.load(f)\n",
    "\n",
    "# 100 trials\n",
    "with open(results_folder + 'pearsonr_trial_avg_50ms_100_trials_dict.pkl', \"rb\") as f:\n",
    "    pearsonr_trial_avg_100_dict = pickle.load(f)\n",
    "\n",
    "with open(results_folder + 'sttc_trial_concat_50ms_100_trials_dict.pkl', \"rb\") as f:\n",
    "    sttc_trial_concat_100_dict = pickle.load(f)\n",
    "\n",
    "print(f'len pearsonr_trial_avg_40_dict {len(pearsonr_trial_avg_40_dict)}')\n",
    "print(f'len sttc_trial_concat_40_dict {len(sttc_trial_concat_40_dict)}')\n",
    "\n",
    "print(f'len pearsonr_trial_avg_60_dict {len(pearsonr_trial_avg_60_dict)}')\n",
    "print(f'len sttc_trial_concat_60_dict {len(sttc_trial_concat_60_dict)}')\n",
    "\n",
    "print(f'len pearsonr_trial_avg_80_dict {len(pearsonr_trial_avg_80_dict)}')\n",
    "print(f'len sttc_trial_concat_80_dict {len(sttc_trial_concat_80_dict)}')\n",
    "\n",
    "print(f'len pearsonr_trial_avg_100_dict {len(pearsonr_trial_avg_100_dict)}')\n",
    "print(f'len sttc_trial_concat_100_dict {len(sttc_trial_concat_100_dict)}')"
   ]
  },
  {
   "cell_type": "markdown",
   "id": "c9b6636c-13fc-440a-814a-e5e1fd2e3550",
   "metadata": {},
   "source": [
    "### Make summary dfs"
   ]
  },
  {
   "cell_type": "code",
   "execution_count": 9,
   "id": "155564bc-78a7-4e46-b4f2-f962e092a9ff",
   "metadata": {},
   "outputs": [
    {
     "name": "stdout",
     "output_type": "stream",
     "text": [
      "acf_cols ['acf_0', 'acf_1', 'acf_2', 'acf_3', 'acf_4', 'acf_5', 'acf_6', 'acf_7', 'acf_8', 'acf_9', 'acf_10', 'acf_11', 'acf_12', 'acf_13', 'acf_14', 'acf_15', 'acf_16', 'acf_17', 'acf_18', 'acf_19', 'acf_20']\n"
     ]
    }
   ],
   "source": [
    "n_lags = 20\n",
    "acf_cols = ['acf_' + str(i) for i in range(n_lags+1)]\n",
    "print('acf_cols {}'.format(acf_cols))"
   ]
  },
  {
   "cell_type": "code",
   "execution_count": 10,
   "id": "361933c2-29e6-489b-9b10-3c8636ba14ed",
   "metadata": {},
   "outputs": [],
   "source": [
    "def calculate_acf_decline_flag(acf_, start_idx=1, end_idx=4):\n",
    "    acf_decay = np.all(np.diff(acf_[start_idx:end_idx]) <= 0)\n",
    "    return acf_decay"
   ]
  },
  {
   "cell_type": "code",
   "execution_count": 11,
   "id": "e2b5c9df-7d35-4f5c-a618-7738cba91aa0",
   "metadata": {},
   "outputs": [],
   "source": [
    "def get_trials_plot_df(trial_dict_, method_, n_iteration_=None):\n",
    "    records = []\n",
    "    for unit_id, data in trial_dict_.items():\n",
    "        taus = data['taus']\n",
    "        acfs = data['acf']\n",
    "\n",
    "        if n_iteration_ is not None:\n",
    "            # only one trial per unit\n",
    "            idx = n_iteration_[unit_id]\n",
    "            taus_to_iter = [(taus[idx], acfs[idx])]\n",
    "        else:\n",
    "            # all trials for this unit\n",
    "            taus_to_iter = zip(taus, acfs)\n",
    "\n",
    "        for tau_dict, acf_array in taus_to_iter:\n",
    "            records.append({\n",
    "                'unit_id': unit_id,\n",
    "                'tau': tau_dict['tau'],\n",
    "                'tau_lower': tau_dict['tau_lower'],\n",
    "                'tau_upper': tau_dict['tau_upper'],\n",
    "                'fit_r_squared': tau_dict['fit_r_squared'],\n",
    "                'decline_150_250': calculate_acf_decline_flag(acf_array, start_idx=1, end_idx=4),\n",
    "                'method': method_,\n",
    "            })\n",
    "\n",
    "    df = pd.DataFrame.from_records(records)\n",
    "    df['tau_ms'] = df['tau'] * 50\n",
    "\n",
    "    nan_count = df.isna().any(axis=1).sum()\n",
    "    if nan_count > 0:\n",
    "        print(f'N rows with NaNs {nan_count}')\n",
    "\n",
    "    return df"
   ]
  },
  {
   "cell_type": "code",
   "execution_count": 13,
   "id": "a89ae18b-1303-4207-bdf1-f8900bf821d6",
   "metadata": {},
   "outputs": [],
   "source": [
    "def get_df_for_ntrials(pearsonr_trial_avg_dict, sttc_trial_concat_dict, n_trials):\n",
    "    # for trial based measures one realization of trials is taken\n",
    "    random_trials_impl = np.zeros(len(sttc_trial_concat_40_dict)).astype(int)\n",
    "    \n",
    "    pearsontr_trial_avg_plot_df = get_trials_plot_df(pearsonr_trial_avg_dict, 'pearsonr_trial_avg', random_trials_impl)\n",
    "    sttc_trial_concat_plot_df = get_trials_plot_df(sttc_trial_concat_dict, 'sttc_trial_concat', random_trials_impl)\n",
    "    \n",
    "    pearsontr_trial_avg_plot_df['fr'] = fr_values\n",
    "    pearsontr_trial_avg_plot_df['alpha'] = alphas\n",
    "    pearsontr_trial_avg_plot_df['tau_ms_true'] = taus_ms\n",
    "    pearsontr_trial_avg_plot_df['tau_diff_abs'] = np.abs(pearsontr_trial_avg_plot_df['tau_ms'] - pearsontr_trial_avg_plot_df['tau_ms_true'])\n",
    "    pearsontr_trial_avg_plot_df['tau_diff_rel'] = pearsontr_trial_avg_plot_df['tau_diff_abs'] / pearsontr_trial_avg_plot_df['tau_ms_true'] * 100\n",
    "    pearsontr_trial_avg_plot_df['n_trials'] = n_trials\n",
    "    \n",
    "    sttc_trial_concat_plot_df['fr'] = fr_values\n",
    "    sttc_trial_concat_plot_df['alpha'] = alphas\n",
    "    sttc_trial_concat_plot_df['tau_ms_true'] = taus_ms\n",
    "    sttc_trial_concat_plot_df['tau_diff_abs'] = np.abs(sttc_trial_concat_plot_df['tau_ms'] - sttc_trial_concat_plot_df['tau_ms_true'])\n",
    "    sttc_trial_concat_plot_df['tau_diff_rel'] = sttc_trial_concat_plot_df['tau_diff_abs'] / sttc_trial_concat_plot_df['tau_ms_true'] * 100\n",
    "    sttc_trial_concat_plot_df['n_trials'] = n_trials\n",
    "\n",
    "    # check for NaNs and for a long df remove rows with NaNs (if for a unit one method failed than remove it)\n",
    "    rows_with_nans_pearsonr_df = pearsontr_trial_avg_plot_df[pearsontr_trial_avg_plot_df.isna().any(axis=1)]\n",
    "    n_rows_with_nan_pearsonr = len(rows_with_nans_pearsonr_df)\n",
    "    print(f'N rows with NaNs {n_rows_with_nan_pearsonr}')\n",
    "    \n",
    "    rows_with_nans_isttc_concat_df = sttc_trial_concat_plot_df[sttc_trial_concat_plot_df.isna().any(axis=1)]\n",
    "    n_rows_with_nan_isttc_concat = len(rows_with_nans_isttc_concat_df)\n",
    "    print(f'N rows with NaNs {n_rows_with_nan_isttc_concat}')\n",
    "    \n",
    "    pearsonr_nan_unit_ids = rows_with_nans_pearsonr_df['unit_id'].values\n",
    "    sttc_concat_nan_unit_ids = rows_with_nans_isttc_concat_df['unit_id'].values\n",
    "    \n",
    "    unit_ids_nan_union = set(pearsonr_nan_unit_ids).union(sttc_concat_nan_unit_ids)\n",
    "    print(f'N rows in unit_ids_nan_union {len(unit_ids_nan_union)}')\n",
    "    \n",
    "    # take rows without NaNs\n",
    "    pearsonr_sans_nans_plot_df = pearsontr_trial_avg_plot_df[~pearsontr_trial_avg_plot_df['unit_id'].isin(unit_ids_nan_union)]\n",
    "    sttc_concat_sans_nans_plot_df = sttc_trial_concat_plot_df[~sttc_trial_concat_plot_df['unit_id'].isin(unit_ids_nan_union)]\n",
    "    \n",
    "    print(f'len pearsonr {len(pearsonr_sans_nans_plot_df)}, len sttc_concat {len(sttc_concat_sans_nans_plot_df)}')\n",
    "\n",
    "    # check for negative R-square\n",
    "    rows_with_negr_pearsonr_df = pearsonr_sans_nans_plot_df.query('fit_r_squared < 0')\n",
    "    n_rows_with_negr_pearsonr = len(rows_with_negr_pearsonr_df)\n",
    "    print(f'N rows with neg R {n_rows_with_negr_pearsonr}')\n",
    "    \n",
    "    rows_with_negr_isttc_concat_df = sttc_concat_sans_nans_plot_df.query('fit_r_squared < 0')\n",
    "    n_rows_with_negr_isttc_concat = len(rows_with_negr_isttc_concat_df)\n",
    "    print(f'N rows with neg R {n_rows_with_negr_isttc_concat}')\n",
    "    \n",
    "    pearsonr_negr_unit_ids = rows_with_negr_pearsonr_df['unit_id'].values\n",
    "    isttc_concat_negr_unit_ids = rows_with_negr_isttc_concat_df['unit_id'].values\n",
    "    \n",
    "    unit_ids_negr_union = set(pearsonr_negr_unit_ids).union(isttc_concat_negr_unit_ids)\n",
    "    print(f'N rows in unit_ids_negr_union {len(unit_ids_negr_union)}')\n",
    "    \n",
    "    pearsonr_sans_negr_plot_df = pearsonr_sans_nans_plot_df[~pearsonr_sans_nans_plot_df['unit_id'].isin(unit_ids_negr_union)].copy()\n",
    "    sttc_concat_sans_negr_plot_df = sttc_concat_sans_nans_plot_df[~sttc_concat_sans_nans_plot_df['unit_id'].isin(unit_ids_negr_union)].copy()\n",
    "    \n",
    "    pearsonr_sans_negr_plot_df['tau_diff_rel_log10'] = np.log10(pearsonr_sans_negr_plot_df['tau_diff_rel'])\n",
    "    sttc_concat_sans_negr_plot_df['tau_diff_rel_log10'] = np.log10(sttc_concat_sans_negr_plot_df['tau_diff_rel'])\n",
    "    \n",
    "    print(f'len pearsonr {len(pearsonr_sans_negr_plot_df)}, len sttc_concat {len(sttc_concat_sans_negr_plot_df)}')\n",
    "\n",
    "    return pearsonr_sans_negr_plot_df, sttc_concat_sans_negr_plot_df\n",
    "    # return pearsontr_trial_avg_plot_df, sttc_trial_concat_plot_df # temp return to get long df for inclusion stuff"
   ]
  },
  {
   "cell_type": "code",
   "execution_count": 14,
   "id": "6a266987-c3db-4c20-9023-6a543860473f",
   "metadata": {},
   "outputs": [
    {
     "name": "stdout",
     "output_type": "stream",
     "text": [
      "N rows with NaNs 12393\n",
      "N rows with NaNs 12393\n",
      "N rows with NaNs 0\n",
      "N rows in unit_ids_nan_union 12393\n",
      "len pearsonr 87607, len sttc_concat 87607\n",
      "N rows with neg R 4201\n",
      "N rows with neg R 4295\n",
      "N rows in unit_ids_negr_union 6000\n",
      "len pearsonr 81607, len sttc_concat 81607\n"
     ]
    }
   ],
   "source": [
    "pearsonr_sans_negr_plot_40_df, sttc_concat_sans_negr_plot_40_df = get_df_for_ntrials(pearsonr_trial_avg_40_dict, sttc_trial_concat_40_dict, 40)"
   ]
  },
  {
   "cell_type": "code",
   "execution_count": 15,
   "id": "269eddd8-b722-4923-a016-42c605f6e22e",
   "metadata": {},
   "outputs": [
    {
     "name": "stdout",
     "output_type": "stream",
     "text": [
      "N rows with NaNs 8373\n",
      "N rows with NaNs 8373\n",
      "N rows with NaNs 0\n",
      "N rows in unit_ids_nan_union 8373\n",
      "len pearsonr 91627, len sttc_concat 91627\n",
      "N rows with neg R 3284\n",
      "N rows with neg R 3351\n",
      "N rows in unit_ids_negr_union 4731\n",
      "len pearsonr 86896, len sttc_concat 86896\n"
     ]
    }
   ],
   "source": [
    "pearsonr_sans_negr_plot_60_df, sttc_concat_sans_negr_plot_60_df = get_df_for_ntrials(pearsonr_trial_avg_60_dict, sttc_trial_concat_60_dict, 60)"
   ]
  },
  {
   "cell_type": "code",
   "execution_count": 16,
   "id": "2748709a-f6c5-4318-b430-42ac92f2b6a8",
   "metadata": {},
   "outputs": [
    {
     "name": "stdout",
     "output_type": "stream",
     "text": [
      "N rows with NaNs 6228\n",
      "N rows with NaNs 6228\n",
      "N rows with NaNs 0\n",
      "N rows in unit_ids_nan_union 6228\n",
      "len pearsonr 93772, len sttc_concat 93772\n",
      "N rows with neg R 2676\n",
      "N rows with neg R 2748\n",
      "N rows in unit_ids_negr_union 3852\n",
      "len pearsonr 89920, len sttc_concat 89920\n"
     ]
    }
   ],
   "source": [
    "pearsonr_sans_negr_plot_80_df, sttc_concat_sans_negr_plot_80_df = get_df_for_ntrials(pearsonr_trial_avg_80_dict, sttc_trial_concat_80_dict, 80)"
   ]
  },
  {
   "cell_type": "code",
   "execution_count": 17,
   "id": "fd19da92-f7b2-40db-8479-cfd6eaa94616",
   "metadata": {},
   "outputs": [
    {
     "name": "stdout",
     "output_type": "stream",
     "text": [
      "N rows with NaNs 4941\n",
      "N rows with NaNs 4941\n",
      "N rows with NaNs 0\n",
      "N rows in unit_ids_nan_union 4941\n",
      "len pearsonr 95059, len sttc_concat 95059\n",
      "N rows with neg R 2253\n",
      "N rows with neg R 2329\n",
      "N rows in unit_ids_negr_union 3259\n",
      "len pearsonr 91800, len sttc_concat 91800\n"
     ]
    }
   ],
   "source": [
    "pearsonr_sans_negr_plot_100_df, sttc_concat_sans_negr_plot_100_df = get_df_for_ntrials(pearsonr_trial_avg_100_dict, sttc_trial_concat_100_dict, 100)"
   ]
  },
  {
   "cell_type": "code",
   "execution_count": 18,
   "id": "9b056e18-c8ba-4a0b-b26d-7302529ef79c",
   "metadata": {},
   "outputs": [
    {
     "name": "stdout",
     "output_type": "stream",
     "text": [
      "len tau_plot_long_df 800000\n"
     ]
    },
    {
     "data": {
      "text/html": [
       "<div>\n",
       "<style scoped>\n",
       "    .dataframe tbody tr th:only-of-type {\n",
       "        vertical-align: middle;\n",
       "    }\n",
       "\n",
       "    .dataframe tbody tr th {\n",
       "        vertical-align: top;\n",
       "    }\n",
       "\n",
       "    .dataframe thead th {\n",
       "        text-align: right;\n",
       "    }\n",
       "</style>\n",
       "<table border=\"1\" class=\"dataframe\">\n",
       "  <thead>\n",
       "    <tr style=\"text-align: right;\">\n",
       "      <th></th>\n",
       "      <th>unit_id</th>\n",
       "      <th>tau</th>\n",
       "      <th>tau_lower</th>\n",
       "      <th>tau_upper</th>\n",
       "      <th>fit_r_squared</th>\n",
       "      <th>decline_150_250</th>\n",
       "      <th>method</th>\n",
       "      <th>tau_ms</th>\n",
       "      <th>fr</th>\n",
       "      <th>alpha</th>\n",
       "      <th>tau_ms_true</th>\n",
       "      <th>tau_diff_abs</th>\n",
       "      <th>tau_diff_rel</th>\n",
       "      <th>n_trials</th>\n",
       "      <th>log_tau_ms</th>\n",
       "    </tr>\n",
       "  </thead>\n",
       "  <tbody>\n",
       "    <tr>\n",
       "      <th>0</th>\n",
       "      <td>0</td>\n",
       "      <td>5.054998</td>\n",
       "      <td>3.814326</td>\n",
       "      <td>6.295671</td>\n",
       "      <td>0.972005</td>\n",
       "      <td>True</td>\n",
       "      <td>pearsonr_trial_avg</td>\n",
       "      <td>252.749919</td>\n",
       "      <td>7.741821</td>\n",
       "      <td>0.851099</td>\n",
       "      <td>150.923515</td>\n",
       "      <td>101.826404</td>\n",
       "      <td>67.468879</td>\n",
       "      <td>40</td>\n",
       "      <td>2.402691</td>\n",
       "    </tr>\n",
       "    <tr>\n",
       "      <th>1</th>\n",
       "      <td>1</td>\n",
       "      <td>2.020436</td>\n",
       "      <td>1.463506</td>\n",
       "      <td>2.577366</td>\n",
       "      <td>0.944998</td>\n",
       "      <td>True</td>\n",
       "      <td>pearsonr_trial_avg</td>\n",
       "      <td>101.021800</td>\n",
       "      <td>4.394396</td>\n",
       "      <td>0.858098</td>\n",
       "      <td>147.947233</td>\n",
       "      <td>46.925433</td>\n",
       "      <td>31.717682</td>\n",
       "      <td>40</td>\n",
       "      <td>2.004415</td>\n",
       "    </tr>\n",
       "    <tr>\n",
       "      <th>2</th>\n",
       "      <td>2</td>\n",
       "      <td>79.998685</td>\n",
       "      <td>-668.898176</td>\n",
       "      <td>828.895547</td>\n",
       "      <td>0.773955</td>\n",
       "      <td>False</td>\n",
       "      <td>pearsonr_trial_avg</td>\n",
       "      <td>3999.934263</td>\n",
       "      <td>8.587393</td>\n",
       "      <td>0.528805</td>\n",
       "      <td>267.002290</td>\n",
       "      <td>3732.931973</td>\n",
       "      <td>1398.089874</td>\n",
       "      <td>40</td>\n",
       "      <td>3.602053</td>\n",
       "    </tr>\n",
       "  </tbody>\n",
       "</table>\n",
       "</div>"
      ],
      "text/plain": [
       "   unit_id        tau   tau_lower   tau_upper  fit_r_squared  decline_150_250  \\\n",
       "0        0   5.054998    3.814326    6.295671       0.972005             True   \n",
       "1        1   2.020436    1.463506    2.577366       0.944998             True   \n",
       "2        2  79.998685 -668.898176  828.895547       0.773955            False   \n",
       "\n",
       "               method       tau_ms        fr     alpha  tau_ms_true  \\\n",
       "0  pearsonr_trial_avg   252.749919  7.741821  0.851099   150.923515   \n",
       "1  pearsonr_trial_avg   101.021800  4.394396  0.858098   147.947233   \n",
       "2  pearsonr_trial_avg  3999.934263  8.587393  0.528805   267.002290   \n",
       "\n",
       "   tau_diff_abs  tau_diff_rel  n_trials  log_tau_ms  \n",
       "0    101.826404     67.468879        40    2.402691  \n",
       "1     46.925433     31.717682        40    2.004415  \n",
       "2   3732.931973   1398.089874        40    3.602053  "
      ]
     },
     "execution_count": 18,
     "metadata": {},
     "output_type": "execute_result"
    }
   ],
   "source": [
    "tau_plot_long_df = pd.concat([pearsonr_sans_negr_plot_40_df, \n",
    "                              sttc_concat_sans_negr_plot_40_df, \n",
    "                              pearsonr_sans_negr_plot_60_df, \n",
    "                              sttc_concat_sans_negr_plot_60_df,\n",
    "                              pearsonr_sans_negr_plot_80_df, \n",
    "                              sttc_concat_sans_negr_plot_80_df,\n",
    "                              pearsonr_sans_negr_plot_100_df, \n",
    "                              sttc_concat_sans_negr_plot_100_df])\n",
    "tau_plot_long_df['log_tau_ms'] = np.log10(tau_plot_long_df['tau_ms'])\n",
    "tau_plot_long_df.reset_index(inplace=True, drop=True)\n",
    "\n",
    "print(f'len tau_plot_long_df {len(tau_plot_long_df)}')\n",
    "\n",
    "tau_plot_long_df.head(3)"
   ]
  },
  {
   "cell_type": "code",
   "execution_count": 20,
   "id": "e4bd14be-9ebb-461f-8eda-96302a8b4098",
   "metadata": {},
   "outputs": [],
   "source": [
    "tau_plot_long_df.to_pickle(results_folder + 'tau_plot_long_var_trials_with_nans_df.pkl')"
   ]
  },
  {
   "cell_type": "markdown",
   "id": "a6dc0178-2a82-4c45-bd68-e45099ed8995",
   "metadata": {},
   "source": [
    "### Export for stats"
   ]
  },
  {
   "cell_type": "code",
   "execution_count": null,
   "id": "9a26a0f6-f3ca-4084-92f9-7618bd11c485",
   "metadata": {},
   "outputs": [],
   "source": [
    "tau_plot_long_df.to_csv(results_folder + 'tau_plot_long_trials_parametric_df.csv')"
   ]
  },
  {
   "cell_type": "markdown",
   "id": "b9a331af-7f8e-4324-92aa-6bb726c54a68",
   "metadata": {},
   "source": [
    "### Plots"
   ]
  },
  {
   "cell_type": "code",
   "execution_count": null,
   "id": "17c5a647-a843-438c-9e53-5dd3da92fc22",
   "metadata": {},
   "outputs": [],
   "source": [
    "color_pearson_trail_avg = '#f4a91c' \n",
    "color_sttc_trail_concat = '#955da2' \n",
    "\n",
    "colors = [color_pearson_trail_avg, color_sttc_trail_concat]"
   ]
  },
  {
   "cell_type": "code",
   "execution_count": null,
   "id": "fd72d55a-cdce-46ea-89a5-680efd5f3b5f",
   "metadata": {},
   "outputs": [],
   "source": [
    "# tau_plot_wide_df = acf_full_plot_df.merge(isttc_full_plot_df, suffixes=('_acf', '_isttc'), \n",
    "#                                           on=['unit_id','fr', 'alpha', 'tau_ms_true', 'duration_ms', 'duration_s', 'dur_interval'], \n",
    "#                                           how='left')\n",
    "# tau_plot_wide_df.reset_index(inplace=True, drop=True)\n",
    "\n",
    "# print(f'len tau_plot_wide_df {len(tau_plot_wide_df)}')\n",
    "\n",
    "# tau_plot_wide_df.columns"
   ]
  },
  {
   "cell_type": "code",
   "execution_count": null,
   "id": "19ff7151-b580-4a11-9757-4473305653dc",
   "metadata": {},
   "outputs": [],
   "source": [
    "# just to check, I plot the same as predicted values from the model\n",
    "fig, axes = plt.subplots(1,1, figsize=(5, 3), sharey=False)\n",
    "\n",
    "sns.regplot(x='n_trials', y='tau_diff_rel_log10', data=tau_plot_long_df.query('method == \"pearsonr_trial_avg\"'),\n",
    "            scatter=None, ax=axes, \n",
    "            label='pearsonr', color=color_pearson_trail_avg)\n",
    "sns.regplot(x='n_trials', y='tau_diff_rel_log10', data=tau_plot_long_df.query('method == \"sttc_trial_concat\"'),\n",
    "            scatter=None, ax=axes, \n",
    "            label='isttc_concat', color=color_sttc_trail_concat)\n",
    "axes.legend(frameon=False)\n",
    "axes.set_xlabel('Number of trials')\n",
    "\n",
    "# for ax in axes.flat:\n",
    "#     ax.set_ylabel('Log10 diff(IT, \\nground truth) (ms)')\n",
    "\n",
    "sns.despine()"
   ]
  },
  {
   "cell_type": "code",
   "execution_count": null,
   "id": "3a382ba4-0721-4b5b-aba1-b451facd06be",
   "metadata": {},
   "outputs": [],
   "source": [
    "tau_plot_long_df.groupby(by=['method', 'n_trials'], as_index=False)['tau_diff_rel'].describe()"
   ]
  },
  {
   "cell_type": "code",
   "execution_count": null,
   "id": "d1558209-c5b3-4976-bf00-9525ff88ddb2",
   "metadata": {},
   "outputs": [],
   "source": [
    "method_order = ['pearsonr_trial_avg', 'sttc_trial_concat']\n",
    "fig, axes = plt.subplots(1,2, figsize=(10, 4))\n",
    "\n",
    "sns.violinplot(x='method', y='tau_diff_rel', hue='method', order=method_order, hue_order=method_order, \n",
    "               palette=colors, data=tau_plot_long_df, cut=0, ax=axes[0])\n",
    "\n",
    "# sns.violinplot(x='method', y='tau_diff_rel_log10', hue='n_trials', order=method_order, hue_order=method_order, \n",
    "#                palette=colors, data=tau_plot_long_df, cut=0, ax=axes[1])\n",
    "sns.violinplot(x='method', y='tau_diff_rel_log10', hue='n_trials', order=method_order, hue_order=[40, 60, 80], \n",
    "               palette=['gray', 'lightgray'], data=tau_plot_long_df, cut=0, ax=axes[1])\n",
    "\n",
    "axes[1].set_yticks(np.linspace(-2, 6, 9))\n",
    "\n",
    "axes[1].grid(True, which=\"both\", axis='y', linestyle=\"--\", linewidth=0.5, alpha=0.7)\n",
    "axes[0].grid(True, which=\"both\", axis='y', linestyle=\"--\", linewidth=0.5, alpha=0.7)\n",
    "\n",
    "sns.despine()"
   ]
  },
  {
   "cell_type": "code",
   "execution_count": null,
   "id": "67b60d0d-3e2f-46e1-88e1-1f0d9230ba9d",
   "metadata": {},
   "outputs": [],
   "source": [
    "# intervals for error plots\n",
    "intervals = {\n",
    "    '+-100':   (0,   100),\n",
    "    '+-75':  (0,  75),\n",
    "    '+-50':  (0,  50),\n",
    "    '+-25':  (0,  25),\n",
    "}\n",
    "\n",
    "tau_3methods_df = tau_plot_long_df[['unit_id', 'method', 'n_trials', 'tau_ms_true', 'tau_ms', 'tau_diff_abs',\n",
    "       'tau_diff_rel', 'tau_diff_rel_log10', 'log_tau_ms']].copy()\n",
    "tau_3methods_df.reset_index(inplace=True, drop=True)\n",
    "\n",
    "df = tau_3methods_df.copy()\n",
    "rows = []\n",
    "for method, sub in df.groupby(by=['method','n_trials']):\n",
    "    total = len(sub)\n",
    "    row = {'method': method}\n",
    "    for name, (lo, hi) in intervals.items():\n",
    "        cnt = sub['tau_diff_rel'].between(lo, hi).sum()\n",
    "        row[name] = cnt/total*100\n",
    "    rows.append(row)\n",
    "tau_3methods_error_df = pd.DataFrame(rows).set_index('method')\n",
    "\n",
    "# make long df\n",
    "tau_3methods_error_df = tau_3methods_error_df.reset_index()\n",
    "tau_3methods_error_long_df = tau_3methods_error_df.melt(\n",
    "    id_vars='method',\n",
    "    var_name='interval',\n",
    "    value_name='percentage'\n",
    ")\n",
    "\n",
    "tau_3methods_error_long_df[['method','n_trials']] = pd.DataFrame(\n",
    "    tau_3methods_error_long_df['method'].tolist(),\n",
    "    index=tau_3methods_error_long_df.index\n",
    ")\n",
    "tau_3methods_error_long_df = tau_3methods_error_long_df.rename(columns={'interval':'error_interval'})\n",
    "tau_3methods_error_long_df = tau_3methods_error_long_df[['method','n_trials','error_interval','percentage']]"
   ]
  },
  {
   "cell_type": "code",
   "execution_count": null,
   "id": "34390101-34ff-4ec5-906c-717b118d4c06",
   "metadata": {},
   "outputs": [],
   "source": [
    "tau_3methods_error_long_df"
   ]
  },
  {
   "cell_type": "code",
   "execution_count": null,
   "id": "3ce7782c-e50f-4086-a073-9d120786634a",
   "metadata": {},
   "outputs": [],
   "source": [
    "# prep for heatmaps\n",
    "# ACF\n",
    "pearsonr_trial_avg = tau_3methods_error_long_df[\n",
    "    tau_3methods_error_long_df['method']=='pearsonr_trial_avg'\n",
    "]\n",
    "pearsonr_trial_avg_pivot = pearsonr_trial_avg.pivot(\n",
    "    index='n_trials',\n",
    "    columns='error_interval',\n",
    "    values='percentage'\n",
    ")\n",
    "\n",
    "# ISTTC\n",
    "sttc_trial_concat = tau_3methods_error_long_df[\n",
    "    tau_3methods_error_long_df['method']=='sttc_trial_concat'\n",
    "]\n",
    "sttc_trial_concat_pivot = sttc_trial_concat.pivot(\n",
    "    index='n_trials',\n",
    "    columns='error_interval',\n",
    "    values='percentage'\n",
    ")\n",
    "\n",
    "diff_pivot_pearsonr_concat = pearsonr_trial_avg_pivot - sttc_trial_concat_pivot "
   ]
  },
  {
   "cell_type": "code",
   "execution_count": null,
   "id": "aba4d0f6-8bc6-4858-b1f9-f86aa205b938",
   "metadata": {},
   "outputs": [],
   "source": [
    "col_order = ['+-100', '+-75', '+-50', '+-25']\n",
    "\n",
    "row_order = sorted(diff_pivot_pearsonr_concat.index, reverse=True)\n",
    "\n",
    "pearsonr_trial_avg_ordered  = pearsonr_trial_avg_pivot.reindex(index=row_order, columns=col_order)\n",
    "sttc_trial_concat_ordered  = sttc_trial_concat_pivot.reindex(index=row_order, columns=col_order)\n",
    "diff_pivot_pearsonr_concat_pivot_ordered  = diff_pivot_pearsonr_concat.reindex(index=row_order, columns=col_order)\n",
    "\n",
    "# plot ACF heatmap\n",
    "fig, axes = plt.subplots(1, 3, figsize=(14, 3), sharey=True)\n",
    "plt.subplots_adjust(hspace=0.4, wspace=0.4)\n",
    "\n",
    "diff_limit = np.max([np.abs(diff_pivot_pearsonr_concat_pivot_ordered.min().min()), \n",
    "                     np.abs(diff_pivot_pearsonr_concat_pivot_ordered.max().max())])\n",
    "\n",
    "norm = TwoSlopeNorm(vcenter=0, vmin=-diff_limit, vmax=diff_limit)\n",
    "#norm = TwoSlopeNorm(vcenter=0)\n",
    "\n",
    "sns.heatmap(\n",
    "    pearsonr_trial_avg_ordered,\n",
    "    cmap=\"magma\", vmin=0, vmax=85,\n",
    "    cbar_kws={'label': 'Percentage'}, \n",
    "    annot=True, fmt=\".1f\",\n",
    "    ax=axes[0]\n",
    ")\n",
    "axes[0].set_title(\"Pearsonr avg: % signals\")\n",
    "\n",
    "sns.heatmap(\n",
    "    sttc_trial_concat_ordered,\n",
    "    cmap=\"magma\", vmin=0, vmax=85,\n",
    "    cbar_kws={'label': 'Percentage'}, \n",
    "    annot=True, fmt=\".1f\",\n",
    "    ax=axes[1]\n",
    ")\n",
    "axes[1].set_title('STTC concat: % signals')\n",
    "\n",
    "sns.heatmap(\n",
    "    diff_pivot_pearsonr_concat_pivot_ordered,\n",
    "    cmap=\"RdBu_r\", \n",
    "    norm=norm,\n",
    "    cbar_kws={'label': 'Percentage'}, \n",
    "    annot=True, fmt=\".1f\",\n",
    "    ax=axes[2]\n",
    ")\n",
    "axes[2].set_title('iSTTC - PearsonR')\n",
    "\n",
    "for ax in axes.flat:\n",
    "    ax.set_xlabel('Error (ms)')\n",
    "    ax.set_ylabel('N trials')\n",
    "    \n",
    "if save_fig:\n",
    "    plt.savefig(fig_folder + 'taus_dataset_n_trial_var_p_vs_concat_parametric_heatmaps.png' , bbox_inches='tight', dpi=300)\n",
    "    plt.savefig(fig_folder + 'taus_dataset_n_trial_var_p_vs_concat_parametric_heatmaps.svg' , bbox_inches='tight')"
   ]
  },
  {
   "cell_type": "code",
   "execution_count": null,
   "id": "3bbc8d58-c91c-46be-a007-58b98d90281f",
   "metadata": {},
   "outputs": [],
   "source": [
    "heat_limit_max = np.max([np.abs(pearsonr_trial_avg_ordered.min().min()), \n",
    "                     np.abs(pearsonr_trial_avg_ordered.max().max()), \n",
    "                     np.abs(sttc_trial_concat_ordered.min().min()), \n",
    "                     np.abs(sttc_trial_concat_ordered.max().max()),])\n",
    "heat_limit_max"
   ]
  },
  {
   "cell_type": "code",
   "execution_count": null,
   "id": "399d3533-4f65-4055-98db-9f319eb21ada",
   "metadata": {},
   "outputs": [],
   "source": [
    "heat_limit_min = np.min([np.abs(pearsonr_trial_avg_ordered.min().min()), \n",
    "                     np.abs(pearsonr_trial_avg_ordered.max().max()), \n",
    "                     np.abs(sttc_trial_concat_ordered.min().min()), \n",
    "                     np.abs(sttc_trial_concat_ordered.max().max()),])\n",
    "heat_limit_min"
   ]
  }
 ],
 "metadata": {
  "kernelspec": {
   "display_name": "Python 3 (ipykernel)",
   "language": "python",
   "name": "python3"
  },
  "language_info": {
   "codemirror_mode": {
    "name": "ipython",
    "version": 3
   },
   "file_extension": ".py",
   "mimetype": "text/x-python",
   "name": "python",
   "nbconvert_exporter": "python",
   "pygments_lexer": "ipython3",
   "version": "3.12.9"
  }
 },
 "nbformat": 4,
 "nbformat_minor": 5
}
