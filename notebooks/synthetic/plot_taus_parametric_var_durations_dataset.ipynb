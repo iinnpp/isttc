{
 "cells": [
  {
   "cell_type": "markdown",
   "id": "8b1b6c08-9434-4f91-9117-5eb95ee10ad4",
   "metadata": {},
   "source": [
    "Generate plots based on datasets for 5 durations (60, 150, 300, 450, 600)\n",
    "\n",
    "Duration is between 2s - 600sec, 10000 spike trains."
   ]
  },
  {
   "cell_type": "code",
   "execution_count": 1,
   "id": "33aee8d9-673e-4302-b31b-e56b96b123e9",
   "metadata": {},
   "outputs": [],
   "source": [
    "import numpy as np\n",
    "import pandas as pd\n",
    "import pickle\n",
    "\n",
    "import os\n",
    "current_wd = os.getcwd()\n",
    "os.chdir(os.path.abspath(\"..\\\\..\\\\..\\\\isttc\\\\scripts\"))\n",
    "from cfg_global import project_folder_path\n",
    "os.chdir(current_wd)\n",
    "\n",
    "import matplotlib as mpl\n",
    "import matplotlib.pyplot as plt\n",
    "from matplotlib.colors import TwoSlopeNorm\n",
    "import seaborn as sns\n",
    "\n",
    "mpl.rcParams['pdf.fonttype'] = 42\n",
    "mpl.rcParams['ps.fonttype'] = 42\n",
    "plt.rcParams['svg.fonttype'] = 'none'"
   ]
  },
  {
   "cell_type": "code",
   "execution_count": 2,
   "id": "0ca96473-a0d8-461a-be79-b2c2ef2d4662",
   "metadata": {},
   "outputs": [],
   "source": [
    "dataset_folder = project_folder_path + 'results\\\\synthetic\\\\dataset\\\\'\n",
    "results_folder = project_folder_path + 'results\\\\synthetic\\\\results\\\\param_fr_alpha_tau\\\\'\n",
    "fig_folder = project_folder_path + 'results\\\\synthetic\\\\fig_drafts_paper\\\\'"
   ]
  },
  {
   "cell_type": "code",
   "execution_count": 79,
   "id": "a71b55e4-1624-4e7c-a604-86898fa572ce",
   "metadata": {},
   "outputs": [],
   "source": [
    "save_fig = True"
   ]
  },
  {
   "cell_type": "markdown",
   "id": "ec52b4bc-f454-41cf-b175-39758c89e077",
   "metadata": {},
   "source": [
    "### Load data"
   ]
  },
  {
   "cell_type": "code",
   "execution_count": 4,
   "id": "d81cb21a-5b2a-4723-8bb4-6c0ede168bc0",
   "metadata": {},
   "outputs": [
    {
     "name": "stdout",
     "output_type": "stream",
     "text": [
      "len acf_60_dict 100000\n",
      "len sttc_60_dict 100000\n",
      "len acf_150_dict 100000\n",
      "len sttc_150_dict 100000\n",
      "len acf_300_dict 100000\n",
      "len sttc_300_dict 100000\n",
      "len acf_450_dict 100000\n",
      "len sttc_450_dict 100000\n",
      "len acf_600_dict 100000\n",
      "len sttc_600_dict 100000\n"
     ]
    }
   ],
   "source": [
    "# 60 sec\n",
    "with open(results_folder + 'acf_full_50ms_20lags_len_60sec_dict.pkl', \"rb\") as f:\n",
    "    acf_60_dict = pickle.load(f)\n",
    "\n",
    "with open(results_folder + 'acf_isttc_full_50ms_20lags_len_60sec_dict.pkl', \"rb\") as f:\n",
    "    sttc_60_dict = pickle.load(f)\n",
    "\n",
    "# 150 sec\n",
    "with open(results_folder + 'acf_full_50ms_20lags_len_150sec_dict.pkl', \"rb\") as f:\n",
    "    acf_150_dict = pickle.load(f)\n",
    "\n",
    "with open(results_folder + 'acf_isttc_full_50ms_20lags_len_150sec_dict.pkl', \"rb\") as f:\n",
    "    sttc_150_dict = pickle.load(f)\n",
    "\n",
    "# 300 sec\n",
    "with open(results_folder + 'acf_full_50ms_20lags_len_300sec_dict.pkl', \"rb\") as f:\n",
    "    acf_300_dict = pickle.load(f)\n",
    "\n",
    "with open(results_folder + 'acf_isttc_full_50ms_20lags_len_300sec_dict.pkl', \"rb\") as f:\n",
    "    sttc_300_dict = pickle.load(f)\n",
    "\n",
    "# 450 sec\n",
    "with open(results_folder + 'acf_full_50ms_20lags_len_450sec_dict.pkl', \"rb\") as f:\n",
    "    acf_450_dict = pickle.load(f)\n",
    "\n",
    "with open(results_folder + 'acf_isttc_full_50ms_20lags_len_450sec_dict.pkl', \"rb\") as f:\n",
    "    sttc_450_dict = pickle.load(f)\n",
    "\n",
    "# 600 sec\n",
    "with open(results_folder + 'acf_full_50ms_20lags_dict.pkl', \"rb\") as f:\n",
    "    acf_600_dict = pickle.load(f)\n",
    "\n",
    "with open(results_folder + 'acf_isttc_full_50ms_20lags_dict.pkl', \"rb\") as f:\n",
    "    sttc_600_dict = pickle.load(f)\n",
    "\n",
    "print(f'len acf_60_dict {len(acf_60_dict)}')\n",
    "print(f'len sttc_60_dict {len(sttc_60_dict)}')\n",
    "\n",
    "print(f'len acf_150_dict {len(acf_150_dict)}')\n",
    "print(f'len sttc_150_dict {len(sttc_150_dict)}')\n",
    "\n",
    "print(f'len acf_300_dict {len(acf_300_dict)}')\n",
    "print(f'len sttc_300_dict {len(sttc_300_dict)}')\n",
    "\n",
    "print(f'len acf_450_dict {len(acf_450_dict)}')\n",
    "print(f'len sttc_450_dict {len(sttc_450_dict)}')\n",
    "\n",
    "print(f'len acf_600_dict {len(acf_600_dict)}')\n",
    "print(f'len sttc_600_dict {len(sttc_600_dict)}')"
   ]
  },
  {
   "cell_type": "code",
   "execution_count": 9,
   "id": "c3094bc5-e132-4f2a-8875-fed98664106b",
   "metadata": {},
   "outputs": [
    {
     "name": "stdout",
     "output_type": "stream",
     "text": [
      "n spike trains 100000\n"
     ]
    }
   ],
   "source": [
    "with open(dataset_folder + '1_spike_trains_3params_var_len600sec_100000.pkl','rb') as f:\n",
    "    data = pickle.load(f)\n",
    "\n",
    "#spike_trains = data['spike_trains']\n",
    "alphas = data['alphas']\n",
    "fr_values = data['fr_values']\n",
    "taus_ms = data['tau_ms']\n",
    "#duration_ms = data['duration_ms']\n",
    "\n",
    "print(f'n spike trains {len(alphas)}')\n",
    "\n",
    "\n",
    "# with open(results_folder + 'acf_isttc_full_50ms_20lags_var_len_dict.pkl', \"rb\") as f:\n",
    "#     isttc_full_dict = pickle.load(f)\n",
    "\n",
    "# with open(results_folder + 'acf_full_50ms_20lags_var_len_dict.pkl', \"rb\") as f:\n",
    "#     acf_full_dict = pickle.load(f)\n",
    "\n",
    "# print(f'len isttc_full_dict {len(isttc_full_dict)}')\n",
    "# print(f'len acf_full_dict {len(acf_full_dict)}')"
   ]
  },
  {
   "cell_type": "markdown",
   "id": "c9b6636c-13fc-440a-814a-e5e1fd2e3550",
   "metadata": {},
   "source": [
    "### Make summary dfs"
   ]
  },
  {
   "cell_type": "code",
   "execution_count": 5,
   "id": "155564bc-78a7-4e46-b4f2-f962e092a9ff",
   "metadata": {},
   "outputs": [
    {
     "name": "stdout",
     "output_type": "stream",
     "text": [
      "acf_cols ['acf_0', 'acf_1', 'acf_2', 'acf_3', 'acf_4', 'acf_5', 'acf_6', 'acf_7', 'acf_8', 'acf_9', 'acf_10', 'acf_11', 'acf_12', 'acf_13', 'acf_14', 'acf_15', 'acf_16', 'acf_17', 'acf_18', 'acf_19', 'acf_20']\n"
     ]
    }
   ],
   "source": [
    "n_lags = 20\n",
    "acf_cols = ['acf_' + str(i) for i in range(n_lags+1)]\n",
    "print('acf_cols {}'.format(acf_cols))"
   ]
  },
  {
   "cell_type": "code",
   "execution_count": 6,
   "id": "361933c2-29e6-489b-9b10-3c8636ba14ed",
   "metadata": {},
   "outputs": [],
   "source": [
    "def calculate_acf_decline_flag(acf_, start_idx=1, end_idx=4):\n",
    "    acf_decay = np.all(np.diff(acf_[start_idx:end_idx]) <= 0)\n",
    "    return acf_decay"
   ]
  },
  {
   "cell_type": "code",
   "execution_count": null,
   "id": "ac5a6e0a-f0ff-4fb3-9bf9-e6575808623f",
   "metadata": {},
   "outputs": [],
   "source": [
    "# Generate 20 log spaced floats between 2 and 600\n",
    "# values = np.logspace(np.log10(2), np.log10(600), num=6)\n",
    "# values = np.linspace(2, 600, num=6)\n",
    "values = [2, 10, 50, 100, 200, 300, 600]\n",
    "edges_int = np.round(values).astype(int)\n",
    "# interval labels for df column\n",
    "labels = [f\"interval_{edges_int[i]}_{edges_int[i+1]}\" for i in range(len(edges_int)-1)]"
   ]
  },
  {
   "cell_type": "code",
   "execution_count": null,
   "id": "92072a9c-dc45-4324-bf4e-ffcd683c3c03",
   "metadata": {},
   "outputs": [],
   "source": [
    "edges_int"
   ]
  },
  {
   "cell_type": "code",
   "execution_count": 48,
   "id": "a48062b0-b41f-4118-8e9d-d55261973ed0",
   "metadata": {},
   "outputs": [],
   "source": [
    "def get_acf_plot_df(acf_dict_, signal_len_, method_, alphas_, fr_values_, taus_ms_):\n",
    "    data = []\n",
    "    for unit_id, unit_data in acf_dict_.items():\n",
    "        taus = unit_data['taus']  \n",
    "        data.append({\n",
    "            'unit_id': unit_id,\n",
    "            'tau': taus['tau'],\n",
    "            'fit_r_squared': taus['fit_r_squared'],\n",
    "            'decline_150_250': calculate_acf_decline_flag(unit_data['acf'], start_idx=2, end_idx=4)\n",
    "        })\n",
    "    acf_full_plot_df = pd.DataFrame(data)\n",
    "    acf_full_plot_df['method'] = method_\n",
    "    acf_full_plot_df['tau_ms'] = acf_full_plot_df['tau'] * 50\n",
    "    \n",
    "    acf_full_plot_df['duration_s'] = signal_len_\n",
    "    \n",
    "    acf_full_plot_df['fr'] = fr_values_\n",
    "    acf_full_plot_df['alpha'] = alphas_\n",
    "    acf_full_plot_df['tau_ms_true'] = taus_ms_\n",
    "    acf_full_plot_df['tau_diff_abs'] = np.abs(acf_full_plot_df['tau_ms'] - acf_full_plot_df['tau_ms_true'])\n",
    "    acf_full_plot_df['tau_diff_rel'] = acf_full_plot_df['tau_diff_abs'] / acf_full_plot_df['tau_ms_true'] * 100\n",
    "    \n",
    "    rows_with_nans_df = acf_full_plot_df[acf_full_plot_df.isna().any(axis=1)]\n",
    "    n_rows_with_nan = len(rows_with_nans_df)\n",
    "    print(f'N rows with NaNs {n_rows_with_nan}')\n",
    "    \n",
    "    return acf_full_plot_df"
   ]
  },
  {
   "cell_type": "code",
   "execution_count": 49,
   "id": "254ec7ee-cba1-44a5-ae74-9b27dd3e444b",
   "metadata": {},
   "outputs": [
    {
     "name": "stdout",
     "output_type": "stream",
     "text": [
      "N rows with NaNs 383\n",
      "N rows with NaNs 123\n",
      "N rows with NaNs 34\n",
      "N rows with NaNs 18\n",
      "N rows with NaNs 11\n"
     ]
    }
   ],
   "source": [
    "acf_60_df = get_acf_plot_df(acf_60_dict, 60, 'acf_full', alphas, fr_values, taus_ms)\n",
    "acf_150_df = get_acf_plot_df(acf_150_dict, 150, 'acf_full', alphas, fr_values, taus_ms)\n",
    "acf_300_df = get_acf_plot_df(acf_300_dict, 300, 'acf_full', alphas, fr_values, taus_ms)\n",
    "acf_450_df = get_acf_plot_df(acf_450_dict, 450, 'acf_full', alphas, fr_values, taus_ms)\n",
    "acf_600_df = get_acf_plot_df(acf_600_dict, 600, 'acf_full', alphas, fr_values, taus_ms)"
   ]
  },
  {
   "cell_type": "code",
   "execution_count": 50,
   "id": "530d4a19-0a30-4fdb-9775-1092a3a9b9ea",
   "metadata": {},
   "outputs": [
    {
     "name": "stdout",
     "output_type": "stream",
     "text": [
      "N rows with NaNs 0\n",
      "N rows with NaNs 0\n",
      "N rows with NaNs 0\n",
      "N rows with NaNs 0\n",
      "N rows with NaNs 0\n"
     ]
    }
   ],
   "source": [
    "isttc_60_df = get_acf_plot_df(sttc_60_dict, 60, 'isttc_full', alphas, fr_values, taus_ms)\n",
    "isttc_150_df = get_acf_plot_df(sttc_150_dict, 150, 'isttc_full', alphas, fr_values, taus_ms)\n",
    "isttc_300_df = get_acf_plot_df(sttc_300_dict, 300, 'isttc_full', alphas, fr_values, taus_ms)\n",
    "isttc_450_df = get_acf_plot_df(sttc_450_dict, 450, 'isttc_full', alphas, fr_values, taus_ms)\n",
    "isttc_600_df = get_acf_plot_df(sttc_600_dict, 600, 'isttc_full', alphas, fr_values, taus_ms)"
   ]
  },
  {
   "cell_type": "code",
   "execution_count": 52,
   "id": "509772ff-2fd6-4ed7-a6e9-cbb43051db0c",
   "metadata": {},
   "outputs": [
    {
     "name": "stdout",
     "output_type": "stream",
     "text": [
      "N rows with NaNs 383\n",
      "len acf_60_df 99617, len isttc_60_df 99617\n",
      "N rows with NaNs 123\n",
      "len acf_150_df 99877, len isttc_150_df 99877\n",
      "N rows with NaNs 34\n",
      "len acf_300_df 99966, len isttc_300_df 99966\n",
      "N rows with NaNs 18\n",
      "len acf_450_df 99982, len isttc_450_df 99982\n",
      "N rows with NaNs 11\n",
      "len acf_600_df 99989, len isttc_600_df 99989\n"
     ]
    }
   ],
   "source": [
    "# check for NaNs \n",
    "acf_60_df_nans_df = acf_60_df[acf_60_df.isna().any(axis=1)]\n",
    "print(f'N rows with NaNs {len(acf_60_df_nans_df)}')\n",
    "# take from isttc dataset only rows where acf df has no NaNs\n",
    "isttc_60_df = isttc_60_df[~isttc_60_df['unit_id'].isin(acf_60_df_nans_df['unit_id'].values)]\n",
    "acf_60_df = acf_60_df[~acf_60_df['unit_id'].isin(acf_60_df_nans_df['unit_id'].values)]\n",
    "print(f'len acf_60_df {len(acf_60_df)}, len isttc_60_df {len(isttc_60_df)}')\n",
    "\n",
    "acf_150_df_nans_df = acf_150_df[acf_150_df.isna().any(axis=1)]\n",
    "print(f'N rows with NaNs {len(acf_150_df_nans_df)}')\n",
    "# take from isttc dataset only rows where acf df has no NaNs\n",
    "isttc_150_df = isttc_150_df[~isttc_150_df['unit_id'].isin(acf_150_df_nans_df['unit_id'].values)]\n",
    "acf_150_df = acf_150_df[~acf_150_df['unit_id'].isin(acf_150_df_nans_df['unit_id'].values)]\n",
    "print(f'len acf_150_df {len(acf_150_df)}, len isttc_150_df {len(isttc_150_df)}')\n",
    "\n",
    "acf_300_df_nans_df = acf_300_df[acf_300_df.isna().any(axis=1)]\n",
    "print(f'N rows with NaNs {len(acf_300_df_nans_df)}')\n",
    "# take from isttc dataset only rows where acf df has no NaNs\n",
    "isttc_300_df = isttc_300_df[~isttc_300_df['unit_id'].isin(acf_300_df_nans_df['unit_id'].values)]\n",
    "acf_300_df = acf_300_df[~acf_300_df['unit_id'].isin(acf_300_df_nans_df['unit_id'].values)]\n",
    "print(f'len acf_300_df {len(acf_300_df)}, len isttc_300_df {len(isttc_300_df)}')\n",
    "\n",
    "acf_450_df_nans_df = acf_450_df[acf_450_df.isna().any(axis=1)]\n",
    "print(f'N rows with NaNs {len(acf_450_df_nans_df)}')\n",
    "# take from isttc dataset only rows where acf df has no NaNs\n",
    "isttc_450_df = isttc_450_df[~isttc_450_df['unit_id'].isin(acf_450_df_nans_df['unit_id'].values)]\n",
    "acf_450_df = acf_450_df[~acf_450_df['unit_id'].isin(acf_450_df_nans_df['unit_id'].values)]\n",
    "print(f'len acf_450_df {len(acf_450_df)}, len isttc_450_df {len(isttc_450_df)}')\n",
    "\n",
    "acf_600_df_nans_df = acf_600_df[acf_600_df.isna().any(axis=1)]\n",
    "print(f'N rows with NaNs {len(acf_600_df_nans_df)}')\n",
    "# take from isttc dataset only rows where acf df has no NaNs\n",
    "isttc_600_df = isttc_600_df[~isttc_600_df['unit_id'].isin(acf_600_df_nans_df['unit_id'].values)]\n",
    "acf_600_df = acf_600_df[~acf_600_df['unit_id'].isin(acf_600_df_nans_df['unit_id'].values)]\n",
    "print(f'len acf_600_df {len(acf_600_df)}, len isttc_600_df {len(isttc_600_df)}')"
   ]
  },
  {
   "cell_type": "code",
   "execution_count": 53,
   "id": "4a8c0626-c08f-4353-8bf1-a60e02527ac1",
   "metadata": {},
   "outputs": [],
   "source": [
    "def remove_neg_rsquared(acf_df_, isttc_df_):\n",
    "    # check for negative R-square\n",
    "    rows_with_negr_acf_df = acf_df_.query('fit_r_squared < 0')\n",
    "    n_rows_with_negr_acf = len(rows_with_negr_acf_df)\n",
    "    print(f'N rows with neg R {n_rows_with_negr_acf}')\n",
    "    \n",
    "    \n",
    "    rows_with_negr_isttc_df = isttc_df_.query('fit_r_squared < 0')\n",
    "    n_rows_with_negr_isttc = len(rows_with_negr_isttc_df)\n",
    "    print(f'N rows with neg R {n_rows_with_negr_isttc}')\n",
    "    \n",
    "    acf_negr_unit_ids = rows_with_negr_acf_df['unit_id'].values\n",
    "    isttc_negr_unit_ids = rows_with_negr_isttc_df['unit_id'].values\n",
    "    \n",
    "    unit_ids_negr_union = set(acf_negr_unit_ids).union(isttc_negr_unit_ids)\n",
    "    print(f'N rows in unit_ids_negr_union {len(unit_ids_negr_union)}')\n",
    "    \n",
    "    isttc_df_ = isttc_df_[~isttc_df_['unit_id'].isin(unit_ids_negr_union)]\n",
    "    acf_full_plot_df = acf_df_[~acf_df_['unit_id'].isin(unit_ids_negr_union)]\n",
    "    \n",
    "    print(f'len acf_df_ {len(acf_df_)}, len isttc_full_plot_df {len(isttc_df_)}')\n",
    "\n",
    "    return acf_df_, isttc_df_"
   ]
  },
  {
   "cell_type": "code",
   "execution_count": 54,
   "id": "15103752-f56b-4be4-b6af-75f831b6a03d",
   "metadata": {},
   "outputs": [
    {
     "name": "stdout",
     "output_type": "stream",
     "text": [
      "N rows with neg R 3003\n",
      "N rows with neg R 3123\n",
      "N rows in unit_ids_negr_union 4294\n",
      "len acf_df_ 99617, len isttc_full_plot_df 95323\n",
      "N rows with neg R 1326\n",
      "N rows with neg R 1294\n",
      "N rows in unit_ids_negr_union 1889\n",
      "len acf_df_ 99877, len isttc_full_plot_df 97988\n",
      "N rows with neg R 659\n",
      "N rows with neg R 669\n",
      "N rows in unit_ids_negr_union 933\n",
      "len acf_df_ 99966, len isttc_full_plot_df 99033\n",
      "N rows with neg R 376\n",
      "N rows with neg R 361\n",
      "N rows in unit_ids_negr_union 520\n",
      "len acf_df_ 99982, len isttc_full_plot_df 99462\n",
      "N rows with neg R 237\n",
      "N rows with neg R 238\n",
      "N rows in unit_ids_negr_union 331\n",
      "len acf_df_ 99989, len isttc_full_plot_df 99658\n"
     ]
    }
   ],
   "source": [
    "acf_60_df, isttc_60_df = remove_neg_rsquared(acf_60_df, isttc_60_df)\n",
    "acf_150_df, isttc_150_df = remove_neg_rsquared(acf_150_df, isttc_150_df)\n",
    "acf_300_df, isttc_300_df = remove_neg_rsquared(acf_300_df, isttc_300_df)\n",
    "acf_450_df, isttc_450_df = remove_neg_rsquared(acf_450_df, isttc_450_df)\n",
    "acf_600_df, isttc_600_df = remove_neg_rsquared(acf_600_df, isttc_600_df)"
   ]
  },
  {
   "cell_type": "code",
   "execution_count": 55,
   "id": "8fcc464c-3556-4350-89bf-ecd272b42ded",
   "metadata": {},
   "outputs": [
    {
     "name": "stdout",
     "output_type": "stream",
     "text": [
      "len tau_plot_long_df 990895\n"
     ]
    }
   ],
   "source": [
    "tau_plot_long_df = pd.concat([acf_60_df, isttc_60_df, acf_150_df, isttc_150_df, \n",
    "                              acf_300_df, isttc_300_df, acf_450_df, isttc_450_df, \n",
    "                              acf_600_df, isttc_600_df])\n",
    "tau_plot_long_df.reset_index(inplace=True, drop=True)\n",
    "\n",
    "print(f'len tau_plot_long_df {len(tau_plot_long_df)}')"
   ]
  },
  {
   "cell_type": "code",
   "execution_count": 74,
   "id": "7707acf4-1365-4863-b104-35078f5a69fa",
   "metadata": {},
   "outputs": [],
   "source": [
    "acf_tau_plot_long_df = pd.concat([acf_60_df, acf_150_df,\n",
    "                              acf_300_df, acf_450_df,\n",
    "                              acf_600_df])\n",
    "acf_tau_plot_long_df.reset_index(inplace=True, drop=True)"
   ]
  },
  {
   "cell_type": "code",
   "execution_count": 75,
   "id": "d61edbe7-474f-43c8-9aa2-acde6d77d354",
   "metadata": {},
   "outputs": [],
   "source": [
    "sttc_tau_plot_long_df = pd.concat([isttc_60_df, isttc_150_df, \n",
    "                              isttc_300_df, isttc_450_df, \n",
    "                              isttc_600_df])\n",
    "sttc_tau_plot_long_df.reset_index(inplace=True, drop=True)"
   ]
  },
  {
   "cell_type": "code",
   "execution_count": 76,
   "id": "aa78f019-593c-47a9-a7a0-a5d0df27e22f",
   "metadata": {},
   "outputs": [
    {
     "name": "stdout",
     "output_type": "stream",
     "text": [
      "len tau_plot_wide_df 499431\n"
     ]
    },
    {
     "data": {
      "text/plain": [
       "Index(['unit_id', 'tau_acf', 'fit_r_squared_acf', 'decline_150_250_acf',\n",
       "       'method_acf', 'tau_ms_acf', 'duration_s', 'fr', 'alpha', 'tau_ms_true',\n",
       "       'tau_diff_abs_acf', 'tau_diff_rel_acf', 'tau_isttc',\n",
       "       'fit_r_squared_isttc', 'decline_150_250_isttc', 'method_isttc',\n",
       "       'tau_ms_isttc', 'tau_diff_abs_isttc', 'tau_diff_rel_isttc'],\n",
       "      dtype='object')"
      ]
     },
     "execution_count": 76,
     "metadata": {},
     "output_type": "execute_result"
    }
   ],
   "source": [
    "tau_plot_wide_df = acf_tau_plot_long_df.merge(sttc_tau_plot_long_df, suffixes=('_acf', '_isttc'), \n",
    "                                          on=['unit_id','fr', 'alpha', 'tau_ms_true', 'duration_s'], \n",
    "                                          how='left')\n",
    "tau_plot_wide_df.reset_index(inplace=True, drop=True)\n",
    "\n",
    "print(f'len tau_plot_wide_df {len(tau_plot_wide_df)}')\n",
    "\n",
    "tau_plot_wide_df.columns"
   ]
  },
  {
   "cell_type": "markdown",
   "id": "dfdfbfc5-392f-4e13-9a22-f02972c6570f",
   "metadata": {},
   "source": [
    "### Export for stats"
   ]
  },
  {
   "cell_type": "code",
   "execution_count": 78,
   "id": "bc66ab22-96b1-4825-a079-f08fc9913512",
   "metadata": {},
   "outputs": [],
   "source": [
    "tau_plot_long_df.to_csv(results_folder + 'tau_plot_long_var_len_5durations_df.csv')"
   ]
  },
  {
   "cell_type": "markdown",
   "id": "bd60b423-d861-47b0-9458-43ad75e8fecf",
   "metadata": {},
   "source": [
    "### Plots"
   ]
  },
  {
   "cell_type": "code",
   "execution_count": 56,
   "id": "17c5a647-a843-438c-9e53-5dd3da92fc22",
   "metadata": {},
   "outputs": [],
   "source": [
    "color_acf_full = '#708090' # slate gray\n",
    "color_isttc_full = '#00A9E2' # steel blue"
   ]
  },
  {
   "cell_type": "code",
   "execution_count": 77,
   "id": "f8607393-0219-44f0-ab73-51f5f83f4508",
   "metadata": {},
   "outputs": [
    {
     "data": {
      "image/png": "[encoded data removed]",
      "text/plain": [
       "<Figure size 500x300 with 1 Axes>"
      ]
     },
     "metadata": {},
     "output_type": "display_data"
    }
   ],
   "source": [
    "# just to check, I plot the same as predicted values from the model\n",
    "fig, axes = plt.subplots(1,1, figsize=(5, 3), sharey=False)\n",
    "\n",
    "sns.regplot(x=tau_plot_wide_df['duration_s'].values, y=np.log10(tau_plot_wide_df['tau_diff_rel_acf']), scatter=None, ax=axes, \n",
    "            label='acf_full', color=color_acf_full)\n",
    "sns.regplot(x=tau_plot_wide_df['duration_s'].values, y=np.log10(tau_plot_wide_df['tau_diff_rel_isttc']), scatter=None, ax=axes, \n",
    "            label='isttc_full', color=color_isttc_full)\n",
    "axes.legend(frameon=False)\n",
    "\n",
    "axes.set_xlabel('Firing rate (Hz)')\n",
    "\n",
    "# for ax in axes.flat:\n",
    "#     ax.set_ylabel('Log10 diff(IT, \\nground truth) (ms)')\n",
    "\n",
    "sns.despine()\n",
    "\n",
    "# if save_fig:\n",
    "#     plt.savefig(fig_folder + 'taus_dataset_duration_var_diff_regplot.png' , bbox_inches='tight', dpi=300)\n",
    "#     plt.savefig(fig_folder + 'taus_dataset_duration_var_diff_regplot.svg' , bbox_inches='tight')"
   ]
  },
  {
   "cell_type": "code",
   "execution_count": 57,
   "id": "07225f59-9f20-4fbc-908c-2dcad16444fd",
   "metadata": {},
   "outputs": [],
   "source": [
    "# intervals for error plots\n",
    "intervals = {\n",
    "    '+-100':   (0,   100),\n",
    "    '+-75':  (0,  75),\n",
    "    '+-50':  (0,  50),\n",
    "    '+-25':  (0,  25),\n",
    "}\n",
    "\n",
    "# tau_2methods_df = pd.concat([acf_full_plot_df, isttc_full_plot_df])\n",
    "tau_2methods_df = tau_plot_long_df\n",
    "tau_2methods_df['log_tau_ms'] = np.log10(tau_2methods_df['tau_ms'])\n",
    "#tau_2methods_df.reset_index(inplace=True, drop=True)\n",
    "\n",
    "df = tau_2methods_df.copy()\n",
    "rows = []\n",
    "for method, sub in df.groupby(by=['method','duration_s']):\n",
    "    total = len(sub)\n",
    "    row = {'method': method}\n",
    "    for name, (lo, hi) in intervals.items():\n",
    "        cnt = sub['tau_diff_rel'].between(lo, hi).sum()\n",
    "        row[name] = cnt/total*100\n",
    "    rows.append(row)\n",
    "tau_2methods_error_df = pd.DataFrame(rows).set_index('method')\n",
    "\n",
    "# make long df\n",
    "tau_2methods_error_df = tau_2methods_error_df.reset_index()\n",
    "tau_2methods_error_long_df = tau_2methods_error_df.melt(\n",
    "    id_vars='method',\n",
    "    var_name='interval',\n",
    "    value_name='percentage'\n",
    ")\n",
    "\n",
    "tau_2methods_error_long_df[['method','duration_s']] = pd.DataFrame(\n",
    "    tau_2methods_error_long_df['method'].tolist(),\n",
    "    index=tau_2methods_error_long_df.index\n",
    ")\n",
    "tau_2methods_error_long_df = tau_2methods_error_long_df.rename(columns={'interval':'error_interval'})\n",
    "tau_2methods_error_long_df = tau_2methods_error_long_df[['method','duration_s','error_interval','percentage']]"
   ]
  },
  {
   "cell_type": "code",
   "execution_count": 62,
   "id": "d91c0623-edf8-4624-9c81-d7eb3252081e",
   "metadata": {},
   "outputs": [
    {
     "data": {
      "text/plain": [
       "array(['acf_full', 'isttc_full'], dtype=object)"
      ]
     },
     "execution_count": 62,
     "metadata": {},
     "output_type": "execute_result"
    }
   ],
   "source": [
    "tau_2methods_error_long_df['method'].unique()"
   ]
  },
  {
   "cell_type": "code",
   "execution_count": 63,
   "id": "3a421df4-0255-4990-bcfc-5a030710840c",
   "metadata": {},
   "outputs": [],
   "source": [
    "# prep for heatmaps\n",
    "# ACF\n",
    "acf = tau_2methods_error_long_df[\n",
    "    tau_2methods_error_long_df['method']=='acf_full'\n",
    "]\n",
    "acf_pivot = acf.pivot(\n",
    "    index='duration_s',\n",
    "    columns='error_interval',\n",
    "    values='percentage'\n",
    ")\n",
    "\n",
    "# ISTTC\n",
    "isttc = tau_2methods_error_long_df[\n",
    "    tau_2methods_error_long_df['method']=='isttc_full'\n",
    "]\n",
    "isttc_pivot = isttc.pivot(\n",
    "    index='duration_s',\n",
    "    columns='error_interval',\n",
    "    values='percentage'\n",
    ")\n",
    "\n",
    "diff_pivot = acf_pivot-isttc_pivot"
   ]
  },
  {
   "cell_type": "code",
   "execution_count": 65,
   "id": "fe78c90f-9fa4-4a73-a30c-00a36edab5b5",
   "metadata": {},
   "outputs": [
    {
     "data": {
      "text/html": [
       "<div>\n",
       "<style scoped>\n",
       "    .dataframe tbody tr th:only-of-type {\n",
       "        vertical-align: middle;\n",
       "    }\n",
       "\n",
       "    .dataframe tbody tr th {\n",
       "        vertical-align: top;\n",
       "    }\n",
       "\n",
       "    .dataframe thead th {\n",
       "        text-align: right;\n",
       "    }\n",
       "</style>\n",
       "<table border=\"1\" class=\"dataframe\">\n",
       "  <thead>\n",
       "    <tr style=\"text-align: right;\">\n",
       "      <th>error_interval</th>\n",
       "      <th>+-100</th>\n",
       "      <th>+-25</th>\n",
       "      <th>+-50</th>\n",
       "      <th>+-75</th>\n",
       "    </tr>\n",
       "    <tr>\n",
       "      <th>duration_s</th>\n",
       "      <th></th>\n",
       "      <th></th>\n",
       "      <th></th>\n",
       "      <th></th>\n",
       "    </tr>\n",
       "  </thead>\n",
       "  <tbody>\n",
       "    <tr>\n",
       "      <th>60</th>\n",
       "      <td>89.820011</td>\n",
       "      <td>32.423181</td>\n",
       "      <td>59.741811</td>\n",
       "      <td>75.132758</td>\n",
       "    </tr>\n",
       "    <tr>\n",
       "      <th>150</th>\n",
       "      <td>93.610140</td>\n",
       "      <td>47.295173</td>\n",
       "      <td>75.088359</td>\n",
       "      <td>85.627322</td>\n",
       "    </tr>\n",
       "    <tr>\n",
       "      <th>300</th>\n",
       "      <td>95.853590</td>\n",
       "      <td>60.510574</td>\n",
       "      <td>84.310666</td>\n",
       "      <td>91.461097</td>\n",
       "    </tr>\n",
       "    <tr>\n",
       "      <th>450</th>\n",
       "      <td>96.974455</td>\n",
       "      <td>68.103259</td>\n",
       "      <td>88.404913</td>\n",
       "      <td>93.978916</td>\n",
       "    </tr>\n",
       "    <tr>\n",
       "      <th>600</th>\n",
       "      <td>97.569733</td>\n",
       "      <td>73.344068</td>\n",
       "      <td>90.903999</td>\n",
       "      <td>95.351489</td>\n",
       "    </tr>\n",
       "  </tbody>\n",
       "</table>\n",
       "</div>"
      ],
      "text/plain": [
       "error_interval      +-100       +-25       +-50       +-75\n",
       "duration_s                                                \n",
       "60              89.820011  32.423181  59.741811  75.132758\n",
       "150             93.610140  47.295173  75.088359  85.627322\n",
       "300             95.853590  60.510574  84.310666  91.461097\n",
       "450             96.974455  68.103259  88.404913  93.978916\n",
       "600             97.569733  73.344068  90.903999  95.351489"
      ]
     },
     "execution_count": 65,
     "metadata": {},
     "output_type": "execute_result"
    }
   ],
   "source": [
    "acf_pivot"
   ]
  },
  {
   "cell_type": "code",
   "execution_count": 64,
   "id": "2214a0d4-90b4-4c6b-9227-9806f6c21369",
   "metadata": {},
   "outputs": [
    {
     "data": {
      "text/html": [
       "<div>\n",
       "<style scoped>\n",
       "    .dataframe tbody tr th:only-of-type {\n",
       "        vertical-align: middle;\n",
       "    }\n",
       "\n",
       "    .dataframe tbody tr th {\n",
       "        vertical-align: top;\n",
       "    }\n",
       "\n",
       "    .dataframe thead th {\n",
       "        text-align: right;\n",
       "    }\n",
       "</style>\n",
       "<table border=\"1\" class=\"dataframe\">\n",
       "  <thead>\n",
       "    <tr style=\"text-align: right;\">\n",
       "      <th>error_interval</th>\n",
       "      <th>+-100</th>\n",
       "      <th>+-25</th>\n",
       "      <th>+-50</th>\n",
       "      <th>+-75</th>\n",
       "    </tr>\n",
       "    <tr>\n",
       "      <th>duration_s</th>\n",
       "      <th></th>\n",
       "      <th></th>\n",
       "      <th></th>\n",
       "      <th></th>\n",
       "    </tr>\n",
       "  </thead>\n",
       "  <tbody>\n",
       "    <tr>\n",
       "      <th>60</th>\n",
       "      <td>89.483126</td>\n",
       "      <td>35.736391</td>\n",
       "      <td>63.567030</td>\n",
       "      <td>78.221416</td>\n",
       "    </tr>\n",
       "    <tr>\n",
       "      <th>150</th>\n",
       "      <td>93.659428</td>\n",
       "      <td>51.086868</td>\n",
       "      <td>77.561538</td>\n",
       "      <td>87.116790</td>\n",
       "    </tr>\n",
       "    <tr>\n",
       "      <th>300</th>\n",
       "      <td>95.867034</td>\n",
       "      <td>64.087728</td>\n",
       "      <td>85.664375</td>\n",
       "      <td>92.319732</td>\n",
       "    </tr>\n",
       "    <tr>\n",
       "      <th>450</th>\n",
       "      <td>96.947578</td>\n",
       "      <td>71.321711</td>\n",
       "      <td>89.324566</td>\n",
       "      <td>94.454163</td>\n",
       "    </tr>\n",
       "    <tr>\n",
       "      <th>600</th>\n",
       "      <td>97.559654</td>\n",
       "      <td>75.980855</td>\n",
       "      <td>91.529029</td>\n",
       "      <td>95.686247</td>\n",
       "    </tr>\n",
       "  </tbody>\n",
       "</table>\n",
       "</div>"
      ],
      "text/plain": [
       "error_interval      +-100       +-25       +-50       +-75\n",
       "duration_s                                                \n",
       "60              89.483126  35.736391  63.567030  78.221416\n",
       "150             93.659428  51.086868  77.561538  87.116790\n",
       "300             95.867034  64.087728  85.664375  92.319732\n",
       "450             96.947578  71.321711  89.324566  94.454163\n",
       "600             97.559654  75.980855  91.529029  95.686247"
      ]
     },
     "execution_count": 64,
     "metadata": {},
     "output_type": "execute_result"
    }
   ],
   "source": [
    "isttc_pivot"
   ]
  },
  {
   "cell_type": "code",
   "execution_count": 72,
   "id": "4102014b-d0d7-4edc-89a8-6bd52d647bc6",
   "metadata": {},
   "outputs": [
    {
     "data": {
      "text/html": [
       "<div>\n",
       "<style scoped>\n",
       "    .dataframe tbody tr th:only-of-type {\n",
       "        vertical-align: middle;\n",
       "    }\n",
       "\n",
       "    .dataframe tbody tr th {\n",
       "        vertical-align: top;\n",
       "    }\n",
       "\n",
       "    .dataframe thead th {\n",
       "        text-align: right;\n",
       "    }\n",
       "</style>\n",
       "<table border=\"1\" class=\"dataframe\">\n",
       "  <thead>\n",
       "    <tr style=\"text-align: right;\">\n",
       "      <th>error_interval</th>\n",
       "      <th>+-100</th>\n",
       "      <th>+-25</th>\n",
       "      <th>+-50</th>\n",
       "      <th>+-75</th>\n",
       "    </tr>\n",
       "    <tr>\n",
       "      <th>duration_s</th>\n",
       "      <th></th>\n",
       "      <th></th>\n",
       "      <th></th>\n",
       "      <th></th>\n",
       "    </tr>\n",
       "  </thead>\n",
       "  <tbody>\n",
       "    <tr>\n",
       "      <th>60</th>\n",
       "      <td>0.336885</td>\n",
       "      <td>-3.313210</td>\n",
       "      <td>-3.825219</td>\n",
       "      <td>-3.088657</td>\n",
       "    </tr>\n",
       "    <tr>\n",
       "      <th>150</th>\n",
       "      <td>-0.049287</td>\n",
       "      <td>-3.791695</td>\n",
       "      <td>-2.473179</td>\n",
       "      <td>-1.489468</td>\n",
       "    </tr>\n",
       "    <tr>\n",
       "      <th>300</th>\n",
       "      <td>-0.013444</td>\n",
       "      <td>-3.577155</td>\n",
       "      <td>-1.353709</td>\n",
       "      <td>-0.858635</td>\n",
       "    </tr>\n",
       "    <tr>\n",
       "      <th>450</th>\n",
       "      <td>0.026877</td>\n",
       "      <td>-3.218452</td>\n",
       "      <td>-0.919653</td>\n",
       "      <td>-0.475247</td>\n",
       "    </tr>\n",
       "    <tr>\n",
       "      <th>600</th>\n",
       "      <td>0.010079</td>\n",
       "      <td>-2.636787</td>\n",
       "      <td>-0.625030</td>\n",
       "      <td>-0.334758</td>\n",
       "    </tr>\n",
       "  </tbody>\n",
       "</table>\n",
       "</div>"
      ],
      "text/plain": [
       "error_interval     +-100      +-25      +-50      +-75\n",
       "duration_s                                            \n",
       "60              0.336885 -3.313210 -3.825219 -3.088657\n",
       "150            -0.049287 -3.791695 -2.473179 -1.489468\n",
       "300            -0.013444 -3.577155 -1.353709 -0.858635\n",
       "450             0.026877 -3.218452 -0.919653 -0.475247\n",
       "600             0.010079 -2.636787 -0.625030 -0.334758"
      ]
     },
     "execution_count": 72,
     "metadata": {},
     "output_type": "execute_result"
    }
   ],
   "source": [
    "diff_pivot"
   ]
  },
  {
   "cell_type": "code",
   "execution_count": 81,
   "id": "595b43df-ac22-4070-9b0e-4a8a0b58d420",
   "metadata": {},
   "outputs": [
    {
     "name": "stdout",
     "output_type": "stream",
     "text": [
      "-3.825218856108073\n",
      "0.3368848473988635\n"
     ]
    },
    {
     "data": {
      "image/png": "[encoded data removed]",
      "text/plain": [
       "<Figure size 1400x300 with 6 Axes>"
      ]
     },
     "metadata": {},
     "output_type": "display_data"
    }
   ],
   "source": [
    "col_order = ['+-100', '+-75', '+-50', '+-25']\n",
    "row_order = sorted(diff_pivot.index, reverse=True)\n",
    "\n",
    "acf_ordered  = acf_pivot.reindex(index=row_order, columns=col_order)\n",
    "isttc_ordered  = isttc_pivot.reindex(index=row_order, columns=col_order)\n",
    "diff_pivot_ordered  = diff_pivot.reindex(index=row_order, columns=col_order)\n",
    "\n",
    "# plot ACF heatmap\n",
    "fig, axes = plt.subplots(1, 3, figsize=(14, 3), sharey=True)\n",
    "plt.subplots_adjust(hspace=0.4, wspace=0.4)\n",
    "\n",
    "diff_limit = np.max([np.abs(diff_pivot_ordered.min().min()), \n",
    "                     np.abs(diff_pivot_ordered.max().max())])\n",
    "\n",
    "norm = TwoSlopeNorm(vcenter=0, vmin=-diff_limit, vmax=diff_limit)\n",
    "\n",
    "sns.heatmap(\n",
    "    acf_ordered,\n",
    "    cmap=\"magma\", vmin=0, vmax=100,\n",
    "    cbar_kws={'label': 'Percentage'}, \n",
    "    annot=True, fmt=\".1f\",\n",
    "    ax=axes[0]\n",
    ")\n",
    "axes[0].set_title(\"ACF Full: % signals\")\n",
    "\n",
    "sns.heatmap(\n",
    "    isttc_ordered,\n",
    "    cmap=\"magma\", vmin=0, vmax=100,\n",
    "    cbar_kws={'label': 'Percentage'}, \n",
    "    annot=True, fmt=\".1f\",\n",
    "    ax=axes[1]\n",
    ")\n",
    "axes[1].set_title('iSTTC Full: % signals')\n",
    "\n",
    "sns.heatmap(\n",
    "    diff_pivot_ordered,\n",
    "    cmap=\"RdBu_r\", #\"coolwarm\", \n",
    "    norm=norm,\n",
    "    cbar_kws={'label': 'Percentage'},\n",
    "    annot=True, fmt=\".2f\",\n",
    "    ax=axes[2]\n",
    ")\n",
    "axes[2].set_title('ACF - iSTTC diff')\n",
    "print(diff_pivot_ordered.min().min())\n",
    "print(diff_pivot_ordered.max().max())\n",
    "\n",
    "for ax in axes.flat:\n",
    "    ax.set_xlabel('REE (%)')\n",
    "    ax.set_ylabel('Signal length (sec)')\n",
    "if save_fig:\n",
    "    plt.savefig(fig_folder + 'taus_dataset_duration_5var_heatmaps_colors2_param.png' , bbox_inches='tight', dpi=300)\n",
    "    plt.savefig(fig_folder + 'taus_dataset_duration_5var_heatmaps_colors2_param.svg' , bbox_inches='tight')"
   ]
  }
 ],
 "metadata": {
  "kernelspec": {
   "display_name": "Python 3 (ipykernel)",
   "language": "python",
   "name": "python3"
  },
  "language_info": {
   "codemirror_mode": {
    "name": "ipython",
    "version": 3
   },
   "file_extension": ".py",
   "mimetype": "text/x-python",
   "name": "python",
   "nbconvert_exporter": "python",
   "pygments_lexer": "ipython3",
   "version": "3.13.2"
  }
 },
 "nbformat": 4,
 "nbformat_minor": 5
}
