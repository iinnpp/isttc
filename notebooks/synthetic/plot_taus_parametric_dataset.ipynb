{
 "cells": [
  {
   "cell_type": "markdown",
   "id": "8b1b6c08-9434-4f91-9117-5eb95ee10ad4",
   "metadata": {},
   "source": [
    "Generate plots based on parametric dataset (var alpha, fr and tau, 100 000 signals, 10 min length, spike_trains_3params_var_len600sec_100000.pkl)"
   ]
  },
  {
   "cell_type": "code",
   "execution_count": 1,
   "id": "33aee8d9-673e-4302-b31b-e56b96b123e9",
   "metadata": {},
   "outputs": [],
   "source": [
    "import numpy as np\n",
    "import pandas as pd\n",
    "import pickle\n",
    "import random\n",
    "import joypy\n",
    "\n",
    "import os\n",
    "current_wd = os.getcwd()\n",
    "os.chdir(os.path.abspath(\"..\\\\..\\\\..\\\\isttc\\\\scripts\"))\n",
    "from cfg_global import project_folder_path\n",
    "os.chdir(current_wd)\n",
    "\n",
    "import matplotlib as mpl\n",
    "import matplotlib.pyplot as plt\n",
    "from matplotlib.colors import TwoSlopeNorm\n",
    "import seaborn as sns\n",
    "\n",
    "mpl.rcParams['pdf.fonttype'] = 42\n",
    "mpl.rcParams['ps.fonttype'] = 42\n",
    "plt.rcParams['svg.fonttype'] = 'none'"
   ]
  },
  {
   "cell_type": "code",
   "execution_count": 2,
   "id": "0ca96473-a0d8-461a-be79-b2c2ef2d4662",
   "metadata": {},
   "outputs": [],
   "source": [
    "dataset_folder = project_folder_path + 'results\\\\synthetic\\\\dataset\\\\'\n",
    "results_folder = project_folder_path + 'results\\\\synthetic\\\\results\\\\param_fr_alpha_tau\\\\'\n",
    "fig_folder = project_folder_path + 'results\\\\synthetic\\\\fig_drafts_paper\\\\'"
   ]
  },
  {
   "cell_type": "code",
   "execution_count": 3,
   "id": "a71b55e4-1624-4e7c-a604-86898fa572ce",
   "metadata": {},
   "outputs": [],
   "source": [
    "save_fig = False"
   ]
  },
  {
   "cell_type": "markdown",
   "id": "ec52b4bc-f454-41cf-b175-39758c89e077",
   "metadata": {},
   "source": [
    "### Load data"
   ]
  },
  {
   "cell_type": "code",
   "execution_count": 4,
   "id": "def971cb-e6f7-44d5-8844-4ad3f2e842cf",
   "metadata": {},
   "outputs": [
    {
     "name": "stdout",
     "output_type": "stream",
     "text": [
      "n spike trains 100000, len 598.8243581617338, duration_ms 600000\n"
     ]
    }
   ],
   "source": [
    "with open(dataset_folder + 'spike_trains_3params_var_len600sec_100000.pkl','rb') as f:\n",
    "    data = pickle.load(f)\n",
    "\n",
    "spike_trains = data['spike_trains']\n",
    "alphas = data['alphas']\n",
    "fr_values = data['fr_values']\n",
    "taus_ms = data['tau_ms']\n",
    "duration_ms = data['duration_ms']\n",
    "\n",
    "print(f'n spike trains {len(spike_trains)}, len {spike_trains[0][-1]/1000}, duration_ms {duration_ms}')\n",
    "\n",
    "fs = 1000"
   ]
  },
  {
   "cell_type": "code",
   "execution_count": 5,
   "id": "73168ac0-59c6-4e9d-942a-fbccfc92232c",
   "metadata": {},
   "outputs": [
    {
     "name": "stdout",
     "output_type": "stream",
     "text": [
      "len isttc_full_dict 100000\n",
      "len acf_full_dict 100000\n"
     ]
    }
   ],
   "source": [
    "with open(results_folder + 'acf_isttc_full_50ms_20lags_dict.pkl', \"rb\") as f:\n",
    "    isttc_full_dict = pickle.load(f)\n",
    "\n",
    "with open(results_folder + 'acf_full_50ms_20lags_dict.pkl', \"rb\") as f:\n",
    "    acf_full_dict = pickle.load(f)\n",
    "\n",
    "print(f'len isttc_full_dict {len(isttc_full_dict)}')\n",
    "print(f'len acf_full_dict {len(acf_full_dict)}')"
   ]
  },
  {
   "cell_type": "markdown",
   "id": "c9b6636c-13fc-440a-814a-e5e1fd2e3550",
   "metadata": {},
   "source": [
    "### Make summary dfs"
   ]
  },
  {
   "cell_type": "code",
   "execution_count": 6,
   "id": "361933c2-29e6-489b-9b10-3c8636ba14ed",
   "metadata": {},
   "outputs": [],
   "source": [
    "def calculate_acf_decline_flag(acf_, start_idx=1, end_idx=4):\n",
    "    acf_decay = np.all(np.diff(acf_[start_idx:end_idx]) <= 0)\n",
    "    return acf_decay"
   ]
  },
  {
   "cell_type": "code",
   "execution_count": 7,
   "id": "a48062b0-b41f-4118-8e9d-d55261973ed0",
   "metadata": {},
   "outputs": [
    {
     "name": "stdout",
     "output_type": "stream",
     "text": [
      "N rows with NaNs 11\n"
     ]
    },
    {
     "data": {
      "text/html": [
       "<div>\n",
       "<style scoped>\n",
       "    .dataframe tbody tr th:only-of-type {\n",
       "        vertical-align: middle;\n",
       "    }\n",
       "\n",
       "    .dataframe tbody tr th {\n",
       "        vertical-align: top;\n",
       "    }\n",
       "\n",
       "    .dataframe thead th {\n",
       "        text-align: right;\n",
       "    }\n",
       "</style>\n",
       "<table border=\"1\" class=\"dataframe\">\n",
       "  <thead>\n",
       "    <tr style=\"text-align: right;\">\n",
       "      <th></th>\n",
       "      <th>unit_id</th>\n",
       "      <th>tau</th>\n",
       "      <th>tau_lower</th>\n",
       "      <th>tau_upper</th>\n",
       "      <th>fit_r_squared</th>\n",
       "      <th>decline_150_250</th>\n",
       "      <th>tau_ms</th>\n",
       "      <th>method</th>\n",
       "      <th>fr</th>\n",
       "      <th>alpha</th>\n",
       "      <th>tau_ms_true</th>\n",
       "      <th>tau_diff_abs</th>\n",
       "      <th>tau_diff_rel</th>\n",
       "      <th>ci_width</th>\n",
       "    </tr>\n",
       "  </thead>\n",
       "  <tbody>\n",
       "    <tr>\n",
       "      <th>0</th>\n",
       "      <td>0</td>\n",
       "      <td>2.217899</td>\n",
       "      <td>2.119224</td>\n",
       "      <td>2.316575</td>\n",
       "      <td>0.998369</td>\n",
       "      <td>True</td>\n",
       "      <td>110.894975</td>\n",
       "      <td>acf_full</td>\n",
       "      <td>7.741821</td>\n",
       "      <td>0.851099</td>\n",
       "      <td>150.923515</td>\n",
       "      <td>40.028540</td>\n",
       "      <td>26.522401</td>\n",
       "      <td>0.19735</td>\n",
       "    </tr>\n",
       "    <tr>\n",
       "      <th>1</th>\n",
       "      <td>1</td>\n",
       "      <td>2.568210</td>\n",
       "      <td>2.437150</td>\n",
       "      <td>2.699270</td>\n",
       "      <td>0.997899</td>\n",
       "      <td>True</td>\n",
       "      <td>128.410512</td>\n",
       "      <td>acf_full</td>\n",
       "      <td>4.394396</td>\n",
       "      <td>0.858098</td>\n",
       "      <td>147.947233</td>\n",
       "      <td>19.536721</td>\n",
       "      <td>13.205195</td>\n",
       "      <td>0.26212</td>\n",
       "    </tr>\n",
       "  </tbody>\n",
       "</table>\n",
       "</div>"
      ],
      "text/plain": [
       "   unit_id       tau  tau_lower  tau_upper  fit_r_squared  decline_150_250  \\\n",
       "0        0  2.217899   2.119224   2.316575       0.998369             True   \n",
       "1        1  2.568210   2.437150   2.699270       0.997899             True   \n",
       "\n",
       "       tau_ms    method        fr     alpha  tau_ms_true  tau_diff_abs  \\\n",
       "0  110.894975  acf_full  7.741821  0.851099   150.923515     40.028540   \n",
       "1  128.410512  acf_full  4.394396  0.858098   147.947233     19.536721   \n",
       "\n",
       "   tau_diff_rel  ci_width  \n",
       "0     26.522401   0.19735  \n",
       "1     13.205195   0.26212  "
      ]
     },
     "execution_count": 7,
     "metadata": {},
     "output_type": "execute_result"
    }
   ],
   "source": [
    "data = []\n",
    "for unit_id, unit_data in acf_full_dict.items():\n",
    "    taus = unit_data['taus']  \n",
    "    data.append({\n",
    "        'unit_id': unit_id,\n",
    "        'tau': taus['tau'],\n",
    "        'tau_lower': taus['tau_lower'],\n",
    "        'tau_upper': taus['tau_upper'],\n",
    "        'fit_r_squared': taus['fit_r_squared'],\n",
    "        'decline_150_250': calculate_acf_decline_flag(unit_data['acf'], start_idx=2, end_idx=4)\n",
    "    })\n",
    "acf_full_plot_df = pd.DataFrame(data)\n",
    "acf_full_plot_df['tau_ms'] = acf_full_plot_df['tau'] * 50\n",
    "\n",
    "rows_with_nans_df = acf_full_plot_df[acf_full_plot_df.isna().any(axis=1)]\n",
    "n_rows_with_nan = len(rows_with_nans_df)\n",
    "print(f'N rows with NaNs {n_rows_with_nan}')\n",
    "acf_full_plot_df['method'] = 'acf_full'\n",
    "acf_full_plot_df['fr'] = fr_values\n",
    "acf_full_plot_df['alpha'] = alphas\n",
    "acf_full_plot_df['tau_ms_true'] = taus_ms\n",
    "acf_full_plot_df['tau_diff_abs'] = np.abs(acf_full_plot_df['tau_ms'] - acf_full_plot_df['tau_ms_true'])\n",
    "acf_full_plot_df['tau_diff_rel'] = acf_full_plot_df['tau_diff_abs'] / acf_full_plot_df['tau_ms_true'] * 100\n",
    "acf_full_plot_df['ci_width'] = np.abs(acf_full_plot_df['tau_upper'] - acf_full_plot_df['tau_lower'])\n",
    "\n",
    "acf_full_plot_df.head(2)"
   ]
  },
  {
   "cell_type": "code",
   "execution_count": null,
   "id": "2916e483-1d61-4ae1-9ce2-d524d3571f3e",
   "metadata": {},
   "outputs": [],
   "source": [
    "acf_full_plot_df.describe()"
   ]
  },
  {
   "cell_type": "code",
   "execution_count": 8,
   "id": "a878f4d4-0f0f-48ae-8808-d92ac8b45ed9",
   "metadata": {},
   "outputs": [
    {
     "name": "stdout",
     "output_type": "stream",
     "text": [
      "N rows with NaNs 0\n"
     ]
    },
    {
     "data": {
      "text/html": [
       "<div>\n",
       "<style scoped>\n",
       "    .dataframe tbody tr th:only-of-type {\n",
       "        vertical-align: middle;\n",
       "    }\n",
       "\n",
       "    .dataframe tbody tr th {\n",
       "        vertical-align: top;\n",
       "    }\n",
       "\n",
       "    .dataframe thead th {\n",
       "        text-align: right;\n",
       "    }\n",
       "</style>\n",
       "<table border=\"1\" class=\"dataframe\">\n",
       "  <thead>\n",
       "    <tr style=\"text-align: right;\">\n",
       "      <th></th>\n",
       "      <th>unit_id</th>\n",
       "      <th>tau</th>\n",
       "      <th>tau_lower</th>\n",
       "      <th>tau_upper</th>\n",
       "      <th>fit_r_squared</th>\n",
       "      <th>decline_150_250</th>\n",
       "      <th>method</th>\n",
       "      <th>tau_ms</th>\n",
       "      <th>fr</th>\n",
       "      <th>alpha</th>\n",
       "      <th>tau_ms_true</th>\n",
       "      <th>tau_diff_abs</th>\n",
       "      <th>tau_diff_rel</th>\n",
       "      <th>ci_width</th>\n",
       "    </tr>\n",
       "  </thead>\n",
       "  <tbody>\n",
       "    <tr>\n",
       "      <th>0</th>\n",
       "      <td>0</td>\n",
       "      <td>2.523412</td>\n",
       "      <td>2.362379</td>\n",
       "      <td>2.684445</td>\n",
       "      <td>0.996707</td>\n",
       "      <td>True</td>\n",
       "      <td>isttc_full</td>\n",
       "      <td>126.170618</td>\n",
       "      <td>7.741821</td>\n",
       "      <td>0.851099</td>\n",
       "      <td>150.923515</td>\n",
       "      <td>24.752897</td>\n",
       "      <td>16.400954</td>\n",
       "      <td>0.322066</td>\n",
       "    </tr>\n",
       "    <tr>\n",
       "      <th>1</th>\n",
       "      <td>1</td>\n",
       "      <td>2.834326</td>\n",
       "      <td>2.688470</td>\n",
       "      <td>2.980182</td>\n",
       "      <td>0.997916</td>\n",
       "      <td>True</td>\n",
       "      <td>isttc_full</td>\n",
       "      <td>141.716309</td>\n",
       "      <td>4.394396</td>\n",
       "      <td>0.858098</td>\n",
       "      <td>147.947233</td>\n",
       "      <td>6.230924</td>\n",
       "      <td>4.211585</td>\n",
       "      <td>0.291712</td>\n",
       "    </tr>\n",
       "  </tbody>\n",
       "</table>\n",
       "</div>"
      ],
      "text/plain": [
       "   unit_id       tau  tau_lower  tau_upper  fit_r_squared  decline_150_250  \\\n",
       "0        0  2.523412   2.362379   2.684445       0.996707             True   \n",
       "1        1  2.834326   2.688470   2.980182       0.997916             True   \n",
       "\n",
       "       method      tau_ms        fr     alpha  tau_ms_true  tau_diff_abs  \\\n",
       "0  isttc_full  126.170618  7.741821  0.851099   150.923515     24.752897   \n",
       "1  isttc_full  141.716309  4.394396  0.858098   147.947233      6.230924   \n",
       "\n",
       "   tau_diff_rel  ci_width  \n",
       "0     16.400954  0.322066  \n",
       "1      4.211585  0.291712  "
      ]
     },
     "execution_count": 8,
     "metadata": {},
     "output_type": "execute_result"
    }
   ],
   "source": [
    "data = []\n",
    "for unit_id, unit_data in isttc_full_dict.items():\n",
    "    taus = unit_data['taus']      \n",
    "    data.append({\n",
    "        'unit_id': unit_id,\n",
    "        'tau': taus['tau'],\n",
    "        'tau_lower': taus['tau_lower'],\n",
    "        'tau_upper': taus['tau_upper'],\n",
    "        'fit_r_squared': taus['fit_r_squared'],\n",
    "        'decline_150_250': calculate_acf_decline_flag(unit_data['acf'], start_idx=2, end_idx=4)\n",
    "    })\n",
    "isttc_full_plot_df = pd.DataFrame(data)\n",
    "isttc_full_plot_df['method'] = 'isttc_full'\n",
    "isttc_full_plot_df['tau_ms'] = isttc_full_plot_df['tau'] * 50\n",
    "\n",
    "rows_with_nans_df = isttc_full_plot_df[isttc_full_plot_df.isna().any(axis=1)]\n",
    "n_rows_with_nan = len(rows_with_nans_df)\n",
    "print(f'N rows with NaNs {n_rows_with_nan}')\n",
    "\n",
    "isttc_full_plot_df['method'] = 'isttc_full'\n",
    "isttc_full_plot_df['fr'] = fr_values\n",
    "isttc_full_plot_df['alpha'] = alphas\n",
    "isttc_full_plot_df['tau_ms_true'] = taus_ms\n",
    "isttc_full_plot_df['tau_diff_abs'] = np.abs(isttc_full_plot_df['tau_ms'] - isttc_full_plot_df['tau_ms_true'])\n",
    "isttc_full_plot_df['tau_diff_rel'] = isttc_full_plot_df['tau_diff_abs'] / isttc_full_plot_df['tau_ms_true'] * 100\n",
    "isttc_full_plot_df['ci_width'] = np.abs(isttc_full_plot_df['tau_upper'] - isttc_full_plot_df['tau_lower'])\n",
    "\n",
    "isttc_full_plot_df.head(2)"
   ]
  },
  {
   "cell_type": "code",
   "execution_count": null,
   "id": "66cceefc-2e72-4a42-bfbf-b58474c7b005",
   "metadata": {},
   "outputs": [],
   "source": [
    "isttc_full_plot_df.describe()"
   ]
  },
  {
   "cell_type": "code",
   "execution_count": 9,
   "id": "78cfdb68-56a8-4e75-aa58-2147a579ec2f",
   "metadata": {},
   "outputs": [
    {
     "name": "stdout",
     "output_type": "stream",
     "text": [
      "N rows with NaNs 11\n",
      "N rows with NaNs 0\n",
      "len acf_full_plot_df 99989, len isttc_full_plot_df 99989\n"
     ]
    }
   ],
   "source": [
    "# check for NaNs \n",
    "\n",
    "rows_with_nans_acf_df = acf_full_plot_df[acf_full_plot_df.isna().any(axis=1)]\n",
    "n_rows_with_nan_acf = len(rows_with_nans_acf_df)\n",
    "print(f'N rows with NaNs {n_rows_with_nan_acf}')\n",
    "\n",
    "rows_with_nans_isttc_df = isttc_full_plot_df[isttc_full_plot_df.isna().any(axis=1)]\n",
    "n_rows_with_nan_isttc = len(rows_with_nans_isttc_df)\n",
    "print(f'N rows with NaNs {n_rows_with_nan_isttc}')\n",
    "\n",
    "# take from isttc dataset only rows where acf df has no NaNs\n",
    "isttc_full_plot_df = isttc_full_plot_df[~isttc_full_plot_df['unit_id'].isin(rows_with_nans_acf_df['unit_id'].values)]\n",
    "acf_full_plot_df = acf_full_plot_df[~acf_full_plot_df['unit_id'].isin(rows_with_nans_acf_df['unit_id'].values)]\n",
    "\n",
    "print(f'len acf_full_plot_df {len(acf_full_plot_df)}, len isttc_full_plot_df {len(isttc_full_plot_df)}')"
   ]
  },
  {
   "cell_type": "code",
   "execution_count": 10,
   "id": "73b07725-08dd-4feb-b1d1-ef1c56a41c73",
   "metadata": {},
   "outputs": [
    {
     "name": "stdout",
     "output_type": "stream",
     "text": [
      "N rows with neg R 237\n",
      "N rows with neg R 238\n",
      "N rows in unit_ids_negr_union 331\n",
      "len acf_full_plot_df 99658, len isttc_full_plot_df 99658\n"
     ]
    }
   ],
   "source": [
    "# check for negative R-square\n",
    "\n",
    "rows_with_negr_acf_df = acf_full_plot_df.query('fit_r_squared < 0')\n",
    "n_rows_with_negr_acf = len(rows_with_negr_acf_df)\n",
    "print(f'N rows with neg R {n_rows_with_negr_acf}')\n",
    "\n",
    "\n",
    "rows_with_negr_isttc_df = isttc_full_plot_df.query('fit_r_squared < 0')\n",
    "n_rows_with_negr_isttc = len(rows_with_negr_isttc_df)\n",
    "print(f'N rows with neg R {n_rows_with_negr_isttc}')\n",
    "\n",
    "acf_negr_unit_ids = rows_with_negr_acf_df['unit_id'].values\n",
    "isttc_negr_unit_ids = rows_with_negr_isttc_df['unit_id'].values\n",
    "\n",
    "unit_ids_negr_union = set(acf_negr_unit_ids).union(isttc_negr_unit_ids)\n",
    "print(f'N rows in unit_ids_negr_union {len(unit_ids_negr_union)}')\n",
    "\n",
    "isttc_full_plot_df = isttc_full_plot_df[~isttc_full_plot_df['unit_id'].isin(unit_ids_negr_union)]\n",
    "acf_full_plot_df = acf_full_plot_df[~acf_full_plot_df['unit_id'].isin(unit_ids_negr_union)]\n",
    "\n",
    "print(f'len acf_full_plot_df {len(acf_full_plot_df)}, len isttc_full_plot_df {len(isttc_full_plot_df)}')"
   ]
  },
  {
   "cell_type": "code",
   "execution_count": 11,
   "id": "60273ed2-72e5-48e5-911e-fb5b4a00fdd1",
   "metadata": {},
   "outputs": [
    {
     "name": "stdout",
     "output_type": "stream",
     "text": [
      "len tau_plot_long_df 199316\n"
     ]
    }
   ],
   "source": [
    "tau_plot_long_df = pd.concat([acf_full_plot_df, isttc_full_plot_df])\n",
    "tau_plot_long_df.reset_index(inplace=True, drop=True)\n",
    "\n",
    "print(f'len tau_plot_long_df {len(tau_plot_long_df)}')"
   ]
  },
  {
   "cell_type": "code",
   "execution_count": 12,
   "id": "6bb97630-ebd9-414d-91ae-8593b0635a23",
   "metadata": {},
   "outputs": [
    {
     "name": "stdout",
     "output_type": "stream",
     "text": [
      "len tau_plot_wide_df 99658\n"
     ]
    },
    {
     "data": {
      "text/plain": [
       "Index(['unit_id', 'tau_acf', 'tau_lower_acf', 'tau_upper_acf',\n",
       "       'fit_r_squared_acf', 'decline_150_250_acf', 'tau_ms_acf', 'method_acf',\n",
       "       'fr', 'alpha', 'tau_ms_true', 'tau_diff_abs_acf', 'tau_diff_rel_acf',\n",
       "       'ci_width_acf', 'tau_isttc', 'tau_lower_isttc', 'tau_upper_isttc',\n",
       "       'fit_r_squared_isttc', 'decline_150_250_isttc', 'method_isttc',\n",
       "       'tau_ms_isttc', 'tau_diff_abs_isttc', 'tau_diff_rel_isttc',\n",
       "       'ci_width_isttc'],\n",
       "      dtype='object')"
      ]
     },
     "execution_count": 12,
     "metadata": {},
     "output_type": "execute_result"
    }
   ],
   "source": [
    "tau_plot_wide_df = acf_full_plot_df.merge(isttc_full_plot_df, suffixes=('_acf', '_isttc'), on=['unit_id','fr', 'alpha', 'tau_ms_true'], how='left')\n",
    "tau_plot_wide_df.reset_index(inplace=True, drop=True)\n",
    "\n",
    "print(f'len tau_plot_wide_df {len(tau_plot_wide_df)}')\n",
    "\n",
    "tau_plot_wide_df.columns"
   ]
  },
  {
   "cell_type": "code",
   "execution_count": null,
   "id": "e7b1cfd4-5732-4f72-b52c-511961873f1e",
   "metadata": {},
   "outputs": [],
   "source": [
    "tau_plot_wide_df"
   ]
  },
  {
   "cell_type": "markdown",
   "id": "270b725a-699c-4bd9-8d88-ce30a92f14b7",
   "metadata": {},
   "source": [
    "### Export for stats"
   ]
  },
  {
   "cell_type": "code",
   "execution_count": null,
   "id": "86503958-0967-418b-a194-c954eaec0906",
   "metadata": {},
   "outputs": [],
   "source": [
    "tau_plot_long_df.to_csv(results_folder + 'tau_plot_long_df.csv')"
   ]
  },
  {
   "cell_type": "code",
   "execution_count": null,
   "id": "9ca484ee-f695-4491-ac72-965285e05cc8",
   "metadata": {},
   "outputs": [],
   "source": [
    "tau_plot_long_df.groupby(by='method', as_index=False)['decline_150_250'].sum()"
   ]
  },
  {
   "cell_type": "code",
   "execution_count": null,
   "id": "bfca168d-89ab-4b1c-800c-32232cb6639d",
   "metadata": {},
   "outputs": [],
   "source": [
    "tau_plot_long_df.groupby(by='method', as_index=False)['decline_150_250'].count()"
   ]
  },
  {
   "cell_type": "code",
   "execution_count": null,
   "id": "498f423f-2f23-4a9b-91fe-2d016497b102",
   "metadata": {},
   "outputs": [],
   "source": [
    "tau_plot_long_df.query('tau_diff_rel == 0')"
   ]
  },
  {
   "cell_type": "markdown",
   "id": "bd60b423-d861-47b0-9458-43ad75e8fecf",
   "metadata": {},
   "source": [
    "### Plots"
   ]
  },
  {
   "cell_type": "code",
   "execution_count": 16,
   "id": "5af01248-64cf-498a-bb18-68c2fd20b435",
   "metadata": {},
   "outputs": [
    {
     "data": {
      "text/html": [
       "<div>\n",
       "<style scoped>\n",
       "    .dataframe tbody tr th:only-of-type {\n",
       "        vertical-align: middle;\n",
       "    }\n",
       "\n",
       "    .dataframe tbody tr th {\n",
       "        vertical-align: top;\n",
       "    }\n",
       "\n",
       "    .dataframe thead th {\n",
       "        text-align: right;\n",
       "    }\n",
       "</style>\n",
       "<table border=\"1\" class=\"dataframe\">\n",
       "  <thead>\n",
       "    <tr style=\"text-align: right;\">\n",
       "      <th></th>\n",
       "      <th>method</th>\n",
       "      <th>tau_diff_rel</th>\n",
       "    </tr>\n",
       "  </thead>\n",
       "  <tbody>\n",
       "    <tr>\n",
       "      <th>0</th>\n",
       "      <td>acf_full</td>\n",
       "      <td>13.881182</td>\n",
       "    </tr>\n",
       "    <tr>\n",
       "      <th>1</th>\n",
       "      <td>isttc_full</td>\n",
       "      <td>12.613595</td>\n",
       "    </tr>\n",
       "  </tbody>\n",
       "</table>\n",
       "</div>"
      ],
      "text/plain": [
       "       method  tau_diff_rel\n",
       "0    acf_full     13.881182\n",
       "1  isttc_full     12.613595"
      ]
     },
     "execution_count": 16,
     "metadata": {},
     "output_type": "execute_result"
    }
   ],
   "source": [
    "tau_plot_long_df.groupby(by='method', as_index=False)['tau_diff_rel'].median()"
   ]
  },
  {
   "cell_type": "code",
   "execution_count": 18,
   "id": "628e7b64-6d93-4d81-a955-00e98afda5a6",
   "metadata": {},
   "outputs": [],
   "source": [
    "tau_plot_long_df['tau_diff_rel_log10'] = np.log10(tau_plot_long_df['tau_diff_rel'])"
   ]
  },
  {
   "cell_type": "code",
   "execution_count": 26,
   "id": "cffc6952-5122-4de1-9c87-4af6554e29f0",
   "metadata": {},
   "outputs": [
    {
     "ename": "SyntaxError",
     "evalue": "invalid syntax. Perhaps you forgot a comma? (2299704994.py, line 1)",
     "output_type": "error",
     "traceback": [
      "\u001b[1;36m  Cell \u001b[1;32mIn[26], line 1\u001b[1;36m\u001b[0m\n\u001b[1;33m    sns.violinplot(y=np.abs(tau_plot_wide_df['tau_diff_rel_isttc'] - tau_plot_wide_df['tau_diff_rel_acf']) cut=0)\u001b[0m\n\u001b[1;37m                     ^\u001b[0m\n\u001b[1;31mSyntaxError\u001b[0m\u001b[1;31m:\u001b[0m invalid syntax. Perhaps you forgot a comma?\n"
     ]
    }
   ],
   "source": [
    "sns.violinplot(y=np.abs(tau_plot_wide_df['tau_diff_rel_isttc'] - tau_plot_wide_df['tau_diff_rel_acf']) cut=0)\n",
    "\n",
    "sns.despine()"
   ]
  },
  {
   "cell_type": "code",
   "execution_count": 24,
   "id": "747b82eb-49cb-4685-8ce1-07cabdb38cdb",
   "metadata": {},
   "outputs": [
    {
     "data": {
      "text/plain": [
       "<Axes: xlabel='tau_diff_rel_log10', ylabel='Density'>"
      ]
     },
     "execution_count": 24,
     "metadata": {},
     "output_type": "execute_result"
    },
    {
     "data": {
      "image/png": "[encoded data removed]",
      "text/plain": [
       "<Figure size 640x480 with 1 Axes>"
      ]
     },
     "metadata": {},
     "output_type": "display_data"
    }
   ],
   "source": [
    "sns.kdeplot(\n",
    "    data=tau_plot_long_df, \n",
    "    x=\"tau_diff_rel_log10\", \n",
    "    hue=\"method\",\n",
    "    fill=True, \n",
    "    alpha=0.3,\n",
    "    palette=[\"#4C72B0\",\"#DD8452\"]\n",
    ")"
   ]
  },
  {
   "cell_type": "code",
   "execution_count": null,
   "id": "17c5a647-a843-438c-9e53-5dd3da92fc22",
   "metadata": {},
   "outputs": [],
   "source": [
    "color_acf_full = '#4783B4'\n",
    "color_isttc_full = '#E2552A'\n",
    "color_pearson_trail_avg = 'slategray' \n",
    "color_sttc_trail_avg =  '#E97451' \n",
    "color_sttc_trail_concat = '#B94E48' "
   ]
  },
  {
   "cell_type": "code",
   "execution_count": null,
   "id": "b047af72-2fd7-45fa-b0f4-753f656876e8",
   "metadata": {},
   "outputs": [],
   "source": [
    "fig, axes = plt.subplots(1,2, figsize=(8,2.5))\n",
    "\n",
    "norm = TwoSlopeNorm(vcenter=0)\n",
    "\n",
    "hb0 = axes[0].hexbin(\n",
    "    x=tau_plot_wide_df['fr'], y=tau_plot_wide_df['alpha'],\n",
    "    C=tau_plot_wide_df['tau_diff_rel_isttc'] - tau_plot_wide_df['tau_diff_rel_acf'],\n",
    "    reduce_C_function=np.median,   \n",
    "    gridsize=10,                \n",
    "    cmap='coolwarm',\n",
    "    norm = norm,\n",
    "    mincnt=1                    \n",
    ")\n",
    "\n",
    "hb1 = axes[1].hexbin(\n",
    "    x=tau_plot_wide_df['tau_ms_true'], y=tau_plot_wide_df['alpha'],\n",
    "    C=tau_plot_wide_df['tau_diff_rel_isttc'] - tau_plot_wide_df['tau_diff_rel_acf'],\n",
    "    reduce_C_function=np.median,   \n",
    "    gridsize=10,                \n",
    "    cmap='coolwarm',\n",
    "    norm = norm,\n",
    "    mincnt=1   \n",
    ")\n",
    "\n",
    "vmin = np.floor(np.min([hb0.get_array().min(), hb1.get_array().min()]))\n",
    "vmax = np.ceil(np.max([hb0.get_array().max(), hb1.get_array().max()]))\n",
    "#print(vmin, vmax)\n",
    "\n",
    "hb0.set_clim(vmin, vmax)\n",
    "hb1.set_clim(vmin, vmax)\n",
    "\n",
    "fig.colorbar(hb0, ax=axes[0], shrink=1)\n",
    "fig.colorbar(hb1, ax=axes[1], shrink=1)\n",
    "\n",
    "axes[0].set_xlabel('Firing rate (hz)')\n",
    "axes[1].set_xlabel('Intrinsic timescale (ms)')\n",
    "axes[1].set_xticks(np.linspace(50, 300, 6))\n",
    "\n",
    "fig.suptitle('iSTTC - ACF relative error (abs(tau - tau_true)/tau_true * 100), \\n < 0: iSTTC error is lower, > 0: ACF error is lower', y=1.05)\n",
    "\n",
    "for ax in axes.flat:\n",
    "    sns.despine(ax=ax)\n",
    "    ax.set_ylabel('Excitation strength (a.u.)')\n",
    "    ax.set_ylim([0.1, 0.9])\n",
    "    ax.set_yticks(np.linspace(0.1, 0.9, 5))\n",
    "\n",
    "if save_fig:\n",
    "    plt.savefig(fig_folder + 'taus_dataset_3_var_rel_diff.png' , bbox_inches='tight', dpi=300)\n",
    "    plt.savefig(fig_folder + 'taus_dataset_3_var_rel_diff.svg' , bbox_inches='tight')"
   ]
  },
  {
   "cell_type": "code",
   "execution_count": null,
   "id": "2ffd8c81-e494-4db2-8673-4d4001a88ad7",
   "metadata": {},
   "outputs": [],
   "source": [
    "fig, axes = plt.subplots(1,3, figsize=(15, 3), sharey=False)\n",
    "\n",
    "sns.regplot(x=tau_plot_wide_df['fr'].values, y=np.log10(tau_plot_wide_df['tau_diff_rel_acf']), scatter=None, ax=axes[0], \n",
    "            label='acf_full', color=color_acf_full)\n",
    "sns.regplot(x=tau_plot_wide_df['fr'].values, y=np.log10(tau_plot_wide_df['tau_diff_rel_isttc']), scatter=None, ax=axes[0], \n",
    "            label='isttc_full', color=color_isttc_full)\n",
    "axes[0].legend(frameon=False)\n",
    "\n",
    "sns.regplot(x=tau_plot_wide_df['alpha'].values, y=np.log10(tau_plot_wide_df['tau_diff_rel_acf']), scatter=None, ax=axes[1], \n",
    "            label='acf_full', color=color_acf_full)\n",
    "sns.regplot(x=tau_plot_wide_df['alpha'].values, y=np.log10(tau_plot_wide_df['tau_diff_rel_isttc']), scatter=None, ax=axes[1], \n",
    "            label='isttc_full', color=color_isttc_full)\n",
    "axes[1].legend(frameon=False)\n",
    "\n",
    "sns.regplot(x=tau_plot_wide_df['tau_ms_true'].values, y=np.log10(tau_plot_wide_df['tau_diff_rel_acf']), scatter=None, ax=axes[2], \n",
    "            label='acf_full', color=color_acf_full)\n",
    "sns.regplot(x=tau_plot_wide_df['tau_ms_true'].values, y=np.log10(tau_plot_wide_df['tau_diff_rel_isttc']), scatter=None, ax=axes[2], \n",
    "            label='isttc_full', color=color_isttc_full)\n",
    "axes[2].legend(frameon=False)\n",
    "\n",
    "\n",
    "axes[0].set_xlabel('Firing rate (Hz)')\n",
    "axes[1].set_xlabel('Excitation strength (a.u.)')\n",
    "axes[2].set_xlabel('Intrinsic timescale (ms)')\n",
    "\n",
    "for ax in axes.flat:\n",
    "    ax.set_ylabel('Log10 diff(IT, \\nground truth) (ms)')\n",
    "\n",
    "sns.despine()\n",
    "\n",
    "if save_fig:\n",
    "    plt.savefig(fig_folder + 'taus_dataset_fr_alpha_var_diff_regplot.png' , bbox_inches='tight', dpi=300)\n",
    "    plt.savefig(fig_folder + 'taus_dataset_fr_alpha_var_diff_regplot.svg' , bbox_inches='tight')"
   ]
  }
 ],
 "metadata": {
  "kernelspec": {
   "display_name": "Python 3 (ipykernel)",
   "language": "python",
   "name": "python3"
  },
  "language_info": {
   "codemirror_mode": {
    "name": "ipython",
    "version": 3
   },
   "file_extension": ".py",
   "mimetype": "text/x-python",
   "name": "python",
   "nbconvert_exporter": "python",
   "pygments_lexer": "ipython3",
   "version": "3.12.9"
  }
 },
 "nbformat": 4,
 "nbformat_minor": 5
}
