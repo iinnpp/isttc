{
 "cells": [
  {
   "cell_type": "markdown",
   "id": "8b1b6c08-9434-4f91-9117-5eb95ee10ad4",
   "metadata": {},
   "source": [
    "Generate plots based on parametric dataset (var alpha, fr and tau, 100 000 signals, 10 min length, spike_trains_3params_var_len600sec_100000.pkl)"
   ]
  },
  {
   "cell_type": "code",
   "execution_count": 13,
   "id": "33aee8d9-673e-4302-b31b-e56b96b123e9",
   "metadata": {},
   "outputs": [],
   "source": [
    "import numpy as np\n",
    "import pandas as pd\n",
    "import pickle\n",
    "import random\n",
    "import joypy\n",
    "\n",
    "import os\n",
    "current_wd = os.getcwd()\n",
    "os.chdir(os.path.abspath(\"..\\\\..\\\\..\\\\isttc\\\\scripts\"))\n",
    "from cfg_global import project_folder_path\n",
    "os.chdir(current_wd)\n",
    "\n",
    "import matplotlib as mpl\n",
    "import matplotlib.pyplot as plt\n",
    "from matplotlib.colors import TwoSlopeNorm\n",
    "import seaborn as sns\n",
    "\n",
    "mpl.rcParams['pdf.fonttype'] = 42\n",
    "mpl.rcParams['ps.fonttype'] = 42\n",
    "plt.rcParams['svg.fonttype'] = 'none'"
   ]
  },
  {
   "cell_type": "code",
   "execution_count": 2,
   "id": "0ca96473-a0d8-461a-be79-b2c2ef2d4662",
   "metadata": {},
   "outputs": [],
   "source": [
    "dataset_folder = project_folder_path + 'results\\\\synthetic\\\\dataset\\\\'\n",
    "results_folder = project_folder_path + 'results\\\\synthetic\\\\results\\\\param_fr_alpha_tau\\\\'\n",
    "fig_folder = project_folder_path + 'results\\\\synthetic\\\\fig_drafts_paper\\\\'"
   ]
  },
  {
   "cell_type": "code",
   "execution_count": 3,
   "id": "a71b55e4-1624-4e7c-a604-86898fa572ce",
   "metadata": {},
   "outputs": [],
   "source": [
    "save_fig = False"
   ]
  },
  {
   "cell_type": "markdown",
   "id": "ec52b4bc-f454-41cf-b175-39758c89e077",
   "metadata": {},
   "source": [
    "### Load data"
   ]
  },
  {
   "cell_type": "code",
   "execution_count": null,
   "id": "5e4cc1ae-4ca4-4a75-afba-239ab19d4d84",
   "metadata": {},
   "outputs": [],
   "source": [
    "# rate_hz     = 3.5     # target firing rate (Hz)\n",
    "# tau_ms      = 100.0    # desired autocorr time constant (ms)\n",
    "# alpha       = 0.3      # self‐excitation weight (must be <1)"
   ]
  },
  {
   "cell_type": "code",
   "execution_count": 7,
   "id": "def971cb-e6f7-44d5-8844-4ad3f2e842cf",
   "metadata": {},
   "outputs": [
    {
     "name": "stdout",
     "output_type": "stream",
     "text": [
      "n spike trains 100000, len 598.8243581617338, duration_ms 600000\n"
     ]
    }
   ],
   "source": [
    "with open(dataset_folder + 'spike_trains_3params_var_len600sec_100000.pkl','rb') as f:\n",
    "    data = pickle.load(f)\n",
    "\n",
    "spike_trains = data['spike_trains']\n",
    "alphas = data['alphas']\n",
    "fr_values = data['fr_values']\n",
    "taus_ms = data['tau_ms']\n",
    "duration_ms = data['duration_ms']\n",
    "\n",
    "print(f'n spike trains {len(spike_trains)}, len {spike_trains[0][-1]/1000}, duration_ms {duration_ms}')\n",
    "\n",
    "fs = 1000"
   ]
  },
  {
   "cell_type": "code",
   "execution_count": null,
   "id": "d81cb21a-5b2a-4723-8bb4-6c0ede168bc0",
   "metadata": {},
   "outputs": [],
   "source": [
    "# fig, axes = plt.subplots(1,3, figsize=(12,3))\n",
    "\n",
    "# axes[0].hist(fr_values, bins=20, color='slategray', alpha=0.4)\n",
    "# #axes.axvline(x=target_fr_hz, color='salmon', label='target FR')\n",
    "# #axes.axvline(x=np.median(rates), color='steelblue', label='generated FR (median)')\n",
    "# axes[0].set_xlabel('Firing rate (Hz)')\n",
    "# axes[0].set_ylabel('Number of spike trains')\n",
    "# # axes.set_title(f'Target FR {target_fr_hz}Hz, \\nmedian FR {np.round(np.median(rates),4)}Hz')\n",
    "# axes[0].set_xlim([0.01,10])\n",
    "\n",
    "# axes[1].hist(alphas, bins=20, color='slategray', alpha=0.4)\n",
    "# #axes.axvline(x=target_fr_hz, color='salmon', label='target FR')\n",
    "# #axes.axvline(x=np.median(rates), color='steelblue', label='generated FR (median)')\n",
    "# axes[1].set_xlabel('Excitation strength (Hz)')\n",
    "# axes[1].set_ylabel('Number of spike trains')\n",
    "# # axes.set_title(f'Target FR {target_fr_hz}Hz, \\nmedian FR {np.round(np.median(rates),4)}Hz')\n",
    "# axes[1].set_xlim([0.1,0.9])\n",
    "\n",
    "# axes[2].hist(taus_ms, bins=20, color='slategray', alpha=0.4)\n",
    "# axes[2].set_ylabel('Number of spike trains')\n",
    "# axes[2].set_xlabel('Tau (ms)')\n",
    "# #axes[2].set_ylim([0.1,0.9])\n",
    "# axes[2].set_xlim([50,300])\n",
    "\n",
    "# sns.despine()\n",
    "\n",
    "# if save_fig:\n",
    "#     plt.savefig(fig_folder + 'dataset_fr_alpha_var.png' , bbox_inches='tight', dpi=300)\n",
    "#     plt.savefig(fig_folder + 'dataset_fr_alpha_var.svg' , bbox_inches='tight')"
   ]
  },
  {
   "cell_type": "code",
   "execution_count": 4,
   "id": "73168ac0-59c6-4e9d-942a-fbccfc92232c",
   "metadata": {},
   "outputs": [
    {
     "name": "stdout",
     "output_type": "stream",
     "text": [
      "len isttc_full_dict 100000\n",
      "len acf_full_dict 100000\n"
     ]
    }
   ],
   "source": [
    "with open(results_folder + 'acf_isttc_full_50ms_20lags_dict.pkl', \"rb\") as f:\n",
    "    isttc_full_dict = pickle.load(f)\n",
    "\n",
    "with open(results_folder + 'acf_full_50ms_20lags_dict.pkl', \"rb\") as f:\n",
    "    acf_full_dict = pickle.load(f)\n",
    "\n",
    "print(f'len isttc_full_dict {len(isttc_full_dict)}')\n",
    "print(f'len acf_full_dict {len(acf_full_dict)}')"
   ]
  },
  {
   "cell_type": "markdown",
   "id": "c9b6636c-13fc-440a-814a-e5e1fd2e3550",
   "metadata": {},
   "source": [
    "### Make summary dfs"
   ]
  },
  {
   "cell_type": "code",
   "execution_count": null,
   "id": "aad2e915-8b6d-4f3e-aecd-791468a9adc5",
   "metadata": {},
   "outputs": [],
   "source": [
    "# n_lags = 20\n",
    "# acf_cols = ['acf_' + str(i) for i in range(n_lags+1)]\n",
    "# print('acf_cols {}'.format(acf_cols))"
   ]
  },
  {
   "cell_type": "code",
   "execution_count": 5,
   "id": "361933c2-29e6-489b-9b10-3c8636ba14ed",
   "metadata": {},
   "outputs": [],
   "source": [
    "def calculate_acf_decline_flag(acf_, start_idx=1, end_idx=4):\n",
    "    acf_decay = np.all(np.diff(acf_[start_idx:end_idx]) <= 0)\n",
    "    return acf_decay"
   ]
  },
  {
   "cell_type": "code",
   "execution_count": 8,
   "id": "a48062b0-b41f-4118-8e9d-d55261973ed0",
   "metadata": {},
   "outputs": [
    {
     "name": "stdout",
     "output_type": "stream",
     "text": [
      "N rows with NaNs 11\n"
     ]
    },
    {
     "data": {
      "text/html": [
       "<div>\n",
       "<style scoped>\n",
       "    .dataframe tbody tr th:only-of-type {\n",
       "        vertical-align: middle;\n",
       "    }\n",
       "\n",
       "    .dataframe tbody tr th {\n",
       "        vertical-align: top;\n",
       "    }\n",
       "\n",
       "    .dataframe thead th {\n",
       "        text-align: right;\n",
       "    }\n",
       "</style>\n",
       "<table border=\"1\" class=\"dataframe\">\n",
       "  <thead>\n",
       "    <tr style=\"text-align: right;\">\n",
       "      <th></th>\n",
       "      <th>unit_id</th>\n",
       "      <th>tau</th>\n",
       "      <th>tau_lower</th>\n",
       "      <th>tau_upper</th>\n",
       "      <th>fit_r_squared</th>\n",
       "      <th>decline_150_250</th>\n",
       "      <th>tau_ms</th>\n",
       "      <th>method</th>\n",
       "      <th>fr</th>\n",
       "      <th>alpha</th>\n",
       "      <th>tau_ms_true</th>\n",
       "      <th>tau_diff_abs</th>\n",
       "      <th>tau_diff_rel</th>\n",
       "      <th>ci_width</th>\n",
       "    </tr>\n",
       "  </thead>\n",
       "  <tbody>\n",
       "    <tr>\n",
       "      <th>0</th>\n",
       "      <td>0</td>\n",
       "      <td>2.217899</td>\n",
       "      <td>2.119224</td>\n",
       "      <td>2.316575</td>\n",
       "      <td>0.998369</td>\n",
       "      <td>True</td>\n",
       "      <td>110.894975</td>\n",
       "      <td>acf_full</td>\n",
       "      <td>7.741821</td>\n",
       "      <td>0.851099</td>\n",
       "      <td>150.923515</td>\n",
       "      <td>40.028540</td>\n",
       "      <td>26.522401</td>\n",
       "      <td>0.19735</td>\n",
       "    </tr>\n",
       "    <tr>\n",
       "      <th>1</th>\n",
       "      <td>1</td>\n",
       "      <td>2.568210</td>\n",
       "      <td>2.437150</td>\n",
       "      <td>2.699270</td>\n",
       "      <td>0.997899</td>\n",
       "      <td>True</td>\n",
       "      <td>128.410512</td>\n",
       "      <td>acf_full</td>\n",
       "      <td>4.394396</td>\n",
       "      <td>0.858098</td>\n",
       "      <td>147.947233</td>\n",
       "      <td>19.536721</td>\n",
       "      <td>13.205195</td>\n",
       "      <td>0.26212</td>\n",
       "    </tr>\n",
       "  </tbody>\n",
       "</table>\n",
       "</div>"
      ],
      "text/plain": [
       "   unit_id       tau  tau_lower  tau_upper  fit_r_squared  decline_150_250  \\\n",
       "0        0  2.217899   2.119224   2.316575       0.998369             True   \n",
       "1        1  2.568210   2.437150   2.699270       0.997899             True   \n",
       "\n",
       "       tau_ms    method        fr     alpha  tau_ms_true  tau_diff_abs  \\\n",
       "0  110.894975  acf_full  7.741821  0.851099   150.923515     40.028540   \n",
       "1  128.410512  acf_full  4.394396  0.858098   147.947233     19.536721   \n",
       "\n",
       "   tau_diff_rel  ci_width  \n",
       "0     26.522401   0.19735  \n",
       "1     13.205195   0.26212  "
      ]
     },
     "execution_count": 8,
     "metadata": {},
     "output_type": "execute_result"
    }
   ],
   "source": [
    "data = []\n",
    "for unit_id, unit_data in acf_full_dict.items():\n",
    "    taus = unit_data['taus']  \n",
    "    data.append({\n",
    "        'unit_id': unit_id,\n",
    "        'tau': taus['tau'],\n",
    "        'tau_lower': taus['tau_lower'],\n",
    "        'tau_upper': taus['tau_upper'],\n",
    "        'fit_r_squared': taus['fit_r_squared'],\n",
    "        'decline_150_250': calculate_acf_decline_flag(unit_data['acf'], start_idx=2, end_idx=4)\n",
    "    })\n",
    "acf_full_plot_df = pd.DataFrame(data)\n",
    "acf_full_plot_df['tau_ms'] = acf_full_plot_df['tau'] * 50\n",
    "#acf_full_plot_df = acf_full_plot_df.merge(units_info_df_subset, on='unit_id', how='left')\n",
    "\n",
    "rows_with_nans_df = acf_full_plot_df[acf_full_plot_df.isna().any(axis=1)]\n",
    "n_rows_with_nan = len(rows_with_nans_df)\n",
    "print(f'N rows with NaNs {n_rows_with_nan}')\n",
    "acf_full_plot_df['method'] = 'acf_full'\n",
    "acf_full_plot_df['fr'] = fr_values\n",
    "acf_full_plot_df['alpha'] = alphas\n",
    "acf_full_plot_df['tau_ms_true'] = taus_ms\n",
    "acf_full_plot_df['tau_diff_abs'] = np.abs(acf_full_plot_df['tau_ms'] - acf_full_plot_df['tau_ms_true'])\n",
    "acf_full_plot_df['tau_diff_rel'] = acf_full_plot_df['tau_diff_abs'] / acf_full_plot_df['tau_ms_true'] * 100\n",
    "acf_full_plot_df['ci_width'] = np.abs(acf_full_plot_df['tau_upper'] - acf_full_plot_df['tau_lower'])\n",
    "\n",
    "acf_full_plot_df.head(2)"
   ]
  },
  {
   "cell_type": "code",
   "execution_count": null,
   "id": "2916e483-1d61-4ae1-9ce2-d524d3571f3e",
   "metadata": {},
   "outputs": [],
   "source": [
    "acf_full_plot_df.describe()"
   ]
  },
  {
   "cell_type": "code",
   "execution_count": 9,
   "id": "a878f4d4-0f0f-48ae-8808-d92ac8b45ed9",
   "metadata": {},
   "outputs": [
    {
     "name": "stdout",
     "output_type": "stream",
     "text": [
      "N rows with NaNs 0\n"
     ]
    },
    {
     "data": {
      "text/html": [
       "<div>\n",
       "<style scoped>\n",
       "    .dataframe tbody tr th:only-of-type {\n",
       "        vertical-align: middle;\n",
       "    }\n",
       "\n",
       "    .dataframe tbody tr th {\n",
       "        vertical-align: top;\n",
       "    }\n",
       "\n",
       "    .dataframe thead th {\n",
       "        text-align: right;\n",
       "    }\n",
       "</style>\n",
       "<table border=\"1\" class=\"dataframe\">\n",
       "  <thead>\n",
       "    <tr style=\"text-align: right;\">\n",
       "      <th></th>\n",
       "      <th>unit_id</th>\n",
       "      <th>tau</th>\n",
       "      <th>tau_lower</th>\n",
       "      <th>tau_upper</th>\n",
       "      <th>fit_r_squared</th>\n",
       "      <th>decline_150_250</th>\n",
       "      <th>method</th>\n",
       "      <th>tau_ms</th>\n",
       "      <th>fr</th>\n",
       "      <th>alpha</th>\n",
       "      <th>tau_ms_true</th>\n",
       "      <th>tau_diff_abs</th>\n",
       "      <th>tau_diff_rel</th>\n",
       "      <th>ci_width</th>\n",
       "    </tr>\n",
       "  </thead>\n",
       "  <tbody>\n",
       "    <tr>\n",
       "      <th>0</th>\n",
       "      <td>0</td>\n",
       "      <td>2.523412</td>\n",
       "      <td>2.362379</td>\n",
       "      <td>2.684445</td>\n",
       "      <td>0.996707</td>\n",
       "      <td>True</td>\n",
       "      <td>isttc_full</td>\n",
       "      <td>126.170618</td>\n",
       "      <td>7.741821</td>\n",
       "      <td>0.851099</td>\n",
       "      <td>150.923515</td>\n",
       "      <td>24.752897</td>\n",
       "      <td>16.400954</td>\n",
       "      <td>0.322066</td>\n",
       "    </tr>\n",
       "    <tr>\n",
       "      <th>1</th>\n",
       "      <td>1</td>\n",
       "      <td>2.834326</td>\n",
       "      <td>2.688470</td>\n",
       "      <td>2.980182</td>\n",
       "      <td>0.997916</td>\n",
       "      <td>True</td>\n",
       "      <td>isttc_full</td>\n",
       "      <td>141.716309</td>\n",
       "      <td>4.394396</td>\n",
       "      <td>0.858098</td>\n",
       "      <td>147.947233</td>\n",
       "      <td>6.230924</td>\n",
       "      <td>4.211585</td>\n",
       "      <td>0.291712</td>\n",
       "    </tr>\n",
       "  </tbody>\n",
       "</table>\n",
       "</div>"
      ],
      "text/plain": [
       "   unit_id       tau  tau_lower  tau_upper  fit_r_squared  decline_150_250  \\\n",
       "0        0  2.523412   2.362379   2.684445       0.996707             True   \n",
       "1        1  2.834326   2.688470   2.980182       0.997916             True   \n",
       "\n",
       "       method      tau_ms        fr     alpha  tau_ms_true  tau_diff_abs  \\\n",
       "0  isttc_full  126.170618  7.741821  0.851099   150.923515     24.752897   \n",
       "1  isttc_full  141.716309  4.394396  0.858098   147.947233      6.230924   \n",
       "\n",
       "   tau_diff_rel  ci_width  \n",
       "0     16.400954  0.322066  \n",
       "1      4.211585  0.291712  "
      ]
     },
     "execution_count": 9,
     "metadata": {},
     "output_type": "execute_result"
    }
   ],
   "source": [
    "data = []\n",
    "for unit_id, unit_data in isttc_full_dict.items():\n",
    "    taus = unit_data['taus']      \n",
    "    data.append({\n",
    "        'unit_id': unit_id,\n",
    "        'tau': taus['tau'],\n",
    "        'tau_lower': taus['tau_lower'],\n",
    "        'tau_upper': taus['tau_upper'],\n",
    "        'fit_r_squared': taus['fit_r_squared'],\n",
    "        'decline_150_250': calculate_acf_decline_flag(unit_data['acf'], start_idx=2, end_idx=4)\n",
    "    })\n",
    "acf_isttc_full_plot_df = pd.DataFrame(data)\n",
    "acf_isttc_full_plot_df['method'] = 'isttc_full'\n",
    "acf_isttc_full_plot_df['tau_ms'] = acf_isttc_full_plot_df['tau'] * 50\n",
    "#acf_isttc_full_plot_df = acf_isttc_full_plot_df.merge(units_info_df_subset, on='unit_id', how='left')\n",
    "\n",
    "rows_with_nans_df = acf_isttc_full_plot_df[acf_isttc_full_plot_df.isna().any(axis=1)]\n",
    "n_rows_with_nan = len(rows_with_nans_df)\n",
    "print(f'N rows with NaNs {n_rows_with_nan}')\n",
    "\n",
    "acf_isttc_full_plot_df['method'] = 'isttc_full'\n",
    "acf_isttc_full_plot_df['fr'] = fr_values\n",
    "acf_isttc_full_plot_df['alpha'] = alphas\n",
    "acf_isttc_full_plot_df['tau_ms_true'] = taus_ms\n",
    "acf_isttc_full_plot_df['tau_diff_abs'] = np.abs(acf_isttc_full_plot_df['tau_ms'] - acf_isttc_full_plot_df['tau_ms_true'])\n",
    "acf_isttc_full_plot_df['tau_diff_rel'] = acf_isttc_full_plot_df['tau_diff_abs'] / acf_isttc_full_plot_df['tau_ms_true'] * 100\n",
    "acf_isttc_full_plot_df['ci_width'] = np.abs(acf_isttc_full_plot_df['tau_upper'] - acf_isttc_full_plot_df['tau_lower'])\n",
    "\n",
    "acf_isttc_full_plot_df.head(2)"
   ]
  },
  {
   "cell_type": "code",
   "execution_count": null,
   "id": "66cceefc-2e72-4a42-bfbf-b58474c7b005",
   "metadata": {},
   "outputs": [],
   "source": [
    "acf_isttc_full_plot_df.describe()"
   ]
  },
  {
   "cell_type": "code",
   "execution_count": 10,
   "id": "60273ed2-72e5-48e5-911e-fb5b4a00fdd1",
   "metadata": {},
   "outputs": [],
   "source": [
    "tau_combined_plot_df = pd.concat([acf_full_plot_df, acf_isttc_full_plot_df])\n",
    "tau_combined_plot_df.reset_index(inplace=True, drop=True)"
   ]
  },
  {
   "cell_type": "markdown",
   "id": "bd60b423-d861-47b0-9458-43ad75e8fecf",
   "metadata": {},
   "source": [
    "### Plots"
   ]
  },
  {
   "cell_type": "code",
   "execution_count": 11,
   "id": "17c5a647-a843-438c-9e53-5dd3da92fc22",
   "metadata": {},
   "outputs": [],
   "source": [
    "color_acf_full = '#4783B4'\n",
    "color_isttc_full = '#E2552A'\n",
    "color_pearson_trail_avg = 'slategray' \n",
    "color_sttc_trail_avg =  '#E97451' \n",
    "color_sttc_trail_concat = '#B94E48' "
   ]
  },
  {
   "cell_type": "code",
   "execution_count": null,
   "id": "b2897802-b889-48ed-91b0-6ef9625a3a67",
   "metadata": {},
   "outputs": [],
   "source": [
    "x = acf_full_plot_df['fr']\n",
    "y = acf_full_plot_df['alpha']\n",
    "z = np.log10(acf_full_plot_df['tau_diff_rel'])\n",
    "\n",
    "plt.figure(figsize=(8,6))\n",
    "hb = plt.hexbin(\n",
    "    x, y,\n",
    "    C=z,\n",
    "    reduce_C_function=np.median,   # aggregate by mean\n",
    "    gridsize=20,                 # adjust bin resolution\n",
    "    cmap='YlGnBu',\n",
    "    mincnt=1                     # hide empty bins\n",
    ")\n",
    "cb = plt.colorbar(hb)\n",
    "cb.set_label('mean log₁₀(τₘₛ – 100)')\n",
    "plt.xlabel('fr')\n",
    "plt.ylabel('alpha')\n",
    "plt.title('Binned hex‐bin of fr vs. alpha')\n",
    "plt.show()"
   ]
  },
  {
   "cell_type": "code",
   "execution_count": null,
   "id": "bd762670-0d66-4a19-9b4b-b8387873e098",
   "metadata": {},
   "outputs": [],
   "source": [
    "x = acf_isttc_full_plot_df['fr']\n",
    "y = acf_isttc_full_plot_df['alpha']\n",
    "z = np.log10(acf_isttc_full_plot_df['tau_diff_rel'])\n",
    "\n",
    "plt.figure(figsize=(8,6))\n",
    "hb = plt.hexbin(\n",
    "    x, y,\n",
    "    C=z,\n",
    "    reduce_C_function=np.median,   # aggregate by mean\n",
    "    gridsize=20,                 # adjust bin resolution\n",
    "    cmap='YlGnBu',\n",
    "    mincnt=1                     # hide empty bins\n",
    ")\n",
    "cb = plt.colorbar(hb)\n",
    "cb.set_label('mean log₁₀(τₘₛ – 100)')\n",
    "plt.xlabel('fr')\n",
    "plt.ylabel('alpha')\n",
    "plt.title('Binned hex‐bin of fr vs. alpha')\n",
    "plt.show()"
   ]
  },
  {
   "cell_type": "code",
   "execution_count": 98,
   "id": "b047af72-2fd7-45fa-b0f4-753f656876e8",
   "metadata": {},
   "outputs": [
    {
     "data": {
      "image/png": "[encoded data removed]",
      "text/plain": [
       "<Figure size 800x250 with 4 Axes>"
      ]
     },
     "metadata": {},
     "output_type": "display_data"
    }
   ],
   "source": [
    "fig, axes = plt.subplots(1,2, figsize=(8,2.5))\n",
    "\n",
    "norm = TwoSlopeNorm(vcenter=0)\n",
    "\n",
    "hb0 = axes[0].hexbin(\n",
    "    x=acf_isttc_full_plot_df['fr'], y=acf_isttc_full_plot_df['alpha'],\n",
    "    C=acf_isttc_full_plot_df['tau_diff_rel'] - acf_full_plot_df['tau_diff_rel'],\n",
    "    reduce_C_function=np.median,   \n",
    "    gridsize=10,                \n",
    "    cmap='coolwarm',\n",
    "    norm = norm,\n",
    "    mincnt=1                    \n",
    ")\n",
    "\n",
    "hb1 = axes[1].hexbin(\n",
    "    x=acf_isttc_full_plot_df['tau_ms_true'], y=acf_isttc_full_plot_df['alpha'],\n",
    "    C=acf_isttc_full_plot_df['tau_diff_rel'] - acf_full_plot_df['tau_diff_rel'],\n",
    "    reduce_C_function=np.median,   \n",
    "    gridsize=10,                \n",
    "    cmap='coolwarm',\n",
    "    norm = norm,\n",
    "    mincnt=1   \n",
    ")\n",
    "\n",
    "vmin = np.floor(np.min([hb0.get_array().min(), hb1.get_array().min()]))\n",
    "vmax = np.ceil(np.max([hb0.get_array().max(), hb1.get_array().max()]))\n",
    "#print(vmin, vmax)\n",
    "\n",
    "hb0.set_clim(vmin, vmax)\n",
    "hb1.set_clim(vmin, vmax)\n",
    "\n",
    "fig.colorbar(hb0, ax=axes[0], shrink=1)\n",
    "fig.colorbar(hb1, ax=axes[1], shrink=1)\n",
    "\n",
    "axes[0].set_xlabel('Firing rate (hz)')\n",
    "axes[1].set_xlabel('Intrinsic timescale (ms)')\n",
    "axes[1].set_xticks(np.linspace(50, 300, 6))\n",
    "\n",
    "fig.suptitle('Relative error abs(tau - tau_true)/tau_true * 100, y=1.05')\n",
    "\n",
    "for ax in axes.flat:\n",
    "    sns.despine(ax=ax)\n",
    "    ax.set_ylabel('Excitation strength (a.u.)')\n",
    "    ax.set_ylim([0.1, 0.9])\n",
    "    ax.set_yticks(np.linspace(0.1, 0.9, 5))\n",
    "\n",
    "plt.savefig(fig_folder + 'taus_dataset_3_var_rel_diff.png' , bbox_inches='tight', dpi=300)\n",
    "plt.savefig(fig_folder + 'taus_dataset_3_var_rel_diff.svg' , bbox_inches='tight')"
   ]
  },
  {
   "cell_type": "code",
   "execution_count": 95,
   "id": "61c51970-faf7-434d-bb3d-b44d1ab98611",
   "metadata": {},
   "outputs": [
    {
     "data": {
      "text/plain": [
       "array([0.1, 0.3, 0.5, 0.7, 0.9])"
      ]
     },
     "execution_count": 95,
     "metadata": {},
     "output_type": "execute_result"
    }
   ],
   "source": [
    "np.linspace(0.1, 0.9, 5)"
   ]
  },
  {
   "cell_type": "code",
   "execution_count": null,
   "id": "2ffd8c81-e494-4db2-8673-4d4001a88ad7",
   "metadata": {},
   "outputs": [],
   "source": [
    "fig, axes = plt.subplots(1,3, figsize=(15, 3), sharey=False)\n",
    "\n",
    "sns.regplot(x=acf_full_plot_df['fr'].values, y=np.log10(acf_full_plot_df['tau_diff_rel']), scatter=None, ax=axes[0], \n",
    "            label='acf_full', color=color_acf_full)\n",
    "sns.regplot(x=acf_full_plot_df['fr'].values, y=np.log10(acf_isttc_full_plot_df['tau_diff_rel']), scatter=None, ax=axes[0], \n",
    "            label='isttc_full', color=color_isttc_full)\n",
    "axes[0].legend(frameon=False)\n",
    "\n",
    "sns.regplot(x=acf_full_plot_df['alpha'].values, y=np.log10(acf_full_plot_df['tau_diff_rel']), scatter=None, ax=axes[1], \n",
    "            label='acf_full', color=color_acf_full)\n",
    "sns.regplot(x=acf_full_plot_df['alpha'].values, y=np.log10(acf_isttc_full_plot_df['tau_diff_rel']), scatter=None, ax=axes[1], \n",
    "            label='isttc_full', color=color_isttc_full)\n",
    "axes[1].legend(frameon=False)\n",
    "\n",
    "sns.regplot(x=acf_full_plot_df['tau_ms_true'].values, y=np.log10(acf_full_plot_df['tau_diff_rel']), scatter=None, ax=axes[2], \n",
    "            label='acf_full', color=color_acf_full)\n",
    "sns.regplot(x=acf_full_plot_df['tau_ms_true'].values, y=np.log10(acf_isttc_full_plot_df['tau_diff_rel']), scatter=None, ax=axes[2], \n",
    "            label='isttc_full', color=color_isttc_full)\n",
    "axes[2].legend(frameon=False)\n",
    "\n",
    "\n",
    "axes[0].set_xlabel('Firing rate (Hz)')\n",
    "axes[1].set_xlabel('Excitation strength (a.u.)')\n",
    "axes[2].set_xlabel('Intrinsic timescale (ms)')\n",
    "\n",
    "for ax in axes.flat:\n",
    "    ax.set_ylabel('Log10 diff(IT, \\nground truth) (ms)')\n",
    "\n",
    "sns.despine()\n",
    "\n",
    "if save_fig:\n",
    "    plt.savefig(fig_folder + 'taus_dataset_fr_alpha_var_diff.png' , bbox_inches='tight', dpi=300)\n",
    "    plt.savefig(fig_folder + 'taus_dataset_fr_alpha_var_diff.svg' , bbox_inches='tight')"
   ]
  },
  {
   "cell_type": "markdown",
   "id": "fbf15eb8-2500-4989-844c-02ca29d2b92b",
   "metadata": {},
   "source": [
    "### Export for stats"
   ]
  },
  {
   "cell_type": "code",
   "execution_count": null,
   "id": "3c175e54-7331-4460-b823-80f1bc6e8bde",
   "metadata": {},
   "outputs": [],
   "source": [
    "tau_combined_plot_df.to_csv(results_folder + 'tau_combined_plot_df.csv')"
   ]
  }
 ],
 "metadata": {
  "kernelspec": {
   "display_name": "Python 3 (ipykernel)",
   "language": "python",
   "name": "python3"
  },
  "language_info": {
   "codemirror_mode": {
    "name": "ipython",
    "version": 3
   },
   "file_extension": ".py",
   "mimetype": "text/x-python",
   "name": "python",
   "nbconvert_exporter": "python",
   "pygments_lexer": "ipython3",
   "version": "3.12.9"
  }
 },
 "nbformat": 4,
 "nbformat_minor": 5
}
