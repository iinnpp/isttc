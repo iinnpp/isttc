{
 "cells": [
  {
   "cell_type": "markdown",
   "id": "6452f561-0fc1-4840-8216-4d8a86032aeb",
   "metadata": {},
   "source": [
    "Generating trials dataset using resampling procedure.\n",
    "\n",
    "* Number of resampling iterations: 100 (based on bootstrapping stability analysis)\n",
    "* Number of trials per resampling: N = 40 (based on data in monkey dataset so the number of trials is from experiments)"
   ]
  },
  {
   "cell_type": "code",
   "execution_count": 1,
   "id": "2e092926-3abe-4a61-b1c9-c62409412ec4",
   "metadata": {},
   "outputs": [],
   "source": [
    "import csv\n",
    "import pickle\n",
    "import numpy as np\n",
    "\n",
    "# import from scripts\n",
    "import os\n",
    "current_wd = os.getcwd()\n",
    "os.chdir(os.path.abspath(\"..\\\\..\\\\..\\\\isttc\\\\scripts\"))\n",
    "#os.chdir(os.path.abspath(\"C:\\\\Users\\\\ipoch\\\\Documents\\\\repos\\\\isttc\\\\scripts\"))\n",
    "from cfg_global import project_folder_path\n",
    "from spike_train_utils import get_trials, bin_trials\n",
    "os.chdir(current_wd)"
   ]
  },
  {
   "cell_type": "code",
   "execution_count": 2,
   "id": "536dcb61-d571-4621-9a2b-55d665cd354d",
   "metadata": {},
   "outputs": [],
   "source": [
    "dataset_folder = project_folder_path + 'results\\\\synthetic\\\\dataset\\\\'"
   ]
  },
  {
   "cell_type": "markdown",
   "id": "0908140b-15a8-40ad-89bd-69c69b5d4c00",
   "metadata": {},
   "source": [
    "### Get data"
   ]
  },
  {
   "cell_type": "code",
   "execution_count": 3,
   "id": "c4ad45ca-26f9-4fdc-bca1-959777e0572b",
   "metadata": {},
   "outputs": [
    {
     "name": "stdout",
     "output_type": "stream",
     "text": [
      "n spike trains 1000, len 599.4657698736828, duration_ms 600000\n"
     ]
    }
   ],
   "source": [
    "with open(dataset_folder + '0_spike_trains_tau100ms_alpha0_3_fr3_5hz_len600sec_1000.pkl','rb') as f:\n",
    "    data = pickle.load(f)\n",
    "\n",
    "all_spike_trains = data['spike_trains']\n",
    "alphas = data['alphas']\n",
    "fr_values = data['fr_values']\n",
    "tau_ms = data['tau_ms']\n",
    "duration_ms = data['duration_ms']\n",
    "\n",
    "print(f'n spike trains {len(all_spike_trains)}, len {all_spike_trains[0][-1]/1000}, duration_ms {duration_ms}')"
   ]
  },
  {
   "cell_type": "markdown",
   "id": "49e87fa8-9cd1-43c0-8b1d-c5e508c25751",
   "metadata": {},
   "source": [
    "### Make trials "
   ]
  },
  {
   "cell_type": "markdown",
   "id": "f7ee9e36-a190-4842-8e02-6f78115838b0",
   "metadata": {},
   "source": [
    "#### Same n_trials and same trial len"
   ]
  },
  {
   "cell_type": "code",
   "execution_count": null,
   "id": "89b6de93-bccc-4a1e-8ada-32787b288df3",
   "metadata": {},
   "outputs": [],
   "source": [
    "n_trials = 40  \n",
    "m_iterations = 100\n",
    "\n",
    "fs = 1000\n",
    "bin_size = 50 # in ms\n",
    "signal_len = int(10 * 60 * fs)\n",
    "trial_len = int(1000 * (fs / 1000)) # 1000ms trials "
   ]
  },
  {
   "cell_type": "code",
   "execution_count": null,
   "id": "e4071460-7bc7-4827-8722-1d5f0dfa96a2",
   "metadata": {},
   "outputs": [],
   "source": [
    "trial_dict = {}\n",
    "trial_binned_dict = {}\n",
    "\n",
    "for i in range(len(all_spike_trains)):\n",
    "    if (i % 100) == 0:\n",
    "        print(f'Processing unit {i}')\n",
    "    unit_trial_dict = {}\n",
    "    unit_trial_binned_dict = {}\n",
    "    for m in range(m_iterations):\n",
    "        spikes = np.asarray([int(spike) for spike in all_spike_trains[i]])\n",
    "        spikes_trials = get_trials(spikes, signal_len, n_trials, trial_len, verbose_=False)\n",
    "        spikes_trials_binned = bin_trials(spikes_trials, trial_len, int(bin_size*(fs/1000)))\n",
    "        unit_trial_dict[m] = spikes_trials\n",
    "        unit_trial_binned_dict[m] = spikes_trials_binned\n",
    "\n",
    "    trial_dict[i] = unit_trial_dict\n",
    "    trial_binned_dict[i] = unit_trial_binned_dict"
   ]
  },
  {
   "cell_type": "code",
   "execution_count": null,
   "id": "a589855a-abe9-47cb-af21-33790aea5edc",
   "metadata": {},
   "outputs": [],
   "source": [
    "with open(dataset_folder + 'trial_dict.pkl', 'wb') as f:\n",
    "    pickle.dump(trial_dict, f)\n",
    "\n",
    "with open(dataset_folder + 'trial_binned_dict.pkl', 'wb') as f:\n",
    "    pickle.dump(trial_binned_dict, f)"
   ]
  },
  {
   "cell_type": "markdown",
   "id": "bedb2be0-a5da-462a-a708-0b7712d0b2ca",
   "metadata": {},
   "source": [
    "#### Varying n_trails and trial len"
   ]
  },
  {
   "cell_type": "code",
   "execution_count": 6,
   "id": "6533bff6-2c4d-46b1-9bc8-54c9900a60f0",
   "metadata": {},
   "outputs": [],
   "source": [
    "m_iterations = 100\n",
    "fs = 1000\n",
    "bin_size = 50 # in ms\n",
    "signal_len = int(10 * 60 * fs)\n",
    "\n",
    "n_trials_min, n_trials_max = 10, 100  \n",
    "trial_len_min, trial_len_max = 1000, 5*1000  \n",
    "\n",
    "global_rng = np.random.default_rng(42)\n",
    "# for v1 datasets\n",
    "# n_trials_all = global_rng.integers(n_trials_min,\n",
    "#                               n_trials_max,\n",
    "#                               size=len(all_spike_trains),\n",
    "#                               endpoint=True)\n",
    "\n",
    "# for v2 datasets\n",
    "possible_n_trials = np.arange(n_trials_min, n_trials_max+1, 10)\n",
    "n_trials_all = global_rng.choice(possible_n_trials, size=len(all_spike_trains))\n",
    "\n",
    "possible_trial_len = np.arange(trial_len_min, trial_len_max+1, 500)\n",
    "trial_lens_all = global_rng.choice(possible_trial_len, size=len(all_spike_trains))"
   ]
  },
  {
   "cell_type": "code",
   "execution_count": 9,
   "id": "ba39a06d-2e3e-47f6-acad-9d256bca7442",
   "metadata": {},
   "outputs": [
    {
     "name": "stdout",
     "output_type": "stream",
     "text": [
      "Processing unit 0\n",
      "Processing unit 100\n",
      "Processing unit 200\n",
      "Processing unit 300\n",
      "Processing unit 400\n",
      "Processing unit 500\n",
      "Processing unit 600\n",
      "Processing unit 700\n",
      "Processing unit 800\n",
      "Processing unit 900\n"
     ]
    }
   ],
   "source": [
    "trial_dict = {}\n",
    "trial_binned_dict = {}\n",
    "\n",
    "for i in range(len(all_spike_trains)):\n",
    "    if (i % 100) == 0:\n",
    "        print(f'Processing unit {i}')\n",
    "    unit_trial_dict = {}\n",
    "    unit_trial_binned_dict = {}\n",
    "\n",
    "    n_trials = n_trials_all[i]\n",
    "    trial_len = trial_lens_all[i]\n",
    "    for m in range(m_iterations):\n",
    "        spikes = np.asarray([int(spike) for spike in all_spike_trains[i]])\n",
    "        spikes_trials = get_trials(spikes, signal_len, n_trials, trial_len, verbose_=False)\n",
    "        spikes_trials_binned = bin_trials(spikes_trials, trial_len, int(bin_size*(fs/1000)))\n",
    "        unit_trial_dict[m] = spikes_trials\n",
    "        unit_trial_binned_dict[m] = spikes_trials_binned\n",
    "\n",
    "    trial_dict[i] = unit_trial_dict\n",
    "    trial_binned_dict[i] = unit_trial_binned_dict"
   ]
  },
  {
   "cell_type": "code",
   "execution_count": 10,
   "id": "a82f1724-c7d9-4420-b5c7-91d7521da3b1",
   "metadata": {},
   "outputs": [],
   "source": [
    "trial_dict_full = {'trial_dict': trial_dict, \n",
    "                   'n_trials': n_trials_all, \n",
    "                   'trial_lens':trial_lens_all}\n",
    "trial_binned_dict_full = {'trial_dict': trial_binned_dict, \n",
    "                   'n_trials': n_trials_all, \n",
    "                   'trial_lens':trial_lens_all}\n",
    "\n",
    "\n",
    "with open(dataset_folder + '0_trial_var_tau100ms_alpha0_3_fr3_5hz_len600sec_1000_dict_v2.pkl', 'wb') as f:\n",
    "    pickle.dump(trial_dict_full, f)\n",
    "\n",
    "with open(dataset_folder + '0_trial_binned_var_tau100ms_alpha0_3_fr3_5hz_len600sec_1000_dict_v2.pkl', 'wb') as f:\n",
    "    pickle.dump(trial_binned_dict_full, f)"
   ]
  }
 ],
 "metadata": {
  "kernelspec": {
   "display_name": "Python 3 (ipykernel)",
   "language": "python",
   "name": "python3"
  },
  "language_info": {
   "codemirror_mode": {
    "name": "ipython",
    "version": 3
   },
   "file_extension": ".py",
   "mimetype": "text/x-python",
   "name": "python",
   "nbconvert_exporter": "python",
   "pygments_lexer": "ipython3",
   "version": "3.12.9"
  }
 },
 "nbformat": 4,
 "nbformat_minor": 5
}
