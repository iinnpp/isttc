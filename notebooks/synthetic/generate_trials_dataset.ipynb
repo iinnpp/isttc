{
 "cells": [
  {
   "cell_type": "markdown",
   "id": "6452f561-0fc1-4840-8216-4d8a86032aeb",
   "metadata": {},
   "source": [
    "Generating trials dataset using resampling procedure.\n",
    "\n",
    "* Number of resampling iterations: 100 (based on bootstrapping stability analysis)\n",
    "* Number of trials per resampling: N = 40 (based on data in monkey dataset so the number of trials is from experiments)"
   ]
  },
  {
   "cell_type": "code",
   "execution_count": 1,
   "id": "2e092926-3abe-4a61-b1c9-c62409412ec4",
   "metadata": {},
   "outputs": [],
   "source": [
    "import csv\n",
    "import pickle\n",
    "import numpy as np\n",
    "\n",
    "# import from scripts\n",
    "import os\n",
    "current_wd = os.getcwd()\n",
    "os.chdir(os.path.abspath(\"..\\\\..\\\\..\\\\isttc\\\\scripts\"))\n",
    "#os.chdir(os.path.abspath(\"C:\\\\Users\\\\ipoch\\\\Documents\\\\repos\\\\isttc\\\\scripts\"))\n",
    "from cfg_global import project_folder_path\n",
    "from spike_train_utils import get_trials, bin_trials\n",
    "os.chdir(current_wd)"
   ]
  },
  {
   "cell_type": "code",
   "execution_count": 2,
   "id": "536dcb61-d571-4621-9a2b-55d665cd354d",
   "metadata": {},
   "outputs": [],
   "source": [
    "dataset_folder = project_folder_path + 'results\\\\synthetic\\\\dataset\\\\'"
   ]
  },
  {
   "cell_type": "markdown",
   "id": "0908140b-15a8-40ad-89bd-69c69b5d4c00",
   "metadata": {},
   "source": [
    "### Get data"
   ]
  },
  {
   "cell_type": "code",
   "execution_count": 4,
   "id": "c4ad45ca-26f9-4fdc-bca1-959777e0572b",
   "metadata": {},
   "outputs": [
    {
     "name": "stdout",
     "output_type": "stream",
     "text": [
      "n spike trains 1000, len 599.4657698736828, duration_ms 600000\n"
     ]
    }
   ],
   "source": [
    "with open(dataset_folder + 'spike_trains_tau100ms_alpha0_3_fr3_5hz_len600sec_1000.pkl','rb') as f:\n",
    "    data = pickle.load(f)\n",
    "\n",
    "all_spike_trains = data['spike_trains']\n",
    "alphas = data['alphas']\n",
    "fr_values = data['fr_values']\n",
    "tau_ms = data['tau_ms']\n",
    "duration_ms = data['duration_ms']\n",
    "\n",
    "print(f'n spike trains {len(all_spike_trains)}, len {all_spike_trains[0][-1]/1000}, duration_ms {duration_ms}')"
   ]
  },
  {
   "cell_type": "markdown",
   "id": "49e87fa8-9cd1-43c0-8b1d-c5e508c25751",
   "metadata": {},
   "source": [
    "### Make trials "
   ]
  },
  {
   "cell_type": "markdown",
   "id": "f7ee9e36-a190-4842-8e02-6f78115838b0",
   "metadata": {},
   "source": [
    "#### Same n_trials and same trial len"
   ]
  },
  {
   "cell_type": "code",
   "execution_count": null,
   "id": "89b6de93-bccc-4a1e-8ada-32787b288df3",
   "metadata": {},
   "outputs": [],
   "source": [
    "n_trials = 40  \n",
    "m_iterations = 100\n",
    "\n",
    "fs = 1000\n",
    "bin_size = 50 # in ms\n",
    "signal_len = int(10 * 60 * fs)\n",
    "trial_len = int(1000 * (fs / 1000)) # 1000ms trials "
   ]
  },
  {
   "cell_type": "code",
   "execution_count": null,
   "id": "e4071460-7bc7-4827-8722-1d5f0dfa96a2",
   "metadata": {},
   "outputs": [],
   "source": [
    "trial_dict = {}\n",
    "trial_binned_dict = {}\n",
    "\n",
    "for i in range(len(all_spike_trains)):\n",
    "    if (i % 100) == 0:\n",
    "        print(f'Processing unit {i}')\n",
    "    unit_trial_dict = {}\n",
    "    unit_trial_binned_dict = {}\n",
    "    for m in range(m_iterations):\n",
    "        spikes = np.asarray([int(spike) for spike in all_spike_trains[i]])\n",
    "        spikes_trials = get_trials(spikes, signal_len, n_trials, trial_len, verbose_=False)\n",
    "        spikes_trials_binned = bin_trials(spikes_trials, trial_len, int(bin_size*(fs/1000)))\n",
    "        unit_trial_dict[m] = spikes_trials\n",
    "        unit_trial_binned_dict[m] = spikes_trials_binned\n",
    "\n",
    "    trial_dict[i] = unit_trial_dict\n",
    "    trial_binned_dict[i] = unit_trial_binned_dict"
   ]
  },
  {
   "cell_type": "code",
   "execution_count": null,
   "id": "a589855a-abe9-47cb-af21-33790aea5edc",
   "metadata": {},
   "outputs": [],
   "source": [
    "with open(dataset_folder + 'trial_dict.pkl', 'wb') as f:\n",
    "    pickle.dump(trial_dict, f)\n",
    "\n",
    "with open(dataset_folder + 'trial_binned_dict.pkl', 'wb') as f:\n",
    "    pickle.dump(trial_binned_dict, f)"
   ]
  },
  {
   "cell_type": "markdown",
   "id": "bedb2be0-a5da-462a-a708-0b7712d0b2ca",
   "metadata": {},
   "source": [
    "#### Varying n_trails and trial len"
   ]
  },
  {
   "cell_type": "code",
   "execution_count": 11,
   "id": "6533bff6-2c4d-46b1-9bc8-54c9900a60f0",
   "metadata": {},
   "outputs": [],
   "source": [
    "m_iterations = 100\n",
    "fs = 1000\n",
    "bin_size = 50 # in ms\n",
    "signal_len = int(10 * 60 * fs)\n",
    "\n",
    "n_trials_min, n_trials_max = 10, 100  \n",
    "trial_len_min, trial_len_max = 1000, 5*1000  \n",
    "\n",
    "global_rng = np.random.default_rng(42)\n",
    "n_trials_all = global_rng.integers(n_trials_min,\n",
    "                              n_trials_max,\n",
    "                              size=len(all_spike_trains),\n",
    "                              endpoint=True)\n",
    "possible_trial_len = np.arange(trial_len_min, trial_len_max+1, 500)\n",
    "trial_lens_all = global_rng.choice(possible_trial_len, size=len(all_spike_trains))"
   ]
  },
  {
   "cell_type": "code",
   "execution_count": 12,
   "id": "ba39a06d-2e3e-47f6-acad-9d256bca7442",
   "metadata": {},
   "outputs": [
    {
     "name": "stdout",
     "output_type": "stream",
     "text": [
      "Processing unit 0\n",
      "Processing unit 100\n",
      "Processing unit 200\n",
      "Processing unit 300\n",
      "Processing unit 400\n",
      "Processing unit 500\n",
      "Processing unit 600\n",
      "Processing unit 700\n",
      "Processing unit 800\n",
      "Processing unit 900\n"
     ]
    }
   ],
   "source": [
    "trial_dict = {}\n",
    "trial_binned_dict = {}\n",
    "\n",
    "for i in range(len(all_spike_trains)):\n",
    "    if (i % 100) == 0:\n",
    "        print(f'Processing unit {i}')\n",
    "    unit_trial_dict = {}\n",
    "    unit_trial_binned_dict = {}\n",
    "\n",
    "    n_trials = n_trials_all[i]\n",
    "    trial_len = trial_lens_all[i]\n",
    "    for m in range(m_iterations):\n",
    "        spikes = np.asarray([int(spike) for spike in all_spike_trains[i]])\n",
    "        spikes_trials = get_trials(spikes, signal_len, n_trials, trial_len, verbose_=False)\n",
    "        spikes_trials_binned = bin_trials(spikes_trials, trial_len, int(bin_size*(fs/1000)))\n",
    "        unit_trial_dict[m] = spikes_trials\n",
    "        unit_trial_binned_dict[m] = spikes_trials_binned\n",
    "\n",
    "    trial_dict[i] = unit_trial_dict\n",
    "    trial_binned_dict[i] = unit_trial_binned_dict"
   ]
  },
  {
   "cell_type": "code",
   "execution_count": 16,
   "id": "a82f1724-c7d9-4420-b5c7-91d7521da3b1",
   "metadata": {},
   "outputs": [],
   "source": [
    "trial_dict_full = {'trial_dict': trial_dict, \n",
    "                   'n_trials': n_trials_all, \n",
    "                   'trial_lens':trial_lens_all}\n",
    "trial_binned_dict_full = {'trial_dict': trial_binned_dict, \n",
    "                   'n_trials': n_trials_all, \n",
    "                   'trial_lens':trial_lens_all}\n",
    "\n",
    "\n",
    "with open(dataset_folder + 'trial_var_tau100ms_alpha0_3_fr3_5hz_len600sec_1000_dict.pkl', 'wb') as f:\n",
    "    pickle.dump(trial_dict_full, f)\n",
    "\n",
    "with open(dataset_folder + 'trial_binned_var_tau100ms_alpha0_3_fr3_5hz_len600sec_1000_dict.pkl', 'wb') as f:\n",
    "    pickle.dump(trial_binned_dict_full, f)"
   ]
  },
  {
   "cell_type": "code",
   "execution_count": 19,
   "id": "030b37bb-2e9f-45a4-a066-2a39aa30b41b",
   "metadata": {},
   "outputs": [
    {
     "data": {
      "text/plain": [
       "array([ 18,  80,  69,  49,  49,  88,  17,  73,  28,  18,  57,  98,  76,\n",
       "        79,  75,  81,  56,  21,  86,  50,  55,  43,  26,  94,  81,  68,\n",
       "        46,  84,  59,  50,  50,  30,  18,  60,  90,  15,  88,  85,  35,\n",
       "        67,  25,  78,  73,  42,  16,  98,  50,  91,  71,  80,  79,  27,\n",
       "        43,  52,  55,  13,  59,  24,  77,  72,  93,  77,  43,  98,  47,\n",
       "        39,  92,  43,  16,  52,  82,  27,  52,  21,  72,  53,  40,  30,\n",
       "        61,  70,  95,  49,  24,  85,  67,  73,  18,  38,  79,  85,  49,\n",
       "        83,  86,  45,  91,  36,  31,  72,  67,  22,  85,  28,  83,  10,\n",
       "        82,  81,  81,  70,  52,  74,  35,  81,  60,  51,  56,  61,  13,\n",
       "        22,  32,  20,  50,  70,  69,  52,  87,  61,  17,  79,  62,  67,\n",
       "        61,  60,  18,  60,  82,  37,  64,  12,  41,  49,  99,  29,  35,\n",
       "        47, 100,  87,  13,  31,  84,  15,  87,  35,  93,  36,  49,  70,\n",
       "        21,  60,  55,  81, 100,  70,  47,  46,  48,  84,  39,  25,  40,\n",
       "        12,  19,  18,  80,  75,  73,  52,  75,  24,  91,  55,  95,  23,\n",
       "        55,  73,  55,  50,  25,  44,  31,  37,  72,  67,  65,  42,  97,\n",
       "        17,  41,  20,  40,  97,  43,  92,  55,  73,  51,  34,  79,  98,\n",
       "        33,  80,  33,  75,  81,  50,  77,  34,  17,  18,  50,  92,  21,\n",
       "        51,  74,  28,  75,  37,  83,  62,  59,  26,  52,  87,  11,  79,\n",
       "        54,  75,  70,  49,  38,  67,  22,  63,  18,  69,  67,  17,  78,\n",
       "        47,  81,  13,  26,  54,  27,  40,  70,  23,  71,  19,  25,  63,\n",
       "        82,  25,  37,  94, 100,  62,  50,  41,  65,  63,  36,  12,  23,\n",
       "        97,  48,  53,  52,  81,  15,  17,  35,  54,  71,  54,  50,  95,\n",
       "        24,  62,  59,  53,  83,  34,  96,  40,  59,  57,  87,  49,  35,\n",
       "        11,  43,  85,  10,  91,  59,  22,  37,  60,  38,  19,  70,  71,\n",
       "        20,  35,  32,  70,  76,  76,  95,  79,  39,  19,  65,  93,  98,\n",
       "        30,  31,  13,  22,  60,  59,  43,  38,  85,  51,  83,  97,  38,\n",
       "        28,  96,  67,  36,  66,  56,  92,  33, 100,  95,  26,  24,  58,\n",
       "        14,  37,  49,  98, 100,  23,  91,  18,  78,  86,  91,  30,  91,\n",
       "        20,  57,  52,  38,  12,  80,  40,  70,  47,  44,  90,  18,  77,\n",
       "        77,  44,  33,  10,  95,  96,  31,  12,  21,  16,  85,  91,  23,\n",
       "        77,  26,  43,  64,  75,  89,  14,  27,  35,  38, 100,  80,  39,\n",
       "        98,  55,  55,  49,  23,  95,  11,  25,  30,  35,  21,  11,  71,\n",
       "        98,  21,  36,  56,  94,  73,  79,  62,  47,  28,  88,  83,  12,\n",
       "        75,  17,  77,  85,  21,  49,  21,  61,  94,  17,  46,  98,  37,\n",
       "        22,  54,  56,  70,  38,  96,  57,  36,  97,  94,  55,  12,  64,\n",
       "        60,  23,  67,  86,  19,  75,  22,  78,  48,  10,  97,  25,  64,\n",
       "        26,  94,  77,  83,  49,  52,  67,  81,  87,  11,  70,  19,  36,\n",
       "        85,  32,  82,  52,  31,  40,  58,  79,  65,  94,  88,  78,  64,\n",
       "        36,  47,  20,  44,  94,  48,  20,  69,  97,  88,  34,  51,  58,\n",
       "        32,  34,  31, 100,  77,  86,  84,  97,  19,  90,  16,  53,  64,\n",
       "        42,  23,  27,  85,  39,  38,  94,  23,  93,  93,  64,  25,  24,\n",
       "        35,  62,  23,  51,  20,  59,  11,  74,  15,  27,  25,  85,  14,\n",
       "        49,  63,  56,  71,  83,  45,  85,  38,  99,  55,  76,  89,  82,\n",
       "        87,  58,  13,  54,  26,  90,  31,  30,  32,  68,  61,  96,  47,\n",
       "        35,  14,  10,  43,  94,  57,  91,  19,  18,  85,  19,  14,  46,\n",
       "        94,  72,  19,  86,  86,  82,  92,  31,  99,  39,  82,  62,  80,\n",
       "        67,  68,  66,  80,  77,  22,  85,  58,  39,  56,  97,  88,  85,\n",
       "        52,  81,  45,  72,  68,  32,  34,  15,  22,  49,  53,  25,  47,\n",
       "        64,  31,  40,  43,  55,  43,  77,  39,  49,  44,  26,  72,  31,\n",
       "        37,  82,  96,  71,  93,  87,  53,  80,  39,  51,  58,  97,  87,\n",
       "        54,  69,  28,  83,  60,  58,  79,  67,  16,  36,  26,  76,  13,\n",
       "        28,  64,  73,  55,  88,  93,  22,  96,  65,  67,  18,  66,  76,\n",
       "        62,  17,  57,  95,  75,  22,  97,  97,  25,  82,  47,  64,  50,\n",
       "        81, 100,  82,  94,  96,  18,  33,  75,  63,  14,  18,  57,  66,\n",
       "        25,  25,  21,  61,  10,  62,  53,  52,  71,  57,  76,  79,  93,\n",
       "        82,  57,  54,  31,  64,  22,  94,  86,  20,  81,  20,  75,  17,\n",
       "        54,  69,  76,  48,  93,  80,  28,  71,  76,  40,  77,  91,  84,\n",
       "        79,  67,  34,  82,  43,  58,  38,  38,  24,  97,  23,  17,  95,\n",
       "        60,  49,  77,  44,  21,  76,  26,  60,  96,  95,  42,  81,  65,\n",
       "        53,  22,  44,  69,  99,  10,  75,  87,  96,  48,  20,  34,  87,\n",
       "        89,  67,  21,  21,  53,  63,  12,  72,  59,  11,  18,  51,  75,\n",
       "        85,  49,  36,  98,  51,  38,  50,  11,  37,  56,  93,  77,  81,\n",
       "        59,  20,  45, 100,  14,  90,  72,  35,  80,  86,  13,  19,  70,\n",
       "       100,  12,  70,  22,  69,  66,  18,  71,  91,  88,  12,  32,  31,\n",
       "        51,  23,  87,  80,  83,  28,  11,  92,  36,  69,  92,  13,  10,\n",
       "        10,  24,  14,  84,  65,  99,  82,  97,  31,  36,  87,  32,  15,\n",
       "        70,  82,  98,  94,  20,  80,  86,  73,  84,  86,  50,  13,  51,\n",
       "        28,  20,  21,  73,  55,  59,  77,  59,  67,  17,  87,  50,  24,\n",
       "        84,  76,  14,  27,  11,  34,  19,  74,  57,  99,  78,  65,  56,\n",
       "        14,  16,  66,  10,  13,  29,  90,  51,  74,  47,  25,  43,  18,\n",
       "        80,  26,  44,  99,  63,  51,  59,  81,  33,  67,  89,  62,  50,\n",
       "        23,  32,  96,  59,  37,  48,  62,  58,  73,  33,  69,  50,  95,\n",
       "        24,  23,  52,  56,  72,  46,  93,  53,  21,  20,  98,  22,  96,\n",
       "        35,  18,  37,  65,  48,  81,  65,  46,  67,  98,  47,  23,  47,\n",
       "        86,  29,  96,  63,  64,  38,  93,  13,  37,  48,  53,  53,  23,\n",
       "        30,  18,  62,  41,  61,  63,  73,  59,  68,  63,  69,  66,  38,\n",
       "        32,  81,  41,  59,  27,  49,  58,  66,  57,  42,  97,  56])"
      ]
     },
     "execution_count": 19,
     "metadata": {},
     "output_type": "execute_result"
    }
   ],
   "source": [
    "n_trials_all"
   ]
  }
 ],
 "metadata": {
  "kernelspec": {
   "display_name": "Python 3 (ipykernel)",
   "language": "python",
   "name": "python3"
  },
  "language_info": {
   "codemirror_mode": {
    "name": "ipython",
    "version": 3
   },
   "file_extension": ".py",
   "mimetype": "text/x-python",
   "name": "python",
   "nbconvert_exporter": "python",
   "pygments_lexer": "ipython3",
   "version": "3.12.9"
  }
 },
 "nbformat": 4,
 "nbformat_minor": 5
}
