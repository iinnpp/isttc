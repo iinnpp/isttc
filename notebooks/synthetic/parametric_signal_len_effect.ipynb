{
 "cells": [
  {
   "cell_type": "code",
   "execution_count": 1,
   "id": "fdef0a41-d4dd-4859-bd51-67768aff285c",
   "metadata": {},
   "outputs": [],
   "source": [
    "import numpy as np\n",
    "import pandas as pd\n",
    "\n",
    "from scipy.optimize import curve_fit\n",
    "from statsmodels.tsa.stattools import acf\n",
    "\n",
    "from datetime import datetime\n",
    "\n",
    "import os\n",
    "current_wd = os.getcwd()\n",
    "os.chdir(os.path.abspath(\"..\\\\..\\\\..\\\\isttc\\\\scripts\"))\n",
    "from cfg_global import project_folder_path\n",
    "from calculate_tau import func_single_exp_monkey, fit_single_exp\n",
    "from calculate_acf import acf_sttc\n",
    "from spike_train_utils import bin_spike_train_fixed_len\n",
    "os.chdir(current_wd)\n",
    "\n",
    "import matplotlib as mpl\n",
    "import matplotlib.pyplot as plt\n",
    "import seaborn as sns\n",
    "\n",
    "mpl.rcParams['pdf.fonttype'] = 42\n",
    "mpl.rcParams['ps.fonttype'] = 42\n",
    "plt.rcParams['svg.fonttype'] = 'none'"
   ]
  },
  {
   "cell_type": "code",
   "execution_count": 2,
   "id": "424c36ef-c8c6-4615-a30e-e34001096b69",
   "metadata": {},
   "outputs": [],
   "source": [
    "save_folder = project_folder_path + 'results\\\\synthetic_data\\\\dataset\\\\'\n",
    "fig_folder = project_folder_path + 'results\\\\synthetic_data\\\\fig_drafts_paper_reduce\\\\'"
   ]
  },
  {
   "cell_type": "markdown",
   "id": "82d932f4-ed20-489a-a8fd-65717a1bb624",
   "metadata": {},
   "source": [
    "#### Load spike trains"
   ]
  },
  {
   "cell_type": "code",
   "execution_count": 5,
   "id": "8c6237b3-91b8-4cfe-b093-22bd5156ee35",
   "metadata": {},
   "outputs": [
    {
     "name": "stdout",
     "output_type": "stream",
     "text": [
      "n spike trains 1000, len 599.4657698736828\n"
     ]
    }
   ],
   "source": [
    "spike_trains_10min = np.load(save_folder + 'spike_trains_tau100ms_alpha0_3_fr3_5hz_len600sec_1000.npy', allow_pickle=True)\n",
    "print(f'n spike trains {len(all_spike_trains)}, len {all_spike_trains[0][-1]/1000}')\n",
    "\n",
    "duration_ms = 600 * 1000\n",
    "target_fr_hz = 3.5\n",
    "target_tau_ms = 100\n",
    "\n",
    "fs = 1000"
   ]
  },
  {
   "cell_type": "code",
   "execution_count": 17,
   "id": "4697ac4b-a66a-43b2-9558-66c2e350c4f0",
   "metadata": {},
   "outputs": [],
   "source": [
    "def subsample_spike_trains(spike_trains, durations, n_segments_per_train=1, random_seed=42):\n",
    "    \"\"\"\n",
    "    Subsample segments from long spike trains.\n",
    "\n",
    "    Parameters:\n",
    "        spike_trains (list of np.array): List of spike trains (spike times in seconds).\n",
    "        durations (list of float): List of durations to subsample (in seconds).\n",
    "        n_segments_per_train (int): Number of segments to extract per train per duration.\n",
    "        random_seed (int): For reproducibility.\n",
    "\n",
    "    Returns:\n",
    "        dict: {duration: list of lists of spike times}, one list per segment.\n",
    "    \"\"\"\n",
    "    np.random.seed(random_seed)\n",
    "    max_time = 600*1000  # seconds (10 minutes)\n",
    "    result = {d: [] for d in durations}\n",
    "\n",
    "    for spikes in spike_trains:\n",
    "        for duration in durations:\n",
    "            for _ in range(n_segments_per_train):\n",
    "                max_start = max_time - duration\n",
    "                if max_start <= 0:\n",
    "                    raise ValueError(f\"Duration {duration}s is too long for spike train of {max_time}s.\")\n",
    "                start = np.random.uniform(0, max_start)\n",
    "                end = start + duration\n",
    "                mask = (spikes >= start) & (spikes < end)\n",
    "                segment = spikes[mask] - start  # shift to start at 0\n",
    "                result[duration].append(segment)\n",
    "\n",
    "    return result"
   ]
  },
  {
   "cell_type": "code",
   "execution_count": 39,
   "id": "59952190-ce7e-4907-9b5b-d295709ee14c",
   "metadata": {},
   "outputs": [
    {
     "name": "stdout",
     "output_type": "stream",
     "text": [
      "Generated 1000 1-second segments\n"
     ]
    }
   ],
   "source": [
    "# Suppose you already have 1000 spike trains:\n",
    "# Each is a NumPy array of spike times in seconds (e.g., [0.2, 0.33, ..., 599.8])\n",
    "# They are stored in a list called `spike_trains_10min`\n",
    "\n",
    "durations = [1050, 2000, 5000, 10000, 20000, 30000, 60000, 120000, 300000] # durations in ms\n",
    "subsampled_data = subsample_spike_trains(spike_trains_10min, durations, n_segments_per_train=1)\n",
    "\n",
    "# Example: Get the 1s segments\n",
    "segments_1s = subsampled_data[1050]  # list of arrays, each 1s long\n",
    "\n",
    "# Check how many segments were generated\n",
    "print(f\"Generated {len(segments_1s)} 1-second segments\")"
   ]
  },
  {
   "cell_type": "markdown",
   "id": "613e6901-8e48-4e5e-b204-48e16ab59962",
   "metadata": {},
   "source": [
    "#### Calculate tau"
   ]
  },
  {
   "cell_type": "code",
   "execution_count": 40,
   "id": "b177270c-db97-403b-958d-8cfcae0d6fc1",
   "metadata": {},
   "outputs": [
    {
     "name": "stdout",
     "output_type": "stream",
     "text": [
      "acf_cols ['acf_0', 'acf_1', 'acf_2', 'acf_3', 'acf_4', 'acf_5', 'acf_6', 'acf_7', 'acf_8', 'acf_9', 'acf_10', 'acf_11', 'acf_12', 'acf_13', 'acf_14', 'acf_15', 'acf_16', 'acf_17', 'acf_18', 'acf_19', 'acf_20']\n"
     ]
    }
   ],
   "source": [
    "n_lags = 20\n",
    "acf_cols = ['acf_' + str(i) for i in range(n_lags+1)]\n",
    "print('acf_cols {}'.format(acf_cols))\n",
    "\n",
    "fs = 1000\n",
    "bin_size = int(50 * (fs / 1000))\n",
    "sttc_dt = int(25 * (fs / 1000))"
   ]
  },
  {
   "cell_type": "code",
   "execution_count": 50,
   "id": "fa4a6433-5bb2-4cc7-a919-baee1c7d568d",
   "metadata": {},
   "outputs": [],
   "source": [
    "def estimate_tau_acf_full(spike_times, duration_ms):\n",
    "    binned_spike_train = bin_spike_train_fixed_len([int(spike) for spike in spike_times],\n",
    "                                               bin_size, fs, duration_ms,\n",
    "                                               verbose_=False)\n",
    "    spike_train_binned_acf = acf(binned_spike_train, nlags=n_lags)\n",
    "    fit_popt, fit_pcov, tau, tau_ci, fit_r_squared, explained_var, log_message = fit_single_exp(spike_train_binned_acf,\n",
    "                                                                              start_idx_=1, exp_fun_=func_single_exp_monkey)\n",
    "    return tau * bin_size, fit_r_squared\n",
    "\n",
    "def estimate_tau_isttc_full(spike_times, duration_ms):\n",
    "    spike_train_int = np.asarray([int(spike) for spike in spike_times])\n",
    "    spike_train_acf = acf_sttc(spike_train_int, n_lags, bin_size, sttc_dt, duration_ms, verbose_=False)\n",
    "    fit_popt, fit_pcov, tau, tau_ci, fit_r_squared, explained_var, log_message = fit_single_exp(spike_train_acf,\n",
    "                                                                          start_idx_=1, exp_fun_=func_single_exp_monkey)\n",
    "    \n",
    "    return tau * bin_size, fit_r_squared"
   ]
  },
  {
   "cell_type": "code",
   "execution_count": 51,
   "id": "c1487242-377d-4100-b399-ec8824a1585b",
   "metadata": {},
   "outputs": [],
   "source": [
    "def evaluate_methods(subsampled_data, true_tau):\n",
    "    \"\"\"\n",
    "    Evaluate both estimation methods on subsampled spike trains.\n",
    "\n",
    "    Parameters:\n",
    "        subsampled_data (dict): {duration: list of spike time arrays}\n",
    "        true_tau (float): Ground truth time constant (ms or s, match your methods)\n",
    "\n",
    "    Returns:\n",
    "        pd.DataFrame: Rows with duration, method, estimated_tau, error\n",
    "    \"\"\"\n",
    "    results = []\n",
    "\n",
    "    for duration, segments in subsampled_data.items():\n",
    "        for i, spikes in enumerate(segments):\n",
    "            tau1, fit_r_squared1 = estimate_tau_acf_full(spikes, duration)\n",
    "            tau2, fit_r_squared2 = estimate_tau_isttc_full(spikes, duration)\n",
    "\n",
    "            results.append({\n",
    "                \"duration\": duration,\n",
    "                \"method\": \"acf_full\",\n",
    "                \"estimated_tau\": tau1,\n",
    "                \"error\": tau1 - true_tau,\n",
    "                'r_squared': fit_r_squared1\n",
    "            })\n",
    "            results.append({\n",
    "                \"duration\": duration,\n",
    "                \"method\": \"isttc_full\",\n",
    "                \"estimated_tau\": tau2,\n",
    "                \"error\": tau2 - true_tau,\n",
    "                'r_squared': fit_r_squared2\n",
    "            })\n",
    "\n",
    "    df = pd.DataFrame(results)\n",
    "    return df"
   ]
  },
  {
   "cell_type": "code",
   "execution_count": 28,
   "id": "f65b7b2b-6f9d-419a-aaa0-39d27cc7ffbe",
   "metadata": {},
   "outputs": [],
   "source": [
    "def compute_rmse_by_duration(df):\n",
    "    \"\"\"\n",
    "    Compute RMSE of estimated tau per duration and method.\n",
    "\n",
    "    Returns:\n",
    "        pd.DataFrame with columns: duration, method, rmse\n",
    "    \"\"\"\n",
    "    rmse_df = (\n",
    "        df.groupby([\"duration\", \"method\"])[\"error\"]\n",
    "        .apply(lambda x: np.sqrt(np.mean(x**2)))\n",
    "        .reset_index(name=\"rmse\")\n",
    "    )\n",
    "    return rmse_df"
   ]
  },
  {
   "cell_type": "code",
   "execution_count": 29,
   "id": "cf186178-ee50-408d-ba90-33319e07fd5d",
   "metadata": {},
   "outputs": [],
   "source": [
    "def plot_rmse_vs_duration(rmse_df):\n",
    "    \"\"\"\n",
    "    Plot RMSE vs. duration for each method.\n",
    "    \"\"\"\n",
    "    plt.figure(figsize=(8, 5))\n",
    "    sns.lineplot(data=rmse_df, x=\"duration\", y=\"rmse\", hue=\"method\", marker=\"o\")\n",
    "\n",
    "    plt.xscale(\"log\")\n",
    "    plt.xlabel(\"Duration (s, log scale)\")\n",
    "    plt.ylabel(\"RMSE of Estimated Tau\")\n",
    "    plt.title(\"RMSE vs. Duration for Each Estimation Method\")\n",
    "    plt.grid(True, which=\"both\", linestyle=\"--\", linewidth=0.5)\n",
    "    plt.legend(title=\"Method\")\n",
    "    plt.tight_layout()\n",
    "    plt.show()"
   ]
  },
  {
   "cell_type": "code",
   "execution_count": null,
   "id": "017a28a3-4dbf-4fe6-b295-0bf67b91d6b8",
   "metadata": {},
   "outputs": [
    {
     "name": "stderr",
     "output_type": "stream",
     "text": [
      "C:\\Users\\ipochino\\AppData\\Local\\anaconda3\\envs\\isttc\\Lib\\site-packages\\statsmodels\\tsa\\stattools.py:702: RuntimeWarning: invalid value encountered in divide\n",
      "  acf = avf[: nlags + 1] / avf[0]\n"
     ]
    },
    {
     "name": "stdout",
     "output_type": "stream",
     "text": [
      "ValueError: array must not contain infs or NaNs\n",
      "Possible reason: acf contains NaNs, low spike count\n"
     ]
    },
    {
     "name": "stderr",
     "output_type": "stream",
     "text": [
      "C:\\Users\\ipochino\\AppData\\Local\\anaconda3\\envs\\isttc\\Lib\\site-packages\\statsmodels\\tsa\\stattools.py:702: RuntimeWarning: invalid value encountered in divide\n",
      "  acf = avf[: nlags + 1] / avf[0]\n",
      "C:\\Users\\ipochino\\AppData\\Local\\anaconda3\\envs\\isttc\\Lib\\site-packages\\statsmodels\\tsa\\stattools.py:702: RuntimeWarning: invalid value encountered in divide\n",
      "  acf = avf[: nlags + 1] / avf[0]\n"
     ]
    },
    {
     "name": "stdout",
     "output_type": "stream",
     "text": [
      "ValueError: array must not contain infs or NaNs\n",
      "Possible reason: acf contains NaNs, low spike count\n",
      "ValueError: array must not contain infs or NaNs\n",
      "Possible reason: acf contains NaNs, low spike count\n"
     ]
    },
    {
     "name": "stderr",
     "output_type": "stream",
     "text": [
      "C:\\Users\\ipochino\\AppData\\Local\\anaconda3\\envs\\isttc\\Lib\\site-packages\\statsmodels\\tsa\\stattools.py:702: RuntimeWarning: invalid value encountered in divide\n",
      "  acf = avf[: nlags + 1] / avf[0]\n"
     ]
    },
    {
     "name": "stdout",
     "output_type": "stream",
     "text": [
      "ValueError: array must not contain infs or NaNs\n",
      "Possible reason: acf contains NaNs, low spike count\n"
     ]
    },
    {
     "name": "stderr",
     "output_type": "stream",
     "text": [
      "C:\\Users\\ipochino\\AppData\\Local\\anaconda3\\envs\\isttc\\Lib\\site-packages\\statsmodels\\tsa\\stattools.py:702: RuntimeWarning: invalid value encountered in divide\n",
      "  acf = avf[: nlags + 1] / avf[0]\n"
     ]
    },
    {
     "name": "stdout",
     "output_type": "stream",
     "text": [
      "ValueError: array must not contain infs or NaNs\n",
      "Possible reason: acf contains NaNs, low spike count\n"
     ]
    },
    {
     "name": "stderr",
     "output_type": "stream",
     "text": [
      "C:\\Users\\ipochino\\AppData\\Local\\anaconda3\\envs\\isttc\\Lib\\site-packages\\statsmodels\\tsa\\stattools.py:702: RuntimeWarning: invalid value encountered in divide\n",
      "  acf = avf[: nlags + 1] / avf[0]\n"
     ]
    },
    {
     "name": "stdout",
     "output_type": "stream",
     "text": [
      "ValueError: array must not contain infs or NaNs\n",
      "Possible reason: acf contains NaNs, low spike count\n"
     ]
    },
    {
     "name": "stderr",
     "output_type": "stream",
     "text": [
      "C:\\Users\\ipochino\\AppData\\Local\\anaconda3\\envs\\isttc\\Lib\\site-packages\\statsmodels\\tsa\\stattools.py:702: RuntimeWarning: invalid value encountered in divide\n",
      "  acf = avf[: nlags + 1] / avf[0]\n",
      "C:\\Users\\ipochino\\AppData\\Local\\anaconda3\\envs\\isttc\\Lib\\site-packages\\statsmodels\\tsa\\stattools.py:702: RuntimeWarning: invalid value encountered in divide\n",
      "  acf = avf[: nlags + 1] / avf[0]\n",
      "C:\\Users\\ipochino\\AppData\\Local\\anaconda3\\envs\\isttc\\Lib\\site-packages\\statsmodels\\tsa\\stattools.py:702: RuntimeWarning: invalid value encountered in divide\n",
      "  acf = avf[: nlags + 1] / avf[0]\n"
     ]
    },
    {
     "name": "stdout",
     "output_type": "stream",
     "text": [
      "ValueError: array must not contain infs or NaNs\n",
      "Possible reason: acf contains NaNs, low spike count\n",
      "ValueError: array must not contain infs or NaNs\n",
      "Possible reason: acf contains NaNs, low spike count\n",
      "ValueError: array must not contain infs or NaNs\n",
      "Possible reason: acf contains NaNs, low spike count\n"
     ]
    },
    {
     "name": "stderr",
     "output_type": "stream",
     "text": [
      "C:\\Users\\ipochino\\AppData\\Local\\anaconda3\\envs\\isttc\\Lib\\site-packages\\statsmodels\\tsa\\stattools.py:702: RuntimeWarning: invalid value encountered in divide\n",
      "  acf = avf[: nlags + 1] / avf[0]\n",
      "C:\\Users\\ipochino\\AppData\\Local\\anaconda3\\envs\\isttc\\Lib\\site-packages\\statsmodels\\tsa\\stattools.py:702: RuntimeWarning: invalid value encountered in divide\n",
      "  acf = avf[: nlags + 1] / avf[0]\n",
      "C:\\Users\\ipochino\\AppData\\Local\\anaconda3\\envs\\isttc\\Lib\\site-packages\\statsmodels\\tsa\\stattools.py:702: RuntimeWarning: invalid value encountered in divide\n",
      "  acf = avf[: nlags + 1] / avf[0]\n"
     ]
    },
    {
     "name": "stdout",
     "output_type": "stream",
     "text": [
      "ValueError: array must not contain infs or NaNs\n",
      "Possible reason: acf contains NaNs, low spike count\n",
      "ValueError: array must not contain infs or NaNs\n",
      "Possible reason: acf contains NaNs, low spike count\n",
      "ValueError: array must not contain infs or NaNs\n",
      "Possible reason: acf contains NaNs, low spike count\n"
     ]
    },
    {
     "name": "stderr",
     "output_type": "stream",
     "text": [
      "C:\\Users\\ipochino\\AppData\\Local\\anaconda3\\envs\\isttc\\Lib\\site-packages\\statsmodels\\tsa\\stattools.py:702: RuntimeWarning: invalid value encountered in divide\n",
      "  acf = avf[: nlags + 1] / avf[0]\n"
     ]
    },
    {
     "name": "stdout",
     "output_type": "stream",
     "text": [
      "ValueError: array must not contain infs or NaNs\n",
      "Possible reason: acf contains NaNs, low spike count\n"
     ]
    },
    {
     "name": "stderr",
     "output_type": "stream",
     "text": [
      "C:\\Users\\ipochino\\AppData\\Local\\anaconda3\\envs\\isttc\\Lib\\site-packages\\statsmodels\\tsa\\stattools.py:702: RuntimeWarning: invalid value encountered in divide\n",
      "  acf = avf[: nlags + 1] / avf[0]\n"
     ]
    },
    {
     "name": "stdout",
     "output_type": "stream",
     "text": [
      "ValueError: array must not contain infs or NaNs\n",
      "Possible reason: acf contains NaNs, low spike count\n"
     ]
    },
    {
     "name": "stderr",
     "output_type": "stream",
     "text": [
      "C:\\Users\\ipochino\\AppData\\Local\\anaconda3\\envs\\isttc\\Lib\\site-packages\\statsmodels\\tsa\\stattools.py:702: RuntimeWarning: invalid value encountered in divide\n",
      "  acf = avf[: nlags + 1] / avf[0]\n"
     ]
    },
    {
     "name": "stdout",
     "output_type": "stream",
     "text": [
      "ValueError: array must not contain infs or NaNs\n",
      "Possible reason: acf contains NaNs, low spike count\n"
     ]
    },
    {
     "name": "stderr",
     "output_type": "stream",
     "text": [
      "C:\\Users\\ipochino\\AppData\\Local\\anaconda3\\envs\\isttc\\Lib\\site-packages\\statsmodels\\tsa\\stattools.py:702: RuntimeWarning: invalid value encountered in divide\n",
      "  acf = avf[: nlags + 1] / avf[0]\n",
      "C:\\Users\\ipochino\\AppData\\Local\\anaconda3\\envs\\isttc\\Lib\\site-packages\\statsmodels\\tsa\\stattools.py:702: RuntimeWarning: invalid value encountered in divide\n",
      "  acf = avf[: nlags + 1] / avf[0]\n",
      "C:\\Users\\ipochino\\AppData\\Local\\anaconda3\\envs\\isttc\\Lib\\site-packages\\statsmodels\\tsa\\stattools.py:702: RuntimeWarning: invalid value encountered in divide\n",
      "  acf = avf[: nlags + 1] / avf[0]\n"
     ]
    },
    {
     "name": "stdout",
     "output_type": "stream",
     "text": [
      "ValueError: array must not contain infs or NaNs\n",
      "Possible reason: acf contains NaNs, low spike count\n",
      "ValueError: array must not contain infs or NaNs\n",
      "Possible reason: acf contains NaNs, low spike count\n",
      "ValueError: array must not contain infs or NaNs\n",
      "Possible reason: acf contains NaNs, low spike count\n"
     ]
    },
    {
     "name": "stderr",
     "output_type": "stream",
     "text": [
      "C:\\Users\\ipochino\\AppData\\Local\\anaconda3\\envs\\isttc\\Lib\\site-packages\\statsmodels\\tsa\\stattools.py:702: RuntimeWarning: invalid value encountered in divide\n",
      "  acf = avf[: nlags + 1] / avf[0]\n"
     ]
    },
    {
     "name": "stdout",
     "output_type": "stream",
     "text": [
      "ValueError: array must not contain infs or NaNs\n",
      "Possible reason: acf contains NaNs, low spike count\n"
     ]
    },
    {
     "name": "stderr",
     "output_type": "stream",
     "text": [
      "C:\\Users\\ipochino\\AppData\\Local\\anaconda3\\envs\\isttc\\Lib\\site-packages\\statsmodels\\tsa\\stattools.py:702: RuntimeWarning: invalid value encountered in divide\n",
      "  acf = avf[: nlags + 1] / avf[0]\n"
     ]
    },
    {
     "name": "stdout",
     "output_type": "stream",
     "text": [
      "ValueError: array must not contain infs or NaNs\n",
      "Possible reason: acf contains NaNs, low spike count\n"
     ]
    },
    {
     "name": "stderr",
     "output_type": "stream",
     "text": [
      "C:\\Users\\ipochino\\AppData\\Local\\anaconda3\\envs\\isttc\\Lib\\site-packages\\statsmodels\\tsa\\stattools.py:702: RuntimeWarning: invalid value encountered in divide\n",
      "  acf = avf[: nlags + 1] / avf[0]\n"
     ]
    },
    {
     "name": "stdout",
     "output_type": "stream",
     "text": [
      "ValueError: array must not contain infs or NaNs\n",
      "Possible reason: acf contains NaNs, low spike count\n"
     ]
    },
    {
     "name": "stderr",
     "output_type": "stream",
     "text": [
      "C:\\Users\\ipochino\\AppData\\Local\\anaconda3\\envs\\isttc\\Lib\\site-packages\\statsmodels\\tsa\\stattools.py:702: RuntimeWarning: invalid value encountered in divide\n",
      "  acf = avf[: nlags + 1] / avf[0]\n"
     ]
    },
    {
     "name": "stdout",
     "output_type": "stream",
     "text": [
      "ValueError: array must not contain infs or NaNs\n",
      "Possible reason: acf contains NaNs, low spike count\n"
     ]
    },
    {
     "name": "stderr",
     "output_type": "stream",
     "text": [
      "C:\\Users\\ipochino\\AppData\\Local\\anaconda3\\envs\\isttc\\Lib\\site-packages\\statsmodels\\tsa\\stattools.py:702: RuntimeWarning: invalid value encountered in divide\n",
      "  acf = avf[: nlags + 1] / avf[0]\n"
     ]
    },
    {
     "name": "stdout",
     "output_type": "stream",
     "text": [
      "ValueError: array must not contain infs or NaNs\n",
      "Possible reason: acf contains NaNs, low spike count\n"
     ]
    },
    {
     "name": "stderr",
     "output_type": "stream",
     "text": [
      "C:\\Users\\ipochino\\AppData\\Local\\anaconda3\\envs\\isttc\\Lib\\site-packages\\statsmodels\\tsa\\stattools.py:702: RuntimeWarning: invalid value encountered in divide\n",
      "  acf = avf[: nlags + 1] / avf[0]\n",
      "C:\\Users\\ipochino\\AppData\\Local\\anaconda3\\envs\\isttc\\Lib\\site-packages\\statsmodels\\tsa\\stattools.py:702: RuntimeWarning: invalid value encountered in divide\n",
      "  acf = avf[: nlags + 1] / avf[0]\n"
     ]
    },
    {
     "name": "stdout",
     "output_type": "stream",
     "text": [
      "ValueError: array must not contain infs or NaNs\n",
      "Possible reason: acf contains NaNs, low spike count\n",
      "ValueError: array must not contain infs or NaNs\n",
      "Possible reason: acf contains NaNs, low spike count\n"
     ]
    },
    {
     "name": "stderr",
     "output_type": "stream",
     "text": [
      "C:\\Users\\ipochino\\AppData\\Local\\anaconda3\\envs\\isttc\\Lib\\site-packages\\statsmodels\\tsa\\stattools.py:702: RuntimeWarning: invalid value encountered in divide\n",
      "  acf = avf[: nlags + 1] / avf[0]\n"
     ]
    },
    {
     "name": "stdout",
     "output_type": "stream",
     "text": [
      "ValueError: array must not contain infs or NaNs\n",
      "Possible reason: acf contains NaNs, low spike count\n"
     ]
    },
    {
     "name": "stderr",
     "output_type": "stream",
     "text": [
      "C:\\Users\\ipochino\\AppData\\Local\\anaconda3\\envs\\isttc\\Lib\\site-packages\\statsmodels\\tsa\\stattools.py:702: RuntimeWarning: invalid value encountered in divide\n",
      "  acf = avf[: nlags + 1] / avf[0]\n"
     ]
    },
    {
     "name": "stdout",
     "output_type": "stream",
     "text": [
      "ValueError: array must not contain infs or NaNs\n",
      "Possible reason: acf contains NaNs, low spike count\n"
     ]
    },
    {
     "name": "stderr",
     "output_type": "stream",
     "text": [
      "C:\\Users\\ipochino\\AppData\\Local\\anaconda3\\envs\\isttc\\Lib\\site-packages\\statsmodels\\tsa\\stattools.py:702: RuntimeWarning: invalid value encountered in divide\n",
      "  acf = avf[: nlags + 1] / avf[0]\n"
     ]
    },
    {
     "name": "stdout",
     "output_type": "stream",
     "text": [
      "ValueError: array must not contain infs or NaNs\n",
      "Possible reason: acf contains NaNs, low spike count\n"
     ]
    },
    {
     "name": "stderr",
     "output_type": "stream",
     "text": [
      "C:\\Users\\ipochino\\AppData\\Local\\anaconda3\\envs\\isttc\\Lib\\site-packages\\statsmodels\\tsa\\stattools.py:702: RuntimeWarning: invalid value encountered in divide\n",
      "  acf = avf[: nlags + 1] / avf[0]\n"
     ]
    },
    {
     "name": "stdout",
     "output_type": "stream",
     "text": [
      "ValueError: array must not contain infs or NaNs\n",
      "Possible reason: acf contains NaNs, low spike count\n"
     ]
    },
    {
     "name": "stderr",
     "output_type": "stream",
     "text": [
      "C:\\Users\\ipochino\\AppData\\Local\\anaconda3\\envs\\isttc\\Lib\\site-packages\\statsmodels\\tsa\\stattools.py:702: RuntimeWarning: invalid value encountered in divide\n",
      "  acf = avf[: nlags + 1] / avf[0]\n",
      "C:\\Users\\ipochino\\AppData\\Local\\anaconda3\\envs\\isttc\\Lib\\site-packages\\statsmodels\\tsa\\stattools.py:702: RuntimeWarning: invalid value encountered in divide\n",
      "  acf = avf[: nlags + 1] / avf[0]\n"
     ]
    },
    {
     "name": "stdout",
     "output_type": "stream",
     "text": [
      "ValueError: array must not contain infs or NaNs\n",
      "Possible reason: acf contains NaNs, low spike count\n",
      "ValueError: array must not contain infs or NaNs\n",
      "Possible reason: acf contains NaNs, low spike count\n"
     ]
    },
    {
     "name": "stderr",
     "output_type": "stream",
     "text": [
      "C:\\Users\\ipochino\\AppData\\Local\\anaconda3\\envs\\isttc\\Lib\\site-packages\\statsmodels\\tsa\\stattools.py:702: RuntimeWarning: invalid value encountered in divide\n",
      "  acf = avf[: nlags + 1] / avf[0]\n"
     ]
    },
    {
     "name": "stdout",
     "output_type": "stream",
     "text": [
      "ValueError: array must not contain infs or NaNs\n",
      "Possible reason: acf contains NaNs, low spike count\n"
     ]
    },
    {
     "name": "stderr",
     "output_type": "stream",
     "text": [
      "C:\\Users\\ipochino\\AppData\\Local\\anaconda3\\envs\\isttc\\Lib\\site-packages\\statsmodels\\tsa\\stattools.py:702: RuntimeWarning: invalid value encountered in divide\n",
      "  acf = avf[: nlags + 1] / avf[0]\n",
      "C:\\Users\\ipochino\\AppData\\Local\\anaconda3\\envs\\isttc\\Lib\\site-packages\\statsmodels\\tsa\\stattools.py:702: RuntimeWarning: invalid value encountered in divide\n",
      "  acf = avf[: nlags + 1] / avf[0]\n"
     ]
    },
    {
     "name": "stdout",
     "output_type": "stream",
     "text": [
      "ValueError: array must not contain infs or NaNs\n",
      "Possible reason: acf contains NaNs, low spike count\n",
      "ValueError: array must not contain infs or NaNs\n",
      "Possible reason: acf contains NaNs, low spike count\n"
     ]
    },
    {
     "name": "stderr",
     "output_type": "stream",
     "text": [
      "C:\\Users\\ipochino\\AppData\\Local\\anaconda3\\envs\\isttc\\Lib\\site-packages\\statsmodels\\tsa\\stattools.py:702: RuntimeWarning: invalid value encountered in divide\n",
      "  acf = avf[: nlags + 1] / avf[0]\n",
      "C:\\Users\\ipochino\\AppData\\Local\\anaconda3\\envs\\isttc\\Lib\\site-packages\\statsmodels\\tsa\\stattools.py:702: RuntimeWarning: invalid value encountered in divide\n",
      "  acf = avf[: nlags + 1] / avf[0]\n",
      "C:\\Users\\ipochino\\AppData\\Local\\anaconda3\\envs\\isttc\\Lib\\site-packages\\statsmodels\\tsa\\stattools.py:702: RuntimeWarning: invalid value encountered in divide\n",
      "  acf = avf[: nlags + 1] / avf[0]\n",
      "C:\\Users\\ipochino\\AppData\\Local\\anaconda3\\envs\\isttc\\Lib\\site-packages\\statsmodels\\tsa\\stattools.py:702: RuntimeWarning: invalid value encountered in divide\n",
      "  acf = avf[: nlags + 1] / avf[0]\n",
      "C:\\Users\\ipochino\\AppData\\Local\\anaconda3\\envs\\isttc\\Lib\\site-packages\\statsmodels\\tsa\\stattools.py:702: RuntimeWarning: invalid value encountered in divide\n",
      "  acf = avf[: nlags + 1] / avf[0]\n"
     ]
    },
    {
     "name": "stdout",
     "output_type": "stream",
     "text": [
      "ValueError: array must not contain infs or NaNs\n",
      "Possible reason: acf contains NaNs, low spike count\n",
      "ValueError: array must not contain infs or NaNs\n",
      "Possible reason: acf contains NaNs, low spike count\n",
      "ValueError: array must not contain infs or NaNs\n",
      "Possible reason: acf contains NaNs, low spike count\n",
      "ValueError: array must not contain infs or NaNs\n",
      "Possible reason: acf contains NaNs, low spike count\n",
      "ValueError: array must not contain infs or NaNs\n",
      "Possible reason: acf contains NaNs, low spike count\n"
     ]
    },
    {
     "name": "stderr",
     "output_type": "stream",
     "text": [
      "C:\\Users\\ipochino\\AppData\\Local\\anaconda3\\envs\\isttc\\Lib\\site-packages\\statsmodels\\tsa\\stattools.py:702: RuntimeWarning: invalid value encountered in divide\n",
      "  acf = avf[: nlags + 1] / avf[0]\n"
     ]
    },
    {
     "name": "stdout",
     "output_type": "stream",
     "text": [
      "ValueError: array must not contain infs or NaNs\n",
      "Possible reason: acf contains NaNs, low spike count\n"
     ]
    },
    {
     "name": "stderr",
     "output_type": "stream",
     "text": [
      "C:\\Users\\ipochino\\AppData\\Local\\anaconda3\\envs\\isttc\\Lib\\site-packages\\statsmodels\\tsa\\stattools.py:702: RuntimeWarning: invalid value encountered in divide\n",
      "  acf = avf[: nlags + 1] / avf[0]\n"
     ]
    },
    {
     "name": "stdout",
     "output_type": "stream",
     "text": [
      "ValueError: array must not contain infs or NaNs\n",
      "Possible reason: acf contains NaNs, low spike count\n"
     ]
    },
    {
     "name": "stderr",
     "output_type": "stream",
     "text": [
      "C:\\Users\\ipochino\\AppData\\Local\\anaconda3\\envs\\isttc\\Lib\\site-packages\\statsmodels\\tsa\\stattools.py:702: RuntimeWarning: invalid value encountered in divide\n",
      "  acf = avf[: nlags + 1] / avf[0]\n"
     ]
    },
    {
     "name": "stdout",
     "output_type": "stream",
     "text": [
      "ValueError: array must not contain infs or NaNs\n",
      "Possible reason: acf contains NaNs, low spike count\n"
     ]
    },
    {
     "name": "stderr",
     "output_type": "stream",
     "text": [
      "C:\\Users\\ipochino\\AppData\\Local\\anaconda3\\envs\\isttc\\Lib\\site-packages\\statsmodels\\tsa\\stattools.py:702: RuntimeWarning: invalid value encountered in divide\n",
      "  acf = avf[: nlags + 1] / avf[0]\n"
     ]
    },
    {
     "name": "stdout",
     "output_type": "stream",
     "text": [
      "ValueError: array must not contain infs or NaNs\n",
      "Possible reason: acf contains NaNs, low spike count\n"
     ]
    },
    {
     "name": "stderr",
     "output_type": "stream",
     "text": [
      "C:\\Users\\ipochino\\AppData\\Local\\anaconda3\\envs\\isttc\\Lib\\site-packages\\statsmodels\\tsa\\stattools.py:702: RuntimeWarning: invalid value encountered in divide\n",
      "  acf = avf[: nlags + 1] / avf[0]\n"
     ]
    },
    {
     "name": "stdout",
     "output_type": "stream",
     "text": [
      "ValueError: array must not contain infs or NaNs\n",
      "Possible reason: acf contains NaNs, low spike count\n"
     ]
    },
    {
     "name": "stderr",
     "output_type": "stream",
     "text": [
      "C:\\Users\\ipochino\\AppData\\Local\\anaconda3\\envs\\isttc\\Lib\\site-packages\\statsmodels\\tsa\\stattools.py:702: RuntimeWarning: invalid value encountered in divide\n",
      "  acf = avf[: nlags + 1] / avf[0]\n"
     ]
    },
    {
     "name": "stdout",
     "output_type": "stream",
     "text": [
      "ValueError: array must not contain infs or NaNs\n",
      "Possible reason: acf contains NaNs, low spike count\n"
     ]
    },
    {
     "name": "stderr",
     "output_type": "stream",
     "text": [
      "C:\\Users\\ipochino\\AppData\\Local\\anaconda3\\envs\\isttc\\Lib\\site-packages\\statsmodels\\tsa\\stattools.py:702: RuntimeWarning: invalid value encountered in divide\n",
      "  acf = avf[: nlags + 1] / avf[0]\n"
     ]
    },
    {
     "name": "stdout",
     "output_type": "stream",
     "text": [
      "ValueError: array must not contain infs or NaNs\n",
      "Possible reason: acf contains NaNs, low spike count\n"
     ]
    },
    {
     "name": "stderr",
     "output_type": "stream",
     "text": [
      "C:\\Users\\ipochino\\AppData\\Local\\anaconda3\\envs\\isttc\\Lib\\site-packages\\statsmodels\\tsa\\stattools.py:702: RuntimeWarning: invalid value encountered in divide\n",
      "  acf = avf[: nlags + 1] / avf[0]\n"
     ]
    },
    {
     "name": "stdout",
     "output_type": "stream",
     "text": [
      "ValueError: array must not contain infs or NaNs\n",
      "Possible reason: acf contains NaNs, low spike count\n"
     ]
    },
    {
     "name": "stderr",
     "output_type": "stream",
     "text": [
      "C:\\Users\\ipochino\\AppData\\Local\\anaconda3\\envs\\isttc\\Lib\\site-packages\\statsmodels\\tsa\\stattools.py:702: RuntimeWarning: invalid value encountered in divide\n",
      "  acf = avf[: nlags + 1] / avf[0]\n"
     ]
    },
    {
     "name": "stdout",
     "output_type": "stream",
     "text": [
      "ValueError: array must not contain infs or NaNs\n",
      "Possible reason: acf contains NaNs, low spike count\n"
     ]
    },
    {
     "name": "stderr",
     "output_type": "stream",
     "text": [
      "C:\\Users\\ipochino\\AppData\\Local\\anaconda3\\envs\\isttc\\Lib\\site-packages\\statsmodels\\tsa\\stattools.py:702: RuntimeWarning: invalid value encountered in divide\n",
      "  acf = avf[: nlags + 1] / avf[0]\n"
     ]
    },
    {
     "name": "stdout",
     "output_type": "stream",
     "text": [
      "ValueError: array must not contain infs or NaNs\n",
      "Possible reason: acf contains NaNs, low spike count\n"
     ]
    },
    {
     "name": "stderr",
     "output_type": "stream",
     "text": [
      "C:\\Users\\ipochino\\AppData\\Local\\anaconda3\\envs\\isttc\\Lib\\site-packages\\statsmodels\\tsa\\stattools.py:702: RuntimeWarning: invalid value encountered in divide\n",
      "  acf = avf[: nlags + 1] / avf[0]\n",
      "C:\\Users\\ipochino\\AppData\\Local\\anaconda3\\envs\\isttc\\Lib\\site-packages\\statsmodels\\tsa\\stattools.py:702: RuntimeWarning: invalid value encountered in divide\n",
      "  acf = avf[: nlags + 1] / avf[0]\n"
     ]
    },
    {
     "name": "stdout",
     "output_type": "stream",
     "text": [
      "ValueError: array must not contain infs or NaNs\n",
      "Possible reason: acf contains NaNs, low spike count\n",
      "ValueError: array must not contain infs or NaNs\n",
      "Possible reason: acf contains NaNs, low spike count\n"
     ]
    },
    {
     "name": "stderr",
     "output_type": "stream",
     "text": [
      "C:\\Users\\ipochino\\AppData\\Local\\anaconda3\\envs\\isttc\\Lib\\site-packages\\statsmodels\\tsa\\stattools.py:702: RuntimeWarning: invalid value encountered in divide\n",
      "  acf = avf[: nlags + 1] / avf[0]\n",
      "C:\\Users\\ipochino\\AppData\\Local\\anaconda3\\envs\\isttc\\Lib\\site-packages\\statsmodels\\tsa\\stattools.py:702: RuntimeWarning: invalid value encountered in divide\n",
      "  acf = avf[: nlags + 1] / avf[0]\n"
     ]
    },
    {
     "name": "stdout",
     "output_type": "stream",
     "text": [
      "ValueError: array must not contain infs or NaNs\n",
      "Possible reason: acf contains NaNs, low spike count\n",
      "ValueError: array must not contain infs or NaNs\n",
      "Possible reason: acf contains NaNs, low spike count\n"
     ]
    },
    {
     "name": "stderr",
     "output_type": "stream",
     "text": [
      "C:\\Users\\ipochino\\AppData\\Local\\anaconda3\\envs\\isttc\\Lib\\site-packages\\statsmodels\\tsa\\stattools.py:702: RuntimeWarning: invalid value encountered in divide\n",
      "  acf = avf[: nlags + 1] / avf[0]\n"
     ]
    },
    {
     "name": "stdout",
     "output_type": "stream",
     "text": [
      "ValueError: array must not contain infs or NaNs\n",
      "Possible reason: acf contains NaNs, low spike count\n"
     ]
    },
    {
     "name": "stderr",
     "output_type": "stream",
     "text": [
      "C:\\Users\\ipochino\\AppData\\Local\\anaconda3\\envs\\isttc\\Lib\\site-packages\\statsmodels\\tsa\\stattools.py:702: RuntimeWarning: invalid value encountered in divide\n",
      "  acf = avf[: nlags + 1] / avf[0]\n"
     ]
    },
    {
     "name": "stdout",
     "output_type": "stream",
     "text": [
      "ValueError: array must not contain infs or NaNs\n",
      "Possible reason: acf contains NaNs, low spike count\n"
     ]
    },
    {
     "name": "stderr",
     "output_type": "stream",
     "text": [
      "C:\\Users\\ipochino\\AppData\\Local\\anaconda3\\envs\\isttc\\Lib\\site-packages\\statsmodels\\tsa\\stattools.py:702: RuntimeWarning: invalid value encountered in divide\n",
      "  acf = avf[: nlags + 1] / avf[0]\n",
      "C:\\Users\\ipochino\\AppData\\Local\\anaconda3\\envs\\isttc\\Lib\\site-packages\\statsmodels\\tsa\\stattools.py:702: RuntimeWarning: invalid value encountered in divide\n",
      "  acf = avf[: nlags + 1] / avf[0]\n"
     ]
    },
    {
     "name": "stdout",
     "output_type": "stream",
     "text": [
      "ValueError: array must not contain infs or NaNs\n",
      "Possible reason: acf contains NaNs, low spike count\n",
      "ValueError: array must not contain infs or NaNs\n",
      "Possible reason: acf contains NaNs, low spike count\n"
     ]
    },
    {
     "name": "stderr",
     "output_type": "stream",
     "text": [
      "C:\\Users\\ipochino\\AppData\\Local\\anaconda3\\envs\\isttc\\Lib\\site-packages\\statsmodels\\tsa\\stattools.py:702: RuntimeWarning: invalid value encountered in divide\n",
      "  acf = avf[: nlags + 1] / avf[0]\n"
     ]
    },
    {
     "name": "stdout",
     "output_type": "stream",
     "text": [
      "ValueError: array must not contain infs or NaNs\n",
      "Possible reason: acf contains NaNs, low spike count\n"
     ]
    },
    {
     "name": "stderr",
     "output_type": "stream",
     "text": [
      "C:\\Users\\ipochino\\AppData\\Local\\anaconda3\\envs\\isttc\\Lib\\site-packages\\statsmodels\\tsa\\stattools.py:702: RuntimeWarning: invalid value encountered in divide\n",
      "  acf = avf[: nlags + 1] / avf[0]\n",
      "C:\\Users\\ipochino\\AppData\\Local\\anaconda3\\envs\\isttc\\Lib\\site-packages\\statsmodels\\tsa\\stattools.py:702: RuntimeWarning: invalid value encountered in divide\n",
      "  acf = avf[: nlags + 1] / avf[0]\n",
      "C:\\Users\\ipochino\\AppData\\Local\\anaconda3\\envs\\isttc\\Lib\\site-packages\\statsmodels\\tsa\\stattools.py:702: RuntimeWarning: invalid value encountered in divide\n",
      "  acf = avf[: nlags + 1] / avf[0]\n"
     ]
    },
    {
     "name": "stdout",
     "output_type": "stream",
     "text": [
      "ValueError: array must not contain infs or NaNs\n",
      "Possible reason: acf contains NaNs, low spike count\n",
      "ValueError: array must not contain infs or NaNs\n",
      "Possible reason: acf contains NaNs, low spike count\n",
      "ValueError: array must not contain infs or NaNs\n",
      "Possible reason: acf contains NaNs, low spike count\n"
     ]
    },
    {
     "name": "stderr",
     "output_type": "stream",
     "text": [
      "C:\\Users\\ipochino\\AppData\\Local\\anaconda3\\envs\\isttc\\Lib\\site-packages\\statsmodels\\tsa\\stattools.py:702: RuntimeWarning: invalid value encountered in divide\n",
      "  acf = avf[: nlags + 1] / avf[0]\n"
     ]
    },
    {
     "name": "stdout",
     "output_type": "stream",
     "text": [
      "ValueError: array must not contain infs or NaNs\n",
      "Possible reason: acf contains NaNs, low spike count\n"
     ]
    },
    {
     "name": "stderr",
     "output_type": "stream",
     "text": [
      "C:\\Users\\ipochino\\AppData\\Local\\anaconda3\\envs\\isttc\\Lib\\site-packages\\statsmodels\\tsa\\stattools.py:702: RuntimeWarning: invalid value encountered in divide\n",
      "  acf = avf[: nlags + 1] / avf[0]\n"
     ]
    },
    {
     "name": "stdout",
     "output_type": "stream",
     "text": [
      "ValueError: array must not contain infs or NaNs\n",
      "Possible reason: acf contains NaNs, low spike count\n"
     ]
    },
    {
     "name": "stderr",
     "output_type": "stream",
     "text": [
      "C:\\Users\\ipochino\\AppData\\Local\\anaconda3\\envs\\isttc\\Lib\\site-packages\\statsmodels\\tsa\\stattools.py:702: RuntimeWarning: invalid value encountered in divide\n",
      "  acf = avf[: nlags + 1] / avf[0]\n"
     ]
    },
    {
     "name": "stdout",
     "output_type": "stream",
     "text": [
      "ValueError: array must not contain infs or NaNs\n",
      "Possible reason: acf contains NaNs, low spike count\n"
     ]
    },
    {
     "name": "stderr",
     "output_type": "stream",
     "text": [
      "C:\\Users\\ipochino\\AppData\\Local\\anaconda3\\envs\\isttc\\Lib\\site-packages\\statsmodels\\tsa\\stattools.py:702: RuntimeWarning: invalid value encountered in divide\n",
      "  acf = avf[: nlags + 1] / avf[0]\n",
      "C:\\Users\\ipochino\\AppData\\Local\\anaconda3\\envs\\isttc\\Lib\\site-packages\\statsmodels\\tsa\\stattools.py:702: RuntimeWarning: invalid value encountered in divide\n",
      "  acf = avf[: nlags + 1] / avf[0]\n"
     ]
    },
    {
     "name": "stdout",
     "output_type": "stream",
     "text": [
      "ValueError: array must not contain infs or NaNs\n",
      "Possible reason: acf contains NaNs, low spike count\n",
      "ValueError: array must not contain infs or NaNs\n",
      "Possible reason: acf contains NaNs, low spike count\n"
     ]
    },
    {
     "name": "stderr",
     "output_type": "stream",
     "text": [
      "C:\\Users\\ipochino\\AppData\\Local\\anaconda3\\envs\\isttc\\Lib\\site-packages\\statsmodels\\tsa\\stattools.py:702: RuntimeWarning: invalid value encountered in divide\n",
      "  acf = avf[: nlags + 1] / avf[0]\n",
      "C:\\Users\\ipochino\\AppData\\Local\\anaconda3\\envs\\isttc\\Lib\\site-packages\\statsmodels\\tsa\\stattools.py:702: RuntimeWarning: invalid value encountered in divide\n",
      "  acf = avf[: nlags + 1] / avf[0]\n",
      "C:\\Users\\ipochino\\AppData\\Local\\anaconda3\\envs\\isttc\\Lib\\site-packages\\statsmodels\\tsa\\stattools.py:702: RuntimeWarning: invalid value encountered in divide\n",
      "  acf = avf[: nlags + 1] / avf[0]\n",
      "C:\\Users\\ipochino\\AppData\\Local\\anaconda3\\envs\\isttc\\Lib\\site-packages\\statsmodels\\tsa\\stattools.py:702: RuntimeWarning: invalid value encountered in divide\n",
      "  acf = avf[: nlags + 1] / avf[0]\n"
     ]
    },
    {
     "name": "stdout",
     "output_type": "stream",
     "text": [
      "ValueError: array must not contain infs or NaNs\n",
      "Possible reason: acf contains NaNs, low spike count\n",
      "ValueError: array must not contain infs or NaNs\n",
      "Possible reason: acf contains NaNs, low spike count\n",
      "ValueError: array must not contain infs or NaNs\n",
      "Possible reason: acf contains NaNs, low spike count\n",
      "ValueError: array must not contain infs or NaNs\n",
      "Possible reason: acf contains NaNs, low spike count\n"
     ]
    },
    {
     "name": "stderr",
     "output_type": "stream",
     "text": [
      "C:\\Users\\ipochino\\AppData\\Local\\anaconda3\\envs\\isttc\\Lib\\site-packages\\statsmodels\\tsa\\stattools.py:702: RuntimeWarning: invalid value encountered in divide\n",
      "  acf = avf[: nlags + 1] / avf[0]\n",
      "C:\\Users\\ipochino\\AppData\\Local\\anaconda3\\envs\\isttc\\Lib\\site-packages\\statsmodels\\tsa\\stattools.py:702: RuntimeWarning: invalid value encountered in divide\n",
      "  acf = avf[: nlags + 1] / avf[0]\n"
     ]
    },
    {
     "name": "stdout",
     "output_type": "stream",
     "text": [
      "ValueError: array must not contain infs or NaNs\n",
      "Possible reason: acf contains NaNs, low spike count\n",
      "ValueError: array must not contain infs or NaNs\n",
      "Possible reason: acf contains NaNs, low spike count\n"
     ]
    },
    {
     "name": "stderr",
     "output_type": "stream",
     "text": [
      "C:\\Users\\ipochino\\AppData\\Local\\anaconda3\\envs\\isttc\\Lib\\site-packages\\statsmodels\\tsa\\stattools.py:702: RuntimeWarning: invalid value encountered in divide\n",
      "  acf = avf[: nlags + 1] / avf[0]\n"
     ]
    },
    {
     "name": "stdout",
     "output_type": "stream",
     "text": [
      "ValueError: array must not contain infs or NaNs\n",
      "Possible reason: acf contains NaNs, low spike count\n"
     ]
    },
    {
     "name": "stderr",
     "output_type": "stream",
     "text": [
      "C:\\Users\\ipochino\\AppData\\Local\\anaconda3\\envs\\isttc\\Lib\\site-packages\\statsmodels\\tsa\\stattools.py:702: RuntimeWarning: invalid value encountered in divide\n",
      "  acf = avf[: nlags + 1] / avf[0]\n",
      "C:\\Users\\ipochino\\AppData\\Local\\anaconda3\\envs\\isttc\\Lib\\site-packages\\statsmodels\\tsa\\stattools.py:702: RuntimeWarning: invalid value encountered in divide\n",
      "  acf = avf[: nlags + 1] / avf[0]\n",
      "C:\\Users\\ipochino\\AppData\\Local\\anaconda3\\envs\\isttc\\Lib\\site-packages\\statsmodels\\tsa\\stattools.py:702: RuntimeWarning: invalid value encountered in divide\n",
      "  acf = avf[: nlags + 1] / avf[0]\n"
     ]
    },
    {
     "name": "stdout",
     "output_type": "stream",
     "text": [
      "ValueError: array must not contain infs or NaNs\n",
      "Possible reason: acf contains NaNs, low spike count\n",
      "ValueError: array must not contain infs or NaNs\n",
      "Possible reason: acf contains NaNs, low spike count\n",
      "ValueError: array must not contain infs or NaNs\n",
      "Possible reason: acf contains NaNs, low spike count\n"
     ]
    },
    {
     "name": "stderr",
     "output_type": "stream",
     "text": [
      "C:\\Users\\ipochino\\AppData\\Local\\anaconda3\\envs\\isttc\\Lib\\site-packages\\statsmodels\\tsa\\stattools.py:702: RuntimeWarning: invalid value encountered in divide\n",
      "  acf = avf[: nlags + 1] / avf[0]\n",
      "C:\\Users\\ipochino\\AppData\\Local\\anaconda3\\envs\\isttc\\Lib\\site-packages\\statsmodels\\tsa\\stattools.py:702: RuntimeWarning: invalid value encountered in divide\n",
      "  acf = avf[: nlags + 1] / avf[0]\n"
     ]
    },
    {
     "name": "stdout",
     "output_type": "stream",
     "text": [
      "ValueError: array must not contain infs or NaNs\n",
      "Possible reason: acf contains NaNs, low spike count\n",
      "ValueError: array must not contain infs or NaNs\n",
      "Possible reason: acf contains NaNs, low spike count\n"
     ]
    },
    {
     "name": "stderr",
     "output_type": "stream",
     "text": [
      "C:\\Users\\ipochino\\AppData\\Local\\anaconda3\\envs\\isttc\\Lib\\site-packages\\statsmodels\\tsa\\stattools.py:702: RuntimeWarning: invalid value encountered in divide\n",
      "  acf = avf[: nlags + 1] / avf[0]\n",
      "C:\\Users\\ipochino\\AppData\\Local\\anaconda3\\envs\\isttc\\Lib\\site-packages\\statsmodels\\tsa\\stattools.py:702: RuntimeWarning: invalid value encountered in divide\n",
      "  acf = avf[: nlags + 1] / avf[0]\n"
     ]
    },
    {
     "name": "stdout",
     "output_type": "stream",
     "text": [
      "ValueError: array must not contain infs or NaNs\n",
      "Possible reason: acf contains NaNs, low spike count\n",
      "ValueError: array must not contain infs or NaNs\n",
      "Possible reason: acf contains NaNs, low spike count\n"
     ]
    },
    {
     "name": "stderr",
     "output_type": "stream",
     "text": [
      "C:\\Users\\ipochino\\AppData\\Local\\anaconda3\\envs\\isttc\\Lib\\site-packages\\statsmodels\\tsa\\stattools.py:702: RuntimeWarning: invalid value encountered in divide\n",
      "  acf = avf[: nlags + 1] / avf[0]\n"
     ]
    },
    {
     "name": "stdout",
     "output_type": "stream",
     "text": [
      "ValueError: array must not contain infs or NaNs\n",
      "Possible reason: acf contains NaNs, low spike count\n"
     ]
    },
    {
     "name": "stderr",
     "output_type": "stream",
     "text": [
      "C:\\Users\\ipochino\\AppData\\Local\\anaconda3\\envs\\isttc\\Lib\\site-packages\\statsmodels\\tsa\\stattools.py:702: RuntimeWarning: invalid value encountered in divide\n",
      "  acf = avf[: nlags + 1] / avf[0]\n"
     ]
    },
    {
     "name": "stdout",
     "output_type": "stream",
     "text": [
      "ValueError: array must not contain infs or NaNs\n",
      "Possible reason: acf contains NaNs, low spike count\n"
     ]
    },
    {
     "name": "stderr",
     "output_type": "stream",
     "text": [
      "C:\\Users\\ipochino\\AppData\\Local\\anaconda3\\envs\\isttc\\Lib\\site-packages\\statsmodels\\tsa\\stattools.py:702: RuntimeWarning: invalid value encountered in divide\n",
      "  acf = avf[: nlags + 1] / avf[0]\n"
     ]
    },
    {
     "name": "stdout",
     "output_type": "stream",
     "text": [
      "ValueError: array must not contain infs or NaNs\n",
      "Possible reason: acf contains NaNs, low spike count\n"
     ]
    },
    {
     "name": "stderr",
     "output_type": "stream",
     "text": [
      "C:\\Users\\ipochino\\AppData\\Local\\anaconda3\\envs\\isttc\\Lib\\site-packages\\statsmodels\\tsa\\stattools.py:702: RuntimeWarning: invalid value encountered in divide\n",
      "  acf = avf[: nlags + 1] / avf[0]\n"
     ]
    },
    {
     "name": "stdout",
     "output_type": "stream",
     "text": [
      "ValueError: array must not contain infs or NaNs\n",
      "Possible reason: acf contains NaNs, low spike count\n"
     ]
    }
   ],
   "source": [
    "true_tau = 100.0  # set your actual ground truth value in the same units as your methods\n",
    "evaluation_df = evaluate_methods(subsampled_data, true_tau)"
   ]
  },
  {
   "cell_type": "code",
   "execution_count": 48,
   "id": "49b197a2-9e13-467b-a9bf-93ecca71975c",
   "metadata": {},
   "outputs": [
    {
     "data": {
      "text/html": [
       "<div>\n",
       "<style scoped>\n",
       "    .dataframe tbody tr th:only-of-type {\n",
       "        vertical-align: middle;\n",
       "    }\n",
       "\n",
       "    .dataframe tbody tr th {\n",
       "        vertical-align: top;\n",
       "    }\n",
       "\n",
       "    .dataframe thead th {\n",
       "        text-align: right;\n",
       "    }\n",
       "</style>\n",
       "<table border=\"1\" class=\"dataframe\">\n",
       "  <thead>\n",
       "    <tr style=\"text-align: right;\">\n",
       "      <th></th>\n",
       "      <th>duration</th>\n",
       "      <th>method</th>\n",
       "      <th>estimated_tau</th>\n",
       "      <th>error</th>\n",
       "    </tr>\n",
       "  </thead>\n",
       "  <tbody>\n",
       "    <tr>\n",
       "      <th>0</th>\n",
       "      <td>1050</td>\n",
       "      <td>acf_full</td>\n",
       "      <td>2.671650</td>\n",
       "      <td>-97.328350</td>\n",
       "    </tr>\n",
       "    <tr>\n",
       "      <th>1</th>\n",
       "      <td>1050</td>\n",
       "      <td>isttc_full</td>\n",
       "      <td>28.271560</td>\n",
       "      <td>-71.728440</td>\n",
       "    </tr>\n",
       "    <tr>\n",
       "      <th>2</th>\n",
       "      <td>1050</td>\n",
       "      <td>acf_full</td>\n",
       "      <td>1.878468</td>\n",
       "      <td>-98.121532</td>\n",
       "    </tr>\n",
       "    <tr>\n",
       "      <th>3</th>\n",
       "      <td>1050</td>\n",
       "      <td>isttc_full</td>\n",
       "      <td>20.507210</td>\n",
       "      <td>-79.492790</td>\n",
       "    </tr>\n",
       "    <tr>\n",
       "      <th>4</th>\n",
       "      <td>1050</td>\n",
       "      <td>acf_full</td>\n",
       "      <td>29.613523</td>\n",
       "      <td>-70.386477</td>\n",
       "    </tr>\n",
       "    <tr>\n",
       "      <th>...</th>\n",
       "      <td>...</td>\n",
       "      <td>...</td>\n",
       "      <td>...</td>\n",
       "      <td>...</td>\n",
       "    </tr>\n",
       "    <tr>\n",
       "      <th>17995</th>\n",
       "      <td>300000</td>\n",
       "      <td>isttc_full</td>\n",
       "      <td>24.513837</td>\n",
       "      <td>-75.486163</td>\n",
       "    </tr>\n",
       "    <tr>\n",
       "      <th>17996</th>\n",
       "      <td>300000</td>\n",
       "      <td>acf_full</td>\n",
       "      <td>146.677301</td>\n",
       "      <td>46.677301</td>\n",
       "    </tr>\n",
       "    <tr>\n",
       "      <th>17997</th>\n",
       "      <td>300000</td>\n",
       "      <td>isttc_full</td>\n",
       "      <td>23.840614</td>\n",
       "      <td>-76.159386</td>\n",
       "    </tr>\n",
       "    <tr>\n",
       "      <th>17998</th>\n",
       "      <td>300000</td>\n",
       "      <td>acf_full</td>\n",
       "      <td>72.788263</td>\n",
       "      <td>-27.211737</td>\n",
       "    </tr>\n",
       "    <tr>\n",
       "      <th>17999</th>\n",
       "      <td>300000</td>\n",
       "      <td>isttc_full</td>\n",
       "      <td>26.430797</td>\n",
       "      <td>-73.569203</td>\n",
       "    </tr>\n",
       "  </tbody>\n",
       "</table>\n",
       "<p>18000 rows × 4 columns</p>\n",
       "</div>"
      ],
      "text/plain": [
       "       duration      method  estimated_tau      error\n",
       "0          1050    acf_full       2.671650 -97.328350\n",
       "1          1050  isttc_full      28.271560 -71.728440\n",
       "2          1050    acf_full       1.878468 -98.121532\n",
       "3          1050  isttc_full      20.507210 -79.492790\n",
       "4          1050    acf_full      29.613523 -70.386477\n",
       "...         ...         ...            ...        ...\n",
       "17995    300000  isttc_full      24.513837 -75.486163\n",
       "17996    300000    acf_full     146.677301  46.677301\n",
       "17997    300000  isttc_full      23.840614 -76.159386\n",
       "17998    300000    acf_full      72.788263 -27.211737\n",
       "17999    300000  isttc_full      26.430797 -73.569203\n",
       "\n",
       "[18000 rows x 4 columns]"
      ]
     },
     "execution_count": 48,
     "metadata": {},
     "output_type": "execute_result"
    }
   ],
   "source": [
    "evaluation_df"
   ]
  },
  {
   "cell_type": "code",
   "execution_count": 49,
   "id": "3f72145c-5b01-4874-8e46-9817295545b5",
   "metadata": {},
   "outputs": [
    {
     "data": {
      "image/png": "[encoded data removed]",
      "text/plain": [
       "<Figure size 800x500 with 1 Axes>"
      ]
     },
     "metadata": {},
     "output_type": "display_data"
    }
   ],
   "source": [
    "rmse_df = compute_rmse_by_duration(evaluation_df)\n",
    "plot_rmse_vs_duration(rmse_df)"
   ]
  }
 ],
 "metadata": {
  "kernelspec": {
   "display_name": "Python 3 (ipykernel)",
   "language": "python",
   "name": "python3"
  },
  "language_info": {
   "codemirror_mode": {
    "name": "ipython",
    "version": 3
   },
   "file_extension": ".py",
   "mimetype": "text/x-python",
   "name": "python",
   "nbconvert_exporter": "python",
   "pygments_lexer": "ipython3",
   "version": "3.12.9"
  }
 },
 "nbformat": 4,
 "nbformat_minor": 5
}
