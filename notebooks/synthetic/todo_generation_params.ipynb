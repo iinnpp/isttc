{
 "cells": [
  {
   "cell_type": "code",
   "execution_count": null,
   "id": "f0adc03e-fd89-40f1-8efe-f07263368104",
   "metadata": {},
   "outputs": [],
   "source": [
    "### Allen mice dataset params - FR and Lv"
   ]
  },
  {
   "cell_type": "code",
   "execution_count": 4,
   "id": "64257b3b-a429-4002-87f7-11a4f2f27bea",
   "metadata": {},
   "outputs": [],
   "source": [
    "import pandas as pd\n",
    "import matplotlib as mpl\n",
    "import matplotlib.pyplot as plt\n",
    "import seaborn as sns\n",
    "\n",
    "# import from scripts\n",
    "import os\n",
    "current_wd = os.getcwd()\n",
    "os.chdir(os.path.abspath(\"..\\\\..\\\\..\\\\isttc\\\\scripts\"))\n",
    "from cfg_global import project_folder_path\n",
    "os.chdir(current_wd)"
   ]
  },
  {
   "cell_type": "code",
   "execution_count": 2,
   "id": "10823fcf-835a-42e6-9c04-3683d211d28e",
   "metadata": {},
   "outputs": [],
   "source": [
    "dataset_folder = project_folder_path + 'results\\\\mice\\\\dataset\\\\' \n",
    "units_subset_df_quality = pd.read_pickle(dataset_folder + 'cut_30min\\\\sua_list_constrained_units_df.pkl')"
   ]
  },
  {
   "cell_type": "code",
   "execution_count": 3,
   "id": "59d6bad2-7d89-4aa1-8070-a1b3d044d2ef",
   "metadata": {},
   "outputs": [
    {
     "data": {
      "text/html": [
       "<div>\n",
       "<style scoped>\n",
       "    .dataframe tbody tr th:only-of-type {\n",
       "        vertical-align: middle;\n",
       "    }\n",
       "\n",
       "    .dataframe tbody tr th {\n",
       "        vertical-align: top;\n",
       "    }\n",
       "\n",
       "    .dataframe thead th {\n",
       "        text-align: right;\n",
       "    }\n",
       "</style>\n",
       "<table border=\"1\" class=\"dataframe\">\n",
       "  <thead>\n",
       "    <tr style=\"text-align: right;\">\n",
       "      <th></th>\n",
       "      <th>firing_rate</th>\n",
       "      <th>amplitude_cutoff</th>\n",
       "      <th>isi_violations</th>\n",
       "      <th>presence_ratio</th>\n",
       "      <th>fr_hz_spont_30min</th>\n",
       "      <th>fr_hz_spont_30min_log10</th>\n",
       "    </tr>\n",
       "  </thead>\n",
       "  <tbody>\n",
       "    <tr>\n",
       "      <th>count</th>\n",
       "      <td>5775.000000</td>\n",
       "      <td>5.775000e+03</td>\n",
       "      <td>5775.000000</td>\n",
       "      <td>5775.000000</td>\n",
       "      <td>5775.000000</td>\n",
       "      <td>5775.000000</td>\n",
       "    </tr>\n",
       "    <tr>\n",
       "      <th>mean</th>\n",
       "      <td>6.314318</td>\n",
       "      <td>2.208872e-03</td>\n",
       "      <td>0.060883</td>\n",
       "      <td>0.987943</td>\n",
       "      <td>6.130562</td>\n",
       "      <td>0.493687</td>\n",
       "    </tr>\n",
       "    <tr>\n",
       "      <th>std</th>\n",
       "      <td>7.042870</td>\n",
       "      <td>2.542759e-03</td>\n",
       "      <td>0.099024</td>\n",
       "      <td>0.006802</td>\n",
       "      <td>7.231440</td>\n",
       "      <td>0.564195</td>\n",
       "    </tr>\n",
       "    <tr>\n",
       "      <th>min</th>\n",
       "      <td>0.064993</td>\n",
       "      <td>8.935552e-07</td>\n",
       "      <td>0.000000</td>\n",
       "      <td>0.950000</td>\n",
       "      <td>0.023889</td>\n",
       "      <td>-1.621804</td>\n",
       "    </tr>\n",
       "    <tr>\n",
       "      <th>25%</th>\n",
       "      <td>1.684944</td>\n",
       "      <td>2.722624e-04</td>\n",
       "      <td>0.001087</td>\n",
       "      <td>0.990000</td>\n",
       "      <td>1.328889</td>\n",
       "      <td>0.123489</td>\n",
       "    </tr>\n",
       "    <tr>\n",
       "      <th>50%</th>\n",
       "      <td>3.904053</td>\n",
       "      <td>1.113503e-03</td>\n",
       "      <td>0.016035</td>\n",
       "      <td>0.990000</td>\n",
       "      <td>3.498333</td>\n",
       "      <td>0.543861</td>\n",
       "    </tr>\n",
       "    <tr>\n",
       "      <th>75%</th>\n",
       "      <td>8.648506</td>\n",
       "      <td>3.348794e-03</td>\n",
       "      <td>0.070154</td>\n",
       "      <td>0.990000</td>\n",
       "      <td>8.710556</td>\n",
       "      <td>0.940046</td>\n",
       "    </tr>\n",
       "    <tr>\n",
       "      <th>max</th>\n",
       "      <td>69.693776</td>\n",
       "      <td>9.982543e-03</td>\n",
       "      <td>0.499671</td>\n",
       "      <td>0.990000</td>\n",
       "      <td>73.933889</td>\n",
       "      <td>1.868844</td>\n",
       "    </tr>\n",
       "  </tbody>\n",
       "</table>\n",
       "</div>"
      ],
      "text/plain": [
       "       firing_rate  amplitude_cutoff  isi_violations  presence_ratio  \\\n",
       "count  5775.000000      5.775000e+03     5775.000000     5775.000000   \n",
       "mean      6.314318      2.208872e-03        0.060883        0.987943   \n",
       "std       7.042870      2.542759e-03        0.099024        0.006802   \n",
       "min       0.064993      8.935552e-07        0.000000        0.950000   \n",
       "25%       1.684944      2.722624e-04        0.001087        0.990000   \n",
       "50%       3.904053      1.113503e-03        0.016035        0.990000   \n",
       "75%       8.648506      3.348794e-03        0.070154        0.990000   \n",
       "max      69.693776      9.982543e-03        0.499671        0.990000   \n",
       "\n",
       "       fr_hz_spont_30min  fr_hz_spont_30min_log10  \n",
       "count        5775.000000              5775.000000  \n",
       "mean            6.130562                 0.493687  \n",
       "std             7.231440                 0.564195  \n",
       "min             0.023889                -1.621804  \n",
       "25%             1.328889                 0.123489  \n",
       "50%             3.498333                 0.543861  \n",
       "75%             8.710556                 0.940046  \n",
       "max            73.933889                 1.868844  "
      ]
     },
     "execution_count": 3,
     "metadata": {},
     "output_type": "execute_result"
    }
   ],
   "source": [
    "units_subset_df_quality.describe()"
   ]
  },
  {
   "cell_type": "code",
   "execution_count": 5,
   "id": "bc500d18-5edf-42b8-9d94-feb248fe1d36",
   "metadata": {},
   "outputs": [
    {
     "data": {
      "text/plain": [
       "<Axes: ylabel='fr_hz_spont_30min'>"
      ]
     },
     "execution_count": 5,
     "metadata": {},
     "output_type": "execute_result"
    },
    {
     "data": {
      "image/png": "[encoded data removed]",
      "text/plain": [
       "<Figure size 640x480 with 1 Axes>"
      ]
     },
     "metadata": {},
     "output_type": "display_data"
    }
   ],
   "source": [
    "sns.violinplot(y='fr_hz_spont_30min', data=units_subset_df_quality)"
   ]
  }
 ],
 "metadata": {
  "kernelspec": {
   "display_name": "Python 3 (ipykernel)",
   "language": "python",
   "name": "python3"
  },
  "language_info": {
   "codemirror_mode": {
    "name": "ipython",
    "version": 3
   },
   "file_extension": ".py",
   "mimetype": "text/x-python",
   "name": "python",
   "nbconvert_exporter": "python",
   "pygments_lexer": "ipython3",
   "version": "3.12.9"
  }
 },
 "nbformat": 4,
 "nbformat_minor": 5
}
