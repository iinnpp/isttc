{
 "cells": [
  {
   "cell_type": "code",
   "execution_count": 1,
   "id": "e6e660c4-71e1-412e-9eba-122c3ecaf7cf",
   "metadata": {},
   "outputs": [],
   "source": [
    "import numpy as np"
   ]
  },
  {
   "cell_type": "code",
   "execution_count": 2,
   "id": "a07b5969-4987-49c4-b76f-8611b78b6b3d",
   "metadata": {},
   "outputs": [
    {
     "name": "stdout",
     "output_type": "stream",
     "text": [
      "[  51  101  151  201  251  301  351  401  451  501  551  601  651  701\n",
      "  751  801  851  901  951 1001]\n",
      "[  50  100  150  200  250  300  350  400  450  500  550  600  650  700\n",
      "  750  800  850  900  950 1000]\n"
     ]
    }
   ],
   "source": [
    "lag_shift_ = 50\n",
    "n_lags_= 20\n",
    "\n",
    "shift_ms_l_1 = np.linspace(lag_shift_+1, lag_shift_ * n_lags_ + 1, n_lags_).astype(int)\n",
    "print(shift_ms_l_1)\n",
    "\n",
    "shift_ms_l_2 = np.linspace(lag_shift_, lag_shift_ * n_lags_, n_lags_).astype(int)\n",
    "print(shift_ms_l_2)"
   ]
  }
 ],
 "metadata": {
  "kernelspec": {
   "display_name": "Python 3 (ipykernel)",
   "language": "python",
   "name": "python3"
  },
  "language_info": {
   "codemirror_mode": {
    "name": "ipython",
    "version": 3
   },
   "file_extension": ".py",
   "mimetype": "text/x-python",
   "name": "python",
   "nbconvert_exporter": "python",
   "pygments_lexer": "ipython3",
   "version": "3.12.3"
  }
 },
 "nbformat": 4,
 "nbformat_minor": 5
}
