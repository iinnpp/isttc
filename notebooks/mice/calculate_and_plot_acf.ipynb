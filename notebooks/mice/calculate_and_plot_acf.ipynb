{
 "cells": [
  {
   "cell_type": "markdown",
   "id": "821b2ec7-71a8-4c9e-ac53-d569c966e511",
   "metadata": {},
   "source": [
    "todo: all will be in the script (now trial stuff is in the script, and here I have full signal)\n",
    "\n",
    "Calculate 5 versions of ACF:\n",
    "* ACF on full signal\n",
    "* iSTTC on full signal\n",
    "* Pearsonr trial average\n",
    "* STTC trial average\n",
    "* STTC trial concat\n",
    "\n",
    "We do not have ground truth here but we have the high quality units from neuropixels. The idea is to show that the STTC concat \n",
    "works better compared to the trial average methods (both Pearson and STTC).\n",
    "\n",
    "Trial generation approach: for every continious signal the resampling procedure is run.\n",
    "\n",
    "* Number of resampling iterations: M is based on bootstrapping stability analysis \n",
    "* Number of trials per resampling: N = 40 (based on data in monkey dataset so the number of trials is from experiments)\n"
   ]
  },
  {
   "cell_type": "code",
   "execution_count": 1,
   "id": "39be3909-302c-4ae0-ac5a-b8e950540326",
   "metadata": {},
   "outputs": [],
   "source": [
    "import csv\n",
    "import numpy as np\n",
    "import pandas as pd\n",
    "\n",
    "from statsmodels.tsa.stattools import acf\n",
    "#from scipy.optimize import curve_fit, OptimizeWarning\n",
    "\n",
    "#import warnings\n",
    "\n",
    "import matplotlib.pyplot as plt\n",
    "import seaborn as sns\n",
    "\n",
    "# import from scripts\n",
    "import os\n",
    "current_wd = os.getcwd()\n",
    "os.chdir(os.path.abspath(\"..\\\\..\\\\..\\\\isttc\\\\scripts\"))\n",
    "#os.chdir(os.path.abspath(\"C:\\\\Users\\\\ipoch\\\\Documents\\\\repos\\\\isttc\\\\scripts\"))\n",
    "from calculate_tau import fit_single_exp\n",
    "from cfg_global import project_folder_path\n",
    "from calculate_acf import acf_sttc, acf_pearsonr_trial_avg, acf_sttc_trial_avg, acf_sttc_trial_concat\n",
    "os.chdir(current_wd)"
   ]
  },
  {
   "cell_type": "code",
   "execution_count": 2,
   "id": "57fa8706-1b43-42d5-ab5a-bcad073eea94",
   "metadata": {},
   "outputs": [],
   "source": [
    "dataset_folder = project_folder_path + 'results\\\\allen_mice\\\\dataset\\\\cut_30min\\\\'\n",
    "fig_folder = project_folder_path + 'results\\\\allen_mice\\\\fig_draft_paper\\\\'"
   ]
  },
  {
   "cell_type": "markdown",
   "id": "6a3fc2dd-d44e-4264-95e8-5781648f0228",
   "metadata": {},
   "source": [
    "### Get data"
   ]
  },
  {
   "cell_type": "code",
   "execution_count": null,
   "id": "ac934335-a25d-4f7f-a6f7-8f21d8fa6514",
   "metadata": {},
   "outputs": [],
   "source": [
    "acf_full_df_file = dataset_folder + 'binned\\\\acf\\\\acf_full_50ms_20lags_df.pkl'\n",
    "acf_full_df = pd.read_pickle(acf_full_df_file)\n",
    "\n",
    "acf_isttc_full_df_file = dataset_folder + 'non_binned\\\\acf\\\\acf_isttc_full_50ms_20lags_df.pkl'\n",
    "acf_isttc_full_df = pd.read_pickle(acf_isttc_full_df_file)"
   ]
  },
  {
   "cell_type": "code",
   "execution_count": 4,
   "id": "81b9b6f5-9174-4dc3-ab9b-6ca0e4d1d56f",
   "metadata": {},
   "outputs": [
    {
     "name": "stdout",
     "output_type": "stream",
     "text": [
      "Loaded N units 5775\n"
     ]
    }
   ],
   "source": [
    "csv_data_file = dataset_folder + 'sua_list_constrained.csv'\n",
    "with open(csv_data_file, newline='') as f:\n",
    "    reader = csv.reader(f)\n",
    "    sua_list = list(reader)\n",
    "print(f'Loaded N units {len(sua_list)}')\n",
    "\n",
    "# csv_binned_data_file = dataset_folder + 'cut_30min\\\\sua_list_constrained_binned_50ms.csv'\n",
    "# with open(csv_binned_data_file, newline='') as f:\n",
    "#     reader = csv.reader(f)\n",
    "#     binned_sua_list = list(reader)\n",
    "# print(f'Loaded N units {len(binned_sua_list)}')"
   ]
  },
  {
   "cell_type": "markdown",
   "id": "b7f8c826-a2bf-4a8f-a5ed-9204f150d982",
   "metadata": {},
   "source": [
    "### Calculate ACFs"
   ]
  },
  {
   "cell_type": "code",
   "execution_count": 5,
   "id": "fcf95d9c-1608-4c8e-bd63-d443bbe165f6",
   "metadata": {},
   "outputs": [
    {
     "name": "stdout",
     "output_type": "stream",
     "text": [
      "acf_cols ['acf_0', 'acf_1', 'acf_2', 'acf_3', 'acf_4', 'acf_5', 'acf_6', 'acf_7', 'acf_8', 'acf_9', 'acf_10', 'acf_11', 'acf_12', 'acf_13', 'acf_14', 'acf_15', 'acf_16', 'acf_17', 'acf_18', 'acf_19', 'acf_20']\n"
     ]
    }
   ],
   "source": [
    "fs = 30000 # raw neuropixels\n",
    "n_lags = 20\n",
    "\n",
    "bin_size = int(50 * (fs / 1000))\n",
    "sttc_dt = int(25 * (fs / 1000))\n",
    "signal_len = 30 * 60 * fs\n",
    "\n",
    "acf_cols = ['acf_' + str(i) for i in range(n_lags+1)]\n",
    "print('acf_cols {}'.format(acf_cols))"
   ]
  },
  {
   "cell_type": "code",
   "execution_count": 6,
   "id": "e171cb4e-5343-4df7-b006-26d880da9e8a",
   "metadata": {},
   "outputs": [],
   "source": [
    "calc_acf_full = False\n",
    "calc_isttc_full = True"
   ]
  },
  {
   "cell_type": "code",
   "execution_count": null,
   "id": "c2be2cfa-7bec-454c-8b41-a4002110466a",
   "metadata": {},
   "outputs": [],
   "source": [
    "if calc_acf_full:\n",
    "    acf_full_l = []\n",
    "    unit_metadata_l = []  # To store values 0-7\n",
    "    \n",
    "    for unit_idx, unit in enumerate(binned_sua_list):\n",
    "        if unit_idx % 100 == 0:\n",
    "            print(f'Processing unit {unit_idx}')\n",
    "        spike_train_binned_int = np.asarray([int(spike) for spike in unit[8:]])\n",
    "        spike_train_binned_acf = acf(spike_train_binned_int, nlags=n_lags)\n",
    "        acf_full_l.append(spike_train_binned_acf)\n",
    "        unit_metadata_l.append(unit[:8])\n",
    "    \n",
    "    acf_full_df = pd.DataFrame(np.array(acf_full_l), columns=acf_cols)\n",
    "    column_names = [\"specimen_id\", \"session_id\", \"unit_id\", \"ecephys_structure_acronym\", 'firing_rate', 'amplitude_cutoff', 'isi_violations', 'presence_ratio']\n",
    "    metadata_df = pd.DataFrame(unit_metadata_l, columns=column_names)\n",
    "    \n",
    "    acf_full_df = pd.concat([metadata_df, acf_full_df], axis=1)\n",
    "    \n",
    "    print('NaNs in acf {}'.format(acf_full_df.isnull().any().any()))\n",
    "    acf_full_df.head(3)\n",
    "    \n",
    "    acf_full_df.to_pickle(dataset_folder + 'cut_30min\\\\binned\\\\acf\\\\acf_full_50ms_20lags_df.pkl')"
   ]
  },
  {
   "cell_type": "code",
   "execution_count": 7,
   "id": "17451f91-7dea-4d57-8dc8-30723cb684a3",
   "metadata": {},
   "outputs": [
    {
     "name": "stdout",
     "output_type": "stream",
     "text": [
      "Processing unit 0\n",
      "Processing unit 100\n",
      "Processing unit 200\n",
      "Processing unit 300\n",
      "Processing unit 400\n",
      "Processing unit 500\n",
      "Processing unit 600\n",
      "Processing unit 700\n",
      "Processing unit 800\n",
      "Processing unit 900\n",
      "Processing unit 1000\n",
      "Processing unit 1100\n",
      "Processing unit 1200\n",
      "Processing unit 1300\n",
      "Processing unit 1400\n",
      "Processing unit 1500\n",
      "Processing unit 1600\n",
      "Processing unit 1700\n",
      "Processing unit 1800\n",
      "Processing unit 1900\n",
      "Processing unit 2000\n",
      "Processing unit 2100\n",
      "Processing unit 2200\n",
      "Processing unit 2300\n",
      "Processing unit 2400\n",
      "Processing unit 2500\n",
      "Processing unit 2600\n",
      "Processing unit 2700\n",
      "Processing unit 2800\n",
      "Processing unit 2900\n",
      "Processing unit 3000\n",
      "Processing unit 3100\n",
      "Processing unit 3200\n",
      "Processing unit 3300\n",
      "Processing unit 3400\n",
      "Processing unit 3500\n",
      "Processing unit 3600\n",
      "Processing unit 3700\n",
      "Processing unit 3800\n",
      "Processing unit 3900\n",
      "Processing unit 4000\n",
      "Processing unit 4100\n",
      "Processing unit 4200\n",
      "Processing unit 4300\n",
      "Processing unit 4400\n",
      "Processing unit 4500\n",
      "Processing unit 4600\n",
      "Processing unit 4700\n",
      "Processing unit 4800\n",
      "Processing unit 4900\n",
      "Processing unit 5000\n",
      "Processing unit 5100\n",
      "Processing unit 5200\n",
      "Processing unit 5300\n",
      "Processing unit 5400\n",
      "Processing unit 5500\n",
      "Processing unit 5600\n",
      "Processing unit 5700\n",
      "NaNs in acf False\n"
     ]
    },
    {
     "ename": "OSError",
     "evalue": "Cannot save file into a non-existent directory: 'E:\\work\\q_backup_06_03_2025\\projects\\isttc\\results\\allen_mice\\dataset\\cut_30min\\cut_30min\\non_binned\\acf'",
     "output_type": "error",
     "traceback": [
      "\u001b[1;31m---------------------------------------------------------------------------\u001b[0m",
      "\u001b[1;31mOSError\u001b[0m                                   Traceback (most recent call last)",
      "Cell \u001b[1;32mIn[7], line 22\u001b[0m\n\u001b[0;32m     19\u001b[0m \u001b[38;5;28mprint\u001b[39m(\u001b[38;5;124m'\u001b[39m\u001b[38;5;124mNaNs in acf \u001b[39m\u001b[38;5;132;01m{}\u001b[39;00m\u001b[38;5;124m'\u001b[39m\u001b[38;5;241m.\u001b[39mformat(acf_isttc_full_df\u001b[38;5;241m.\u001b[39misnull()\u001b[38;5;241m.\u001b[39many()\u001b[38;5;241m.\u001b[39many()))\n\u001b[0;32m     20\u001b[0m acf_isttc_full_df\u001b[38;5;241m.\u001b[39mhead(\u001b[38;5;241m3\u001b[39m)\n\u001b[1;32m---> 22\u001b[0m acf_isttc_full_df\u001b[38;5;241m.\u001b[39mto_pickle(dataset_folder \u001b[38;5;241m+\u001b[39m \u001b[38;5;124m'\u001b[39m\u001b[38;5;124mcut_30min\u001b[39m\u001b[38;5;130;01m\\\\\u001b[39;00m\u001b[38;5;124mnon_binned\u001b[39m\u001b[38;5;130;01m\\\\\u001b[39;00m\u001b[38;5;124macf\u001b[39m\u001b[38;5;130;01m\\\\\u001b[39;00m\u001b[38;5;124macf_isttc_full_50ms_20lags_df_25dt.pkl\u001b[39m\u001b[38;5;124m'\u001b[39m)\n",
      "File \u001b[1;32m~\\AppData\\Local\\anaconda3\\envs\\isttc\\Lib\\site-packages\\pandas\\util\\_decorators.py:333\u001b[0m, in \u001b[0;36mdeprecate_nonkeyword_arguments.<locals>.decorate.<locals>.wrapper\u001b[1;34m(*args, **kwargs)\u001b[0m\n\u001b[0;32m    327\u001b[0m \u001b[38;5;28;01mif\u001b[39;00m \u001b[38;5;28mlen\u001b[39m(args) \u001b[38;5;241m>\u001b[39m num_allow_args:\n\u001b[0;32m    328\u001b[0m     warnings\u001b[38;5;241m.\u001b[39mwarn(\n\u001b[0;32m    329\u001b[0m         msg\u001b[38;5;241m.\u001b[39mformat(arguments\u001b[38;5;241m=\u001b[39m_format_argument_list(allow_args)),\n\u001b[0;32m    330\u001b[0m         \u001b[38;5;167;01mFutureWarning\u001b[39;00m,\n\u001b[0;32m    331\u001b[0m         stacklevel\u001b[38;5;241m=\u001b[39mfind_stack_level(),\n\u001b[0;32m    332\u001b[0m     )\n\u001b[1;32m--> 333\u001b[0m \u001b[38;5;28;01mreturn\u001b[39;00m func(\u001b[38;5;241m*\u001b[39margs, \u001b[38;5;241m*\u001b[39m\u001b[38;5;241m*\u001b[39mkwargs)\n",
      "File \u001b[1;32m~\\AppData\\Local\\anaconda3\\envs\\isttc\\Lib\\site-packages\\pandas\\core\\generic.py:3165\u001b[0m, in \u001b[0;36mNDFrame.to_pickle\u001b[1;34m(self, path, compression, protocol, storage_options)\u001b[0m\n\u001b[0;32m   3115\u001b[0m \u001b[38;5;250m\u001b[39m\u001b[38;5;124;03m\"\"\"\u001b[39;00m\n\u001b[0;32m   3116\u001b[0m \u001b[38;5;124;03mPickle (serialize) object to file.\u001b[39;00m\n\u001b[0;32m   3117\u001b[0m \n\u001b[1;32m   (...)\u001b[0m\n\u001b[0;32m   3161\u001b[0m \u001b[38;5;124;03m4    4    9\u001b[39;00m\n\u001b[0;32m   3162\u001b[0m \u001b[38;5;124;03m\"\"\"\u001b[39;00m  \u001b[38;5;66;03m# noqa: E501\u001b[39;00m\n\u001b[0;32m   3163\u001b[0m \u001b[38;5;28;01mfrom\u001b[39;00m \u001b[38;5;21;01mpandas\u001b[39;00m\u001b[38;5;21;01m.\u001b[39;00m\u001b[38;5;21;01mio\u001b[39;00m\u001b[38;5;21;01m.\u001b[39;00m\u001b[38;5;21;01mpickle\u001b[39;00m \u001b[38;5;28;01mimport\u001b[39;00m to_pickle\n\u001b[1;32m-> 3165\u001b[0m to_pickle(\n\u001b[0;32m   3166\u001b[0m     \u001b[38;5;28mself\u001b[39m,\n\u001b[0;32m   3167\u001b[0m     path,\n\u001b[0;32m   3168\u001b[0m     compression\u001b[38;5;241m=\u001b[39mcompression,\n\u001b[0;32m   3169\u001b[0m     protocol\u001b[38;5;241m=\u001b[39mprotocol,\n\u001b[0;32m   3170\u001b[0m     storage_options\u001b[38;5;241m=\u001b[39mstorage_options,\n\u001b[0;32m   3171\u001b[0m )\n",
      "File \u001b[1;32m~\\AppData\\Local\\anaconda3\\envs\\isttc\\Lib\\site-packages\\pandas\\io\\pickle.py:103\u001b[0m, in \u001b[0;36mto_pickle\u001b[1;34m(obj, filepath_or_buffer, compression, protocol, storage_options)\u001b[0m\n\u001b[0;32m    100\u001b[0m \u001b[38;5;28;01mif\u001b[39;00m protocol \u001b[38;5;241m<\u001b[39m \u001b[38;5;241m0\u001b[39m:\n\u001b[0;32m    101\u001b[0m     protocol \u001b[38;5;241m=\u001b[39m pickle\u001b[38;5;241m.\u001b[39mHIGHEST_PROTOCOL\n\u001b[1;32m--> 103\u001b[0m \u001b[38;5;28;01mwith\u001b[39;00m get_handle(\n\u001b[0;32m    104\u001b[0m     filepath_or_buffer,\n\u001b[0;32m    105\u001b[0m     \u001b[38;5;124m\"\u001b[39m\u001b[38;5;124mwb\u001b[39m\u001b[38;5;124m\"\u001b[39m,\n\u001b[0;32m    106\u001b[0m     compression\u001b[38;5;241m=\u001b[39mcompression,\n\u001b[0;32m    107\u001b[0m     is_text\u001b[38;5;241m=\u001b[39m\u001b[38;5;28;01mFalse\u001b[39;00m,\n\u001b[0;32m    108\u001b[0m     storage_options\u001b[38;5;241m=\u001b[39mstorage_options,\n\u001b[0;32m    109\u001b[0m ) \u001b[38;5;28;01mas\u001b[39;00m handles:\n\u001b[0;32m    110\u001b[0m     \u001b[38;5;66;03m# letting pickle write directly to the buffer is more memory-efficient\u001b[39;00m\n\u001b[0;32m    111\u001b[0m     pickle\u001b[38;5;241m.\u001b[39mdump(obj, handles\u001b[38;5;241m.\u001b[39mhandle, protocol\u001b[38;5;241m=\u001b[39mprotocol)\n",
      "File \u001b[1;32m~\\AppData\\Local\\anaconda3\\envs\\isttc\\Lib\\site-packages\\pandas\\io\\common.py:749\u001b[0m, in \u001b[0;36mget_handle\u001b[1;34m(path_or_buf, mode, encoding, compression, memory_map, is_text, errors, storage_options)\u001b[0m\n\u001b[0;32m    747\u001b[0m \u001b[38;5;66;03m# Only for write methods\u001b[39;00m\n\u001b[0;32m    748\u001b[0m \u001b[38;5;28;01mif\u001b[39;00m \u001b[38;5;124m\"\u001b[39m\u001b[38;5;124mr\u001b[39m\u001b[38;5;124m\"\u001b[39m \u001b[38;5;129;01mnot\u001b[39;00m \u001b[38;5;129;01min\u001b[39;00m mode \u001b[38;5;129;01mand\u001b[39;00m is_path:\n\u001b[1;32m--> 749\u001b[0m     check_parent_directory(\u001b[38;5;28mstr\u001b[39m(handle))\n\u001b[0;32m    751\u001b[0m \u001b[38;5;28;01mif\u001b[39;00m compression:\n\u001b[0;32m    752\u001b[0m     \u001b[38;5;28;01mif\u001b[39;00m compression \u001b[38;5;241m!=\u001b[39m \u001b[38;5;124m\"\u001b[39m\u001b[38;5;124mzstd\u001b[39m\u001b[38;5;124m\"\u001b[39m:\n\u001b[0;32m    753\u001b[0m         \u001b[38;5;66;03m# compression libraries do not like an explicit text-mode\u001b[39;00m\n",
      "File \u001b[1;32m~\\AppData\\Local\\anaconda3\\envs\\isttc\\Lib\\site-packages\\pandas\\io\\common.py:616\u001b[0m, in \u001b[0;36mcheck_parent_directory\u001b[1;34m(path)\u001b[0m\n\u001b[0;32m    614\u001b[0m parent \u001b[38;5;241m=\u001b[39m Path(path)\u001b[38;5;241m.\u001b[39mparent\n\u001b[0;32m    615\u001b[0m \u001b[38;5;28;01mif\u001b[39;00m \u001b[38;5;129;01mnot\u001b[39;00m parent\u001b[38;5;241m.\u001b[39mis_dir():\n\u001b[1;32m--> 616\u001b[0m     \u001b[38;5;28;01mraise\u001b[39;00m \u001b[38;5;167;01mOSError\u001b[39;00m(\u001b[38;5;124mrf\u001b[39m\u001b[38;5;124m\"\u001b[39m\u001b[38;5;124mCannot save file into a non-existent directory: \u001b[39m\u001b[38;5;124m'\u001b[39m\u001b[38;5;132;01m{\u001b[39;00mparent\u001b[38;5;132;01m}\u001b[39;00m\u001b[38;5;124m'\u001b[39m\u001b[38;5;124m\"\u001b[39m)\n",
      "\u001b[1;31mOSError\u001b[0m: Cannot save file into a non-existent directory: 'E:\\work\\q_backup_06_03_2025\\projects\\isttc\\results\\allen_mice\\dataset\\cut_30min\\cut_30min\\non_binned\\acf'"
     ]
    }
   ],
   "source": [
    "if calc_isttc_full:\n",
    "    acf_isttc_full_l = []\n",
    "    unit_metadata_l = []  # To store values 0-7\n",
    "    \n",
    "    for unit_idx, unit in enumerate(sua_list):\n",
    "        if unit_idx % 100 == 0:\n",
    "            print(f'Processing unit {unit_idx}')\n",
    "        spike_train_int = np.asarray([int(spike) for spike in unit[8:]])\n",
    "        spike_train_acf = acf_sttc(spike_train_int, n_lags, bin_size, sttc_dt, signal_len, verbose_=False)\n",
    "        acf_isttc_full_l.append(spike_train_acf)\n",
    "        unit_metadata_l.append(unit[:8])\n",
    "    \n",
    "    acf_isttc_full_df = pd.DataFrame(np.array(acf_isttc_full_l), columns=acf_cols)\n",
    "    column_names = [\"specimen_id\", \"session_id\", \"unit_id\", \"ecephys_structure_acronym\", 'firing_rate', 'amplitude_cutoff', 'isi_violations', 'presence_ratio']\n",
    "    metadata_df = pd.DataFrame(unit_metadata_l, columns=column_names)\n",
    "    \n",
    "    acf_isttc_full_df = pd.concat([metadata_df, acf_isttc_full_df], axis=1)\n",
    "    \n",
    "    print('NaNs in acf {}'.format(acf_isttc_full_df.isnull().any().any()))\n",
    "    acf_isttc_full_df.head(3)\n",
    "\n",
    "    acf_isttc_full_df.to_pickle(dataset_folder + 'cut_30min\\\\non_binned\\\\acf\\\\acf_isttc_full_50ms_20lags_df_25dt.pkl')"
   ]
  },
  {
   "cell_type": "code",
   "execution_count": 8,
   "id": "8a404964-c8ac-4810-8c15-d1e535a6df2c",
   "metadata": {},
   "outputs": [],
   "source": [
    "acf_isttc_full_df.to_pickle(dataset_folder + 'non_binned\\\\acf\\\\acf_isttc_full_50ms_20lags_df_25dt.pkl')"
   ]
  },
  {
   "cell_type": "markdown",
   "id": "fb8da868-adc8-4abe-80a1-8bf2c714d320",
   "metadata": {},
   "source": [
    "### Plot ACF"
   ]
  },
  {
   "cell_type": "code",
   "execution_count": null,
   "id": "3345d634-87c5-4bcc-a54a-64c2d429396e",
   "metadata": {},
   "outputs": [],
   "source": [
    "color_acf_full = '#4783B4'\n",
    "color_pearson_trail_avg = 'slategray' \n",
    "color_sttc_trail_avg =  '#E97451' #'chocolate' #'#D6A27A' # 'steelblue'\n",
    "color_sttc_trail_concat = '#B94E48' # '#9E5345' #'sandybrown'"
   ]
  },
  {
   "cell_type": "code",
   "execution_count": null,
   "id": "248b7ee2-22cb-4735-a7ca-2daa84ec9fe7",
   "metadata": {},
   "outputs": [],
   "source": [
    "acf_full_df.head(2)"
   ]
  },
  {
   "cell_type": "code",
   "execution_count": null,
   "id": "68eb6869-6546-48d8-ab87-87a0c8e89f57",
   "metadata": {},
   "outputs": [],
   "source": [
    "acf_full_df_area = acf_full_df.query('ecephys_structure_acronym == \"VISam\"').copy()\n",
    "pfdl_acf_2d = acf_full_df_area[acf_cols].values"
   ]
  },
  {
   "cell_type": "code",
   "execution_count": null,
   "id": "3be891c3-16ff-4cb0-8421-bf956377d40e",
   "metadata": {},
   "outputs": [],
   "source": [
    "fig, axes = plt.subplots(8,5, figsize=(10,20), sharey=True)\n",
    "\n",
    "t = np.linspace(1, n_lags, n_lags).astype(int)\n",
    "t_labels = np.linspace(50, 1000, n_lags).astype(int)\n",
    "print(t)\n",
    "print(t_labels)\n",
    "\n",
    "# pfdl_label = f\"Pearson trial avg: {int(population_level_dict_2d['pearsonr_trial_avg_pfdl']['tau_ms'])} ms, CI [{int(\n",
    "#     population_level_dict_2d['pearsonr_trial_avg_pfdl']['tau_lower_ms'])},{int(\n",
    "#     population_level_dict_2d['pearsonr_trial_avg_pfdl']['tau_upper_ms'])}] \\n (n={len(\n",
    "#     pfdl_acf_average_trial_pearsonr_subset_df)}, R-squared={np.round(population_level_dict_2d['pearsonr_trial_avg_pfdl']['fit_r_squared'], 3)})\"\n",
    "# axes[0,0].plot(t, func_single_exp_monkey(t, *population_level_dict_2d['pearsonr_trial_avg_pfdl']['popt']), color=color_pearson_trail_avg, label=pfdl_label)\n",
    "for ii in range(pfdl_acf_2d.shape[0]):\n",
    "    axes[0,0].plot(t, pfdl_acf_2d[ii, 1:], lw=0.5, color=color_acf_full, alpha=0.05)\n",
    "#axes[0,0].set_title('PFdl, ' + pfdl_label, y=1.05)\n",
    "\n",
    "for ax in axes.flat: \n",
    "    ax.plot(t, np.zeros(len(t)), lw=0.5, c='k')\n",
    "    #ax.set_xticks(t)\n",
    "    #ax.set_xticklabels(t_labels, rotation=90)\n",
    "    #ax.set_xlabel('Time lag (ms)')\n",
    "    #ax.set_ylabel('Autocorrelation (a.u.)')  \n",
    "\n",
    "sns.despine()"
   ]
  }
 ],
 "metadata": {
  "kernelspec": {
   "display_name": "Python 3 (ipykernel)",
   "language": "python",
   "name": "python3"
  },
  "language_info": {
   "codemirror_mode": {
    "name": "ipython",
    "version": 3
   },
   "file_extension": ".py",
   "mimetype": "text/x-python",
   "name": "python",
   "nbconvert_exporter": "python",
   "pygments_lexer": "ipython3",
   "version": "3.12.9"
  }
 },
 "nbformat": 4,
 "nbformat_minor": 5
}
