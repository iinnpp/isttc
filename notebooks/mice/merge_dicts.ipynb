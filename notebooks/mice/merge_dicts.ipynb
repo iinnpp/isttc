{
 "cells": [
  {
   "cell_type": "markdown",
   "id": "6c10e356-f968-4831-a297-faee833985ae",
   "metadata": {},
   "source": [
    "I calculate stuff in chunks, temp notebook to merge."
   ]
  },
  {
   "cell_type": "code",
   "execution_count": 1,
   "id": "7aadb1ea-8815-4e4f-a39c-3e28faeaa10f",
   "metadata": {},
   "outputs": [],
   "source": [
    "#import numpy as np\n",
    "#import pandas as pd\n",
    "import pickle\n",
    "\n",
    "# import from scripts\n",
    "import os\n",
    "current_wd = os.getcwd()\n",
    "os.chdir(os.path.abspath(\"..\\\\..\\\\..\\\\isttc\\\\scripts\"))\n",
    "from cfg_global import project_folder_path\n",
    "os.chdir(current_wd)"
   ]
  },
  {
   "cell_type": "code",
   "execution_count": 2,
   "id": "2149a7be-03ee-4aff-b312-bf5d5c2f17cf",
   "metadata": {},
   "outputs": [],
   "source": [
    "dataset_folder = project_folder_path + 'results\\\\allen_mice\\\\dataset\\\\cut_30min\\\\'"
   ]
  },
  {
   "cell_type": "markdown",
   "id": "2640f68b-311f-49af-8f77-796323ecd406",
   "metadata": {},
   "source": [
    "#### Personr"
   ]
  },
  {
   "cell_type": "code",
   "execution_count": null,
   "id": "22902bbe-249c-43b8-a28e-773159b08bc1",
   "metadata": {},
   "outputs": [],
   "source": [
    "with open(dataset_folder + 'binned\\\\acf\\\\pearsonr_trial_avg_50ms_20lags_dict_0_2000.pkl', \"rb\") as f:\n",
    "    pearsonr_trial_avg_dict_1 = pickle.load(f)"
   ]
  },
  {
   "cell_type": "code",
   "execution_count": null,
   "id": "7238279f-0eaf-490a-9f66-ce3611e448ec",
   "metadata": {},
   "outputs": [],
   "source": [
    "with open(dataset_folder + 'binned\\\\acf\\\\pearsonr_trial_avg_50ms_20lags_dict_test.pkl', \"rb\") as f:\n",
    "    pearsonr_trial_avg_dict_2 = pickle.load(f)"
   ]
  },
  {
   "cell_type": "code",
   "execution_count": null,
   "id": "905bab83-9d82-41ef-ac0e-6a6c1ecdaa81",
   "metadata": {},
   "outputs": [],
   "source": [
    "print(f'len pearsonr_trial_avg_dict_1 {len(pearsonr_trial_avg_dict_1)}')\n",
    "print(f'len pearsonr_trial_avg_dict_2 {len(pearsonr_trial_avg_dict_2)}')"
   ]
  },
  {
   "cell_type": "code",
   "execution_count": null,
   "id": "07892860-d4b9-49d2-9bda-2b9257fc88f6",
   "metadata": {},
   "outputs": [],
   "source": [
    "pearsonr_trial_avg_dict_combined = {**pearsonr_trial_avg_dict_1, **pearsonr_trial_avg_dict_2}\n",
    "print(f'len pearsonr_trial_avg_dict_combined {len(pearsonr_trial_avg_dict_combined)}')"
   ]
  },
  {
   "cell_type": "code",
   "execution_count": null,
   "id": "34dcf28f-fcd7-466a-aade-87fc01fbc95b",
   "metadata": {},
   "outputs": [],
   "source": [
    "with open(dataset_folder + 'binned\\\\acf\\\\pearsonr_trial_avg_50ms_20lags_dict.pkl', \"wb\") as f:\n",
    "    pickle.dump(pearsonr_trial_avg_dict_combined, f)"
   ]
  },
  {
   "cell_type": "markdown",
   "id": "5bbcfc35-c90e-4996-914a-10a9767af012",
   "metadata": {},
   "source": [
    "#### STTC trial avg"
   ]
  },
  {
   "cell_type": "code",
   "execution_count": null,
   "id": "cd4a999b-58e8-4359-bb01-376046006445",
   "metadata": {},
   "outputs": [],
   "source": [
    "with open(dataset_folder + 'non_binned\\\\acf\\\\sttc_trial_avg_50ms_20lags_dict_0_1000.pkl', \"rb\") as f:\n",
    "    sttc_trial_avg_dict_1 = pickle.load(f)\n",
    "\n",
    "with open(dataset_folder + 'non_binned\\\\acf\\\\sttc_trial_avg_50ms_20lags_dict_test2.pkl', \"rb\") as f:\n",
    "    sttc_trial_avg_dict_2 = pickle.load(f)"
   ]
  },
  {
   "cell_type": "code",
   "execution_count": null,
   "id": "b5cf7f2c-2bb2-4805-96b4-643db0cb8531",
   "metadata": {},
   "outputs": [],
   "source": [
    "print(f'len sttc_trial_avg_dict_1 {len(sttc_trial_avg_dict_1)}')\n",
    "print(f'len sttc_trial_avg_dict_2 {len(sttc_trial_avg_dict_2)}')"
   ]
  },
  {
   "cell_type": "code",
   "execution_count": null,
   "id": "59e8e787-64f2-4412-a199-3648115dfdf6",
   "metadata": {},
   "outputs": [],
   "source": [
    "sttc_trial_avg_dict_combined = {**sttc_trial_avg_dict_1, **sttc_trial_avg_dict_2}\n",
    "print(f'len sttc_trial_avg_dict_combined {len(sttc_trial_avg_dict_combined)}')"
   ]
  },
  {
   "cell_type": "code",
   "execution_count": null,
   "id": "7bc2ad55-604e-41f9-9f6b-6eca317ca0f2",
   "metadata": {},
   "outputs": [],
   "source": [
    "with open(dataset_folder + 'non_binned\\\\acf\\\\sttc_trial_avg_50ms_20lags_dict.pkl', \"wb\") as f:\n",
    "    pickle.dump(sttc_trial_avg_dict_combined, f)"
   ]
  },
  {
   "cell_type": "markdown",
   "id": "0cf940c4-5539-45aa-bf83-4bad79650b16",
   "metadata": {},
   "source": [
    "#### STTC trial concat"
   ]
  },
  {
   "cell_type": "code",
   "execution_count": 3,
   "id": "0364001a-44af-4e70-8286-458063b2a481",
   "metadata": {},
   "outputs": [],
   "source": [
    "with open(dataset_folder + 'non_binned\\\\acf\\\\sttc_trial_concat_50ms_20lags_dict_dt25_0_1000.pkl', \"rb\") as f:\n",
    "    sttc_trial_concat_dict_1 = pickle.load(f)\n",
    "\n",
    "with open(dataset_folder + 'non_binned\\\\acf\\\\sttc_trial_concat_50ms_20lags_dict_dt25_1000_end.pkl', \"rb\") as f:\n",
    "    sttc_trial_concat_dict_2 = pickle.load(f)"
   ]
  },
  {
   "cell_type": "code",
   "execution_count": 4,
   "id": "cb0943f0-26dc-452f-be34-c8f54ab0db4c",
   "metadata": {},
   "outputs": [
    {
     "name": "stdout",
     "output_type": "stream",
     "text": [
      "len sttc_trial_concat_dict_1 1000\n",
      "len sttc_trial_concat_dict_2 4775\n"
     ]
    }
   ],
   "source": [
    "print(f'len sttc_trial_concat_dict_1 {len(sttc_trial_concat_dict_1)}')\n",
    "print(f'len sttc_trial_concat_dict_2 {len(sttc_trial_concat_dict_2)}')"
   ]
  },
  {
   "cell_type": "code",
   "execution_count": 5,
   "id": "4a985a93-aa4a-4d6d-8e71-fa670aff982f",
   "metadata": {},
   "outputs": [
    {
     "name": "stdout",
     "output_type": "stream",
     "text": [
      "len sttc_trial_concat_dict_combined 5775\n"
     ]
    }
   ],
   "source": [
    "sttc_trial_concat_dict_combined = {**sttc_trial_concat_dict_1, **sttc_trial_concat_dict_2}\n",
    "print(f'len sttc_trial_concat_dict_combined {len(sttc_trial_concat_dict_combined)}')"
   ]
  },
  {
   "cell_type": "code",
   "execution_count": 6,
   "id": "53868ec9-ca7b-4ef8-924f-4307a8525ce8",
   "metadata": {},
   "outputs": [],
   "source": [
    "with open(dataset_folder + 'non_binned\\\\acf\\\\sttc_trial_concat_50ms_20lags_dict_25dt.pkl', \"wb\") as f:\n",
    "    pickle.dump(sttc_trial_concat_dict_combined, f)"
   ]
  }
 ],
 "metadata": {
  "kernelspec": {
   "display_name": "Python 3 (ipykernel)",
   "language": "python",
   "name": "python3"
  },
  "language_info": {
   "codemirror_mode": {
    "name": "ipython",
    "version": 3
   },
   "file_extension": ".py",
   "mimetype": "text/x-python",
   "name": "python",
   "nbconvert_exporter": "python",
   "pygments_lexer": "ipython3",
   "version": "3.12.9"
  }
 },
 "nbformat": 4,
 "nbformat_minor": 5
}
