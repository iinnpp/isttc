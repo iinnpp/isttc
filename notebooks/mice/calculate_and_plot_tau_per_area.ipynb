{
 "cells": [
  {
   "cell_type": "markdown",
   "id": "2e2320d4-37db-4a9f-ae22-78ad912e968c",
   "metadata": {},
   "source": [
    "Calculate taus:\n",
    "\n",
    "full signal:\n",
    "1. ACF full\n",
    "2. iSTTC full\n",
    "   \n",
    "trial average style:\n",
    "1. Pearsonr trial avg\n",
    "2. iSTTC trial avg\n",
    "3. iSTTC trial concat"
   ]
  },
  {
   "cell_type": "code",
   "execution_count": 13,
   "id": "4a5c618e-ef3a-4d40-959f-09191178be54",
   "metadata": {},
   "outputs": [],
   "source": [
    "import numpy as np\n",
    "import pandas as pd\n",
    "import pickle\n",
    "import matplotlib.pyplot as plt\n",
    "import seaborn as sns\n",
    "\n",
    "# import from scripts\n",
    "import os\n",
    "current_wd = os.getcwd()\n",
    "os.chdir(os.path.abspath(\"..\\\\..\\\\..\\\\isttc\\\\scripts\"))\n",
    "#os.chdir(os.path.abspath(\"C:\\\\Users\\\\ipoch\\\\Documents\\\\repos\\\\isttc\\\\scripts\"))\n",
    "from calculate_tau import fit_single_exp, fit_single_exp_2d, func_single_exp, func_single_exp_monkey\n",
    "from cfg_global import project_folder_path\n",
    "os.chdir(current_wd)"
   ]
  },
  {
   "cell_type": "code",
   "execution_count": 154,
   "id": "721a31e0-045a-47d5-b095-76ba184ff466",
   "metadata": {},
   "outputs": [],
   "source": [
    "dataset_folder = project_folder_path + 'results\\\\allen_mice\\\\dataset\\\\cut_30min\\\\'\n",
    "fig_folder = project_folder_path + 'results\\\\allen_mice\\\\fig_draft_paper\\\\'"
   ]
  },
  {
   "cell_type": "markdown",
   "id": "497bb72c-279f-43ef-b73b-3ce78a697037",
   "metadata": {},
   "source": [
    "### Load data"
   ]
  },
  {
   "cell_type": "code",
   "execution_count": 40,
   "id": "a15b90fe-d962-488f-b21e-bc9259c1404d",
   "metadata": {},
   "outputs": [
    {
     "data": {
      "text/html": [
       "<div>\n",
       "<style scoped>\n",
       "    .dataframe tbody tr th:only-of-type {\n",
       "        vertical-align: middle;\n",
       "    }\n",
       "\n",
       "    .dataframe tbody tr th {\n",
       "        vertical-align: top;\n",
       "    }\n",
       "\n",
       "    .dataframe thead th {\n",
       "        text-align: right;\n",
       "    }\n",
       "</style>\n",
       "<table border=\"1\" class=\"dataframe\">\n",
       "  <thead>\n",
       "    <tr style=\"text-align: right;\">\n",
       "      <th></th>\n",
       "      <th>unit_id</th>\n",
       "      <th>ecephys_structure_acronym</th>\n",
       "    </tr>\n",
       "  </thead>\n",
       "  <tbody>\n",
       "    <tr>\n",
       "      <th>66</th>\n",
       "      <td>950913540</td>\n",
       "      <td>VISam</td>\n",
       "    </tr>\n",
       "    <tr>\n",
       "      <th>67</th>\n",
       "      <td>950915005</td>\n",
       "      <td>VISam</td>\n",
       "    </tr>\n",
       "  </tbody>\n",
       "</table>\n",
       "</div>"
      ],
      "text/plain": [
       "      unit_id ecephys_structure_acronym\n",
       "66  950913540                     VISam\n",
       "67  950915005                     VISam"
      ]
     },
     "execution_count": 40,
     "metadata": {},
     "output_type": "execute_result"
    }
   ],
   "source": [
    "units_info_df = pd.read_pickle(dataset_folder + 'sua_list_constrained_units_df.pkl')\n",
    "units_info_df_subset = units_info_df[['unit_id', 'ecephys_structure_acronym']].copy()\n",
    "units_info_df_subset.head(2)"
   ]
  },
  {
   "cell_type": "code",
   "execution_count": 19,
   "id": "f71ba6c3-7895-4508-be06-a62046b7d137",
   "metadata": {},
   "outputs": [],
   "source": [
    "acf_full_df_file = dataset_folder + 'binned\\\\acf\\\\acf_full_50ms_20lags_df.pkl'\n",
    "acf_full_df = pd.read_pickle(acf_full_df_file)\n",
    "\n",
    "acf_isttc_full_df_file = dataset_folder + 'non_binned\\\\acf\\\\acf_isttc_full_50ms_20lags_df.pkl'\n",
    "acf_isttc_full_df = pd.read_pickle(acf_isttc_full_df_file)"
   ]
  },
  {
   "cell_type": "code",
   "execution_count": 191,
   "id": "6af7bcfa-bca7-4c21-beb0-eb3b2b9ffc88",
   "metadata": {},
   "outputs": [
    {
     "name": "stdout",
     "output_type": "stream",
     "text": [
      "N signals in pearsonr_trial_avg_tau_dict 950\n"
     ]
    },
    {
     "name": "stderr",
     "output_type": "stream",
     "text": [
      "C:\\Users\\ipochino\\AppData\\Local\\Temp\\ipykernel_8104\\1823661811.py:11: RuntimeWarning: Mean of empty slice\n",
      "  pearsonr_trial_avg_acf_l.append(np.nanmean(v['acf'], axis=0))\n"
     ]
    }
   ],
   "source": [
    "with open(dataset_folder + 'binned\\\\acf\\\\pearsonr_trial_avg_50ms_20lags_50_1000_dict.pkl', \"rb\") as f:\n",
    "    pearsonr_trial_avg_dict = pickle.load(f)\n",
    "print(f'N signals in pearsonr_trial_avg_tau_dict {len(pearsonr_trial_avg_dict)}')\n",
    "\n",
    "# for trial based get acf per unit (in dict acf per trials are stored)\n",
    "unit_id_l = []\n",
    "pearsonr_trial_avg_acf_l = []\n",
    "for k,v in pearsonr_trial_avg_dict.items():\n",
    "    #print(f'Unit {k}...')\n",
    "    unit_id_l.append(k)\n",
    "    pearsonr_trial_avg_acf_l.append(np.nanmean(v['acf'], axis=0))\n",
    "\n",
    "pearsonr_trial_avg_acf_df = pd.DataFrame(np.asarray(pearsonr_trial_avg_acf_l), columns=acf_cols[:-1])\n",
    "pearsonr_trial_avg_acf_df.insert(0, 'unit_id', unit_id_l)\n",
    "pearsonr_trial_avg_acf_df = pd.merge(pearsonr_trial_avg_acf_df, units_info_df_subset, on='unit_id', how='left')"
   ]
  },
  {
   "cell_type": "code",
   "execution_count": 49,
   "id": "facb5b8d-1d2f-47fb-b0ae-997913013352",
   "metadata": {},
   "outputs": [
    {
     "name": "stdout",
     "output_type": "stream",
     "text": [
      "N signals in sttc_trial_avg_dict 50\n"
     ]
    }
   ],
   "source": [
    "with open(dataset_folder + 'non_binned\\\\acf\\\\sttc_trial_avg_50ms_20lags_0_50_dict.pkl', \"rb\") as f:\n",
    "    sttc_trial_avg_dict = pickle.load(f)\n",
    "print(f'N signals in sttc_trial_avg_dict {len(sttc_trial_avg_dict)}')\n",
    "\n",
    "# for trial based get acf per unit (in dict acf per trials are stored)\n",
    "unit_id_l = []\n",
    "sttc_trial_avg_acf_l = []\n",
    "for k,v in sttc_trial_avg_dict.items():\n",
    "    #print(f'Unit {k}...')\n",
    "    unit_id_l.append(k)\n",
    "    sttc_trial_avg_acf_l.append(np.nanmean(v['acf'], axis=0))\n",
    "\n",
    "sttc_trial_avg_acf_df = pd.DataFrame(np.asarray(sttc_trial_avg_acf_l), columns=acf_cols[:-1])\n",
    "sttc_trial_avg_acf_df.insert(0, 'unit_id', unit_id_l)\n",
    "sttc_trial_avg_acf_df = pd.merge(sttc_trial_avg_acf_df, units_info_df_subset, on='unit_id', how='left')"
   ]
  },
  {
   "cell_type": "code",
   "execution_count": 159,
   "id": "89e923b4-0550-4c89-8e8f-0dd99a7dd591",
   "metadata": {},
   "outputs": [
    {
     "name": "stdout",
     "output_type": "stream",
     "text": [
      "N signals in sttc_trial_avg_dict 50\n"
     ]
    }
   ],
   "source": [
    "with open(dataset_folder + 'non_binned\\\\acf\\\\sttc_trial_concat_50ms_20lags_0_50_dict.pkl', \"rb\") as f:\n",
    "    sttc_trial_concat_dict = pickle.load(f)\n",
    "print(f'N signals in sttc_trial_avg_dict {len(sttc_trial_concat_dict)}')\n",
    "\n",
    "# for trial based get acf per unit (in dict acf per trials are stored)\n",
    "unit_id_l = []\n",
    "sttc_trial_concat_acf_l = []\n",
    "for k,v in sttc_trial_concat_dict.items():\n",
    "    #print(f'Unit {k}...')\n",
    "    unit_id_l.append(k)\n",
    "    sttc_trial_concat_acf_l.append(np.nanmean(v['acf'], axis=0))\n",
    "\n",
    "sttc_trial_concat_acf_df = pd.DataFrame(np.asarray(sttc_trial_concat_acf_l), columns=acf_cols)\n",
    "sttc_trial_concat_acf_df.insert(0, 'unit_id', unit_id_l)\n",
    "sttc_trial_concat_acf_df = pd.merge(sttc_trial_concat_acf_df, units_info_df_subset, on='unit_id', how='left')"
   ]
  },
  {
   "cell_type": "code",
   "execution_count": 160,
   "id": "22f57a5a-800f-4ec0-9850-da0d46999405",
   "metadata": {},
   "outputs": [
    {
     "data": {
      "text/html": [
       "<div>\n",
       "<style scoped>\n",
       "    .dataframe tbody tr th:only-of-type {\n",
       "        vertical-align: middle;\n",
       "    }\n",
       "\n",
       "    .dataframe tbody tr th {\n",
       "        vertical-align: top;\n",
       "    }\n",
       "\n",
       "    .dataframe thead th {\n",
       "        text-align: right;\n",
       "    }\n",
       "</style>\n",
       "<table border=\"1\" class=\"dataframe\">\n",
       "  <thead>\n",
       "    <tr style=\"text-align: right;\">\n",
       "      <th></th>\n",
       "      <th>unit_id</th>\n",
       "      <th>acf_0</th>\n",
       "      <th>acf_1</th>\n",
       "      <th>acf_2</th>\n",
       "      <th>acf_3</th>\n",
       "      <th>acf_4</th>\n",
       "      <th>acf_5</th>\n",
       "      <th>acf_6</th>\n",
       "      <th>acf_7</th>\n",
       "      <th>acf_8</th>\n",
       "      <th>...</th>\n",
       "      <th>acf_12</th>\n",
       "      <th>acf_13</th>\n",
       "      <th>acf_14</th>\n",
       "      <th>acf_15</th>\n",
       "      <th>acf_16</th>\n",
       "      <th>acf_17</th>\n",
       "      <th>acf_18</th>\n",
       "      <th>acf_19</th>\n",
       "      <th>acf_20</th>\n",
       "      <th>ecephys_structure_acronym</th>\n",
       "    </tr>\n",
       "  </thead>\n",
       "  <tbody>\n",
       "    <tr>\n",
       "      <th>0</th>\n",
       "      <td>950913540</td>\n",
       "      <td>1.0</td>\n",
       "      <td>0.998665</td>\n",
       "      <td>0.996917</td>\n",
       "      <td>0.995803</td>\n",
       "      <td>0.994281</td>\n",
       "      <td>0.992096</td>\n",
       "      <td>0.990803</td>\n",
       "      <td>0.988717</td>\n",
       "      <td>0.986839</td>\n",
       "      <td>...</td>\n",
       "      <td>0.979400</td>\n",
       "      <td>0.977315</td>\n",
       "      <td>0.975207</td>\n",
       "      <td>0.973369</td>\n",
       "      <td>0.971089</td>\n",
       "      <td>0.969605</td>\n",
       "      <td>0.968396</td>\n",
       "      <td>0.966964</td>\n",
       "      <td>0.965180</td>\n",
       "      <td>VISam</td>\n",
       "    </tr>\n",
       "    <tr>\n",
       "      <th>1</th>\n",
       "      <td>950915005</td>\n",
       "      <td>1.0</td>\n",
       "      <td>0.997415</td>\n",
       "      <td>0.994936</td>\n",
       "      <td>0.992947</td>\n",
       "      <td>0.990675</td>\n",
       "      <td>0.987908</td>\n",
       "      <td>0.985688</td>\n",
       "      <td>0.983592</td>\n",
       "      <td>0.981369</td>\n",
       "      <td>...</td>\n",
       "      <td>0.972371</td>\n",
       "      <td>0.970357</td>\n",
       "      <td>0.969074</td>\n",
       "      <td>0.966819</td>\n",
       "      <td>0.965842</td>\n",
       "      <td>0.963406</td>\n",
       "      <td>0.961399</td>\n",
       "      <td>0.959809</td>\n",
       "      <td>0.958254</td>\n",
       "      <td>VISam</td>\n",
       "    </tr>\n",
       "    <tr>\n",
       "      <th>2</th>\n",
       "      <td>950915018</td>\n",
       "      <td>1.0</td>\n",
       "      <td>0.996561</td>\n",
       "      <td>0.993878</td>\n",
       "      <td>0.991810</td>\n",
       "      <td>0.989700</td>\n",
       "      <td>0.987752</td>\n",
       "      <td>0.986384</td>\n",
       "      <td>0.983860</td>\n",
       "      <td>0.980522</td>\n",
       "      <td>...</td>\n",
       "      <td>0.969455</td>\n",
       "      <td>0.967041</td>\n",
       "      <td>0.964602</td>\n",
       "      <td>0.962469</td>\n",
       "      <td>0.960466</td>\n",
       "      <td>0.958006</td>\n",
       "      <td>0.956078</td>\n",
       "      <td>0.953571</td>\n",
       "      <td>0.951678</td>\n",
       "      <td>VISam</td>\n",
       "    </tr>\n",
       "    <tr>\n",
       "      <th>3</th>\n",
       "      <td>950913798</td>\n",
       "      <td>1.0</td>\n",
       "      <td>0.998200</td>\n",
       "      <td>0.996992</td>\n",
       "      <td>0.994446</td>\n",
       "      <td>0.992917</td>\n",
       "      <td>0.990828</td>\n",
       "      <td>0.989782</td>\n",
       "      <td>0.987699</td>\n",
       "      <td>0.986133</td>\n",
       "      <td>...</td>\n",
       "      <td>0.978122</td>\n",
       "      <td>0.976310</td>\n",
       "      <td>0.973609</td>\n",
       "      <td>0.972027</td>\n",
       "      <td>0.969936</td>\n",
       "      <td>0.967793</td>\n",
       "      <td>0.965619</td>\n",
       "      <td>0.963968</td>\n",
       "      <td>0.961934</td>\n",
       "      <td>VISam</td>\n",
       "    </tr>\n",
       "    <tr>\n",
       "      <th>4</th>\n",
       "      <td>950915049</td>\n",
       "      <td>1.0</td>\n",
       "      <td>0.997872</td>\n",
       "      <td>0.996375</td>\n",
       "      <td>0.994553</td>\n",
       "      <td>0.992918</td>\n",
       "      <td>0.991507</td>\n",
       "      <td>0.990156</td>\n",
       "      <td>0.988376</td>\n",
       "      <td>0.985931</td>\n",
       "      <td>...</td>\n",
       "      <td>0.979048</td>\n",
       "      <td>0.977601</td>\n",
       "      <td>0.977225</td>\n",
       "      <td>0.975516</td>\n",
       "      <td>0.973645</td>\n",
       "      <td>0.971790</td>\n",
       "      <td>0.968834</td>\n",
       "      <td>0.967189</td>\n",
       "      <td>0.964985</td>\n",
       "      <td>VISam</td>\n",
       "    </tr>\n",
       "  </tbody>\n",
       "</table>\n",
       "<p>5 rows × 23 columns</p>\n",
       "</div>"
      ],
      "text/plain": [
       "     unit_id  acf_0     acf_1     acf_2     acf_3     acf_4     acf_5  \\\n",
       "0  950913540    1.0  0.998665  0.996917  0.995803  0.994281  0.992096   \n",
       "1  950915005    1.0  0.997415  0.994936  0.992947  0.990675  0.987908   \n",
       "2  950915018    1.0  0.996561  0.993878  0.991810  0.989700  0.987752   \n",
       "3  950913798    1.0  0.998200  0.996992  0.994446  0.992917  0.990828   \n",
       "4  950915049    1.0  0.997872  0.996375  0.994553  0.992918  0.991507   \n",
       "\n",
       "      acf_6     acf_7     acf_8  ...    acf_12    acf_13    acf_14    acf_15  \\\n",
       "0  0.990803  0.988717  0.986839  ...  0.979400  0.977315  0.975207  0.973369   \n",
       "1  0.985688  0.983592  0.981369  ...  0.972371  0.970357  0.969074  0.966819   \n",
       "2  0.986384  0.983860  0.980522  ...  0.969455  0.967041  0.964602  0.962469   \n",
       "3  0.989782  0.987699  0.986133  ...  0.978122  0.976310  0.973609  0.972027   \n",
       "4  0.990156  0.988376  0.985931  ...  0.979048  0.977601  0.977225  0.975516   \n",
       "\n",
       "     acf_16    acf_17    acf_18    acf_19    acf_20  ecephys_structure_acronym  \n",
       "0  0.971089  0.969605  0.968396  0.966964  0.965180                      VISam  \n",
       "1  0.965842  0.963406  0.961399  0.959809  0.958254                      VISam  \n",
       "2  0.960466  0.958006  0.956078  0.953571  0.951678                      VISam  \n",
       "3  0.969936  0.967793  0.965619  0.963968  0.961934                      VISam  \n",
       "4  0.973645  0.971790  0.968834  0.967189  0.964985                      VISam  \n",
       "\n",
       "[5 rows x 23 columns]"
      ]
     },
     "execution_count": 160,
     "metadata": {},
     "output_type": "execute_result"
    }
   ],
   "source": [
    "sttc_trial_concat_acf_df.head()"
   ]
  },
  {
   "cell_type": "code",
   "execution_count": 28,
   "id": "788c1d56-63cb-4cdf-a2d1-a088107e2e48",
   "metadata": {},
   "outputs": [
    {
     "name": "stdout",
     "output_type": "stream",
     "text": [
      "acf_cols ['acf_0', 'acf_1', 'acf_2', 'acf_3', 'acf_4', 'acf_5', 'acf_6', 'acf_7', 'acf_8', 'acf_9', 'acf_10', 'acf_11', 'acf_12', 'acf_13', 'acf_14', 'acf_15', 'acf_16', 'acf_17', 'acf_18', 'acf_19', 'acf_20']\n"
     ]
    }
   ],
   "source": [
    "n_lags = 20\n",
    "acf_cols = ['acf_' + str(i) for i in range(n_lags+1)]\n",
    "print('acf_cols {}'.format(acf_cols))"
   ]
  },
  {
   "cell_type": "markdown",
   "id": "625c1a27-83c7-486e-9068-c74c489b6b8b",
   "metadata": {},
   "source": [
    "### Calculate taus\n",
    "\n",
    "Get all ACF for an area and then fit exponential decay to all points (no mean area ACF)"
   ]
  },
  {
   "cell_type": "markdown",
   "id": "b49a508d-5cb6-4e40-a3fa-a55ef38cce4c",
   "metadata": {},
   "source": [
    "#### Per area"
   ]
  },
  {
   "cell_type": "code",
   "execution_count": 43,
   "id": "8d4aab67-1a7a-49fd-8409-2d8b183c45da",
   "metadata": {},
   "outputs": [],
   "source": [
    "def calc_population_tau_2d(acf_df_, acf_cols_, start_idx_, func_to_fit_):\n",
    "    acf_2d = acf_df_[acf_cols_].values\n",
    "    fit_popt, fit_pcov, tau, tau_ci, fit_r_squared, explained_var, log_message = fit_single_exp_2d(acf_2d, start_idx_, func_to_fit_)\n",
    "    print(f'tau {tau*50}, 95% CI {tau_ci[0]*50},{tau_ci[1]*50}')\n",
    "    return {'tau_ms':tau*50,\n",
    "            'tau_lower_ms':tau_ci[0]*50, \n",
    "            'tau_upper_ms':tau_ci[1]*50, \n",
    "            'fit_r_squared': fit_r_squared, \n",
    "            'explained_var': explained_var, \n",
    "            'popt': fit_popt}"
   ]
  },
  {
   "cell_type": "code",
   "execution_count": 163,
   "id": "b9a43eba-cf2c-4f40-9ed8-a98a9c57daa2",
   "metadata": {},
   "outputs": [
    {
     "name": "stdout",
     "output_type": "stream",
     "text": [
      "brain_areas ['VISam' 'LP' 'VISp' 'VISl' 'LGd' 'VISal' 'VISrl' 'VISpm']\n"
     ]
    }
   ],
   "source": [
    "brain_areas = acf_full_df['ecephys_structure_acronym'].unique()\n",
    "print(f'brain_areas {brain_areas}')"
   ]
  },
  {
   "cell_type": "code",
   "execution_count": 164,
   "id": "fb8f51d3-da87-43d0-9d13-918fd17186c9",
   "metadata": {},
   "outputs": [
    {
     "name": "stdout",
     "output_type": "stream",
     "text": [
      "processing area VISam\n",
      "N units for brain area VISam: 912\n",
      "tau 336.07320279984594, 95% CI 299.7883635744778,372.3580420252141\n",
      "processing area LP\n",
      "N units for brain area LP: 599\n",
      "tau 257.53315535707674, 95% CI 232.53166108308338,282.53464963107007\n",
      "processing area VISp\n",
      "N units for brain area VISp: 1063\n",
      "tau 319.66687594979885, 95% CI 295.8336673894851,343.50008451011263\n",
      "processing area VISl\n",
      "N units for brain area VISl: 727\n",
      "tau 309.8334693807622, 95% CI 279.6725253656186,339.99441339590584\n",
      "processing area LGd\n",
      "N units for brain area LGd: 254\n",
      "tau 333.6651172846553, 95% CI 263.42844626777025,403.9017883015403\n",
      "processing area VISal\n",
      "N units for brain area VISal: 928\n",
      "tau 308.2366813382866, 95% CI 279.836254746488,336.63710793008516\n",
      "processing area VISrl\n",
      "N units for brain area VISrl: 706\n",
      "tau 231.96038579674854, 95% CI 209.99032181396763,253.93044977952943\n",
      "processing area VISpm\n",
      "N units for brain area VISpm: 586\n",
      "tau 355.8784731752373, 95% CI 309.0139906114747,402.7429557389998\n"
     ]
    }
   ],
   "source": [
    "acf_full_taus_dict = {}\n",
    "\n",
    "for area in brain_areas:\n",
    "    print(f'processing area {area}')\n",
    "    acf_full_df_area = acf_full_df.query('ecephys_structure_acronym == @area').copy()\n",
    "    print(f'N units for brain area {area}: {len(acf_full_df_area)}')\n",
    "    acf_full_taus_dict[area] = calc_population_tau_2d(acf_full_df_area, acf_cols, 2, func_single_exp_monkey)"
   ]
  },
  {
   "cell_type": "code",
   "execution_count": 165,
   "id": "af145b73-9156-4c4f-8027-c3d4cab4ef13",
   "metadata": {},
   "outputs": [
    {
     "name": "stdout",
     "output_type": "stream",
     "text": [
      "processing area VISam\n",
      "N units for brain area VISam: 912\n",
      "tau 399.85502484853595, 95% CI 351.1653173604175,448.5447323366545\n",
      "processing area LP\n",
      "N units for brain area LP: 599\n",
      "tau 251.9800373261191, 95% CI 229.890767117619,274.06930753461916\n",
      "processing area VISp\n",
      "N units for brain area VISp: 1063\n",
      "tau 331.80729062303647, 95% CI 306.444900795542,357.1696804505309\n",
      "processing area VISl\n",
      "N units for brain area VISl: 727\n",
      "tau 348.4925631627867, 95% CI 313.59680778283695,383.3883185427365\n",
      "processing area LGd\n",
      "N units for brain area LGd: 254\n",
      "tau 327.15158569051005, 95% CI 257.0918279682532,397.2113434127669\n",
      "processing area VISal\n",
      "N units for brain area VISal: 928\n",
      "tau 354.0455080223492, 95% CI 318.747327109247,389.3436889354514\n",
      "processing area VISrl\n",
      "N units for brain area VISrl: 706\n",
      "tau 250.81044948684777, 95% CI 224.04853974468267,277.5723592290129\n",
      "processing area VISpm\n",
      "N units for brain area VISpm: 586\n",
      "tau 408.1376538197808, 95% CI 347.9130887252791,468.3622189142824\n"
     ]
    }
   ],
   "source": [
    "acf_isttc_full_taus_dict = {}\n",
    "\n",
    "for area in brain_areas:\n",
    "    print(f'processing area {area}')\n",
    "    acf_isttc_full_df_area = acf_isttc_full_df.query('ecephys_structure_acronym == @area').copy()\n",
    "    print(f'N units for brain area {area}: {len(acf_isttc_full_df_area)}')\n",
    "    acf_isttc_full_taus_dict[area] = calc_population_tau_2d(acf_isttc_full_df_area, acf_cols, 2, func_single_exp_monkey)"
   ]
  },
  {
   "cell_type": "code",
   "execution_count": 192,
   "id": "08e1587f-c644-41ad-87c8-2aeb04a29b05",
   "metadata": {},
   "outputs": [
    {
     "name": "stdout",
     "output_type": "stream",
     "text": [
      "processing area VISam\n",
      "N units for brain area VISam: 140\n",
      "tau 361.0455871530313, 95% CI 248.53651957390812,473.5546547321546\n",
      "processing area LP\n",
      "N units for brain area LP: 140\n",
      "tau 276.59960226877854, 95% CI 238.9505007946532,314.24870374290384\n",
      "processing area VISp\n",
      "N units for brain area VISp: 184\n",
      "tau 351.4079504110335, 95% CI 282.12668154359017,420.68921927847686\n",
      "processing area VISl\n",
      "N units for brain area VISl: 64\n",
      "tau 383.0856120434513, 95% CI 232.52202731788336,533.6491967690193\n",
      "processing area LGd\n",
      "N units for brain area LGd: 81\n",
      "tau 352.2958004778256, 95% CI 202.7466110339106,501.84498992174065\n",
      "processing area VISal\n",
      "N units for brain area VISal: 183\n",
      "ValueError: array must not contain infs or NaNs\n",
      "Possible reason: acf contains NaNs, low spike count\n"
     ]
    },
    {
     "ename": "UnboundLocalError",
     "evalue": "cannot access local variable 'explained_var' where it is not associated with a value",
     "output_type": "error",
     "traceback": [
      "\u001b[1;31m---------------------------------------------------------------------------\u001b[0m",
      "\u001b[1;31mUnboundLocalError\u001b[0m                         Traceback (most recent call last)",
      "Cell \u001b[1;32mIn[192], line 8\u001b[0m\n\u001b[0;32m      6\u001b[0m \u001b[38;5;28mprint\u001b[39m(\u001b[38;5;124mf\u001b[39m\u001b[38;5;124m'\u001b[39m\u001b[38;5;124mN units for brain area \u001b[39m\u001b[38;5;132;01m{\u001b[39;00marea\u001b[38;5;132;01m}\u001b[39;00m\u001b[38;5;124m: \u001b[39m\u001b[38;5;132;01m{\u001b[39;00m\u001b[38;5;28mlen\u001b[39m(pearsonr_trial_avg_acf_df_area)\u001b[38;5;132;01m}\u001b[39;00m\u001b[38;5;124m'\u001b[39m)\n\u001b[0;32m      7\u001b[0m \u001b[38;5;28;01mif\u001b[39;00m \u001b[38;5;28mlen\u001b[39m(pearsonr_trial_avg_acf_df_area) \u001b[38;5;241m>\u001b[39m \u001b[38;5;241m0\u001b[39m:\n\u001b[1;32m----> 8\u001b[0m     acf_pearsonr_trial_avg_taus_dict[area] \u001b[38;5;241m=\u001b[39m calc_population_tau_2d(pearsonr_trial_avg_acf_df_area, acf_cols[:\u001b[38;5;241m-\u001b[39m\u001b[38;5;241m1\u001b[39m], \u001b[38;5;241m2\u001b[39m, func_single_exp_monkey)\n",
      "Cell \u001b[1;32mIn[43], line 3\u001b[0m, in \u001b[0;36mcalc_population_tau_2d\u001b[1;34m(acf_df_, acf_cols_, start_idx_, func_to_fit_)\u001b[0m\n\u001b[0;32m      1\u001b[0m \u001b[38;5;28;01mdef\u001b[39;00m \u001b[38;5;21mcalc_population_tau_2d\u001b[39m(acf_df_, acf_cols_, start_idx_, func_to_fit_):\n\u001b[0;32m      2\u001b[0m     acf_2d \u001b[38;5;241m=\u001b[39m acf_df_[acf_cols_]\u001b[38;5;241m.\u001b[39mvalues\n\u001b[1;32m----> 3\u001b[0m     fit_popt, fit_pcov, tau, tau_ci, fit_r_squared, explained_var, log_message \u001b[38;5;241m=\u001b[39m fit_single_exp_2d(acf_2d, start_idx_, func_to_fit_)\n\u001b[0;32m      4\u001b[0m     \u001b[38;5;28mprint\u001b[39m(\u001b[38;5;124mf\u001b[39m\u001b[38;5;124m'\u001b[39m\u001b[38;5;124mtau \u001b[39m\u001b[38;5;132;01m{\u001b[39;00mtau\u001b[38;5;241m*\u001b[39m\u001b[38;5;241m50\u001b[39m\u001b[38;5;132;01m}\u001b[39;00m\u001b[38;5;124m, 95% CI \u001b[39m\u001b[38;5;132;01m{\u001b[39;00mtau_ci[\u001b[38;5;241m0\u001b[39m]\u001b[38;5;241m*\u001b[39m\u001b[38;5;241m50\u001b[39m\u001b[38;5;132;01m}\u001b[39;00m\u001b[38;5;124m,\u001b[39m\u001b[38;5;132;01m{\u001b[39;00mtau_ci[\u001b[38;5;241m1\u001b[39m]\u001b[38;5;241m*\u001b[39m\u001b[38;5;241m50\u001b[39m\u001b[38;5;132;01m}\u001b[39;00m\u001b[38;5;124m'\u001b[39m)\n\u001b[0;32m      5\u001b[0m     \u001b[38;5;28;01mreturn\u001b[39;00m {\u001b[38;5;124m'\u001b[39m\u001b[38;5;124mtau_ms\u001b[39m\u001b[38;5;124m'\u001b[39m:tau\u001b[38;5;241m*\u001b[39m\u001b[38;5;241m50\u001b[39m,\n\u001b[0;32m      6\u001b[0m             \u001b[38;5;124m'\u001b[39m\u001b[38;5;124mtau_lower_ms\u001b[39m\u001b[38;5;124m'\u001b[39m:tau_ci[\u001b[38;5;241m0\u001b[39m]\u001b[38;5;241m*\u001b[39m\u001b[38;5;241m50\u001b[39m, \n\u001b[0;32m      7\u001b[0m             \u001b[38;5;124m'\u001b[39m\u001b[38;5;124mtau_upper_ms\u001b[39m\u001b[38;5;124m'\u001b[39m:tau_ci[\u001b[38;5;241m1\u001b[39m]\u001b[38;5;241m*\u001b[39m\u001b[38;5;241m50\u001b[39m, \n\u001b[0;32m      8\u001b[0m             \u001b[38;5;124m'\u001b[39m\u001b[38;5;124mfit_r_squared\u001b[39m\u001b[38;5;124m'\u001b[39m: fit_r_squared, \n\u001b[0;32m      9\u001b[0m             \u001b[38;5;124m'\u001b[39m\u001b[38;5;124mexplained_var\u001b[39m\u001b[38;5;124m'\u001b[39m: explained_var, \n\u001b[0;32m     10\u001b[0m             \u001b[38;5;124m'\u001b[39m\u001b[38;5;124mpopt\u001b[39m\u001b[38;5;124m'\u001b[39m: fit_popt}\n",
      "File \u001b[1;32mD:\\intr_timescales\\isttc\\scripts\\calculate_tau.py:233\u001b[0m, in \u001b[0;36mfit_single_exp_2d\u001b[1;34m(ydata_to_fit_2d_, start_idx_, exp_fun_)\u001b[0m\n\u001b[0;32m    230\u001b[0m         fit_popt, fit_pcov, tau, tau_ci, tau_variance, fit_r_squared, fit_explained_var \u001b[38;5;241m=\u001b[39m np\u001b[38;5;241m.\u001b[39mnan, np\u001b[38;5;241m.\u001b[39mnan, np\u001b[38;5;241m.\u001b[39mnan, (np\u001b[38;5;241m.\u001b[39mnan, np\u001b[38;5;241m.\u001b[39mnan), np\u001b[38;5;241m.\u001b[39mnan, np\u001b[38;5;241m.\u001b[39mnan, np\u001b[38;5;241m.\u001b[39mnan\n\u001b[0;32m    231\u001b[0m         log_message \u001b[38;5;241m=\u001b[39m \u001b[38;5;124m'\u001b[39m\u001b[38;5;124mValueError\u001b[39m\u001b[38;5;124m'\u001b[39m\n\u001b[1;32m--> 233\u001b[0m \u001b[38;5;28;01mreturn\u001b[39;00m fit_popt, fit_pcov, tau, tau_ci, fit_r_squared, explained_var, log_message\n",
      "\u001b[1;31mUnboundLocalError\u001b[0m: cannot access local variable 'explained_var' where it is not associated with a value"
     ]
    }
   ],
   "source": [
    "acf_pearsonr_trial_avg_taus_dict = {}\n",
    "\n",
    "for area in brain_areas:\n",
    "    print(f'processing area {area}')\n",
    "    pearsonr_trial_avg_acf_df_area = pearsonr_trial_avg_acf_df.query('ecephys_structure_acronym == @area').copy()\n",
    "    print(f'N units for brain area {area}: {len(pearsonr_trial_avg_acf_df_area)}')\n",
    "    if len(pearsonr_trial_avg_acf_df_area) > 0:\n",
    "        acf_pearsonr_trial_avg_taus_dict[area] = calc_population_tau_2d(pearsonr_trial_avg_acf_df_area, acf_cols[:-1], 2, func_single_exp_monkey)"
   ]
  },
  {
   "cell_type": "code",
   "execution_count": 167,
   "id": "30c373e2-a7e9-40bc-9c71-e4a95f39053f",
   "metadata": {},
   "outputs": [
    {
     "name": "stdout",
     "output_type": "stream",
     "text": [
      "processing area VISam\n",
      "N units for brain area VISam: 31\n",
      "tau 210.1795413890228, 95% CI -69.80220151044021,490.1612842884858\n",
      "processing area LP\n",
      "N units for brain area LP: 19\n",
      "OptimizeWarning: Covariance of the parameters could not be estimated\n"
     ]
    },
    {
     "ename": "UnboundLocalError",
     "evalue": "cannot access local variable 'explained_var' where it is not associated with a value",
     "output_type": "error",
     "traceback": [
      "\u001b[1;31m---------------------------------------------------------------------------\u001b[0m",
      "\u001b[1;31mUnboundLocalError\u001b[0m                         Traceback (most recent call last)",
      "Cell \u001b[1;32mIn[167], line 8\u001b[0m\n\u001b[0;32m      6\u001b[0m \u001b[38;5;28mprint\u001b[39m(\u001b[38;5;124mf\u001b[39m\u001b[38;5;124m'\u001b[39m\u001b[38;5;124mN units for brain area \u001b[39m\u001b[38;5;132;01m{\u001b[39;00marea\u001b[38;5;132;01m}\u001b[39;00m\u001b[38;5;124m: \u001b[39m\u001b[38;5;132;01m{\u001b[39;00m\u001b[38;5;28mlen\u001b[39m(sttc_trial_avg_acf_df_area)\u001b[38;5;132;01m}\u001b[39;00m\u001b[38;5;124m'\u001b[39m)\n\u001b[0;32m      7\u001b[0m \u001b[38;5;28;01mif\u001b[39;00m \u001b[38;5;28mlen\u001b[39m(sttc_trial_avg_acf_df_area) \u001b[38;5;241m>\u001b[39m \u001b[38;5;241m0\u001b[39m:\n\u001b[1;32m----> 8\u001b[0m     acf_sttc_trial_avg_taus_dict[area] \u001b[38;5;241m=\u001b[39m calc_population_tau_2d(sttc_trial_avg_acf_df_area, acf_cols[:\u001b[38;5;241m-\u001b[39m\u001b[38;5;241m1\u001b[39m], \u001b[38;5;241m2\u001b[39m, func_single_exp_monkey)\n",
      "Cell \u001b[1;32mIn[43], line 3\u001b[0m, in \u001b[0;36mcalc_population_tau_2d\u001b[1;34m(acf_df_, acf_cols_, start_idx_, func_to_fit_)\u001b[0m\n\u001b[0;32m      1\u001b[0m \u001b[38;5;28;01mdef\u001b[39;00m \u001b[38;5;21mcalc_population_tau_2d\u001b[39m(acf_df_, acf_cols_, start_idx_, func_to_fit_):\n\u001b[0;32m      2\u001b[0m     acf_2d \u001b[38;5;241m=\u001b[39m acf_df_[acf_cols_]\u001b[38;5;241m.\u001b[39mvalues\n\u001b[1;32m----> 3\u001b[0m     fit_popt, fit_pcov, tau, tau_ci, fit_r_squared, explained_var, log_message \u001b[38;5;241m=\u001b[39m fit_single_exp_2d(acf_2d, start_idx_, func_to_fit_)\n\u001b[0;32m      4\u001b[0m     \u001b[38;5;28mprint\u001b[39m(\u001b[38;5;124mf\u001b[39m\u001b[38;5;124m'\u001b[39m\u001b[38;5;124mtau \u001b[39m\u001b[38;5;132;01m{\u001b[39;00mtau\u001b[38;5;241m*\u001b[39m\u001b[38;5;241m50\u001b[39m\u001b[38;5;132;01m}\u001b[39;00m\u001b[38;5;124m, 95% CI \u001b[39m\u001b[38;5;132;01m{\u001b[39;00mtau_ci[\u001b[38;5;241m0\u001b[39m]\u001b[38;5;241m*\u001b[39m\u001b[38;5;241m50\u001b[39m\u001b[38;5;132;01m}\u001b[39;00m\u001b[38;5;124m,\u001b[39m\u001b[38;5;132;01m{\u001b[39;00mtau_ci[\u001b[38;5;241m1\u001b[39m]\u001b[38;5;241m*\u001b[39m\u001b[38;5;241m50\u001b[39m\u001b[38;5;132;01m}\u001b[39;00m\u001b[38;5;124m'\u001b[39m)\n\u001b[0;32m      5\u001b[0m     \u001b[38;5;28;01mreturn\u001b[39;00m {\u001b[38;5;124m'\u001b[39m\u001b[38;5;124mtau_ms\u001b[39m\u001b[38;5;124m'\u001b[39m:tau\u001b[38;5;241m*\u001b[39m\u001b[38;5;241m50\u001b[39m,\n\u001b[0;32m      6\u001b[0m             \u001b[38;5;124m'\u001b[39m\u001b[38;5;124mtau_lower_ms\u001b[39m\u001b[38;5;124m'\u001b[39m:tau_ci[\u001b[38;5;241m0\u001b[39m]\u001b[38;5;241m*\u001b[39m\u001b[38;5;241m50\u001b[39m, \n\u001b[0;32m      7\u001b[0m             \u001b[38;5;124m'\u001b[39m\u001b[38;5;124mtau_upper_ms\u001b[39m\u001b[38;5;124m'\u001b[39m:tau_ci[\u001b[38;5;241m1\u001b[39m]\u001b[38;5;241m*\u001b[39m\u001b[38;5;241m50\u001b[39m, \n\u001b[0;32m      8\u001b[0m             \u001b[38;5;124m'\u001b[39m\u001b[38;5;124mfit_r_squared\u001b[39m\u001b[38;5;124m'\u001b[39m: fit_r_squared, \n\u001b[0;32m      9\u001b[0m             \u001b[38;5;124m'\u001b[39m\u001b[38;5;124mexplained_var\u001b[39m\u001b[38;5;124m'\u001b[39m: explained_var, \n\u001b[0;32m     10\u001b[0m             \u001b[38;5;124m'\u001b[39m\u001b[38;5;124mpopt\u001b[39m\u001b[38;5;124m'\u001b[39m: fit_popt}\n",
      "File \u001b[1;32mD:\\intr_timescales\\isttc\\scripts\\calculate_tau.py:233\u001b[0m, in \u001b[0;36mfit_single_exp_2d\u001b[1;34m(ydata_to_fit_2d_, start_idx_, exp_fun_)\u001b[0m\n\u001b[0;32m    230\u001b[0m         fit_popt, fit_pcov, tau, tau_ci, tau_variance, fit_r_squared, fit_explained_var \u001b[38;5;241m=\u001b[39m np\u001b[38;5;241m.\u001b[39mnan, np\u001b[38;5;241m.\u001b[39mnan, np\u001b[38;5;241m.\u001b[39mnan, (np\u001b[38;5;241m.\u001b[39mnan, np\u001b[38;5;241m.\u001b[39mnan), np\u001b[38;5;241m.\u001b[39mnan, np\u001b[38;5;241m.\u001b[39mnan, np\u001b[38;5;241m.\u001b[39mnan\n\u001b[0;32m    231\u001b[0m         log_message \u001b[38;5;241m=\u001b[39m \u001b[38;5;124m'\u001b[39m\u001b[38;5;124mValueError\u001b[39m\u001b[38;5;124m'\u001b[39m\n\u001b[1;32m--> 233\u001b[0m \u001b[38;5;28;01mreturn\u001b[39;00m fit_popt, fit_pcov, tau, tau_ci, fit_r_squared, explained_var, log_message\n",
      "\u001b[1;31mUnboundLocalError\u001b[0m: cannot access local variable 'explained_var' where it is not associated with a value"
     ]
    }
   ],
   "source": [
    "acf_sttc_trial_avg_taus_dict = {}\n",
    "\n",
    "for area in brain_areas:\n",
    "    print(f'processing area {area}')\n",
    "    sttc_trial_avg_acf_df_area = sttc_trial_avg_acf_df.query('ecephys_structure_acronym == @area').copy()\n",
    "    print(f'N units for brain area {area}: {len(sttc_trial_avg_acf_df_area)}')\n",
    "    if len(sttc_trial_avg_acf_df_area) > 0:\n",
    "        acf_sttc_trial_avg_taus_dict[area] = calc_population_tau_2d(sttc_trial_avg_acf_df_area, acf_cols[:-1], 2, func_single_exp_monkey)"
   ]
  },
  {
   "cell_type": "code",
   "execution_count": 168,
   "id": "002f7b02-9a85-40da-a320-18f62123321d",
   "metadata": {},
   "outputs": [
    {
     "name": "stdout",
     "output_type": "stream",
     "text": [
      "processing area VISam\n",
      "N units for brain area VISam: 31\n",
      "tau 2341.5901944160423, 95% CI -4058.215369489149,8741.395758321234\n",
      "processing area LP\n",
      "N units for brain area LP: 19\n",
      "tau 1815.0181482323155, 95% CI -466.33798971314843,4096.374286177779\n",
      "processing area VISp\n",
      "N units for brain area VISp: 0\n",
      "processing area VISl\n",
      "N units for brain area VISl: 0\n",
      "processing area LGd\n",
      "N units for brain area LGd: 0\n",
      "processing area VISal\n",
      "N units for brain area VISal: 0\n",
      "processing area VISrl\n",
      "N units for brain area VISrl: 0\n",
      "processing area VISpm\n",
      "N units for brain area VISpm: 0\n"
     ]
    }
   ],
   "source": [
    "acf_sttc_trial_concat_taus_dict = {}\n",
    "\n",
    "for area in brain_areas:\n",
    "    print(f'processing area {area}')\n",
    "    sttc_trial_concat_acf_df_area = sttc_trial_concat_acf_df.query('ecephys_structure_acronym == @area').copy()\n",
    "    print(f'N units for brain area {area}: {len(sttc_trial_concat_acf_df_area)}')\n",
    "    if len(sttc_trial_concat_acf_df_area) > 0:\n",
    "        acf_sttc_trial_concat_taus_dict[area] = calc_population_tau_2d(sttc_trial_concat_acf_df_area, acf_cols, 2, func_single_exp_monkey)"
   ]
  },
  {
   "cell_type": "markdown",
   "id": "4af7f803-7497-4ff4-bc7d-b71878dd0625",
   "metadata": {},
   "source": [
    "### Plots"
   ]
  },
  {
   "cell_type": "code",
   "execution_count": 169,
   "id": "b9e6ee87-582e-4717-9b9b-7bccc11ac4ce",
   "metadata": {},
   "outputs": [],
   "source": [
    "save_fig=True"
   ]
  },
  {
   "cell_type": "code",
   "execution_count": 170,
   "id": "1c8fce99-7eaa-41f8-9e7d-a9b752f6cec9",
   "metadata": {},
   "outputs": [],
   "source": [
    "brain_areas_axes_ticks = ['LGd', 'VISp', 'VISl', 'VISrl', 'LP', 'VISal', 'VISpm', 'VISam']\n",
    "brain_areas_names = ['LGN', 'V1', 'LM', 'RL', 'LP', 'AL', 'PM', 'AM']"
   ]
  },
  {
   "cell_type": "markdown",
   "id": "2c9ad7e9-264a-4af2-b519-4f3d19a5e04f",
   "metadata": {},
   "source": [
    "#### Per method with confidence intervals"
   ]
  },
  {
   "cell_type": "code",
   "execution_count": 171,
   "id": "2f302e19-5b64-4d8b-b332-260687a47aee",
   "metadata": {},
   "outputs": [],
   "source": [
    "def get_plot_df(acf_dict, areas, method):\n",
    "    tau = [acf_dict.get(c, {'tau_ms': np.nan})['tau_ms'] for c in areas]\n",
    "    tau_lower = [acf_dict.get(c, {'tau_lower_ms': np.nan})['tau_lower_ms'] for c in areas]\n",
    "    tau_upper = [acf_dict.get(c, {'tau_upper_ms': np.nan})['tau_upper_ms'] for c in areas]\n",
    "    \n",
    "    plot_df = pd.DataFrame({'area': areas, \n",
    "                                     'tau': tau,\n",
    "                                     'tau_lower': tau_lower, \n",
    "                                     'tau_upper': tau_upper, \n",
    "                                     'method': method})\n",
    "    return plot_df"
   ]
  },
  {
   "cell_type": "code",
   "execution_count": 193,
   "id": "737120f5-5ead-43b1-a504-f6c6243d96bb",
   "metadata": {},
   "outputs": [
    {
     "data": {
      "text/html": [
       "<div>\n",
       "<style scoped>\n",
       "    .dataframe tbody tr th:only-of-type {\n",
       "        vertical-align: middle;\n",
       "    }\n",
       "\n",
       "    .dataframe tbody tr th {\n",
       "        vertical-align: top;\n",
       "    }\n",
       "\n",
       "    .dataframe thead th {\n",
       "        text-align: right;\n",
       "    }\n",
       "</style>\n",
       "<table border=\"1\" class=\"dataframe\">\n",
       "  <thead>\n",
       "    <tr style=\"text-align: right;\">\n",
       "      <th></th>\n",
       "      <th>area</th>\n",
       "      <th>tau</th>\n",
       "      <th>tau_lower</th>\n",
       "      <th>tau_upper</th>\n",
       "      <th>method</th>\n",
       "    </tr>\n",
       "  </thead>\n",
       "  <tbody>\n",
       "    <tr>\n",
       "      <th>0</th>\n",
       "      <td>LGd</td>\n",
       "      <td>333.665117</td>\n",
       "      <td>263.428446</td>\n",
       "      <td>403.901788</td>\n",
       "      <td>acf_full</td>\n",
       "    </tr>\n",
       "    <tr>\n",
       "      <th>1</th>\n",
       "      <td>VISp</td>\n",
       "      <td>319.666876</td>\n",
       "      <td>295.833667</td>\n",
       "      <td>343.500085</td>\n",
       "      <td>acf_full</td>\n",
       "    </tr>\n",
       "    <tr>\n",
       "      <th>2</th>\n",
       "      <td>VISl</td>\n",
       "      <td>309.833469</td>\n",
       "      <td>279.672525</td>\n",
       "      <td>339.994413</td>\n",
       "      <td>acf_full</td>\n",
       "    </tr>\n",
       "    <tr>\n",
       "      <th>3</th>\n",
       "      <td>VISrl</td>\n",
       "      <td>231.960386</td>\n",
       "      <td>209.990322</td>\n",
       "      <td>253.930450</td>\n",
       "      <td>acf_full</td>\n",
       "    </tr>\n",
       "    <tr>\n",
       "      <th>4</th>\n",
       "      <td>LP</td>\n",
       "      <td>257.533155</td>\n",
       "      <td>232.531661</td>\n",
       "      <td>282.534650</td>\n",
       "      <td>acf_full</td>\n",
       "    </tr>\n",
       "  </tbody>\n",
       "</table>\n",
       "</div>"
      ],
      "text/plain": [
       "    area         tau   tau_lower   tau_upper    method\n",
       "0    LGd  333.665117  263.428446  403.901788  acf_full\n",
       "1   VISp  319.666876  295.833667  343.500085  acf_full\n",
       "2   VISl  309.833469  279.672525  339.994413  acf_full\n",
       "3  VISrl  231.960386  209.990322  253.930450  acf_full\n",
       "4     LP  257.533155  232.531661  282.534650  acf_full"
      ]
     },
     "execution_count": 193,
     "metadata": {},
     "output_type": "execute_result"
    }
   ],
   "source": [
    "acf_full_plot_df = get_plot_df(acf_full_taus_dict, brain_areas_axes_ticks, 'acf_full')\n",
    "acf_isttc_full_plot_df = get_plot_df(acf_isttc_full_taus_dict, brain_areas_axes_ticks, 'isttc_full')\n",
    "pearsonr_trial_avg_plot_df = get_plot_df(acf_pearsonr_trial_avg_taus_dict, brain_areas_axes_ticks, 'pearsonr_trial_avg')\n",
    "sttc_trial_avg_plot_df = get_plot_df(acf_sttc_trial_avg_taus_dict, brain_areas_axes_ticks, 'sttc_trial_avg')\n",
    "sttc_trial_concat_plot_df = get_plot_df(acf_sttc_trial_concat_taus_dict, brain_areas_axes_ticks, 'sttc_trial_concat')\n",
    "\n",
    "plot_df_concat = pd.concat([acf_full_plot_df, acf_isttc_full_plot_df, pearsonr_trial_avg_plot_df, sttc_trial_avg_plot_df, sttc_trial_concat_plot_df])\n",
    "plot_df_concat.reset_index(inplace=True, drop=True)\n",
    "plot_df_concat.head()"
   ]
  },
  {
   "cell_type": "code",
   "execution_count": 194,
   "id": "1ba9acf6-1214-41f8-9542-7cc89dddb922",
   "metadata": {},
   "outputs": [
    {
     "data": {
      "image/png": "[encoded data removed]",
      "text/plain": [
       "<Figure size 1200x500 with 6 Axes>"
      ]
     },
     "metadata": {},
     "output_type": "display_data"
    }
   ],
   "source": [
    "acf_full_error_bars = [acf_full_plot_df['tau'].values - acf_full_plot_df['tau_lower'].values, \n",
    "                       acf_full_plot_df['tau_upper'].values - acf_full_plot_df['tau'].values]\n",
    "acf_isttc_full_error_bars = [acf_isttc_full_plot_df['tau'].values - acf_isttc_full_plot_df['tau_lower'].values, \n",
    "                       acf_isttc_full_plot_df['tau_upper'].values - acf_isttc_full_plot_df['tau'].values ]\n",
    "pearsonr_trial_avg_full_error_bars = [pearsonr_trial_avg_plot_df['tau'].values - pearsonr_trial_avg_plot_df['tau_lower'].values, \n",
    "                       pearsonr_trial_avg_plot_df['tau_upper'].values - pearsonr_trial_avg_plot_df['tau'].values ]\n",
    "sttc_trial_avg_full_error_bars = [sttc_trial_avg_plot_df['tau'].values - sttc_trial_avg_plot_df['tau_lower'].values, \n",
    "                       sttc_trial_avg_plot_df['tau_upper'].values - sttc_trial_avg_plot_df['tau'].values ]\n",
    "sttc_trial_concat_full_error_bars = [sttc_trial_concat_plot_df['tau'].values - sttc_trial_concat_plot_df['tau_lower'].values, \n",
    "                       sttc_trial_concat_plot_df['tau_upper'].values - sttc_trial_concat_plot_df['tau'].values ]\n",
    "\n",
    "fig, axes = plt.subplots(2, 3, figsize=(12, 5), sharey='row')\n",
    "plt.subplots_adjust(hspace=0.4, wspace=0.4)\n",
    "\n",
    "for i, (cond, tau, err_low, err_high) in enumerate(zip(brain_areas, acf_full_plot_df['tau'].values, \n",
    "                                                       acf_full_error_bars[0], acf_full_error_bars[1])):\n",
    "    axes[0,0].errorbar(cond, tau, yerr=[[err_low], [err_high]], fmt='o', capsize=5, capthick=2, markersize=8, color='slategray')\n",
    "axes[0,0].set_xticks(brain_areas_axes_ticks)\n",
    "axes[0,0].set_xticklabels(brain_areas_names)\n",
    "axes[0,0].set_title('ACF full, 95% CI')\n",
    "\n",
    "for i, (cond, tau, err_low, err_high) in enumerate(zip(brain_areas, acf_isttc_full_plot_df['tau'].values, \n",
    "                                                       acf_isttc_full_error_bars[0], acf_isttc_full_error_bars[1])):\n",
    "    axes[0,1].errorbar(cond, tau, yerr=[[err_low], [err_high]], fmt='o', capsize=5, capthick=2, markersize=8, color='slategray')\n",
    "axes[0,1].set_xticks(brain_areas_axes_ticks)\n",
    "axes[0,1].set_xticklabels(brain_areas_names)\n",
    "axes[0,1].set_title('ACF iSTTC full, 95% CI')\n",
    "\n",
    "axes[0,2].set_axis_off()\n",
    "\n",
    "for i, (cond, tau, err_low, err_high) in enumerate(zip(brain_areas, pearsonr_trial_avg_plot_df['tau'].values, \n",
    "                                                       pearsonr_trial_avg_full_error_bars[0], pearsonr_trial_avg_full_error_bars[1])):\n",
    "    axes[1,0].errorbar(cond, tau, yerr=[[err_low], [err_high]], fmt='o', capsize=5, capthick=2, markersize=8, color='slategray')\n",
    "axes[1,0].set_title('Pearsonr trial avg, 95% CI')\n",
    "axes[1,0].set_xticks(brain_areas_axes_ticks)\n",
    "axes[1,0].set_xticklabels(brain_areas_names)\n",
    "\n",
    "for i, (cond, tau, err_low, err_high) in enumerate(zip(brain_areas, sttc_trial_avg_plot_df['tau'].values, \n",
    "                                                       sttc_trial_avg_full_error_bars[0], sttc_trial_avg_full_error_bars[1])):\n",
    "    axes[1,1].errorbar(cond, tau, yerr=[[err_low], [err_high]], fmt='o', capsize=5, capthick=2, markersize=8, color='slategray')\n",
    "axes[1,1].set_title('STTC trial avg, 95% CI')\n",
    "axes[1,1].set_xticks(brain_areas_axes_ticks)\n",
    "axes[1,1].set_xticklabels(brain_areas_names)\n",
    "\n",
    "for i, (cond, tau, err_low, err_high) in enumerate(zip(brain_areas, sttc_trial_concat_plot_df['tau'].values, \n",
    "                                                       sttc_trial_concat_full_error_bars[0], sttc_trial_concat_full_error_bars[1])):\n",
    "    axes[1,2].errorbar(cond, tau, yerr=[[err_low], [err_high]], fmt='o', capsize=5, capthick=2, markersize=8, color='slategray')\n",
    "axes[1,2].set_title('STTC trial concat, 95% CI')\n",
    "axes[1,2].set_xticks(brain_areas_axes_ticks)\n",
    "axes[1,2].set_xticklabels(brain_areas_names)\n",
    "\n",
    "for ax in axes.flat:\n",
    "    ax.grid(True, linestyle='--', alpha=0.5)\n",
    "    ax.set_ylabel('Intrinsic timescale (ms)')\n",
    "    # ax.set_xticklabels(['Pearson trial avg', 'STTC trial avg', 'STTC trial concat', 'Fascianelli et al.2019 \\n Figure 2'], \n",
    "    #                    rotation=45, ha='right', fontsize=8)\n",
    "    ax.set_xlim([-0.5, 7.5])\n",
    "    \n",
    "\n",
    "sns.despine()\n",
    "\n",
    "if save_fig:\n",
    "    fig.savefig(fig_folder + 'tau_per_area_5methods_plot_per_method.png', bbox_inches='tight', dpi=300)\n",
    "    fig.savefig(fig_folder + 'tau_per_area_5methods_plot_per_method.svg', bbox_inches='tight')"
   ]
  },
  {
   "cell_type": "markdown",
   "id": "008bf8b9-d390-4a49-b3d2-a9fa05863eb1",
   "metadata": {},
   "source": [
    "#### Per area with confidence intervals"
   ]
  },
  {
   "cell_type": "code",
   "execution_count": 186,
   "id": "907914ca-cfe4-4120-8e6a-ec1ea2203c48",
   "metadata": {},
   "outputs": [],
   "source": [
    "methods = ['acf_full', 'isttc_full', 'pearsonr_trial_avg','sttc_trial_avg', 'sttc_trial_concat']"
   ]
  },
  {
   "cell_type": "code",
   "execution_count": 187,
   "id": "820e6445-2286-49b8-9c62-72516ee1f5e2",
   "metadata": {},
   "outputs": [],
   "source": [
    "def get_brain_area_df(plot_df_all_areas, area):\n",
    "    area_df = plot_df_all_areas.query('area == @area').copy()\n",
    "    area_df['method'] = pd.Categorical(area_df['method'], \n",
    "                                       categories=methods, ordered=True)\n",
    "    area_df_ordered = area_df.sort_values(by='method')\n",
    "\n",
    "    acf_full_error_bars = [area_df_ordered['tau'].values - area_df_ordered['tau_lower'].values, \n",
    "                       area_df_ordered['tau_upper'].values - area_df_ordered['tau'].values]\n",
    "\n",
    "    return area_df_ordered, acf_full_error_bars"
   ]
  },
  {
   "cell_type": "code",
   "execution_count": 195,
   "id": "55b58cee-b6c4-4d95-89c8-2147d7a8bb08",
   "metadata": {},
   "outputs": [
    {
     "data": {
      "image/png": "[encoded data removed]",
      "text/plain": [
       "<Figure size 600x300 with 8 Axes>"
      ]
     },
     "metadata": {},
     "output_type": "display_data"
    }
   ],
   "source": [
    "fig, axes = plt.subplots(2, 4, figsize=(6, 3), sharey='row')\n",
    "plt.subplots_adjust(hspace=0.4, wspace=0.2)\n",
    "\n",
    "for i in range(4):\n",
    "    area_df_ordered, error_bars = get_brain_area_df(plot_df_concat, brain_areas_axes_ticks[i])\n",
    "    for j, (cond, tau, err_low, err_high) in enumerate(zip(methods, area_df_ordered['tau'].values, \n",
    "                                                           error_bars[0], error_bars[1])):\n",
    "        axes[0,i].errorbar(cond, tau, yerr=[[err_low], [err_high]], fmt='o', capsize=5, capthick=2, markersize=6, color='slategray')\n",
    "        axes[0,i].set_title(f'{brain_areas_names[i]}({brain_areas_axes_ticks[i]})')\n",
    "\n",
    "for i in range(4, 8):\n",
    "    area_df_ordered, error_bars = get_brain_area_df(plot_df_concat, brain_areas_axes_ticks[i])\n",
    "    for jj, (cond, tau, err_low, err_high) in enumerate(zip(methods, area_df_ordered['tau'].values, \n",
    "                                                           error_bars[0], error_bars[1])):\n",
    "        axes[1,i-4].errorbar(cond, tau, yerr=[[err_low], [err_high]], fmt='o', capsize=5, capthick=2, markersize=6, color='slategray')\n",
    "        axes[1,i-4].set_title(f'{brain_areas_names[i]}({brain_areas_axes_ticks[i]})')\n",
    "   \n",
    "axes[0,0].set_ylabel('Intrinsic timescale (ms)', fontsize=8)\n",
    "axes[1,0].set_ylabel('Intrinsic timescale (ms)', fontsize=8)\n",
    "\n",
    "for ax in axes.flat:\n",
    "    ax.grid(True, linestyle='--', alpha=0.5)\n",
    "    ax.set_xticks(['acf_full', 'isttc_full', 'pearsonr_trial_avg','sttc_trial_avg', 'sttc_trial_concat'])\n",
    "    ax.set_xticklabels([])\n",
    "    ax.set_xlim([-0.5, 4.5])\n",
    "\n",
    "for ax in axes.flat[4:]:\n",
    "    # ax.set_xticks(['acf_full', 'isttc_full', 'pearsonr_trial_avg','sttc_trial_avg', 'sttc_trial_concat'])\n",
    "    ax.set_xticklabels(['ACF full', 'iSTTC full', 'Pearson trial avg', 'STTC trial avg', 'STTC trial concat'], \n",
    "                       rotation=45, ha='right', fontsize=8)\n",
    "\n",
    "#plt.subplots_adjust(left=.5) \n",
    "    \n",
    "sns.despine()\n",
    "\n",
    "if save_fig:\n",
    "    fig.savefig(fig_folder + 'tau_per_area_5methods.png', bbox_inches='tight', dpi=300)\n",
    "    fig.savefig(fig_folder + 'tau_per_area_5methods.svg', bbox_inches='tight')"
   ]
  }
 ],
 "metadata": {
  "kernelspec": {
   "display_name": "Python 3 (ipykernel)",
   "language": "python",
   "name": "python3"
  },
  "language_info": {
   "codemirror_mode": {
    "name": "ipython",
    "version": 3
   },
   "file_extension": ".py",
   "mimetype": "text/x-python",
   "name": "python",
   "nbconvert_exporter": "python",
   "pygments_lexer": "ipython3",
   "version": "3.12.9"
  }
 },
 "nbformat": 4,
 "nbformat_minor": 5
}
