{
 "cells": [
  {
   "cell_type": "markdown",
   "id": "2e2320d4-37db-4a9f-ae22-78ad912e968c",
   "metadata": {},
   "source": [
    "Calculate and plot taus per area:\n",
    "\n",
    "full signal (fit all ACFs from units from that area):\n",
    "1. ACF full\n",
    "2. iSTTC full\n",
    "   \n",
    "trial average style:\n",
    "1. Pearsonr trial avg\n",
    "2. iSTTC trial avg\n",
    "3. iSTTC trial concat\n",
    "\n",
    "For every unit I have 100 sampling iterations of 40 trials. For the trial average there are 2 ways of calculating one point per area:\n",
    "1. Take a mean over 100 ACFs and use it as a unit ACF.\n",
    "2. Pull all indivudual ACFs together\n",
    "3. Take one sampling iteration (this one is used in current figure draft!) - it resembles the experimenatal datasets.\n",
    "\n",
    "ACFs with NaNs are removed as preprocessing."
   ]
  },
  {
   "cell_type": "code",
   "execution_count": 1,
   "id": "4a5c618e-ef3a-4d40-959f-09191178be54",
   "metadata": {},
   "outputs": [],
   "source": [
    "import numpy as np\n",
    "import pandas as pd\n",
    "import pickle\n",
    "import json\n",
    "import matplotlib as mpl\n",
    "import matplotlib.pyplot as plt\n",
    "import seaborn as sns\n",
    "\n",
    "# import from scripts\n",
    "import os\n",
    "current_wd = os.getcwd()\n",
    "os.chdir(os.path.abspath(\"..\\\\..\\\\..\\\\isttc\\\\scripts\"))\n",
    "from calculate_tau import fit_single_exp, fit_single_exp_2d, func_single_exp_monkey\n",
    "from cfg_global import project_folder_path\n",
    "os.chdir(current_wd)"
   ]
  },
  {
   "cell_type": "code",
   "execution_count": 2,
   "id": "02f308a9-a5ea-4856-a500-fb11290b6161",
   "metadata": {},
   "outputs": [],
   "source": [
    "mpl.rcParams['pdf.fonttype'] = 42\n",
    "mpl.rcParams['ps.fonttype'] = 42\n",
    "plt.rcParams['svg.fonttype'] = 'none'"
   ]
  },
  {
   "cell_type": "code",
   "execution_count": 3,
   "id": "fdce273a-4ce2-4376-b989-b6cad09a6741",
   "metadata": {},
   "outputs": [],
   "source": [
    "# True - calc and plot, False only plot\n",
    "calc_taus = True\n",
    "save_taus = False\n",
    "save_fig = False"
   ]
  },
  {
   "cell_type": "code",
   "execution_count": 4,
   "id": "8a79a8db-d2fd-4803-8fd5-193372cf789a",
   "metadata": {},
   "outputs": [],
   "source": [
    "def prep_trials_dfs(dict_file_name_, acf_cols_, units_info_df_subset_):\n",
    "    with open(dict_file_name_, \"rb\") as f:\n",
    "        trial_dict = pickle.load(f)\n",
    "    print(f'N signals {len(trial_dict)}')\n",
    "\n",
    "    np.random.seed(42) \n",
    "    random_acfs = np.random.randint(0, 100, size=len(trial_dict))  \n",
    "    print(f'random_acfs shape {random_acfs.shape}')\n",
    "    \n",
    "    # for trial based: 1-get mean acf per unit (in dict acf per sampling iteration are stored) and 2-get all acfs\n",
    "    unit_id_l, trial_acf_l = [], []\n",
    "    unit_id_no_dupl_l, trial_acf_random_l = [], []\n",
    "    for idx, (k,v) in enumerate(trial_dict.items()):    \n",
    "        unit_id_l.append([k] * 100)\n",
    "        trial_acf_l.append(v['acf'])\n",
    "        unit_id_no_dupl_l.append(k)\n",
    "        #print(f'idx {idx}, random_acfs[idx] {random_acfs[idx]}')\n",
    "        trial_acf_random_l.append(v['acf'][random_acfs[idx]])\n",
    "    \n",
    "    trial_acf_all_df = pd.DataFrame(np.vstack(trial_acf_l), columns=acf_cols_)\n",
    "    trial_acf_all_df.insert(0, 'unit_id', np.hstack(unit_id_l))\n",
    "    trial_acf_all_df = pd.merge(trial_acf_all_df, units_info_df_subset_, on='unit_id', how='left')\n",
    "    \n",
    "    print(f'N rows trial_acf_all_df: {len(trial_acf_all_df)}')\n",
    "    rows_with_nans_df = trial_acf_all_df[trial_acf_all_df.isna().any(axis=1)]\n",
    "    n_rows_with_nan = len(rows_with_nans_df)\n",
    "    # units with all 100 iterations containing NaNs\n",
    "    n_units_with_all_nans = len(rows_with_nans_df.groupby(by='unit_id', as_index=False)['unit_id'].count().query('unit_id == 100'))\n",
    "    trial_acf_all_df.dropna(inplace=True)\n",
    "    print(f'N n_rows_with_nan {n_rows_with_nan}, n_units_with_all_nans {n_units_with_all_nans} removing... new N: {len(trial_acf_all_df)}')\n",
    "\n",
    "    trial_acf_mean_df = trial_acf_all_df.groupby(by=['unit_id', 'ecephys_structure_acronym'], as_index=False)[acf_cols[:-1]].mean() \n",
    "    print(f'N units trial_acf_mean_df: {len(trial_acf_mean_df)}')\n",
    "\n",
    "    trial_acf_random_df = pd.DataFrame(np.vstack(trial_acf_random_l), columns=acf_cols_)\n",
    "    trial_acf_random_df.insert(0, 'unit_id', np.hstack(unit_id_no_dupl_l))\n",
    "    trial_acf_random_df = pd.merge(trial_acf_random_df, units_info_df_subset_, on='unit_id', how='left')\n",
    "    print(f'N units trial_acf_random_df: {len(trial_acf_random_df)}')\n",
    "    # might be NaNs here\n",
    "    rows_with_nans_df = trial_acf_random_df[trial_acf_random_df.isna().any(axis=1)]\n",
    "    n_rows_with_nan = len(rows_with_nans_df)\n",
    "    trial_acf_random_df.dropna(inplace=True)\n",
    "    print(f'N n_rows_with_nan {n_rows_with_nan} removing... new N: {len(trial_acf_random_df)}')\n",
    "\n",
    "    return trial_acf_all_df, trial_acf_mean_df, trial_acf_random_df"
   ]
  },
  {
   "cell_type": "code",
   "execution_count": 5,
   "id": "8d4aab67-1a7a-49fd-8409-2d8b183c45da",
   "metadata": {},
   "outputs": [],
   "source": [
    "def calc_population_tau_2d(acf_df_, acf_cols_, start_idx_, func_to_fit_, verbose_=False):\n",
    "    acf_2d = acf_df_[acf_cols_].values\n",
    "    fit_popt, fit_pcov, tau, tau_ci, fit_r_squared, explained_var, log_message = fit_single_exp_2d(acf_2d, start_idx_, func_to_fit_)\n",
    "    if verbose_:\n",
    "        print(f'tau {tau*50}, 95% CI {tau_ci[0]*50},{tau_ci[1]*50}')\n",
    "    return {'tau_ms':tau*50,\n",
    "            'tau_lower_ms':tau_ci[0]*50, \n",
    "            'tau_upper_ms':tau_ci[1]*50, \n",
    "            'fit_r_squared': fit_r_squared, \n",
    "            'explained_var': explained_var, \n",
    "            'popt': fit_popt,\n",
    "            'n_acfs': len(acf_df_)}\n",
    "\n",
    "def get_method_tau_dict(areas_, acf_df_, acf_cols_, verbose_=False):\n",
    "    taus_dict = {}\n",
    "    for area in areas_:\n",
    "        if verbose_:\n",
    "            print(f'processing area {area}')\n",
    "        acf_df_area = acf_df_.query('ecephys_structure_acronym == @area').copy()\n",
    "        if verbose_:\n",
    "            print(f'N units for brain area {area}: {len(acf_df_area)}')\n",
    "        taus_dict[area] = calc_population_tau_2d(acf_df_area, acf_cols_, 2, func_single_exp_monkey)\n",
    "    return taus_dict"
   ]
  },
  {
   "cell_type": "code",
   "execution_count": 6,
   "id": "721a31e0-045a-47d5-b095-76ba184ff466",
   "metadata": {},
   "outputs": [],
   "source": [
    "dataset_folder = project_folder_path + 'results\\\\allen_mice\\\\dataset\\\\cut_30min\\\\'\n",
    "fig_folder = project_folder_path + 'results\\\\allen_mice\\\\fig_draft_paper\\\\'"
   ]
  },
  {
   "cell_type": "markdown",
   "id": "497bb72c-279f-43ef-b73b-3ce78a697037",
   "metadata": {},
   "source": [
    "### Load data (or calc)"
   ]
  },
  {
   "cell_type": "code",
   "execution_count": 7,
   "id": "788c1d56-63cb-4cdf-a2d1-a088107e2e48",
   "metadata": {},
   "outputs": [
    {
     "name": "stdout",
     "output_type": "stream",
     "text": [
      "acf_cols ['acf_0', 'acf_1', 'acf_2', 'acf_3', 'acf_4', 'acf_5', 'acf_6', 'acf_7', 'acf_8', 'acf_9', 'acf_10', 'acf_11', 'acf_12', 'acf_13', 'acf_14', 'acf_15', 'acf_16', 'acf_17', 'acf_18', 'acf_19', 'acf_20']\n"
     ]
    }
   ],
   "source": [
    "n_lags = 20\n",
    "acf_cols = ['acf_' + str(i) for i in range(n_lags+1)]\n",
    "print('acf_cols {}'.format(acf_cols))"
   ]
  },
  {
   "cell_type": "code",
   "execution_count": 8,
   "id": "f71ba6c3-7895-4508-be06-a62046b7d137",
   "metadata": {},
   "outputs": [
    {
     "name": "stdout",
     "output_type": "stream",
     "text": [
      "n_rows_with_nan acf_full_df 0\n",
      "n_rows_with_nan acf_isttc_full_df 0\n",
      "N signals 5775\n",
      "random_acfs shape (5775,)\n",
      "N rows trial_acf_all_df: 577500\n",
      "N n_rows_with_nan 100067, n_units_with_all_nans 114 removing... new N: 477433\n",
      "N units trial_acf_mean_df: 5661\n",
      "N units trial_acf_random_df: 5775\n",
      "N n_rows_with_nan 1010 removing... new N: 4765\n",
      "N signals 5775\n",
      "random_acfs shape (5775,)\n",
      "N rows trial_acf_all_df: 577500\n",
      "N n_rows_with_nan 0, n_units_with_all_nans 0 removing... new N: 577500\n",
      "N units trial_acf_mean_df: 5775\n",
      "N units trial_acf_random_df: 5775\n",
      "N n_rows_with_nan 0 removing... new N: 5775\n",
      "N signals 5775\n",
      "random_acfs shape (5775,)\n",
      "N rows trial_acf_all_df: 577500\n",
      "N n_rows_with_nan 0, n_units_with_all_nans 0 removing... new N: 577500\n",
      "N units trial_acf_mean_df: 5775\n",
      "N units trial_acf_random_df: 5775\n",
      "N n_rows_with_nan 0 removing... new N: 5775\n"
     ]
    }
   ],
   "source": [
    "units_info_df = pd.read_pickle(dataset_folder + 'sua_list_constrained_units_df.pkl')\n",
    "units_info_df_subset = units_info_df[['unit_id', 'ecephys_structure_acronym']].copy()\n",
    "units_info_df_subset.head(2)\n",
    "\n",
    "acf_full_df_file = dataset_folder + 'binned\\\\acf_full_50ms_20lags_df.pkl'\n",
    "acf_full_df = pd.read_pickle(acf_full_df_file)\n",
    "n_rows_with_nan = len(acf_full_df[acf_full_df.isna().any(axis=1)])\n",
    "print(f'n_rows_with_nan acf_full_df {n_rows_with_nan}')\n",
    "\n",
    "acf_isttc_full_df_file = dataset_folder + 'non_binned\\\\acf_isttc_full_50ms_20lags_df_25dt.pkl'\n",
    "acf_isttc_full_df = pd.read_pickle(acf_isttc_full_df_file)\n",
    "n_rows_with_nan = len(acf_isttc_full_df[acf_isttc_full_df.isna().any(axis=1)])\n",
    "print(f'n_rows_with_nan acf_isttc_full_df {n_rows_with_nan}')\n",
    "\n",
    "pearsonr_trial_avg_acf_all_df, pearsonr_trial_avg_acf_mean_df, pearsonr_trial_avg_acf_random_df = prep_trials_dfs(dataset_folder + 'binned\\\\pearsonr_trial_avg_50ms_20lags_dict.pkl',\n",
    "                                                                                acf_cols[:-1], units_info_df_subset) \n",
    "\n",
    "sttc_trial_avg_acf_all_df, sttc_trial_avg_acf_mean_df, sttc_trial_avg_acf_random_df = prep_trials_dfs(dataset_folder + 'non_binned\\\\sttc_trial_avg_50ms_20lags_dict.pkl',\n",
    "                                                                                acf_cols[:-1], units_info_df_subset) \n",
    "\n",
    "sttc_trial_concat_acf_all_df, sttc_trial_concat_acf_mean_df, sttc_trial_concat_acf_random_df = prep_trials_dfs(dataset_folder + 'non_binned\\\\sttc_trial_concat_50ms_20lags_dict_25dt.pkl',\n",
    "                                                                                acf_cols[:-1], units_info_df_subset) "
   ]
  },
  {
   "cell_type": "code",
   "execution_count": null,
   "id": "0aa40d7e-9307-4e1a-accb-f5fdb5c1af96",
   "metadata": {},
   "outputs": [],
   "source": [
    "if calc_taus:\n",
    "    brain_areas = acf_full_df['ecephys_structure_acronym'].unique()\n",
    "    print(f'brain_areas {brain_areas}')\n",
    "    \n",
    "    acf_full_taus_dict = get_method_tau_dict(brain_areas, acf_full_df, acf_cols)\n",
    "    acf_isttc_full_taus_dict = get_method_tau_dict(brain_areas, acf_isttc_full_df, acf_cols)\n",
    "    \n",
    "    # using all ACFs\n",
    "    acf_pearsonr_trial_avg_taus_dict = get_method_tau_dict(brain_areas, pearsonr_trial_avg_acf_all_df, acf_cols[:-1])\n",
    "    acf_sttc_trial_avg_taus_dict = get_method_tau_dict(brain_areas, sttc_trial_avg_acf_all_df, acf_cols[:-1])\n",
    "    acf_sttc_trial_concat_taus_dict = get_method_tau_dict(brain_areas, sttc_trial_concat_acf_all_df, acf_cols[:-1])\n",
    "    \n",
    "    # using mean ACF per unit \n",
    "    acf_pearsonr_trial_avg_taus_mean_dict = get_method_tau_dict(brain_areas, pearsonr_trial_avg_acf_mean_df, acf_cols[:-1])\n",
    "    acf_sttc_trial_avg_taus_mean_dict = get_method_tau_dict(brain_areas, sttc_trial_avg_acf_mean_df, acf_cols[:-1])\n",
    "    acf_sttc_trial_concat_taus_mean_dict = get_method_tau_dict(brain_areas, sttc_trial_concat_acf_mean_df, acf_cols[:-1])\n",
    "    \n",
    "    # using random ACF per unit \n",
    "    acf_pearsonr_trial_avg_taus_random_dict = get_method_tau_dict(brain_areas, pearsonr_trial_avg_acf_random_df, acf_cols[:-1])\n",
    "    acf_sttc_trial_avg_taus_random_dict = get_method_tau_dict(brain_areas, sttc_trial_avg_acf_random_df, acf_cols[:-1])\n",
    "    acf_sttc_trial_concat_taus_random_dict = get_method_tau_dict(brain_areas, sttc_trial_concat_acf_random_df, acf_cols[:-1])\n",
    "\n",
    "    area_taus_dict = {'acf_full': acf_full_taus_dict, \n",
    "                  'isttc_full': acf_isttc_full_taus_dict, \n",
    "                  'pearsonr_trial_avg': acf_pearsonr_trial_avg_taus_dict, \n",
    "                  'sttc_trial_avg': acf_sttc_trial_avg_taus_dict, \n",
    "                  'sttc_trial_concat': acf_sttc_trial_concat_taus_dict, \n",
    "                  'pearsonr_trial_avg_mean': acf_pearsonr_trial_avg_taus_mean_dict, \n",
    "                  'sttc_trial_avg_mean': acf_sttc_trial_avg_taus_mean_dict, \n",
    "                  'sttc_trial_concat_mean': acf_sttc_trial_concat_taus_mean_dict,\n",
    "                  'pearsonr_trial_avg_random': acf_pearsonr_trial_avg_taus_random_dict, \n",
    "                  'sttc_trial_avg_random': acf_sttc_trial_avg_taus_random_dict, \n",
    "                  'sttc_trial_concat_random': acf_sttc_trial_concat_taus_random_dict}"
   ]
  },
  {
   "cell_type": "code",
   "execution_count": null,
   "id": "7472e6a2-64db-4721-aa57-c53de54db7b9",
   "metadata": {},
   "outputs": [],
   "source": [
    "if save_taus:\n",
    "    class NumpyEncoder(json.JSONEncoder):\n",
    "        def default(self, obj):\n",
    "            if isinstance(obj, np.ndarray):\n",
    "                return obj.tolist()  # Convert ndarray to list\n",
    "            return super().default(obj)\n",
    "    \n",
    "    with open(dataset_folder + 'area_taus_dict.json', 'w') as f:\n",
    "        json.dump(area_taus_dict, f, cls=NumpyEncoder, indent=4)  "
   ]
  },
  {
   "cell_type": "code",
   "execution_count": null,
   "id": "1697f924-4c98-48b1-8257-3cbb2bcd407e",
   "metadata": {},
   "outputs": [],
   "source": [
    "with open(dataset_folder + 'area_taus_dict.json', 'r') as f:\n",
    "    area_taus_dict = json.load(f)"
   ]
  },
  {
   "cell_type": "markdown",
   "id": "4af7f803-7497-4ff4-bc7d-b71878dd0625",
   "metadata": {},
   "source": [
    "### Plots"
   ]
  },
  {
   "cell_type": "code",
   "execution_count": null,
   "id": "3013b142-3ac0-4307-9c8e-1ff914e2cedf",
   "metadata": {},
   "outputs": [],
   "source": [
    "color_acf_full = '#4783B4'\n",
    "color_isttc_full = '#E2552A'\n",
    "color_pearson_trail_avg = 'slategray' \n",
    "color_sttc_trail_avg =  '#E97451' \n",
    "color_sttc_trail_concat = '#B94E48' \n",
    "\n",
    "brain_areas_axes_ticks = ['LGd', 'VISp', 'VISl', 'VISrl', 'LP', 'VISal', 'VISpm', 'VISam']\n",
    "brain_areas_names = ['LGN', 'V1', 'LM', 'RL', 'LP', 'AL', 'PM', 'AM']"
   ]
  },
  {
   "cell_type": "markdown",
   "id": "def02d56-b22e-4a10-b8ea-2d717635ff9d",
   "metadata": {},
   "source": [
    "#### Plot ACFs - individual acfs and area fit"
   ]
  },
  {
   "cell_type": "code",
   "execution_count": null,
   "id": "ef3f1835-b907-4255-9a31-0378ddc96da5",
   "metadata": {},
   "outputs": [],
   "source": [
    "def plot_area_method(ax_, area_dict_, area_2d_, t_, method_, color_):\n",
    "    plot_label = f\"{method_}:\\n{np.round(area_dict_['tau_ms'], 1)} ms, CI [{np.round(area_dict_['tau_lower_ms'], 1)},{np.round(\n",
    "        area_dict_['tau_upper_ms'],1)}] \\n (n={area_2d_.shape[0]}, R-squared={np.round(area_dict_['fit_r_squared'], 3)})\"\n",
    "\n",
    "    if not np.isnan(area_dict_['tau_ms']):\n",
    "        ax_.plot(t_, func_single_exp_monkey(t_, *area_dict_['popt']), color=color_)\n",
    "        \n",
    "    for ii in range(area_2d_.shape[0]):\n",
    "        ax_.plot(t_, area_2d_[ii, 1:], lw=0.2, color=color_, alpha=0.05)\n",
    "        \n",
    "    ax_.set_title(plot_label, fontsize=8, y=1.05)"
   ]
  },
  {
   "cell_type": "code",
   "execution_count": null,
   "id": "9d379834-93b4-4cd1-97bb-55df03ac7791",
   "metadata": {},
   "outputs": [],
   "source": [
    "fig, axes = plt.subplots(8,5, figsize=(15,20), sharey='row')\n",
    "plt.subplots_adjust(hspace=0.4, wspace=0.4)\n",
    "\n",
    "t = np.linspace(1, n_lags, n_lags).astype(int)\n",
    "#t_labels = np.linspace(50, 1000, n_lags).astype(int)\n",
    "\n",
    "for area_idx, area in enumerate(brain_areas_axes_ticks):\n",
    "    plot_area_method(axes[area_idx,0], area_taus_dict['acf_full'][area], \n",
    "                     acf_full_df.query('ecephys_structure_acronym == @area')[acf_cols].values, \n",
    "                     t, 'acf_full', \n",
    "                     color_acf_full)\n",
    "\n",
    "for area_idx, area in enumerate(brain_areas_axes_ticks):\n",
    "    plot_area_method(axes[area_idx,1], area_taus_dict['isttc_full'][area], \n",
    "                     acf_isttc_full_df.query('ecephys_structure_acronym == @area')[acf_cols].values, \n",
    "                     t, 'isttc_full',\n",
    "                     color_isttc_full)\n",
    "    \n",
    "for area_idx, area in enumerate(brain_areas_axes_ticks):\n",
    "    plot_area_method(axes[area_idx,2], area_taus_dict['pearsonr_trial_avg_random'][area], \n",
    "                     pearsonr_trial_avg_acf_random_df.query('ecephys_structure_acronym == @area')[acf_cols[:-1]].values, \n",
    "                     t[:-1], 'pearsonr_trial_avg',\n",
    "                     color_pearson_trail_avg)\n",
    "\n",
    "for area_idx, area in enumerate(brain_areas_axes_ticks):\n",
    "    plot_area_method(axes[area_idx,3], area_taus_dict['sttc_trial_avg_random'][area], \n",
    "                     sttc_trial_avg_acf_random_df.query('ecephys_structure_acronym == @area')[acf_cols[:-1]].values, \n",
    "                     t[:-1], 'sttc_trial_avg',\n",
    "                     color_sttc_trail_avg)\n",
    "\n",
    "for area_idx, area in enumerate(brain_areas_axes_ticks):\n",
    "    plot_area_method(axes[area_idx,4], area_taus_dict['sttc_trial_concat_random'][area], \n",
    "                     sttc_trial_concat_acf_random_df.query('ecephys_structure_acronym == @area')[acf_cols[:-1]].values, \n",
    "                     t[:-1], 'sttc_trial_concat',\n",
    "                     color_sttc_trail_concat)\n",
    "\n",
    "for area_idx, area in enumerate(brain_areas_axes_ticks):\n",
    "    axes[area_idx, 0].set_ylabel(f'{brain_areas_names[area_idx]}({area}) \\nAutocorrelation (a.u.)')\n",
    "\n",
    "\n",
    "for ax in axes.flat: \n",
    "    ax.plot(t, np.zeros(len(t)), lw=0.5, c='k')\n",
    "    ax.set_xticks([5, 10, 15])\n",
    "    ax.set_xticklabels([])\n",
    "    sns.despine(ax=ax)\n",
    "\n",
    "for ii in range(5):\n",
    "    axes[7, ii].set_xticks([5, 10, 15])\n",
    "    axes[7, ii].set_xticklabels([250, 500, 750], rotation=90)\n",
    "    axes[7, ii].set_xlabel('Time lag (ms)')\n",
    "\n",
    "if save_fig:\n",
    "    fig.savefig(fig_folder + 'acfs_taus_per_area_5methods_plot_per_method_trials_random.png', bbox_inches='tight', dpi=300)\n",
    "    fig.savefig(fig_folder + 'acfs_taus_per_area_5methods_plot_per_method_trials_random.svg', bbox_inches='tight')"
   ]
  },
  {
   "cell_type": "code",
   "execution_count": null,
   "id": "a8f1372d-5dcd-4736-b545-d46a6fb54d90",
   "metadata": {},
   "outputs": [],
   "source": [
    "# plot only fit (without individual traces)\n",
    "\n",
    "fig, axes = plt.subplots(2, 4, figsize=(16, 7), sharey=True)\n",
    "plt.subplots_adjust(hspace=0.4, wspace=0.4)\n",
    "\n",
    "t = np.linspace(1, n_lags, n_lags).astype(int)\n",
    "\n",
    "for area_idx, area in enumerate(brain_areas_axes_ticks):\n",
    "    y_idx = area_idx % 4 \n",
    "    x_idx = area_idx // 4\n",
    "    if not np.isnan(area_taus_dict['acf_full'][area]['tau_ms']):\n",
    "        axes[x_idx,y_idx].plot(t, func_single_exp_monkey(t, *area_taus_dict['acf_full'][area]['popt']), color=color_acf_full, label='acf_full')\n",
    "    if not np.isnan(area_taus_dict['isttc_full'][area]['tau_ms']):\n",
    "        axes[x_idx,y_idx].plot(t, func_single_exp_monkey(t, *area_taus_dict['isttc_full'][area]['popt']), color=color_isttc_full, label='isttc_full')\n",
    "    if not np.isnan(area_taus_dict['pearsonr_trial_avg_random'][area]['tau_ms']):\n",
    "        axes[x_idx,y_idx].plot(t[:-1], func_single_exp_monkey(t[:-1], *area_taus_dict['pearsonr_trial_avg_random'][area]['popt']), \n",
    "                               color=color_pearson_trail_avg, label='pearsonr_trial_avg_random')\n",
    "    if not np.isnan(area_taus_dict['sttc_trial_avg_random'][area]['tau_ms']):\n",
    "        axes[x_idx,y_idx].plot(t[:-1], func_single_exp_monkey(t[:-1], *area_taus_dict['sttc_trial_avg_random'][area]['popt']), \n",
    "                               color=color_sttc_trail_avg, label='sttc_trial_avg_random')\n",
    "    if not np.isnan(area_taus_dict['sttc_trial_concat_random'][area]['tau_ms']):\n",
    "        axes[x_idx,y_idx].plot(t[:-1], func_single_exp_monkey(t[:-1], *area_taus_dict['sttc_trial_concat_random'][area]['popt']), \n",
    "                               color=color_sttc_trail_concat, label='sttc_trial_concat_random')\n",
    "    axes[x_idx,y_idx].set_ylabel(f'{brain_areas_names[area_idx]}({area}) \\nAutocorrelation (a.u.)')\n",
    "\n",
    "fig.suptitle('ACF fit per area (trial based - one sampling iteration)', y=1)\n",
    "\n",
    "handles, labels = axes[0,0].get_legend_handles_labels()\n",
    "fig.legend(handles, labels, loc='upper center', ncol=len(labels), frameon=False, fontsize='medium', bbox_to_anchor=(0.5, 0.95))\n",
    "\n",
    "for ax in axes.flat: \n",
    "    ax.grid(True, linestyle='--', alpha=0.5)\n",
    "    ax.axhline(y=0, lw=0.5, c='k')\n",
    "    ax.set_xticks([0, 5, 10, 15, 20])\n",
    "    ax.set_xticklabels([0, 250, 500, 750, 1000], rotation=90)\n",
    "    ax.set_xlabel('Time lag (ms)')\n",
    "    sns.despine(ax=ax)\n",
    "\n",
    "if save_fig:\n",
    "    fig.savefig(fig_folder + 'acf_fit_per_area_5methods_plot_per_method_trials_random.png', bbox_inches='tight', dpi=300)\n",
    "    fig.savefig(fig_folder + 'acf_fit_per_area_5methods_plot_per_method_trials_random.svg', bbox_inches='tight')"
   ]
  },
  {
   "cell_type": "markdown",
   "id": "2c9ad7e9-264a-4af2-b519-4f3d19a5e04f",
   "metadata": {},
   "source": [
    "#### Per method with confidence intervals"
   ]
  },
  {
   "cell_type": "code",
   "execution_count": null,
   "id": "2f302e19-5b64-4d8b-b332-260687a47aee",
   "metadata": {},
   "outputs": [],
   "source": [
    "def get_plot_df(acf_dict, areas, method):\n",
    "    tau = [acf_dict.get(c, {'tau_ms': np.nan})['tau_ms'] for c in areas]\n",
    "    tau_lower = [acf_dict.get(c, {'tau_lower_ms': np.nan})['tau_lower_ms'] for c in areas]\n",
    "    tau_upper = [acf_dict.get(c, {'tau_upper_ms': np.nan})['tau_upper_ms'] for c in areas]\n",
    "    \n",
    "    plot_df = pd.DataFrame({'area': areas, \n",
    "                                     'tau': tau,\n",
    "                                     'tau_lower': tau_lower, \n",
    "                                     'tau_upper': tau_upper, \n",
    "                                     'method': method})\n",
    "    return plot_df"
   ]
  },
  {
   "cell_type": "code",
   "execution_count": null,
   "id": "571101fa-8068-4663-af8f-89136dc4d83d",
   "metadata": {},
   "outputs": [],
   "source": [
    "# trial_postfix_ '_mean', '_random', ''\n",
    "def plot_per_method(area_taus_dict_, brain_areas_axes_ticks_, trial_postfix_):\n",
    "    \n",
    "    acf_full_plot_df = get_plot_df(area_taus_dict_['acf_full'], brain_areas_axes_ticks_, 'acf_full')\n",
    "    acf_isttc_full_plot_df = get_plot_df(area_taus_dict_['isttc_full'], brain_areas_axes_ticks_, 'isttc_full')\n",
    "    pearsonr_trial_avg_plot_df = get_plot_df(area_taus_dict['pearsonr_trial_avg'+trial_postfix_], brain_areas_axes_ticks, 'pearsonr_trial_avg')\n",
    "    sttc_trial_avg_plot_df = get_plot_df(area_taus_dict['sttc_trial_avg'+trial_postfix_], brain_areas_axes_ticks, 'sttc_trial_avg')\n",
    "    sttc_trial_concat_plot_df = get_plot_df(area_taus_dict['sttc_trial_concat'+trial_postfix_], brain_areas_axes_ticks, 'sttc_trial_concat')\n",
    "\n",
    "    acf_full_error_bars = [acf_full_plot_df['tau'].values - acf_full_plot_df['tau_lower'].values, \n",
    "                       acf_full_plot_df['tau_upper'].values - acf_full_plot_df['tau'].values]\n",
    "    acf_isttc_full_error_bars = [acf_isttc_full_plot_df['tau'].values - acf_isttc_full_plot_df['tau_lower'].values, \n",
    "                           acf_isttc_full_plot_df['tau_upper'].values - acf_isttc_full_plot_df['tau'].values ]\n",
    "    pearsonr_trial_avg_full_error_bars = [pearsonr_trial_avg_plot_df['tau'].values - pearsonr_trial_avg_plot_df['tau_lower'].values, \n",
    "                           pearsonr_trial_avg_plot_df['tau_upper'].values - pearsonr_trial_avg_plot_df['tau'].values ]\n",
    "    sttc_trial_avg_full_error_bars = [sttc_trial_avg_plot_df['tau'].values - sttc_trial_avg_plot_df['tau_lower'].values, \n",
    "                           sttc_trial_avg_plot_df['tau_upper'].values - sttc_trial_avg_plot_df['tau'].values ]\n",
    "    sttc_trial_concat_full_error_bars = [sttc_trial_concat_plot_df['tau'].values - sttc_trial_concat_plot_df['tau_lower'].values, \n",
    "                           sttc_trial_concat_plot_df['tau_upper'].values - sttc_trial_concat_plot_df['tau'].values ]\n",
    "    \n",
    "    fig, axes = plt.subplots(2, 3, figsize=(12, 5), sharey=False)\n",
    "    plt.subplots_adjust(hspace=0.4, wspace=0.4)\n",
    "    \n",
    "    for i, (cond, tau, err_low, err_high) in enumerate(zip(brain_areas_axes_ticks, acf_full_plot_df['tau'].values, \n",
    "                                                           acf_full_error_bars[0], acf_full_error_bars[1])):\n",
    "        axes[0,0].errorbar(cond, tau, yerr=[[err_low], [err_high]], fmt='o', capsize=5, capthick=2, markersize=8, color='slategray')\n",
    "    axes[0,0].set_xticks(brain_areas_axes_ticks)\n",
    "    axes[0,0].set_xticklabels(brain_areas_names)\n",
    "    axes[0,0].set_title('ACF full, 95% CI')\n",
    "    \n",
    "    for i, (cond, tau, err_low, err_high) in enumerate(zip(brain_areas_axes_ticks, acf_isttc_full_plot_df['tau'].values, \n",
    "                                                           acf_isttc_full_error_bars[0], acf_isttc_full_error_bars[1])):\n",
    "        axes[0,1].errorbar(cond, tau, yerr=[[err_low], [err_high]], fmt='o', capsize=5, capthick=2, markersize=8, color='slategray')\n",
    "    axes[0,1].set_xticks(brain_areas_axes_ticks)\n",
    "    axes[0,1].set_xticklabels(brain_areas_names)\n",
    "    axes[0,1].set_title('ACF iSTTC full, 95% CI')\n",
    "    \n",
    "    axes[0,2].set_axis_off()\n",
    "    \n",
    "    for i, (cond, tau, err_low, err_high) in enumerate(zip(brain_areas_axes_ticks, pearsonr_trial_avg_plot_df['tau'].values, \n",
    "                                                           pearsonr_trial_avg_full_error_bars[0], pearsonr_trial_avg_full_error_bars[1])):\n",
    "        axes[1,0].errorbar(cond, tau, yerr=[[err_low], [err_high]], fmt='o', capsize=5, capthick=2, markersize=8, color='slategray')\n",
    "    axes[1,0].set_title('Pearsonr trial avg, 95% CI')\n",
    "    axes[1,0].set_xticks(brain_areas_axes_ticks)\n",
    "    axes[1,0].set_xticklabels(brain_areas_names)\n",
    "    \n",
    "    for i, (cond, tau, err_low, err_high) in enumerate(zip(brain_areas_axes_ticks, sttc_trial_avg_plot_df['tau'].values, \n",
    "                                                           sttc_trial_avg_full_error_bars[0], sttc_trial_avg_full_error_bars[1])):\n",
    "        axes[1,1].errorbar(cond, tau, yerr=[[err_low], [err_high]], fmt='o', capsize=5, capthick=2, markersize=8, color='slategray')\n",
    "    axes[1,1].set_title('STTC trial avg, 95% CI')\n",
    "    axes[1,1].set_xticks(brain_areas_axes_ticks)\n",
    "    axes[1,1].set_xticklabels(brain_areas_names)\n",
    "    \n",
    "    for i, (cond, tau, err_low, err_high) in enumerate(zip(brain_areas_axes_ticks, sttc_trial_concat_plot_df['tau'].values, \n",
    "                                                           sttc_trial_concat_full_error_bars[0], sttc_trial_concat_full_error_bars[1])):\n",
    "        axes[1,2].errorbar(cond, tau, yerr=[[err_low], [err_high]], fmt='o', capsize=5, capthick=2, markersize=8, color='slategray')\n",
    "    axes[1,2].set_title('STTC trial concat, 95% CI')\n",
    "    axes[1,2].set_xticks(brain_areas_axes_ticks)\n",
    "    axes[1,2].set_xticklabels(brain_areas_names)\n",
    "    \n",
    "    for ax in axes.flat:\n",
    "        ax.grid(True, linestyle='--', alpha=0.5)\n",
    "        ax.set_ylabel('Intrinsic timescale (ms)')\n",
    "        # ax.set_xticklabels(['Pearson trial avg', 'STTC trial avg', 'STTC trial concat', 'Fascianelli et al.2019 \\n Figure 2'], \n",
    "        #                    rotation=45, ha='right', fontsize=8)\n",
    "        ax.set_xlim([-0.5, 7.5])\n",
    "        \n",
    "    \n",
    "    sns.despine()\n",
    "    \n",
    "    if save_fig:\n",
    "        fig.savefig(fig_folder + 'tau_per_area_5methods_plot_per_method_' + trial_postfix_ + '.png', bbox_inches='tight', dpi=300)\n",
    "        fig.savefig(fig_folder + 'tau_per_area_5methods_plot_per_method_' + trial_postfix_ + '.svg', bbox_inches='tight')"
   ]
  },
  {
   "cell_type": "code",
   "execution_count": null,
   "id": "e6ceda09-713c-4e36-882c-c1749bc5719b",
   "metadata": {},
   "outputs": [],
   "source": [
    "plot_per_method(area_taus_dict, brain_areas_axes_ticks, '')"
   ]
  },
  {
   "cell_type": "code",
   "execution_count": null,
   "id": "b5e09cc9-8a15-4599-9f8e-bb9fb44f54df",
   "metadata": {},
   "outputs": [],
   "source": [
    "plot_per_method(area_taus_dict, brain_areas_axes_ticks, '_mean')"
   ]
  },
  {
   "cell_type": "code",
   "execution_count": null,
   "id": "2a672f1d-3d58-4d78-b8a1-bcb388042690",
   "metadata": {},
   "outputs": [],
   "source": [
    "plot_per_method(area_taus_dict, brain_areas_axes_ticks, '_random')"
   ]
  },
  {
   "cell_type": "markdown",
   "id": "008bf8b9-d390-4a49-b3d2-a9fa05863eb1",
   "metadata": {},
   "source": [
    "#### Per area with confidence intervals"
   ]
  },
  {
   "cell_type": "code",
   "execution_count": null,
   "id": "907914ca-cfe4-4120-8e6a-ec1ea2203c48",
   "metadata": {},
   "outputs": [],
   "source": [
    "methods = ['acf_full', 'isttc_full', 'pearsonr_trial_avg','sttc_trial_avg', 'sttc_trial_concat']"
   ]
  },
  {
   "cell_type": "code",
   "execution_count": null,
   "id": "820e6445-2286-49b8-9c62-72516ee1f5e2",
   "metadata": {},
   "outputs": [],
   "source": [
    "def get_brain_area_df(plot_df_all_areas, area):\n",
    "    area_df = plot_df_all_areas.query('area == @area').copy()\n",
    "    area_df['method'] = pd.Categorical(area_df['method'], \n",
    "                                       categories=methods, ordered=True)\n",
    "    area_df_ordered = area_df.sort_values(by='method')\n",
    "\n",
    "    acf_full_error_bars = [area_df_ordered['tau'].values - area_df_ordered['tau_lower'].values, \n",
    "                       area_df_ordered['tau_upper'].values - area_df_ordered['tau'].values]\n",
    "\n",
    "    return area_df_ordered, acf_full_error_bars"
   ]
  },
  {
   "cell_type": "code",
   "execution_count": null,
   "id": "65e67236-74bd-4272-a59a-8c9cca432547",
   "metadata": {},
   "outputs": [],
   "source": [
    "def plot_per_area(trial_postfix_):\n",
    "\n",
    "    acf_full_plot_df = get_plot_df(area_taus_dict['acf_full'], brain_areas_axes_ticks, 'acf_full')\n",
    "    acf_isttc_full_plot_df = get_plot_df(area_taus_dict['isttc_full'], brain_areas_axes_ticks, 'isttc_full')\n",
    "    pearsonr_trial_avg_plot_df = get_plot_df(area_taus_dict['pearsonr_trial_avg'+trial_postfix_], brain_areas_axes_ticks, 'pearsonr_trial_avg')\n",
    "    sttc_trial_avg_plot_df = get_plot_df(area_taus_dict['sttc_trial_avg'+trial_postfix_], brain_areas_axes_ticks, 'sttc_trial_avg')\n",
    "    sttc_trial_concat_plot_df = get_plot_df(area_taus_dict['sttc_trial_concat'+trial_postfix_], brain_areas_axes_ticks, 'sttc_trial_concat')\n",
    "    \n",
    "    plot_df_concat = pd.concat([acf_full_plot_df, \n",
    "                                acf_isttc_full_plot_df, \n",
    "                                pearsonr_trial_avg_plot_df, \n",
    "                                sttc_trial_avg_plot_df, \n",
    "                                sttc_trial_concat_plot_df])\n",
    "    plot_df_concat.reset_index(inplace=True, drop=True)\n",
    "    \n",
    "    fig, axes = plt.subplots(2, 4, figsize=(10, 4), sharey=False)\n",
    "    plt.subplots_adjust(hspace=0.4, wspace=0.4)\n",
    "    \n",
    "    for i in range(4):\n",
    "        area_df_ordered, error_bars = get_brain_area_df(plot_df_concat, brain_areas_axes_ticks[i])\n",
    "        for j, (cond, tau, err_low, err_high) in enumerate(zip(methods, area_df_ordered['tau'].values, \n",
    "                                                               error_bars[0], error_bars[1])):\n",
    "            axes[0,i].errorbar(cond, tau, yerr=[[err_low], [err_high]], fmt='o', capsize=5, capthick=2, markersize=6, color='slategray')\n",
    "            axes[0,i].set_title(f'{brain_areas_names[i]}({brain_areas_axes_ticks[i]})')\n",
    "    \n",
    "    for i in range(4, 8):\n",
    "        area_df_ordered, error_bars = get_brain_area_df(plot_df_concat, brain_areas_axes_ticks[i])\n",
    "        for jj, (cond, tau, err_low, err_high) in enumerate(zip(methods, area_df_ordered['tau'].values, \n",
    "                                                               error_bars[0], error_bars[1])):\n",
    "            axes[1,i-4].errorbar(cond, tau, yerr=[[err_low], [err_high]], fmt='o', capsize=5, capthick=2, markersize=6, color='slategray')\n",
    "            axes[1,i-4].set_title(f'{brain_areas_names[i]}({brain_areas_axes_ticks[i]})')\n",
    "       \n",
    "    axes[0,0].set_ylabel('Intrinsic timescale (ms)', fontsize=8)\n",
    "    axes[1,0].set_ylabel('Intrinsic timescale (ms)', fontsize=8)\n",
    "    \n",
    "    for ax in axes.flat:\n",
    "        ax.grid(True, linestyle='--', alpha=0.5)\n",
    "        ax.set_xticks(['acf_full', 'isttc_full', 'pearsonr_trial_avg','sttc_trial_avg', 'sttc_trial_concat'])\n",
    "        ax.set_xticklabels([])\n",
    "        ax.set_xlim([-0.5, 4.5])\n",
    "    \n",
    "    for ax in axes.flat[4:]:\n",
    "        ax.set_xticks(['acf_full', 'isttc_full', 'pearsonr_trial_avg','sttc_trial_avg', 'sttc_trial_concat'])\n",
    "        ax.set_xticklabels(['ACF full', 'iSTTC full', 'Pearson trial avg', 'STTC trial avg', 'STTC trial concat'], \n",
    "                           rotation=45, ha='right', fontsize=8)\n",
    "    \n",
    "    #plt.subplots_adjust(left=.5) \n",
    "        \n",
    "    sns.despine()\n",
    "    \n",
    "    if save_fig:\n",
    "        fig.savefig(fig_folder + 'tau_per_area_5methods_' + trial_postfix_ + '.png', bbox_inches='tight', dpi=300)\n",
    "        fig.savefig(fig_folder + 'tau_per_area_5methods_' + trial_postfix_ + '.svg', bbox_inches='tight')"
   ]
  },
  {
   "cell_type": "code",
   "execution_count": null,
   "id": "d0dfd0c3-7dde-4650-b690-67ad05906b11",
   "metadata": {},
   "outputs": [],
   "source": [
    "plot_per_area('_mean')"
   ]
  },
  {
   "cell_type": "code",
   "execution_count": null,
   "id": "55b58cee-b6c4-4d95-89c8-2147d7a8bb08",
   "metadata": {},
   "outputs": [],
   "source": [
    "plot_per_area('')"
   ]
  },
  {
   "cell_type": "code",
   "execution_count": null,
   "id": "0d5a8d65-c1ff-4e7e-813c-42bf5ebc0438",
   "metadata": {},
   "outputs": [],
   "source": [
    "plot_per_area('_random')"
   ]
  },
  {
   "cell_type": "markdown",
   "id": "3e9e1303-197c-438a-b19d-8340aa8e70ed",
   "metadata": {},
   "source": [
    "#### Plot taus using heatmap"
   ]
  },
  {
   "cell_type": "code",
   "execution_count": null,
   "id": "7558e1ab-7c22-4270-a58c-bf11be05b6da",
   "metadata": {},
   "outputs": [],
   "source": [
    "def plot_tau_per_area_heatmap(trial_postfix_):\n",
    "    acf_full_plot_df = get_plot_df(area_taus_dict['acf_full'], brain_areas_axes_ticks, 'acf_full')\n",
    "    acf_isttc_full_plot_df = get_plot_df(area_taus_dict['isttc_full'], brain_areas_axes_ticks, 'isttc_full')\n",
    "    pearsonr_trial_avg_plot_df = get_plot_df(area_taus_dict['pearsonr_trial_avg'+trial_postfix_], brain_areas_axes_ticks, 'pearsonr_trial_avg')\n",
    "    sttc_trial_avg_plot_df = get_plot_df(area_taus_dict['sttc_trial_avg'+trial_postfix_], brain_areas_axes_ticks, 'sttc_trial_avg')\n",
    "    sttc_trial_concat_plot_df = get_plot_df(area_taus_dict['sttc_trial_concat'+trial_postfix_], brain_areas_axes_ticks, 'sttc_trial_concat')\n",
    "    \n",
    "    plot_df_concat = pd.concat([acf_full_plot_df, \n",
    "                                acf_isttc_full_plot_df, \n",
    "                                pearsonr_trial_avg_plot_df, \n",
    "                                sttc_trial_avg_plot_df, \n",
    "                                sttc_trial_concat_plot_df])\n",
    "    plot_df_concat.reset_index(inplace=True, drop=True)\n",
    "\n",
    "    heatmap_plot_df_concat = plot_df_concat.pivot(index='method', columns='area', values='tau')\n",
    "    sorted_columns = heatmap_plot_df_concat.loc['isttc_full'].sort_values(ascending=True).index\n",
    "    heatmap_plot_df_concat_sorted = heatmap_plot_df_concat[sorted_columns]\n",
    "\n",
    "    fig, axes = plt.subplots(1, 1, figsize=(5, 4), sharey=False)\n",
    "\n",
    "    sns.heatmap(heatmap_plot_df_concat_sorted, annot=True, fmt=\".0f\", cmap=\"magma\", ax=axes)\n",
    "    axes.set_ylabel('Method')\n",
    "    axes.set_xlabel('Area')\n",
    "\n",
    "    axes.set_xticklabels([f\"{brain_areas_names[brain_areas_axes_ticks.index(col)]}({col})\" for col in sorted_columns],\n",
    "                         rotation=45, ha='right')\n",
    "\n",
    "    if save_fig:\n",
    "        fig.savefig(fig_folder + 'tau_per_area_5methods_heatmap_' + trial_postfix_ + '.png', bbox_inches='tight', dpi=300)\n",
    "        fig.savefig(fig_folder + 'tau_per_area_5methods_heatmap_' + trial_postfix_ + '.svg', bbox_inches='tight')\n"
   ]
  },
  {
   "cell_type": "code",
   "execution_count": null,
   "id": "d9c075b3-71ce-4124-a62d-c5bb720baf8d",
   "metadata": {},
   "outputs": [],
   "source": [
    "plot_tau_per_area_heatmap('')"
   ]
  },
  {
   "cell_type": "code",
   "execution_count": null,
   "id": "a917f0f6-8eda-473c-85ad-9276bd6e63b1",
   "metadata": {},
   "outputs": [],
   "source": [
    "plot_tau_per_area_heatmap('_mean')"
   ]
  },
  {
   "cell_type": "code",
   "execution_count": null,
   "id": "44e345ef-7806-4b6c-853c-c87989f743bf",
   "metadata": {},
   "outputs": [],
   "source": [
    "plot_tau_per_area_heatmap('_random')"
   ]
  },
  {
   "cell_type": "code",
   "execution_count": null,
   "id": "8d417870-f9d2-4b23-b626-32127594fe9d",
   "metadata": {},
   "outputs": [],
   "source": [
    "def plot_tau_diff_per_area_heatmap(trial_postfix_):\n",
    "    acf_full_plot_df = get_plot_df(area_taus_dict['acf_full'], brain_areas_axes_ticks, 'acf_full')\n",
    "    acf_isttc_full_plot_df = get_plot_df(area_taus_dict['isttc_full'], brain_areas_axes_ticks, 'isttc_full')\n",
    "    pearsonr_trial_avg_plot_df = get_plot_df(area_taus_dict['pearsonr_trial_avg'+trial_postfix_], brain_areas_axes_ticks, 'pearsonr_trial_avg')\n",
    "    sttc_trial_avg_plot_df = get_plot_df(area_taus_dict['sttc_trial_avg'+trial_postfix_], brain_areas_axes_ticks, 'sttc_trial_avg')\n",
    "    sttc_trial_concat_plot_df = get_plot_df(area_taus_dict['sttc_trial_concat'+trial_postfix_], brain_areas_axes_ticks, 'sttc_trial_concat')\n",
    "    \n",
    "    plot_df_concat = pd.concat([acf_full_plot_df, \n",
    "                                acf_isttc_full_plot_df, \n",
    "                                pearsonr_trial_avg_plot_df, \n",
    "                                sttc_trial_avg_plot_df, \n",
    "                                sttc_trial_concat_plot_df])\n",
    "    plot_df_concat.reset_index(inplace=True, drop=True)\n",
    "\n",
    "    heatmap_plot_df_concat = plot_df_concat.pivot(index='method', columns='area', values='tau')\n",
    "    sorted_columns = heatmap_plot_df_concat.loc['isttc_full'].sort_values(ascending=True).index\n",
    "    heatmap_plot_df_concat_sorted = heatmap_plot_df_concat[sorted_columns]\n",
    "\n",
    "    # Subtract 'acf_full' from all rows (broadcast across columns)\n",
    "    diff_df = heatmap_plot_df_concat_sorted.subtract(heatmap_plot_df_concat_sorted.loc['acf_full'], axis=1)\n",
    "    # Drop the acf_full row itself, since it's the baseline (diff = 0)\n",
    "    diff_df = diff_df.drop(index='acf_full')\n",
    "    diff_long = diff_df.reset_index().melt(id_vars='method', var_name='area', value_name='tau_diff')\n",
    "\n",
    "    fig, axes = plt.subplots(1, 1, figsize=(7, 3), sharey=False)\n",
    "\n",
    "    sns.heatmap(diff_df, annot=True, fmt=\".1f\", center=0, cmap=\"coolwarm\", linewidths=0, ax=axes)\n",
    "    axes.set_ylabel('Method')\n",
    "    axes.set_xlabel('Area')\n",
    "\n",
    "    axes.set_xticklabels([f\"{brain_areas_names[brain_areas_axes_ticks.index(col)]}({col})\" for col in sorted_columns],\n",
    "                     rotation=45, ha='right')\n",
    "\n",
    "    if save_fig:\n",
    "        fig.savefig(fig_folder + 'tau_per_area_5methods_heatmap_diff_' + trial_postfix_ + '.png', bbox_inches='tight', dpi=300)\n",
    "        fig.savefig(fig_folder + 'tau_per_area_5methods_heatmap_diff_' + trial_postfix_ + '.svg', bbox_inches='tight')"
   ]
  },
  {
   "cell_type": "code",
   "execution_count": null,
   "id": "dd05ec30-b16b-4e56-a22c-7d43566277ab",
   "metadata": {},
   "outputs": [],
   "source": [
    "plot_tau_diff_per_area_heatmap('')"
   ]
  },
  {
   "cell_type": "code",
   "execution_count": null,
   "id": "4903f276-6ec5-4ff9-9719-afc68a48f747",
   "metadata": {},
   "outputs": [],
   "source": [
    "plot_tau_diff_per_area_heatmap('_mean')"
   ]
  },
  {
   "cell_type": "code",
   "execution_count": null,
   "id": "83ec930e-64da-4238-a04b-0f9d2a302373",
   "metadata": {},
   "outputs": [],
   "source": [
    "plot_tau_diff_per_area_heatmap('_random')"
   ]
  },
  {
   "cell_type": "code",
   "execution_count": null,
   "id": "b63df669-ceb6-4438-9076-f10b33b1a6d0",
   "metadata": {},
   "outputs": [],
   "source": [
    "def plot_tau_diff_per_area_stripplot(trial_postfix_):\n",
    "    acf_full_plot_df = get_plot_df(area_taus_dict['acf_full'], brain_areas_axes_ticks, 'acf_full')\n",
    "    acf_isttc_full_plot_df = get_plot_df(area_taus_dict['isttc_full'], brain_areas_axes_ticks, 'isttc_full')\n",
    "    pearsonr_trial_avg_plot_df = get_plot_df(area_taus_dict['pearsonr_trial_avg'+trial_postfix_], brain_areas_axes_ticks, 'pearsonr_trial_avg')\n",
    "    sttc_trial_avg_plot_df = get_plot_df(area_taus_dict['sttc_trial_avg'+trial_postfix_], brain_areas_axes_ticks, 'sttc_trial_avg')\n",
    "    sttc_trial_concat_plot_df = get_plot_df(area_taus_dict['sttc_trial_concat'+trial_postfix_], brain_areas_axes_ticks, 'sttc_trial_concat')\n",
    "    \n",
    "    plot_df_concat = pd.concat([acf_full_plot_df, \n",
    "                                acf_isttc_full_plot_df, \n",
    "                                pearsonr_trial_avg_plot_df, \n",
    "                                sttc_trial_avg_plot_df, \n",
    "                                sttc_trial_concat_plot_df])\n",
    "    plot_df_concat.reset_index(inplace=True, drop=True)\n",
    "\n",
    "    heatmap_plot_df_concat = plot_df_concat.pivot(index='method', columns='area', values='tau')\n",
    "    sorted_columns = heatmap_plot_df_concat.loc['isttc_full'].sort_values(ascending=True).index\n",
    "    heatmap_plot_df_concat_sorted = heatmap_plot_df_concat[sorted_columns]\n",
    "\n",
    "    # Subtract 'acf_full' from all rows (broadcast across columns)\n",
    "    diff_df = heatmap_plot_df_concat_sorted.subtract(heatmap_plot_df_concat_sorted.loc['acf_full'], axis=1)\n",
    "    # Drop the acf_full row itself, since it's the baseline (diff = 0)\n",
    "    diff_df = diff_df.drop(index='acf_full')\n",
    "    diff_long = diff_df.reset_index().melt(id_vars='method', var_name='area', value_name='tau_diff')\n",
    "\n",
    "    fig, axes = plt.subplots(1, 1, figsize=(7, 3), sharey=False)\n",
    "\n",
    "    sns.stripplot(data=diff_long, x='method', y='tau_diff', jitter=True, alpha=0.7, ax=axes)\n",
    "    axes.axhline(0, color='gray', linestyle='--')\n",
    "    \n",
    "    axes.set_ylabel('Tau Difference')\n",
    "    axes.set_xlabel('Method')\n",
    "    #axes.set_xticklabels(rotation=45, ha='right', fontsize=8)\n",
    "    \n",
    "    axes.set_xticks(['isttc_full', 'pearsonr_trial_avg','sttc_trial_avg', 'sttc_trial_concat'])\n",
    "    axes.set_xticklabels(['iSTTC full', 'Pearson trial avg', 'STTC trial avg', 'STTC trial concat'], \n",
    "                       rotation=45, ha='right', fontsize=8)\n",
    "\n",
    "    sns.despine(ax=axes)\n",
    "\n",
    "    if save_fig:\n",
    "        fig.savefig(fig_folder + 'tau_per_area_5methods_stripplot_diff_' + trial_postfix_ + '.png', bbox_inches='tight', dpi=300)\n",
    "        fig.savefig(fig_folder + 'tau_per_area_5methods_stripplot_diff_' + trial_postfix_ + '.svg', bbox_inches='tight')"
   ]
  },
  {
   "cell_type": "code",
   "execution_count": null,
   "id": "762c3fb4-b799-4dc7-a578-338edd2ab418",
   "metadata": {},
   "outputs": [],
   "source": [
    "plot_tau_diff_per_area_stripplot('')"
   ]
  },
  {
   "cell_type": "code",
   "execution_count": null,
   "id": "78eee0ca-03f7-48ee-ba40-5099b7256bd4",
   "metadata": {},
   "outputs": [],
   "source": [
    "plot_tau_diff_per_area_stripplot('_mean')"
   ]
  },
  {
   "cell_type": "code",
   "execution_count": null,
   "id": "752c7ec1-0d1e-4c36-96b7-da35853ac68e",
   "metadata": {},
   "outputs": [],
   "source": [
    "plot_tau_diff_per_area_stripplot('_random')"
   ]
  }
 ],
 "metadata": {
  "kernelspec": {
   "display_name": "Python 3 (ipykernel)",
   "language": "python",
   "name": "python3"
  },
  "language_info": {
   "codemirror_mode": {
    "name": "ipython",
    "version": 3
   },
   "file_extension": ".py",
   "mimetype": "text/x-python",
   "name": "python",
   "nbconvert_exporter": "python",
   "pygments_lexer": "ipython3",
   "version": "3.12.9"
  }
 },
 "nbformat": 4,
 "nbformat_minor": 5
}
