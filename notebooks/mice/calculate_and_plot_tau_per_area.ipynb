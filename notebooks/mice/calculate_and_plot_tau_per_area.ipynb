{
 "cells": [
  {
   "cell_type": "markdown",
   "id": "2e2320d4-37db-4a9f-ae22-78ad912e968c",
   "metadata": {},
   "source": [
    "Calculate taus:\n",
    "\n",
    "full signal:\n",
    "1. ACF full\n",
    "2. iSTTC full\n",
    "   \n",
    "trial average style:\n",
    "1. Pearsonr trial avg\n",
    "2. iSTTC trial avg\n",
    "3. iSTTC trial concat"
   ]
  },
  {
   "cell_type": "code",
   "execution_count": 1,
   "id": "4a5c618e-ef3a-4d40-959f-09191178be54",
   "metadata": {},
   "outputs": [],
   "source": [
    "import numpy as np\n",
    "import pandas as pd\n",
    "import pickle\n",
    "import matplotlib.pyplot as plt\n",
    "import seaborn as sns\n",
    "\n",
    "# import from scripts\n",
    "import os\n",
    "current_wd = os.getcwd()\n",
    "os.chdir(os.path.abspath(\"..\\\\..\\\\..\\\\isttc\\\\scripts\"))\n",
    "#os.chdir(os.path.abspath(\"C:\\\\Users\\\\ipoch\\\\Documents\\\\repos\\\\isttc\\\\scripts\"))\n",
    "from calculate_tau import fit_single_exp, fit_single_exp_2d, func_single_exp, func_single_exp_monkey\n",
    "from cfg_global import project_folder_path\n",
    "os.chdir(current_wd)"
   ]
  },
  {
   "cell_type": "code",
   "execution_count": 2,
   "id": "721a31e0-045a-47d5-b095-76ba184ff466",
   "metadata": {},
   "outputs": [],
   "source": [
    "dataset_folder = project_folder_path + 'results\\\\allen_mice\\\\dataset\\\\cut_30min\\\\'\n",
    "fig_folder = project_folder_path + 'results\\\\allen_mice\\\\fig_draft_paper\\\\'"
   ]
  },
  {
   "cell_type": "markdown",
   "id": "497bb72c-279f-43ef-b73b-3ce78a697037",
   "metadata": {},
   "source": [
    "### Load data"
   ]
  },
  {
   "cell_type": "code",
   "execution_count": 3,
   "id": "788c1d56-63cb-4cdf-a2d1-a088107e2e48",
   "metadata": {},
   "outputs": [
    {
     "name": "stdout",
     "output_type": "stream",
     "text": [
      "acf_cols ['acf_0', 'acf_1', 'acf_2', 'acf_3', 'acf_4', 'acf_5', 'acf_6', 'acf_7', 'acf_8', 'acf_9', 'acf_10', 'acf_11', 'acf_12', 'acf_13', 'acf_14', 'acf_15', 'acf_16', 'acf_17', 'acf_18', 'acf_19', 'acf_20']\n"
     ]
    }
   ],
   "source": [
    "n_lags = 20\n",
    "acf_cols = ['acf_' + str(i) for i in range(n_lags+1)]\n",
    "print('acf_cols {}'.format(acf_cols))"
   ]
  },
  {
   "cell_type": "code",
   "execution_count": null,
   "id": "a15b90fe-d962-488f-b21e-bc9259c1404d",
   "metadata": {},
   "outputs": [],
   "source": [
    "units_info_df = pd.read_pickle(dataset_folder + 'sua_list_constrained_units_df.pkl')\n",
    "units_info_df_subset = units_info_df[['unit_id', 'ecephys_structure_acronym']].copy()\n",
    "units_info_df_subset.head(2)"
   ]
  },
  {
   "cell_type": "code",
   "execution_count": 4,
   "id": "f71ba6c3-7895-4508-be06-a62046b7d137",
   "metadata": {},
   "outputs": [],
   "source": [
    "acf_full_df_file = dataset_folder + 'binned\\\\acf\\\\acf_full_50ms_20lags_df.pkl'\n",
    "acf_full_df = pd.read_pickle(acf_full_df_file)\n",
    "\n",
    "acf_isttc_full_df_file = dataset_folder + 'non_binned\\\\acf\\\\acf_isttc_full_50ms_20lags_df.pkl'\n",
    "acf_isttc_full_df = pd.read_pickle(acf_isttc_full_df_file)"
   ]
  },
  {
   "cell_type": "code",
   "execution_count": null,
   "id": "6af7bcfa-bca7-4c21-beb0-eb3b2b9ffc88",
   "metadata": {},
   "outputs": [],
   "source": [
    "with open(dataset_folder + 'binned\\\\acf\\\\pearsonr_trial_avg_50ms_20lags_dict.pkl', \"rb\") as f:\n",
    "    pearsonr_trial_avg_dict = pickle.load(f)\n",
    "print(f'N signals in pearsonr_trial_avg_tau_dict {len(pearsonr_trial_avg_dict)}')\n",
    "\n",
    "# for trial based get acf per unit (in dict acf per trials are stored)\n",
    "unit_id_l = []\n",
    "pearsonr_trial_avg_acf_l = []\n",
    "for k,v in pearsonr_trial_avg_dict.items():\n",
    "    #print(f'Unit {k}...')\n",
    "    unit_id_l.append(k)\n",
    "    pearsonr_trial_avg_acf_l.append(np.nanmedian(v['acf'], axis=0))\n",
    "\n",
    "pearsonr_trial_avg_acf_df = pd.DataFrame(np.asarray(pearsonr_trial_avg_acf_l), columns=acf_cols[:-1])\n",
    "pearsonr_trial_avg_acf_df.insert(0, 'unit_id', unit_id_l)\n",
    "pearsonr_trial_avg_acf_df = pd.merge(pearsonr_trial_avg_acf_df, units_info_df_subset, on='unit_id', how='left')"
   ]
  },
  {
   "cell_type": "code",
   "execution_count": null,
   "id": "facb5b8d-1d2f-47fb-b0ae-997913013352",
   "metadata": {},
   "outputs": [],
   "source": [
    "with open(dataset_folder + 'non_binned\\\\acf\\\\sttc_trial_avg_50ms_20lags_0_2000_dict.pkl', \"rb\") as f:\n",
    "    sttc_trial_avg_dict = pickle.load(f)\n",
    "print(f'N signals in sttc_trial_avg_dict {len(sttc_trial_avg_dict)}')\n",
    "\n",
    "# for trial based get acf per unit (in dict acf per trials are stored)\n",
    "unit_id_l = []\n",
    "sttc_trial_avg_acf_l = []\n",
    "for k,v in sttc_trial_avg_dict.items():\n",
    "    #print(f'Unit {k}...')\n",
    "    unit_id_l.append(k)\n",
    "    sttc_trial_avg_acf_l.append(np.nanmedian(v['acf'], axis=0))\n",
    "\n",
    "sttc_trial_avg_acf_df = pd.DataFrame(np.asarray(sttc_trial_avg_acf_l), columns=acf_cols[:-1])\n",
    "sttc_trial_avg_acf_df.insert(0, 'unit_id', unit_id_l)\n",
    "sttc_trial_avg_acf_df = pd.merge(sttc_trial_avg_acf_df, units_info_df_subset, on='unit_id', how='left')"
   ]
  },
  {
   "cell_type": "code",
   "execution_count": null,
   "id": "89e923b4-0550-4c89-8e8f-0dd99a7dd591",
   "metadata": {},
   "outputs": [],
   "source": [
    "with open(dataset_folder + 'non_binned\\\\acf\\\\sttc_trial_concat_50ms_20lags_0_50_dict.pkl', \"rb\") as f:\n",
    "    sttc_trial_concat_dict = pickle.load(f)\n",
    "print(f'N signals in sttc_trial_avg_dict {len(sttc_trial_concat_dict)}')\n",
    "\n",
    "# for trial based get acf per unit (in dict acf per trials are stored)\n",
    "unit_id_l = []\n",
    "sttc_trial_concat_acf_l = []\n",
    "for k,v in sttc_trial_concat_dict.items():\n",
    "    #print(f'Unit {k}...')\n",
    "    unit_id_l.append(k)\n",
    "    sttc_trial_concat_acf_l.append(np.nanmean(v['acf'], axis=0))\n",
    "\n",
    "sttc_trial_concat_acf_df = pd.DataFrame(np.asarray(sttc_trial_concat_acf_l), columns=acf_cols)\n",
    "sttc_trial_concat_acf_df.insert(0, 'unit_id', unit_id_l)\n",
    "sttc_trial_concat_acf_df = pd.merge(sttc_trial_concat_acf_df, units_info_df_subset, on='unit_id', how='left')"
   ]
  },
  {
   "cell_type": "code",
   "execution_count": null,
   "id": "22f57a5a-800f-4ec0-9850-da0d46999405",
   "metadata": {},
   "outputs": [],
   "source": [
    "sttc_trial_concat_acf_df.head()"
   ]
  },
  {
   "cell_type": "markdown",
   "id": "625c1a27-83c7-486e-9068-c74c489b6b8b",
   "metadata": {},
   "source": [
    "### Calculate taus\n",
    "\n",
    "Get all ACF for an area and then fit exponential decay to all points (no mean area ACF)"
   ]
  },
  {
   "cell_type": "markdown",
   "id": "b49a508d-5cb6-4e40-a3fa-a55ef38cce4c",
   "metadata": {},
   "source": [
    "#### Per area"
   ]
  },
  {
   "cell_type": "code",
   "execution_count": 5,
   "id": "8d4aab67-1a7a-49fd-8409-2d8b183c45da",
   "metadata": {},
   "outputs": [],
   "source": [
    "def calc_population_tau_2d(acf_df_, acf_cols_, start_idx_, func_to_fit_):\n",
    "    acf_2d = acf_df_[acf_cols_].values\n",
    "    fit_popt, fit_pcov, tau, tau_ci, fit_r_squared, explained_var, log_message = fit_single_exp_2d(acf_2d, start_idx_, func_to_fit_)\n",
    "    print(f'tau {tau*50}, 95% CI {tau_ci[0]*50},{tau_ci[1]*50}')\n",
    "    print(explained_var)\n",
    "    return {'tau_ms':tau*50,\n",
    "            'tau_lower_ms':tau_ci[0]*50, \n",
    "            'tau_upper_ms':tau_ci[1]*50, \n",
    "            'fit_r_squared': fit_r_squared, \n",
    "            'explained_var': explained_var, \n",
    "            'popt': fit_popt}"
   ]
  },
  {
   "cell_type": "code",
   "execution_count": 6,
   "id": "b9a43eba-cf2c-4f40-9ed8-a98a9c57daa2",
   "metadata": {},
   "outputs": [
    {
     "name": "stdout",
     "output_type": "stream",
     "text": [
      "brain_areas ['VISam' 'LP' 'VISp' 'VISl' 'LGd' 'VISal' 'VISrl' 'VISpm']\n"
     ]
    }
   ],
   "source": [
    "brain_areas = acf_full_df['ecephys_structure_acronym'].unique()\n",
    "print(f'brain_areas {brain_areas}')"
   ]
  },
  {
   "cell_type": "code",
   "execution_count": 7,
   "id": "fb8f51d3-da87-43d0-9d13-918fd17186c9",
   "metadata": {},
   "outputs": [
    {
     "name": "stdout",
     "output_type": "stream",
     "text": [
      "processing area VISam\n",
      "N units for brain area VISam: 912\n",
      "tau 336.07320279984594, 95% CI 299.7883635744778,372.3580420252141\n",
      "0.1690827353887845\n",
      "processing area LP\n",
      "N units for brain area LP: 599\n",
      "tau 257.53315535707674, 95% CI 232.53166108308338,282.53464963107007\n",
      "0.21579454321067415\n",
      "processing area VISp\n",
      "N units for brain area VISp: 1063\n",
      "tau 319.66687594979885, 95% CI 295.8336673894851,343.50008451011263\n",
      "0.25481240042972364\n",
      "processing area VISl\n",
      "N units for brain area VISl: 727\n",
      "tau 309.8334693807622, 95% CI 279.6725253656186,339.99441339590584\n",
      "0.219603529405757\n",
      "processing area LGd\n",
      "N units for brain area LGd: 254\n",
      "tau 333.6651172846553, 95% CI 263.42844626777025,403.9017883015403\n",
      "0.15990826404969227\n",
      "processing area VISal\n",
      "N units for brain area VISal: 928\n",
      "tau 308.2366813382866, 95% CI 279.836254746488,336.63710793008516\n",
      "0.19632271233413445\n",
      "processing area VISrl\n",
      "N units for brain area VISrl: 706\n",
      "tau 231.96038579674854, 95% CI 209.99032181396763,253.93044977952943\n",
      "0.1802396785978574\n",
      "processing area VISpm\n",
      "N units for brain area VISpm: 586\n",
      "tau 355.8784731752373, 95% CI 309.0139906114747,402.7429557389998\n",
      "0.18757535692954574\n"
     ]
    }
   ],
   "source": [
    "acf_full_taus_dict = {}\n",
    "\n",
    "for area in brain_areas:\n",
    "    print(f'processing area {area}')\n",
    "    acf_full_df_area = acf_full_df.query('ecephys_structure_acronym == @area').copy()\n",
    "    print(f'N units for brain area {area}: {len(acf_full_df_area)}')\n",
    "    acf_full_taus_dict[area] = calc_population_tau_2d(acf_full_df_area, acf_cols, 2, func_single_exp_monkey)"
   ]
  },
  {
   "cell_type": "code",
   "execution_count": 21,
   "id": "af145b73-9156-4c4f-8027-c3d4cab4ef13",
   "metadata": {},
   "outputs": [
    {
     "name": "stdout",
     "output_type": "stream",
     "text": [
      "processing area VISam\n",
      "N units for brain area VISam: 912\n",
      "tau 399.85502484853595, 95% CI 351.1653173604175,448.5447323366545\n",
      "0.17114864814808872\n",
      "processing area LP\n",
      "N units for brain area LP: 599\n",
      "tau 251.9800373261191, 95% CI 229.890767117619,274.06930753461916\n",
      "0.2477131508303504\n",
      "processing area VISp\n",
      "N units for brain area VISp: 1063\n",
      "tau 331.80729062303647, 95% CI 306.444900795542,357.1696804505309\n",
      "0.25497363660932293\n",
      "processing area VISl\n",
      "N units for brain area VISl: 727\n",
      "tau 348.4925631627867, 95% CI 313.59680778283695,383.3883185427365\n",
      "0.2380076042226681\n",
      "processing area LGd\n",
      "N units for brain area LGd: 254\n",
      "tau 327.15158569051005, 95% CI 257.0918279682532,397.2113434127669\n",
      "0.1521606469800606\n",
      "processing area VISal\n",
      "N units for brain area VISal: 928\n",
      "tau 354.0455080223492, 95% CI 318.747327109247,389.3436889354514\n",
      "0.2015809226244123\n",
      "processing area VISrl\n",
      "N units for brain area VISrl: 706\n",
      "tau 250.81044948684777, 95% CI 224.04853974468267,277.5723592290129\n",
      "0.15793493592426233\n",
      "processing area VISpm\n",
      "N units for brain area VISpm: 586\n",
      "tau 408.1376538197808, 95% CI 347.9130887252791,468.3622189142824\n",
      "0.18419190374677163\n"
     ]
    }
   ],
   "source": [
    "acf_isttc_full_taus_dict = {}\n",
    "\n",
    "for area in brain_areas:\n",
    "    print(f'processing area {area}')\n",
    "    acf_isttc_full_df_area = acf_isttc_full_df.query('ecephys_structure_acronym == @area').copy()\n",
    "    print(f'N units for brain area {area}: {len(acf_isttc_full_df_area)}')\n",
    "    acf_isttc_full_taus_dict[area] = calc_population_tau_2d(acf_isttc_full_df_area, acf_cols, 2, func_single_exp_monkey)"
   ]
  },
  {
   "cell_type": "code",
   "execution_count": null,
   "id": "068e2f2f-b764-469c-bfa4-70aa94a1509a",
   "metadata": {},
   "outputs": [],
   "source": [
    "temp_df = pearsonr_trial_avg_acf_df.query('ecephys_structure_acronym == @brain_areas[0]').copy()\n",
    "temp_df"
   ]
  },
  {
   "cell_type": "code",
   "execution_count": null,
   "id": "af5cad61-b8e6-4161-8ba1-53dd758ae1a9",
   "metadata": {},
   "outputs": [],
   "source": [
    "n_rows_with_nan = len(temp_df[temp_df.isna().any(axis=1)])\n",
    "n_rows_with_nan"
   ]
  },
  {
   "cell_type": "code",
   "execution_count": null,
   "id": "08e1587f-c644-41ad-87c8-2aeb04a29b05",
   "metadata": {},
   "outputs": [],
   "source": [
    "acf_pearsonr_trial_avg_taus_dict = {}\n",
    "\n",
    "for area in brain_areas:\n",
    "    print(f'processing area {area}')\n",
    "    pearsonr_trial_avg_acf_df_area = pearsonr_trial_avg_acf_df.query('ecephys_structure_acronym == @area').copy()\n",
    "    print(f'N units for brain area {area}: {len(pearsonr_trial_avg_acf_df_area)}')\n",
    "    n_rows_with_nan = len(pearsonr_trial_avg_acf_df_area[pearsonr_trial_avg_acf_df_area.isna().any(axis=1)])\n",
    "    pearsonr_trial_avg_acf_df_area.dropna(inplace=True)\n",
    "    print(f'N n_rows_with_nan {n_rows_with_nan} for brain area {area}, removing... new N units: {len(pearsonr_trial_avg_acf_df_area)}')\n",
    "    if len(pearsonr_trial_avg_acf_df_area) > 0:\n",
    "        acf_pearsonr_trial_avg_taus_dict[area] = calc_population_tau_2d(pearsonr_trial_avg_acf_df_area, acf_cols[:-1], 2, func_single_exp_monkey)"
   ]
  },
  {
   "cell_type": "code",
   "execution_count": null,
   "id": "d952218c-da7d-4262-af54-fc0f71514447",
   "metadata": {},
   "outputs": [],
   "source": [
    "pearsonr_trial_avg_acf_df.head(10)"
   ]
  },
  {
   "cell_type": "code",
   "execution_count": null,
   "id": "e14b0aa3-5f7f-41b4-a5a6-ab1aeb7f79be",
   "metadata": {},
   "outputs": [],
   "source": [
    "sttc_trial_avg_acf_df.head(10)"
   ]
  },
  {
   "cell_type": "code",
   "execution_count": null,
   "id": "30c373e2-a7e9-40bc-9c71-e4a95f39053f",
   "metadata": {},
   "outputs": [],
   "source": [
    "acf_sttc_trial_avg_taus_dict = {}\n",
    "\n",
    "for area in brain_areas:\n",
    "    print(f'processing area {area}')\n",
    "    sttc_trial_avg_acf_df_area = sttc_trial_avg_acf_df.query('ecephys_structure_acronym == @area').copy()\n",
    "    print(f'N units for brain area {area}: {len(sttc_trial_avg_acf_df_area)}')\n",
    "    if len(sttc_trial_avg_acf_df_area) > 0:\n",
    "        acf_sttc_trial_avg_taus_dict[area] = calc_population_tau_2d(sttc_trial_avg_acf_df_area, acf_cols[:-1], 2, func_single_exp_monkey)"
   ]
  },
  {
   "cell_type": "code",
   "execution_count": null,
   "id": "002f7b02-9a85-40da-a320-18f62123321d",
   "metadata": {},
   "outputs": [],
   "source": [
    "acf_sttc_trial_concat_taus_dict = {}\n",
    "\n",
    "for area in brain_areas:\n",
    "    print(f'processing area {area}')\n",
    "    sttc_trial_concat_acf_df_area = sttc_trial_concat_acf_df.query('ecephys_structure_acronym == @area').copy()\n",
    "    print(f'N units for brain area {area}: {len(sttc_trial_concat_acf_df_area)}')\n",
    "    if len(sttc_trial_concat_acf_df_area) > 0:\n",
    "        acf_sttc_trial_concat_taus_dict[area] = calc_population_tau_2d(sttc_trial_concat_acf_df_area, acf_cols, 2, func_single_exp_monkey)"
   ]
  },
  {
   "cell_type": "markdown",
   "id": "4af7f803-7497-4ff4-bc7d-b71878dd0625",
   "metadata": {},
   "source": [
    "### Plots"
   ]
  },
  {
   "cell_type": "code",
   "execution_count": 8,
   "id": "b9e6ee87-582e-4717-9b9b-7bccc11ac4ce",
   "metadata": {},
   "outputs": [],
   "source": [
    "save_fig=True"
   ]
  },
  {
   "cell_type": "code",
   "execution_count": 22,
   "id": "3013b142-3ac0-4307-9c8e-1ff914e2cedf",
   "metadata": {},
   "outputs": [],
   "source": [
    "color_acf_full = '#4783B4'\n",
    "color_isttc_full = '#E2552A'\n",
    "color_pearson_trail_avg = 'slategray' \n",
    "color_sttc_trail_avg =  '#E97451' #'chocolate' #'#D6A27A' # 'steelblue'\n",
    "color_sttc_trail_concat = '#B94E48' # '#9E5345' #'sandybrown'"
   ]
  },
  {
   "cell_type": "code",
   "execution_count": 10,
   "id": "1c8fce99-7eaa-41f8-9e7d-a9b752f6cec9",
   "metadata": {},
   "outputs": [],
   "source": [
    "brain_areas_axes_ticks = ['LGd', 'VISp', 'VISl', 'VISrl', 'LP', 'VISal', 'VISpm', 'VISam']\n",
    "brain_areas_names = ['LGN', 'V1', 'LM', 'RL', 'LP', 'AL', 'PM', 'AM']"
   ]
  },
  {
   "cell_type": "markdown",
   "id": "def02d56-b22e-4a10-b8ea-2d717635ff9d",
   "metadata": {},
   "source": [
    "#### Plot ACFs - individual acfs and area fit"
   ]
  },
  {
   "cell_type": "code",
   "execution_count": 11,
   "id": "dad903da-93ba-4b63-a9c9-8d0ab31c334a",
   "metadata": {},
   "outputs": [],
   "source": [
    "acf_full_df_area = acf_full_df.query('ecephys_structure_acronym == \"VISam\"').copy()\n",
    "pfdl_acf_2d = acf_full_df_area[acf_cols].values"
   ]
  },
  {
   "cell_type": "code",
   "execution_count": 23,
   "id": "0b1b4b21-9fc4-42e8-a465-5ac5ef101c63",
   "metadata": {},
   "outputs": [],
   "source": [
    "acf_isttc_full_df_area = acf_isttc_full_df.query('ecephys_structure_acronym == \"VISam\"').copy()\n",
    "pfdl_acf_isstc_2d = acf_isttc_full_df_area[acf_cols].values"
   ]
  },
  {
   "cell_type": "code",
   "execution_count": 13,
   "id": "409599d5-ebc8-46d4-93ea-c876ece068ea",
   "metadata": {},
   "outputs": [
    {
     "data": {
      "text/plain": [
       "{'tau_ms': np.float64(336.07320279984594),\n",
       " 'tau_lower_ms': np.float64(299.7883635744778),\n",
       " 'tau_upper_ms': np.float64(372.3580420252141),\n",
       " 'fit_r_squared': 0.1690827353887845,\n",
       " 'explained_var': 0.1690827353887845,\n",
       " 'popt': array([0.15066314, 6.72146406, 0.35991094])}"
      ]
     },
     "execution_count": 13,
     "metadata": {},
     "output_type": "execute_result"
    }
   ],
   "source": [
    "acf_full_taus_dict['VISam']"
   ]
  },
  {
   "cell_type": "code",
   "execution_count": 25,
   "id": "9d379834-93b4-4cd1-97bb-55df03ac7791",
   "metadata": {},
   "outputs": [
    {
     "data": {
      "image/png": "[encoded data removed]",
      "text/plain": [
       "<Figure size 1000x2000 with 40 Axes>"
      ]
     },
     "metadata": {},
     "output_type": "display_data"
    }
   ],
   "source": [
    "fig, axes = plt.subplots(8,5, figsize=(10,20), sharey=True)\n",
    "\n",
    "t = np.linspace(1, n_lags, n_lags).astype(int)\n",
    "t_labels = np.linspace(50, 1000, n_lags).astype(int)\n",
    "#print(t)\n",
    "#print(t_labels)\n",
    "\n",
    "pfdl_label = f\"ACF full: {int(acf_full_taus_dict['VISam']['tau_ms'])} ms, CI [{int(\n",
    "    acf_full_taus_dict['VISam']['tau_lower_ms'])},{int(\n",
    "    acf_full_taus_dict['VISam']['tau_upper_ms'])}] \\n (n={len(\n",
    "    acf_full_df_area)}, R-squared={np.round(acf_full_taus_dict['VISam']['fit_r_squared'], 3)})\"\n",
    "axes[0,0].plot(t, func_single_exp_monkey(t, *acf_full_taus_dict['VISam']['popt']), color=color_acf_full, label=pfdl_label)\n",
    "for ii in range(pfdl_acf_2d.shape[0]):\n",
    "    axes[0,0].plot(t, pfdl_acf_2d[ii, 1:], lw=0.2, color=color_acf_full, alpha=0.05)\n",
    "axes[0,0].set_title('VISam, ' + pfdl_label, fontsize=6, y=1.05)\n",
    "\n",
    "pfdl_label = f\"iSTTC full: {int(acf_isttc_full_taus_dict['VISam']['tau_ms'])} ms, CI [{int(\n",
    "    acf_isttc_full_taus_dict['VISam']['tau_lower_ms'])},{int(\n",
    "    acf_isttc_full_taus_dict['VISam']['tau_upper_ms'])}] \\n (n={len(\n",
    "    acf_isttc_full_df_area)}, R-squared={np.round(acf_isttc_full_taus_dict['VISam']['fit_r_squared'], 3)})\"\n",
    "axes[0,1].plot(t, func_single_exp_monkey(t, *acf_isttc_full_taus_dict['VISam']['popt']), color=color_isttc_full, label=pfdl_label)\n",
    "for ii in range(pfdl_acf_isstc_2d.shape[0]):\n",
    "    axes[0,1].plot(t, pfdl_acf_isstc_2d[ii, 1:], lw=0.2, color=color_isttc_full, alpha=0.05)\n",
    "axes[0,1].set_title('VISam, ' + pfdl_label, fontsize=6, y=1.05)\n",
    "\n",
    "\n",
    "\n",
    "for ax in axes.flat: \n",
    "    ax.plot(t, np.zeros(len(t)), lw=0.5, c='k')\n",
    "    #ax.set_xticks(t)\n",
    "    #ax.set_xticklabels(t_labels, rotation=90)\n",
    "    #ax.set_xlabel('Time lag (ms)')\n",
    "    #ax.set_ylabel('Autocorrelation (a.u.)')  \n",
    "\n",
    "sns.despine()"
   ]
  },
  {
   "cell_type": "markdown",
   "id": "2c9ad7e9-264a-4af2-b519-4f3d19a5e04f",
   "metadata": {},
   "source": [
    "#### Per method with confidence intervals"
   ]
  },
  {
   "cell_type": "code",
   "execution_count": null,
   "id": "2f302e19-5b64-4d8b-b332-260687a47aee",
   "metadata": {},
   "outputs": [],
   "source": [
    "def get_plot_df(acf_dict, areas, method):\n",
    "    tau = [acf_dict.get(c, {'tau_ms': np.nan})['tau_ms'] for c in areas]\n",
    "    tau_lower = [acf_dict.get(c, {'tau_lower_ms': np.nan})['tau_lower_ms'] for c in areas]\n",
    "    tau_upper = [acf_dict.get(c, {'tau_upper_ms': np.nan})['tau_upper_ms'] for c in areas]\n",
    "    \n",
    "    plot_df = pd.DataFrame({'area': areas, \n",
    "                                     'tau': tau,\n",
    "                                     'tau_lower': tau_lower, \n",
    "                                     'tau_upper': tau_upper, \n",
    "                                     'method': method})\n",
    "    return plot_df"
   ]
  },
  {
   "cell_type": "code",
   "execution_count": null,
   "id": "737120f5-5ead-43b1-a504-f6c6243d96bb",
   "metadata": {},
   "outputs": [],
   "source": [
    "acf_full_plot_df = get_plot_df(acf_full_taus_dict, brain_areas_axes_ticks, 'acf_full')\n",
    "acf_isttc_full_plot_df = get_plot_df(acf_isttc_full_taus_dict, brain_areas_axes_ticks, 'isttc_full')\n",
    "pearsonr_trial_avg_plot_df = get_plot_df(acf_pearsonr_trial_avg_taus_dict, brain_areas_axes_ticks, 'pearsonr_trial_avg')\n",
    "sttc_trial_avg_plot_df = get_plot_df(acf_sttc_trial_avg_taus_dict, brain_areas_axes_ticks, 'sttc_trial_avg')\n",
    "sttc_trial_concat_plot_df = get_plot_df(acf_sttc_trial_concat_taus_dict, brain_areas_axes_ticks, 'sttc_trial_concat')\n",
    "\n",
    "plot_df_concat = pd.concat([acf_full_plot_df, acf_isttc_full_plot_df, pearsonr_trial_avg_plot_df, sttc_trial_avg_plot_df, sttc_trial_concat_plot_df])\n",
    "plot_df_concat.reset_index(inplace=True, drop=True)\n",
    "plot_df_concat.head()"
   ]
  },
  {
   "cell_type": "code",
   "execution_count": null,
   "id": "1ba9acf6-1214-41f8-9542-7cc89dddb922",
   "metadata": {},
   "outputs": [],
   "source": [
    "acf_full_error_bars = [acf_full_plot_df['tau'].values - acf_full_plot_df['tau_lower'].values, \n",
    "                       acf_full_plot_df['tau_upper'].values - acf_full_plot_df['tau'].values]\n",
    "acf_isttc_full_error_bars = [acf_isttc_full_plot_df['tau'].values - acf_isttc_full_plot_df['tau_lower'].values, \n",
    "                       acf_isttc_full_plot_df['tau_upper'].values - acf_isttc_full_plot_df['tau'].values ]\n",
    "pearsonr_trial_avg_full_error_bars = [pearsonr_trial_avg_plot_df['tau'].values - pearsonr_trial_avg_plot_df['tau_lower'].values, \n",
    "                       pearsonr_trial_avg_plot_df['tau_upper'].values - pearsonr_trial_avg_plot_df['tau'].values ]\n",
    "sttc_trial_avg_full_error_bars = [sttc_trial_avg_plot_df['tau'].values - sttc_trial_avg_plot_df['tau_lower'].values, \n",
    "                       sttc_trial_avg_plot_df['tau_upper'].values - sttc_trial_avg_plot_df['tau'].values ]\n",
    "sttc_trial_concat_full_error_bars = [sttc_trial_concat_plot_df['tau'].values - sttc_trial_concat_plot_df['tau_lower'].values, \n",
    "                       sttc_trial_concat_plot_df['tau_upper'].values - sttc_trial_concat_plot_df['tau'].values ]\n",
    "\n",
    "fig, axes = plt.subplots(2, 3, figsize=(12, 5), sharey=False)\n",
    "plt.subplots_adjust(hspace=0.4, wspace=0.4)\n",
    "\n",
    "for i, (cond, tau, err_low, err_high) in enumerate(zip(brain_areas, acf_full_plot_df['tau'].values, \n",
    "                                                       acf_full_error_bars[0], acf_full_error_bars[1])):\n",
    "    axes[0,0].errorbar(cond, tau, yerr=[[err_low], [err_high]], fmt='o', capsize=5, capthick=2, markersize=8, color='slategray')\n",
    "axes[0,0].set_xticks(brain_areas_axes_ticks)\n",
    "axes[0,0].set_xticklabels(brain_areas_names)\n",
    "axes[0,0].set_title('ACF full, 95% CI')\n",
    "\n",
    "for i, (cond, tau, err_low, err_high) in enumerate(zip(brain_areas, acf_isttc_full_plot_df['tau'].values, \n",
    "                                                       acf_isttc_full_error_bars[0], acf_isttc_full_error_bars[1])):\n",
    "    axes[0,1].errorbar(cond, tau, yerr=[[err_low], [err_high]], fmt='o', capsize=5, capthick=2, markersize=8, color='slategray')\n",
    "axes[0,1].set_xticks(brain_areas_axes_ticks)\n",
    "axes[0,1].set_xticklabels(brain_areas_names)\n",
    "axes[0,1].set_title('ACF iSTTC full, 95% CI')\n",
    "\n",
    "axes[0,2].set_axis_off()\n",
    "\n",
    "for i, (cond, tau, err_low, err_high) in enumerate(zip(brain_areas, pearsonr_trial_avg_plot_df['tau'].values, \n",
    "                                                       pearsonr_trial_avg_full_error_bars[0], pearsonr_trial_avg_full_error_bars[1])):\n",
    "    axes[1,0].errorbar(cond, tau, yerr=[[err_low], [err_high]], fmt='o', capsize=5, capthick=2, markersize=8, color='slategray')\n",
    "axes[1,0].set_title('Pearsonr trial avg, 95% CI')\n",
    "axes[1,0].set_xticks(brain_areas_axes_ticks)\n",
    "axes[1,0].set_xticklabels(brain_areas_names)\n",
    "\n",
    "for i, (cond, tau, err_low, err_high) in enumerate(zip(brain_areas, sttc_trial_avg_plot_df['tau'].values, \n",
    "                                                       sttc_trial_avg_full_error_bars[0], sttc_trial_avg_full_error_bars[1])):\n",
    "    axes[1,1].errorbar(cond, tau, yerr=[[err_low], [err_high]], fmt='o', capsize=5, capthick=2, markersize=8, color='slategray')\n",
    "axes[1,1].set_title('STTC trial avg, 95% CI')\n",
    "axes[1,1].set_xticks(brain_areas_axes_ticks)\n",
    "axes[1,1].set_xticklabels(brain_areas_names)\n",
    "\n",
    "for i, (cond, tau, err_low, err_high) in enumerate(zip(brain_areas, sttc_trial_concat_plot_df['tau'].values, \n",
    "                                                       sttc_trial_concat_full_error_bars[0], sttc_trial_concat_full_error_bars[1])):\n",
    "    axes[1,2].errorbar(cond, tau, yerr=[[err_low], [err_high]], fmt='o', capsize=5, capthick=2, markersize=8, color='slategray')\n",
    "axes[1,2].set_title('STTC trial concat, 95% CI')\n",
    "axes[1,2].set_xticks(brain_areas_axes_ticks)\n",
    "axes[1,2].set_xticklabels(brain_areas_names)\n",
    "\n",
    "for ax in axes.flat:\n",
    "    ax.grid(True, linestyle='--', alpha=0.5)\n",
    "    ax.set_ylabel('Intrinsic timescale (ms)')\n",
    "    # ax.set_xticklabels(['Pearson trial avg', 'STTC trial avg', 'STTC trial concat', 'Fascianelli et al.2019 \\n Figure 2'], \n",
    "    #                    rotation=45, ha='right', fontsize=8)\n",
    "    ax.set_xlim([-0.5, 7.5])\n",
    "    \n",
    "\n",
    "sns.despine()\n",
    "\n",
    "if save_fig:\n",
    "    fig.savefig(fig_folder + 'tau_per_area_5methods_plot_per_method.png', bbox_inches='tight', dpi=300)\n",
    "    fig.savefig(fig_folder + 'tau_per_area_5methods_plot_per_method.svg', bbox_inches='tight')"
   ]
  },
  {
   "cell_type": "markdown",
   "id": "008bf8b9-d390-4a49-b3d2-a9fa05863eb1",
   "metadata": {},
   "source": [
    "#### Per area with confidence intervals"
   ]
  },
  {
   "cell_type": "code",
   "execution_count": null,
   "id": "907914ca-cfe4-4120-8e6a-ec1ea2203c48",
   "metadata": {},
   "outputs": [],
   "source": [
    "methods = ['acf_full', 'isttc_full', 'pearsonr_trial_avg','sttc_trial_avg', 'sttc_trial_concat']"
   ]
  },
  {
   "cell_type": "code",
   "execution_count": null,
   "id": "820e6445-2286-49b8-9c62-72516ee1f5e2",
   "metadata": {},
   "outputs": [],
   "source": [
    "def get_brain_area_df(plot_df_all_areas, area):\n",
    "    area_df = plot_df_all_areas.query('area == @area').copy()\n",
    "    area_df['method'] = pd.Categorical(area_df['method'], \n",
    "                                       categories=methods, ordered=True)\n",
    "    area_df_ordered = area_df.sort_values(by='method')\n",
    "\n",
    "    acf_full_error_bars = [area_df_ordered['tau'].values - area_df_ordered['tau_lower'].values, \n",
    "                       area_df_ordered['tau_upper'].values - area_df_ordered['tau'].values]\n",
    "\n",
    "    return area_df_ordered, acf_full_error_bars"
   ]
  },
  {
   "cell_type": "code",
   "execution_count": null,
   "id": "55b58cee-b6c4-4d95-89c8-2147d7a8bb08",
   "metadata": {},
   "outputs": [],
   "source": [
    "fig, axes = plt.subplots(2, 4, figsize=(8, 3), sharey=False)\n",
    "plt.subplots_adjust(hspace=0.4, wspace=0.2)\n",
    "\n",
    "for i in range(4):\n",
    "    area_df_ordered, error_bars = get_brain_area_df(plot_df_concat, brain_areas_axes_ticks[i])\n",
    "    for j, (cond, tau, err_low, err_high) in enumerate(zip(methods, area_df_ordered['tau'].values, \n",
    "                                                           error_bars[0], error_bars[1])):\n",
    "        axes[0,i].errorbar(cond, tau, yerr=[[err_low], [err_high]], fmt='o', capsize=5, capthick=2, markersize=6, color='slategray')\n",
    "        axes[0,i].set_title(f'{brain_areas_names[i]}({brain_areas_axes_ticks[i]})')\n",
    "\n",
    "for i in range(4, 8):\n",
    "    area_df_ordered, error_bars = get_brain_area_df(plot_df_concat, brain_areas_axes_ticks[i])\n",
    "    for jj, (cond, tau, err_low, err_high) in enumerate(zip(methods, area_df_ordered['tau'].values, \n",
    "                                                           error_bars[0], error_bars[1])):\n",
    "        axes[1,i-4].errorbar(cond, tau, yerr=[[err_low], [err_high]], fmt='o', capsize=5, capthick=2, markersize=6, color='slategray')\n",
    "        axes[1,i-4].set_title(f'{brain_areas_names[i]}({brain_areas_axes_ticks[i]})')\n",
    "   \n",
    "axes[0,0].set_ylabel('Intrinsic timescale (ms)', fontsize=8)\n",
    "axes[1,0].set_ylabel('Intrinsic timescale (ms)', fontsize=8)\n",
    "\n",
    "for ax in axes.flat:\n",
    "    ax.grid(True, linestyle='--', alpha=0.5)\n",
    "    ax.set_xticks(['acf_full', 'isttc_full', 'pearsonr_trial_avg','sttc_trial_avg', 'sttc_trial_concat'])\n",
    "    ax.set_xticklabels([])\n",
    "    ax.set_xlim([-0.5, 4.5])\n",
    "\n",
    "for ax in axes.flat[4:]:\n",
    "    # ax.set_xticks(['acf_full', 'isttc_full', 'pearsonr_trial_avg','sttc_trial_avg', 'sttc_trial_concat'])\n",
    "    ax.set_xticklabels(['ACF full', 'iSTTC full', 'Pearson trial avg', 'STTC trial avg', 'STTC trial concat'], \n",
    "                       rotation=45, ha='right', fontsize=8)\n",
    "\n",
    "#plt.subplots_adjust(left=.5) \n",
    "    \n",
    "sns.despine()\n",
    "\n",
    "if save_fig:\n",
    "    fig.savefig(fig_folder + 'tau_per_area_5methods.png', bbox_inches='tight', dpi=300)\n",
    "    fig.savefig(fig_folder + 'tau_per_area_5methods.svg', bbox_inches='tight')"
   ]
  }
 ],
 "metadata": {
  "kernelspec": {
   "display_name": "Python 3 (ipykernel)",
   "language": "python",
   "name": "python3"
  },
  "language_info": {
   "codemirror_mode": {
    "name": "ipython",
    "version": 3
   },
   "file_extension": ".py",
   "mimetype": "text/x-python",
   "name": "python",
   "nbconvert_exporter": "python",
   "pygments_lexer": "ipython3",
   "version": "3.12.9"
  }
 },
 "nbformat": 4,
 "nbformat_minor": 5
}
