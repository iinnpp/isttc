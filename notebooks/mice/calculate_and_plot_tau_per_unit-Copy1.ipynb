{
 "cells": [
  {
   "cell_type": "markdown",
   "id": "0b618fe0-a400-4289-b368-c1b845ba3302",
   "metadata": {},
   "source": [
    "Tau on unit level plots:\n",
    "1. Distance between taus on the full signal and taus on trial based\n",
    "2. Effect of number of resampling iterations (e.g. 10, 20, 50, 100)"
   ]
  },
  {
   "cell_type": "code",
   "execution_count": 1,
   "id": "326ef1b2-3569-4698-a09f-1bf1f83a698c",
   "metadata": {},
   "outputs": [],
   "source": [
    "import numpy as np\n",
    "import pandas as pd\n",
    "import pickle\n",
    "import matplotlib as mpl\n",
    "from datetime import datetime\n",
    "import matplotlib.pyplot as plt\n",
    "import seaborn as sns\n",
    "\n",
    "# import from scripts\n",
    "import os\n",
    "current_wd = os.getcwd()\n",
    "os.chdir(os.path.abspath(\"..\\\\..\\\\..\\\\isttc\\\\scripts\"))\n",
    "#os.chdir(os.path.abspath(\"C:\\\\Users\\\\ipoch\\\\Documents\\\\repos\\\\isttc\\\\scripts\"))\n",
    "from calculate_tau import fit_single_exp, func_single_exp, func_single_exp_monkey\n",
    "from cfg_global import project_folder_path\n",
    "os.chdir(current_wd)"
   ]
  },
  {
   "cell_type": "code",
   "execution_count": 2,
   "id": "3f74cc87-642c-4f12-b4a3-d9973ddd6f43",
   "metadata": {},
   "outputs": [],
   "source": [
    "mpl.rcParams['pdf.fonttype'] = 42\n",
    "mpl.rcParams['ps.fonttype'] = 42\n",
    "plt.rcParams['svg.fonttype'] = 'none'"
   ]
  },
  {
   "cell_type": "code",
   "execution_count": 3,
   "id": "80b0a81b-93bd-45c3-a47e-7c78801412ac",
   "metadata": {},
   "outputs": [],
   "source": [
    "dataset_folder = project_folder_path + 'results\\\\allen_mice\\\\dataset\\\\cut_30min\\\\'\n",
    "fig_folder = project_folder_path + 'results\\\\allen_mice\\\\fig_draft_paper\\\\'"
   ]
  },
  {
   "cell_type": "code",
   "execution_count": 62,
   "id": "4b981166-211a-4648-8379-21e8df09c86d",
   "metadata": {},
   "outputs": [],
   "source": [
    "calc_taus = False\n",
    "save_taus = False\n",
    "save_fig = True"
   ]
  },
  {
   "cell_type": "markdown",
   "id": "80dd2cdc-b207-4b5b-8495-2fd92b7aaf36",
   "metadata": {},
   "source": [
    "#### Load data"
   ]
  },
  {
   "cell_type": "code",
   "execution_count": 5,
   "id": "4f3f3c17-bedf-46d7-a4d6-4312ea2c6296",
   "metadata": {},
   "outputs": [
    {
     "data": {
      "text/html": [
       "<div>\n",
       "<style scoped>\n",
       "    .dataframe tbody tr th:only-of-type {\n",
       "        vertical-align: middle;\n",
       "    }\n",
       "\n",
       "    .dataframe tbody tr th {\n",
       "        vertical-align: top;\n",
       "    }\n",
       "\n",
       "    .dataframe thead th {\n",
       "        text-align: right;\n",
       "    }\n",
       "</style>\n",
       "<table border=\"1\" class=\"dataframe\">\n",
       "  <thead>\n",
       "    <tr style=\"text-align: right;\">\n",
       "      <th></th>\n",
       "      <th>unit_id</th>\n",
       "      <th>ecephys_structure_acronym</th>\n",
       "      <th>fr_hz_spont_30min</th>\n",
       "    </tr>\n",
       "  </thead>\n",
       "  <tbody>\n",
       "    <tr>\n",
       "      <th>66</th>\n",
       "      <td>950913540</td>\n",
       "      <td>VISam</td>\n",
       "      <td>6.038333</td>\n",
       "    </tr>\n",
       "    <tr>\n",
       "      <th>67</th>\n",
       "      <td>950915005</td>\n",
       "      <td>VISam</td>\n",
       "      <td>4.030556</td>\n",
       "    </tr>\n",
       "  </tbody>\n",
       "</table>\n",
       "</div>"
      ],
      "text/plain": [
       "      unit_id ecephys_structure_acronym  fr_hz_spont_30min\n",
       "66  950913540                     VISam           6.038333\n",
       "67  950915005                     VISam           4.030556"
      ]
     },
     "execution_count": 5,
     "metadata": {},
     "output_type": "execute_result"
    }
   ],
   "source": [
    "units_info_df = pd.read_pickle(dataset_folder + 'sua_list_constrained_units_df.pkl')\n",
    "units_info_df_subset = units_info_df[['unit_id', 'ecephys_structure_acronym', 'fr_hz_spont_30min']].copy()\n",
    "units_info_df_subset.head(2)"
   ]
  },
  {
   "cell_type": "code",
   "execution_count": 6,
   "id": "8fc788a8-a0a9-4478-9ede-932f1a5443e9",
   "metadata": {},
   "outputs": [],
   "source": [
    "acf_full_df_file = dataset_folder + 'binned\\\\acf_full_50ms_20lags_df.pkl'\n",
    "acf_full_df = pd.read_pickle(acf_full_df_file)\n",
    "\n",
    "acf_isttc_full_df_file = dataset_folder + 'non_binned\\\\acf_isttc_full_50ms_20lags_df_25dt.pkl'\n",
    "acf_isttc_full_df = pd.read_pickle(acf_isttc_full_df_file)"
   ]
  },
  {
   "cell_type": "markdown",
   "id": "0ea50eb8-b8b4-4ab6-aaee-e393d79b6a36",
   "metadata": {},
   "source": [
    "#### Calculate tau per unit"
   ]
  },
  {
   "cell_type": "code",
   "execution_count": 7,
   "id": "2a3f1ff7-4cf2-4c91-a2dc-a2d81ee87e27",
   "metadata": {},
   "outputs": [
    {
     "name": "stdout",
     "output_type": "stream",
     "text": [
      "acf_cols ['acf_0', 'acf_1', 'acf_2', 'acf_3', 'acf_4', 'acf_5', 'acf_6', 'acf_7', 'acf_8', 'acf_9', 'acf_10', 'acf_11', 'acf_12', 'acf_13', 'acf_14', 'acf_15', 'acf_16', 'acf_17', 'acf_18', 'acf_19', 'acf_20']\n"
     ]
    }
   ],
   "source": [
    "n_lags = 20\n",
    "acf_cols = ['acf_' + str(i) for i in range(n_lags+1)]\n",
    "print('acf_cols {}'.format(acf_cols))"
   ]
  },
  {
   "cell_type": "code",
   "execution_count": 8,
   "id": "86379712-f7a1-40df-bccb-d39e55207296",
   "metadata": {},
   "outputs": [],
   "source": [
    "if calc_taus:\n",
    "    acf_full_2d = acf_full_df[acf_cols].values\n",
    "    print(f'acf_2d shape {acf_full_2d.shape}')\n",
    "    acf_full_unit_ids = acf_full_df['unit_id'].values\n",
    "    print(f'acf_full_unit_ids shape {acf_full_unit_ids.shape}')\n",
    "    \n",
    "    acf_full_dict = {}\n",
    "    for unit_id_idx, unit_id in enumerate(acf_full_unit_ids):\n",
    "        if unit_id_idx % 100 == 0:\n",
    "            print(f'#####\\nProcessing unit {unit_id}, {unit_id_idx+1}/{len(acf_full_unit_ids)}, {datetime.now()}')\n",
    "        fit_popt, fit_pcov, tau, tau_ci, fit_r_squared, explained_var, log_message = fit_single_exp(acf_full_2d[unit_id_idx,:],\n",
    "                                                                                  start_idx_=1, exp_fun_=func_single_exp_monkey)\n",
    "        taus = {'tau':tau,\n",
    "                'tau_lower':tau_ci[0],\n",
    "                'tau_upper':tau_ci[1],\n",
    "                'fit_r_squared': fit_r_squared,\n",
    "                'explained_var': explained_var,\n",
    "                'popt': fit_popt,\n",
    "                'pcov': fit_pcov,\n",
    "                'log_message': log_message}\n",
    "        acf_full_dict[unit_id] = {'taus': taus,\n",
    "                                  'acf': acf_full_2d[unit_id_idx,:]}"
   ]
  },
  {
   "cell_type": "code",
   "execution_count": 9,
   "id": "e157207f-dd67-4227-95ff-001d9e21f412",
   "metadata": {},
   "outputs": [],
   "source": [
    "if calc_taus:\n",
    "    isttc_full_2d = acf_isttc_full_df[acf_cols].values\n",
    "    print(f'isttc_full_2d shape {isttc_full_2d.shape}')\n",
    "    isttc_full_unit_ids = acf_isttc_full_df['unit_id'].values\n",
    "    print(f'isttc_full_unit_ids shape {isttc_full_unit_ids.shape}')\n",
    "    \n",
    "    isttc_full_dict = {}\n",
    "    for unit_id_idx, unit_id in enumerate(isttc_full_unit_ids):\n",
    "        if unit_id_idx % 1000 == 0:\n",
    "            print(f'#####\\nProcessing unit {unit_id}, {unit_id_idx+1}/{len(isttc_full_unit_ids)}, {datetime.now()}')\n",
    "        fit_popt, fit_pcov, tau, tau_ci, fit_r_squared, explained_var, log_message = fit_single_exp(isttc_full_2d[unit_id_idx,:],\n",
    "                                                                                  start_idx_=1, exp_fun_=func_single_exp_monkey)\n",
    "        taus = {'tau':tau,\n",
    "                'tau_lower':tau_ci[0],\n",
    "                'tau_upper':tau_ci[1],\n",
    "                'fit_r_squared': fit_r_squared,\n",
    "                'explained_var': explained_var,\n",
    "                'popt': fit_popt,\n",
    "                'pcov': fit_pcov,\n",
    "                'log_message': log_message}\n",
    "        isttc_full_dict[unit_id] = {'taus': taus,\n",
    "                                    'acf': isttc_full_2d[unit_id_idx,:]}"
   ]
  },
  {
   "cell_type": "code",
   "execution_count": 10,
   "id": "2c551eca-f0ce-4a85-8268-1e63649c207c",
   "metadata": {},
   "outputs": [],
   "source": [
    "if calc_taus and save_taus:\n",
    "    with open(dataset_folder + 'non_binned\\\\acf\\\\acf_isttc_full_50ms_20lags_25dt_dict.pkl', \"wb\") as f:\n",
    "        pickle.dump(isttc_full_dict, f)"
   ]
  },
  {
   "cell_type": "code",
   "execution_count": 11,
   "id": "57287a76-7083-4473-a47d-296800177a2c",
   "metadata": {},
   "outputs": [],
   "source": [
    "if calc_taus and save_taus:\n",
    "    with open(dataset_folder + 'binned\\\\acf\\\\acf_full_50ms_20lags_dict.pkl', \"wb\") as f:\n",
    "        pickle.dump(acf_full_dict, f)"
   ]
  },
  {
   "cell_type": "markdown",
   "id": "52a6cabd-ac42-4bd5-977d-e78f3429898e",
   "metadata": {},
   "source": [
    "#### Load calculated taus"
   ]
  },
  {
   "cell_type": "code",
   "execution_count": 12,
   "id": "c6173439-a632-4682-af0f-afc9f8453c8e",
   "metadata": {},
   "outputs": [],
   "source": [
    "with open(dataset_folder + 'non_binned\\\\acf_isttc_full_50ms_20lags_dict_25dt.pkl', \"rb\") as f:\n",
    "    isttc_full_dict = pickle.load(f)\n",
    "\n",
    "with open(dataset_folder + 'binned\\\\acf_full_50ms_20lags_dict.pkl', \"rb\") as f:\n",
    "    acf_full_dict = pickle.load(f)\n",
    "\n",
    "with open(dataset_folder + 'binned\\\\pearsonr_trial_avg_50ms_20lags_dict.pkl', \"rb\") as f:\n",
    "    pearsonr_trial_avg_dict = pickle.load(f)\n",
    "\n",
    "with open(dataset_folder + 'non_binned\\\\sttc_trial_avg_50ms_20lags_dict.pkl', \"rb\") as f:\n",
    "    sttc_trial_avg_dict = pickle.load(f)\n",
    "\n",
    "with open(dataset_folder + 'non_binned\\\\sttc_trial_concat_50ms_20lags_dict_25dt.pkl', \"rb\") as f:\n",
    "    sttc_trial_concat_dict = pickle.load(f)"
   ]
  },
  {
   "cell_type": "code",
   "execution_count": 13,
   "id": "b1c07fd3-b003-4247-bad9-d6dc7f809641",
   "metadata": {},
   "outputs": [
    {
     "name": "stdout",
     "output_type": "stream",
     "text": [
      "len isttc_full_dict 5775\n",
      "len acf_full_dict 5775\n",
      "len pearsonr_trial_avg_dict 5775\n",
      "len sttc_trial_avg_dict 5775\n",
      "len sttc_trial_concat_dict 5775\n"
     ]
    }
   ],
   "source": [
    "print(f'len isttc_full_dict {len(isttc_full_dict)}')\n",
    "print(f'len acf_full_dict {len(acf_full_dict)}')\n",
    "print(f'len pearsonr_trial_avg_dict {len(pearsonr_trial_avg_dict)}')\n",
    "print(f'len sttc_trial_avg_dict {len(sttc_trial_avg_dict)}')\n",
    "print(f'len sttc_trial_concat_dict {len(sttc_trial_concat_dict)}')"
   ]
  },
  {
   "cell_type": "markdown",
   "id": "c443974e-21ca-4872-9fc7-ddbff7f8135b",
   "metadata": {},
   "source": [
    "#### Prep data for plots"
   ]
  },
  {
   "cell_type": "code",
   "execution_count": 14,
   "id": "09115d2e-f6a2-4b81-88b1-6f519c882d3f",
   "metadata": {},
   "outputs": [],
   "source": [
    "def calculate_acf_decline_flag(acf_, start_idx=3, end_idx=5):\n",
    "    acf_decay = np.all(np.diff(acf_[start_idx:end_idx]) <= 0)\n",
    "    return acf_decay"
   ]
  },
  {
   "cell_type": "code",
   "execution_count": 15,
   "id": "0c63d9c0-2a47-40ff-8347-d2bc0d2a6175",
   "metadata": {},
   "outputs": [
    {
     "name": "stdout",
     "output_type": "stream",
     "text": [
      "N rows with NaNs 0\n"
     ]
    },
    {
     "data": {
      "text/html": [
       "<div>\n",
       "<style scoped>\n",
       "    .dataframe tbody tr th:only-of-type {\n",
       "        vertical-align: middle;\n",
       "    }\n",
       "\n",
       "    .dataframe tbody tr th {\n",
       "        vertical-align: top;\n",
       "    }\n",
       "\n",
       "    .dataframe thead th {\n",
       "        text-align: right;\n",
       "    }\n",
       "</style>\n",
       "<table border=\"1\" class=\"dataframe\">\n",
       "  <thead>\n",
       "    <tr style=\"text-align: right;\">\n",
       "      <th></th>\n",
       "      <th>unit_id</th>\n",
       "      <th>tau</th>\n",
       "      <th>tau_lower</th>\n",
       "      <th>tau_upper</th>\n",
       "      <th>fit_r_squared</th>\n",
       "      <th>decline_150_250</th>\n",
       "      <th>method</th>\n",
       "      <th>tau_ms</th>\n",
       "      <th>ecephys_structure_acronym</th>\n",
       "      <th>fr_hz_spont_30min</th>\n",
       "    </tr>\n",
       "  </thead>\n",
       "  <tbody>\n",
       "    <tr>\n",
       "      <th>0</th>\n",
       "      <td>950913540</td>\n",
       "      <td>0.580319</td>\n",
       "      <td>0.336549</td>\n",
       "      <td>0.824088</td>\n",
       "      <td>9.361658e-01</td>\n",
       "      <td>False</td>\n",
       "      <td>acf_full</td>\n",
       "      <td>29.015926</td>\n",
       "      <td>VISam</td>\n",
       "      <td>6.038333</td>\n",
       "    </tr>\n",
       "    <tr>\n",
       "      <th>1</th>\n",
       "      <td>950915005</td>\n",
       "      <td>0.034201</td>\n",
       "      <td>0.034201</td>\n",
       "      <td>0.034201</td>\n",
       "      <td>-5.534868e-10</td>\n",
       "      <td>False</td>\n",
       "      <td>acf_full</td>\n",
       "      <td>1.710055</td>\n",
       "      <td>VISam</td>\n",
       "      <td>4.030556</td>\n",
       "    </tr>\n",
       "  </tbody>\n",
       "</table>\n",
       "</div>"
      ],
      "text/plain": [
       "     unit_id       tau  tau_lower  tau_upper  fit_r_squared  decline_150_250  \\\n",
       "0  950913540  0.580319   0.336549   0.824088   9.361658e-01            False   \n",
       "1  950915005  0.034201   0.034201   0.034201  -5.534868e-10            False   \n",
       "\n",
       "     method     tau_ms ecephys_structure_acronym  fr_hz_spont_30min  \n",
       "0  acf_full  29.015926                     VISam           6.038333  \n",
       "1  acf_full   1.710055                     VISam           4.030556  "
      ]
     },
     "execution_count": 15,
     "metadata": {},
     "output_type": "execute_result"
    }
   ],
   "source": [
    "data = []\n",
    "for unit_id, unit_data in acf_full_dict.items():\n",
    "    taus = unit_data['taus']  \n",
    "    data.append({\n",
    "        'unit_id': unit_id,\n",
    "        'tau': taus['tau'],\n",
    "        'tau_lower': taus['tau_lower'],\n",
    "        'tau_upper': taus['tau_upper'],\n",
    "        'fit_r_squared': taus['fit_r_squared'],\n",
    "        'decline_150_250': calculate_acf_decline_flag(unit_data['acf'], start_idx=2, end_idx=4)\n",
    "    })\n",
    "acf_full_plot_df = pd.DataFrame(data)\n",
    "acf_full_plot_df['method'] = 'acf_full'\n",
    "acf_full_plot_df['tau_ms'] = acf_full_plot_df['tau'] * 50\n",
    "acf_full_plot_df = acf_full_plot_df.merge(units_info_df_subset, on='unit_id', how='left')\n",
    "\n",
    "rows_with_nans_df = acf_full_plot_df[acf_full_plot_df.isna().any(axis=1)]\n",
    "n_rows_with_nan = len(rows_with_nans_df)\n",
    "print(f'N rows with NaNs {n_rows_with_nan}')\n",
    "\n",
    "acf_full_plot_df.head(2)"
   ]
  },
  {
   "cell_type": "code",
   "execution_count": 16,
   "id": "5cd85a5c-4112-46e1-88c6-45d1294a7508",
   "metadata": {},
   "outputs": [
    {
     "name": "stdout",
     "output_type": "stream",
     "text": [
      "N rows with NaNs 0\n"
     ]
    },
    {
     "data": {
      "text/html": [
       "<div>\n",
       "<style scoped>\n",
       "    .dataframe tbody tr th:only-of-type {\n",
       "        vertical-align: middle;\n",
       "    }\n",
       "\n",
       "    .dataframe tbody tr th {\n",
       "        vertical-align: top;\n",
       "    }\n",
       "\n",
       "    .dataframe thead th {\n",
       "        text-align: right;\n",
       "    }\n",
       "</style>\n",
       "<table border=\"1\" class=\"dataframe\">\n",
       "  <thead>\n",
       "    <tr style=\"text-align: right;\">\n",
       "      <th></th>\n",
       "      <th>unit_id</th>\n",
       "      <th>tau</th>\n",
       "      <th>tau_lower</th>\n",
       "      <th>tau_upper</th>\n",
       "      <th>fit_r_squared</th>\n",
       "      <th>decline_150_250</th>\n",
       "      <th>method</th>\n",
       "      <th>tau_ms</th>\n",
       "      <th>ecephys_structure_acronym</th>\n",
       "      <th>fr_hz_spont_30min</th>\n",
       "    </tr>\n",
       "  </thead>\n",
       "  <tbody>\n",
       "    <tr>\n",
       "      <th>0</th>\n",
       "      <td>950913540</td>\n",
       "      <td>0.544945</td>\n",
       "      <td>0.15756</td>\n",
       "      <td>0.932329</td>\n",
       "      <td>8.511848e-01</td>\n",
       "      <td>False</td>\n",
       "      <td>isttc_full</td>\n",
       "      <td>27.247232</td>\n",
       "      <td>VISam</td>\n",
       "      <td>6.038333</td>\n",
       "    </tr>\n",
       "    <tr>\n",
       "      <th>1</th>\n",
       "      <td>950915005</td>\n",
       "      <td>0.036200</td>\n",
       "      <td>0.03620</td>\n",
       "      <td>0.036200</td>\n",
       "      <td>-6.201164e-10</td>\n",
       "      <td>False</td>\n",
       "      <td>isttc_full</td>\n",
       "      <td>1.810006</td>\n",
       "      <td>VISam</td>\n",
       "      <td>4.030556</td>\n",
       "    </tr>\n",
       "  </tbody>\n",
       "</table>\n",
       "</div>"
      ],
      "text/plain": [
       "     unit_id       tau  tau_lower  tau_upper  fit_r_squared  decline_150_250  \\\n",
       "0  950913540  0.544945    0.15756   0.932329   8.511848e-01            False   \n",
       "1  950915005  0.036200    0.03620   0.036200  -6.201164e-10            False   \n",
       "\n",
       "       method     tau_ms ecephys_structure_acronym  fr_hz_spont_30min  \n",
       "0  isttc_full  27.247232                     VISam           6.038333  \n",
       "1  isttc_full   1.810006                     VISam           4.030556  "
      ]
     },
     "execution_count": 16,
     "metadata": {},
     "output_type": "execute_result"
    }
   ],
   "source": [
    "data = []\n",
    "for unit_id, unit_data in isttc_full_dict.items():\n",
    "    taus = unit_data['taus']      \n",
    "    data.append({\n",
    "        'unit_id': unit_id,\n",
    "        'tau': taus['tau'],\n",
    "        'tau_lower': taus['tau_lower'],\n",
    "        'tau_upper': taus['tau_upper'],\n",
    "        'fit_r_squared': taus['fit_r_squared'],\n",
    "        'decline_150_250': calculate_acf_decline_flag(unit_data['acf'], start_idx=2, end_idx=4)\n",
    "    })\n",
    "acf_isttc_full_plot_df = pd.DataFrame(data)\n",
    "acf_isttc_full_plot_df['method'] = 'isttc_full'\n",
    "acf_isttc_full_plot_df['tau_ms'] = acf_isttc_full_plot_df['tau'] * 50\n",
    "acf_isttc_full_plot_df = acf_isttc_full_plot_df.merge(units_info_df_subset, on='unit_id', how='left')\n",
    "\n",
    "rows_with_nans_df = acf_isttc_full_plot_df[acf_isttc_full_plot_df.isna().any(axis=1)]\n",
    "n_rows_with_nan = len(rows_with_nans_df)\n",
    "print(f'N rows with NaNs {n_rows_with_nan}')\n",
    "\n",
    "acf_isttc_full_plot_df.head(2)"
   ]
  },
  {
   "cell_type": "code",
   "execution_count": 17,
   "id": "48f81af0-6f62-4e34-b580-1a5bedc57dd8",
   "metadata": {},
   "outputs": [],
   "source": [
    "def get_trials_plot_df(trial_dict_, acf_cols_, units_info_df_subset_, method_):\n",
    "    unit_id_l, trial_acf_l, taus_l, fit_r_squared_l, decline_150_250_l = [], [], [], [], []\n",
    "    for unit_id, unit_data in trial_dict_.items():\n",
    "        taus = unit_data['taus']  \n",
    "        acf = unit_data['acf']  \n",
    "    \n",
    "        unit_id_l.append([unit_id] * 100)\n",
    "        trial_acf_l.append(acf)\n",
    "        taus_l.append([d['tau'] for d in taus])\n",
    "        fit_r_squared_l.append([d['fit_r_squared'] for d in taus])\n",
    "        decline_150_250_l.append([calculate_acf_decline_flag(acf, start_idx=2, end_idx=4) for acf in acf])\n",
    "        \n",
    "    trial_plot_df = pd.DataFrame(np.vstack(trial_acf_l), columns=acf_cols_)\n",
    "    trial_plot_df.insert(0, 'unit_id', np.hstack(unit_id_l))\n",
    "    trial_plot_df.insert(1, 'tau', np.hstack(taus_l))\n",
    "    trial_plot_df.insert(2, 'fit_r_squared', np.hstack(fit_r_squared_l))\n",
    "    trial_plot_df.insert(3, 'decline_150_250', np.hstack(decline_150_250_l))\n",
    "    trial_plot_df.insert(4, 'method', method_)\n",
    "    \n",
    "    # print(f'N rows : {len(trial_plot_df)}')\n",
    "    # rows_with_nans_df = trial_plot_df[trial_plot_df.isna().any(axis=1)]\n",
    "    # n_rows_with_nan = len(rows_with_nans_df)\n",
    "    # # units with all 100 iterations containing NaNs\n",
    "    # n_units_with_all_nans = len(rows_with_nans_df.groupby(by='unit_id', as_index=False)['unit_id'].count().query('unit_id == 100'))\n",
    "    # trial_plot_df.dropna(inplace=True)\n",
    "    # print(f'N n_rows_with_nan {n_rows_with_nan}, n_units_with_all_nans {n_units_with_all_nans} removing... new N: {len(trial_plot_df)}')\n",
    "    \n",
    "    trial_plot_df.insert(2, 'tau_ms', trial_plot_df['tau'] * 50)\n",
    "    trial_plot_df = trial_plot_df.merge(units_info_df_subset_, on='unit_id', how='left')\n",
    "\n",
    "    rows_with_nans_df = trial_plot_df[trial_plot_df.isna().any(axis=1)]\n",
    "    n_rows_with_nan = len(rows_with_nans_df)\n",
    "    print(f'N rows with NaNs {n_rows_with_nan}')\n",
    "    \n",
    "    return trial_plot_df"
   ]
  },
  {
   "cell_type": "code",
   "execution_count": 18,
   "id": "394827a0-5b02-42ed-a66e-4ade89e5217c",
   "metadata": {},
   "outputs": [
    {
     "name": "stdout",
     "output_type": "stream",
     "text": [
      "N rows with NaNs 100067\n"
     ]
    }
   ],
   "source": [
    "acf_pearsontr_trial_avg_plot_df = get_trials_plot_df(pearsonr_trial_avg_dict, acf_cols[:-1], units_info_df_subset, 'pearsonr_trial_avg')"
   ]
  },
  {
   "cell_type": "code",
   "execution_count": 19,
   "id": "9d4bd3a2-0922-4357-acfa-34699283b30d",
   "metadata": {},
   "outputs": [
    {
     "name": "stdout",
     "output_type": "stream",
     "text": [
      "N rows with NaNs 0\n"
     ]
    }
   ],
   "source": [
    "acf_sttc_trial_avg_plot_df = get_trials_plot_df(sttc_trial_avg_dict, acf_cols[:-1], units_info_df_subset, 'sttc_trial_avg')"
   ]
  },
  {
   "cell_type": "code",
   "execution_count": 20,
   "id": "ba0fdf88-958f-4d7d-87c4-f8cad41d3160",
   "metadata": {},
   "outputs": [
    {
     "name": "stdout",
     "output_type": "stream",
     "text": [
      "N rows with NaNs 0\n"
     ]
    }
   ],
   "source": [
    "acf_sttc_trial_concat_plot_df = get_trials_plot_df(sttc_trial_concat_dict, acf_cols[:-1], units_info_df_subset, 'sttc_trial_concat')"
   ]
  },
  {
   "cell_type": "markdown",
   "id": "89bfcee7-41f1-4811-8d95-f72b594ad3cb",
   "metadata": {},
   "source": [
    "##### Wide and long tau dfs without NaNs"
   ]
  },
  {
   "cell_type": "code",
   "execution_count": 28,
   "id": "3e1e6582-5610-445d-9a4d-cd3e9d5f1f68",
   "metadata": {},
   "outputs": [],
   "source": [
    "def preprocess_and_summarize(df, name, n=None):\n",
    "    df = df.dropna().reset_index(drop=True)\n",
    "    subset = df[['unit_id', 'tau_ms']].copy()\n",
    "\n",
    "    if n is not None:\n",
    "        subset = subset.groupby('unit_id', group_keys=False).apply(\n",
    "            lambda x: x.sample(n=min(n, len(x)), replace=True)\n",
    "    )\n",
    "    \n",
    "    median_df = subset.groupby('unit_id', as_index=False).median()\n",
    "    print(f'len {name} {len(median_df)}')\n",
    "    return median_df\n",
    "\n",
    "def get_wide_tau_df(datasets_, n_):\n",
    "    processed = {name: preprocess_and_summarize(df, f\"{name}_subset_med\", n_) for name, df in datasets.items()}\n",
    "\n",
    "    # Merge \n",
    "    summary_plot_df_wide = processed['acf_pearsonr_avg'].merge(\n",
    "        processed['acf_sttc_avg'], on='unit_id', how='left', suffixes=('_pearsonr', '_sttc_avg'))\n",
    "    \n",
    "    summary_plot_df_wide = summary_plot_df_wide.merge(\n",
    "        processed['acf_sttc_concat'], on='unit_id', how='left')\n",
    "    summary_plot_df_wide.rename(columns={'tau_ms': 'tau_ms_sttc_concat'}, inplace=True)\n",
    "    \n",
    "    summary_plot_df_wide = summary_plot_df_wide.merge(\n",
    "        processed['acf_full'], on='unit_id', how='left')\n",
    "    summary_plot_df_wide.rename(columns={'tau_ms': 'tau_ms_acf_full'}, inplace=True)\n",
    "    \n",
    "    summary_plot_df_wide = summary_plot_df_wide.merge(\n",
    "        processed['acf_isttc_full'], on='unit_id', how='left')\n",
    "    summary_plot_df_wide.rename(columns={'tau_ms': 'tau_ms_isttc_full'}, inplace=True)\n",
    "    \n",
    "    # Calculate diffs\n",
    "    summary_plot_df_wide['diff_sttc_avg_sttc_full'] = np.log10(\n",
    "        abs(summary_plot_df_wide['tau_ms_sttc_avg'] - summary_plot_df_wide['tau_ms_isttc_full']))\n",
    "    summary_plot_df_wide['diff_sttc_concat_sttc_full'] = np.log10(\n",
    "        abs(summary_plot_df_wide['tau_ms_sttc_concat'] - summary_plot_df_wide['tau_ms_isttc_full']))\n",
    "    summary_plot_df_wide['diff_pearsonr_avg_sttc_full'] = np.log10(\n",
    "        abs(summary_plot_df_wide['tau_ms_pearsonr'] - summary_plot_df_wide['tau_ms_isttc_full']))\n",
    "    \n",
    "    summary_plot_df_wide['diff_sttc_avg_acf_full'] = np.log10(\n",
    "        abs(summary_plot_df_wide['tau_ms_sttc_avg'] - summary_plot_df_wide['tau_ms_acf_full']))\n",
    "    summary_plot_df_wide['diff_sttc_concat_acf_full'] = np.log10(\n",
    "        abs(summary_plot_df_wide['tau_ms_sttc_concat'] - summary_plot_df_wide['tau_ms_acf_full']))\n",
    "    summary_plot_df_wide['diff_pearsonr_avg_acf_full'] = np.log10(\n",
    "        abs(summary_plot_df_wide['tau_ms_pearsonr'] - summary_plot_df_wide['tau_ms_acf_full']))\n",
    "\n",
    "    return summary_plot_df_wide\n",
    "\n",
    "def get_long_tau_df(summary_plot_df_wide_):\n",
    "    tau_cols = [\n",
    "    'tau_ms_pearsonr',\n",
    "    'tau_ms_sttc_avg',\n",
    "    'tau_ms_sttc_concat',\n",
    "    'tau_ms_acf_full',\n",
    "    'tau_ms_isttc_full'\n",
    "    ]\n",
    "    \n",
    "    summary_plot_df_long = summary_plot_df_wide_.melt(\n",
    "        id_vars='unit_id',\n",
    "        value_vars=tau_cols,\n",
    "        var_name='method',\n",
    "        value_name='tau_ms'\n",
    "    )\n",
    "    \n",
    "    summary_plot_df_long['method'] = summary_plot_df_long['method'].str.replace('tau_ms_', '')\n",
    "    summary_plot_df_long['tau_ms_log10'] = np.log10(summary_plot_df_long['tau_ms'])\n",
    "    return summary_plot_df_long"
   ]
  },
  {
   "cell_type": "code",
   "execution_count": 21,
   "id": "fa1d6c71-83b1-4904-8b57-5137f17d1f19",
   "metadata": {},
   "outputs": [],
   "source": [
    "# Prep all datasets\n",
    "datasets = {\n",
    "    'acf_full': acf_full_plot_df,\n",
    "    'acf_isttc_full': acf_isttc_full_plot_df,\n",
    "    'acf_pearsonr_avg': acf_pearsontr_trial_avg_plot_df,\n",
    "    'acf_sttc_avg': acf_sttc_trial_avg_plot_df,\n",
    "    'acf_sttc_concat': acf_sttc_trial_concat_plot_df\n",
    "}"
   ]
  },
  {
   "cell_type": "code",
   "execution_count": 32,
   "id": "66c4730d-9cd6-4de0-9e6a-40878cf72527",
   "metadata": {},
   "outputs": [
    {
     "name": "stderr",
     "output_type": "stream",
     "text": [
      "C:\\Users\\ipochino\\AppData\\Local\\Temp\\ipykernel_12960\\4268473089.py:6: DeprecationWarning: DataFrameGroupBy.apply operated on the grouping columns. This behavior is deprecated, and in a future version of pandas the grouping columns will be excluded from the operation. Either pass `include_groups=False` to exclude the groupings or explicitly select the grouping columns after groupby to silence this warning.\n",
      "  subset = subset.groupby('unit_id', group_keys=False).apply(\n"
     ]
    },
    {
     "name": "stdout",
     "output_type": "stream",
     "text": [
      "len acf_full_subset_med 5775\n"
     ]
    },
    {
     "name": "stderr",
     "output_type": "stream",
     "text": [
      "C:\\Users\\ipochino\\AppData\\Local\\Temp\\ipykernel_12960\\4268473089.py:6: DeprecationWarning: DataFrameGroupBy.apply operated on the grouping columns. This behavior is deprecated, and in a future version of pandas the grouping columns will be excluded from the operation. Either pass `include_groups=False` to exclude the groupings or explicitly select the grouping columns after groupby to silence this warning.\n",
      "  subset = subset.groupby('unit_id', group_keys=False).apply(\n"
     ]
    },
    {
     "name": "stdout",
     "output_type": "stream",
     "text": [
      "len acf_isttc_full_subset_med 5775\n"
     ]
    },
    {
     "name": "stderr",
     "output_type": "stream",
     "text": [
      "C:\\Users\\ipochino\\AppData\\Local\\Temp\\ipykernel_12960\\4268473089.py:6: DeprecationWarning: DataFrameGroupBy.apply operated on the grouping columns. This behavior is deprecated, and in a future version of pandas the grouping columns will be excluded from the operation. Either pass `include_groups=False` to exclude the groupings or explicitly select the grouping columns after groupby to silence this warning.\n",
      "  subset = subset.groupby('unit_id', group_keys=False).apply(\n"
     ]
    },
    {
     "name": "stdout",
     "output_type": "stream",
     "text": [
      "len acf_pearsonr_avg_subset_med 5661\n"
     ]
    },
    {
     "name": "stderr",
     "output_type": "stream",
     "text": [
      "C:\\Users\\ipochino\\AppData\\Local\\Temp\\ipykernel_12960\\4268473089.py:6: DeprecationWarning: DataFrameGroupBy.apply operated on the grouping columns. This behavior is deprecated, and in a future version of pandas the grouping columns will be excluded from the operation. Either pass `include_groups=False` to exclude the groupings or explicitly select the grouping columns after groupby to silence this warning.\n",
      "  subset = subset.groupby('unit_id', group_keys=False).apply(\n"
     ]
    },
    {
     "name": "stdout",
     "output_type": "stream",
     "text": [
      "len acf_sttc_avg_subset_med 5775\n",
      "len acf_sttc_concat_subset_med 5775\n"
     ]
    },
    {
     "name": "stderr",
     "output_type": "stream",
     "text": [
      "C:\\Users\\ipochino\\AppData\\Local\\Temp\\ipykernel_12960\\4268473089.py:6: DeprecationWarning: DataFrameGroupBy.apply operated on the grouping columns. This behavior is deprecated, and in a future version of pandas the grouping columns will be excluded from the operation. Either pass `include_groups=False` to exclude the groupings or explicitly select the grouping columns after groupby to silence this warning.\n",
      "  subset = subset.groupby('unit_id', group_keys=False).apply(\n"
     ]
    }
   ],
   "source": [
    "summary_plot_df_wide_100 = get_wide_tau_df(datasets, n_=100)\n",
    "summary_plot_df_long_100 = get_long_tau_df(summary_plot_df_wide_100)"
   ]
  },
  {
   "cell_type": "code",
   "execution_count": 33,
   "id": "f14c6d56-181f-4f06-aa0d-5b26dfdc8183",
   "metadata": {},
   "outputs": [
    {
     "name": "stderr",
     "output_type": "stream",
     "text": [
      "C:\\Users\\ipochino\\AppData\\Local\\Temp\\ipykernel_12960\\4268473089.py:6: DeprecationWarning: DataFrameGroupBy.apply operated on the grouping columns. This behavior is deprecated, and in a future version of pandas the grouping columns will be excluded from the operation. Either pass `include_groups=False` to exclude the groupings or explicitly select the grouping columns after groupby to silence this warning.\n",
      "  subset = subset.groupby('unit_id', group_keys=False).apply(\n"
     ]
    },
    {
     "name": "stdout",
     "output_type": "stream",
     "text": [
      "len acf_full_subset_med 5775\n"
     ]
    },
    {
     "name": "stderr",
     "output_type": "stream",
     "text": [
      "C:\\Users\\ipochino\\AppData\\Local\\Temp\\ipykernel_12960\\4268473089.py:6: DeprecationWarning: DataFrameGroupBy.apply operated on the grouping columns. This behavior is deprecated, and in a future version of pandas the grouping columns will be excluded from the operation. Either pass `include_groups=False` to exclude the groupings or explicitly select the grouping columns after groupby to silence this warning.\n",
      "  subset = subset.groupby('unit_id', group_keys=False).apply(\n"
     ]
    },
    {
     "name": "stdout",
     "output_type": "stream",
     "text": [
      "len acf_isttc_full_subset_med 5775\n"
     ]
    },
    {
     "name": "stderr",
     "output_type": "stream",
     "text": [
      "C:\\Users\\ipochino\\AppData\\Local\\Temp\\ipykernel_12960\\4268473089.py:6: DeprecationWarning: DataFrameGroupBy.apply operated on the grouping columns. This behavior is deprecated, and in a future version of pandas the grouping columns will be excluded from the operation. Either pass `include_groups=False` to exclude the groupings or explicitly select the grouping columns after groupby to silence this warning.\n",
      "  subset = subset.groupby('unit_id', group_keys=False).apply(\n"
     ]
    },
    {
     "name": "stdout",
     "output_type": "stream",
     "text": [
      "len acf_pearsonr_avg_subset_med 5661\n"
     ]
    },
    {
     "name": "stderr",
     "output_type": "stream",
     "text": [
      "C:\\Users\\ipochino\\AppData\\Local\\Temp\\ipykernel_12960\\4268473089.py:6: DeprecationWarning: DataFrameGroupBy.apply operated on the grouping columns. This behavior is deprecated, and in a future version of pandas the grouping columns will be excluded from the operation. Either pass `include_groups=False` to exclude the groupings or explicitly select the grouping columns after groupby to silence this warning.\n",
      "  subset = subset.groupby('unit_id', group_keys=False).apply(\n"
     ]
    },
    {
     "name": "stdout",
     "output_type": "stream",
     "text": [
      "len acf_sttc_avg_subset_med 5775\n",
      "len acf_sttc_concat_subset_med 5775\n"
     ]
    },
    {
     "name": "stderr",
     "output_type": "stream",
     "text": [
      "C:\\Users\\ipochino\\AppData\\Local\\Temp\\ipykernel_12960\\4268473089.py:6: DeprecationWarning: DataFrameGroupBy.apply operated on the grouping columns. This behavior is deprecated, and in a future version of pandas the grouping columns will be excluded from the operation. Either pass `include_groups=False` to exclude the groupings or explicitly select the grouping columns after groupby to silence this warning.\n",
      "  subset = subset.groupby('unit_id', group_keys=False).apply(\n"
     ]
    }
   ],
   "source": [
    "summary_plot_df_wide_50 = get_wide_tau_df(datasets, n_=50)\n",
    "summary_plot_df_long_50 = get_long_tau_df(summary_plot_df_wide_50)"
   ]
  },
  {
   "cell_type": "code",
   "execution_count": 35,
   "id": "481bceed-b1fe-426f-bc99-c0436b3a9f8e",
   "metadata": {},
   "outputs": [
    {
     "name": "stderr",
     "output_type": "stream",
     "text": [
      "C:\\Users\\ipochino\\AppData\\Local\\Temp\\ipykernel_12960\\4268473089.py:6: DeprecationWarning: DataFrameGroupBy.apply operated on the grouping columns. This behavior is deprecated, and in a future version of pandas the grouping columns will be excluded from the operation. Either pass `include_groups=False` to exclude the groupings or explicitly select the grouping columns after groupby to silence this warning.\n",
      "  subset = subset.groupby('unit_id', group_keys=False).apply(\n"
     ]
    },
    {
     "name": "stdout",
     "output_type": "stream",
     "text": [
      "len acf_full_subset_med 5775\n"
     ]
    },
    {
     "name": "stderr",
     "output_type": "stream",
     "text": [
      "C:\\Users\\ipochino\\AppData\\Local\\Temp\\ipykernel_12960\\4268473089.py:6: DeprecationWarning: DataFrameGroupBy.apply operated on the grouping columns. This behavior is deprecated, and in a future version of pandas the grouping columns will be excluded from the operation. Either pass `include_groups=False` to exclude the groupings or explicitly select the grouping columns after groupby to silence this warning.\n",
      "  subset = subset.groupby('unit_id', group_keys=False).apply(\n"
     ]
    },
    {
     "name": "stdout",
     "output_type": "stream",
     "text": [
      "len acf_isttc_full_subset_med 5775\n"
     ]
    },
    {
     "name": "stderr",
     "output_type": "stream",
     "text": [
      "C:\\Users\\ipochino\\AppData\\Local\\Temp\\ipykernel_12960\\4268473089.py:6: DeprecationWarning: DataFrameGroupBy.apply operated on the grouping columns. This behavior is deprecated, and in a future version of pandas the grouping columns will be excluded from the operation. Either pass `include_groups=False` to exclude the groupings or explicitly select the grouping columns after groupby to silence this warning.\n",
      "  subset = subset.groupby('unit_id', group_keys=False).apply(\n"
     ]
    },
    {
     "name": "stdout",
     "output_type": "stream",
     "text": [
      "len acf_pearsonr_avg_subset_med 5661\n"
     ]
    },
    {
     "name": "stderr",
     "output_type": "stream",
     "text": [
      "C:\\Users\\ipochino\\AppData\\Local\\Temp\\ipykernel_12960\\4268473089.py:6: DeprecationWarning: DataFrameGroupBy.apply operated on the grouping columns. This behavior is deprecated, and in a future version of pandas the grouping columns will be excluded from the operation. Either pass `include_groups=False` to exclude the groupings or explicitly select the grouping columns after groupby to silence this warning.\n",
      "  subset = subset.groupby('unit_id', group_keys=False).apply(\n"
     ]
    },
    {
     "name": "stdout",
     "output_type": "stream",
     "text": [
      "len acf_sttc_avg_subset_med 5775\n",
      "len acf_sttc_concat_subset_med 5775\n"
     ]
    },
    {
     "name": "stderr",
     "output_type": "stream",
     "text": [
      "C:\\Users\\ipochino\\AppData\\Local\\Temp\\ipykernel_12960\\4268473089.py:6: DeprecationWarning: DataFrameGroupBy.apply operated on the grouping columns. This behavior is deprecated, and in a future version of pandas the grouping columns will be excluded from the operation. Either pass `include_groups=False` to exclude the groupings or explicitly select the grouping columns after groupby to silence this warning.\n",
      "  subset = subset.groupby('unit_id', group_keys=False).apply(\n"
     ]
    }
   ],
   "source": [
    "summary_plot_df_wide_20 = get_wide_tau_df(datasets, n_=20)\n",
    "summary_plot_df_long_20 = get_long_tau_df(summary_plot_df_wide_20)"
   ]
  },
  {
   "cell_type": "code",
   "execution_count": 44,
   "id": "6bb5ba91-c48a-42a2-a4e1-c4124a9749d1",
   "metadata": {},
   "outputs": [
    {
     "name": "stderr",
     "output_type": "stream",
     "text": [
      "C:\\Users\\ipochino\\AppData\\Local\\Temp\\ipykernel_12960\\4268473089.py:6: DeprecationWarning: DataFrameGroupBy.apply operated on the grouping columns. This behavior is deprecated, and in a future version of pandas the grouping columns will be excluded from the operation. Either pass `include_groups=False` to exclude the groupings or explicitly select the grouping columns after groupby to silence this warning.\n",
      "  subset = subset.groupby('unit_id', group_keys=False).apply(\n"
     ]
    },
    {
     "name": "stdout",
     "output_type": "stream",
     "text": [
      "len acf_full_subset_med 5775\n"
     ]
    },
    {
     "name": "stderr",
     "output_type": "stream",
     "text": [
      "C:\\Users\\ipochino\\AppData\\Local\\Temp\\ipykernel_12960\\4268473089.py:6: DeprecationWarning: DataFrameGroupBy.apply operated on the grouping columns. This behavior is deprecated, and in a future version of pandas the grouping columns will be excluded from the operation. Either pass `include_groups=False` to exclude the groupings or explicitly select the grouping columns after groupby to silence this warning.\n",
      "  subset = subset.groupby('unit_id', group_keys=False).apply(\n"
     ]
    },
    {
     "name": "stdout",
     "output_type": "stream",
     "text": [
      "len acf_isttc_full_subset_med 5775\n"
     ]
    },
    {
     "name": "stderr",
     "output_type": "stream",
     "text": [
      "C:\\Users\\ipochino\\AppData\\Local\\Temp\\ipykernel_12960\\4268473089.py:6: DeprecationWarning: DataFrameGroupBy.apply operated on the grouping columns. This behavior is deprecated, and in a future version of pandas the grouping columns will be excluded from the operation. Either pass `include_groups=False` to exclude the groupings or explicitly select the grouping columns after groupby to silence this warning.\n",
      "  subset = subset.groupby('unit_id', group_keys=False).apply(\n"
     ]
    },
    {
     "name": "stdout",
     "output_type": "stream",
     "text": [
      "len acf_pearsonr_avg_subset_med 5661\n"
     ]
    },
    {
     "name": "stderr",
     "output_type": "stream",
     "text": [
      "C:\\Users\\ipochino\\AppData\\Local\\Temp\\ipykernel_12960\\4268473089.py:6: DeprecationWarning: DataFrameGroupBy.apply operated on the grouping columns. This behavior is deprecated, and in a future version of pandas the grouping columns will be excluded from the operation. Either pass `include_groups=False` to exclude the groupings or explicitly select the grouping columns after groupby to silence this warning.\n",
      "  subset = subset.groupby('unit_id', group_keys=False).apply(\n"
     ]
    },
    {
     "name": "stdout",
     "output_type": "stream",
     "text": [
      "len acf_sttc_avg_subset_med 5775\n",
      "len acf_sttc_concat_subset_med 5775\n"
     ]
    },
    {
     "name": "stderr",
     "output_type": "stream",
     "text": [
      "C:\\Users\\ipochino\\AppData\\Local\\Temp\\ipykernel_12960\\4268473089.py:6: DeprecationWarning: DataFrameGroupBy.apply operated on the grouping columns. This behavior is deprecated, and in a future version of pandas the grouping columns will be excluded from the operation. Either pass `include_groups=False` to exclude the groupings or explicitly select the grouping columns after groupby to silence this warning.\n",
      "  subset = subset.groupby('unit_id', group_keys=False).apply(\n"
     ]
    }
   ],
   "source": [
    "summary_plot_df_wide_1 = get_wide_tau_df(datasets, n_=1)\n",
    "summary_plot_df_long_1 = get_long_tau_df(summary_plot_df_wide_1)"
   ]
  },
  {
   "cell_type": "code",
   "execution_count": 63,
   "id": "85ea5fdd-472d-42bc-872f-676fab6d1e0e",
   "metadata": {},
   "outputs": [
    {
     "data": {
      "image/png": "[encoded data removed]",
      "text/plain": [
       "<Figure size 800x300 with 1 Axes>"
      ]
     },
     "metadata": {},
     "output_type": "display_data"
    }
   ],
   "source": [
    "fig, axes = plt.subplots(1,1, figsize=(8, 3), sharey=True)\n",
    "\n",
    "sns.violinplot(ax=axes, x='method', y='tau_ms_log10', hue='n_sampling', \n",
    "               order=['acf_full', 'isttc_full', 'pearsonr', 'sttc_avg', 'sttc_concat'],\n",
    "               data=summary_plot_df_long.query('n_sampling == 1 or n_sampling == 100'), \n",
    "               cut=0,  density_norm='width', legend=False, palette=['slategray', 'steelblue'])\n",
    "\n",
    "axes.grid(True, linestyle='-', alpha=0.5)\n",
    "axes.set_ylabel('Log10 Intrinsic timescale (ms)')\n",
    "\n",
    "sns.despine()\n",
    "\n",
    "if save_fig:\n",
    "    fig.savefig(fig_folder + 'tau_per_unit_5methods_1_and_100_sampling.png', bbox_inches='tight', dpi=300)\n",
    "    fig.savefig(fig_folder + 'tau_per_unit_5methods_1_and_100_sampling.svg', bbox_inches='tight')"
   ]
  },
  {
   "cell_type": "code",
   "execution_count": 48,
   "id": "a5cafa71-3286-4d10-a80d-c2bf8308bce3",
   "metadata": {},
   "outputs": [
    {
     "data": {
      "text/html": [
       "<div>\n",
       "<style scoped>\n",
       "    .dataframe tbody tr th:only-of-type {\n",
       "        vertical-align: middle;\n",
       "    }\n",
       "\n",
       "    .dataframe tbody tr th {\n",
       "        vertical-align: top;\n",
       "    }\n",
       "\n",
       "    .dataframe thead th {\n",
       "        text-align: right;\n",
       "    }\n",
       "</style>\n",
       "<table border=\"1\" class=\"dataframe\">\n",
       "  <thead>\n",
       "    <tr style=\"text-align: right;\">\n",
       "      <th></th>\n",
       "      <th>unit_id</th>\n",
       "      <th>method</th>\n",
       "      <th>tau_ms</th>\n",
       "      <th>tau_ms_log10</th>\n",
       "      <th>n_sampling</th>\n",
       "    </tr>\n",
       "  </thead>\n",
       "  <tbody>\n",
       "    <tr>\n",
       "      <th>0</th>\n",
       "      <td>950912119</td>\n",
       "      <td>pearsonr</td>\n",
       "      <td>4045.367186</td>\n",
       "      <td>3.606958</td>\n",
       "      <td>1</td>\n",
       "    </tr>\n",
       "    <tr>\n",
       "      <th>1</th>\n",
       "      <td>950912162</td>\n",
       "      <td>pearsonr</td>\n",
       "      <td>4.893621</td>\n",
       "      <td>0.689630</td>\n",
       "      <td>1</td>\n",
       "    </tr>\n",
       "    <tr>\n",
       "      <th>2</th>\n",
       "      <td>950912200</td>\n",
       "      <td>pearsonr</td>\n",
       "      <td>1.028275</td>\n",
       "      <td>0.012109</td>\n",
       "      <td>1</td>\n",
       "    </tr>\n",
       "    <tr>\n",
       "      <th>3</th>\n",
       "      <td>950912241</td>\n",
       "      <td>pearsonr</td>\n",
       "      <td>0.419118</td>\n",
       "      <td>-0.377664</td>\n",
       "      <td>1</td>\n",
       "    </tr>\n",
       "    <tr>\n",
       "      <th>4</th>\n",
       "      <td>950912250</td>\n",
       "      <td>pearsonr</td>\n",
       "      <td>144.349409</td>\n",
       "      <td>2.159415</td>\n",
       "      <td>1</td>\n",
       "    </tr>\n",
       "    <tr>\n",
       "      <th>...</th>\n",
       "      <td>...</td>\n",
       "      <td>...</td>\n",
       "      <td>...</td>\n",
       "      <td>...</td>\n",
       "      <td>...</td>\n",
       "    </tr>\n",
       "    <tr>\n",
       "      <th>113215</th>\n",
       "      <td>951190716</td>\n",
       "      <td>isttc_full</td>\n",
       "      <td>195.495317</td>\n",
       "      <td>2.291136</td>\n",
       "      <td>100</td>\n",
       "    </tr>\n",
       "    <tr>\n",
       "      <th>113216</th>\n",
       "      <td>951190722</td>\n",
       "      <td>isttc_full</td>\n",
       "      <td>267.343597</td>\n",
       "      <td>2.427070</td>\n",
       "      <td>100</td>\n",
       "    </tr>\n",
       "    <tr>\n",
       "      <th>113217</th>\n",
       "      <td>951190724</td>\n",
       "      <td>isttc_full</td>\n",
       "      <td>330.692262</td>\n",
       "      <td>2.519424</td>\n",
       "      <td>100</td>\n",
       "    </tr>\n",
       "    <tr>\n",
       "      <th>113218</th>\n",
       "      <td>951190819</td>\n",
       "      <td>isttc_full</td>\n",
       "      <td>160.832247</td>\n",
       "      <td>2.206373</td>\n",
       "      <td>100</td>\n",
       "    </tr>\n",
       "    <tr>\n",
       "      <th>113219</th>\n",
       "      <td>951190848</td>\n",
       "      <td>isttc_full</td>\n",
       "      <td>159.313998</td>\n",
       "      <td>2.202254</td>\n",
       "      <td>100</td>\n",
       "    </tr>\n",
       "  </tbody>\n",
       "</table>\n",
       "<p>113220 rows × 5 columns</p>\n",
       "</div>"
      ],
      "text/plain": [
       "          unit_id      method       tau_ms  tau_ms_log10  n_sampling\n",
       "0       950912119    pearsonr  4045.367186      3.606958           1\n",
       "1       950912162    pearsonr     4.893621      0.689630           1\n",
       "2       950912200    pearsonr     1.028275      0.012109           1\n",
       "3       950912241    pearsonr     0.419118     -0.377664           1\n",
       "4       950912250    pearsonr   144.349409      2.159415           1\n",
       "...           ...         ...          ...           ...         ...\n",
       "113215  951190716  isttc_full   195.495317      2.291136         100\n",
       "113216  951190722  isttc_full   267.343597      2.427070         100\n",
       "113217  951190724  isttc_full   330.692262      2.519424         100\n",
       "113218  951190819  isttc_full   160.832247      2.206373         100\n",
       "113219  951190848  isttc_full   159.313998      2.202254         100\n",
       "\n",
       "[113220 rows x 5 columns]"
      ]
     },
     "execution_count": 48,
     "metadata": {},
     "output_type": "execute_result"
    }
   ],
   "source": [
    "# concat long df\n",
    "summary_plot_df_long_1['n_sampling'] = 1\n",
    "summary_plot_df_long_20['n_sampling'] = 20\n",
    "summary_plot_df_long_50['n_sampling'] = 50\n",
    "summary_plot_df_long_100['n_sampling'] = 100\n",
    "\n",
    "summary_plot_df_long = pd.concat([summary_plot_df_long_1, summary_plot_df_long_20, summary_plot_df_long_50, summary_plot_df_long_100])\n",
    "summary_plot_df_long.reset_index(inplace=True, drop=True)\n",
    "summary_plot_df_long"
   ]
  },
  {
   "cell_type": "code",
   "execution_count": 49,
   "id": "a50f8ec8-9d52-4a92-b696-7d2118c2971b",
   "metadata": {},
   "outputs": [
    {
     "data": {
      "text/html": [
       "<div>\n",
       "<style scoped>\n",
       "    .dataframe tbody tr th:only-of-type {\n",
       "        vertical-align: middle;\n",
       "    }\n",
       "\n",
       "    .dataframe tbody tr th {\n",
       "        vertical-align: top;\n",
       "    }\n",
       "\n",
       "    .dataframe thead th {\n",
       "        text-align: right;\n",
       "    }\n",
       "</style>\n",
       "<table border=\"1\" class=\"dataframe\">\n",
       "  <thead>\n",
       "    <tr style=\"text-align: right;\">\n",
       "      <th></th>\n",
       "      <th>unit_id</th>\n",
       "      <th>method</th>\n",
       "      <th>tau_ms</th>\n",
       "      <th>tau_ms_log10</th>\n",
       "      <th>n_sampling</th>\n",
       "    </tr>\n",
       "  </thead>\n",
       "  <tbody>\n",
       "    <tr>\n",
       "      <th>22644</th>\n",
       "      <td>950912119</td>\n",
       "      <td>isttc_full</td>\n",
       "      <td>473.197197</td>\n",
       "      <td>2.675042</td>\n",
       "      <td>1</td>\n",
       "    </tr>\n",
       "    <tr>\n",
       "      <th>50949</th>\n",
       "      <td>950912119</td>\n",
       "      <td>isttc_full</td>\n",
       "      <td>473.197197</td>\n",
       "      <td>2.675042</td>\n",
       "      <td>20</td>\n",
       "    </tr>\n",
       "    <tr>\n",
       "      <th>79254</th>\n",
       "      <td>950912119</td>\n",
       "      <td>isttc_full</td>\n",
       "      <td>473.197197</td>\n",
       "      <td>2.675042</td>\n",
       "      <td>50</td>\n",
       "    </tr>\n",
       "    <tr>\n",
       "      <th>107559</th>\n",
       "      <td>950912119</td>\n",
       "      <td>isttc_full</td>\n",
       "      <td>473.197197</td>\n",
       "      <td>2.675042</td>\n",
       "      <td>100</td>\n",
       "    </tr>\n",
       "  </tbody>\n",
       "</table>\n",
       "</div>"
      ],
      "text/plain": [
       "          unit_id      method      tau_ms  tau_ms_log10  n_sampling\n",
       "22644   950912119  isttc_full  473.197197      2.675042           1\n",
       "50949   950912119  isttc_full  473.197197      2.675042          20\n",
       "79254   950912119  isttc_full  473.197197      2.675042          50\n",
       "107559  950912119  isttc_full  473.197197      2.675042         100"
      ]
     },
     "execution_count": 49,
     "metadata": {},
     "output_type": "execute_result"
    }
   ],
   "source": [
    "summary_plot_df_long.query('unit_id == \"950912119\" and method == \"isttc_full\"')"
   ]
  },
  {
   "cell_type": "code",
   "execution_count": null,
   "id": "053f1964-7327-46aa-959f-4f9e7ed4e3f6",
   "metadata": {},
   "outputs": [],
   "source": [
    "fig, axes = plt.subplots(4,3, figsize=(13, 14), sharey=False)\n",
    "\n",
    "sns.scatterplot(ax=axes[0,0], x='tau_ms_acf_full', y='tau_ms_isttc_full', data=summary_plot_df_wide, s=3)\n",
    "axes[0,0].set_xscale('log')\n",
    "axes[0,0].set_yscale('log')\n",
    "sns.scatterplot(ax=axes[0,1], x='tau_ms_acf_full', y='tau_ms_isttc_full', \n",
    "                data=summary_plot_df_wide.query('tau_ms_acf_full > 10 and tau_ms_acf_full < 1000 and tau_ms_isttc_full > 10 and tau_ms_isttc_full < 1000'), s=3)\n",
    "sns.histplot(ax=axes[0,2], x='tau_ms_acf_full', y='tau_ms_isttc_full', \n",
    "             data=summary_plot_df_wide.query('tau_ms_acf_full > 10 and tau_ms_acf_full < 1000 and tau_ms_isttc_full > 10 and tau_ms_isttc_full < 1000'), \n",
    "             bins=50)\n",
    "\n",
    "sns.scatterplot(ax=axes[1,0], x='tau_ms_acf_full', y='tau_ms_pearsonr', data=summary_plot_df_wide, s=3)\n",
    "axes[1,0].set_xscale('log')\n",
    "axes[1,0].set_yscale('log')\n",
    "sns.scatterplot(ax=axes[1,1], x='tau_ms_acf_full', y='tau_ms_pearsonr', \n",
    "                data=summary_plot_df_wide.query('tau_ms_acf_full > 10 and tau_ms_acf_full < 1000 and tau_ms_pearsonr > 10 and tau_ms_pearsonr < 1000'), s=3)\n",
    "sns.histplot(ax=axes[1,2], x='tau_ms_acf_full', y='tau_ms_pearsonr', \n",
    "             data=summary_plot_df_wide.query('tau_ms_acf_full > 10 and tau_ms_acf_full < 1000 and tau_ms_pearsonr > 10 and tau_ms_pearsonr < 1000'), \n",
    "             bins=50)\n",
    "\n",
    "sns.scatterplot(ax=axes[2,0], x='tau_ms_acf_full', y='tau_ms_sttc_avg', data=summary_plot_df_wide, s=3)\n",
    "axes[2,0].set_xscale('log')\n",
    "axes[2,0].set_yscale('log')\n",
    "sns.scatterplot(ax=axes[2,1], x='tau_ms_acf_full', y='tau_ms_sttc_avg', \n",
    "                data=summary_plot_df_wide.query('tau_ms_acf_full > 10 and tau_ms_acf_full < 1000 and tau_ms_sttc_avg > 10 and tau_ms_sttc_avg < 1000'), s=3)\n",
    "sns.histplot(ax=axes[2,2], x='tau_ms_acf_full', y='tau_ms_sttc_avg', \n",
    "             data=summary_plot_df_wide.query('tau_ms_acf_full > 10 and tau_ms_acf_full < 1000 and tau_ms_sttc_avg > 10 and tau_ms_sttc_avg < 1000'), \n",
    "             bins=50)\n",
    "\n",
    "sns.scatterplot(ax=axes[3,0], x='tau_ms_acf_full', y='tau_ms_sttc_concat', data=summary_plot_df_wide, s=3)\n",
    "axes[3,0].set_xscale('log')\n",
    "axes[3,0].set_yscale('log')\n",
    "sns.scatterplot(ax=axes[3,1], x='tau_ms_acf_full', y='tau_ms_sttc_concat', \n",
    "                data=summary_plot_df_wide.query('tau_ms_acf_full > 10 and tau_ms_acf_full < 1000 and tau_ms_sttc_concat > 10 and tau_ms_sttc_concat < 1000'), s=3)\n",
    "sns.histplot(ax=axes[3,2], x='tau_ms_acf_full', y='tau_ms_sttc_concat', \n",
    "             data=summary_plot_df_wide.query('tau_ms_acf_full > 10 and tau_ms_acf_full < 1000 and tau_ms_sttc_concat > 10 and tau_ms_sttc_concat < 1000'), \n",
    "             bins=50)\n",
    "\n",
    "for ax in axes.flat:\n",
    "    ax.plot([0, 1], [0, 1], c='k', transform=ax.transAxes, lw=0.5)\n",
    "    ax.set_aspect('equal', adjustable='box')\n",
    "\n",
    "#axes.grid(True, linestyle='-', alpha=0.5)\n",
    "\n",
    "sns.despine()"
   ]
  },
  {
   "cell_type": "code",
   "execution_count": 50,
   "id": "9bc36d6d-e417-4810-bb35-4b5c3a96af97",
   "metadata": {},
   "outputs": [],
   "source": [
    "# save wide and long, aslo in csv for R\n",
    "summary_plot_df_wide_100.to_pickle(dataset_folder + 'summary_taus_plot_5methods_100_resampling_df_wide.pkl')\n",
    "summary_plot_df_wide_50.to_pickle(dataset_folder + 'summary_taus_plot_5methods_50_resampling_df_wide.pkl')\n",
    "summary_plot_df_wide_20.to_pickle(dataset_folder + 'summary_taus_plot_5methods_20_resampling_df_wide.pkl')\n",
    "summary_plot_df_wide_20.to_pickle(dataset_folder + 'summary_taus_plot_5methods_1_resampling_df_wide.pkl')\n",
    "summary_plot_df_long.to_pickle(dataset_folder + 'summary_taus_plot_5methods_100_50_20_1_resampling_df_long.pkl')\n",
    "summary_plot_df_long.to_csv(dataset_folder + 'summary_taus_plot_5methods_100_50_20_1_resampling_df_long.csv')"
   ]
  },
  {
   "cell_type": "markdown",
   "id": "7ae334a9-30ea-4e76-9595-e10e5a2d9047",
   "metadata": {},
   "source": [
    "### ZZZ"
   ]
  },
  {
   "cell_type": "code",
   "execution_count": null,
   "id": "ed59503a-ece3-41ed-b79b-644586a0ef20",
   "metadata": {},
   "outputs": [],
   "source": [
    "plt.hist(summary_plot_df_wide['r_squared_diff'])"
   ]
  },
  {
   "cell_type": "code",
   "execution_count": null,
   "id": "4f802334-873d-4af3-9922-6c2e06bfa736",
   "metadata": {},
   "outputs": [],
   "source": [
    "plt.hist(summary_plot_df_wide['r_squared_diff'])"
   ]
  },
  {
   "cell_type": "code",
   "execution_count": null,
   "id": "2cd901e3-7b10-4dc6-8ea6-c608839c964a",
   "metadata": {},
   "outputs": [],
   "source": [
    "n_sttc_better = sum(summary_plot_df_wide['r_squared_diff'].values > 0)\n",
    "n_sttc_better_perc = n_sttc_better / len(summary_plot_df_wide['r_squared_diff'].values) * 100\n",
    "n_sttc_better_perc"
   ]
  },
  {
   "cell_type": "markdown",
   "id": "bbdc73b0-3b76-4744-8714-4cca341cf764",
   "metadata": {},
   "source": [
    "##### Long df without NaNs"
   ]
  },
  {
   "cell_type": "code",
   "execution_count": null,
   "id": "7795bb78-9372-435f-999c-a33077ef2109",
   "metadata": {},
   "outputs": [],
   "source": [
    "summary_df = pd.concat([acf_full_plot_df, \n",
    "                        acf_isttc_full_plot_df, \n",
    "                        acf_pearsontr_trial_avg_plot_df, \n",
    "                        acf_sttc_trial_avg_plot_df, \n",
    "                        acf_sttc_trial_concat_plot_df])\n",
    "summary_df.reset_index(inplace=True, drop=True)\n",
    "summary_df['tau_ms_log10'] = np.log10(summary_df['tau_ms'])\n",
    "summary_df.head(3)"
   ]
  },
  {
   "cell_type": "code",
   "execution_count": null,
   "id": "78268f2c-99b1-4cd6-9f32-d584d43c5721",
   "metadata": {},
   "outputs": [],
   "source": [
    "summary_df.query('fit_r_squared > 0.1').groupby(by='method', as_index=False)['fit_r_squared'].describe()"
   ]
  },
  {
   "cell_type": "code",
   "execution_count": null,
   "id": "7e853004-f161-4db5-96b8-ad1bac5f1104",
   "metadata": {},
   "outputs": [],
   "source": [
    "total_counts_df = summary_df.groupby('method', as_index=False)['decline_150_250'].count()\n",
    "total_counts_df.rename(columns={'decline_150_250': 'total_count'}, inplace=True)\n",
    "\n",
    "units_count_df = summary_df.groupby('method', as_index=False)['decline_150_250'].sum()\n",
    "units_count_df.rename(columns={'decline_150_250': 'true_count_150_250'}, inplace=True)\n",
    "\n",
    "units_acf_decline_df = pd.merge(units_count_df, total_counts_df, on='method')\n",
    "units_acf_decline_df['percentage'] = (units_acf_decline_df['true_count_150_250'] / units_acf_decline_df['total_count']) * 100\n",
    "\n",
    "units_acf_decline_df"
   ]
  },
  {
   "cell_type": "code",
   "execution_count": null,
   "id": "73e2f604-1012-4f30-be3b-8fb1d468cd2e",
   "metadata": {},
   "outputs": [],
   "source": [
    "total_counts_per_area_df = summary_df.groupby(by=['method','ecephys_structure_acronym'], as_index=False)['decline_150_250'].count()\n",
    "total_counts_per_area_df.rename(columns={'decline_150_250': 'total_count'}, inplace=True)\n",
    "\n",
    "units_count_per_area_df = summary_df.groupby(by=['method','ecephys_structure_acronym'], as_index=False)['decline_150_250'].sum()\n",
    "units_count_per_area_df.rename(columns={'decline_150_250': 'true_count'}, inplace=True)\n",
    "\n",
    "units_acf_decline_per_area_df = pd.merge(total_counts_per_area_df, units_count_per_area_df, on=['method','ecephys_structure_acronym'])\n",
    "units_acf_decline_per_area_df['percentage'] = (units_acf_decline_per_area_df['true_count'] / units_acf_decline_per_area_df['total_count']) * 100\n",
    "\n",
    "#units_acf_decline_per_area_df"
   ]
  },
  {
   "cell_type": "markdown",
   "id": "cfac096a-fefe-4ad9-8248-9bca2ad3ce0a",
   "metadata": {},
   "source": [
    "#### Plots"
   ]
  },
  {
   "cell_type": "markdown",
   "id": "a6a39d57-510e-457c-9d04-6d70bb46c266",
   "metadata": {},
   "source": [
    "##### Taus"
   ]
  },
  {
   "cell_type": "code",
   "execution_count": null,
   "id": "47081593-51f8-40ed-a1ca-42017dcf73b2",
   "metadata": {},
   "outputs": [],
   "source": [
    "color_acf_full = '#4783B4'\n",
    "color_isttc_full = '#E2552A'\n",
    "color_pearson_trail_avg = 'slategray' \n",
    "color_sttc_trail_avg =  '#E97451' \n",
    "color_sttc_trail_concat = '#B94E48' \n",
    "\n",
    "colors=[color_acf_full, color_isttc_full, color_pearson_trail_avg, color_sttc_trail_avg, color_sttc_trail_concat]\n",
    "\n",
    "brain_areas_axes_ticks = ['LGd', 'VISp', 'VISl', 'VISrl', 'LP', 'VISal', 'VISpm', 'VISam']\n",
    "brain_areas_names = ['LGN', 'V1', 'LM', 'RL', 'LP', 'AL', 'PM', 'AM']"
   ]
  },
  {
   "cell_type": "code",
   "execution_count": null,
   "id": "ebc917b1-d751-42f4-9020-8156d81861f6",
   "metadata": {},
   "outputs": [],
   "source": [
    "fig, axes = plt.subplots(1,3, figsize=(15, 3))\n",
    "\n",
    "sns.violinplot(ax=axes[0], x='method', y='tau_ms_log10', hue='method', data=summary_df, cut=0,  density_norm='width', palette=colors, legend=False)\n",
    "sns.violinplot(ax=axes[1], x='method', y='tau_ms_log10', hue='method', data=summary_df.query('tau_ms <= 1000 and tau_ms > 10'), \n",
    "               cut=0,  density_norm='width', palette=colors, legend=False)\n",
    "sns.violinplot(ax=axes[2], x='method', y='tau_ms', hue='method', \n",
    "               data=summary_df.query('tau_ms <= 1000 and tau_ms > 10'), cut=0,  density_norm='width', palette=colors)\n",
    "\n",
    "axes[0].axhline(y=np.log10(10), lw=0.5, color='k')\n",
    "axes[1].axhline(y=np.log10(100), lw=0.5, color='k')\n",
    "axes[1].axhline(y=np.log10(200), lw=0.5, color='k')\n",
    "axes[2].axhline(y=100, lw=0.5, color='k')\n",
    "axes[2].axhline(y=200, lw=0.5, color='k')\n",
    "\n",
    "sns.despine()"
   ]
  },
  {
   "cell_type": "code",
   "execution_count": null,
   "id": "ea10f3b8-806a-4c1d-8a50-42910e9a3b45",
   "metadata": {},
   "outputs": [],
   "source": [
    "summary_df.query('tau_ms <= 1000 and tau_ms > 10').groupby(['method'])['tau_ms'].median()"
   ]
  },
  {
   "cell_type": "code",
   "execution_count": null,
   "id": "5e17a974-e06e-4809-9259-91469bb099ad",
   "metadata": {},
   "outputs": [],
   "source": [
    "fig, axes = plt.subplots(2,4, figsize=(16, 7))\n",
    "plt.subplots_adjust(hspace=0.6, wspace=0.4)\n",
    "\n",
    "for area_idx, area in enumerate(brain_areas_axes_ticks):\n",
    "    y_idx = area_idx % 4 \n",
    "    x_idx = area_idx // 4\n",
    "    sns.violinplot(ax=axes[x_idx,y_idx], x='method', y='tau_ms', hue='method',\n",
    "                   data=summary_df.query('tau_ms <= 1000 and tau_ms > 10 and ecephys_structure_acronym == @area'), \n",
    "                   cut=0,  density_norm='width', palette=colors)\n",
    "    axes[x_idx,y_idx].set_title(area)\n",
    "\n",
    "for ax in axes.flat:\n",
    "    ax.set_xticks(['acf_full', 'isttc_full', 'pearsonr_trial_avg','sttc_trial_avg', 'sttc_trial_concat'])\n",
    "    ax.set_xticklabels(['ACF full', 'iSTTC full', 'Pearson trial avg', 'STTC trial avg', 'STTC trial concat'], \n",
    "                       rotation=45, ha='right', fontsize=8)\n",
    "\n",
    "sns.despine()"
   ]
  },
  {
   "cell_type": "code",
   "execution_count": null,
   "id": "24d6732d-4d64-4ff9-b881-232ed47ca8d5",
   "metadata": {},
   "outputs": [],
   "source": [
    "df_median = summary_df.query('tau_ms <= 1000 and tau_ms > 10').groupby(['ecephys_structure_acronym', 'method'])['tau_ms'].median().unstack()\n",
    "annot_vals = df_median.round(0).astype(int)\n",
    "\n",
    "sns.heatmap(df_median, annot=annot_vals, fmt=\"d\", cmap=\"viridis\")\n",
    "#sns.heatmap(df_median, annot=True, cmap='viridis')"
   ]
  },
  {
   "cell_type": "code",
   "execution_count": null,
   "id": "7ff35908-17c7-4b2a-a4c9-5609fc19cbd5",
   "metadata": {},
   "outputs": [],
   "source": [
    "df_median = summary_df.groupby(['ecephys_structure_acronym', 'method'])['tau_ms'].median().unstack()\n",
    "annot_vals = df_median.round(0).astype(int)\n",
    "\n",
    "sns.heatmap(df_median, annot=annot_vals, fmt=\"d\", cmap=\"viridis\")"
   ]
  },
  {
   "cell_type": "code",
   "execution_count": null,
   "id": "66006dce-1327-4c38-836c-66405de054a1",
   "metadata": {},
   "outputs": [],
   "source": [
    "summary_df.groupby(['ecephys_structure_acronym', 'method'])['tau_ms'].median()"
   ]
  },
  {
   "cell_type": "code",
   "execution_count": null,
   "id": "6e71a2ff-d233-412b-a21c-c56c3caa6e4f",
   "metadata": {},
   "outputs": [],
   "source": [
    "annot_vals = mad_df.round(0).astype(int)\n",
    "sns.heatmap(mad_df, annot=annot_vals, fmt=\"d\", cmap=\"viridis\")"
   ]
  },
  {
   "cell_type": "code",
   "execution_count": null,
   "id": "0e9a1183-b8b1-41ec-bb63-3df0a310a089",
   "metadata": {},
   "outputs": [],
   "source": [
    "df = summary_df.query('tau_ms <= 1000 and tau_ms > 10')\n",
    "# Step 1: Calculate median\n",
    "median_df = df.groupby(['ecephys_structure_acronym', 'method'])['tau_ms'].median().unstack()\n",
    "\n",
    "# Step 2: Calculate MAD\n",
    "def mad(x):\n",
    "    return np.median(np.abs(x - np.median(x)))\n",
    "\n",
    "mad_df = df.groupby(['ecephys_structure_acronym', 'method'])['tau_ms'].apply(mad).unstack()\n",
    "\n",
    "# Step 3: Heatmap of medians\n",
    "fig, ax = plt.subplots(figsize=(8, 8))\n",
    "sns.heatmap(median_df, cmap='viridis', annot=median_df.round(0).astype(int), fmt='d', ax=ax, cbar=True)\n",
    "\n",
    "# Step 4: Normalize MAD to [0,1] for dot sizing\n",
    "norm_mad = (mad_df - mad_df.min().min()) / (mad_df.max().max() - mad_df.min().min())\n",
    "\n",
    "# Overlay MAD as dot size\n",
    "for i, region in enumerate(median_df.index):\n",
    "    for j, method in enumerate(median_df.columns):\n",
    "        spread = norm_mad.loc[region, method]\n",
    "        radius = 0.3 * spread\n",
    "        ax.add_patch(plt.Circle((j + 0.5, i + 0.5), radius, color='white', alpha=0.4))\n",
    "\n",
    "plt.title('Median tau_ms (color) + MAD (dot size)')\n",
    "plt.xlabel('method')\n",
    "plt.ylabel('region')\n",
    "plt.tight_layout()\n",
    "plt.show()"
   ]
  },
  {
   "cell_type": "code",
   "execution_count": null,
   "id": "f4b3e726-e315-4e8c-bf00-7761d0238b29",
   "metadata": {},
   "outputs": [],
   "source": [
    "# Step 1: Aggregate median and MAD\n",
    "def mad(x):\n",
    "    return np.median(np.abs(x - np.median(x)))\n",
    "\n",
    "agg_df = df.groupby(['ecephys_structure_acronym', 'method'])['tau_ms'].agg(\n",
    "    median='median',\n",
    "    mad=mad\n",
    ").reset_index()\n",
    "\n",
    "# Step 2: Plot using matplotlib directly for error bars\n",
    "plt.figure(figsize=(10, 6))\n",
    "\n",
    "regions = agg_df['ecephys_structure_acronym'].unique()\n",
    "colors = sns.color_palette(\"tab10\", len(regions))\n",
    "\n",
    "for i, region in enumerate(regions):\n",
    "    region_data = agg_df[agg_df['ecephys_structure_acronym'] == region]\n",
    "    \n",
    "    # Sort methods for consistent plotting\n",
    "    methods = region_data['method']\n",
    "    x = np.arange(len(methods)) + i * 0.1  # offset to dodge points\n",
    "    y = region_data['median']\n",
    "    yerr = region_data['mad']\n",
    "    \n",
    "    plt.errorbar(\n",
    "        x, y, yerr=yerr,\n",
    "        fmt='o', capsize=4, label=region,\n",
    "        color=colors[i], alpha=0.8\n",
    "    )\n",
    "\n",
    "# Tidy up x-axis\n",
    "plt.xticks(np.arange(len(methods)), methods.unique(), rotation=45)\n",
    "plt.ylabel(\"tau_ms (median ± MAD)\")\n",
    "plt.xlabel(\"Method\")\n",
    "plt.title(\"Median tau_ms per Method with MAD Error Bars\")\n",
    "plt.legend(title=\"Region\")\n",
    "plt.tight_layout()\n",
    "plt.show()"
   ]
  },
  {
   "cell_type": "code",
   "execution_count": null,
   "id": "ab114375-cb8b-47da-9530-70ea170a5eee",
   "metadata": {},
   "outputs": [],
   "source": [
    "sns.boxplot(data=summary_df.query('tau_ms <= 1000 and tau_ms > 10'), x=\"method\", y=\"tau_ms\", hue=\"ecephys_structure_acronym\", dodge=True)"
   ]
  },
  {
   "cell_type": "code",
   "execution_count": null,
   "id": "74735a7c-d977-4203-b1f1-15dfc92166e2",
   "metadata": {},
   "outputs": [],
   "source": [
    "fig, axes = plt.subplots(2,4, figsize=(16, 6))\n",
    "plt.subplots_adjust(hspace=0.4, wspace=0.4)\n",
    "\n",
    "for area_idx, area in enumerate(brain_areas_axes_ticks):\n",
    "    y_idx = area_idx % 4 \n",
    "    x_idx = area_idx // 4\n",
    "    sns.violinplot(ax=axes[x_idx,y_idx], x='method', y='tau_ms_log10', hue='method',\n",
    "                   data=summary_df.query('ecephys_structure_acronym == @area'), \n",
    "                   cut=0,  density_norm='width', palette=colors)\n",
    "    axes[x_idx,y_idx].axhline(y=np.log10(10), lw=0.5, color='k')\n",
    "    axes[x_idx,y_idx].set_title(area)\n",
    "\n",
    "sns.despine()"
   ]
  },
  {
   "cell_type": "markdown",
   "id": "6b0b053f-4e45-4c76-b252-d4c38babab66",
   "metadata": {},
   "source": [
    "##### Quality metrics"
   ]
  },
  {
   "cell_type": "code",
   "execution_count": null,
   "id": "ed56b814-4a64-4026-99e2-a2641a6c0604",
   "metadata": {},
   "outputs": [],
   "source": [
    "fig, axes = plt.subplots(1, 1, figsize=(5, 3))\n",
    "\n",
    "sns.barplot(data=units_acf_decline_df, x='method', y='percentage', palette=colors)\n",
    "\n",
    "axes.set_ylabel('ACF decline 150-250ms (%)')\n",
    "axes.set_xlabel('')\n",
    "axes.set_ylim(0, 100)  \n",
    "\n",
    "axes.set_xticklabels(['ACF full', 'iSTTC full', 'Pearson trial avg', 'STTC trial avg', 'STTC trial concat'], rotation=45, ha='right')\n",
    "axes.set_xticks(['acf_full', 'isttc_full', 'pearsonr_trial_avg', 'sttc_trial_avg', 'sttc_trial_concat'])\n",
    "\n",
    "for p, (true_count, total_count) in zip(axes.patches, zip(units_acf_decline_df['true_count_150_250'], units_acf_decline_df['total_count'])):\n",
    "    percentage = p.get_height()\n",
    "    axes.annotate(f'{percentage:.1f}%\\n({true_count}/{total_count})', \n",
    "                (p.get_x() + p.get_width() / 2., p.get_height()), \n",
    "                ha='center', va='bottom', fontsize=8, color='black')\n",
    "\n",
    "sns.despine()\n",
    "\n",
    "# if save_fig:\n",
    "#     fig.savefig(fig_folder + 'criteria2_all_units.png', bbox_inches='tight', dpi=300)\n",
    "#     fig.savefig(fig_folder + 'criteria2_all_units.svg', bbox_inches='tight')"
   ]
  },
  {
   "cell_type": "code",
   "execution_count": null,
   "id": "409064ee-f043-4ffd-a5dd-7cdb5bd9c3a2",
   "metadata": {},
   "outputs": [],
   "source": [
    "fig, axes = plt.subplots(1, 1, figsize=(12, 3))\n",
    "\n",
    "sns.barplot(data=units_acf_decline_per_area_df, x='ecephys_structure_acronym', y='percentage', hue='method', palette=colors)\n",
    "\n",
    "axes.set_ylabel('ACF decline 150-250ms (%)')\n",
    "# axes.set_xlabel('')\n",
    "axes.set_ylim(0, 100)  \n",
    "axes.legend(frameon=False, loc='upper center', bbox_to_anchor=(0.5, 1.15), ncol=2)\n",
    "\n",
    "# axes.set_xticklabels(['ACF full', 'iSTTC full', 'Pearson trial avg', 'STTC trial avg', 'STTC trial concat'], rotation=45, ha='right')\n",
    "# axes.set_xticks(['acf_full', 'isttc_full', 'pearsonr_trial_avg', 'sttc_trial_avg', 'sttc_trial_concat'])\n",
    "\n",
    "# for p, (true_count, total_count) in zip(axes.patches, zip(units_acf_decline_df['true_count'], units_acf_decline_df['total_count'])):\n",
    "#     percentage = p.get_height()\n",
    "#     axes.annotate(f'{percentage:.1f}%\\n({true_count}/{total_count})', \n",
    "#                 (p.get_x() + p.get_width() / 2., p.get_height()), \n",
    "#                 ha='center', va='bottom', fontsize=8, color='black')\n",
    "\n",
    "sns.despine()\n",
    "\n",
    "# if save_fig:\n",
    "#     fig.savefig(fig_folder + 'criteria2_all_units.png', bbox_inches='tight', dpi=300)\n",
    "#     fig.savefig(fig_folder + 'criteria2_all_units.svg', bbox_inches='tight')"
   ]
  },
  {
   "cell_type": "code",
   "execution_count": null,
   "id": "04de4aa2-96b3-4e35-996a-b1e87e1a62fa",
   "metadata": {},
   "outputs": [],
   "source": [
    "fig, axes = plt.subplots(1, 1, figsize=(5, 3))\n",
    "\n",
    "sns.violinplot(ax=axes, x='method', y='fit_r_squared', data=summary_df.query('decline_150_250 == True'), \n",
    "               cut=0, density_norm='width', palette=colors)\n",
    "axes.set_ylabel('Coefficient of determination \\n (R-squared)')\n",
    "axes.set_xlabel('')\n",
    "axes.set_ylim(0, 1)  \n",
    "axes.set_xticklabels(['ACF full', 'iSTTC full', 'Pearson trial avg', 'STTC trial avg', 'STTC trial concat'], rotation=45, ha='right')\n",
    "axes.set_xticks(['acf_full', 'isttc_full', 'pearsonr_trial_avg', 'sttc_trial_avg', 'sttc_trial_concat'])\n",
    "\n",
    "# Compute mean R-squared for each method\n",
    "mean_r2 = summary_df.query('decline_150_250 == True').groupby('method')['fit_r_squared'].median()\n",
    "\n",
    "# Create legend labels\n",
    "legend_labels = [f\"{method}: {mean_r2:.2f}\" for method, mean_r2 in mean_r2.items()]\n",
    "\n",
    "# Add legend on top\n",
    "handles = [plt.Line2D([0], [0], color=color, lw=4) for color in colors]\n",
    "legend = axes.legend(handles, legend_labels, title=\"Median R-squared (ACF decline 150-250ms)\", loc='upper center',\n",
    "                     bbox_to_anchor=(0.5, 1.35), fontsize=8, title_fontsize=9, ncol=3, frameon=False)\n",
    "\n",
    "sns.despine()\n",
    "\n",
    "# if save_fig:\n",
    "#     fig.savefig(fig_folder + 'rsquared_acf_decline_units.png', bbox_inches='tight', dpi=300)\n",
    "#     fig.savefig(fig_folder + 'rsquared_acf_decline_units.svg', bbox_inches='tight')"
   ]
  },
  {
   "cell_type": "code",
   "execution_count": null,
   "id": "0c6b383c-fcfa-420d-ab15-b52c0823495d",
   "metadata": {},
   "outputs": [],
   "source": [
    "summary_df"
   ]
  },
  {
   "cell_type": "code",
   "execution_count": null,
   "id": "dccc42b9-4148-4fc9-97f8-888daaa3c61b",
   "metadata": {},
   "outputs": [],
   "source": [
    "summary_df.query('method == \"sttc_trail_concat\"')['fit_r_squared'].values "
   ]
  },
  {
   "cell_type": "code",
   "execution_count": null,
   "id": "64912c71-4fc7-444b-a1e3-5e9661a5b78c",
   "metadata": {},
   "outputs": [],
   "source": [
    "fig, axes = plt.subplots(1,3, figsize=(12,3))\n",
    "plt.subplots_adjust(hspace=0.4, wspace=0.4)\n",
    "\n",
    "sns.histplot(ax=axes[0], x=summary_df.query('method == \"acf_full\"')['fit_r_squared'].values, \n",
    "             y=summary_df.query('method == \"isttc_full\"')['fit_r_squared'].values, bins=200)\n",
    "axes[0].plot([0, 1], [0, 1], c='k', transform=axes[0].transAxes)\n",
    "axes[0].set_aspect('equal', adjustable='box')\n",
    "axes[0].set_xlabel('ACF R-squared')\n",
    "axes[0].set_ylabel('iSTTC R-squared')\n",
    "axes[0].set_title('binned')\n",
    "\n",
    "sns.scatterplot(ax=axes[1], x=summary_df.query('method == \"acf_full\"')['fit_r_squared'].values, \n",
    "             y=summary_df.query('method == \"isttc_full\"')['fit_r_squared'].values, s=2)\n",
    "axes[1].plot([0, 1], [0, 1], c='k', transform=axes[1].transAxes)\n",
    "axes[1].set_aspect('equal', adjustable='box')\n",
    "axes[1].set_xlabel('ACF R-squared')\n",
    "axes[1].set_ylabel('iSTTC R-squared')\n",
    "axes[1].set_title('scatter')\n",
    "\n",
    "r_squared_diff = summary_df.query('method == \"sttc_trial_concat\"')['fit_r_squared'].values - summary_df.query('method == \"pearsonr_trial_avg\"')['fit_r_squared'].values\n",
    "n_sttc_better = sum(r_squared_diff > 0)\n",
    "n_sttc_better_perc = n_sttc_better / len(r_squared_diff) * 100\n",
    "\n",
    "sns.histplot(ax=axes[2], x=r_squared_diff, stat='probability', bins=20, kde=False, color='steelblue')\n",
    "axes[2].axvline(x=0, lw=1, c='k')\n",
    "axes[2].set_xlabel('STTC R-squared - \\nACF R-squared')\n",
    "axes[2].set_title('{}% STTC fits \\nhave higher R-squared'.format(np.round(n_sttc_better_perc,2)))\n",
    "\n",
    "fig.suptitle('sttc vs acf, allen, n_units = ' + str(len(r_squared_diff)), y=1.15)\n",
    "\n",
    "sns.despine()\n",
    "\n",
    "#fig.savefig(isttc_results_folder_path + 'allen_sttc_vs_pearson.png' , bbox_inches='tight')"
   ]
  },
  {
   "cell_type": "markdown",
   "id": "12bfaa28-1856-4073-a126-c1c0da96ae8b",
   "metadata": {},
   "source": [
    "#### FR vs taus"
   ]
  },
  {
   "cell_type": "code",
   "execution_count": null,
   "id": "e2c8e117-5d74-41fd-9f2e-aec54b5319aa",
   "metadata": {},
   "outputs": [],
   "source": [
    "summary_df['fr_hz_spont_30min_log10'] = np.log10(summary_df['fr_hz_spont_30min'])"
   ]
  },
  {
   "cell_type": "code",
   "execution_count": null,
   "id": "1f815b54-268f-4ab5-a681-5d067f6ba3f0",
   "metadata": {},
   "outputs": [],
   "source": [
    "sns.regplot(x='fr_hz_spont_30min_log10', y='tau_ms_log10', \n",
    "            data=summary_df.query('tau_ms > 10 and tau_ms < 1000 and method == \"acf_full\"'), scatter=False, color=color_acf_full)\n",
    "\n",
    "sns.regplot(x='fr_hz_spont_30min_log10', y='tau_ms_log10', \n",
    "            data=summary_df.query('tau_ms > 10 and tau_ms < 1000 and method == \"isttc_full\"'), scatter=False, color=color_isttc_full)\n",
    "\n",
    "sns.regplot(x='fr_hz_spont_30min_log10', y='tau_ms_log10', \n",
    "            data=summary_df.query('tau_ms > 10 and tau_ms < 1000 and method == \"pearsonr_trial_avg\"'), scatter=False, color=color_pearson_trail_avg)\n",
    "\n",
    "sns.regplot(x='fr_hz_spont_30min_log10', y='tau_ms_log10', \n",
    "            data=summary_df.query('tau_ms > 10 and tau_ms < 1000 and method == \"sttc_trial_avg\"'), scatter=False, color=color_sttc_trail_avg)"
   ]
  }
 ],
 "metadata": {
  "kernelspec": {
   "display_name": "Python 3 (ipykernel)",
   "language": "python",
   "name": "python3"
  },
  "language_info": {
   "codemirror_mode": {
    "name": "ipython",
    "version": 3
   },
   "file_extension": ".py",
   "mimetype": "text/x-python",
   "name": "python",
   "nbconvert_exporter": "python",
   "pygments_lexer": "ipython3",
   "version": "3.12.9"
  }
 },
 "nbformat": 4,
 "nbformat_minor": 5
}
