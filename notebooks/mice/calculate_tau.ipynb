{
 "cells": [
  {
   "cell_type": "markdown",
   "id": "2e2320d4-37db-4a9f-ae22-78ad912e968c",
   "metadata": {},
   "source": [
    "Calculate taus:\n",
    "\n",
    "full signal:\n",
    "1. ACF full\n",
    "2. iSTTC full\n",
    "   \n",
    "trial average style:\n",
    "1. Pearsonr trial avg\n",
    "2. iSTTC trial avg\n",
    "3. iSTTC trial concat"
   ]
  },
  {
   "cell_type": "code",
   "execution_count": 1,
   "id": "4a5c618e-ef3a-4d40-959f-09191178be54",
   "metadata": {},
   "outputs": [],
   "source": [
    "import numpy as np\n",
    "import pandas as pd\n",
    "import matplotlib.pyplot as plt\n",
    "import seaborn as sns\n",
    "\n",
    "# import from scripts\n",
    "import os\n",
    "current_wd = os.getcwd()\n",
    "os.chdir(os.path.abspath(\"..\\\\..\\\\..\\\\isttc\\\\scripts\"))\n",
    "#os.chdir(os.path.abspath(\"C:\\\\Users\\\\ipoch\\\\Documents\\\\repos\\\\isttc\\\\scripts\"))\n",
    "from calculate_tau import fit_single_exp, fit_single_exp_2d, func_single_exp, func_single_exp_monkey\n",
    "from cfg_global import project_folder_path\n",
    "os.chdir(current_wd)"
   ]
  },
  {
   "cell_type": "code",
   "execution_count": 2,
   "id": "721a31e0-045a-47d5-b095-76ba184ff466",
   "metadata": {},
   "outputs": [],
   "source": [
    "dataset_folder = project_folder_path + 'results\\\\allen_mice\\\\dataset\\\\'\n",
    "#fig_folder = project_folder_path + 'results\\\\allen_mice\\\\fig_draft_paper\\\\'"
   ]
  },
  {
   "cell_type": "markdown",
   "id": "497bb72c-279f-43ef-b73b-3ce78a697037",
   "metadata": {},
   "source": [
    "### Load data"
   ]
  },
  {
   "cell_type": "code",
   "execution_count": 3,
   "id": "f71ba6c3-7895-4508-be06-a62046b7d137",
   "metadata": {},
   "outputs": [],
   "source": [
    "acf_full_df_file = dataset_folder + 'cut_30min\\\\binned\\\\acf\\\\acf_full_50ms_20lags_df.pkl'\n",
    "acf_full_df = pd.read_pickle(acf_full_df_file)"
   ]
  },
  {
   "cell_type": "code",
   "execution_count": 4,
   "id": "788c1d56-63cb-4cdf-a2d1-a088107e2e48",
   "metadata": {},
   "outputs": [
    {
     "name": "stdout",
     "output_type": "stream",
     "text": [
      "acf_cols ['acf_0', 'acf_1', 'acf_2', 'acf_3', 'acf_4', 'acf_5', 'acf_6', 'acf_7', 'acf_8', 'acf_9', 'acf_10', 'acf_11', 'acf_12', 'acf_13', 'acf_14', 'acf_15', 'acf_16', 'acf_17', 'acf_18', 'acf_19', 'acf_20']\n"
     ]
    }
   ],
   "source": [
    "n_lags = 20\n",
    "acf_cols = ['acf_' + str(i) for i in range(n_lags+1)]\n",
    "print('acf_cols {}'.format(acf_cols))"
   ]
  },
  {
   "cell_type": "code",
   "execution_count": null,
   "id": "21fc7222-3c7d-4486-9ada-418d6b5d9347",
   "metadata": {},
   "outputs": [],
   "source": [
    "acf_full_df"
   ]
  },
  {
   "cell_type": "markdown",
   "id": "625c1a27-83c7-486e-9068-c74c489b6b8b",
   "metadata": {},
   "source": [
    "### Calculate taus\n",
    "\n",
    "Get all ACF for an area and then fit exponential decay to all points (no mean area ACF)"
   ]
  },
  {
   "cell_type": "markdown",
   "id": "b49a508d-5cb6-4e40-a3fa-a55ef38cce4c",
   "metadata": {},
   "source": [
    "#### Per area"
   ]
  },
  {
   "cell_type": "code",
   "execution_count": 5,
   "id": "8d4aab67-1a7a-49fd-8409-2d8b183c45da",
   "metadata": {},
   "outputs": [],
   "source": [
    "def calc_population_tau_2d(acf_df_, acf_cols_, start_idx_, func_to_fit_):\n",
    "    acf_2d = acf_df_[acf_cols_].values\n",
    "    fit_popt, fit_pcov, tau, tau_ci, fit_r_squared, explained_var, log_message = fit_single_exp_2d(acf_2d, start_idx_, func_to_fit_)\n",
    "    print(f'tau {tau*50}, 95% CI {tau_ci[0]*50},{tau_ci[1]*50}')\n",
    "    return {'tau_ms':tau*50,\n",
    "            'tau_lower_ms':tau_ci[0]*50, \n",
    "            'tau_upper_ms':tau_ci[1]*50, \n",
    "            'fit_r_squared': fit_r_squared, \n",
    "            'explained_var': explained_var, \n",
    "            'popt': fit_popt}"
   ]
  },
  {
   "cell_type": "code",
   "execution_count": 6,
   "id": "b9a43eba-cf2c-4f40-9ed8-a98a9c57daa2",
   "metadata": {},
   "outputs": [
    {
     "name": "stdout",
     "output_type": "stream",
     "text": [
      "brain_areas ['VISam' 'LP' 'VISp' 'VISl' 'LGd' 'VISal' 'VISrl' 'VISpm']\n"
     ]
    }
   ],
   "source": [
    "brain_areas = acf_full_df['ecephys_structure_acronym'].unique()\n",
    "print(f'brain_areas {brain_areas}')"
   ]
  },
  {
   "cell_type": "code",
   "execution_count": 7,
   "id": "fb8f51d3-da87-43d0-9d13-918fd17186c9",
   "metadata": {},
   "outputs": [
    {
     "name": "stdout",
     "output_type": "stream",
     "text": [
      "processing area VISam\n",
      "N units for brain area VISam: 912\n",
      "tau 336.07320279984594, 95% CI 299.7883635744778,372.3580420252141\n",
      "processing area LP\n",
      "N units for brain area LP: 599\n",
      "tau 257.53315535707674, 95% CI 232.53166108308338,282.53464963107007\n",
      "processing area VISp\n",
      "N units for brain area VISp: 1063\n",
      "tau 319.66687594979885, 95% CI 295.8336673894851,343.50008451011263\n",
      "processing area VISl\n",
      "N units for brain area VISl: 727\n",
      "tau 309.8334693807622, 95% CI 279.6725253656186,339.99441339590584\n",
      "processing area LGd\n",
      "N units for brain area LGd: 254\n",
      "tau 333.6651172846553, 95% CI 263.42844626777025,403.9017883015403\n",
      "processing area VISal\n",
      "N units for brain area VISal: 928\n",
      "tau 308.2366813382866, 95% CI 279.836254746488,336.63710793008516\n",
      "processing area VISrl\n",
      "N units for brain area VISrl: 706\n",
      "tau 231.96038579674854, 95% CI 209.99032181396763,253.93044977952943\n",
      "processing area VISpm\n",
      "N units for brain area VISpm: 586\n",
      "tau 355.8784731752373, 95% CI 309.0139906114747,402.7429557389998\n"
     ]
    }
   ],
   "source": [
    "acf_full_taus_dict = {}\n",
    "\n",
    "for area in brain_areas:\n",
    "    print(f'processing area {area}')\n",
    "    acf_full_df_area = acf_full_df.query('ecephys_structure_acronym == @area').copy()\n",
    "    print(f'N units for brain area {area}: {len(acf_full_df_area)}')\n",
    "    acf_full_taus_dict[area] = calc_population_tau_2d(acf_full_df_area, acf_cols, 2, func_single_exp_monkey)"
   ]
  },
  {
   "cell_type": "markdown",
   "id": "25e720f4-2eca-4b14-a1f1-2e561b63d9c0",
   "metadata": {},
   "source": [
    "#### Per unit"
   ]
  },
  {
   "cell_type": "markdown",
   "id": "4af7f803-7497-4ff4-bc7d-b71878dd0625",
   "metadata": {},
   "source": [
    "### Plots"
   ]
  },
  {
   "cell_type": "code",
   "execution_count": 8,
   "id": "1c8fce99-7eaa-41f8-9e7d-a9b752f6cec9",
   "metadata": {},
   "outputs": [],
   "source": [
    "brain_areas = ['LGd', 'VISp', 'VISl', 'VISrl', 'LP', 'VISal', 'VISpm', 'VISam']\n",
    "brain_areas_names = ['LGN', 'V1', 'LM', 'RL', 'LP', 'AL', 'PM', 'AM']"
   ]
  },
  {
   "cell_type": "markdown",
   "id": "2c9ad7e9-264a-4af2-b519-4f3d19a5e04f",
   "metadata": {},
   "source": [
    "#### Per area with confidence intervals"
   ]
  },
  {
   "cell_type": "code",
   "execution_count": 9,
   "id": "1ba9acf6-1214-41f8-9542-7cc89dddb922",
   "metadata": {},
   "outputs": [
    {
     "data": {
      "image/png": "[encoded data removed]",
      "text/plain": [
       "<Figure size 1200x200 with 2 Axes>"
      ]
     },
     "metadata": {},
     "output_type": "display_data"
    }
   ],
   "source": [
    "acf_full_conditions = brain_areas\n",
    "\n",
    "acf_full_tau = [acf_full_taus_dict[c]['tau_ms'] for c in acf_full_conditions]\n",
    "acf_full_tau_lower = [acf_full_taus_dict[c]['tau_lower_ms'] for c in acf_full_conditions]\n",
    "acf_full_tau_upper = [acf_full_taus_dict[c]['tau_upper_ms'] for c in acf_full_conditions]\n",
    "acf_full_error_bars = [np.array(acf_full_tau) - np.array(acf_full_tau_lower), np.array(acf_full_tau_upper) - np.array(acf_full_tau)]\n",
    "\n",
    "fig, axes = plt.subplots(1, 2, figsize=(12, 2), sharey=False)\n",
    "plt.subplots_adjust(hspace=0.4, wspace=0.4)\n",
    "\n",
    "#colors = [color_pearson_trail_avg, color_sttc_trail_avg, color_sttc_trail_concat, 'k']\n",
    "\n",
    "for i, (cond, tau, err_low, err_high) in enumerate(zip(acf_full_conditions, acf_full_tau, acf_full_error_bars[0], acf_full_error_bars[1])):\n",
    "    axes[0].errorbar(cond, tau, yerr=[[err_low], [err_high]], fmt='o', capsize=5, capthick=2, markersize=8, color='slategray')\n",
    "axes[0].set_xticks(acf_full_conditions)\n",
    "axes[0].set_xticklabels(brain_areas_names)\n",
    "axes[0].set_title('ACF full, 95% CI')\n",
    "\n",
    "# for i, (cond, tau, err_low, err_high, col) in enumerate(zip(pfp_conditions, pfp_tau, pfp_error_bars[0], pfp_error_bars[1], colors)):\n",
    "#     axes[1].errorbar(cond, tau, yerr=[[err_low], [err_high]], fmt='o', capsize=5, capthick=2, markersize=8, color=col)\n",
    "# axes[1].set_xticks(pfp_conditions)\n",
    "# axes[1].set_title('PFp, 95% CI')\n",
    "\n",
    "for ax in axes.flat:\n",
    "    ax.grid(True, linestyle='--', alpha=0.5)\n",
    "    ax.set_ylabel('Intrinsic timescale (ms)')\n",
    "    # ax.set_xticklabels(['Pearson trial avg', 'STTC trial avg', 'STTC trial concat', 'Fascianelli et al.2019 \\n Figure 2'], \n",
    "    #                    rotation=45, ha='right', fontsize=8)\n",
    "    # ax.set_ylim([180, 280])\n",
    "    \n",
    "\n",
    "sns.despine()\n",
    "\n",
    "# if save_fig:\n",
    "#     fig.savefig(fig_folder + 'fig2_repr_no_empty_1000ms_population_fit.png', bbox_inches='tight', dpi=300)\n",
    "#     fig.savefig(fig_folder + 'fig2_repr_no_empty_1000ms_population_fit.svg', bbox_inches='tight')"
   ]
  }
 ],
 "metadata": {
  "kernelspec": {
   "display_name": "Python 3 (ipykernel)",
   "language": "python",
   "name": "python3"
  },
  "language_info": {
   "codemirror_mode": {
    "name": "ipython",
    "version": 3
   },
   "file_extension": ".py",
   "mimetype": "text/x-python",
   "name": "python",
   "nbconvert_exporter": "python",
   "pygments_lexer": "ipython3",
   "version": "3.12.9"
  }
 },
 "nbformat": 4,
 "nbformat_minor": 5
}
