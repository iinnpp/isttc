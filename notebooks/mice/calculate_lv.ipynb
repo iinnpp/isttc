{
 "cells": [
  {
   "cell_type": "code",
   "execution_count": 1,
   "id": "5ff814d2-ccf3-4468-b916-f9441abdca6d",
   "metadata": {},
   "outputs": [],
   "source": [
    "import csv\n",
    "import numpy as np\n",
    "import pandas as pd\n",
    "import seaborn as sns\n",
    "import matplotlib as mpl\n",
    "import matplotlib.pyplot as plt\n",
    "\n",
    "# import from scripts\n",
    "import os\n",
    "current_wd = os.getcwd()\n",
    "os.chdir(os.path.abspath(\"..\\\\..\\\\..\\\\isttc\\\\scripts\"))\n",
    "from cfg_global import project_folder_path\n",
    "from spike_train_utils import get_lv\n",
    "os.chdir(current_wd)"
   ]
  },
  {
   "cell_type": "code",
   "execution_count": 2,
   "id": "df35a8d2-81d6-4777-8406-252cf6b0a0f6",
   "metadata": {},
   "outputs": [],
   "source": [
    "dataset_folder = project_folder_path + 'results\\\\mice\\\\dataset\\\\cut_30min\\\\'\n",
    "fig_folder = project_folder_path + 'results\\\\mice\\\\fig_draft_paper\\\\'"
   ]
  },
  {
   "cell_type": "code",
   "execution_count": 3,
   "id": "d260d3b2-12fe-41a5-96be-c376b271fa59",
   "metadata": {},
   "outputs": [],
   "source": [
    "calculate_lv = False\n",
    "save_fig = False"
   ]
  },
  {
   "cell_type": "code",
   "execution_count": 4,
   "id": "b978b6a9-9f4a-44d3-aec1-558dacb476d3",
   "metadata": {},
   "outputs": [],
   "source": [
    "mpl.rcParams['pdf.fonttype'] = 42\n",
    "mpl.rcParams['ps.fonttype'] = 42\n",
    "plt.rcParams['svg.fonttype'] = 'none'"
   ]
  },
  {
   "cell_type": "markdown",
   "id": "c35bda26-a1f2-4cf5-9262-7f91d009e0f6",
   "metadata": {},
   "source": [
    "#### Get data"
   ]
  },
  {
   "cell_type": "code",
   "execution_count": 5,
   "id": "429e7f4f-911d-456d-a4b6-3e878b3ac7f8",
   "metadata": {},
   "outputs": [],
   "source": [
    "if calculate_lv:\n",
    "    csv_data_file = dataset_folder + 'sua_list_constrained.csv'\n",
    "    with open(csv_data_file, newline='') as f:\n",
    "        reader = csv.reader(f)\n",
    "        sua_list = list(reader)\n",
    "    print(f'Loaded N units {len(sua_list)}')\n",
    "\n",
    "    units_info_df = pd.read_pickle(dataset_folder + 'sua_list_constrained_units_df.pkl')\n",
    "    units_info_df.head(2)\n",
    "\n",
    "    # calculate Lv\n",
    "    lv_l, unit_id_l = [], []\n",
    "    for signal_idx, signal in enumerate(sua_list):\n",
    "        if signal_idx%500 == 0:\n",
    "            print(f'###\\nCalculating for {signal_idx} signal')\n",
    "        spikes = [int(spike) for spike in signal[8:]]\n",
    "        lv = get_lv(spikes, verbose_=False)\n",
    "        lv_l.append(lv)\n",
    "        unit_id_l.append(signal[2])\n",
    "    \n",
    "    lv_df = pd.DataFrame({'unit_id': unit_id_l, 'lv': lv_l})\n",
    "    lv_df = lv_df.merge(units_info_df, on='unit_id', how='left')\n",
    "\n",
    "    lv_df.to_pickle(dataset_folder + 'lv_df.pkl')\n",
    "else:\n",
    "    lv_df = pd.read_pickle(dataset_folder + 'lv_df.pkl')"
   ]
  },
  {
   "cell_type": "markdown",
   "id": "1cea3e68-2f6f-4c03-8095-6080d2629454",
   "metadata": {},
   "source": [
    "#### Plot"
   ]
  },
  {
   "cell_type": "code",
   "execution_count": 8,
   "id": "18083f22-c5d0-4e1d-a8a3-f99967f9f2e9",
   "metadata": {},
   "outputs": [
    {
     "data": {
      "text/html": [
       "<div>\n",
       "<style scoped>\n",
       "    .dataframe tbody tr th:only-of-type {\n",
       "        vertical-align: middle;\n",
       "    }\n",
       "\n",
       "    .dataframe tbody tr th {\n",
       "        vertical-align: top;\n",
       "    }\n",
       "\n",
       "    .dataframe thead th {\n",
       "        text-align: right;\n",
       "    }\n",
       "</style>\n",
       "<table border=\"1\" class=\"dataframe\">\n",
       "  <thead>\n",
       "    <tr style=\"text-align: right;\">\n",
       "      <th></th>\n",
       "      <th>lv</th>\n",
       "      <th>firing_rate</th>\n",
       "      <th>amplitude_cutoff</th>\n",
       "      <th>isi_violations</th>\n",
       "      <th>presence_ratio</th>\n",
       "      <th>fr_hz_spont_30min</th>\n",
       "      <th>fr_hz_spont_30min_log10</th>\n",
       "    </tr>\n",
       "  </thead>\n",
       "  <tbody>\n",
       "    <tr>\n",
       "      <th>count</th>\n",
       "      <td>5775.000000</td>\n",
       "      <td>5775.000000</td>\n",
       "      <td>5.775000e+03</td>\n",
       "      <td>5775.000000</td>\n",
       "      <td>5775.000000</td>\n",
       "      <td>5775.000000</td>\n",
       "      <td>5775.000000</td>\n",
       "    </tr>\n",
       "    <tr>\n",
       "      <th>mean</th>\n",
       "      <td>0.914649</td>\n",
       "      <td>6.314318</td>\n",
       "      <td>2.208872e-03</td>\n",
       "      <td>0.060883</td>\n",
       "      <td>0.987943</td>\n",
       "      <td>6.130562</td>\n",
       "      <td>0.493687</td>\n",
       "    </tr>\n",
       "    <tr>\n",
       "      <th>std</th>\n",
       "      <td>0.358941</td>\n",
       "      <td>7.042870</td>\n",
       "      <td>2.542759e-03</td>\n",
       "      <td>0.099024</td>\n",
       "      <td>0.006802</td>\n",
       "      <td>7.231440</td>\n",
       "      <td>0.564195</td>\n",
       "    </tr>\n",
       "    <tr>\n",
       "      <th>min</th>\n",
       "      <td>0.144377</td>\n",
       "      <td>0.064993</td>\n",
       "      <td>8.935552e-07</td>\n",
       "      <td>0.000000</td>\n",
       "      <td>0.950000</td>\n",
       "      <td>0.023889</td>\n",
       "      <td>-1.621804</td>\n",
       "    </tr>\n",
       "    <tr>\n",
       "      <th>25%</th>\n",
       "      <td>0.646620</td>\n",
       "      <td>1.684944</td>\n",
       "      <td>2.722624e-04</td>\n",
       "      <td>0.001087</td>\n",
       "      <td>0.990000</td>\n",
       "      <td>1.328889</td>\n",
       "      <td>0.123489</td>\n",
       "    </tr>\n",
       "    <tr>\n",
       "      <th>50%</th>\n",
       "      <td>0.861001</td>\n",
       "      <td>3.904053</td>\n",
       "      <td>1.113503e-03</td>\n",
       "      <td>0.016035</td>\n",
       "      <td>0.990000</td>\n",
       "      <td>3.498333</td>\n",
       "      <td>0.543861</td>\n",
       "    </tr>\n",
       "    <tr>\n",
       "      <th>75%</th>\n",
       "      <td>1.167965</td>\n",
       "      <td>8.648506</td>\n",
       "      <td>3.348794e-03</td>\n",
       "      <td>0.070154</td>\n",
       "      <td>0.990000</td>\n",
       "      <td>8.710556</td>\n",
       "      <td>0.940046</td>\n",
       "    </tr>\n",
       "    <tr>\n",
       "      <th>max</th>\n",
       "      <td>2.155586</td>\n",
       "      <td>69.693776</td>\n",
       "      <td>9.982543e-03</td>\n",
       "      <td>0.499671</td>\n",
       "      <td>0.990000</td>\n",
       "      <td>73.933889</td>\n",
       "      <td>1.868844</td>\n",
       "    </tr>\n",
       "  </tbody>\n",
       "</table>\n",
       "</div>"
      ],
      "text/plain": [
       "                lv  firing_rate  amplitude_cutoff  isi_violations  \\\n",
       "count  5775.000000  5775.000000      5.775000e+03     5775.000000   \n",
       "mean      0.914649     6.314318      2.208872e-03        0.060883   \n",
       "std       0.358941     7.042870      2.542759e-03        0.099024   \n",
       "min       0.144377     0.064993      8.935552e-07        0.000000   \n",
       "25%       0.646620     1.684944      2.722624e-04        0.001087   \n",
       "50%       0.861001     3.904053      1.113503e-03        0.016035   \n",
       "75%       1.167965     8.648506      3.348794e-03        0.070154   \n",
       "max       2.155586    69.693776      9.982543e-03        0.499671   \n",
       "\n",
       "       presence_ratio  fr_hz_spont_30min  fr_hz_spont_30min_log10  \n",
       "count     5775.000000        5775.000000              5775.000000  \n",
       "mean         0.987943           6.130562                 0.493687  \n",
       "std          0.006802           7.231440                 0.564195  \n",
       "min          0.950000           0.023889                -1.621804  \n",
       "25%          0.990000           1.328889                 0.123489  \n",
       "50%          0.990000           3.498333                 0.543861  \n",
       "75%          0.990000           8.710556                 0.940046  \n",
       "max          0.990000          73.933889                 1.868844  "
      ]
     },
     "execution_count": 8,
     "metadata": {},
     "output_type": "execute_result"
    }
   ],
   "source": [
    "lv_df.describe()"
   ]
  },
  {
   "cell_type": "code",
   "execution_count": 6,
   "id": "050fbc09-2f04-441a-889f-58a30b08630a",
   "metadata": {},
   "outputs": [],
   "source": [
    "brain_areas_axes_ticks = ['LGd', 'VISp', 'VISl', 'VISrl', 'LP', 'VISal', 'VISpm', 'VISam']\n",
    "brain_areas_names = ['LGN', 'V1', 'LM', 'RL', 'LP', 'AL', 'PM', 'AM']"
   ]
  },
  {
   "cell_type": "code",
   "execution_count": 7,
   "id": "15cf5cbf-044f-4764-9ffa-b96a6e151b24",
   "metadata": {},
   "outputs": [
    {
     "data": {
      "image/png": "[encoded data removed]",
      "text/plain": [
       "<Figure size 500x200 with 1 Axes>"
      ]
     },
     "metadata": {},
     "output_type": "display_data"
    }
   ],
   "source": [
    "fig, axes = plt.subplots(1, 1, figsize=(5,2))\n",
    "\n",
    "sns.violinplot(ax=axes, x='ecephys_structure_acronym', y='lv', data=lv_df, \n",
    "               cut=0, density_norm='width', color='slategray', order=brain_areas_axes_ticks)\n",
    "axes.axhline(y=1, lw=0.5, color='k')\n",
    "axes.axhline(y=1.5, lw=0.5, color='k')\n",
    "axes.axhline(y=0.5, lw=0.5, color='k')\n",
    "axes.set_xlabel('Brain area')\n",
    "axes.set_ylabel('LV')\n",
    "axes.set_xticks(brain_areas_axes_ticks)\n",
    "axes.set_xticklabels(brain_areas_names)\n",
    "\n",
    "sns.despine()\n",
    "\n",
    "if save_fig:\n",
    "    plt.savefig(fig_folder + 'lv_per_area.png' , bbox_inches='tight', dpi=300)\n",
    "    plt.savefig(fig_folder + 'lv_per_area.svg' , bbox_inches='tight')"
   ]
  },
  {
   "cell_type": "code",
   "execution_count": null,
   "id": "0951cb13-c7fb-480e-bc88-28d2da2af5ad",
   "metadata": {},
   "outputs": [],
   "source": [
    "results_folder_syn = project_folder_path + 'results\\\\synthetic\\\\results\\\\param_fr_alpha_tau\\\\'\n",
    "lv_syn_df = pd.read_pickle(results_folder_syn + 'lv_df.pkl')\n",
    "lv_syn_df.describe()"
   ]
  },
  {
   "cell_type": "code",
   "execution_count": null,
   "id": "3f94499c-a9eb-4bd6-a833-a2a7febed4d8",
   "metadata": {},
   "outputs": [],
   "source": [
    "p5 = np.percentile(lv_syn_df['lv'].dropna().values, 2.5)\n",
    "p95 = np.percentile(lv_syn_df['lv'].dropna().values, 97.5)\n",
    "print(p5, p95)"
   ]
  },
  {
   "cell_type": "code",
   "execution_count": null,
   "id": "be4fd2c5-1aa1-4134-9b0a-08ce7813b0da",
   "metadata": {},
   "outputs": [],
   "source": [
    "fig, axes = plt.subplots(1, 1, figsize=(3,4))\n",
    "\n",
    "sns.violinplot(ax=axes, y='lv', data=lv_df, \n",
    "               cut=0, density_norm='width', color='slategray')\n",
    "axes.set_xlabel('All brain areas')\n",
    "axes.set_ylabel('Local variance (a.u.)')\n",
    "axes.axhline(y=p5)\n",
    "axes.axhline(y=p95)\n",
    "axes.set_title('blue lines - synthetic data range (2.5 - 97.5 percentile)')\n",
    "\n",
    "sns.despine()\n",
    "\n",
    "if save_fig:\n",
    "    plt.savefig(fig_folder + 'lv_all_area.png' , bbox_inches='tight', dpi=300)\n",
    "    plt.savefig(fig_folder + 'lv_all_area.svg' , bbox_inches='tight')"
   ]
  }
 ],
 "metadata": {
  "kernelspec": {
   "display_name": "Python 3 (ipykernel)",
   "language": "python",
   "name": "python3"
  },
  "language_info": {
   "codemirror_mode": {
    "name": "ipython",
    "version": 3
   },
   "file_extension": ".py",
   "mimetype": "text/x-python",
   "name": "python",
   "nbconvert_exporter": "python",
   "pygments_lexer": "ipython3",
   "version": "3.12.9"
  }
 },
 "nbformat": 4,
 "nbformat_minor": 5
}
