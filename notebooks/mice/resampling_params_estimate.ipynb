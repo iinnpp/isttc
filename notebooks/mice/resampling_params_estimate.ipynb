{
 "cells": [
  {
   "cell_type": "markdown",
   "id": "565655e6-ef4f-4e85-9d31-d6373faf37ef",
   "metadata": {},
   "source": [
    "Estimate parameters for resempling procedure (trial generation).\n",
    "\n",
    "* Number of resampling iterations: M is based on bootstrapping stability analysis \n",
    "* Number of trials per resampling: N = 40 (based on data in monkey dataset so the number of trials is from experiments)\n",
    "\n",
    "#### Bootstrapping Stability Analysis (for M)\n",
    "\n",
    "We determine a reasonable M by checking when the mean stabilizes:\n",
    "\n",
    "1. Compute the cumulative mean of intrinsic timescales as M increases.\n",
    "2. Plot the standard error (SE) of the mean vs. M.\n",
    "3. Pick M where SE flattens out.\n",
    "\n",
    "Start with M = 20 ([20,30,40,50,100])\n",
    "\n",
    "#### Selecting number of signals for M estimate\n",
    "\n",
    "Spike trains are coming from different brain areas and may have different variance so using only one is not gut. \n",
    "\n",
    "We use sequential testing: (incrementally add signals until the estimate stabilizes):\n",
    "\n",
    "1. Start with 5 random signals and determine an initial M.\n",
    "2. Add 5 more signals, recompute M, and compare.\n",
    "3. Repeat until the change in M is minimal (e.g., <2%)."
   ]
  },
  {
   "cell_type": "code",
   "execution_count": 2,
   "id": "52fab37d-1d77-44d6-9bbc-73c2dd812443",
   "metadata": {},
   "outputs": [],
   "source": [
    "import csv\n",
    "import sys\n",
    "import pickle\n",
    "import numpy as np\n",
    "import pandas as pd\n",
    "import random\n",
    "from scipy import stats\n",
    "import seaborn as sns\n",
    "import matplotlib.pyplot as plt\n",
    "\n",
    "# import from scripts\n",
    "import os\n",
    "current_wd = os.getcwd()\n",
    "os.chdir(os.path.abspath(\"..\\\\..\\\\..\\\\isttc\\\\scripts\"))\n",
    "#os.chdir(os.path.abspath(\"C:\\\\Users\\\\ipoch\\\\Documents\\\\repos\\\\isttc\\\\scripts\"))\n",
    "from calculate_tau import fit_single_exp, func_single_exp_monkey\n",
    "from cfg_global import project_folder_path\n",
    "from calculate_acf import acf_pearsonr_trial_avg, acf_sttc_trial_avg, acf_sttc_trial_concat\n",
    "from spike_train_utils import bin_spike_train_fixed_len, get_trials, bin_trials\n",
    "os.chdir(current_wd)"
   ]
  },
  {
   "cell_type": "code",
   "execution_count": 3,
   "id": "7eced2eb-b28e-4606-9f21-a0f0a186b737",
   "metadata": {},
   "outputs": [],
   "source": [
    "dataset_folder = project_folder_path + 'results\\\\allen_mice\\\\dataset\\\\cut_30min\\\\'"
   ]
  },
  {
   "cell_type": "markdown",
   "id": "4bd5a8a0-df42-4ee8-8a2e-a7603bc6d72d",
   "metadata": {},
   "source": [
    "### Get data"
   ]
  },
  {
   "cell_type": "code",
   "execution_count": 4,
   "id": "c3adff86-673a-4630-a044-eafd94f0775f",
   "metadata": {},
   "outputs": [
    {
     "name": "stdout",
     "output_type": "stream",
     "text": [
      "Loaded N units 5775\n"
     ]
    }
   ],
   "source": [
    "csv_data_file = dataset_folder + 'sua_list_constrained.csv'\n",
    "with open(csv_data_file, newline='') as f:\n",
    "    reader = csv.reader(f)\n",
    "    sua_list = list(reader)\n",
    "print(f'Loaded N units {len(sua_list)}')"
   ]
  },
  {
   "cell_type": "markdown",
   "id": "ae5fac7d-857f-49bf-a9bc-07e765f6cbc0",
   "metadata": {},
   "source": [
    "### Estimate M"
   ]
  },
  {
   "cell_type": "code",
   "execution_count": 14,
   "id": "714adf76-4b1e-47e7-ae68-567db2ecba2e",
   "metadata": {},
   "outputs": [],
   "source": [
    "fs = 30000\n",
    "signal_len = int(30 * 60 * fs)\n",
    "n_lags = 20\n",
    "bin_size = 50 # in ms\n",
    "trial_len = int(n_lags * bin_size * (fs/1000))\n",
    "\n",
    "n_trials = 40 # this is fixed based on experimental datasets\n",
    "m_iterations = [20, 40, 60, 80, 100, 150, 200, 500, 1000]\n",
    "\n",
    "n_signals = 10"
   ]
  },
  {
   "cell_type": "code",
   "execution_count": 15,
   "id": "cbd89369-2af4-4f36-8a70-0f34adf99837",
   "metadata": {},
   "outputs": [],
   "source": [
    "random_signals = random.sample(sua_list, n_signals)"
   ]
  },
  {
   "cell_type": "code",
   "execution_count": 16,
   "id": "565c8f3a-58d4-4edf-b11f-cccf8a23d975",
   "metadata": {},
   "outputs": [],
   "source": [
    "output_log = dataset_folder + f'resampling//resampling_params_estimate_{n_signals}_signals.txt'\n",
    "old_stdout = sys.stdout\n",
    "sys.stdout = open(output_log, 'w')\n",
    "\n",
    "signal_tau_dict = {}\n",
    "\n",
    "for signal_idx, signal in enumerate(random_signals):\n",
    "    print(f'###\\nCalculating for {signal_idx} signal')\n",
    "    spikes = np.asarray([int(spike) for spike in signal[8:]])\n",
    "\n",
    "    tau_dict = {}\n",
    "    for m_iteration in m_iterations:\n",
    "        print(f'calculating for {m_iteration} resampling iterations')\n",
    "        tau_l = []\n",
    "        for m in range(m_iteration):\n",
    "            spikes_trials = get_trials(spikes, signal_len, n_trials, trial_len, verbose_=False)\n",
    "            spikes_trials_binned = bin_trials(spikes_trials, trial_len, int(bin_size*(fs/1000)))\n",
    "            # get taus\n",
    "            _, acf_average = acf_pearsonr_trial_avg(spikes_trials_binned, n_lags, verbose_=False)\n",
    "            _, _, tau, _, _, _, _ = fit_single_exp(acf_average, start_idx_=1, exp_fun_=func_single_exp_monkey)\n",
    "            tau_l.append(tau)\n",
    "        tau_dict[m_iteration] = tau_l\n",
    "        \n",
    "    signal_tau_dict[signal_idx] = tau_dict\n",
    "\n",
    "with open(dataset_folder + f'resampling//signal_tau_dict_{n_signals}_signals.pkl', \"wb\") as f:\n",
    "    pickle.dump(signal_tau_dict, f)\n",
    "\n",
    "sys.stdout = old_stdout"
   ]
  },
  {
   "cell_type": "code",
   "execution_count": 17,
   "id": "f772fded-c936-4aa8-92b4-02e3b904766d",
   "metadata": {},
   "outputs": [
    {
     "data": {
      "text/plain": [
       "dict_keys([0, 1, 2, 3, 4, 5, 6, 7, 8, 9])"
      ]
     },
     "execution_count": 17,
     "metadata": {},
     "output_type": "execute_result"
    }
   ],
   "source": [
    "signal_tau_dict.keys()"
   ]
  },
  {
   "cell_type": "code",
   "execution_count": 30,
   "id": "2eb6f12b-9927-4bf2-a9ec-0b3ee7a6440f",
   "metadata": {},
   "outputs": [
    {
     "name": "stdout",
     "output_type": "stream",
     "text": [
      "   signal  m_iterations  tau_nanmean   tau_sem\n",
      "0       0            20     0.032359  0.005786\n",
      "1       0            40     0.025581  0.001829\n",
      "2       0            60     0.412586  0.383107\n",
      "3       0            80     0.268747  0.147068\n",
      "4       0           100     0.191942  0.119015\n",
      "   signal  stabilization_point\n",
      "0       0                 40.0\n",
      "1       1                  NaN\n",
      "2       2                  NaN\n",
      "3       3                150.0\n",
      "4       4                  NaN\n"
     ]
    }
   ],
   "source": [
    "# Lists to store values for tau_df\n",
    "signal_l = []\n",
    "m_iterations_l = []\n",
    "tau_nanmean_l = []\n",
    "sem_tau_l = []\n",
    "\n",
    "# Process signal_tau_dict into tau_df\n",
    "for k, v in signal_tau_dict.items():\n",
    "    for kk, vv in v.items():\n",
    "        vv_ = [tau_ for tau_ in vv if tau_ < 100]  # Filtering extreme values\n",
    "        tau = np.nanmean(vv_)\n",
    "        tau_sem = stats.sem(vv_, nan_policy='omit')  # Handle NaNs properly\n",
    "        signal_l.append(k)\n",
    "        m_iterations_l.append(kk)\n",
    "        tau_nanmean_l.append(tau)\n",
    "        sem_tau_l.append(tau_sem)\n",
    "\n",
    "# Create tau_df\n",
    "tau_df = pd.DataFrame({\n",
    "    \"signal\": signal_l,\n",
    "    \"m_iterations\": m_iterations_l,\n",
    "    \"tau_nanmean\": tau_nanmean_l,\n",
    "    'tau_sem': sem_tau_l\n",
    "})\n",
    "\n",
    "# Check the stabilization of SE\n",
    "threshold = 0.05  # 5% threshold for stabilization\n",
    "stabilization_list = []\n",
    "\n",
    "for signal in tau_df[\"signal\"].unique():\n",
    "    # Filter data for the current signal and sort by m_iterations\n",
    "    signal_data = tau_df.query('signal == @signal').sort_values(by='m_iterations')\n",
    "\n",
    "    # Extract SEM values and corresponding m_iterations\n",
    "    sem_tau_values = signal_data['tau_sem'].values\n",
    "    m_iterations_values = signal_data['m_iterations'].values\n",
    "\n",
    "    # Find stabilization point\n",
    "    stabilization_point = np.nan  # Default to NaN if no stabilization is found\n",
    "    for i in range(1, len(sem_tau_values)):\n",
    "        change = abs(sem_tau_values[i] - sem_tau_values[i-1])\n",
    "        if change < threshold:\n",
    "            stabilization_point = m_iterations_values[i]\n",
    "            break  # Stop checking after finding the first stabilization point\n",
    "\n",
    "    stabilization_list.append({\"signal\": signal, \"stabilization_point\": stabilization_point})\n",
    "\n",
    "# Create stabilization_df\n",
    "stabilization_df = pd.DataFrame(stabilization_list)\n",
    "\n",
    "# Display the final DataFrames\n",
    "print(tau_df.head())         # First few rows of tau_df\n",
    "print(stabilization_df.head())  # First few rows of stabilization_df"
   ]
  },
  {
   "cell_type": "code",
   "execution_count": 31,
   "id": "0b66cd53-affe-4a20-ae30-2ed325f80b1a",
   "metadata": {},
   "outputs": [
    {
     "data": {
      "text/html": [
       "<div>\n",
       "<style scoped>\n",
       "    .dataframe tbody tr th:only-of-type {\n",
       "        vertical-align: middle;\n",
       "    }\n",
       "\n",
       "    .dataframe tbody tr th {\n",
       "        vertical-align: top;\n",
       "    }\n",
       "\n",
       "    .dataframe thead th {\n",
       "        text-align: right;\n",
       "    }\n",
       "</style>\n",
       "<table border=\"1\" class=\"dataframe\">\n",
       "  <thead>\n",
       "    <tr style=\"text-align: right;\">\n",
       "      <th></th>\n",
       "      <th>signal</th>\n",
       "      <th>stabilization_point</th>\n",
       "    </tr>\n",
       "  </thead>\n",
       "  <tbody>\n",
       "    <tr>\n",
       "      <th>0</th>\n",
       "      <td>0</td>\n",
       "      <td>40.0</td>\n",
       "    </tr>\n",
       "    <tr>\n",
       "      <th>1</th>\n",
       "      <td>1</td>\n",
       "      <td>NaN</td>\n",
       "    </tr>\n",
       "    <tr>\n",
       "      <th>2</th>\n",
       "      <td>2</td>\n",
       "      <td>NaN</td>\n",
       "    </tr>\n",
       "    <tr>\n",
       "      <th>3</th>\n",
       "      <td>3</td>\n",
       "      <td>150.0</td>\n",
       "    </tr>\n",
       "    <tr>\n",
       "      <th>4</th>\n",
       "      <td>4</td>\n",
       "      <td>NaN</td>\n",
       "    </tr>\n",
       "    <tr>\n",
       "      <th>5</th>\n",
       "      <td>5</td>\n",
       "      <td>NaN</td>\n",
       "    </tr>\n",
       "    <tr>\n",
       "      <th>6</th>\n",
       "      <td>6</td>\n",
       "      <td>100.0</td>\n",
       "    </tr>\n",
       "    <tr>\n",
       "      <th>7</th>\n",
       "      <td>7</td>\n",
       "      <td>NaN</td>\n",
       "    </tr>\n",
       "    <tr>\n",
       "      <th>8</th>\n",
       "      <td>8</td>\n",
       "      <td>150.0</td>\n",
       "    </tr>\n",
       "    <tr>\n",
       "      <th>9</th>\n",
       "      <td>9</td>\n",
       "      <td>NaN</td>\n",
       "    </tr>\n",
       "  </tbody>\n",
       "</table>\n",
       "</div>"
      ],
      "text/plain": [
       "   signal  stabilization_point\n",
       "0       0                 40.0\n",
       "1       1                  NaN\n",
       "2       2                  NaN\n",
       "3       3                150.0\n",
       "4       4                  NaN\n",
       "5       5                  NaN\n",
       "6       6                100.0\n",
       "7       7                  NaN\n",
       "8       8                150.0\n",
       "9       9                  NaN"
      ]
     },
     "execution_count": 31,
     "metadata": {},
     "output_type": "execute_result"
    }
   ],
   "source": [
    "stabilization_df"
   ]
  },
  {
   "cell_type": "code",
   "execution_count": 27,
   "id": "5b816e14-89c0-4dda-97df-1e2d8a4e8f3c",
   "metadata": {},
   "outputs": [
    {
     "data": {
      "text/html": [
       "<div>\n",
       "<style scoped>\n",
       "    .dataframe tbody tr th:only-of-type {\n",
       "        vertical-align: middle;\n",
       "    }\n",
       "\n",
       "    .dataframe tbody tr th {\n",
       "        vertical-align: top;\n",
       "    }\n",
       "\n",
       "    .dataframe thead th {\n",
       "        text-align: right;\n",
       "    }\n",
       "</style>\n",
       "<table border=\"1\" class=\"dataframe\">\n",
       "  <thead>\n",
       "    <tr style=\"text-align: right;\">\n",
       "      <th></th>\n",
       "      <th>signal</th>\n",
       "      <th>m_iterations</th>\n",
       "      <th>tau_nanmedian</th>\n",
       "      <th>tau_sem</th>\n",
       "    </tr>\n",
       "  </thead>\n",
       "  <tbody>\n",
       "    <tr>\n",
       "      <th>0</th>\n",
       "      <td>0</td>\n",
       "      <td>20</td>\n",
       "      <td>0.032359</td>\n",
       "      <td>0.005786</td>\n",
       "    </tr>\n",
       "    <tr>\n",
       "      <th>1</th>\n",
       "      <td>0</td>\n",
       "      <td>40</td>\n",
       "      <td>0.025581</td>\n",
       "      <td>0.001829</td>\n",
       "    </tr>\n",
       "    <tr>\n",
       "      <th>2</th>\n",
       "      <td>0</td>\n",
       "      <td>60</td>\n",
       "      <td>0.412586</td>\n",
       "      <td>0.383107</td>\n",
       "    </tr>\n",
       "    <tr>\n",
       "      <th>3</th>\n",
       "      <td>0</td>\n",
       "      <td>80</td>\n",
       "      <td>0.268747</td>\n",
       "      <td>0.147068</td>\n",
       "    </tr>\n",
       "    <tr>\n",
       "      <th>4</th>\n",
       "      <td>0</td>\n",
       "      <td>100</td>\n",
       "      <td>0.191942</td>\n",
       "      <td>0.119015</td>\n",
       "    </tr>\n",
       "    <tr>\n",
       "      <th>...</th>\n",
       "      <td>...</td>\n",
       "      <td>...</td>\n",
       "      <td>...</td>\n",
       "      <td>...</td>\n",
       "    </tr>\n",
       "    <tr>\n",
       "      <th>85</th>\n",
       "      <td>9</td>\n",
       "      <td>100</td>\n",
       "      <td>7.285013</td>\n",
       "      <td>1.511848</td>\n",
       "    </tr>\n",
       "    <tr>\n",
       "      <th>86</th>\n",
       "      <td>9</td>\n",
       "      <td>150</td>\n",
       "      <td>6.896255</td>\n",
       "      <td>0.990796</td>\n",
       "    </tr>\n",
       "    <tr>\n",
       "      <th>87</th>\n",
       "      <td>9</td>\n",
       "      <td>200</td>\n",
       "      <td>7.763024</td>\n",
       "      <td>0.939952</td>\n",
       "    </tr>\n",
       "    <tr>\n",
       "      <th>88</th>\n",
       "      <td>9</td>\n",
       "      <td>500</td>\n",
       "      <td>6.949070</td>\n",
       "      <td>0.443712</td>\n",
       "    </tr>\n",
       "    <tr>\n",
       "      <th>89</th>\n",
       "      <td>9</td>\n",
       "      <td>1000</td>\n",
       "      <td>6.463448</td>\n",
       "      <td>0.327429</td>\n",
       "    </tr>\n",
       "  </tbody>\n",
       "</table>\n",
       "<p>90 rows × 4 columns</p>\n",
       "</div>"
      ],
      "text/plain": [
       "    signal  m_iterations  tau_nanmedian   tau_sem\n",
       "0        0            20       0.032359  0.005786\n",
       "1        0            40       0.025581  0.001829\n",
       "2        0            60       0.412586  0.383107\n",
       "3        0            80       0.268747  0.147068\n",
       "4        0           100       0.191942  0.119015\n",
       "..     ...           ...            ...       ...\n",
       "85       9           100       7.285013  1.511848\n",
       "86       9           150       6.896255  0.990796\n",
       "87       9           200       7.763024  0.939952\n",
       "88       9           500       6.949070  0.443712\n",
       "89       9          1000       6.463448  0.327429\n",
       "\n",
       "[90 rows x 4 columns]"
      ]
     },
     "execution_count": 27,
     "metadata": {},
     "output_type": "execute_result"
    }
   ],
   "source": [
    "tau_df"
   ]
  },
  {
   "cell_type": "code",
   "execution_count": 29,
   "id": "7565b198-c382-431b-bc7d-199dc803e133",
   "metadata": {},
   "outputs": [
    {
     "data": {
      "image/png": "[encoded data removed]",
      "text/plain": [
       "<Figure size 640x480 with 1 Axes>"
      ]
     },
     "metadata": {},
     "output_type": "display_data"
    }
   ],
   "source": [
    "sns.lineplot(data=tau_df, x=\"m_iterations\", y=\"tau_sem\", hue=\"signal\", palette=\"Set1\", lw=0.5)\n",
    "\n",
    "sns.despine()"
   ]
  }
 ],
 "metadata": {
  "kernelspec": {
   "display_name": "Python 3 (ipykernel)",
   "language": "python",
   "name": "python3"
  },
  "language_info": {
   "codemirror_mode": {
    "name": "ipython",
    "version": 3
   },
   "file_extension": ".py",
   "mimetype": "text/x-python",
   "name": "python",
   "nbconvert_exporter": "python",
   "pygments_lexer": "ipython3",
   "version": "3.12.9"
  }
 },
 "nbformat": 4,
 "nbformat_minor": 5
}
