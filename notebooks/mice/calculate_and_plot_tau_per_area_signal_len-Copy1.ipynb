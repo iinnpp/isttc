{
 "cells": [
  {
   "cell_type": "code",
   "execution_count": null,
   "id": "4a5c618e-ef3a-4d40-959f-09191178be54",
   "metadata": {},
   "outputs": [],
   "source": [
    "import numpy as np\n",
    "import pandas as pd\n",
    "import pickle\n",
    "import json\n",
    "import matplotlib as mpl\n",
    "import matplotlib.pyplot as plt\n",
    "import seaborn as sns\n",
    "\n",
    "# import from scripts\n",
    "import os\n",
    "current_wd = os.getcwd()\n",
    "os.chdir(os.path.abspath(\"..\\\\..\\\\..\\\\isttc\\\\scripts\"))\n",
    "from calculate_tau import fit_single_exp, fit_single_exp_2d, func_single_exp_monkey\n",
    "from cfg_global import project_folder_path\n",
    "os.chdir(current_wd)"
   ]
  },
  {
   "cell_type": "code",
   "execution_count": null,
   "id": "02f308a9-a5ea-4856-a500-fb11290b6161",
   "metadata": {},
   "outputs": [],
   "source": [
    "mpl.rcParams['pdf.fonttype'] = 42\n",
    "mpl.rcParams['ps.fonttype'] = 42\n",
    "plt.rcParams['svg.fonttype'] = 'none'"
   ]
  },
  {
   "cell_type": "code",
   "execution_count": null,
   "id": "fdce273a-4ce2-4376-b989-b6cad09a6741",
   "metadata": {},
   "outputs": [],
   "source": [
    "# True - calc and plot, False only plot\n",
    "calc_taus = True\n",
    "save_taus = False\n",
    "save_fig = True"
   ]
  },
  {
   "cell_type": "code",
   "execution_count": null,
   "id": "8d4aab67-1a7a-49fd-8409-2d8b183c45da",
   "metadata": {},
   "outputs": [],
   "source": [
    "def calc_population_tau_2d(acf_df_, acf_cols_, start_idx_, func_to_fit_, verbose_=False):\n",
    "    rows_with_nans_df = acf_df_[acf_df_.isna().any(axis=1)]\n",
    "    n_rows_with_nan = len(rows_with_nans_df)\n",
    "    if n_rows_with_nan > 0:\n",
    "        print(f'N rows with NaNs {n_rows_with_nan}')\n",
    "\n",
    "    acf_df_.dropna(inplace=True)\n",
    "    \n",
    "    acf_2d = acf_df_[acf_cols_].values\n",
    "    fit_popt, fit_pcov, tau, tau_ci, fit_r_squared, explained_var, log_message = fit_single_exp_2d(acf_2d, start_idx_, func_to_fit_)\n",
    "    if verbose_:\n",
    "        print(f'tau {tau*50}, 95% CI {tau_ci[0]*50},{tau_ci[1]*50}')\n",
    "    return {'tau_ms':tau*50,\n",
    "            'tau_lower_ms':tau_ci[0]*50, \n",
    "            'tau_upper_ms':tau_ci[1]*50, \n",
    "            'fit_r_squared': fit_r_squared, \n",
    "            'explained_var': explained_var, \n",
    "            'popt': fit_popt,\n",
    "            'n_acfs': len(acf_df_)}\n",
    "\n",
    "def get_method_tau_dict(areas_, acf_df_, acf_cols_, verbose_=False):\n",
    "    taus_dict = {}\n",
    "    for area in areas_:\n",
    "        if verbose_:\n",
    "            print(f'processing area {area}')\n",
    "        acf_df_area = acf_df_.query('ecephys_structure_acronym == @area').copy()\n",
    "        if verbose_:\n",
    "            print(f'N units for brain area {area}: {len(acf_df_area)}')\n",
    "        taus_dict[area] = calc_population_tau_2d(acf_df_area, acf_cols_, 2, func_single_exp_monkey)\n",
    "    return taus_dict"
   ]
  },
  {
   "cell_type": "code",
   "execution_count": null,
   "id": "721a31e0-045a-47d5-b095-76ba184ff466",
   "metadata": {},
   "outputs": [],
   "source": [
    "min_to_keep = 20\n",
    "\n",
    "dataset_folder = project_folder_path + 'results\\\\mice\\\\dataset\\\\'\n",
    "fig_folder = project_folder_path + 'results\\\\mice\\\\fig_draft_paper\\\\'"
   ]
  },
  {
   "cell_type": "markdown",
   "id": "497bb72c-279f-43ef-b73b-3ce78a697037",
   "metadata": {},
   "source": [
    "### Load data (or calc)"
   ]
  },
  {
   "cell_type": "code",
   "execution_count": null,
   "id": "38f06b91-d72b-4a5d-9340-c54eb996a20b",
   "metadata": {},
   "outputs": [],
   "source": [
    "def get_taus_for_df(acf_full_df_file_):\n",
    "    n_lags = 20\n",
    "    acf_cols = ['acf_' + str(i) for i in range(n_lags+1)]\n",
    "    # print('acf_cols {}'.format(acf_cols))\n",
    "\n",
    "    acf_df = pd.read_pickle(acf_full_df_file_)\n",
    "    n_rows_with_nan = len(acf_df[acf_df.isna().any(axis=1)])\n",
    "    # print(f'n_rows_with_nan acf_df {n_rows_with_nan}')\n",
    "\n",
    "    brain_areas = acf_df['ecephys_structure_acronym'].unique()\n",
    "    # print(f'brain_areas {brain_areas}')\n",
    "    \n",
    "    acf_taus_dict = get_method_tau_dict(brain_areas, acf_df, acf_cols)\n",
    "\n",
    "    return acf_taus_dict"
   ]
  },
  {
   "cell_type": "code",
   "execution_count": null,
   "id": "788c1d56-63cb-4cdf-a2d1-a088107e2e48",
   "metadata": {},
   "outputs": [],
   "source": [
    "area_taus_dict = {'acf_full_1': get_taus_for_df(acf_full_df_file_ = dataset_folder + 'cut_1min\\\\acf_full_50ms_20lags_' + str(1) + 'min_df.pkl'), \n",
    "                  'isttc_full_1': get_taus_for_df(acf_full_df_file_ = dataset_folder + 'cut_1min\\\\isttc_full_50ms_20lags_' + str(1) + 'min_df.pkl'),\n",
    "                  'acf_full_5': get_taus_for_df(acf_full_df_file_ = dataset_folder + 'cut_5min\\\\acf_full_50ms_20lags_' + str(5) + 'min_df.pkl'), \n",
    "                  'isttc_full_5': get_taus_for_df(acf_full_df_file_ = dataset_folder + 'cut_5min\\\\isttc_full_50ms_20lags_' + str(5) + 'min_df.pkl'),\n",
    "                  'acf_full_10': get_taus_for_df(acf_full_df_file_ = dataset_folder + 'cut_10min\\\\acf_full_50ms_20lags_' + str(10) + 'min_df.pkl'), \n",
    "                  'isttc_full_10': get_taus_for_df(acf_full_df_file_ = dataset_folder + 'cut_10min\\\\isttc_full_50ms_20lags_' + str(10) + 'min_df.pkl'),\n",
    "                  'acf_full_20': get_taus_for_df(acf_full_df_file_ = dataset_folder + 'cut_20min\\\\acf_full_50ms_20lags_' + str(20) + 'min_df.pkl'), \n",
    "                  'isttc_full_20': get_taus_for_df(acf_full_df_file_ = dataset_folder + 'cut_20min\\\\isttc_full_50ms_20lags_' + str(20) + 'min_df.pkl'),}"
   ]
  },
  {
   "cell_type": "code",
   "execution_count": null,
   "id": "9cf639a0-3943-43bb-baf9-c3b9eb01b18d",
   "metadata": {},
   "outputs": [],
   "source": [
    "with open(dataset_folder + 'cut_30min\\\\area_taus_dict.json', 'r') as f:\n",
    "    area_taus_dict_30 = json.load(f)\n",
    "\n",
    "area_taus_dict_30"
   ]
  },
  {
   "cell_type": "code",
   "execution_count": null,
   "id": "a0812230-8aa4-44e6-aa75-18ce8588d538",
   "metadata": {},
   "outputs": [],
   "source": [
    "def get_plot_df(acf_dict, areas, method):\n",
    "    tau = [acf_dict.get(c, {'tau_ms': np.nan})['tau_ms'] for c in areas]\n",
    "    tau_lower = [acf_dict.get(c, {'tau_lower_ms': np.nan})['tau_lower_ms'] for c in areas]\n",
    "    tau_upper = [acf_dict.get(c, {'tau_upper_ms': np.nan})['tau_upper_ms'] for c in areas]\n",
    "    \n",
    "    plot_df = pd.DataFrame({'area': areas, \n",
    "                                     'tau': tau,\n",
    "                                     'tau_lower': tau_lower, \n",
    "                                     'tau_upper': tau_upper, \n",
    "                                     'method': method})\n",
    "    return plot_df"
   ]
  },
  {
   "cell_type": "code",
   "execution_count": null,
   "id": "f65843df-ac6c-48fe-b810-42acfdf6c8af",
   "metadata": {},
   "outputs": [],
   "source": [
    "tau_acf_full_30_df = get_plot_df(area_taus_dict_30['acf_full'], brain_areas_axes_ticks, 'acf_full')\n",
    "tau_acf_full_30_df['duration_min'] = 30\n",
    "tau_acf_full_30_df['tau_diff'] = tau_acf_full_30_df['tau'] - tau_acf_full_30_df['tau']\n",
    "tau_isttc_full_30_df = get_plot_df(area_taus_dict_30['isttc_full'], brain_areas_axes_ticks, 'isttc_full')\n",
    "tau_isttc_full_30_df['duration_min'] = 30\n",
    "tau_isttc_full_30_df['tau_diff'] = tau_isttc_full_30_df['tau'] - tau_isttc_full_30_df['tau']\n",
    "\n",
    "tau_acf_full_1_df = get_plot_df(area_taus_dict['acf_full_1'], brain_areas_axes_ticks, 'acf_full')\n",
    "tau_acf_full_1_df['duration_min'] = 1\n",
    "tau_acf_full_1_df['tau_diff'] = tau_acf_full_1_df['tau'] - tau_acf_full_30_df['tau']\n",
    "tau_isttc_full_1_df = get_plot_df(area_taus_dict['isttc_full_1'], brain_areas_axes_ticks, 'isttc_full')\n",
    "tau_isttc_full_1_df['duration_min'] = 1\n",
    "tau_isttc_full_1_df['tau_diff'] = tau_isttc_full_1_df['tau'] - tau_isttc_full_30_df['tau']\n",
    "\n",
    "tau_acf_full_5_df = get_plot_df(area_taus_dict['acf_full_5'], brain_areas_axes_ticks, 'acf_full')\n",
    "tau_acf_full_5_df['duration_min'] = 5\n",
    "tau_acf_full_5_df['tau_diff'] = tau_acf_full_5_df['tau'] - tau_acf_full_30_df['tau']\n",
    "tau_isttc_full_5_df = get_plot_df(area_taus_dict['isttc_full_5'], brain_areas_axes_ticks, 'isttc_full')\n",
    "tau_isttc_full_5_df['duration_min'] = 5\n",
    "tau_isttc_full_5_df['tau_diff'] = tau_isttc_full_5_df['tau'] - tau_isttc_full_30_df['tau']\n",
    "\n",
    "tau_acf_full_10_df = get_plot_df(area_taus_dict['acf_full_10'], brain_areas_axes_ticks, 'acf_full')\n",
    "tau_acf_full_10_df['duration_min'] = 10\n",
    "tau_acf_full_10_df['tau_diff'] = tau_acf_full_10_df['tau'] - tau_acf_full_30_df['tau']\n",
    "tau_isttc_full_10_df = get_plot_df(area_taus_dict['isttc_full_10'], brain_areas_axes_ticks, 'isttc_full')\n",
    "tau_isttc_full_10_df['duration_min'] = 10\n",
    "tau_isttc_full_10_df['tau_diff'] = tau_isttc_full_10_df['tau'] - tau_isttc_full_30_df['tau']\n",
    "\n",
    "tau_acf_full_20_df = get_plot_df(area_taus_dict['acf_full_20'], brain_areas_axes_ticks, 'acf_full')\n",
    "tau_acf_full_20_df['duration_min'] = 20\n",
    "tau_acf_full_20_df['tau_diff'] = tau_acf_full_20_df['tau'] - tau_acf_full_30_df['tau']\n",
    "tau_isttc_full_20_df = get_plot_df(area_taus_dict['isttc_full_20'], brain_areas_axes_ticks, 'isttc_full')\n",
    "tau_isttc_full_20_df['duration_min'] = 20\n",
    "tau_isttc_full_20_df['tau_diff'] = tau_isttc_full_20_df['tau'] - tau_isttc_full_30_df['tau']\n",
    "\n",
    "tau_df = pd.concat([tau_acf_full_1_df, tau_isttc_full_1_df, tau_acf_full_5_df, tau_isttc_full_5_df, \n",
    "                    tau_acf_full_10_df, tau_isttc_full_10_df, tau_acf_full_20_df, tau_isttc_full_20_df,\n",
    "                    tau_acf_full_30_df, tau_isttc_full_30_df])\n",
    "tau_df['abs_tau_diff'] = np.abs(tau_df['tau_diff'])\n",
    "tau_df.reset_index(inplace=True, drop=True)\n",
    "\n",
    "tau_df"
   ]
  },
  {
   "cell_type": "code",
   "execution_count": null,
   "id": "7472e6a2-64db-4721-aa57-c53de54db7b9",
   "metadata": {},
   "outputs": [],
   "source": [
    "# if save_taus:\n",
    "#     class NumpyEncoder(json.JSONEncoder):\n",
    "#         def default(self, obj):\n",
    "#             if isinstance(obj, np.ndarray):\n",
    "#                 return obj.tolist()  # Convert ndarray to list\n",
    "#             return super().default(obj)\n",
    "    \n",
    "#     with open(dataset_folder + 'area_taus_dict.json', 'w') as f:\n",
    "#         json.dump(area_taus_dict, f, cls=NumpyEncoder, indent=4)  "
   ]
  },
  {
   "cell_type": "code",
   "execution_count": null,
   "id": "1697f924-4c98-48b1-8257-3cbb2bcd407e",
   "metadata": {},
   "outputs": [],
   "source": [
    "# with open(dataset_folder + 'area_taus_dict.json', 'r') as f:\n",
    "#     area_taus_dict = json.load(f)"
   ]
  },
  {
   "cell_type": "markdown",
   "id": "4af7f803-7497-4ff4-bc7d-b71878dd0625",
   "metadata": {},
   "source": [
    "### Plots"
   ]
  },
  {
   "cell_type": "code",
   "execution_count": null,
   "id": "3013b142-3ac0-4307-9c8e-1ff914e2cedf",
   "metadata": {},
   "outputs": [],
   "source": [
    "color_acf_full = '#718190'\n",
    "color_isttc_full = '#1ba9e2'\n",
    "\n",
    "colors = [color_acf_full, color_isttc_full]\n",
    "\n",
    "brain_areas_axes_ticks = ['LGd', 'VISp', 'VISl', 'VISrl', 'LP', 'VISal', 'VISpm', 'VISam']\n",
    "brain_areas_names = ['LGN', 'V1', 'LM', 'RL', 'LP', 'AL', 'PM', 'AM']"
   ]
  },
  {
   "cell_type": "code",
   "execution_count": null,
   "id": "0cb434f5-dcf2-48c5-9e15-8f8556e42fdc",
   "metadata": {},
   "outputs": [],
   "source": [
    "fig, axes = plt.subplots(1, 1, figsize=(5, 3), sharey=False)\n",
    "\n",
    "sns.stripplot(data=tau_df, x='duration_min', y='abs_tau_diff', hue='method', palette=colors, dodge=True, jitter=True, alpha=1, ax=axes)\n",
    "axes.grid(True, which=\"both\", axis='y', linestyle=\"-\", linewidth=0.5, alpha=0.7)\n",
    "\n",
    "axes.set_ylabel('IT diff')\n",
    "axes.set_xlabel('Signal length (min)')\n",
    "\n",
    "axes.set_ylim([-1, 40])\n",
    "\n",
    "sns.despine(ax=axes)\n",
    "\n",
    "if save_fig:\n",
    "    plt.savefig(fig_folder + 'signal_len_tau.png' , bbox_inches='tight', dpi=300)\n",
    "    plt.savefig(fig_folder + 'signal_len_tau.svg' , bbox_inches='tight')"
   ]
  },
  {
   "cell_type": "code",
   "execution_count": null,
   "id": "03e89b87-0a0d-4c79-9910-6ede2ffaeec3",
   "metadata": {},
   "outputs": [],
   "source": []
  }
 ],
 "metadata": {
  "kernelspec": {
   "display_name": "Python 3 (ipykernel)",
   "language": "python",
   "name": "python3"
  },
  "language_info": {
   "codemirror_mode": {
    "name": "ipython",
    "version": 3
   },
   "file_extension": ".py",
   "mimetype": "text/x-python",
   "name": "python",
   "nbconvert_exporter": "python",
   "pygments_lexer": "ipython3",
   "version": "3.13.2"
  }
 },
 "nbformat": 4,
 "nbformat_minor": 5
}
