{
 "cells": [
  {
   "cell_type": "markdown",
   "id": "2de69874-886e-4f3e-b328-578ae1dff0bc",
   "metadata": {},
   "source": [
    "Plot info about Allen dataset subset that we use.\n",
    "\n",
    "We use 8 areas: 6 visual cortical areas (V1, LM, AL, RL, AM, PM) and 2 thalamic (LGN, LP).\n",
    "\n",
    "below mapping from Rudelt at el (found in github code):\n",
    "    structures = [\"VISp\", \"VISl\", \"VISrl\", \"VISal\", \"VISpm\", \"VISam\", \"LGd\", \"LP\"]\n",
    "    structures_names = [\"V1\", \"LM\", \"RL\", \"AL\", \"PM\", \"AM\", \"LGN\", \"LP\"]\n",
    "\n",
    "Plots based on 30min dataset (trimmed beforehand)."
   ]
  },
  {
   "cell_type": "code",
   "execution_count": 1,
   "id": "2a8f25aa-0ada-4d96-8331-8ef9270d3c87",
   "metadata": {},
   "outputs": [],
   "source": [
    "import csv\n",
    "import numpy as np\n",
    "import pandas as pd\n",
    "import matplotlib as mpl\n",
    "import matplotlib.pyplot as plt\n",
    "import seaborn as sns\n",
    "\n",
    "# import from scripts\n",
    "import os\n",
    "current_wd = os.getcwd()\n",
    "os.chdir(os.path.abspath(\"..\\\\..\\\\..\\\\isttc\\\\scripts\"))\n",
    "from cfg_global import project_folder_path\n",
    "os.chdir(current_wd)"
   ]
  },
  {
   "cell_type": "code",
   "execution_count": 2,
   "id": "6d32c99f-a11d-43ba-847d-0b3bc9adf081",
   "metadata": {},
   "outputs": [],
   "source": [
    "mpl.rcParams['pdf.fonttype'] = 42\n",
    "mpl.rcParams['ps.fonttype'] = 42\n",
    "plt.rcParams['svg.fonttype'] = 'none'"
   ]
  },
  {
   "cell_type": "code",
   "execution_count": 3,
   "id": "30daf447-8a16-47ab-a703-6ab6db6fbda4",
   "metadata": {},
   "outputs": [],
   "source": [
    "dataset_folder = project_folder_path + 'results\\\\allen_mice\\\\dataset\\\\'\n",
    "fig_folder = project_folder_path + 'results\\\\allen_mice\\\\fig_draft_paper\\\\'"
   ]
  },
  {
   "cell_type": "code",
   "execution_count": 38,
   "id": "40c04352-f477-4a8c-b006-cce15738d234",
   "metadata": {},
   "outputs": [],
   "source": [
    "# the order is like in Siegle paper\n",
    "brain_areas = ['LGd', 'VISp', 'VISl', 'VISrl', 'LP', 'VISal', 'VISpm', 'VISam']\n",
    "brain_areas_names = ['LGN', 'V1', 'LM', 'RL', 'LP', 'AL', 'PM', 'AM']\n",
    "\n",
    "# quality thresholds\n",
    "amplitude_cutoff = 0.01 # Allen default is 0.1, this one is from Rudelt\n",
    "isi_violations = 0.5 # default Allen\n",
    "presence_ratio = 0.9 # default Allen\n",
    "\n",
    "quality_query = 'amplitude_cutoff < @amplitude_cutoff and isi_violations < @isi_violations and presence_ratio > @presence_ratio'"
   ]
  },
  {
   "cell_type": "markdown",
   "id": "30003822-4286-47c1-aafb-f08c05942e65",
   "metadata": {},
   "source": [
    "### Get data"
   ]
  },
  {
   "cell_type": "code",
   "execution_count": 39,
   "id": "f2efb0ed-7a47-4dc1-a2c7-1647b169184e",
   "metadata": {},
   "outputs": [
    {
     "name": "stdout",
     "output_type": "stream",
     "text": [
      "Loaded N units 18168\n"
     ]
    }
   ],
   "source": [
    "csv_data_file = dataset_folder + 'cut_30min\\\\sua_list.csv'\n",
    "with open(csv_data_file, newline='') as f:\n",
    "    reader = csv.reader(f)\n",
    "    sua_list = list(reader)\n",
    "print(f'Loaded N units {len(sua_list)}')"
   ]
  },
  {
   "cell_type": "code",
   "execution_count": 40,
   "id": "0a9d0fe6-f9f3-4e24-b656-c89c05b5c57a",
   "metadata": {},
   "outputs": [
    {
     "name": "stdout",
     "output_type": "stream",
     "text": [
      "N units from all areas 18168\n",
      "N units from 8 areas 9279\n",
      "N units from 8 areas constraints by quality metrics 5775\n"
     ]
    }
   ],
   "source": [
    "column_names = [\"specimen_id\", \"session_id\", \"unit_id\", \"ecephys_structure_acronym\", 'firing_rate', 'amplitude_cutoff', 'isi_violations', 'presence_ratio']\n",
    "units_df = pd.DataFrame([row[:8] for row in sua_list], columns=column_names)\n",
    "units_df[['firing_rate', 'amplitude_cutoff', 'isi_violations', 'presence_ratio']] = \\\n",
    "    units_df[['firing_rate', 'amplitude_cutoff', 'isi_violations', 'presence_ratio']].astype(float)\n",
    "n_spikes_l = [len(row[8:]) for row in sua_list]\n",
    "fr_hz_spont_30min_l = [n_spikes / (30 * 60) for n_spikes in n_spikes_l]\n",
    "units_df['fr_hz_spont_30min'] = fr_hz_spont_30min_l\n",
    "units_df['fr_hz_spont_30min_log10'] = np.log10(units_df['fr_hz_spont_30min'])\n",
    "print(f'N units from all areas {len(units_df)}')\n",
    "\n",
    "units_subset_df = units_df[units_df['ecephys_structure_acronym'].isin(brain_areas)].copy()\n",
    "print(f'N units from 8 areas {len(units_subset_df)}')\n",
    "\n",
    "units_subset_df_quality = units_subset_df.query(quality_query).copy()\n",
    "print(f'N units from 8 areas constraints by quality metrics {len(units_subset_df_quality)}')"
   ]
  },
  {
   "cell_type": "markdown",
   "id": "43b6d1fc-bed5-4519-8d65-ba383eaa3ae8",
   "metadata": {},
   "source": [
    "### Store constraint dataset (csv and dataframe with info)"
   ]
  },
  {
   "cell_type": "code",
   "execution_count": 64,
   "id": "898f8c78-2426-41ab-ba21-38089b1a42d6",
   "metadata": {},
   "outputs": [],
   "source": [
    "included_units = units_subset_df_quality['unit_id'].values\n",
    "sua_list_subset = [row for row in sua_list if row[2] in included_units]"
   ]
  },
  {
   "cell_type": "code",
   "execution_count": 66,
   "id": "65d79a04-68a5-4177-b7ea-53bd21d0f847",
   "metadata": {},
   "outputs": [],
   "source": [
    "verbose = False\n",
    "output_filename = dataset_folder + 'cut_30min\\\\sua_list_constrained.csv'\n",
    "with open(output_filename, 'a', newline='') as f:\n",
    "    writer = csv.writer(f)\n",
    "    for unit in sua_list_subset:\n",
    "        if verbose:\n",
    "            print('Writing unit {}'.format(unit[2]))\n",
    "        writer.writerow(unit)"
   ]
  },
  {
   "cell_type": "code",
   "execution_count": 69,
   "id": "ca9bbd2e-e764-4cb7-8a91-fc8dc765db88",
   "metadata": {},
   "outputs": [],
   "source": [
    "units_subset_df_quality.to_pickle(dataset_folder + 'cut_30min\\\\sua_list_constrained_units_df.pkl')"
   ]
  },
  {
   "cell_type": "markdown",
   "id": "84df7b0b-e604-4bc8-820e-75b96718a522",
   "metadata": {},
   "source": [
    "### Plot"
   ]
  },
  {
   "cell_type": "code",
   "execution_count": 51,
   "id": "ba0df339-84bc-4f79-a29c-444226fa5114",
   "metadata": {},
   "outputs": [],
   "source": [
    "save_fig = True"
   ]
  },
  {
   "cell_type": "markdown",
   "id": "db4ca5ca-8dc7-4c36-91cd-de50dcf8bd12",
   "metadata": {},
   "source": [
    "#### Number of units per area"
   ]
  },
  {
   "cell_type": "code",
   "execution_count": 41,
   "id": "684610cb-a113-4394-b33a-05dfb85caef4",
   "metadata": {},
   "outputs": [
    {
     "data": {
      "text/html": [
       "<div>\n",
       "<style scoped>\n",
       "    .dataframe tbody tr th:only-of-type {\n",
       "        vertical-align: middle;\n",
       "    }\n",
       "\n",
       "    .dataframe tbody tr th {\n",
       "        vertical-align: top;\n",
       "    }\n",
       "\n",
       "    .dataframe thead th {\n",
       "        text-align: right;\n",
       "    }\n",
       "</style>\n",
       "<table border=\"1\" class=\"dataframe\">\n",
       "  <thead>\n",
       "    <tr style=\"text-align: right;\">\n",
       "      <th></th>\n",
       "      <th>ecephys_structure_acronym</th>\n",
       "      <th>n_units</th>\n",
       "    </tr>\n",
       "  </thead>\n",
       "  <tbody>\n",
       "    <tr>\n",
       "      <th>0</th>\n",
       "      <td>LGd</td>\n",
       "      <td>254</td>\n",
       "    </tr>\n",
       "    <tr>\n",
       "      <th>1</th>\n",
       "      <td>LP</td>\n",
       "      <td>599</td>\n",
       "    </tr>\n",
       "    <tr>\n",
       "      <th>2</th>\n",
       "      <td>VISal</td>\n",
       "      <td>928</td>\n",
       "    </tr>\n",
       "    <tr>\n",
       "      <th>3</th>\n",
       "      <td>VISam</td>\n",
       "      <td>912</td>\n",
       "    </tr>\n",
       "    <tr>\n",
       "      <th>4</th>\n",
       "      <td>VISl</td>\n",
       "      <td>727</td>\n",
       "    </tr>\n",
       "    <tr>\n",
       "      <th>5</th>\n",
       "      <td>VISp</td>\n",
       "      <td>1063</td>\n",
       "    </tr>\n",
       "    <tr>\n",
       "      <th>6</th>\n",
       "      <td>VISpm</td>\n",
       "      <td>586</td>\n",
       "    </tr>\n",
       "    <tr>\n",
       "      <th>7</th>\n",
       "      <td>VISrl</td>\n",
       "      <td>706</td>\n",
       "    </tr>\n",
       "  </tbody>\n",
       "</table>\n",
       "</div>"
      ],
      "text/plain": [
       "  ecephys_structure_acronym  n_units\n",
       "0                       LGd      254\n",
       "1                        LP      599\n",
       "2                     VISal      928\n",
       "3                     VISam      912\n",
       "4                      VISl      727\n",
       "5                      VISp     1063\n",
       "6                     VISpm      586\n",
       "7                     VISrl      706"
      ]
     },
     "execution_count": 41,
     "metadata": {},
     "output_type": "execute_result"
    }
   ],
   "source": [
    "units_per_area_df = units_subset_df_quality.groupby(by='ecephys_structure_acronym', as_index=False)['unit_id'].count()\n",
    "units_per_area_df.rename(columns={'unit_id':'n_units'}, inplace=True)\n",
    "units_per_area_df"
   ]
  },
  {
   "cell_type": "code",
   "execution_count": 52,
   "id": "648285a3-c1db-467c-98a2-f925bb7bdf4a",
   "metadata": {},
   "outputs": [
    {
     "data": {
      "image/png": "[encoded data removed]",
      "text/plain": [
       "<Figure size 500x200 with 1 Axes>"
      ]
     },
     "metadata": {},
     "output_type": "display_data"
    }
   ],
   "source": [
    "fig, axes = plt.subplots(1,1, figsize=(5,2))\n",
    "\n",
    "sns.barplot(ax=axes, x='ecephys_structure_acronym', y='n_units', data=units_per_area_df, \n",
    "            color='slategray', edgecolor='white', order=brain_areas)\n",
    "labels = [str(int(v)) if v else '' for v in axes.containers[0].datavalues]\n",
    "axes.bar_label(axes.containers[0], labels=labels)\n",
    "axes.set_xlabel('Brain area')\n",
    "axes.set_ylabel('N units')\n",
    "axes.set_xticks(brain_areas)\n",
    "axes.set_xticklabels(brain_areas_names)\n",
    "\n",
    "axes.set_title(f'Total n units = {len(units_subset_df_quality)}', y=1.05)\n",
    "\n",
    "sns.despine()\n",
    "\n",
    "if save_fig:\n",
    "    plt.savefig(fig_folder + 'n_units_per_area.png' , bbox_inches='tight', dpi=300)\n",
    "    plt.savefig(fig_folder + 'n_units_per_area.svg' , bbox_inches='tight')"
   ]
  },
  {
   "cell_type": "markdown",
   "id": "2b1d434c-b982-4673-98fb-1d6de6e29556",
   "metadata": {},
   "source": [
    "#### Firing rate per area"
   ]
  },
  {
   "cell_type": "code",
   "execution_count": 53,
   "id": "efa95c83-1e8c-483d-a19c-2bf364fc138d",
   "metadata": {},
   "outputs": [
    {
     "data": {
      "image/png": "[encoded data removed]",
      "text/plain": [
       "<Figure size 500x200 with 1 Axes>"
      ]
     },
     "metadata": {},
     "output_type": "display_data"
    }
   ],
   "source": [
    "fig, axes = plt.subplots(1, 1, figsize=(5,2))\n",
    "\n",
    "sns.violinplot(ax=axes, x='ecephys_structure_acronym', y='fr_hz_spont_30min_log10', data=units_subset_df_quality, \n",
    "               cut=0, density_norm='width', color='slategray', order=brain_areas)\n",
    "axes.set_xlabel('Brain area')\n",
    "axes.set_ylabel('Log10 of firing rate (Hz)')\n",
    "axes.set_xticks(brain_areas)\n",
    "axes.set_xticklabels(brain_areas_names)\n",
    "\n",
    "sns.despine()\n",
    "\n",
    "if save_fig:\n",
    "    plt.savefig(fig_folder + 'fr_per_area.png' , bbox_inches='tight', dpi=300)\n",
    "    plt.savefig(fig_folder + 'fr_per_area.svg' , bbox_inches='tight')"
   ]
  }
 ],
 "metadata": {
  "kernelspec": {
   "display_name": "Python 3 (ipykernel)",
   "language": "python",
   "name": "python3"
  },
  "language_info": {
   "codemirror_mode": {
    "name": "ipython",
    "version": 3
   },
   "file_extension": ".py",
   "mimetype": "text/x-python",
   "name": "python",
   "nbconvert_exporter": "python",
   "pygments_lexer": "ipython3",
   "version": "3.12.9"
  }
 },
 "nbformat": 4,
 "nbformat_minor": 5
}
