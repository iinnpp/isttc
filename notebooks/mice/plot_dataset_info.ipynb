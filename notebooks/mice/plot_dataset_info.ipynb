{
 "cells": [
  {
   "cell_type": "markdown",
   "id": "2de69874-886e-4f3e-b328-578ae1dff0bc",
   "metadata": {},
   "source": [
    "Plot info about Allen dataset subset that we use.\n",
    "\n",
    "We use 8 areas: 6 visual cortical areas (V1, LM, AL, RL, AM, PM) and 2 thalamic (LGN, LP).\n",
    "\n",
    "below mapping from Rudelt at el (found in github code):\n",
    "    structures = [\"VISp\", \"VISl\", \"VISrl\", \"VISal\", \"VISpm\", \"VISam\", \"LGd\", \"LP\"]\n",
    "    structures_names = [\"V1\", \"LM\", \"RL\", \"AL\", \"PM\", \"AM\", \"LGN\", \"LP\"]\n",
    "\n",
    "Plots based on 30min dataset (trimmed beforehand)."
   ]
  },
  {
   "cell_type": "code",
   "execution_count": 1,
   "id": "2a8f25aa-0ada-4d96-8331-8ef9270d3c87",
   "metadata": {},
   "outputs": [],
   "source": [
    "import csv\n",
    "import numpy as np\n",
    "import pandas as pd\n",
    "import matplotlib as mpl\n",
    "import matplotlib.pyplot as plt\n",
    "import seaborn as sns\n",
    "\n",
    "from isttc.scripts.cfg_global import project_folder_path"
   ]
  },
  {
   "cell_type": "code",
   "execution_count": 2,
   "id": "6d32c99f-a11d-43ba-847d-0b3bc9adf081",
   "metadata": {},
   "outputs": [],
   "source": [
    "mpl.rcParams['pdf.fonttype'] = 42\n",
    "mpl.rcParams['ps.fonttype'] = 42\n",
    "plt.rcParams['svg.fonttype'] = 'none'"
   ]
  },
  {
   "cell_type": "code",
   "execution_count": 3,
   "id": "30daf447-8a16-47ab-a703-6ab6db6fbda4",
   "metadata": {},
   "outputs": [],
   "source": [
    "dataset_folder = project_folder_path + 'results\\\\mice\\\\dataset\\\\'\n",
    "fig_folder = project_folder_path + 'results\\\\mice\\\\fig_draft_paper\\\\'"
   ]
  },
  {
   "cell_type": "code",
   "execution_count": 4,
   "id": "40c04352-f477-4a8c-b006-cce15738d234",
   "metadata": {},
   "outputs": [],
   "source": [
    "# the order is like in Siegle paper\n",
    "brain_areas = ['LGd', 'VISp', 'VISl', 'VISrl', 'LP', 'VISal', 'VISpm', 'VISam']\n",
    "brain_areas_names = ['LGN', 'V1', 'LM', 'RL', 'LP', 'AL', 'PM', 'AM']\n",
    "\n",
    "# quality thresholds\n",
    "amplitude_cutoff = 0.01 # Allen default is 0.1, this one is from Rudelt\n",
    "isi_violations = 0.5 # default Allen\n",
    "presence_ratio = 0.9 # default Allen\n",
    "\n",
    "quality_query = 'amplitude_cutoff < @amplitude_cutoff and isi_violations < @isi_violations and presence_ratio > @presence_ratio'"
   ]
  },
  {
   "cell_type": "markdown",
   "id": "30003822-4286-47c1-aafb-f08c05942e65",
   "metadata": {},
   "source": [
    "### Get data"
   ]
  },
  {
   "cell_type": "code",
   "execution_count": 5,
   "id": "dd37d0b9-507d-450c-b1b4-cf29b9064b1a",
   "metadata": {},
   "outputs": [],
   "source": [
    "regenerate = False\n",
    "\n",
    "min_to_keep = 30"
   ]
  },
  {
   "cell_type": "code",
   "execution_count": 6,
   "id": "f2efb0ed-7a47-4dc1-a2c7-1647b169184e",
   "metadata": {},
   "outputs": [],
   "source": [
    "if regenerate:\n",
    "    csv_data_file = dataset_folder + 'cut_' + str(min_to_keep) + 'min\\\\sua_list.csv'\n",
    "    with open(csv_data_file, newline='') as f:\n",
    "        reader = csv.reader(f)\n",
    "        sua_list = list(reader)\n",
    "    print(f'Loaded N units {len(sua_list)}')\n",
    "    \n",
    "    column_names = [\"specimen_id\", \"session_id\", \"unit_id\", \"ecephys_structure_acronym\", 'firing_rate', 'amplitude_cutoff', 'isi_violations', 'presence_ratio']\n",
    "    units_df = pd.DataFrame([row[:8] for row in sua_list], columns=column_names)\n",
    "    units_df[['firing_rate', 'amplitude_cutoff', 'isi_violations', 'presence_ratio']] = \\\n",
    "        units_df[['firing_rate', 'amplitude_cutoff', 'isi_violations', 'presence_ratio']].astype(float)\n",
    "    n_spikes_l = [len(row[8:]) for row in sua_list]\n",
    "    fr_hz_spont_min_l = [n_spikes / (min_to_keep * 60) for n_spikes in n_spikes_l]\n",
    "    units_df['fr_hz_spont_min'] = fr_hz_spont_min_l\n",
    "    units_df['fr_hz_spont_min_log10'] = np.log10(units_df['fr_hz_spont_min'])\n",
    "    print(f'N units from all areas {len(units_df)}')\n",
    "    \n",
    "    units_subset_df = units_df[units_df['ecephys_structure_acronym'].isin(brain_areas)].copy()\n",
    "    print(f'N units from 8 areas {len(units_subset_df)}')\n",
    "    \n",
    "    units_subset_df_quality = units_subset_df.query(quality_query).copy()\n",
    "    print(f'N units from 8 areas constraints by quality metrics {len(units_subset_df_quality)}')\n",
    "\n",
    "    included_units = units_subset_df_quality['unit_id'].values\n",
    "    sua_list_subset = [row for row in sua_list if row[2] in included_units]\n",
    "\n",
    "    verbose = False\n",
    "    output_filename = dataset_folder + 'cut_' + str(min_to_keep) + 'min\\\\sua_list_constrained.csv'\n",
    "    with open(output_filename, 'a', newline='') as f:\n",
    "        writer = csv.writer(f)\n",
    "        for unit in sua_list_subset:\n",
    "            if verbose:\n",
    "                print('Writing unit {}'.format(unit[2]))\n",
    "            writer.writerow(unit)\n",
    "else:\n",
    "    units_subset_df_quality = pd.read_pickle(dataset_folder + 'cut_' + str(min_to_keep) + 'min\\\\sua_list_constrained_units_df.pkl')"
   ]
  },
  {
   "cell_type": "markdown",
   "id": "84df7b0b-e604-4bc8-820e-75b96718a522",
   "metadata": {},
   "source": [
    "### Plot"
   ]
  },
  {
   "cell_type": "code",
   "execution_count": null,
   "id": "71013901-7ea3-4203-ad07-a2ab7e08f461",
   "metadata": {},
   "outputs": [],
   "source": [
    "units_subset_df_quality"
   ]
  },
  {
   "cell_type": "code",
   "execution_count": 7,
   "id": "ba0df339-84bc-4f79-a29c-444226fa5114",
   "metadata": {},
   "outputs": [],
   "source": [
    "save_fig = False"
   ]
  },
  {
   "cell_type": "markdown",
   "id": "db4ca5ca-8dc7-4c36-91cd-de50dcf8bd12",
   "metadata": {},
   "source": [
    "#### Number of units per area"
   ]
  },
  {
   "cell_type": "code",
   "execution_count": null,
   "id": "0695180d-016f-44bf-95c8-76478b357243",
   "metadata": {},
   "outputs": [],
   "source": [
    "counts = units_subset_df_quality.groupby('ecephys_structure_acronym')['specimen_id'].nunique()\n",
    "counts"
   ]
  },
  {
   "cell_type": "code",
   "execution_count": null,
   "id": "8441e9aa-8f0a-4a7c-b8d5-7a456cd65468",
   "metadata": {},
   "outputs": [],
   "source": [
    "counts = units_subset_df_quality['specimen_id'].nunique()\n",
    "counts"
   ]
  },
  {
   "cell_type": "code",
   "execution_count": null,
   "id": "684610cb-a113-4394-b33a-05dfb85caef4",
   "metadata": {},
   "outputs": [],
   "source": [
    "units_per_area_df = units_subset_df_quality.groupby(by='ecephys_structure_acronym', as_index=False)['unit_id'].count()\n",
    "units_per_area_df.rename(columns={'unit_id':'n_units'}, inplace=True)\n",
    "units_per_area_df"
   ]
  },
  {
   "cell_type": "code",
   "execution_count": null,
   "id": "648285a3-c1db-467c-98a2-f925bb7bdf4a",
   "metadata": {},
   "outputs": [],
   "source": [
    "fig, axes = plt.subplots(1,1, figsize=(5,2))\n",
    "\n",
    "sns.barplot(ax=axes, x='ecephys_structure_acronym', y='n_units', data=units_per_area_df, \n",
    "            color='slategray', edgecolor='white', order=brain_areas)\n",
    "labels = [str(int(v)) if v else '' for v in axes.containers[0].datavalues]\n",
    "axes.bar_label(axes.containers[0], labels=labels)\n",
    "axes.set_xlabel('Brain area')\n",
    "axes.set_ylabel('N units')\n",
    "axes.set_xticks(brain_areas)\n",
    "axes.set_xticklabels(brain_areas_names)\n",
    "\n",
    "axes.set_title(f'Total n units = {len(units_subset_df_quality)}', y=1.05)\n",
    "\n",
    "sns.despine()\n",
    "\n",
    "if save_fig:\n",
    "    plt.savefig(fig_folder + 'n_units_per_area.png' , bbox_inches='tight', dpi=300)\n",
    "    plt.savefig(fig_folder + 'n_units_per_area.svg' , bbox_inches='tight')"
   ]
  },
  {
   "cell_type": "markdown",
   "id": "2b1d434c-b982-4673-98fb-1d6de6e29556",
   "metadata": {},
   "source": [
    "#### Firing rate per area"
   ]
  },
  {
   "cell_type": "code",
   "execution_count": 9,
   "id": "06592e0d-8fdf-463d-a338-ab84d3854cb1",
   "metadata": {},
   "outputs": [
    {
     "data": {
      "text/html": [
       "<div>\n",
       "<style scoped>\n",
       "    .dataframe tbody tr th:only-of-type {\n",
       "        vertical-align: middle;\n",
       "    }\n",
       "\n",
       "    .dataframe tbody tr th {\n",
       "        vertical-align: top;\n",
       "    }\n",
       "\n",
       "    .dataframe thead th {\n",
       "        text-align: right;\n",
       "    }\n",
       "</style>\n",
       "<table border=\"1\" class=\"dataframe\">\n",
       "  <thead>\n",
       "    <tr style=\"text-align: right;\">\n",
       "      <th></th>\n",
       "      <th>firing_rate</th>\n",
       "      <th>amplitude_cutoff</th>\n",
       "      <th>isi_violations</th>\n",
       "      <th>presence_ratio</th>\n",
       "      <th>fr_hz_spont_30min</th>\n",
       "      <th>fr_hz_spont_30min_log10</th>\n",
       "    </tr>\n",
       "  </thead>\n",
       "  <tbody>\n",
       "    <tr>\n",
       "      <th>count</th>\n",
       "      <td>5775.000000</td>\n",
       "      <td>5.775000e+03</td>\n",
       "      <td>5775.000000</td>\n",
       "      <td>5775.000000</td>\n",
       "      <td>5775.000000</td>\n",
       "      <td>5775.000000</td>\n",
       "    </tr>\n",
       "    <tr>\n",
       "      <th>mean</th>\n",
       "      <td>6.314318</td>\n",
       "      <td>2.208872e-03</td>\n",
       "      <td>0.060883</td>\n",
       "      <td>0.987943</td>\n",
       "      <td>6.130562</td>\n",
       "      <td>0.493687</td>\n",
       "    </tr>\n",
       "    <tr>\n",
       "      <th>std</th>\n",
       "      <td>7.042870</td>\n",
       "      <td>2.542759e-03</td>\n",
       "      <td>0.099024</td>\n",
       "      <td>0.006802</td>\n",
       "      <td>7.231440</td>\n",
       "      <td>0.564195</td>\n",
       "    </tr>\n",
       "    <tr>\n",
       "      <th>min</th>\n",
       "      <td>0.064993</td>\n",
       "      <td>8.935552e-07</td>\n",
       "      <td>0.000000</td>\n",
       "      <td>0.950000</td>\n",
       "      <td>0.023889</td>\n",
       "      <td>-1.621804</td>\n",
       "    </tr>\n",
       "    <tr>\n",
       "      <th>25%</th>\n",
       "      <td>1.684944</td>\n",
       "      <td>2.722624e-04</td>\n",
       "      <td>0.001087</td>\n",
       "      <td>0.990000</td>\n",
       "      <td>1.328889</td>\n",
       "      <td>0.123489</td>\n",
       "    </tr>\n",
       "    <tr>\n",
       "      <th>50%</th>\n",
       "      <td>3.904053</td>\n",
       "      <td>1.113503e-03</td>\n",
       "      <td>0.016035</td>\n",
       "      <td>0.990000</td>\n",
       "      <td>3.498333</td>\n",
       "      <td>0.543861</td>\n",
       "    </tr>\n",
       "    <tr>\n",
       "      <th>75%</th>\n",
       "      <td>8.648506</td>\n",
       "      <td>3.348794e-03</td>\n",
       "      <td>0.070154</td>\n",
       "      <td>0.990000</td>\n",
       "      <td>8.710556</td>\n",
       "      <td>0.940046</td>\n",
       "    </tr>\n",
       "    <tr>\n",
       "      <th>max</th>\n",
       "      <td>69.693776</td>\n",
       "      <td>9.982543e-03</td>\n",
       "      <td>0.499671</td>\n",
       "      <td>0.990000</td>\n",
       "      <td>73.933889</td>\n",
       "      <td>1.868844</td>\n",
       "    </tr>\n",
       "  </tbody>\n",
       "</table>\n",
       "</div>"
      ],
      "text/plain": [
       "       firing_rate  amplitude_cutoff  isi_violations  presence_ratio  \\\n",
       "count  5775.000000      5.775000e+03     5775.000000     5775.000000   \n",
       "mean      6.314318      2.208872e-03        0.060883        0.987943   \n",
       "std       7.042870      2.542759e-03        0.099024        0.006802   \n",
       "min       0.064993      8.935552e-07        0.000000        0.950000   \n",
       "25%       1.684944      2.722624e-04        0.001087        0.990000   \n",
       "50%       3.904053      1.113503e-03        0.016035        0.990000   \n",
       "75%       8.648506      3.348794e-03        0.070154        0.990000   \n",
       "max      69.693776      9.982543e-03        0.499671        0.990000   \n",
       "\n",
       "       fr_hz_spont_30min  fr_hz_spont_30min_log10  \n",
       "count        5775.000000              5775.000000  \n",
       "mean            6.130562                 0.493687  \n",
       "std             7.231440                 0.564195  \n",
       "min             0.023889                -1.621804  \n",
       "25%             1.328889                 0.123489  \n",
       "50%             3.498333                 0.543861  \n",
       "75%             8.710556                 0.940046  \n",
       "max            73.933889                 1.868844  "
      ]
     },
     "execution_count": 9,
     "metadata": {},
     "output_type": "execute_result"
    }
   ],
   "source": [
    "units_subset_df_quality.describe()"
   ]
  },
  {
   "cell_type": "code",
   "execution_count": 8,
   "id": "efa95c83-1e8c-483d-a19c-2bf364fc138d",
   "metadata": {},
   "outputs": [
    {
     "data": {
      "image/png": "[encoded data removed]",
      "text/plain": [
       "<Figure size 500x200 with 1 Axes>"
      ]
     },
     "metadata": {},
     "output_type": "display_data"
    }
   ],
   "source": [
    "fig, axes = plt.subplots(1, 1, figsize=(5,2))\n",
    "\n",
    "sns.violinplot(ax=axes, x='ecephys_structure_acronym', y='fr_hz_spont_30min_log10', data=units_subset_df_quality, \n",
    "               cut=0, density_norm='width', color='slategray', order=brain_areas)\n",
    "axes.set_xlabel('Brain area')\n",
    "axes.set_ylabel('Log10 of firing rate (Hz)')\n",
    "axes.set_xticks(brain_areas)\n",
    "axes.set_xticklabels(brain_areas_names)\n",
    "\n",
    "sns.despine()\n",
    "\n",
    "if save_fig:\n",
    "    plt.savefig(fig_folder + 'fr_per_area.png' , bbox_inches='tight', dpi=300)\n",
    "    plt.savefig(fig_folder + 'fr_per_area.svg' , bbox_inches='tight')"
   ]
  },
  {
   "cell_type": "code",
   "execution_count": null,
   "id": "87fd8ee4-a93f-4e0c-80eb-a13db13cff8d",
   "metadata": {},
   "outputs": [],
   "source": [
    "fig, axes = plt.subplots(1, 1, figsize=(3,4))\n",
    "\n",
    "sns.violinplot(ax=axes, y='fr_hz_spont_30min_log10', data=units_subset_df_quality, \n",
    "               cut=0, density_norm='width', color='slategray')\n",
    "axes.set_xlabel('All brain areas')\n",
    "axes.set_ylabel('Log10 of firing rate (Hz)')\n",
    "axes.axhline(y=np.log10(0.01))\n",
    "axes.axhline(y=np.log10(10))\n",
    "axes.set_title('blue lines - synthetic data range')\n",
    "\n",
    "sns.despine()\n",
    "\n",
    "if save_fig:\n",
    "    plt.savefig(fig_folder + 'fr_all_area.png' , bbox_inches='tight', dpi=300)\n",
    "    plt.savefig(fig_folder + 'fr_all_area.svg' , bbox_inches='tight')"
   ]
  }
 ],
 "metadata": {
  "kernelspec": {
   "display_name": "Python 3 (ipykernel)",
   "language": "python",
   "name": "python3"
  },
  "language_info": {
   "codemirror_mode": {
    "name": "ipython",
    "version": 3
   },
   "file_extension": ".py",
   "mimetype": "text/x-python",
   "name": "python",
   "nbconvert_exporter": "python",
   "pygments_lexer": "ipython3",
   "version": "3.12.9"
  }
 },
 "nbformat": 4,
 "nbformat_minor": 5
}
