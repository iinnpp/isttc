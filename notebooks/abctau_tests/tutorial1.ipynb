{
 "cells": [
  {
   "cell_type": "code",
   "execution_count": 1,
   "id": "ba33ed0b-6eda-4e3a-a4ed-5aa540a1c4ff",
   "metadata": {},
   "outputs": [
    {
     "ename": "ModuleNotFoundError",
     "evalue": "No module named 'basic_functions'",
     "output_type": "error",
     "traceback": [
      "\u001b[1;31m---------------------------------------------------------------------------\u001b[0m",
      "\u001b[1;31mModuleNotFoundError\u001b[0m                       Traceback (most recent call last)",
      "Cell \u001b[1;32mIn[1], line 12\u001b[0m\n\u001b[0;32m     10\u001b[0m sys\u001b[38;5;241m.\u001b[39mpath\u001b[38;5;241m.\u001b[39mappend(\u001b[38;5;124m'\u001b[39m\u001b[38;5;124m./abcTau\u001b[39m\u001b[38;5;124m'\u001b[39m)\n\u001b[0;32m     11\u001b[0m \u001b[38;5;66;03m#sys.path.append('C:\\\\Users\\\\ipochino\\\\AppData\\\\Local\\\\anaconda3\\\\envs\\\\isttc\\\\Lib\\\\site-packages\\\\abcTau') # IP: replaced previous line with that; relative path was not working\u001b[39;00m\n\u001b[1;32m---> 12\u001b[0m \u001b[38;5;28;01mimport\u001b[39;00m \u001b[38;5;21;01mabcTau\u001b[39;00m\n",
      "File \u001b[1;32m~\\AppData\\Local\\anaconda3\\envs\\isttc\\Lib\\site-packages\\abcTau\\__init__.py:7\u001b[0m\n\u001b[0;32m      5\u001b[0m \u001b[38;5;28;01mfrom\u001b[39;00m \u001b[38;5;21;01m.\u001b[39;00m\u001b[38;5;21;01mbasic_functions\u001b[39;00m \u001b[38;5;28;01mimport\u001b[39;00m \u001b[38;5;241m*\u001b[39m\n\u001b[0;32m      6\u001b[0m \u001b[38;5;28;01mfrom\u001b[39;00m \u001b[38;5;21;01m.\u001b[39;00m\u001b[38;5;21;01mdistance_functions\u001b[39;00m \u001b[38;5;28;01mimport\u001b[39;00m \u001b[38;5;241m*\u001b[39m\n\u001b[1;32m----> 7\u001b[0m \u001b[38;5;28;01mfrom\u001b[39;00m \u001b[38;5;21;01m.\u001b[39;00m\u001b[38;5;21;01mgenerative_models\u001b[39;00m \u001b[38;5;28;01mimport\u001b[39;00m \u001b[38;5;241m*\u001b[39m\n\u001b[0;32m      8\u001b[0m \u001b[38;5;28;01mfrom\u001b[39;00m \u001b[38;5;21;01m.\u001b[39;00m\u001b[38;5;21;01msummary_stats\u001b[39;00m \u001b[38;5;28;01mimport\u001b[39;00m \u001b[38;5;241m*\u001b[39m\n\u001b[0;32m      9\u001b[0m \u001b[38;5;28;01mfrom\u001b[39;00m \u001b[38;5;21;01m.\u001b[39;00m\u001b[38;5;21;01mpreprocessing\u001b[39;00m \u001b[38;5;28;01mimport\u001b[39;00m \u001b[38;5;241m*\u001b[39m\n",
      "File \u001b[1;32m~\\AppData\\Local\\anaconda3\\envs\\isttc\\Lib\\site-packages\\abcTau\\generative_models.py:7\u001b[0m\n\u001b[0;32m      5\u001b[0m \u001b[38;5;28;01mimport\u001b[39;00m \u001b[38;5;21;01mnumpy\u001b[39;00m \u001b[38;5;28;01mas\u001b[39;00m \u001b[38;5;21;01mnp\u001b[39;00m\n\u001b[0;32m      6\u001b[0m \u001b[38;5;28;01mfrom\u001b[39;00m \u001b[38;5;21;01mscipy\u001b[39;00m \u001b[38;5;28;01mimport\u001b[39;00m stats\n\u001b[1;32m----> 7\u001b[0m \u001b[38;5;28;01mfrom\u001b[39;00m \u001b[38;5;21;01mbasic_functions\u001b[39;00m \u001b[38;5;28;01mimport\u001b[39;00m \u001b[38;5;241m*\u001b[39m\n\u001b[0;32m     11\u001b[0m \u001b[38;5;28;01mdef\u001b[39;00m \u001b[38;5;21moneTauOU\u001b[39m(theta, deltaT, binSize, T, numTrials, data_mean, data_var):\n\u001b[0;32m     12\u001b[0m \u001b[38;5;250m    \u001b[39m\u001b[38;5;124;03m\"\"\"Generate an OU process with a single timescale.\u001b[39;00m\n\u001b[0;32m     13\u001b[0m \n\u001b[0;32m     14\u001b[0m \u001b[38;5;124;03m    Parameters\u001b[39;00m\n\u001b[1;32m   (...)\u001b[0m\n\u001b[0;32m     37\u001b[0m \n\u001b[0;32m     38\u001b[0m \u001b[38;5;124;03m    \"\"\"\u001b[39;00m\n",
      "\u001b[1;31mModuleNotFoundError\u001b[0m: No module named 'basic_functions'"
     ]
    }
   ],
   "source": [
    "import matplotlib.pyplot as plt\n",
    "#%matplotlib inline\n",
    "import seaborn as sns # comment this line if you don't want to use seaborn for plots\n",
    "\n",
    "import numpy as np\n",
    "from scipy import stats\n",
    "\n",
    "# add the path to the abcTau package\n",
    "import sys\n",
    "sys.path.append('./abcTau')\n",
    "#sys.path.append('C:\\\\Users\\\\ipochino\\\\AppData\\\\Local\\\\anaconda3\\\\envs\\\\isttc\\\\Lib\\\\site-packages\\\\abcTau') # IP: replaced previous line with that; relative path was not working\n",
    "import abcTau\n"
   ]
  },
  {
   "cell_type": "code",
   "execution_count": 3,
   "id": "b6c7917d-1921-4f16-9522-9c63c7945089",
   "metadata": {},
   "outputs": [
    {
     "name": "stdout",
     "output_type": "stream",
     "text": [
      "C:\\Users\\ipochino\\AppData\\Local\\anaconda3\\envs\\isttc\\python.exe\n"
     ]
    }
   ],
   "source": [
    "print(sys.executable)"
   ]
  },
  {
   "cell_type": "code",
   "execution_count": null,
   "id": "6d455679-2870-466b-9f4d-9552040eb5cb",
   "metadata": {},
   "outputs": [],
   "source": [
    "abc_tau_folder = 'D:\\\\intr_timescales\\\\abcTau-master\\\\'"
   ]
  },
  {
   "cell_type": "code",
   "execution_count": 2,
   "id": "7ca92328-75f3-4056-8996-9d8b98ea41a6",
   "metadata": {},
   "outputs": [
    {
     "data": {
      "text/plain": [
       "['abc', 'abcTau']"
      ]
     },
     "execution_count": 2,
     "metadata": {},
     "output_type": "execute_result"
    }
   ],
   "source": [
    "import pkgutil\n",
    "[p.name for p in pkgutil.iter_modules() if p.name.lower().startswith(\"abc\")]"
   ]
  },
  {
   "cell_type": "markdown",
   "id": "f8b4381b-e596-4966-817a-cde9ebb82677",
   "metadata": {},
   "source": [
    "### Step 1: Extracting required statistics from real data"
   ]
  },
  {
   "cell_type": "code",
   "execution_count": null,
   "id": "5721eb8e-b8c4-4e4a-9394-46bbf84e2dc6",
   "metadata": {},
   "outputs": [],
   "source": [
    "#---------- load real data  (OU process with one timescale)\n",
    "dataload_path = abc_tau_folder + 'example_data/'\n",
    "filename = 'OU_tau100_T1000_fs1000_trials500'\n",
    "data_load = np.load(dataload_path + filename + '.npy')\n",
    "\n",
    "#---------- extract statistics from real data\n",
    "# select summary statistics metric\n",
    "summStat_metric = 'comp_ac_fft'\n",
    "ifNorm = True # if normalize the autocorrelation or PSD\n",
    "deltaT = 1 # temporal resolution of data.\n",
    "binSize = 1 #  bin-size for binning data and computing the autocorrelation.\n",
    "disp = None # put the dispersion parameter if computed with grid-search\n",
    "maxTimeLag = 500 # only used when using autocorrelation for summary statistics\n",
    "lm = round(maxTimeLag/binSize) # maximum bin for autocorrelation computation\n",
    "data_ac, data_mean, data_var, T, numTrials = abcTau.preprocessing.extract_stats(data_load, deltaT, binSize,\\\n",
    "                                                                                  summStat_metric, ifNorm, maxTimeLag)"
   ]
  },
  {
   "cell_type": "code",
   "execution_count": null,
   "id": "8523ab65-8678-42f1-b3fa-93fd8b058b04",
   "metadata": {},
   "outputs": [],
   "source": [
    "data_load.shape"
   ]
  },
  {
   "cell_type": "code",
   "execution_count": null,
   "id": "1c06b171-e32c-4511-9338-2308a974929a",
   "metadata": {},
   "outputs": [],
   "source": [
    "print(f'data_mean {data_mean}, data_var {data_var}')"
   ]
  },
  {
   "cell_type": "code",
   "execution_count": null,
   "id": "56db40c2-1b34-4d13-88ca-85434141e658",
   "metadata": {},
   "outputs": [],
   "source": [
    "plt.plot(data_load[0,:])\n",
    "plt.show()"
   ]
  },
  {
   "cell_type": "markdown",
   "id": "e484c33b-d31a-4960-b7fa-d56fa2276829",
   "metadata": {},
   "source": [
    "### Step 2 (optional): Check the bias in timescales estimated from exponential fits (preprocessing module using parametric bootstrapping)"
   ]
  },
  {
   "cell_type": "code",
   "execution_count": null,
   "id": "008d8763-9be9-4b3d-8976-927195ef4a4b",
   "metadata": {},
   "outputs": [],
   "source": [
    "gt_tau = 100 # ground-truth timescale\n",
    "\n",
    "# fit \n",
    "popt, poptcov = abcTau.preprocessing.fit_oneTauExponential(data_ac, binSize, maxTimeLag)\n",
    "tau = popt[1]\n",
    "\n",
    "# check if estimated timescales with exponential fit are biased or not\n",
    "theta = np.array([tau])\n",
    "numTimescales = 1\n",
    "taus_bs, taus_bs_corr, err = abcTau.preprocessing.check_expEstimates(theta, deltaT, binSize, T, numTrials,\\\n",
    "                                                                     data_mean, data_var, maxTimeLag, numTimescales,\\\n",
    "                                                                     numIter = 100, plot_it = True)"
   ]
  }
 ],
 "metadata": {
  "kernelspec": {
   "display_name": "Python 3 (ipykernel)",
   "language": "python",
   "name": "python3"
  },
  "language_info": {
   "codemirror_mode": {
    "name": "ipython",
    "version": 3
   },
   "file_extension": ".py",
   "mimetype": "text/x-python",
   "name": "python",
   "nbconvert_exporter": "python",
   "pygments_lexer": "ipython3",
   "version": "3.12.9"
  }
 },
 "nbformat": 4,
 "nbformat_minor": 5
}
