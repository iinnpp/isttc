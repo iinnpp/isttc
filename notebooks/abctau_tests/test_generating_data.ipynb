{
 "cells": [
  {
   "cell_type": "code",
   "execution_count": 1,
   "id": "9a963cc2-ed93-4e30-857a-8945b44c5e46",
   "metadata": {},
   "outputs": [],
   "source": [
    "import matplotlib.pyplot as plt\n",
    "%matplotlib inline\n",
    "import seaborn as sns # comment this line if you don't want to use seaborn for plots\n",
    "\n",
    "import numpy as np\n",
    "from scipy import stats\n",
    "\n",
    "# add the path to the abcTau package\n",
    "import sys\n",
    "#sys.path.append('./abcTau')\n",
    "sys.path.append('C:\\\\Users\\\\ipochino\\\\.conda\\\\envs\\\\isttc\\\\Lib\\\\site-packages\\\\abcTau') # IP: replaced previous line with that; relative path was not working\n",
    "import abcTau"
   ]
  },
  {
   "cell_type": "markdown",
   "id": "f1bb4166-0f2a-4768-9706-378893b6b7a3",
   "metadata": {},
   "source": [
    "### Generating single timescale spiking data"
   ]
  },
  {
   "cell_type": "code",
   "execution_count": null,
   "id": "32266cad-32ce-4509-a053-e1bc6b968cb0",
   "metadata": {},
   "outputs": [],
   "source": [
    "abc_tau_folder = 'D:\\\\intr_timescales\\\\abcTau-master\\\\'\n",
    "dataload_path = abc_tau_folder + 'example_data/'\n",
    "isttc_results_folder_path = 'Q:\\\\Personal\\\\Irina\\\\projects\\\\isttc\\\\results\\\\synthetic_data\\\\'"
   ]
  },
  {
   "cell_type": "code",
   "execution_count": null,
   "id": "3467b2af-2dcc-4baa-91bf-1cf1b878edce",
   "metadata": {},
   "outputs": [],
   "source": [
    "# load data time-series as a numpy array (numTrials * time-points)\n",
    "filename = 'OU_tau100_T1000_fs1000_trials500'\n",
    "data_load = np.load(dataload_path + filename + '.npy')\n",
    "\n",
    "# select summary statistics metric\n",
    "summStat_metric = 'comp_ac_fft'\n",
    "ifNorm = True # if normalize the autocorrelation or PSD\n",
    "\n",
    "# extract statistics from real data\n",
    "deltaT = 1 # temporal resolution of data.\n",
    "binSize = 1 #  bin-size for binning data and computing the autocorrelation.\n",
    "disp = None # put the dispersion parameter if computed with grid-search\n",
    "maxTimeLag = 50 # only used when using autocorrelation for summary statistics\n",
    "data_sumStat, data_mean, data_var, T, numTrials =  abcTau.preprocessing.extract_stats(data_load, deltaT, binSize,\\\n",
    "                                                                                  summStat_metric, ifNorm, maxTimeLag)"
   ]
  },
  {
   "cell_type": "code",
   "execution_count": null,
   "id": "8cb5039b-9eb7-4ded-95ed-cb08dd7d58bf",
   "metadata": {},
   "outputs": [],
   "source": [
    "print(data_mean, data_var)"
   ]
  },
  {
   "cell_type": "code",
   "execution_count": null,
   "id": "463ca59c-7f1e-47ce-9af4-cabc3ad3dcf3",
   "metadata": {},
   "outputs": [],
   "source": [
    "sns.heatmap(data_load) # is it z-scored binned data?"
   ]
  },
  {
   "cell_type": "code",
   "execution_count": null,
   "id": "327a9e94-e08a-41db-9534-99391c6aa3f0",
   "metadata": {},
   "outputs": [],
   "source": [
    "print('data_sumStat {}, data_mean {}, data_var {}, T {}, numTrials {}'.format(data_sumStat, data_mean, data_var, T, numTrials))"
   ]
  },
  {
   "cell_type": "code",
   "execution_count": null,
   "id": "e6010a5d-06e5-467b-bf9c-862ff7ac9764",
   "metadata": {},
   "outputs": [],
   "source": [
    "gt_tau = 100 # ground-truth timescale\n",
    "\n",
    "# fit \n",
    "popt, poptcov = abcTau.preprocessing.fit_oneTauExponential(data_sumStat, binSize, maxTimeLag)\n",
    "tau = popt[1]\n",
    "\n",
    "# check if estimated timescales with exponential fit are biased or not\n",
    "theta = np.array([tau])"
   ]
  },
  {
   "cell_type": "code",
   "execution_count": null,
   "id": "40189f8e-7f07-4ad2-b7ff-e26b6dba6c3b",
   "metadata": {},
   "outputs": [],
   "source": [
    "theta = np.array([20])\n",
    "generativeModel = 'oneTauOU'\n",
    "syn_data, numBinData =  eval('abcTau.generative_models.' + generativeModel + \\\n",
    "                             '(theta, deltaT, binSize, T, numTrials, data_mean, data_var)')\n",
    "sns.heatmap(syn_data) # is it z-scored binned data?"
   ]
  },
  {
   "cell_type": "code",
   "execution_count": null,
   "id": "1efd7249-8496-447d-836d-91dec4d59c80",
   "metadata": {},
   "outputs": [],
   "source": [
    "theta = np.array([150])\n",
    "generativeModel = 'oneTauOU'\n",
    "syn_data, numBinData =  eval('abcTau.generative_models.' + generativeModel + \\\n",
    "                             '(theta, deltaT, binSize, T, numTrials, data_mean, data_var)')\n",
    "sns.heatmap(syn_data) # is it z-scored binned data?"
   ]
  },
  {
   "cell_type": "code",
   "execution_count": null,
   "id": "f1ef453c-8624-44f6-8e62-0f09398c3d17",
   "metadata": {},
   "outputs": [],
   "source": [
    "syn_data_ = np.random.poisson(syn_data)"
   ]
  },
  {
   "cell_type": "code",
   "execution_count": null,
   "id": "c879b626-7dc8-4cec-ab5a-f61b91b98195",
   "metadata": {},
   "outputs": [],
   "source": [
    "theta = np.array([20])\n",
    "generativeModel = 'oneTauOU_poissonSpikes'\n",
    "syn_data, numBinData =  eval('abcTau.generative_models.' + generativeModel + \\\n",
    "                             '(theta, deltaT, binSize, T, numTrials, data_mean, data_var)')\n",
    "sns.heatmap(syn_data) "
   ]
  },
  {
   "cell_type": "code",
   "execution_count": null,
   "id": "41a3e5dd-beac-4bf6-9b29-d9a6c95fb908",
   "metadata": {},
   "outputs": [],
   "source": [
    "theta = np.array([150])\n",
    "#disp=1\n",
    "generativeModel = 'oneTauOU_poissonSpikes'\n",
    "syn_data, numBinData =  eval('abcTau.generative_models.' + generativeModel + \\\n",
    "                             '(theta, deltaT, binSize, T, numTrials, data_mean, data_var)')\n",
    "sns.heatmap(syn_data) "
   ]
  },
  {
   "cell_type": "markdown",
   "id": "393a083b-60b7-4777-862b-c53ede003788",
   "metadata": {},
   "source": [
    "### Tests"
   ]
  },
  {
   "cell_type": "code",
   "execution_count": null,
   "id": "2aabfd34-94d0-4a1f-b00b-b2d5fbb3fe31",
   "metadata": {},
   "outputs": [],
   "source": [
    "def OU_gen(tau, D, deltaT, T, numTrials):\n",
    "    \"\"\"Generate an OU process with a single timescale, zero mean and unit variance.\n",
    "\n",
    "    Parameters\n",
    "    -----------\n",
    "    tau : float\n",
    "        timescale.\n",
    "    D : float\n",
    "        diffusion parameter.\n",
    "    deltaT : float\n",
    "        temporal resolution for the OU process generation.    \n",
    "    T : float\n",
    "        duration of trials.\n",
    "    numTrials : float\n",
    "        number of trials.\n",
    "    \n",
    "    \n",
    "    Returns\n",
    "    -------\n",
    "    ou : nd array\n",
    "        array of generated OU process (numTrials * (T/deltaT)).\n",
    "    \"\"\"\n",
    "    \n",
    "    numBin = int(T/deltaT)\n",
    "    noise =  np.random.normal(loc=0,scale=1, size=(numTrials,numBin))\n",
    "    ou = np.zeros((numTrials,numBin))\n",
    "    ou[:,0] = noise[:,0]\n",
    "    for iBin in range(1,numBin):\n",
    "        ou[:,iBin]  = ou[:,iBin-1] - (ou[:,iBin-1]/tau) * deltaT + np.sqrt(2*D*deltaT) * noise[:,iBin-1]\n",
    "        \n",
    "    return ou\n",
    "\n",
    "def binData(data, new_shape):\n",
    "    \"\"\"bin time-series.\n",
    "\n",
    "    Parameters\n",
    "    -----------\n",
    "    data : nd array\n",
    "        time-series (numTrials * time-points).\n",
    "    new_shape : 1d array\n",
    "        [numTrials, numBin]\n",
    "    \n",
    "    Returns\n",
    "    -------\n",
    "    binned_data : nd array\n",
    "        binned time-series (numTrials * numBin).\n",
    "    \"\"\"\n",
    "    \n",
    "    shape = (new_shape[0], data.shape[0] // new_shape[0],\n",
    "             new_shape[1], data.shape[1] // new_shape[1])\n",
    "    binned_data = data.reshape(shape).sum(-1).sum(1)\n",
    "    return binned_data"
   ]
  },
  {
   "cell_type": "code",
   "execution_count": null,
   "id": "7ce82c0f-3e00-4e32-834d-1a5525362f68",
   "metadata": {},
   "outputs": [],
   "source": [
    "theta = np.array([200])\n",
    "data_mean = 1\n",
    "data_var = 2.1\n",
    "binSize = 50\n",
    "deltaT = 1\n",
    "numTrials = 500\n",
    "T = 1000*5 # ms"
   ]
  },
  {
   "cell_type": "code",
   "execution_count": null,
   "id": "aa415a48-7743-4231-af6a-7e4f4bdd3b19",
   "metadata": {},
   "outputs": [],
   "source": [
    "# load params\n",
    "tau = np.array(theta[0])    \n",
    "\n",
    "# setting the params of OU\n",
    "v = 1\n",
    "D = v/tau\n",
    "\n",
    "ou_std =  np.sqrt(data_var - data_mean)/deltaT# law of total variance  \n",
    "ou_mean = data_mean/deltaT # law of total expectation\n",
    "binsData =  np.arange(0, T + binSize, binSize)\n",
    "numBinData = len(binsData)-1\n",
    "\n",
    "# generate OU\n",
    "ou_all = OU_gen(tau, D, deltaT, T, numTrials)\n",
    "\n",
    "#ou_check = np.max(ou_all)\n",
    "#if not np.isfinite(ou_check) or ou_check>10**10: # check for all-nan values\n",
    "#    return np.zeros((numTrials,numBinData)), numBinData\n",
    "\n",
    "# fit mean and var\n",
    "ou_all = ou_std * ou_all + ou_mean\n",
    "ou_all[ou_all < 0] = 0"
   ]
  },
  {
   "cell_type": "code",
   "execution_count": null,
   "id": "393b06a5-4dcb-4515-9812-499ae1fdbde7",
   "metadata": {},
   "outputs": [],
   "source": [
    "ou_all.shape"
   ]
  },
  {
   "cell_type": "code",
   "execution_count": null,
   "id": "0563ef62-0eba-41e4-b50a-8636f6c6a09c",
   "metadata": {},
   "outputs": [],
   "source": [
    "sns.heatmap(ou_all) "
   ]
  },
  {
   "cell_type": "code",
   "execution_count": null,
   "id": "11530596-200d-4e32-93bb-3a41df2bcda4",
   "metadata": {},
   "outputs": [],
   "source": [
    "rate_sum_binned = binData(ou_all, [numTrials,numBinData]) * deltaT\n",
    "print(rate_sum_binned.shape)\n",
    "sns.heatmap(rate_sum_binned) "
   ]
  },
  {
   "cell_type": "code",
   "execution_count": null,
   "id": "50767984-ae61-45e0-8a1c-cb1de99f9076",
   "metadata": {},
   "outputs": [],
   "source": [
    "syn_data_spike_count = np.random.poisson(ou_all)\n",
    "sns.heatmap(syn_data_spike_count) "
   ]
  },
  {
   "cell_type": "code",
   "execution_count": null,
   "id": "699050ae-d7bb-45d0-9572-53e6bec2582a",
   "metadata": {},
   "outputs": [],
   "source": [
    "syn_data_binned_spike_count = np.random.poisson(rate_sum_binned)\n",
    "sns.heatmap(syn_data_binned_spike_count) "
   ]
  },
  {
   "cell_type": "code",
   "execution_count": null,
   "id": "34516cf9-c705-4145-a87e-37357289032e",
   "metadata": {},
   "outputs": [],
   "source": [
    "ou_all_not_binned = ou_all\n",
    "ou_all_not_binned.shape"
   ]
  },
  {
   "cell_type": "code",
   "execution_count": null,
   "id": "5af1aab0-83af-4dd4-a256-c9d629b65afe",
   "metadata": {},
   "outputs": [],
   "source": [
    "spikeTrain = np.zeros(ou_all_not_binned.shape)\n",
    "spikeTrain.shape"
   ]
  },
  {
   "cell_type": "code",
   "execution_count": null,
   "id": "3055b52a-e058-4ecd-bf0f-5cf6b48f5a83",
   "metadata": {},
   "outputs": [],
   "source": [
    "for i in range(ou_all_not_binned.shape[0]):\n",
    "    spikeTrain[i,:] = [1 if ou_all_not_binned[i,j] > np.random.random() else 0 for j in range(ou_all_not_binned.shape[1])]"
   ]
  },
  {
   "cell_type": "code",
   "execution_count": null,
   "id": "9c0c487e-53b4-4076-898c-c17663052368",
   "metadata": {},
   "outputs": [],
   "source": [
    "fig, axes = plt.subplots(1,1, figsize=(20,10))\n",
    "\n",
    "sns.heatmap(ax=axes, data=spikeTrain[:,:]) "
   ]
  },
  {
   "cell_type": "code",
   "execution_count": null,
   "id": "1f2d94f9-20dc-41ba-ad21-a20cf220b093",
   "metadata": {},
   "outputs": [],
   "source": [
    "# save spiketrain \n",
    "spikeTrain.shape\n",
    "np.save(isttc_results_folder_path + 'dataset\\\\spike_train_tau200ms_500trials_5000ms.npy', spikeTrain)"
   ]
  },
  {
   "cell_type": "code",
   "execution_count": null,
   "id": "4b1b283b-2eac-4c90-bd40-dc3c455428f1",
   "metadata": {},
   "outputs": [],
   "source": [
    "# bin the spike train\n",
    "spike_train_binned = binData(spikeTrain, [numTrials,numBinData]) * deltaT\n",
    "print(spike_train_binned.shape)\n",
    "sns.heatmap(spike_train_binned) "
   ]
  },
  {
   "cell_type": "code",
   "execution_count": null,
   "id": "2ceec64c-fc18-439a-ad17-21be16048ee8",
   "metadata": {},
   "outputs": [],
   "source": [
    "# calculate taus on that \n",
    "# select summary statistics metric\n",
    "summStat_metric = 'comp_ac_fft'\n",
    "ifNorm = True # if normalize the autocorrelation or PSD\n",
    "\n",
    "# extract statistics from real data\n",
    "deltaT = 1 # temporal resolution of data.\n",
    "binSize = 1 #  bin-size for binning data and computing the autocorrelation.\n",
    "disp = None # put the dispersion parameter if computed with grid-search\n",
    "maxTimeLag = 500 # only used when using autocorrelation for summary statistics\n",
    "data_sumStat, data_mean, data_var, T, numTrials =  abcTau.preprocessing.extract_stats(spikeTrain, deltaT, binSize,\\\n",
    "                                                                                  summStat_metric, ifNorm, maxTimeLag)"
   ]
  },
  {
   "cell_type": "code",
   "execution_count": null,
   "id": "d04e52c7-dcdb-44c3-af0c-d32ded4aab79",
   "metadata": {},
   "outputs": [],
   "source": [
    "data_sumStat"
   ]
  },
  {
   "cell_type": "code",
   "execution_count": null,
   "id": "dbbd944a-c053-4540-ad4b-dd87ab252a13",
   "metadata": {},
   "outputs": [],
   "source": [
    "# fit \n",
    "popt, poptcov = abcTau.preprocessing.fit_oneTauExponential(data_sumStat, binSize, maxTimeLag)\n",
    "tau = popt[1]\n",
    "print(tau)"
   ]
  },
  {
   "cell_type": "code",
   "execution_count": null,
   "id": "e9b22424-be7f-4efb-af42-567684fb698a",
   "metadata": {},
   "outputs": [],
   "source": [
    "from statsmodels.tsa.stattools import acf\n",
    "acf_ = acf(spike_train_binned, nlags=20)"
   ]
  },
  {
   "cell_type": "code",
   "execution_count": null,
   "id": "73cd2c07-0f16-487f-ac32-37891c52d502",
   "metadata": {},
   "outputs": [],
   "source": [
    "def func_exp(x, a, b, c):\n",
    "    \"\"\"\n",
    "    Exponential function to fit the data.\n",
    "    :param x: 1d array, independent variable\n",
    "    :param a: float, parameter to fit\n",
    "    :param b: float, parameter to fit\n",
    "    :param c: float, parameter to fit\n",
    "    :return: callable\n",
    "    \"\"\"\n",
    "    return a * np.exp(-b * x) + c\n",
    "popt, pcov = curve_fit(func_exp, np.linspace(0,20,20), v['acf'][start_idx_:], maxfev=5000)"
   ]
  }
 ],
 "metadata": {
  "kernelspec": {
   "display_name": "Python 3 (ipykernel)",
   "language": "python",
   "name": "python3"
  },
  "language_info": {
   "codemirror_mode": {
    "name": "ipython",
    "version": 3
   },
   "file_extension": ".py",
   "mimetype": "text/x-python",
   "name": "python",
   "nbconvert_exporter": "python",
   "pygments_lexer": "ipython3",
   "version": "3.12.3"
  }
 },
 "nbformat": 4,
 "nbformat_minor": 5
}
