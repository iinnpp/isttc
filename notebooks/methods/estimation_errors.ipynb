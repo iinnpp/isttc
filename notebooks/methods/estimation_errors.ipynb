{
 "cells": [
  {
   "cell_type": "code",
   "execution_count": 1,
   "id": "39e769ce-55dc-42cc-b827-ed2d9acc8eae",
   "metadata": {},
   "outputs": [],
   "source": [
    "import numpy as np\n",
    "import pandas as pd\n",
    "import pickle\n",
    "import random\n",
    "\n",
    "import os\n",
    "current_wd = os.getcwd()\n",
    "os.chdir(os.path.abspath(\"..\\\\..\\\\..\\\\isttc\\\\scripts\"))\n",
    "from cfg_global import project_folder_path\n",
    "os.chdir(current_wd)\n",
    "\n",
    "import matplotlib as mpl\n",
    "import matplotlib.pyplot as plt\n",
    "import seaborn as sns\n",
    "\n",
    "mpl.rcParams['pdf.fonttype'] = 42\n",
    "mpl.rcParams['ps.fonttype'] = 42\n",
    "plt.rcParams['svg.fonttype'] = 'none'"
   ]
  },
  {
   "cell_type": "code",
   "execution_count": 2,
   "id": "156823c6-d8c0-4607-b77d-d19fa051c25b",
   "metadata": {},
   "outputs": [],
   "source": [
    "fig_folder = project_folder_path + 'results\\\\synthetic\\\\fig_drafts_paper\\\\'"
   ]
  },
  {
   "cell_type": "code",
   "execution_count": 17,
   "id": "dcd5ac2b-f4ac-487b-b08e-bb0314abebf9",
   "metadata": {},
   "outputs": [],
   "source": [
    "save_fig = True"
   ]
  },
  {
   "cell_type": "code",
   "execution_count": 18,
   "id": "7f3cfd5f-1191-4f53-b609-272fef95874f",
   "metadata": {},
   "outputs": [
    {
     "data": {
      "image/png": "[encoded data removed]",
      "text/plain": [
       "<Figure size 800x200 with 2 Axes>"
      ]
     },
     "metadata": {},
     "output_type": "display_data"
    }
   ],
   "source": [
    "fig, axes = plt.subplots(1,2, figsize=(8, 2))\n",
    "\n",
    "axes[0].axvline(x=0, lw=1, c='k')\n",
    "axes[0].axvline(x=25, lw=0.5, c='k')\n",
    "axes[0].axvline(x=-25, lw=0.5, c='k')\n",
    "axes[0].axvline(x=100, lw=0.5, c='k')\n",
    "axes[0].axvline(x=-100, lw=0.5, c='k')\n",
    "axes[0].axvline(x=50, lw=0.5, c='k')\n",
    "axes[0].axvline(x=-50, lw=0.5, c='k')\n",
    "axes[0].axvline(x=75, lw=0.5, c='k')\n",
    "axes[0].axvline(x=-75, lw=0.5, c='k')\n",
    "axes[0].set_xlim([-125, 125])\n",
    "\n",
    "axes[0].set_xlabel('Absolute estimation error (ms)')\n",
    "\n",
    "axes[1].axvline(x=0, lw=1, c='k')\n",
    "axes[1].axvline(x=25, lw=0.5, c='k')\n",
    "axes[1].axvline(x=100, lw=0.5, c='k')\n",
    "axes[1].axvline(x=50, lw=0.5, c='k')\n",
    "axes[1].axvline(x=75, lw=0.5, c='k')\n",
    "axes[1].set_xlim([0, 125])\n",
    "\n",
    "axes[1].set_xlabel('Relative estimation error (%)')\n",
    "\n",
    "sns.despine()\n",
    "\n",
    "if save_fig:\n",
    "    plt.savefig(fig_folder + 'estimation_errors.png' , bbox_inches='tight', dpi=300)\n",
    "    plt.savefig(fig_folder + 'estimation_errors.svg' , bbox_inches='tight')"
   ]
  },
  {
   "cell_type": "code",
   "execution_count": 19,
   "id": "7372e2e9-4508-4eac-8b30-4fbc11af054d",
   "metadata": {},
   "outputs": [
    {
     "data": {
      "text/plain": [
       "316.22776601683796"
      ]
     },
     "execution_count": 19,
     "metadata": {},
     "output_type": "execute_result"
    }
   ],
   "source": [
    "10**2.5"
   ]
  }
 ],
 "metadata": {
  "kernelspec": {
   "display_name": "Python 3 (ipykernel)",
   "language": "python",
   "name": "python3"
  },
  "language_info": {
   "codemirror_mode": {
    "name": "ipython",
    "version": 3
   },
   "file_extension": ".py",
   "mimetype": "text/x-python",
   "name": "python",
   "nbconvert_exporter": "python",
   "pygments_lexer": "ipython3",
   "version": "3.12.9"
  }
 },
 "nbformat": 4,
 "nbformat_minor": 5
}
