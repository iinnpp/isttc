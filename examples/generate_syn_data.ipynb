{
 "cells": [
  {
   "cell_type": "markdown",
   "id": "cb7a34dc-2508-4032-a56b-b14cb7a82815",
   "metadata": {},
   "source": [
    "The notebooks shows how to generate synthetic spike trains."
   ]
  },
  {
   "cell_type": "code",
   "execution_count": 1,
   "id": "525b3d74-805c-4cb6-90a4-c1238315a3b0",
   "metadata": {},
   "outputs": [],
   "source": [
    "import numpy as np\n",
    "import pandas as pd\n",
    "import pickle\n",
    "from statsmodels.tsa.stattools import acf\n",
    "from datetime import datetime\n",
    "\n",
    "from isttc.spike_utils import simulate_hawkes_thinning, get_trials, bin_trials, bin_spike_train_fixed_len"
   ]
  },
  {
   "cell_type": "code",
   "execution_count": null,
   "id": "f0d0e1e0-fe36-4e1c-9982-bd34d85a4192",
   "metadata": {},
   "outputs": [],
   "source": [
    "log_every = 10\n",
    "\n",
    "fs = 1000\n",
    "n_spike_trains = 100\n",
    "n_trials = 40  \n",
    "m_iterations = 1 # n samples of trials\n",
    "bin_size = int(50 * (fs / 1000)) # 50 ms bin\n",
    "trial_len = int(1000 * (fs / 1000)) # 1000 ms trial"
   ]
  },
  {
   "cell_type": "markdown",
   "id": "9a94e6ab-06eb-4d17-a242-5982c402deff",
   "metadata": {},
   "source": [
    "### Generate continuous spike trains"
   ]
  },
  {
   "cell_type": "code",
   "execution_count": null,
   "id": "6a4154d7-160a-4b8f-8020-e87afb06cc3b",
   "metadata": {},
   "outputs": [],
   "source": [
    "rate_hz     = 2     # target firing rate (Hz)\n",
    "tau_ms      = 100.0    # desired autocorr time constant (ms)\n",
    "alpha       = 0.7     # self‐excitation weight (must be <1)\n",
    "duration_ms = 10*60*1000*1    # simulate for 10 min\n",
    "\n",
    "# generate\n",
    "all_spike_trains = []\n",
    "for trial in range(n_spike_trains):\n",
    "    spikes = simulate_hawkes_thinning(\n",
    "        fr_hz_=rate_hz,\n",
    "        tau_ms_=tau_ms,\n",
    "        alpha_=alpha,\n",
    "        duration_ms_=duration_ms,\n",
    "        seed_=trial  # different seed per trial\n",
    "    )\n",
    "    all_spike_trains.append(spikes)\n",
    "\n",
    "\n",
    "file_name = 'spike_trains.pkl'\n",
    "data = {'spike_trains': all_spike_trains,\n",
    "        'alphas': alpha,\n",
    "        'fr_values': rate_hz,\n",
    "        'tau_ms': tau_ms,\n",
    "        'duration_ms': duration_ms}\n",
    "with open(file_name, 'wb') as f:\n",
    "    pickle.dump(data, f, protocol=pickle.HIGHEST_PROTOCOL)\n",
    "\n",
    "print(f'n spike trains {len(all_spike_trains)}, len {duration_ms}')"
   ]
  },
  {
   "cell_type": "markdown",
   "id": "3bc81e02-1087-4831-be20-ba5e0394b376",
   "metadata": {},
   "source": [
    "### Generate trials"
   ]
  },
  {
   "cell_type": "code",
   "execution_count": null,
   "id": "2506f772-7111-4b62-a75c-2a26ca73ce49",
   "metadata": {},
   "outputs": [],
   "source": [
    "trial_dict = {}\n",
    "trial_binned_dict = {}\n",
    "\n",
    "for unit_idx, spikes in enumerate(all_spike_trains):\n",
    "    if unit_idx % log_every == 0:\n",
    "        print(f'Processing unit {unit_idx}')\n",
    "\n",
    "    unit_trial_dict = {}\n",
    "    unit_trial_binned_dict = {}\n",
    "\n",
    "    spikes_array = np.asarray([int(spike) for spike in spikes])\n",
    "    for m in range(m_iterations):\n",
    "        trials = get_trials(spikes_array, duration_ms, n_trials, trial_len, verbose_=False)\n",
    "        trials_binned = bin_trials(trials, trial_len, bin_size)\n",
    "\n",
    "        unit_trial_dict[m] = trials\n",
    "        unit_trial_binned_dict[m] = trials_binned\n",
    "\n",
    "    trial_dict[unit_idx] = unit_trial_dict\n",
    "    trial_binned_dict[unit_idx] = unit_trial_binned_dict\n",
    "\n",
    "\n",
    "trial_dict_full = {'trial_dict': trial_dict, \n",
    "       'n_trials': np.ones(len(trial_dict)).astype(int)*n_trials, \n",
    "       'trial_lens': np.ones(len(trial_dict)).astype(int)*trial_len}\n",
    "\n",
    "trial_binned_dict_full = {'trial_dict': trial_binned_dict, \n",
    "                   'n_trials': np.ones(len(trial_binned_dict)).astype(int)*n_trials, \n",
    "                   'trial_lens': np.ones(len(trial_binned_dict)).astype(int)*trial_len}\n",
    "\n",
    "with open('trials.pkl', 'wb') as f:\n",
    "    pickle.dump(trial_dict_full, f)\n",
    "\n",
    "with open('trials_binned.pkl', 'wb') as f:\n",
    "    pickle.dump(trial_binned_dict_full, f)"
   ]
  }
 ],
 "metadata": {
  "kernelspec": {
   "display_name": "Python 3 (ipykernel)",
   "language": "python",
   "name": "python3"
  },
  "language_info": {
   "codemirror_mode": {
    "name": "ipython",
    "version": 3
   },
   "file_extension": ".py",
   "mimetype": "text/x-python",
   "name": "python",
   "nbconvert_exporter": "python",
   "pygments_lexer": "ipython3",
   "version": "3.12.9"
  }
 },
 "nbformat": 4,
 "nbformat_minor": 5
}
